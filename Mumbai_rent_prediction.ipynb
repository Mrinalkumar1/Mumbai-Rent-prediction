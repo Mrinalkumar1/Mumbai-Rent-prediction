{
  "nbformat": 4,
  "nbformat_minor": 0,
  "metadata": {
    "colab": {
      "name": "Mumbai rent prediction",
      "provenance": [],
      "mount_file_id": "1KSYk8mnLIoFFRaA42nvED7WfrgZD-t9n",
      "authorship_tag": "ABX9TyMRFbctAthlyvM53XjRDII0",
      "include_colab_link": true
    },
    "kernelspec": {
      "name": "python3",
      "display_name": "Python 3"
    }
  },
  "cells": [
    {
      "cell_type": "markdown",
      "metadata": {
        "id": "view-in-github",
        "colab_type": "text"
      },
      "source": [
        "<a href=\"https://colab.research.google.com/github/Mrinalkumar1/Mumbai-Rent-prediction/blob/main/Mumbai_rent_prediction.ipynb\" target=\"_parent\"><img src=\"https://colab.research.google.com/assets/colab-badge.svg\" alt=\"Open In Colab\"/></a>"
      ]
    },
    {
      "cell_type": "markdown",
      "metadata": {
        "id": "zKQnjCjLvgdk"
      },
      "source": [
        "**Here we have a dataset of Mumbai's rental flat and what we are going to do is analyze the dataset and try to come up with a prediction algorithm which will help us to predict the price of the flat when we input all the columns which make a difference to price of the flat. **\r\n",
        "\r\n",
        "https://www.kaggle.com/sufyanpatel/data-science-regression-project"
      ]
    },
    {
      "cell_type": "code",
      "metadata": {
        "id": "vkxU0TJ-0Ib4"
      },
      "source": [
        "import warnings\r\n",
        "warnings.filterwarnings('ignore')"
      ],
      "execution_count": 79,
      "outputs": []
    },
    {
      "cell_type": "code",
      "metadata": {
        "id": "eWhsWa8IvbNl"
      },
      "source": [
        "import numpy as np\r\n",
        "import pandas as pd\r\n",
        "import seaborn as sns\r\n",
        "import matplotlib.pyplot as plt\r\n",
        "import math"
      ],
      "execution_count": 80,
      "outputs": []
    },
    {
      "cell_type": "code",
      "metadata": {
        "id": "_p_-S-n4vsZ9"
      },
      "source": [
        "df = pd.read_csv(\"/content/drive/MyDrive/ML Projects /Mumbai flats rent/prop_data_clean.csv\")"
      ],
      "execution_count": 81,
      "outputs": []
    },
    {
      "cell_type": "code",
      "metadata": {
        "colab": {
          "base_uri": "https://localhost:8080/",
          "height": 568
        },
        "id": "nFdLzde0v6MS",
        "outputId": "1786333a-3bf6-4d3a-f80f-564dac19be50"
      },
      "source": [
        "df.head()"
      ],
      "execution_count": 82,
      "outputs": [
        {
          "output_type": "execute_result",
          "data": {
            "text/html": [
              "<div>\n",
              "<style scoped>\n",
              "    .dataframe tbody tr th:only-of-type {\n",
              "        vertical-align: middle;\n",
              "    }\n",
              "\n",
              "    .dataframe tbody tr th {\n",
              "        vertical-align: top;\n",
              "    }\n",
              "\n",
              "    .dataframe thead th {\n",
              "        text-align: right;\n",
              "    }\n",
              "</style>\n",
              "<table border=\"1\" class=\"dataframe\">\n",
              "  <thead>\n",
              "    <tr style=\"text-align: right;\">\n",
              "      <th></th>\n",
              "      <th>area</th>\n",
              "      <th>bathroom_num</th>\n",
              "      <th>bedroom_num</th>\n",
              "      <th>city</th>\n",
              "      <th>desc</th>\n",
              "      <th>dev_name</th>\n",
              "      <th>floor_count</th>\n",
              "      <th>floor_num</th>\n",
              "      <th>furnishing</th>\n",
              "      <th>id</th>\n",
              "      <th>id_string</th>\n",
              "      <th>latitude</th>\n",
              "      <th>locality</th>\n",
              "      <th>longitude</th>\n",
              "      <th>post_date</th>\n",
              "      <th>poster_name</th>\n",
              "      <th>price</th>\n",
              "      <th>project</th>\n",
              "      <th>title</th>\n",
              "      <th>trans</th>\n",
              "      <th>type</th>\n",
              "      <th>url</th>\n",
              "      <th>user_type</th>\n",
              "    </tr>\n",
              "  </thead>\n",
              "  <tbody>\n",
              "    <tr>\n",
              "      <th>0</th>\n",
              "      <td>350.0</td>\n",
              "      <td>2.0</td>\n",
              "      <td>1</td>\n",
              "      <td>Mumbai</td>\n",
              "      <td>2 Bath,Unfurnished,East facing The project has...</td>\n",
              "      <td>NaN</td>\n",
              "      <td>NaN</td>\n",
              "      <td>NaN</td>\n",
              "      <td>Unfurnished</td>\n",
              "      <td>45349857</td>\n",
              "      <td>domcache_srp_45349857</td>\n",
              "      <td>19.201336</td>\n",
              "      <td>Malad West</td>\n",
              "      <td>72.825882</td>\n",
              "      <td>2020-01-11</td>\n",
              "      <td>Saurabh Patil</td>\n",
              "      <td>9000</td>\n",
              "      <td>NaN</td>\n",
              "      <td>1 BHK Apartment for Rent in Malad West</td>\n",
              "      <td>Rent</td>\n",
              "      <td>Apartment</td>\n",
              "      <td>/propertyDetails/1-BHK-350-Sq-ft-Multistorey-A...</td>\n",
              "      <td>Agent</td>\n",
              "    </tr>\n",
              "    <tr>\n",
              "      <th>1</th>\n",
              "      <td>652.0</td>\n",
              "      <td>2.0</td>\n",
              "      <td>1</td>\n",
              "      <td>Mumbai</td>\n",
              "      <td>2 Bath,Semi-Furnished,East facing A 1BHK apart...</td>\n",
              "      <td>Veena Group</td>\n",
              "      <td>NaN</td>\n",
              "      <td>NaN</td>\n",
              "      <td>Semi-Furnished</td>\n",
              "      <td>45960973</td>\n",
              "      <td>domcache_srp_45960973</td>\n",
              "      <td>19.410704</td>\n",
              "      <td>Vasai</td>\n",
              "      <td>72.833592</td>\n",
              "      <td>2020-01-11</td>\n",
              "      <td>Gorakh  Chavan</td>\n",
              "      <td>8060</td>\n",
              "      <td>Veena Dynasty</td>\n",
              "      <td>1 BHK Apartment for Rent in Veena Dynasty, Vasai</td>\n",
              "      <td>Rent</td>\n",
              "      <td>Apartment</td>\n",
              "      <td>/propertyDetails/1-BHK-652-Sq-ft-Multistorey-A...</td>\n",
              "      <td>Agent</td>\n",
              "    </tr>\n",
              "    <tr>\n",
              "      <th>2</th>\n",
              "      <td>635.0</td>\n",
              "      <td>2.0</td>\n",
              "      <td>1</td>\n",
              "      <td>Mumbai</td>\n",
              "      <td>2 Bath,Semi-Furnished,4 floor,West facing A be...</td>\n",
              "      <td>Agarwal Group</td>\n",
              "      <td>7.0</td>\n",
              "      <td>4.0</td>\n",
              "      <td>Semi-Furnished</td>\n",
              "      <td>46688849</td>\n",
              "      <td>domcache_srp_46688849</td>\n",
              "      <td>19.467032</td>\n",
              "      <td>Virar</td>\n",
              "      <td>72.801612</td>\n",
              "      <td>2019-12-13</td>\n",
              "      <td>Lokesh Joshi</td>\n",
              "      <td>8000</td>\n",
              "      <td>Agarwal Lifestyle</td>\n",
              "      <td>1 BHK Apartment for Rent in Agarwal Lifestyle,...</td>\n",
              "      <td>Rent</td>\n",
              "      <td>Apartment</td>\n",
              "      <td>/propertyDetails/1-BHK-635-Sq-ft-Multistorey-A...</td>\n",
              "      <td>Agent</td>\n",
              "    </tr>\n",
              "    <tr>\n",
              "      <th>3</th>\n",
              "      <td>540.0</td>\n",
              "      <td>2.0</td>\n",
              "      <td>1</td>\n",
              "      <td>Mumbai</td>\n",
              "      <td>2 Bath,Semi-Furnished,East facing Essential Se...</td>\n",
              "      <td>NaN</td>\n",
              "      <td>NaN</td>\n",
              "      <td>NaN</td>\n",
              "      <td>Semi-Furnished</td>\n",
              "      <td>44696119</td>\n",
              "      <td>domcache_srp_44696119</td>\n",
              "      <td>19.407257</td>\n",
              "      <td>Vasai East</td>\n",
              "      <td>72.836006</td>\n",
              "      <td>2020-01-13</td>\n",
              "      <td>Sajith  Thomas</td>\n",
              "      <td>8000</td>\n",
              "      <td>NaN</td>\n",
              "      <td>1 BHK Apartment for Rent in Vasai East</td>\n",
              "      <td>Rent</td>\n",
              "      <td>Apartment</td>\n",
              "      <td>/propertyDetails/1-BHK-540-Sq-ft-Multistorey-A...</td>\n",
              "      <td>Agent</td>\n",
              "    </tr>\n",
              "    <tr>\n",
              "      <th>4</th>\n",
              "      <td>625.0</td>\n",
              "      <td>1.0</td>\n",
              "      <td>1</td>\n",
              "      <td>Mumbai</td>\n",
              "      <td>1 Bath,Furnished,2 floor,North facing 24 hours...</td>\n",
              "      <td>Millennium Group</td>\n",
              "      <td>7.0</td>\n",
              "      <td>2.0</td>\n",
              "      <td>Furnished</td>\n",
              "      <td>46742851</td>\n",
              "      <td>domcache_srp_46742851</td>\n",
              "      <td>19.360215</td>\n",
              "      <td>Naigaon East</td>\n",
              "      <td>72.850167</td>\n",
              "      <td>2019-12-17</td>\n",
              "      <td>Charmaine  Gomez</td>\n",
              "      <td>9000</td>\n",
              "      <td>Mittal Enclave</td>\n",
              "      <td>1 BHK Apartment for Rent in Mittal Enclave, Na...</td>\n",
              "      <td>Rent</td>\n",
              "      <td>Apartment</td>\n",
              "      <td>/propertyDetails/1-BHK-625-Sq-ft-Multistorey-A...</td>\n",
              "      <td>Owner</td>\n",
              "    </tr>\n",
              "  </tbody>\n",
              "</table>\n",
              "</div>"
            ],
            "text/plain": [
              "    area  ...  user_type\n",
              "0  350.0  ...      Agent\n",
              "1  652.0  ...      Agent\n",
              "2  635.0  ...      Agent\n",
              "3  540.0  ...      Agent\n",
              "4  625.0  ...      Owner\n",
              "\n",
              "[5 rows x 23 columns]"
            ]
          },
          "metadata": {
            "tags": []
          },
          "execution_count": 82
        }
      ]
    },
    {
      "cell_type": "code",
      "metadata": {
        "colab": {
          "base_uri": "https://localhost:8080/",
          "height": 661
        },
        "id": "cVnKN8fFv77z",
        "outputId": "488192e2-da20-4b5d-9ace-9f32d1cb342b"
      },
      "source": [
        "plt.figure(figsize=(10,10))\r\n",
        "sns.heatmap(df.corr(), annot=True)\r\n",
        "plt.show()"
      ],
      "execution_count": 83,
      "outputs": [
        {
          "output_type": "display_data",
          "data": {
            "image/png": "[encoded data removed]",
            "text/plain": [
              "<Figure size 720x720 with 2 Axes>"
            ]
          },
          "metadata": {
            "tags": [],
            "needs_background": "light"
          }
        }
      ]
    },
    {
      "cell_type": "markdown",
      "metadata": {
        "id": "rx6H-37WwD7L"
      },
      "source": [
        "I went with df.corr in the very starting in order to see what columns I am supposed to get rid of. As we can see here \"id\", \"latitude\", \"longitude\" columns have very low correlation so we can just get rid of these columns in the very beginnng. "
      ]
    },
    {
      "cell_type": "code",
      "metadata": {
        "id": "F-xMftZ5wBHN"
      },
      "source": [
        "df.drop(['id','latitude','longitude','id_string','floor_count','floor_num'],axis=1, inplace=True)  #Dropping columns with low corr. "
      ],
      "execution_count": 84,
      "outputs": []
    },
    {
      "cell_type": "code",
      "metadata": {
        "colab": {
          "base_uri": "https://localhost:8080/"
        },
        "id": "HNeIgnrKwGCr",
        "outputId": "1b979ed0-cea0-40c1-faef-2b9dde220858"
      },
      "source": [
        "df.info()"
      ],
      "execution_count": 85,
      "outputs": [
        {
          "output_type": "stream",
          "text": [
            "<class 'pandas.core.frame.DataFrame'>\n",
            "RangeIndex: 34348 entries, 0 to 34347\n",
            "Data columns (total 17 columns):\n",
            " #   Column        Non-Null Count  Dtype  \n",
            "---  ------        --------------  -----  \n",
            " 0   area          33572 non-null  float64\n",
            " 1   bathroom_num  34334 non-null  float64\n",
            " 2   bedroom_num   34348 non-null  int64  \n",
            " 3   city          34348 non-null  object \n",
            " 4   desc          34338 non-null  object \n",
            " 5   dev_name      17349 non-null  object \n",
            " 6   furnishing    34338 non-null  object \n",
            " 7   locality      34140 non-null  object \n",
            " 8   post_date     34348 non-null  object \n",
            " 9   poster_name   34347 non-null  object \n",
            " 10  price         34348 non-null  int64  \n",
            " 11  project       20179 non-null  object \n",
            " 12  title         34338 non-null  object \n",
            " 13  trans         34318 non-null  object \n",
            " 14  type          34348 non-null  object \n",
            " 15  url           34338 non-null  object \n",
            " 16  user_type     34348 non-null  object \n",
            "dtypes: float64(2), int64(2), object(13)\n",
            "memory usage: 4.5+ MB\n"
          ],
          "name": "stdout"
        }
      ]
    },
    {
      "cell_type": "code",
      "metadata": {
        "colab": {
          "base_uri": "https://localhost:8080/"
        },
        "id": "pHZUEoJmwHxL",
        "outputId": "a674526e-caaa-4e2c-f981-275d2c9a590a"
      },
      "source": [
        "print(\"total number of rows: \",len(df))\r\n",
        "print(\"\\n\")\r\n",
        "print(\"Number of null rows\\n\",df.isnull().sum())"
      ],
      "execution_count": 86,
      "outputs": [
        {
          "output_type": "stream",
          "text": [
            "total number of rows:  34348\n",
            "\n",
            "\n",
            "Number of null rows\n",
            " area              776\n",
            "bathroom_num       14\n",
            "bedroom_num         0\n",
            "city                0\n",
            "desc               10\n",
            "dev_name        16999\n",
            "furnishing         10\n",
            "locality          208\n",
            "post_date           0\n",
            "poster_name         1\n",
            "price               0\n",
            "project         14169\n",
            "title              10\n",
            "trans              30\n",
            "type                0\n",
            "url                10\n",
            "user_type           0\n",
            "dtype: int64\n"
          ],
          "name": "stdout"
        }
      ]
    },
    {
      "cell_type": "code",
      "metadata": {
        "colab": {
          "base_uri": "https://localhost:8080/"
        },
        "id": "zBhES6VtwJ8Y",
        "outputId": "400276ec-852a-4e3d-e54b-5dc703a3678b"
      },
      "source": [
        "for col in df:\r\n",
        "  print(col, df[col].unique())"
      ],
      "execution_count": 87,
      "outputs": [
        {
          "output_type": "stream",
          "text": [
            "area [350. 652. 635. ... 150. 663. 642.]\n",
            "bathroom_num [ 2.  1. nan  3.  4.  5.  6.  7.  8.]\n",
            "bedroom_num [1 4 3 5 2]\n",
            "city ['Mumbai']\n",
            "desc ['2 Bath,Unfurnished,East facing The project has 1 elevator for residents in a tower. There is No/Rare Powercut 24 Hours Available water supply.'\n",
            " '2 Bath,Semi-Furnished,East facing A 1BHK apartment is available for rent in vasai east mira road and beyond. This apartment is on the 7th of 7 floors in veena dynasty. This 15 year old property has a super builtUp area of 652 sq. Ft. This is an unfurnished apartment.This apartment comes with 2 bathrooms. The apartment with 2 balconiesIs available to only families.It is a fengShuivaastu compliant property. The apartment with ceramic flooring. This is an east facing apartment. With features like intercom facility lifts maintenance staff park securityfire alarm and water storage the society offers a convenient living. It also has other features like waste disposal.This property is in a gated society and has full power back up. The society has various amenities like security personnel and park.The expected monthly rental is rs. 8060. Some of the additional costs include security of rs. 40K Fixed. The brokerage amount is rs 8k FixedThe booking amount is rs. 5K.'\n",
            " '2 Bath,Semi-Furnished,4 floor,West facing A beautiful 1 bhk apartment in Virar West, Mira Road And Beyond. The property is a part of agarwal lifestyle . It is a resale property in a promising locality. This welldesigned new property is ready to move in. It is located on the 4th floor. The property ownership is freehold type and has a super builtup area of 635 Sq. Ft.ready to move'\n",
            " ...\n",
            " '2 Bath,Semi-Furnished,4 floor,North facing 1 BHK, Multistorey Apartment is available for Rent in Virar, Mumbai for 6,500'\n",
            " '2 Bath,Semi-Furnished,4 floor 1 BHK, Multistorey Apartment is available for Rent in Virar, Mumbai for 6,500'\n",
            " '2 Bath,Unfurnished,7 floor,South -West facing 2Bhk for rent in Bandra west  main Carter road  ::flat on higher floor  ::nice view for the flat ::well mention  building ::with 1car parking ::::for more details ::contact : R R Real Estate']\n",
            "dev_name [nan 'Veena Group' 'Agarwal Group' 'Millennium Group' 'Poonam Developers'\n",
            " 'Evershine Builders' 'Bahavni Group' 'Bachraj Developers'\n",
            " 'Mehta Builders Pvt Ltd' 'KM Group' 'Agarwal Builder' 'Raunak Group'\n",
            " 'Lucky Homes' 'Sai Shakti Group' 'Sai Group' 'Mahavir Group'\n",
            " 'Parikh Group' 'Rashmi Realty Builders Pvt. Ltd' 'Arkade Group'\n",
            " 'Strawberry Construction' 'RNA NG Builders' 'Kinjal Group'\n",
            " 'M Baria Developers' 'Hubtown Limited' 'Chheda Group'\n",
            " 'Cooperative Group Housing Society' 'JP Infra'\n",
            " 'Gujarat Group Builders & Developers and A.G. Superstructures Pvt. Ltd.'\n",
            " 'The Wadhwa Group' 'SKD Realty LLP' 'Kalpataru Limited' 'PNK Builder'\n",
            " 'Unique Shanti Developers LLP' 'Royal Palms' 'Shree Laxmi Developers'\n",
            " 'Leena Group' 'HDIL' 'Shapoorji Pallonji Real Estate' 'AAP Realtors Ltd'\n",
            " 'Rustomjee' 'Acme Group' 'Park View Developers' 'Sanghvi Premises'\n",
            " 'Gurukrupa Group' 'CCI Projects Pvt. Ltd.'\n",
            " 'SD Corporation Private Limited' 'Neptune Group'\n",
            " 'Kanakia Spaces Realty Pvt. Ltd.' 'Grandeur Developer'\n",
            " 'Nirmal Life Style' 'Raheja Universal Pvt Ltd.' 'Bren Corporation'\n",
            " 'Aadi Properties' 'Runwal Developers' 'BTM Developers'\n",
            " 'Omkar Realtors and Developers Pvt. Ltd.' 'Raheja Developers Ltd.'\n",
            " 'Sunteck Realty Limited' 'DB Realty Limited' 'Thakur Group'\n",
            " 'Hiranandani Group' 'Aster Group' 'Nirmals Constructions'\n",
            " 'K Raheja Construction' 'Mayfair Housing' 'Sheth Creators'\n",
            " 'Sharapova pvt Ltd' 'Lokhandwala Infrastructure' 'Ekta World'\n",
            " 'Bhoomi Group' 'Kaul Builder And  Developer' 'Ravi Group' 'Scn Group'\n",
            " 'Sanghvi Group Of Companies' 'Aditya Developers' 'Cosmos Group'\n",
            " 'Ravi Group Of Builders And Developers' 'Shanti Developers' 'Nahar Group'\n",
            " 'Pradeep Associates' 'Sagar Builders' 'Srishti Group'\n",
            " 'Ameya Builders and Property Developers And M. Baria Developers'\n",
            " 'Mahada Developer' 'I S A Enterprises' 'Ostwal Builders'\n",
            " 'Salangpur Nirmaan' 'Ritu Developer' 'Rashmi Housing Pvt Ltd.'\n",
            " 'Lodha Group' 'HCBS Developer' 'Lalit Dharmani Group' 'Concrete Builders'\n",
            " 'Mahindra Lifespace Developers Ltd.' 'Satyam Developers'\n",
            " 'Transcon Sheth Creators' 'Godrej Properties' 'Kabra Group'\n",
            " 'Dev Land Housing' 'KIA Groups' 'Meera Builders Realty Group'\n",
            " 'Supreme Universal' 'Safal Group' 'K Raheja Corp' 'Ashok Jogani'\n",
            " 'DLH Group' 'Radius Developers' 'Hetali Group' 'Silver Group'\n",
            " 'Samarth Development Corporation' 'Panorama Group'\n",
            " 'B Safal Constructions India Pvt. Ltd.' 'Radius Group' 'Sabari Group'\n",
            " 'Adani Realty' 'L&T Realty' 'Dynamix Group' 'Sheth Developers'\n",
            " 'HDIL Group' 'The Dynamix Group' 'Ajmera Realty & Infra India Ltd.'\n",
            " 'Rajesh LifeSpaces' 'Neelkanth Group' 'Kukreja Construction Company'\n",
            " 'Shiv Shakti Group' 'Tridhaatu Realty and Infra Pvt. Ltd.'\n",
            " 'Ajmera Realtyand Infra India' 'Oberoi Realty Limited' 'DOSTI REALTY'\n",
            " 'AUM Group' 'Ajmera Realty and Infra' 'Elpro International'\n",
            " 'Aristo Realty Developers Limited'\n",
            " 'Bharat Infrastructure and Engineering' 'Bombay Realty' 'Lake Homes'\n",
            " 'Spark Developers' 'Raj Developer' 'Golden Nest Builders & Developers'\n",
            " 'Adity Group' 'Kalptaru Construction' 'Bachhers Developers'\n",
            " 'Swastik Group' 'Windsor Realty' 'San Group' 'MSL Group' 'Dheeraj Realty'\n",
            " 'RNA Corp' 'Hilla Builder Pvt. Ltd.' 'Seasons Group' 'Sumer Group'\n",
            " 'Peninsula Land' 'Kamala Group' 'Shrey Associates'\n",
            " 'Peninsula Land Limited' 'Indiabulls Distribution Services Limited'\n",
            " 'Atul Projects' 'BlackStone Housing and Infrastructure Private Limited'\n",
            " 'Chaitanya Group' 'Shree Developers' 'Makers Developers'\n",
            " 'Indiabulls Real Estate' 'Emgee Group' 'Orbit Corporation Ltd.'\n",
            " 'Rizvi Group' 'Shree Naman Group' 'Orbit Corporation' 'AVIGHNA GROUP'\n",
            " 'Fair Deal Infrastructure' 'Moksh Developers' 'Suntech Realty Limited'\n",
            " 'B Brothers' 'India Bulls Real Estate Limited.' 'Satguru Developers'\n",
            " 'Shethcorp Pvt. Ltd.' 'Suntrek Corporation' 'Ahuja Constructions'\n",
            " 'AVM Developers Private Limited' 'Shahpoorji Palloinji Construction'\n",
            " 'Sahakar Global Ltd' 'Raj Realty Group' 'Sadguru Developers' 'Man Realty'\n",
            " 'PATEL GROUP & CO.' 'Unity Group' 'Sarvoday Developer' 'Rajhans Group'\n",
            " 'Gundecha Developers' 'Basudeo Builders' 'Mahavir Construction'\n",
            " 'JB Infrastructures' 'Salangpur Group' 'Arindham Muntech' 'Samrath Group'\n",
            " 'Surya Constructions' 'Space Construction' 'Ankur Builders'\n",
            " 'Jangid Group' 'Spenta Corporation' 'Kothari Builders and Developers'\n",
            " 'RMP Developer' 'Ramdev Properties Pvt. Ltd.' 'Rahi Group' 'RR Builders'\n",
            " 'Arihant Developers' 'DV Group' 'Raj Realty' 'GOLDSTAR GROUP'\n",
            " 'Shree Ostwal Builders Ltd.' 'Abhay Groups Developer' 'Span Group'\n",
            " 'Shree Aditya Estate' 'Royal Realtors Group of Companies'\n",
            " 'Shree Sai Usha Developer' 'Spring Developers'\n",
            " 'Jasmina Constructions Pvt Ltd' 'Gundecha Developing Milestone'\n",
            " 'Sheth Enterprises' 'Lokhandwala Construction Industries Pvt Ltd'\n",
            " 'Mhada Group' 'Neminath Group' 'Shraddha Landmark' 'Siddharth Group'\n",
            " 'Abhay Builders' 'Mahad' 'Siddhi Infrastructure' 'RNA'\n",
            " 'Palam spring of groups' 'JK Developers' 'Joy Builders and Developers'\n",
            " 'Ocean Group' 'Gharkul Developer' 'Blossom Groups'\n",
            " 'Tala Bhai Patel Builders' 'Keemaya and MLH' 'Adinath Group'\n",
            " 'Bhatia Group Pvt Ltd' 'Ritej Associates' 'Delta Realty'\n",
            " 'Highland and development' 'Siddhi Developers' 'Lokhandwala Group'\n",
            " 'Libra Group' 'Kukreja Builders' 'Buddha Enterprises'\n",
            " 'Silver Sea Development of Group' 'Keemaya Build Pvt Ltd'\n",
            " 'Mayuresh Group' 'Lok Housing and Constructions Ltd.' 'Parashar Builder'\n",
            " 'Peerless Construction Pvt. Ltd' 'Satellite Builders Private Limited'\n",
            " 'Atul Builders' 'Jain Group' 'UMIYA Group' 'GK Realtors'\n",
            " 'Sethia Infrastructure' 'Mahadev & Company Pvt Ltd' 'Kartikey Group'\n",
            " 'Eiffel Developers and Realtors Limited' 'Gupta Developers'\n",
            " 'Dheeraj Group' 'Kashi Builder' 'Mantri Realty' 'Ashok Group'\n",
            " 'Suyog Developers' 'Ecohomes' 'Shree Adiraj Laxmi Builders Pvt. Ltd.'\n",
            " 'R K Builders' 'Jai Durga Builders' 'Royal Realtors Group' 'Rattan Group'\n",
            " 'Neha Group' 'Raj Arcades Homes and Sethia Infrastructure'\n",
            " 'Ashray Realtor' 'Jyoti Builders' 'Veena Developers'\n",
            " 'Lokhandwala Developer' 'Gundecha' 'KGN Builders'\n",
            " 'Haware Tilak Nagar Building' 'Adinathay Enterprises'\n",
            " 'Panchsheel Builtech Pvt Ltd.' 'RNA Corporation' 'GHP Group'\n",
            " 'Rite Developers Pvt Ltd.' 'Beauty Group' 'SURYAKIRAN ENTERPRISES'\n",
            " 'Kshitij Builders & Developers' 'Roswalt Gorup'\n",
            " 'Sumit Builder and Developer' 'Lok Group'\n",
            " 'Kamanwala Housing Construction Ltd.' 'Vas Infrastructure Ltd'\n",
            " 'Nav Neelima Builders' 'Heena Builders' 'Golders Group'\n",
            " 'Mauli Sai Developers Pvt Ltd' 'Audumber Developers'\n",
            " 'Samarth Krupa Developers' 'Crescent Group Of Companies'\n",
            " 'Amann Infradevelopment Ltd' 'Charisma Builders Ltd.' 'Accord Group'\n",
            " 'Reliable Group' 'JEM World Group' 'White House Developers'\n",
            " 'K Bhatia Construction' 'AD Pawar Builders' 'SB Group' 'Avant Group'\n",
            " 'DGS Group' 'Marathon Realty Pvt Ltd' 'Ahuja Group' 'Avon Group'\n",
            " 'Ashford Group' 'Romell Group' 'Vivaria Global Developers'\n",
            " 'ATUL  Projects' 'Jaydeep Group' 'Raj Developers' 'Lalani Group'\n",
            " 'Jay Builders And Developers' 'Dimples Realtors Pvt. Ltd.'\n",
            " 'Adarsh Developers' 'Anchor Realty' 'Surya Group' 'Giriraj Enterprise'\n",
            " 'Sadguru Group Builders & Developers' 'Riddhi Siddhi Developers'\n",
            " 'Poonam Group' 'Amisha Associates' 'Rock Development Group'\n",
            " 'Skyline Greathills' 'Ekta Group of Construction' 'Chirayu Builder'\n",
            " 'Bhardwaj Builders' 'Tirupati Balaji Builcon Pvt. Ltd'\n",
            " 'Tulip Infratech Pvt. Ltd.' 'Lokhandwala Constructions' 'K Patel Group'\n",
            " 'Mavji Builders And Developers' 'CD CHS Ltd' 'Ganraj Construction'\n",
            " 'D V Group' 'Integrated Spaces Limited ' 'Sai Developers'\n",
            " 'Shree Mahalaxmi Developers' 'Marathon Group' 'Neo Developers Pvt Ltd'\n",
            " 'Vini Group' 'Lalani Builders And Developers' 'Gemstar Constructions'\n",
            " 'Shree Riddhi Siddhi Group' 'Hill Group' 'Yashraj Developer'\n",
            " 'Rohan Builders & Developers Pvt. Ltd.' 'House of Hiranandani'\n",
            " 'Akurli Developer' 'Aakar Developers' 'Vrindavan Realtors'\n",
            " 'Sunrise Group' 'Sanghvi Land Developers Pvt Ltd.'\n",
            " 'Damji Hari Constructions' 'SAB Developers' 'Sharada Group'\n",
            " 'Right Channel Construction Pvt. Ltd.'\n",
            " 'Bombay Real Estate Development Company' 'Keshav Vitthal Sonawane'\n",
            " 'Romell Real Estate Pvt Ltd' 'The Advantage Raheja'\n",
            " 'Aashish Promotors & Builders' 'Prathana Builders And Developers'\n",
            " 'Zara Habitats Llp' 'Acme Builders Pvt Ltd'\n",
            " 'Sagar Kanya Owners and Residents Group' 'Pushp Developers'\n",
            " 'K Hemani Group' 'Pranjee Group' 'GHP Corporation' 'Orbit Construction'\n",
            " 'The Baya Company' 'Kiran Builders' 'Jain Builders' 'Neha Developer'\n",
            " 'Universal Group' 'Sahyadri Developers' 'Ahimsa group' 'Conwood Realty'\n",
            " 'Milind and Associates' 'Ajmera Group' 'Roha Builders'\n",
            " 'Matra Realty Ltd.' 'Sunshine Infra'\n",
            " 'SD Bhalerao Constructions Private Limited' 'AVN Group' 'The 3C Company'\n",
            " 'Seth Builders' 'Arvind Jain Developer'\n",
            " 'HOUSING DEVELOPMENT AND INFRASTRUCTURE LTD' 'Shirin Developer'\n",
            " 'Shah Group' 'Modi Spaces Group' 'Shree Mahalaxmi Group' 'SMGK Group'\n",
            " 'Rachana Astra Construction Pvt. Ltd.' 'Sopariwala Group'\n",
            " 'Kumar Developers' 'Shree Sejal Construction' 'M R Realtors' 'SD Group'\n",
            " 'Starlight Builders Groups' 'Achord Estic Pvt.Ltd' 'Malani Developers'\n",
            " 'ATLANTA LIMITED' 'SB Abodes' 'Seth Developer' 'Onkar Developer'\n",
            " 'Nirmal Lifestyle' 'Satra Group' 'Sristi Builders And Developers'\n",
            " 'Halai Custruction' 'Patel Builders' 'Rodium Realty Ltd.'\n",
            " 'Aayush Developers' 'Rushi Builder and Developer' 'vastu builders'\n",
            " 'Bholenath Developers Ltd.' 'Kateeleshwari Developers' 'Shreedham Group'\n",
            " 'Vijay Group' 'NPL' 'Damji Shamji Shah Group' 'Kukreja construction'\n",
            " 'Goodbuild Developers' 'Platinum Corp' 'Joy Infrasturcture'\n",
            " 'Solitaire Group' 'Ornate Universal' 'K PATEL REALTY'\n",
            " 'Powai Builders and Developers' 'Sethi Group' 'R.K. Jain Builders'\n",
            " 'Silver Stream Developer' 'RK Construction' 'Sai Life' 'Rushi Group'\n",
            " 'Radhe Krishna Heritage' 'Kumar Builders' 'Aditya Enterprises'\n",
            " 'Srishti Construction' 'Fine Spaces Developers' 'V.R. Mittal Pvt. Ltd.'\n",
            " 'Shree Krishna Group' 'K.Raheja. Constructions' 'Sanghvi Realty '\n",
            " 'Sadguna Realty' 'Guru Group' 'Prince Developers'\n",
            " 'Raj Homes Pyramid Group' 'Jsr group' 'Arok Construction'\n",
            " 'Alamdar Infrastructure Pvt. Ltd.' 'Cresent Developers' 'Eco Homes'\n",
            " 'Crescent Group' 'Darsshan Properties' 'Omkar Realtors' 'Red Rose Group'\n",
            " 'The Gundecha Group' 'Patel Builders & Developers' 'Godrej Constructions'\n",
            " 'Kotari' 'Sadguru Group Housing & Infrastructure' 'Ram Developers'\n",
            " 'Sanaya Realties Pvt Ltd.' 'Ghar Sahil And Development'\n",
            " 'Ajmera Cityscapes' 'S B Abodes Private Limited'\n",
            " 'Shagun Construction Pvt. Ltd.' 'Dipti Home Makers Pvt Ltd'\n",
            " 'Unique Developer' 'Akruti Group' 'Aditi Builders' 'Deepak Developers'\n",
            " 'TATA Housing Development Company Limited' 'Divine Space'\n",
            " 'Shree Sai Developers' 'AUM Developers' 'Ashish Estates & Properties'\n",
            " 'Kn Pokar Construction' 'Bhoomi Pujan Builders and Developers'\n",
            " 'DB Developers' 'Kamanwala Industries' 'Chandak Group' 'Gosalia builders'\n",
            " 'Nyati Group' 'Rubberwala Housing & Infrastructure Ltd'\n",
            " 'Aaditya Relators' 'Cosmic Structure' 'Kapcon Builders' 'Rizvi Builders'\n",
            " 'Nathani Group' 'Indra Darshan Developer' 'Dosti Realty'\n",
            " 'Motiwala Builder' 'Reliaable Developers' 'Dynamic Developers'\n",
            " 'Rubber Wala Developer' 'Girnar Builders & Developers'\n",
            " 'Samruddhi Builder' 'Blue Castle Developer Pvt. Ltd.' 'Redstone Group'\n",
            " 'Royale Developers' 'D Kapoor Land Developers' 'C K Group'\n",
            " 'AP Properties' 'RVZ Group' 'Siddharth Developers'\n",
            " 'JRS Sleter Private Limited' 'Divine Space Pvt Ltd and  Amal Group'\n",
            " 'Om Group' 'Aksee Real Estate' 'Sarkar Group' 'Landmark Group'\n",
            " 'Radhekrishna Developers' 'Rohan Lifescapes Group'\n",
            " 'Matoshree Infrastructure Pvt. Ltd.' 'Vasudha Buildcon' 'Sugee Group'\n",
            " 'Shiv Developers' 'Kalpatru' 'Sanjay Jain Developer Group'\n",
            " 'Shree Yogeshwar Builders And Developers' 'Neumec Group'\n",
            " 'Sapphire Builders' 'Jayanth Group' 'Riddhi Developers' 'Inder Group'\n",
            " 'KN Builders' 'Jaycee Homes Ltd' 'Nilesh Construction' 'Aman Builders'\n",
            " 'Lakhani Builders' 'Shiv Mangal Developers' 'Gyaneshwar Builder'\n",
            " 'Krypton Developer' 'Reliable HomeMakers' 'Unicorn Global' 'JSB Group'\n",
            " 'Laxmi Housing Builders and Developers' 'Avvesh Developers LLP'\n",
            " 'Laxmi Housing' 'Kailash Corporation' 'Midas Buildcon'\n",
            " 'Vinay Unique Developers' 'Mandar Group' 'Raj Maitry & Eskon Developers'\n",
            " 'Divyaraj Developers' 'Gaurav Of Groups and Development'\n",
            " 'Sai Swapn Developers' 'Sumit Group' 'Mandar Housing Pvt. Ltd.'\n",
            " 'Shree swastik group'\n",
            " 'Sai Ornate Developers Ornate Infra Holdings P Ltd.' 'Apex Group'\n",
            " 'Sridutt Constructions' 'Vikram Group' 'Rai Residency Pvt. Ltd'\n",
            " 'Rawal Group' 'Eric Group' 'Navkar Developers' 'Avaas Group'\n",
            " 'Stable Evershine Builders' 'Vinay Unique Group' 'Bachraj Group'\n",
            " 'Yashwant Constructions' 'Durga Builder and Developers'\n",
            " 'Sun Realty & Hospitality' 'RNA NG' 'Aims Promoters Pvt. Ltd.'\n",
            " 'Bhatia Builders & Developers' 'Reputed Builder' 'Manish Developers'\n",
            " 'Space Realty' 'Chethan Builders and Developers'\n",
            " 'Pratik Group Of Companies' 'Hillsboro Realty' 'Akruti Developers'\n",
            " 'Buddha Developers' 'Hiral Homes' 'Jainam Developers'\n",
            " 'NG Group Developer' 'Sanghvi Group' 'Chandra Development'\n",
            " 'Mohanani Builders' 'SM Developers' 'SDC' 'Shelter Group' 'Kesar Group'\n",
            " 'Aditya Group' 'Om Sai Developers'\n",
            " 'SAI DEEP CONSTRUCTIONS and SHIV SHAKTI BUILDERS & DEVELOPERS'\n",
            " 'Madhu Developers' 'West View  Development' 'Sangavi Group of Companies'\n",
            " 'SK Heights Pvt. Ltd' 'Kalpataru Properties Thane Pvt ltd' 'RNA Group'\n",
            " 'Laxman Developers' 'Ssakash Developers & Builders Pvt Ltd'\n",
            " 'Benzer Group' 'Sea Princess' 'DSK Developers' 'Laxmi Group'\n",
            " 'Dhaval Developers' 'Girdhar Builders' 'Dinesh Agrawal'\n",
            " 'Chandiwala Group' 'Surbhi Group' 'Darshan Group' 'Shree Constructions'\n",
            " 'Sadguru Group' 'Raj Group' 'Accel Group' 'Rajendra Builders Pvt Ltd.'\n",
            " 'Tech park Construction' 'Akar Realty' 'Neelyog Builders Pvt. Ltd'\n",
            " 'Jinay Group' 'Dilip Group' 'Poddar Matushree Group'\n",
            " 'Lucent Infra Projects Pvt. Ltd.' 'KT Group' 'Konark Shakti Group'\n",
            " 'Padmavati Developers' 'Town Developers' 'Surabi Home Promoters'\n",
            " 'Lokhandwala Builders' 'Shreenathji Developer' 'Gundecha Group'\n",
            " 'Vakratunda Group' 'D D Properties' 'Marathon Builder' 'Raja Builders'\n",
            " 'Shakti and Group of Developer' 'Tara Group' 'Mumbai Shelters'\n",
            " 'Neelam Realtors Pvt Ltd.' 'krishna Vastu Developers and Groups'\n",
            " 'Vasudev Builders' 'Mamtora Foundation' 'Rishabh Raj Group'\n",
            " 'Navkar Grooup' 'Coral Builders and Developers' 'Bhagwati Developers'\n",
            " 'K Raheja Universal' 'Gokul Builders and Developers'\n",
            " 'Mahaveer Construction' 'Chakala' 'Shreeji Group' 'Radha Group'\n",
            " 'Nalanda Development' 'Fairmont Constructions Pvt. Ltd' 'JP Developers'\n",
            " 'Red Brick Group' 'Prakash Homes' 'Parth Constructions'\n",
            " 'Kaustubh Construction Pvt. Ltd.' 'Group Seven' 'K Raheja Realty'\n",
            " 'Sea Princess Realty' 'Evershine Group' 'Greenville Groups'\n",
            " 'Saibaba Builders And Developers' 'Panchseel Developer' 'DSS Group'\n",
            " 'Nha infra' 'MM Group' 'Yogi Developers' 'Rajesh Builders'\n",
            " 'Shree Shakun Realty Pvt. Ltd' 'AJMERA' 'Aaress realty'\n",
            " 'Harmony Lifestyle Group' 'Concrete Group' 'Neelam Realtors'\n",
            " 'Housing Development & Infrastructure' 'Drushti Group'\n",
            " 'Bajaj International Realty Pvt. Ltd.' 'Westin Developer Private Limited'\n",
            " 'D Group' 'Sonal Reality' 'Dedhia Group' 'Can Group'\n",
            " 'Dev Land Housing Ltd' 'Prima Terra Buildtech' 'Golden Developers'\n",
            " 'Manish Group' 'Bhawani Group' 'PR Developers' 'Dipti Builder'\n",
            " 'Arihant Group' 'S D CORPORATION PVT. LTD.' 'Neel Group'\n",
            " 'Dev Krupa Enterprises' 'Paras Porwal Developer' 'Zaveri Construction'\n",
            " 'Heritage Builders' 'SMC Realty' 'Eskay Group'\n",
            " 'Goyal Properties and Builders' 'Adinath Enterprise'\n",
            " 'Ashford Group Builders' 'Goratia Developer' 'Prime Rose Developer'\n",
            " 'Samartha Group' 'City Group' 'Prathamesh Krupa Buildcon Pvt Ltd'\n",
            " 'Pride Purple Properties' 'Benhur Developer' 'Dotom Realty'\n",
            " 'Deepali Developer' 'Shilpriya Builders And Developers'\n",
            " 'Asshna Developers' 'Kamla Landmarc Group' 'Ayyappa Construction Co'\n",
            " 'Sumeru Buildcon Private Limited' 'Sai Group of Developers'\n",
            " 'Maredian Realtors Pvt Ltd.' 'Haware' 'Neelkanth Developers'\n",
            " 'GHP Builders And Developers' 'PIL Developers Pvt Ltd' 'Serenity Groups'\n",
            " 'Bolenath Developer' 'Shree Dham Construction'\n",
            " 'Maharaja Surajmal Developer' 'Soni Builders & Developers'\n",
            " 'Sai Developer' 'Ramlaxman Developer' 'DLH' 'B.N.K.R.Developers pvt ltd'\n",
            " 'Abrol Builders' 'Hirapara Developers' 'Garodia Group'\n",
            " 'Lashkaria Construction Company Private Limited'\n",
            " 'Nidhaan Buildcon Pvt Ltd.' 'Vaidehi Group' 'DLH Developers'\n",
            " 'Spenta Builders' 'Anchor Properties' 'Ground Reality' 'Harasiddh Group'\n",
            " 'Kohinoor Group' 'H K Pujara Builders' 'Sundervan Group' 'GPRS Realty'\n",
            " 'Navjivan Group' 'Motwani Builders' 'Saibaba Developer'\n",
            " 'Lakshachandi Realty' 'JV Construction' 'ASMITA Group'\n",
            " 'Gulmohar Builders' 'Unatti Builder' 'Man Infraconstruction Limited'\n",
            " 'Dudhwala Constructions' 'Rushabh Developers' 'Tanish Developer'\n",
            " 'A & O Realty Ltd.' 'Bhagya Developer' 'Bharat Builders'\n",
            " 'Tridhaatu Realty & Infra Pvt. Ltd.' 'Trishul Builders' 'Ekta Developers'\n",
            " 'Mane Developers' 'CICC Builders' 'Samir Group' 'Morya Group'\n",
            " 'Arch Eden Developer' 'Pioneer Group' 'Pattathu Brothers'\n",
            " 'Nahar Project And Developers' 'Paradise Resident Association'\n",
            " 'Nahar Builders & Developers' 'Empire Developers' 'Shamik Enterprises'\n",
            " 'Vaibhav properties' 'Millionaire Group Of Companies'\n",
            " 'Antariksh Realtors Pvt Ltd' 'Neev Infrastructure' 'Crystal Group'\n",
            " 'Shreeji Construction' 'Starwing Developers Pvt. Ltd.' 'Heritage Group'\n",
            " 'Kohinoor Developer' 'Budhawani Builder' 'Anik Developer'\n",
            " 'Umang Realtech' 'Ruparel Realty' 'JP group'\n",
            " 'Arista Builders And Developer' 'SK Builders' 'Kohinoor Associates'\n",
            " 'Sunshine Builders' 'Nilam Sudha' 'Amann Group' 'Razak Builder'\n",
            " 'Leo Builder and Developer' 'Pannalal Developer'\n",
            " 'Rubberwala Housing and Infrastructure' 'Omkar Realty'\n",
            " 'Jet Infraventure Limited' 'Merchant Developers' 'Utpal Group' 'RJ Group'\n",
            " 'Atharva Developers and Builders' 'Vardhaman Group' 'Parasmani Developer'\n",
            " 'Karnani Group of Companies' 'CMG Constructions'\n",
            " 'Mohini Sheltors Pvt Ltd' 'Mittal Builders' 'Happy Home Group'\n",
            " 'Darvesh Group' 'SV Developers' 'Bhoomi Reality' 'Patel Enterprises'\n",
            " 'Wellingdon Groups' 'Pioneer Developers' 'Salvation Group'\n",
            " 'Micron Developers' 'Siddhivinayak Constructions' 'Krishna Developers'\n",
            " 'RE Infra' 'Gorwani Builders' 'Marathon' 'Mantri Developers Pvt. Ltd.'\n",
            " 'Shree Chamunda Realtors' 'Magnum Developers' 'Tanishq Builders'\n",
            " 'Prem Developers' 'Saigal Constructions' 'Bhagirath Group' 'L M Builders'\n",
            " 'Kokil Group' 'AP Realty Ltd.' 'Elco Builders'\n",
            " 'Chandra Builders and Developers' 'Orchid Builders'\n",
            " 'Sheetal Builders and Developers' 'Ariisto Realtors'\n",
            " 'Sethna Constructions' 'Marathon NextGen Realty Ltd.' 'Lloyads Group'\n",
            " 'Dhan Lakhani Realty' 'Deep Homes Developers' 'Maharaja Developer'\n",
            " 'Shiv Shakti Corporation' 'Brindavan Builders'\n",
            " 'Abhijit Realtors and Infraventures Pvt. Ltd.' 'Poonam Estate'\n",
            " 'Friends Associates' 'Sethia Group' 'Prerana Housing & Developers'\n",
            " 'Prem Group' 'Atul Corporates' 'A Shapoorji Pallonji' 'Kamal Joshi Group'\n",
            " 'Vishva Group' 'Siddhivinayak Developers' 'Rashmi Infrastructure'\n",
            " 'Paranjape Schemes Construction Limited'\n",
            " 'Modispaces Real Estate Pvt. Ltd.' 'Ashapura Housing Corporation Ltd.'\n",
            " 'Roha Infrastructure Developers Pvt. Ltd.' 'Shree Chamunda Enterprises'\n",
            " 'Universe Developer' 'Puranik Builders' 'Transcon Developers'\n",
            " 'Trifecta Projects' 'Sahajanand Infrastructure Pvt. Ltd.'\n",
            " 'JE & VEE Infrastructure' 'BHANSALI GROUP' 'Sankalp Group' 'Vikas Group'\n",
            " 'Shree Ananta Developers' 'Balan and Chheda Developers Pvt. Ltd'\n",
            " 'Skyline Group' 'Vision Associate' 'Dipti Group' 'Rupal Builder'\n",
            " 'Jay Singh Builder' 'Shri Ganesh Developers' 'Ambe Bhavan Group'\n",
            " 'RK Builders' 'ABHISHEK SHELTERS LTD.' 'Kamla Landmarc Construction'\n",
            " 'Harish Real Estate & Property Consultant' 'Parasnath Group'\n",
            " 'MAAD Realtors and Infra Ltd' 'Sumit Developer' 'Nirmal Builders'\n",
            " 'Gulmohar Developers' 'Sumatinath Builders' 'Shakti Group'\n",
            " 'Sai Rydam Group' 'Vinay Unique' 'Viaan Group' 'Ritu Group'\n",
            " 'Mahalaxmi Group of Companies' 'Mira Dharti Group' 'Vimal Group'\n",
            " 'Nine Realty services' 'Kamdenu Developer' 'Shree Sai Bhoomi Realtors'\n",
            " 'Zee Infra Group' 'Hills Developer' 'Amal Group' 'Sai Builders'\n",
            " 'Everest Group' 'Sky Pan Group' 'Tridhaatu Realty' 'Vijay Khetan Group'\n",
            " 'Khandelwal Group' 'Raheja Developers' 'Transcon Group' 'Amrut Group'\n",
            " 'Suraj Estate Developers Pvt Ltd' 'Mittal Universal' 'W & M Group'\n",
            " 'Avarsekar Builder' 'Samartha Development Corporation' 'Leocadia Group'\n",
            " 'Patel Developers' 'Mitta Group' 'Ansal Buildwell Limited'\n",
            " 'Options Group' 'Satellite Developers Pvt Ltd' 'Kripa Developers'\n",
            " 'VVA Vision Realtors' 'Mehta Group' 'Satyashraya Developers'\n",
            " 'S Raheja Realty' 'Exclusive Group' 'SPS Group'\n",
            " 'Express Housing Complex Pvt Ltd' 'Orchid Developers'\n",
            " 'Marathon Group of Builders and Developers' 'Bhanu Builders'\n",
            " 'Lokhandwala' 'Arth Housing Developers Limited' 'Sambhav Group'\n",
            " 'Manav Group' 'SB Brothers Developers' 'W ENTERPRISES' 'Suvidha Projects'\n",
            " 'Ekta Builders' 'Trisons Builders' 'Vision Group' 'Peninsula'\n",
            " 'Radheya Group' 'Shree Shyam Group Of Companies'\n",
            " 'Yashodhan Shanti Realtors']\n",
            "furnishing ['Unfurnished' 'Semi-Furnished' 'Furnished' nan]\n",
            "locality ['Malad West' 'Vasai' 'Virar' 'Vasai East' 'Naigaon East' 'Virar West'\n",
            " 'Royal Palms Estate' 'Nalasopara' 'Silver Park' 'Vasai West'\n",
            " 'Andheri East' 'Mulund East' 'Malvani' 'Nalasopara East' nan\n",
            " 'Balkum Pada - Majiwada' 'Kalyan' 'Bhayandar East' 'Mira Bhayandar'\n",
            " 'MHADA Colony' 'Chembur Camp' 'Govind Nagar' 'Bhayandar West'\n",
            " 'Beverly Park' 'Worli' 'Nalasopara West' 'Lok Manya Nagar'\n",
            " 'Borivali West' 'Viva College Road' 'Mira Road' 'New Link Road'\n",
            " 'Bhandup Industrial Estate' 'Sakinaka' 'Dongri' 'MMRDA Area'\n",
            " 'Yashavant Nagar' 'Kandivali East' 'Ghatkopar West' 'Ghodbunder'\n",
            " 'Nahur West' 'CAMA Industrial Estate' 'Anushakti Colony' 'Thane'\n",
            " 'Yari Road' 'Virar East' 'Goregaon East' 'Sakinaka Junction' 'Prabhadevi'\n",
            " 'Andheri West' 'Pandurang Wadi' 'Bandra West' 'Khar West' 'Bolinj'\n",
            " 'Virat Nagar' 'Thane-Kalyan-Dombivli' 'Poonam Gardens' 'Ramdev Park'\n",
            " 'Vinay Nagar' 'Unique Garden' 'Tirupati Nagar' 'Charkop Sector 8'\n",
            " 'Bandra Kurla Complex' 'Borivali East' 'Mulund West' 'Aarey Milk Colony'\n",
            " 'Oberoi Splendor' 'Charkop Village' 'Malad East' 'Devi Pada' 'Datta Pada'\n",
            " 'Jankalyan Nagar' 'Magathane' 'Thakur Village, Kandivali East'\n",
            " 'Samata Nagar' 'Bhandup West' 'Ghatkopar East' 'Kanjurmarg East'\n",
            " 'Vile Parle East' 'Mulund Railway Station' 'Madh' 'Upper Govind Nagar'\n",
            " 'Samta Nagar' 'Bhatti Pada' 'Nandiadwala Colony' 'Gokuldham' 'Powai'\n",
            " 'Kandivali West' 'Lokhandwala Twp' 'Film City Road' 'LBS Marg'\n",
            " 'Mindspace' 'Raheja Vihar' 'Sher E Punjab Society' 'Lokhandwala Complex'\n",
            " 'Vikhroli West' 'Mahavir Nagar' 'Ghatkopar' 'Vikhroli East' 'Dongarpada'\n",
            " 'Sheetal Nagar' 'Hatkesh Udyog' 'Thakur Complex' 'Kannamwar Nagar 2'\n",
            " 'Ashok Nagar Western Mumbai' 'Sion Railway Colony' 'Pratiksha Nagar'\n",
            " 'Ekta Nagar' 'Chandivali' 'Mankhurd' 'Santacruz East' 'Marol Naka'\n",
            " 'Ambernath' 'Gavan Pada' 'Christian Gaon' 'IC Colony' 'Dahisar East'\n",
            " 'Elphinstone' 'Poonam Sagar' 'Asha Nagar' 'Poonam Nagar' 'Tata Nagar'\n",
            " 'Veena Nagar' 'Goregaon West' 'Chembur' '4 Bunglows' 'Vallabh Baug'\n",
            " 'VN Purav Marg' 'Juhu' 'Kanch Pada' 'Vikhroli' 'Unnat Nagar' 'JB Nagar'\n",
            " 'Tilak Nagar - Harbour Line' 'Veera Desai Road' 'Juhu Versova Link'\n",
            " 'Shivaji Nagar Malad East' 'BEST Housing Colony' 'Oshiwara'\n",
            " 'Marol Maroshi' 'Borivali' 'Pant Nagar' 'Netaji Subhash Nagar'\n",
            " 'Link Road' 'Sarvodaya Nagar' 'Powai lake' 'Churi Wadi' 'Bimbisar Nagar'\n",
            " 'Shri Swami Samarth Nagar' 'Nahur East' 'Shastri Nagar' 'D.N. Nagar'\n",
            " 'Best Nagar - Goregaon West' 'Swastik Park' 'Marol' 'Four Bungalows'\n",
            " 'Santacruz West' 'Parel' 'Udyog Nagar' 'Chakala' 'Chakala MIDC'\n",
            " 'Matunga West' 'Central Area' 'Premier Colony' 'Sion East'\n",
            " 'Bhavani Nagar' 'Tunga' 'Wadala' 'Byculla' 'Sion Trombay Road'\n",
            " 'Basant Cinema' 'Vasant Vihar Complex' 'Govandi Station Road'\n",
            " 'Central Avenue Road' 'Bhakti Park' 'Wadala East' 'Versova'\n",
            " 'JVLR-Jogeshwari Vikhroli Link Road' 'Ghatla' 'Union Park' 'Joshi Wadi'\n",
            " 'Vile Parle West' 'Subhash Road' 'Dadar West' 'Matunga' 'Dadar East'\n",
            " 'Andheri Link Road' 'Juhu Beach Area' 'Sewri' 'Deonar' 'Andheri'\n",
            " 'Koyambedu' 'Lower Parel' 'Worli Hill' 'JVPD Scheme' 'Yeshodham'\n",
            " 'MIG Colony' 'Shivaji Park' 'Sai Baba Complex' 'Seven Bungalows'\n",
            " 'Bandra East' 'Saki Vihar Road' 'Atur Park Colony Bungalow'\n",
            " 'Mumbai Central' 'Bhoiwada' 'Wadala West' 'MHADA Vanrai Colony' 'Dadar'\n",
            " 'Worli Sea Face' 'Juhu Vile Parle Development Scheme' 'Parsi Colony'\n",
            " 'Dadar TT Circle' 'MHADA Colony 20' 'Mount Mary' 'Cuffe Parade'\n",
            " 'Kala Nagar' 'Girgaon Chowpatty' 'Linking Road' 'Khar' 'Kamala City'\n",
            " 'Dindoshi' 'Turner Road' 'Mahalakshmi' 'Warden Road' 'Pali Hill'\n",
            " 'Haji Ali' 'Mahim West' 'Pali Naka' 'Perry Rd' 'Mahim' 'Gulmohar Road'\n",
            " 'Gamdevi' 'Panchkutir Ganesh Nagar' 'Kulkarni Chowk' 'Matunga East'\n",
            " 'Carmichael Road' 'Mazgaon' 'Bandra' 'Church Gate' 'Babar Shaikh Chowk'\n",
            " 'Gamadia Colony' 'Worli Naka Acharaya Atre Chowk'\n",
            " 'Shree Siddhivinayak Mandir Chowk' 'Bandra Band Stand' 'Napean Sea Road'\n",
            " 'Upper Worli' 'Teen Batti' 'Mahalaxmi Race Course' 'Waterfield Road'\n",
            " 'Mehboob Studio' 'Elphiston Road Marchant Association Chowk' 'BDD Chawl'\n",
            " 'Nepeansea Road' 'Hanuman Nagar' 'Gamdia Colony Chowk'\n",
            " 'Willingdon Colony' 'Walkeshwar' 'Altamount Road' 'Colaba'\n",
            " 'Saraswat Colony' 'Jacob Circle' 'Sayed Wadi' 'Tardeo'\n",
            " 'Union Park Pali Hill' 'World Trade Centre' 'Malabar Hill' 'Marine Drive'\n",
            " 'Markendeshwar' 'Peddar Road' 'Siddharth Nagar South Mumbai'\n",
            " 'Pedder Road' 'Kemps Corner' 'Breach Candy' 'Juhu Versova Link Road'\n",
            " 'PK Kurne Chowk' 'Carter Road' 'Cumbala Hill'\n",
            " 'Colaba Upper Gateway Of India Area' 'Chikalwadi' 'Pleasant Park'\n",
            " 'Patel Nagar' 'Kurar Village' 'Kannamwar Nagar 1' 'Ekta Nagar Charkop'\n",
            " 'Dahisar West' 'Golden Nest' 'Pimpri Pada' 'Yogi Nagar' 'Kaju Pada'\n",
            " 'Versova Village' 'Vakola' 'Saat Rasta' 'Pratiksha Nagar-Sion'\n",
            " 'Chunabhatti' 'Chiku Wadi' 'GTB Nagar' 'Azad Nagar' 'Mulund Colony'\n",
            " 'Jogeshwari West' 'Govandi' 'Hill Road Nagar' 'Poisar' 'SSPCG Society'\n",
            " 'Kondivita Village' 'Guru Teg Bahadur Nagar' 'Sai Baba Nagar' 'Nagpada'\n",
            " 'Antop Hill' 'Dahisar' 'Gorai 2' 'Kurla East' 'Ghodapdeo' 'Juhu Koliwada'\n",
            " 'Kandarpada' 'Park Site Colony' 'Kurla West' 'Yogi Jayraj Nagar'\n",
            " 'Jaganade Chowk' 'Raigarh' 'Evershine Nagar' 'Shantivan' 'Orlem'\n",
            " 'Bhandup East' 'Mahada Colony' 'Ishwar Nagar' 'Shri Krishana Nagar'\n",
            " 'Sion' 'Nansey Colony' 'Charkop Sector 6' 'Charkop' 'Shell Colony'\n",
            " 'Vaishali Nagar' 'Anand Nagar' 'Eksar' 'Cotton Green Zakaria B'\n",
            " 'NL Complex' 'Akurli Nagar' 'Ram Nagar' 'Siddhartha Nagar'\n",
            " 'Jogeshwari East' 'Kharodi' 'Sardar Nagar No 4' 'Vidya Nagari'\n",
            " 'Asalfa Village JJC' 'Mahakali Nagar' 'Balaji Nagar' 'Nirmal Nagar'\n",
            " 'Parsi Wada' 'Meghwadi' 'Gorai 3' 'Garware Chowk' 'Ashok Van'\n",
            " 'Liberty Garden' 'Andheri-Goregaon' 'Amboli' 'Hindustan Chowk'\n",
            " 'LIC Colony' 'Mandapeshwar' 'Kurla Vidya Vihar Belt'\n",
            " 'MIDC Industrial Estate' 'Everard Nagar' 'Chembur Colony' 'Bandivali'\n",
            " 'Nahur' 'Dattani Park' 'Mulund' 'Fort' 'Irla' 'Rawal Pada' 'Gorai 1'\n",
            " 'Grant Road' 'Abhyudaya Nagar' 'Navjeevan Wadi' 'Babrekar Nagar'\n",
            " 'Naupada' 'Dockyard Road' 'Dattu Vaidya Nagar' 'Thakurdwar'\n",
            " 'Somvar Bazar' 'Gondavali Gaothan' 'Charkop Sector 4' 'Satya Nagar'\n",
            " 'Manohar Phalke Chowk' 'LIC Housing Colony' 'Kalina' 'JL Tambe Nagar'\n",
            " 'Nagari Nivara Parishad' 'Valmik Nagar' 'Cheda Nagar' 'Panchsheel Nagar'\n",
            " 'Irani Wada' 'Charkop Sector 2' 'Kherwadi' 'Govandi West' 'Kokan Nagar'\n",
            " 'Government Colony' 'Abhinav Nagar' 'Hari Om Nagar' 'Charkop Sector 3'\n",
            " 'Kannamwar Nagar' 'Hanuman Tekdi' 'Rajan Pada' 'Sher-e-Punjab'\n",
            " 'Charkop Sector 1' 'Amar Nagar' 'Postal Colony' 'Prem Nagar'\n",
            " 'Pestom Sagar' 'Chinch Bunder' 'Mulji Nagar' 'Sai Nagar' 'Pirojsha Nagar'\n",
            " 'Mahatama Gandhi Road' 'Dhanukar Wadi' 'Tilak Nagar – Central Line'\n",
            " 'Alika Nagar' 'Lal Baug' 'Tata Colony' 'Charkop Industrial Estate'\n",
            " 'Nehru Nagar-Kurla' 'Varsha Nagar' 'Piramal Nagar' 'Kulup Wadi'\n",
            " 'Rajendra Nagar' 'Sundar Nagar, Kalina' 'Talmakiwadi' 'Deonar Farm Road'\n",
            " 'Gopal Nagar' 'Natwar Nagar' 'New Tilak Nagar' 'Pillai Chowk'\n",
            " 'Bail Bazar' 'Kurla' 'Satrasta' 'Subhash Nagar' 'Halani Darbar Chowk'\n",
            " 'Vishwakarma Nagar' 'Shimpoli' 'Garodia Nagar' 'Basant Garden'\n",
            " 'Mhatre Wadi' 'Shiv Srishti' 'Khetwadi' 'Marol Maroshi Road'\n",
            " 'Bhandup Village' 'Jagdusha Nagar' 'Chinchpokli' 'P Lokhande Marg'\n",
            " 'Damodar Park' 'Chheda Nagar' 'Girgaum' 'Sunder Nagar' 'Ghartan Pada'\n",
            " 'Van Mali Sabhagruha Chowk' 'Gangawadi' 'Pathanwadi' 'Bhandup'\n",
            " 'Jogeshwari' 'Masjid Bander West' 'Crawford Market' 'P&T Colony'\n",
            " 'Sadanwadi' 'Pahadi Goregaon East' 'Moti Nagar' 'Kalpak Estate'\n",
            " 'Goverdhan Nagar' 'Mitha Nagar' 'Andheri Kurla Road' 'Navjeevan Colony'\n",
            " 'Haridas Nagar' 'Yeshwant Nagar' 'Govandi East' 'Lokmanya Tilak Nagar'\n",
            " 'Shivaji Nagar' 'Film City' 'Bangur Nagar' 'Jawahar Nagar'\n",
            " 'Amar Mahal Junction' 'Rifle Range' 'Gandhi Nagar' 'Mangalwadi'\n",
            " 'Vile Parle' 'Navagaon' 'Yashwant Nagar' 'Tagore Nagar' 'Manish Nagar'\n",
            " 'Kanya Pada' 'Eastern Express Highway' 'Pirojsha Godrej Nagar'\n",
            " 'Pushpa Park' 'Sumer Nagar' 'Babasaheb Worlikar Chowk' 'Gokul Dham'\n",
            " 'Datta Park' 'Bharat Mata Chowk' 'Prem Puriji Chowk' 'Bhim Nagar'\n",
            " 'Collector Colony' 'MHADA Colony Near Yadav Nagar' 'Parle Colony'\n",
            " 'Nadiyawala Colony 2' 'Behram Baug' 'Godrej Hillside Residential Colony'\n",
            " 'Agripada' 'Takshila Nagar' 'Tilak Nagar - Central Mumbai' 'Lakme Road'\n",
            " 'Kamani Junction' 'Amrut Nagar' 'Motilal Nagar 1' 'Western Express Hwy'\n",
            " 'Fine Art Chowk' 'Neelam Nagar' 'Rani Laxmibai Chowk' 'Datar Colony'\n",
            " 'Indira Nagar' 'Veera Desai Chowk' 'Valmiki Nagar' 'Suman Nagar' 'Malad'\n",
            " 'Ratan Nagar' 'Surya Nagar' 'Dr N Pai Marg Chowk' 'Mahul Road'\n",
            " 'Khar East' 'Umershet Pada' 'Jaydev Singh Nagar' 'Motilal Nagar 2'\n",
            " 'Kings Circle' 'Malcom Baug' 'Kandivali' 'Vrindavan' 'Rambaug'\n",
            " 'IIT Colony' 'New Airport Colony' 'Chira Bazaar' 'Santosh Nagar'\n",
            " 'Gogate Wadi' 'Godrej Station Road Colony' 'Motilal Nagar 3'\n",
            " 'Kumud Nagar' 'Null Bazar' 'Swami Vivekanand Chowk' 'King Circle'\n",
            " 'Kamgar Nagar' 'Jijamate Chowk' 'Jeejamata Road'\n",
            " 'Chincholi Pathak-Mallad' 'Azad Nagar 2' 'Gandhi Market' 'Model Town'\n",
            " 'Kanti Nagar' 'Customs Colony' 'Mathuradas Colony' 'Sindhi Colony'\n",
            " 'Golibar' 'Mahim Bay' 'BS Ambedkar Nagar' 'Kothu Wadi' 'Motilal Nagar'\n",
            " 'C Gidwani Marg Chowk' 'R Mehta Chowk' 'Sion Hospital Colony'\n",
            " 'Phase D, Shastri Nagar' 'Charni Road' 'Girgaon' 'Adarsh Nagar'\n",
            " 'Rajawadi' 'Zalwad Nagar' 'Shreyas Colony' 'Vishveshwar Nagar'\n",
            " 'Juhu Tara Road' 'Marine Lines' 'Nai Gaon' 'Five Gardens'\n",
            " 'Gilbert Hill JJC' 'Erangal' 'Shivneri Nagar' 'Chembur Village'\n",
            " 'Lallu Bhai Park' 'Kalina University' 'Paranjape Nagar' 'Mazagaon'\n",
            " 'Jeevan Nagar' 'Marol Naka Junction' 'Police Camp Worli Sea Face'\n",
            " 'Bhawani Shankar' 'Datta Guru Society' 'Nana Chowk' 'Hill Rd'\n",
            " 'Mota Nagar' 'Kabutarkhana Purandare Chowk' 'Millat Nagar' 'Uppar Colaba'\n",
            " 'Hindu Colony' 'S Haralayya Chowk' 'Bharat Nagar' 'Grant Road Area'\n",
            " 'Prabhat Colony' 'Veera Desai Industrial Estate' 'Vaibhav Nagar'\n",
            " 'Thakkar Estate' 'Air India Colony' 'Opera House' 'Hasmukh Nagar'\n",
            " 'Wadia Baug' 'MSES Colony' 'Bandra Reclamation' 'Navy Nagar' 'Gokhale Rd'\n",
            " 'Sasoon Dock' 'Jeet Nagar' 'Kashinath Ghanekar Chowk'\n",
            " 'Narayan Pujari Colony' 'Colaba Upper Apollo Bunder'\n",
            " 'Siddharth Nagar Central Mumbai' 'Holy Family Hospital' 'Hughes Road'\n",
            " 'Nana Chowk Grant Road' 'Carter Rd' \"St Paul's Rd\" 'Dalit Nagar'\n",
            " 'Hanging Garden' 'Chowpatty Area' 'Churchgate station' 'Kanjurmarg'\n",
            " 'Boisar West' 'Bhatwadi' 'Vithal Wadi' 'Kadam Nagar' 'Khanda Colony'\n",
            " 'Tarun Bharat Society' 'Palava' 'Navi Mumbai-Khargar-Panvel' 'Y K Nagar'\n",
            " 'Sambhaji Nagar' 'Indralok' 'Ghodbandar Village' 'Srishti Complex'\n",
            " 'Geeta Nagar' 'Gaikwad Nagar' 'Sane Guruji Nagar' 'Damble Colony'\n",
            " 'Friends Colony' 'Babhai Naka' 'Sahyadri Nagar' 'Mahatre Wadi'\n",
            " 'AAI Residential Complex' 'Vasant Vihar' 'Ganesh Nagar JJC Area'\n",
            " 'Maharashtra Nagar' 'Charkop Sector 7' 'Vazira Naka' 'Ashok Nagar'\n",
            " 'Pratikhsha Nagar' 'Kamgar Colony' 'Charkop Sector 5' 'Dattani Nagar'\n",
            " 'Vini Garden' 'Munjar Nagar' 'Lok Housing Colony' 'Sardar Nagar'\n",
            " 'Vidya Vihar West' 'Sindhu Wadi' 'Christian Colony' 'Taximen Colony'\n",
            " 'Marve' 'Kastur Park' 'Priyadarshini Chowk' 'Nagesh Patliwadi'\n",
            " 'Chikuwadi' 'Jayprakash Nagar' 'Bhandarwada' 'Kasam Baug' 'Vazir Naka'\n",
            " 'Savarkar Chowk' 'Holly Cross Church Chowk' 'Azad Nagar Versova Road'\n",
            " 'Nahur Gaothan' 'Tilak Nagar - Western Suburb'\n",
            " 'Pathanwadi - Kurur Village' 'Kora Kendra' 'Nehru Nagar - Juhu'\n",
            " 'Ganesh Nagar' 'Kanjurmarg West' 'Kokani Pada' 'Crompton Greaves'\n",
            " 'Gundavali' 'Acharya A Maharaj Chowk' 'Eden Gardens' 'Sen Nagar'\n",
            " 'Azad Nagar JJC' 'Ghatla Chowk' 'SV Patel Nagar'\n",
            " 'Hanuman Tekdi - Goregaon East' 'Sahakar Nagar' 'Tanajiwadi'\n",
            " 'Nityanand Nagar' 'Fertiliser Township' 'Bamandaya Pada' 'Deonar Pada'\n",
            " 'VSNL Colony' 'Nadkarni Park' 'Santacruz' 'Sham Nagar'\n",
            " 'Digambar Jain Mandir Chowk' 'New Nagardas Road' 'Laxmi Nagar'\n",
            " 'Shri Nagar' 'Hariyali' 'Ambedkar Garden' 'Indian Oil Nagar'\n",
            " 'PMGP Colony' 'Sainath Nagar' 'Hanuman Road' 'Dr CG Rd'\n",
            " 'Maheshwari Chowk' 'Pirojshah Nagar' 'Banjar Pada, Dindoshi'\n",
            " 'Acharya Nagar' 'Safed Pul' 'RCF Colony' 'Paspoli Dongri Pada'\n",
            " 'RTO Colony' 'Kherwadi Junction' 'MHADA Colony Milat Nagar'\n",
            " 'Sandesh Nagar' 'Kohinoor Compound' 'Acharya Tulsi Chowk'\n",
            " 'BR Ambedkar Chowk' 'Agari Pada' 'Laxmi Industrial Estate' 'Amit Nagar'\n",
            " 'Mukund Nagar' 'Kamala Nagar' 'Sector 86' 'Parmanand Wadi'\n",
            " 'Agarkar Chowk' 'Godrej Colony' 'Teachers Colony' 'Kolivary'\n",
            " 'Pingle Chowk' 'Danda' 'Khar Danda' 'Mazagaon Dock' 'Juhu Tara'\n",
            " 'Vithaldas Nagar' 'Sangeet Mahabharati Chowk' 'BPT Colony' 'Goregaon'\n",
            " 'Worli Tip' 'Police Colony Worli Sea Face' 'S Savarkar Chowk'\n",
            " 'CA Narayan Chowk' 'Dinar Kadekar Chowk' 'Bhagwan Parshwanath Chowk'\n",
            " 'Ambewadi' 'DS Chowk' 'Ranwar' 'Cursow Baug' 'Dr Veersen J Ruparel Chowk'\n",
            " 'Rebello Rd' 'Late Sadashivrao Shirke Chowk' 'Old Khar' 'Kowli Chowk'\n",
            " 'Regal Chowk' 'Babulnath Chowk' 'Advocate Devarshi N Khuman Chowk'\n",
            " 'Nariman Point' 'Water Field Road' 'Bhulabhai Desai Marg' 'Gowalia Tank'\n",
            " 'Marol MIDC Industrial Estate' 'Naigaon West' 'Mahul' 'Liliya Nagar'\n",
            " 'Daulat Nagar' 'Sukar Wadi' 'Aksa Gaon' 'Ambedkar Nagar'\n",
            " 'Lower Govind Nagar' 'MTNL Colony' 'Chinch Pada'\n",
            " 'Nirmal Nagar-Central Line' 'Dhanji Wadi' 'Seepz Area' 'Gautam Nagar'\n",
            " 'Vidya Vihar' 'Vijay Nagar' 'Vivekanand Colony' 'Sai Wadi' 'R K Studio'\n",
            " 'Kirol Village' 'Railway Colony Bandra Terminus' 'R C Marg' 'Ulhasnagar'\n",
            " 'Shiv Shankar Nagar' 'Koladongri' 'L Tilak Colony'\n",
            " 'Air India Staff Colony 2' 'Shirley' 'Fanaswadi' 'Sir Bhalchandra Chowk'\n",
            " 'Metro Cinema Chowk' 'Ahimsa Nagar' 'Vasant Kunj'\n",
            " 'Dr Babasaheb Ambedkar Govt Hos' 'Railway Colony Pali Hill'\n",
            " 'Adv RD Kowte Chowk' 'Lotus Colony' 'Architect Vidyadhar Mhatre Chowk'\n",
            " 'Haji Ali Junction' 'Brhmanwada' 'Zeezamata Nagar'\n",
            " 'Indian Medical Association Chowk' 'Abhishek Nagar' 'Mantralaya'\n",
            " 'Rotary Chowk' 'Barrister Rajni Patel Chowk' 'BD Somani Chowk' 'Koliwadi'\n",
            " 'Rohidas Chowk' 'Shiv Sagar Estate' 'Purandarwadi' 'Priyadarshini Park'\n",
            " 'Teen Batti Chowk' 'Oberoi' 'Ramji Nagar' 'Nimoni Baug']\n",
            "post_date ['2020-01-11' '2019-12-13' '2020-01-13' '2019-12-17' '2020-01-09'\n",
            " '2020-01-10' '2019-11-15' '2019-12-19' '2020-01-07' '2020-01-05'\n",
            " '2019-12-20' '2019-12-23' '2019-12-25' '2019-12-15' '2019-12-26'\n",
            " '2019-12-11' '2019-12-09' '2020-01-12' '2020-01-06' '2019-12-30'\n",
            " '2020-01-03' '2019-11-23' '2019-11-29' '2019-11-18' '2019-11-19'\n",
            " '2019-12-04' '2019-12-07' '2019-12-24' '2019-12-14' '2019-11-03'\n",
            " '2019-12-21' '2020-01-04' '2019-12-31' '2020-01-01' '2019-11-28'\n",
            " '2019-12-05' '2019-12-28' '2019-12-18' '2019-11-20' '2019-11-26'\n",
            " '2019-11-24' '2019-11-25' '2019-11-30' '2019-12-22' '2019-11-21'\n",
            " '2020-01-02' '2019-11-16' '2019-12-12' '2020-01-14' '2019-12-10'\n",
            " '2019-12-29' '2019-12-16' '2019-12-01' '2019-12-06' '2019-12-03'\n",
            " '2019-12-27' '2020-01-08' '2019-11-22' '2019-12-02' '2019-11-27'\n",
            " '2019-12-08' '2019-11-17' '2019-11-14' '2019-09-22' '2019-09-09'\n",
            " '2019-10-15' '2019-11-04' '2019-11-13' '2019-10-24' '2019-09-25'\n",
            " '2019-08-12' '2019-10-20' '2019-10-25' '2019-11-10' '2019-11-05'\n",
            " '2019-10-12' '2019-09-12' '2019-11-06' '2019-11-02' '2019-10-11'\n",
            " '2019-09-10' '2019-11-09' '2019-09-29' '2019-11-12' '2019-09-05'\n",
            " '2019-11-07' '2019-10-21' '2019-10-31' '2019-09-08']\n",
            "poster_name ['Saurabh Patil' 'Gorakh  Chavan' 'Lokesh Joshi' ... 'Kishan Somar'\n",
            " 'Dylan' 'MANOJ KUMAR SAHOO']\n",
            "price [   9000    8060    8000    8500   10000    9500    8700   18000   17500\n",
            "   21000   22000   17000   19900   19000   20000   16000   25000   30000\n",
            "   23000   27000   28500   28000   26000   24000   23500   35000   41000\n",
            "   32000   45000   42000   44000   36000   44400   43000   40000   38000\n",
            "   37000   50000   52000   54500   55000   57000   60000   58000   49220\n",
            "   47000   47001   48000   62000   63000   78000   70000   75000   74000\n",
            "   77000   76000   65000   79000   71000   72000   68000   11000   11500\n",
            "   10500   12500   12000   10200   12200   10437   10333   11300   11900\n",
            "   11750   90000  100000   80000   95000   85000   99000   91000   81000\n",
            "   83000   82000   88000   99500   79999   87000   89000   92300   93000\n",
            "   92000  110000  125000  115000  105000  120000  118000  112000  122000\n",
            "  112921  121000  108000  111000  125002  113000  120001  123900  116000\n",
            "  102000  107000  106000  140000  150000  130000  148000  149000  145000\n",
            "  133000  135001  135000  151000  155000  144000  152000  138000  145500\n",
            "  134500  128000  142000  129000  146000  136000  137100  141000  140001\n",
            "  132000  135500  139000  127000  147000  130500  134000  137800  180000\n",
            "  170000  165000  190000  175000  160000  195000  171991  185000  172500\n",
            "  180100  199000  159000  196000  170200  178245  189000  179000  174000\n",
            "  169000  176000  168000  225000  220000  200000  210000  250000  223000\n",
            "  248000  230000  214000  220600  215000  209000  201000  235000  240000\n",
            "  205000  237000  241000  245000  310000  305000  280000  275000  260000\n",
            "  300000  285000  265000  255000  270000  297500  290000  295000  315000\n",
            "  355000  325000  330000  350000  375000  320000  382000  360000  370000\n",
            "  346000  380000  340000  385000  365000  349000  450000  400000  500000\n",
            "  499000  402000  430000  425000  475000  420000  415000  440000  410000\n",
            "  480000  550000  598000  540000  555000  600000  620000  625000  525000\n",
            "  575000  560000  580000  775000  650000  750000  700000  675000  666000\n",
            "   14500   14000   15000   13500   13000   15500   14100   13200   13999\n",
            "   15079   13938   14200   14677   13400   15400   13850   15001   14800\n",
            "   13900   15550   14600   15700   14750   14700   15200   14499   14001\n",
            "   14999  800000  975000 1000000  877000  850000  900000  825000 1150000\n",
            "   18500   16900   16500   17748   19100   19500   19700   19200   16800\n",
            "   16300   17795   19800   18100   17200   19001   16100   15900   17001\n",
            "   22500   24900   24500   20700   21500   20500   23100   20160   22300\n",
            "   24750   20603   24999   23400   20100   21560   20750   24222   23999\n",
            "   22900   22550   20150   24100   24600   21900   20999   24800   20300\n",
            "  125100  124000  123000  125800  143000  390890  505000  532000  720000\n",
            "  875000  950000   29000   31000   27500   25500   28200   29500   26500\n",
            "   26600   31090   30200   27700   27083   25999   30100   30500   25575\n",
            "   25547   25300   29792   29997   29750   28700   27200   31500   27999\n",
            "   29950   26800   29414   29800   29999   28499   31095   29005   31600\n",
            "   26700   29700   26250   27950   28750   28400   29900   29300 1200000\n",
            "   34400   34000   33000   37100   38999   32500   33400   39000   35500\n",
            "   34500   34333   34999   38500   33500   37500   34300   36500   39500\n",
            "   36999   33100   32300   32222   34900   35100   35009   36800   31999\n",
            "   38900   37200   34006   36100   32999   36400   35800   37400   37499\n",
            "   37999   32100   38100   35010   38400   35003   34100   42500   39999\n",
            "   48500   49500   48100   46000   39990   49000   42900   49990   44500\n",
            "   42223   40200   47500   40600   43500   44200   45800   47800   41777\n",
            "   41500   40500   40100   47600   45500   43151   47300   40006   42999\n",
            "   42600   42700   53000   56000   51000   52500   54000   50500   51500\n",
            "   73000   67000   66000   65500   99998   98000    3500    4000    3999\n",
            "    4500    3900    5000    5500    5750    5600    6000    6500    7000\n",
            "    7500    7600    2500    2200    3000    8900    9300    9123    8800\n",
            "    8200   11048   12383   10250   13750   17800   18600   18700   18200\n",
            "   18300   16999   17499   20200   30001   26900   30450   27800   28583\n",
            "   29983   28003   26200   25400   37001   35333   33900   37800   36099\n",
            "   35999   37004   37900   38950   39400   37600   38001   35789   38888\n",
            "   38800   37005   38700   37002   46500   49999   50002   48150   50100\n",
            "   43100   49200   48900   46800   44300   42400   47700   46200   49988\n",
            "   44900   50004   45200   40800   42300   49111   47999   42100   44450\n",
            "   45913   50001   43900   42200   44600   48222   44800   45700   43300\n",
            "   46600   41997   45060   48600   45100   41600   49400   48005   48800\n",
            "   50025   46400   43250   59500   61000   59000   51999   57999   59400\n",
            "   55500   53500   55005   55111   50667   56833   57800   56500   62500\n",
            "   53800   54600   63003   61500   57500   52999   53999   54900   59999\n",
            "   53400   56999   58500   60500   60001   55444   60100   62999   52800\n",
            "   56200   51900   57600   54100   64000   77500   69000   70300   78700\n",
            "   63333   64500   75500   72500   64200   65200   74002   65100   64999\n",
            "   68500   73500   71500   64100   72001   75200   69500   63700   72002\n",
            "   67500   65700   74500   65400   97000   84000   96000   85800   94000\n",
            "   82500   79500   99999   79900   85600   90600   80357   85500   90001\n",
            "   95001   99888   83500   86000   79800   96500   80111   81666   83333\n",
            "  109000  101000  114000  105400  100005  120002  100500  119000  104000\n",
            "  105555  130001  684000    3250    4800    4999    4400    4700   13333\n",
            "   48001   47333   40669   47002   48200   46502   48002   42004   44002\n",
            "   48003   45600   60200   53100   59700   55555   58100   59001   62916\n",
            "   51200   56600   59005   52003   52100   63001   59791   64800   78005\n",
            "   69300   73333   76500   79002   66500   67999   69999   73501   67501\n",
            "   64005   70400   67200   78500   65003   72999   63500   63558   72700\n",
            "   72750   78800   71750   70900   77100   68800   73350   73100   75100\n",
            "    6200    6100    6250    5100    6300   86200   94500   80500   93800\n",
            "   94999   88500   96582   86500   90542   80100   91500   87500   87400\n",
            "   90002   84500   95500   92500   93500   86100   80200   88900   82600\n",
            "   89500  125084  103000  120700  110009  120100  102857  103500  110800\n",
            "  114999  102500  156000  131999  129500  126000  153000  137000  130100\n",
            "  131000  161000  182000  194000  164000  162000  242000  221000  203000\n",
            "  202000  200100  200500  298000  279000  268000  275100  289000  345000\n",
            "  395000  390000  445000  725000    7700    7200    6600    6800    7100\n",
            "    7800    7250    6900    7560]\n",
            "project [nan 'Veena Dynasty' 'Agarwal Lifestyle' ... 'Mathuresh Krupa' 'Regalia'\n",
            " 'Brooklyn Park']\n",
            "title ['1 BHK Apartment for Rent in Malad West'\n",
            " '1 BHK Apartment for Rent in Veena Dynasty, Vasai'\n",
            " '1 BHK Apartment for Rent in Agarwal Lifestyle, Virar' ...\n",
            " '1 BHK Apartment for Rent in Y K Nagar'\n",
            " '1 BHK Apartment for Rent in Cosmos Solitaire, Virar West'\n",
            " ' 2 BHK Multistorey Apartment for Rent in Bandra West 1100 sqft']\n",
            "trans ['Rent' nan]\n",
            "type ['Apartment' 'Builder Floor Apartment' 'Service Apartment'\n",
            " 'Multistorey Apartment' 'Residential House' 'Penthouse']\n",
            "url ['/propertyDetails/1-BHK-350-Sq-ft-Multistorey-Apartment-FOR-Rent-Malad-West-in-Mumbai&id=4d423435333439383537'\n",
            " '/propertyDetails/1-BHK-652-Sq-ft-Multistorey-Apartment-FOR-Rent-Vasai-in-Mumbai&id=4d423435393630393733'\n",
            " '/propertyDetails/1-BHK-635-Sq-ft-Multistorey-Apartment-FOR-Rent-Virar-in-Mumbai&id=4d423436363838383439'\n",
            " ...\n",
            " '/propertyDetails/1-BHK-700-Sq-ft-Multistorey-Apartment-FOR-Rent-Virar-in-Mumbai&id=4d423436363030393831'\n",
            " '/propertyDetails/1-BHK-750-Sq-ft-Multistorey-Apartment-FOR-Rent-Virar-in-Mumbai&id=4d423436363030393433'\n",
            " '/propertyDetails/2-BHK-1100-Sq-ft-Multistorey-Apartment-FOR-Rent-Bandra-West-in-Mumbai-r1&id=4d423138363630353837']\n",
            "user_type ['Agent' 'Owner' 'Builder']\n"
          ],
          "name": "stdout"
        }
      ]
    },
    {
      "cell_type": "code",
      "metadata": {
        "id": "N5sziselwMya"
      },
      "source": [
        "df.dropna(axis=0,how='any',inplace=True)  # After going through this case study multiple times I realized it's better to just drop all the nan values. "
      ],
      "execution_count": 88,
      "outputs": []
    },
    {
      "cell_type": "code",
      "metadata": {
        "id": "1_zEHQyLwO94"
      },
      "source": [
        "df['price_per_sqft'] = df['price']/df['area']"
      ],
      "execution_count": 89,
      "outputs": []
    },
    {
      "cell_type": "code",
      "metadata": {
        "id": "yGaH7Ho-wQW9"
      },
      "source": [
        "df_cat = df.select_dtypes('object')\r\n",
        "df_num = df.select_dtypes(['int64','float64'])"
      ],
      "execution_count": 90,
      "outputs": []
    },
    {
      "cell_type": "code",
      "metadata": {
        "colab": {
          "base_uri": "https://localhost:8080/",
          "height": 278
        },
        "id": "Z-s302r_wRdO",
        "outputId": "bca32f9a-60bb-480f-f319-b1e9f839c7ef"
      },
      "source": [
        "df_cat.head()"
      ],
      "execution_count": 91,
      "outputs": [
        {
          "output_type": "execute_result",
          "data": {
            "text/html": [
              "<div>\n",
              "<style scoped>\n",
              "    .dataframe tbody tr th:only-of-type {\n",
              "        vertical-align: middle;\n",
              "    }\n",
              "\n",
              "    .dataframe tbody tr th {\n",
              "        vertical-align: top;\n",
              "    }\n",
              "\n",
              "    .dataframe thead th {\n",
              "        text-align: right;\n",
              "    }\n",
              "</style>\n",
              "<table border=\"1\" class=\"dataframe\">\n",
              "  <thead>\n",
              "    <tr style=\"text-align: right;\">\n",
              "      <th></th>\n",
              "      <th>city</th>\n",
              "      <th>desc</th>\n",
              "      <th>dev_name</th>\n",
              "      <th>furnishing</th>\n",
              "      <th>locality</th>\n",
              "      <th>post_date</th>\n",
              "      <th>poster_name</th>\n",
              "      <th>project</th>\n",
              "      <th>title</th>\n",
              "      <th>trans</th>\n",
              "      <th>type</th>\n",
              "      <th>url</th>\n",
              "      <th>user_type</th>\n",
              "    </tr>\n",
              "  </thead>\n",
              "  <tbody>\n",
              "    <tr>\n",
              "      <th>1</th>\n",
              "      <td>Mumbai</td>\n",
              "      <td>2 Bath,Semi-Furnished,East facing A 1BHK apart...</td>\n",
              "      <td>Veena Group</td>\n",
              "      <td>Semi-Furnished</td>\n",
              "      <td>Vasai</td>\n",
              "      <td>2020-01-11</td>\n",
              "      <td>Gorakh  Chavan</td>\n",
              "      <td>Veena Dynasty</td>\n",
              "      <td>1 BHK Apartment for Rent in Veena Dynasty, Vasai</td>\n",
              "      <td>Rent</td>\n",
              "      <td>Apartment</td>\n",
              "      <td>/propertyDetails/1-BHK-652-Sq-ft-Multistorey-A...</td>\n",
              "      <td>Agent</td>\n",
              "    </tr>\n",
              "    <tr>\n",
              "      <th>2</th>\n",
              "      <td>Mumbai</td>\n",
              "      <td>2 Bath,Semi-Furnished,4 floor,West facing A be...</td>\n",
              "      <td>Agarwal Group</td>\n",
              "      <td>Semi-Furnished</td>\n",
              "      <td>Virar</td>\n",
              "      <td>2019-12-13</td>\n",
              "      <td>Lokesh Joshi</td>\n",
              "      <td>Agarwal Lifestyle</td>\n",
              "      <td>1 BHK Apartment for Rent in Agarwal Lifestyle,...</td>\n",
              "      <td>Rent</td>\n",
              "      <td>Apartment</td>\n",
              "      <td>/propertyDetails/1-BHK-635-Sq-ft-Multistorey-A...</td>\n",
              "      <td>Agent</td>\n",
              "    </tr>\n",
              "    <tr>\n",
              "      <th>4</th>\n",
              "      <td>Mumbai</td>\n",
              "      <td>1 Bath,Furnished,2 floor,North facing 24 hours...</td>\n",
              "      <td>Millennium Group</td>\n",
              "      <td>Furnished</td>\n",
              "      <td>Naigaon East</td>\n",
              "      <td>2019-12-17</td>\n",
              "      <td>Charmaine  Gomez</td>\n",
              "      <td>Mittal Enclave</td>\n",
              "      <td>1 BHK Apartment for Rent in Mittal Enclave, Na...</td>\n",
              "      <td>Rent</td>\n",
              "      <td>Apartment</td>\n",
              "      <td>/propertyDetails/1-BHK-625-Sq-ft-Multistorey-A...</td>\n",
              "      <td>Owner</td>\n",
              "    </tr>\n",
              "    <tr>\n",
              "      <th>5</th>\n",
              "      <td>Mumbai</td>\n",
              "      <td>2 Bath,Unfurnished,9 floor,North - East facing...</td>\n",
              "      <td>Poonam Developers</td>\n",
              "      <td>Unfurnished</td>\n",
              "      <td>Virar West</td>\n",
              "      <td>2020-01-13</td>\n",
              "      <td>Sen Sales Team</td>\n",
              "      <td>Poonam Park View</td>\n",
              "      <td>1 BHK Apartment for Rent in Poonam Park View, ...</td>\n",
              "      <td>Rent</td>\n",
              "      <td>Apartment</td>\n",
              "      <td>/propertyDetails/1-BHK-630-Sq-ft-Multistorey-A...</td>\n",
              "      <td>Agent</td>\n",
              "    </tr>\n",
              "    <tr>\n",
              "      <th>6</th>\n",
              "      <td>Mumbai</td>\n",
              "      <td>2 Bath,Furnished,4 floor,East facing This is a...</td>\n",
              "      <td>Evershine Builders</td>\n",
              "      <td>Furnished</td>\n",
              "      <td>Virar</td>\n",
              "      <td>2020-01-13</td>\n",
              "      <td>Harmesh  Damania</td>\n",
              "      <td>Evershine Homes</td>\n",
              "      <td>1 BHK Apartment for Rent in Evershine Homes, V...</td>\n",
              "      <td>Rent</td>\n",
              "      <td>Apartment</td>\n",
              "      <td>/propertyDetails/1-BHK-690-Sq-ft-Multistorey-A...</td>\n",
              "      <td>Agent</td>\n",
              "    </tr>\n",
              "  </tbody>\n",
              "</table>\n",
              "</div>"
            ],
            "text/plain": [
              "     city  ... user_type\n",
              "1  Mumbai  ...     Agent\n",
              "2  Mumbai  ...     Agent\n",
              "4  Mumbai  ...     Owner\n",
              "5  Mumbai  ...     Agent\n",
              "6  Mumbai  ...     Agent\n",
              "\n",
              "[5 rows x 13 columns]"
            ]
          },
          "metadata": {
            "tags": []
          },
          "execution_count": 91
        }
      ]
    },
    {
      "cell_type": "code",
      "metadata": {
        "colab": {
          "base_uri": "https://localhost:8080/",
          "height": 194
        },
        "id": "ttdbmKSOwSpQ",
        "outputId": "76ec82b2-a8b8-4580-e0e4-2fca12ec9459"
      },
      "source": [
        "df_num.head()"
      ],
      "execution_count": 92,
      "outputs": [
        {
          "output_type": "execute_result",
          "data": {
            "text/html": [
              "<div>\n",
              "<style scoped>\n",
              "    .dataframe tbody tr th:only-of-type {\n",
              "        vertical-align: middle;\n",
              "    }\n",
              "\n",
              "    .dataframe tbody tr th {\n",
              "        vertical-align: top;\n",
              "    }\n",
              "\n",
              "    .dataframe thead th {\n",
              "        text-align: right;\n",
              "    }\n",
              "</style>\n",
              "<table border=\"1\" class=\"dataframe\">\n",
              "  <thead>\n",
              "    <tr style=\"text-align: right;\">\n",
              "      <th></th>\n",
              "      <th>area</th>\n",
              "      <th>bathroom_num</th>\n",
              "      <th>bedroom_num</th>\n",
              "      <th>price</th>\n",
              "      <th>price_per_sqft</th>\n",
              "    </tr>\n",
              "  </thead>\n",
              "  <tbody>\n",
              "    <tr>\n",
              "      <th>1</th>\n",
              "      <td>652.0</td>\n",
              "      <td>2.0</td>\n",
              "      <td>1</td>\n",
              "      <td>8060</td>\n",
              "      <td>12.361963</td>\n",
              "    </tr>\n",
              "    <tr>\n",
              "      <th>2</th>\n",
              "      <td>635.0</td>\n",
              "      <td>2.0</td>\n",
              "      <td>1</td>\n",
              "      <td>8000</td>\n",
              "      <td>12.598425</td>\n",
              "    </tr>\n",
              "    <tr>\n",
              "      <th>4</th>\n",
              "      <td>625.0</td>\n",
              "      <td>1.0</td>\n",
              "      <td>1</td>\n",
              "      <td>9000</td>\n",
              "      <td>14.400000</td>\n",
              "    </tr>\n",
              "    <tr>\n",
              "      <th>5</th>\n",
              "      <td>630.0</td>\n",
              "      <td>2.0</td>\n",
              "      <td>1</td>\n",
              "      <td>8000</td>\n",
              "      <td>12.698413</td>\n",
              "    </tr>\n",
              "    <tr>\n",
              "      <th>6</th>\n",
              "      <td>690.0</td>\n",
              "      <td>2.0</td>\n",
              "      <td>1</td>\n",
              "      <td>8500</td>\n",
              "      <td>12.318841</td>\n",
              "    </tr>\n",
              "  </tbody>\n",
              "</table>\n",
              "</div>"
            ],
            "text/plain": [
              "    area  bathroom_num  bedroom_num  price  price_per_sqft\n",
              "1  652.0           2.0            1   8060       12.361963\n",
              "2  635.0           2.0            1   8000       12.598425\n",
              "4  625.0           1.0            1   9000       14.400000\n",
              "5  630.0           2.0            1   8000       12.698413\n",
              "6  690.0           2.0            1   8500       12.318841"
            ]
          },
          "metadata": {
            "tags": []
          },
          "execution_count": 92
        }
      ]
    },
    {
      "cell_type": "code",
      "metadata": {
        "id": "XhUnL26awT5y"
      },
      "source": [
        "df_cat.drop(['desc','dev_name','project','url','title','trans','poster_name','post_date','city','type'],axis=1,inplace=True)"
      ],
      "execution_count": 93,
      "outputs": []
    },
    {
      "cell_type": "code",
      "metadata": {
        "colab": {
          "base_uri": "https://localhost:8080/"
        },
        "id": "Lzs4ZFm5wVLE",
        "outputId": "aa0cf821-ea16-47b8-926f-7a33457b6b31"
      },
      "source": [
        "print(df_num.isnull().sum())\r\n",
        "print(\"\\n\")\r\n",
        "print(df_cat.isnull().sum())"
      ],
      "execution_count": 94,
      "outputs": [
        {
          "output_type": "stream",
          "text": [
            "area              0\n",
            "bathroom_num      0\n",
            "bedroom_num       0\n",
            "price             0\n",
            "price_per_sqft    0\n",
            "dtype: int64\n",
            "\n",
            "\n",
            "furnishing    0\n",
            "locality      0\n",
            "user_type     0\n",
            "dtype: int64\n"
          ],
          "name": "stdout"
        }
      ]
    },
    {
      "cell_type": "code",
      "metadata": {
        "id": "iuX-0ifCwW-u"
      },
      "source": [
        "from sklearn.preprocessing import LabelEncoder\r\n",
        "le = LabelEncoder()\r\n",
        "for col in df_cat:\r\n",
        "  df_cat[col]=le.fit_transform(df_cat[col])"
      ],
      "execution_count": 95,
      "outputs": []
    },
    {
      "cell_type": "code",
      "metadata": {
        "colab": {
          "base_uri": "https://localhost:8080/"
        },
        "id": "4f3rB2mZwY3c",
        "outputId": "8d1a3fb6-72f9-4082-d6e9-ef9f92322345"
      },
      "source": [
        "from scipy.stats import skew\r\n",
        "\r\n",
        "print(\"Checking the distribution of data in every column\")\r\n",
        "for col in df_num:\r\n",
        "  print(col)\r\n",
        "  print(\"Skew: \",skew(df_num[col]))\r\n",
        "  #sns.histplot(df_num[col])\r\n",
        "  print(\"----\"*5)"
      ],
      "execution_count": 96,
      "outputs": [
        {
          "output_type": "stream",
          "text": [
            "Checking the distribution of data in every column\n",
            "area\n",
            "Skew:  2.1258738259859515\n",
            "--------------------\n",
            "bathroom_num\n",
            "Skew:  1.2358425741569214\n",
            "--------------------\n",
            "bedroom_num\n",
            "Skew:  0.24227171201752012\n",
            "--------------------\n",
            "price\n",
            "Skew:  4.294647535024238\n",
            "--------------------\n",
            "price_per_sqft\n",
            "Skew:  85.22750428743701\n",
            "--------------------\n"
          ],
          "name": "stdout"
        }
      ]
    },
    {
      "cell_type": "markdown",
      "metadata": {
        "id": "upYtBPT5wdxV"
      },
      "source": [
        "AS we can notice that our skew is pretty high for area, bathroom_num, floor_count, floor_num so we are going to try to work on this. \r\n",
        "\r\n",
        "Skewness should always be in the range of -0.5 to +0.5 "
      ]
    },
    {
      "cell_type": "code",
      "metadata": {
        "id": "3HQJ7V4awbsR"
      },
      "source": [
        "df2 = df_num.copy()"
      ],
      "execution_count": 97,
      "outputs": []
    },
    {
      "cell_type": "code",
      "metadata": {
        "colab": {
          "base_uri": "https://localhost:8080/"
        },
        "id": "a__HDxN5wgf0",
        "outputId": "fc7a3cdf-cc14-4db9-c9a5-f2542082a71a"
      },
      "source": [
        "df_num['area'] = np.log(df_num['area'])\r\n",
        "skew(df_num['area'])"
      ],
      "execution_count": 98,
      "outputs": [
        {
          "output_type": "execute_result",
          "data": {
            "text/plain": [
              "-0.0012150139261569617"
            ]
          },
          "metadata": {
            "tags": []
          },
          "execution_count": 98
        }
      ]
    },
    {
      "cell_type": "code",
      "metadata": {
        "colab": {
          "base_uri": "https://localhost:8080/"
        },
        "id": "LhQxJltQwibm",
        "outputId": "fb1e49b2-645f-4ffc-ea0b-fc77b1d83a2b"
      },
      "source": [
        "df_num['bathroom_num'] = np.sqrt(df_num['bathroom_num'])\r\n",
        "skew(df_num['bathroom_num'])"
      ],
      "execution_count": 99,
      "outputs": [
        {
          "output_type": "execute_result",
          "data": {
            "text/plain": [
              "0.5398819482200872"
            ]
          },
          "metadata": {
            "tags": []
          },
          "execution_count": 99
        }
      ]
    },
    {
      "cell_type": "code",
      "metadata": {
        "colab": {
          "base_uri": "https://localhost:8080/"
        },
        "id": "qm4DsdPswlh1",
        "outputId": "12efbbf8-0470-4f1d-f4fd-d1472e7c94f7"
      },
      "source": [
        "df_num['bedroom_num'].value_counts()"
      ],
      "execution_count": 100,
      "outputs": [
        {
          "output_type": "execute_result",
          "data": {
            "text/plain": [
              "2    7033\n",
              "3    5486\n",
              "1    3305\n",
              "4    1190\n",
              "5      91\n",
              "Name: bedroom_num, dtype: int64"
            ]
          },
          "metadata": {
            "tags": []
          },
          "execution_count": 100
        }
      ]
    },
    {
      "cell_type": "code",
      "metadata": {
        "colab": {
          "base_uri": "https://localhost:8080/",
          "height": 279
        },
        "id": "zWYLgAO-wsQo",
        "outputId": "6d15b543-d4f9-4319-84c6-c9e7e0e4fbef"
      },
      "source": [
        "plt.hist(df_num['bedroom_num'])\r\n",
        "plt.xlabel('Number of bedrooms')\r\n",
        "plt.ylabel('count')\r\n",
        "plt.show()"
      ],
      "execution_count": 101,
      "outputs": [
        {
          "output_type": "display_data",
          "data": {
            "image/png": "[encoded data removed]",
            "text/plain": [
              "<Figure size 432x288 with 1 Axes>"
            ]
          },
          "metadata": {
            "tags": [],
            "needs_background": "light"
          }
        }
      ]
    },
    {
      "cell_type": "code",
      "metadata": {
        "colab": {
          "base_uri": "https://localhost:8080/",
          "height": 279
        },
        "id": "50PeIVCDwvDi",
        "outputId": "943bff85-7422-4766-f181-403b81ab87d5"
      },
      "source": [
        "plt.hist(df_num['bathroom_num'], density=False, histtype='stepfilled')\r\n",
        "plt.xlabel('Number of bathrooms')\r\n",
        "plt.ylabel('count')\r\n",
        "plt.show()"
      ],
      "execution_count": 102,
      "outputs": [
        {
          "output_type": "display_data",
          "data": {
            "image/png": "[encoded data removed]",
            "text/plain": [
              "<Figure size 432x288 with 1 Axes>"
            ]
          },
          "metadata": {
            "tags": [],
            "needs_background": "light"
          }
        }
      ]
    },
    {
      "cell_type": "code",
      "metadata": {
        "colab": {
          "base_uri": "https://localhost:8080/",
          "height": 194
        },
        "id": "ymhR6vEiwwTe",
        "outputId": "3eb7339e-8fab-47c8-f161-709bb67d2550"
      },
      "source": [
        "df_num.corr()"
      ],
      "execution_count": 103,
      "outputs": [
        {
          "output_type": "execute_result",
          "data": {
            "text/html": [
              "<div>\n",
              "<style scoped>\n",
              "    .dataframe tbody tr th:only-of-type {\n",
              "        vertical-align: middle;\n",
              "    }\n",
              "\n",
              "    .dataframe tbody tr th {\n",
              "        vertical-align: top;\n",
              "    }\n",
              "\n",
              "    .dataframe thead th {\n",
              "        text-align: right;\n",
              "    }\n",
              "</style>\n",
              "<table border=\"1\" class=\"dataframe\">\n",
              "  <thead>\n",
              "    <tr style=\"text-align: right;\">\n",
              "      <th></th>\n",
              "      <th>area</th>\n",
              "      <th>bathroom_num</th>\n",
              "      <th>bedroom_num</th>\n",
              "      <th>price</th>\n",
              "      <th>price_per_sqft</th>\n",
              "    </tr>\n",
              "  </thead>\n",
              "  <tbody>\n",
              "    <tr>\n",
              "      <th>area</th>\n",
              "      <td>1.000000</td>\n",
              "      <td>0.801590</td>\n",
              "      <td>0.885137</td>\n",
              "      <td>0.667237</td>\n",
              "      <td>-0.055581</td>\n",
              "    </tr>\n",
              "    <tr>\n",
              "      <th>bathroom_num</th>\n",
              "      <td>0.801590</td>\n",
              "      <td>1.000000</td>\n",
              "      <td>0.824630</td>\n",
              "      <td>0.591168</td>\n",
              "      <td>0.054983</td>\n",
              "    </tr>\n",
              "    <tr>\n",
              "      <th>bedroom_num</th>\n",
              "      <td>0.885137</td>\n",
              "      <td>0.824630</td>\n",
              "      <td>1.000000</td>\n",
              "      <td>0.582484</td>\n",
              "      <td>0.054796</td>\n",
              "    </tr>\n",
              "    <tr>\n",
              "      <th>price</th>\n",
              "      <td>0.667237</td>\n",
              "      <td>0.591168</td>\n",
              "      <td>0.582484</td>\n",
              "      <td>1.000000</td>\n",
              "      <td>0.185488</td>\n",
              "    </tr>\n",
              "    <tr>\n",
              "      <th>price_per_sqft</th>\n",
              "      <td>-0.055581</td>\n",
              "      <td>0.054983</td>\n",
              "      <td>0.054796</td>\n",
              "      <td>0.185488</td>\n",
              "      <td>1.000000</td>\n",
              "    </tr>\n",
              "  </tbody>\n",
              "</table>\n",
              "</div>"
            ],
            "text/plain": [
              "                    area  bathroom_num  bedroom_num     price  price_per_sqft\n",
              "area            1.000000      0.801590     0.885137  0.667237       -0.055581\n",
              "bathroom_num    0.801590      1.000000     0.824630  0.591168        0.054983\n",
              "bedroom_num     0.885137      0.824630     1.000000  0.582484        0.054796\n",
              "price           0.667237      0.591168     0.582484  1.000000        0.185488\n",
              "price_per_sqft -0.055581      0.054983     0.054796  0.185488        1.000000"
            ]
          },
          "metadata": {
            "tags": []
          },
          "execution_count": 103
        }
      ]
    },
    {
      "cell_type": "code",
      "metadata": {
        "id": "IPUmaOPCwzZm"
      },
      "source": [
        "df_new = pd.concat([df_num,df_cat],axis=1)"
      ],
      "execution_count": 104,
      "outputs": []
    },
    {
      "cell_type": "code",
      "metadata": {
        "colab": {
          "base_uri": "https://localhost:8080/",
          "height": 194
        },
        "id": "VczI7Bp3wzXz",
        "outputId": "96e839b4-5cf5-4a72-c10f-5c1551cf3ec5"
      },
      "source": [
        "df_new.head()"
      ],
      "execution_count": 105,
      "outputs": [
        {
          "output_type": "execute_result",
          "data": {
            "text/html": [
              "<div>\n",
              "<style scoped>\n",
              "    .dataframe tbody tr th:only-of-type {\n",
              "        vertical-align: middle;\n",
              "    }\n",
              "\n",
              "    .dataframe tbody tr th {\n",
              "        vertical-align: top;\n",
              "    }\n",
              "\n",
              "    .dataframe thead th {\n",
              "        text-align: right;\n",
              "    }\n",
              "</style>\n",
              "<table border=\"1\" class=\"dataframe\">\n",
              "  <thead>\n",
              "    <tr style=\"text-align: right;\">\n",
              "      <th></th>\n",
              "      <th>area</th>\n",
              "      <th>bathroom_num</th>\n",
              "      <th>bedroom_num</th>\n",
              "      <th>price</th>\n",
              "      <th>price_per_sqft</th>\n",
              "      <th>furnishing</th>\n",
              "      <th>locality</th>\n",
              "      <th>user_type</th>\n",
              "    </tr>\n",
              "  </thead>\n",
              "  <tbody>\n",
              "    <tr>\n",
              "      <th>1</th>\n",
              "      <td>6.480045</td>\n",
              "      <td>1.414214</td>\n",
              "      <td>1</td>\n",
              "      <td>8060</td>\n",
              "      <td>12.361963</td>\n",
              "      <td>1</td>\n",
              "      <td>410</td>\n",
              "      <td>0</td>\n",
              "    </tr>\n",
              "    <tr>\n",
              "      <th>2</th>\n",
              "      <td>6.453625</td>\n",
              "      <td>1.414214</td>\n",
              "      <td>1</td>\n",
              "      <td>8000</td>\n",
              "      <td>12.598425</td>\n",
              "      <td>1</td>\n",
              "      <td>426</td>\n",
              "      <td>0</td>\n",
              "    </tr>\n",
              "    <tr>\n",
              "      <th>4</th>\n",
              "      <td>6.437752</td>\n",
              "      <td>1.000000</td>\n",
              "      <td>1</td>\n",
              "      <td>9000</td>\n",
              "      <td>14.400000</td>\n",
              "      <td>0</td>\n",
              "      <td>282</td>\n",
              "      <td>2</td>\n",
              "    </tr>\n",
              "    <tr>\n",
              "      <th>5</th>\n",
              "      <td>6.445720</td>\n",
              "      <td>1.414214</td>\n",
              "      <td>1</td>\n",
              "      <td>8000</td>\n",
              "      <td>12.698413</td>\n",
              "      <td>2</td>\n",
              "      <td>428</td>\n",
              "      <td>0</td>\n",
              "    </tr>\n",
              "    <tr>\n",
              "      <th>6</th>\n",
              "      <td>6.536692</td>\n",
              "      <td>1.414214</td>\n",
              "      <td>1</td>\n",
              "      <td>8500</td>\n",
              "      <td>12.318841</td>\n",
              "      <td>0</td>\n",
              "      <td>426</td>\n",
              "      <td>0</td>\n",
              "    </tr>\n",
              "  </tbody>\n",
              "</table>\n",
              "</div>"
            ],
            "text/plain": [
              "       area  bathroom_num  bedroom_num  ...  furnishing  locality  user_type\n",
              "1  6.480045      1.414214            1  ...           1       410          0\n",
              "2  6.453625      1.414214            1  ...           1       426          0\n",
              "4  6.437752      1.000000            1  ...           0       282          2\n",
              "5  6.445720      1.414214            1  ...           2       428          0\n",
              "6  6.536692      1.414214            1  ...           0       426          0\n",
              "\n",
              "[5 rows x 8 columns]"
            ]
          },
          "metadata": {
            "tags": []
          },
          "execution_count": 105
        }
      ]
    },
    {
      "cell_type": "code",
      "metadata": {
        "colab": {
          "base_uri": "https://localhost:8080/",
          "height": 552
        },
        "id": "2bRsNlTEwzV4",
        "outputId": "863f71ec-aecb-4b03-bd25-0e14d2f253b6"
      },
      "source": [
        "plt.figure(figsize=(8,8))\r\n",
        "sns.heatmap(df_new.corr(),annot=True)\r\n",
        "plt.show()"
      ],
      "execution_count": 106,
      "outputs": [
        {
          "output_type": "display_data",
          "data": {
            "image/png": "[encoded data removed]",
            "text/plain": [
              "<Figure size 576x576 with 2 Axes>"
            ]
          },
          "metadata": {
            "tags": [],
            "needs_background": "light"
          }
        }
      ]
    },
    {
      "cell_type": "code",
      "metadata": {
        "colab": {
          "base_uri": "https://localhost:8080/",
          "height": 563
        },
        "id": "GAWRQ--XwzT9",
        "outputId": "aa037898-d353-4b2f-f679-b6cd351fcc62"
      },
      "source": [
        "plt.figure(figsize=(9,9))\r\n",
        "sns.boxplot(data=df_new, x='bedroom_num',y='price',orient=\"v\")\r\n",
        "plt.show()"
      ],
      "execution_count": 107,
      "outputs": [
        {
          "output_type": "display_data",
          "data": {
            "image/png": "[encoded data removed]",
            "text/plain": [
              "<Figure size 648x648 with 1 Axes>"
            ]
          },
          "metadata": {
            "tags": [],
            "needs_background": "light"
          }
        }
      ]
    },
    {
      "cell_type": "code",
      "metadata": {
        "colab": {
          "base_uri": "https://localhost:8080/",
          "height": 563
        },
        "id": "aD9JsWKFwzSW",
        "outputId": "5ffef37c-4198-4483-cb76-08057767a74c"
      },
      "source": [
        "plt.figure(figsize=(9,9))\r\n",
        "sns.boxplot(data=df_new, x='bathroom_num',y='price',orient=\"v\")\r\n",
        "plt.show()"
      ],
      "execution_count": 108,
      "outputs": [
        {
          "output_type": "display_data",
          "data": {
            "image/png": "[encoded data removed]",
            "text/plain": [
              "<Figure size 648x648 with 1 Axes>"
            ]
          },
          "metadata": {
            "tags": [],
            "needs_background": "light"
          }
        }
      ]
    },
    {
      "cell_type": "code",
      "metadata": {
        "colab": {
          "base_uri": "https://localhost:8080/",
          "height": 551
        },
        "id": "_6NGoLdmwzQh",
        "outputId": "3119cb30-77cf-4e1b-abdc-a769fd0e3d29"
      },
      "source": [
        "plt.figure(figsize=(9,9))\r\n",
        "sns.boxplot(data=df_new, x='price', linewidth=1.5)\r\n",
        "plt.show()"
      ],
      "execution_count": 109,
      "outputs": [
        {
          "output_type": "display_data",
          "data": {
            "image/png": "[encoded data removed]",
            "text/plain": [
              "<Figure size 648x648 with 1 Axes>"
            ]
          },
          "metadata": {
            "tags": [],
            "needs_background": "light"
          }
        }
      ]
    },
    {
      "cell_type": "code",
      "metadata": {
        "colab": {
          "base_uri": "https://localhost:8080/"
        },
        "id": "s6rULtuswzOv",
        "outputId": "fd6fbba4-9909-44f8-c58a-a103a7bc4b32"
      },
      "source": [
        "# To find outliers\r\n",
        "\r\n",
        "q1 = df_new['price'].quantile(0.25)\r\n",
        "q3 = df_new['price'].quantile(0.75)\r\n",
        "IQR = q3-q1\r\n",
        "Upper_range = q3 + IQR*1.5\r\n",
        "print(q1, q3)\r\n",
        "print(Upper_range)\r\n",
        "print(len(df_new))"
      ],
      "execution_count": 110,
      "outputs": [
        {
          "output_type": "stream",
          "text": [
            "36000.0 85000.0\n",
            "158500.0\n",
            "17105\n"
          ],
          "name": "stdout"
        }
      ]
    },
    {
      "cell_type": "code",
      "metadata": {
        "colab": {
          "base_uri": "https://localhost:8080/",
          "height": 399
        },
        "id": "0iqsLG1jwzMx",
        "outputId": "8a2c45e3-42ad-4dc6-ab7d-1aa6bf3f88c0"
      },
      "source": [
        "df_new[df_new['price'] > Upper_range]"
      ],
      "execution_count": 111,
      "outputs": [
        {
          "output_type": "execute_result",
          "data": {
            "text/html": [
              "<div>\n",
              "<style scoped>\n",
              "    .dataframe tbody tr th:only-of-type {\n",
              "        vertical-align: middle;\n",
              "    }\n",
              "\n",
              "    .dataframe tbody tr th {\n",
              "        vertical-align: top;\n",
              "    }\n",
              "\n",
              "    .dataframe thead th {\n",
              "        text-align: right;\n",
              "    }\n",
              "</style>\n",
              "<table border=\"1\" class=\"dataframe\">\n",
              "  <thead>\n",
              "    <tr style=\"text-align: right;\">\n",
              "      <th></th>\n",
              "      <th>area</th>\n",
              "      <th>bathroom_num</th>\n",
              "      <th>bedroom_num</th>\n",
              "      <th>price</th>\n",
              "      <th>price_per_sqft</th>\n",
              "      <th>furnishing</th>\n",
              "      <th>locality</th>\n",
              "      <th>user_type</th>\n",
              "    </tr>\n",
              "  </thead>\n",
              "  <tbody>\n",
              "    <tr>\n",
              "      <th>1222</th>\n",
              "      <td>8.160518</td>\n",
              "      <td>2.000000</td>\n",
              "      <td>4</td>\n",
              "      <td>170000</td>\n",
              "      <td>48.571429</td>\n",
              "      <td>1</td>\n",
              "      <td>305</td>\n",
              "      <td>0</td>\n",
              "    </tr>\n",
              "    <tr>\n",
              "      <th>1223</th>\n",
              "      <td>7.824046</td>\n",
              "      <td>2.000000</td>\n",
              "      <td>4</td>\n",
              "      <td>165000</td>\n",
              "      <td>66.000000</td>\n",
              "      <td>1</td>\n",
              "      <td>21</td>\n",
              "      <td>0</td>\n",
              "    </tr>\n",
              "    <tr>\n",
              "      <th>1224</th>\n",
              "      <td>7.600902</td>\n",
              "      <td>2.236068</td>\n",
              "      <td>4</td>\n",
              "      <td>170000</td>\n",
              "      <td>85.000000</td>\n",
              "      <td>1</td>\n",
              "      <td>440</td>\n",
              "      <td>0</td>\n",
              "    </tr>\n",
              "    <tr>\n",
              "      <th>1225</th>\n",
              "      <td>7.761745</td>\n",
              "      <td>2.236068</td>\n",
              "      <td>4</td>\n",
              "      <td>190000</td>\n",
              "      <td>80.885483</td>\n",
              "      <td>1</td>\n",
              "      <td>440</td>\n",
              "      <td>0</td>\n",
              "    </tr>\n",
              "    <tr>\n",
              "      <th>1226</th>\n",
              "      <td>8.003697</td>\n",
              "      <td>2.236068</td>\n",
              "      <td>4</td>\n",
              "      <td>170000</td>\n",
              "      <td>56.818182</td>\n",
              "      <td>1</td>\n",
              "      <td>224</td>\n",
              "      <td>0</td>\n",
              "    </tr>\n",
              "    <tr>\n",
              "      <th>...</th>\n",
              "      <td>...</td>\n",
              "      <td>...</td>\n",
              "      <td>...</td>\n",
              "      <td>...</td>\n",
              "      <td>...</td>\n",
              "      <td>...</td>\n",
              "      <td>...</td>\n",
              "      <td>...</td>\n",
              "    </tr>\n",
              "    <tr>\n",
              "      <th>34076</th>\n",
              "      <td>7.843849</td>\n",
              "      <td>1.732051</td>\n",
              "      <td>3</td>\n",
              "      <td>400000</td>\n",
              "      <td>156.862745</td>\n",
              "      <td>2</td>\n",
              "      <td>129</td>\n",
              "      <td>0</td>\n",
              "    </tr>\n",
              "    <tr>\n",
              "      <th>34077</th>\n",
              "      <td>7.955074</td>\n",
              "      <td>1.732051</td>\n",
              "      <td>3</td>\n",
              "      <td>450000</td>\n",
              "      <td>157.894737</td>\n",
              "      <td>1</td>\n",
              "      <td>324</td>\n",
              "      <td>0</td>\n",
              "    </tr>\n",
              "    <tr>\n",
              "      <th>34087</th>\n",
              "      <td>8.160518</td>\n",
              "      <td>2.000000</td>\n",
              "      <td>3</td>\n",
              "      <td>425000</td>\n",
              "      <td>121.428571</td>\n",
              "      <td>1</td>\n",
              "      <td>237</td>\n",
              "      <td>0</td>\n",
              "    </tr>\n",
              "    <tr>\n",
              "      <th>34088</th>\n",
              "      <td>7.803843</td>\n",
              "      <td>1.732051</td>\n",
              "      <td>3</td>\n",
              "      <td>425000</td>\n",
              "      <td>173.469388</td>\n",
              "      <td>0</td>\n",
              "      <td>324</td>\n",
              "      <td>0</td>\n",
              "    </tr>\n",
              "    <tr>\n",
              "      <th>34089</th>\n",
              "      <td>7.843849</td>\n",
              "      <td>1.732051</td>\n",
              "      <td>3</td>\n",
              "      <td>450000</td>\n",
              "      <td>176.470588</td>\n",
              "      <td>1</td>\n",
              "      <td>389</td>\n",
              "      <td>0</td>\n",
              "    </tr>\n",
              "  </tbody>\n",
              "</table>\n",
              "<p>1413 rows × 8 columns</p>\n",
              "</div>"
            ],
            "text/plain": [
              "           area  bathroom_num  bedroom_num  ...  furnishing  locality  user_type\n",
              "1222   8.160518      2.000000            4  ...           1       305          0\n",
              "1223   7.824046      2.000000            4  ...           1        21          0\n",
              "1224   7.600902      2.236068            4  ...           1       440          0\n",
              "1225   7.761745      2.236068            4  ...           1       440          0\n",
              "1226   8.003697      2.236068            4  ...           1       224          0\n",
              "...         ...           ...          ...  ...         ...       ...        ...\n",
              "34076  7.843849      1.732051            3  ...           2       129          0\n",
              "34077  7.955074      1.732051            3  ...           1       324          0\n",
              "34087  8.160518      2.000000            3  ...           1       237          0\n",
              "34088  7.803843      1.732051            3  ...           0       324          0\n",
              "34089  7.843849      1.732051            3  ...           1       389          0\n",
              "\n",
              "[1413 rows x 8 columns]"
            ]
          },
          "metadata": {
            "tags": []
          },
          "execution_count": 111
        }
      ]
    },
    {
      "cell_type": "code",
      "metadata": {
        "colab": {
          "base_uri": "https://localhost:8080/"
        },
        "id": "COaogxwpwzLH",
        "outputId": "a8fb53a5-14aa-47c2-9852-9e3652ce6f42"
      },
      "source": [
        "from sklearn.linear_model import LinearRegression\r\n",
        "from sklearn.model_selection import train_test_split\r\n",
        "from sklearn.metrics import r2_score, mean_squared_error\r\n",
        "\r\n",
        "lr = LinearRegression()\r\n",
        "\r\n",
        "x = df_new.drop(['furnishing','locality','user_type','price_per_sqft','price'], axis=1)\r\n",
        "y = df_new['price']\r\n",
        "x_train, x_test, y_train, y_test = train_test_split(x,y,test_size=0.25)\r\n",
        "\r\n",
        "lr.fit(x_train,y_train)\r\n",
        "y_predict = lr.predict(x_test)\r\n",
        "\r\n",
        "print(\"MSE = \", mean_squared_error(y_test, y_predict))\r\n",
        "print(\"R2_score: \",r2_score(y_test, y_predict))\r\n",
        "#print(x_test)\r\n",
        "#print(lr.predict(x_test))"
      ],
      "execution_count": 112,
      "outputs": [
        {
          "output_type": "stream",
          "text": [
            "MSE =  3097113253.2572703\n",
            "R2_score:  0.4631579426924459\n"
          ],
          "name": "stdout"
        }
      ]
    },
    {
      "cell_type": "code",
      "metadata": {
        "colab": {
          "base_uri": "https://localhost:8080/",
          "height": 552
        },
        "id": "OvB1j0XfwzJA",
        "outputId": "502779ca-d460-418d-f490-d6157d301b1f"
      },
      "source": [
        "# Correlation between independent variables test #Fail since dependent variables are correlated with each other. \r\n",
        "plt.figure(figsize=(8,8)) \r\n",
        "sns.heatmap(df_new.corr(), annot=True)\r\n",
        "plt.show()"
      ],
      "execution_count": 113,
      "outputs": [
        {
          "output_type": "display_data",
          "data": {
            "image/png": "[encoded data removed]",
            "text/plain": [
              "<Figure size 576x576 with 2 Axes>"
            ]
          },
          "metadata": {
            "tags": [],
            "needs_background": "light"
          }
        }
      ]
    },
    {
      "cell_type": "code",
      "metadata": {
        "colab": {
          "base_uri": "https://localhost:8080/"
        },
        "id": "wYozJLZXwzGZ",
        "outputId": "d11efe8e-eace-4a32-e966-35e66d9fc0f2"
      },
      "source": [
        "y_predict = lr.predict(x_test)\r\n",
        "y_predict_train = lr.predict(x_train)\r\n",
        "print(\"Bias = \", r2_score(y_train, y_predict_train))\r\n",
        "print(\"Variance = \", r2_score(y_test, y_predict))\r\n",
        "# Variance should be less than bias if its not then there is need for regularization. "
      ],
      "execution_count": 114,
      "outputs": [
        {
          "output_type": "stream",
          "text": [
            "Bias =  0.45555430768063443\n",
            "Variance =  0.4631579426924459\n"
          ],
          "name": "stdout"
        }
      ]
    },
    {
      "cell_type": "code",
      "metadata": {
        "colab": {
          "base_uri": "https://localhost:8080/",
          "height": 278
        },
        "id": "U6eU2PVDwzET",
        "outputId": "ca12a985-114b-4c87-a62b-edff79242164"
      },
      "source": [
        "# The residuals are homoskedastial\r\n",
        "residuals = y_predict - y_test\r\n",
        "plt.scatter(y_test, residuals )\r\n",
        "plt.show()"
      ],
      "execution_count": 115,
      "outputs": [
        {
          "output_type": "display_data",
          "data": {
            "image/png": "[encoded data removed]",
            "text/plain": [
              "<Figure size 432x288 with 1 Axes>"
            ]
          },
          "metadata": {
            "tags": [],
            "needs_background": "light"
          }
        }
      ]
    },
    {
      "cell_type": "code",
      "metadata": {
        "colab": {
          "base_uri": "https://localhost:8080/",
          "height": 387
        },
        "id": "AN_3U6GswzCh",
        "outputId": "10076692-6d08-4fd0-c10e-40d319d9080a"
      },
      "source": [
        "# Checking if residuals are normally distributed\r\n",
        "print(\"Skew of residuals = \",skew(residuals))\r\n",
        "sns.displot(residuals)\r\n",
        "plt.show()\r\n",
        "\r\n",
        "#Since residuals are not normally distributed this test also fails. "
      ],
      "execution_count": 116,
      "outputs": [
        {
          "output_type": "stream",
          "text": [
            "Skew of residuals =  -4.99106799452853\n"
          ],
          "name": "stdout"
        },
        {
          "output_type": "display_data",
          "data": {
            "image/png": "[encoded data removed]",
            "text/plain": [
              "<Figure size 360x360 with 1 Axes>"
            ]
          },
          "metadata": {
            "tags": [],
            "needs_background": "light"
          }
        }
      ]
    },
    {
      "cell_type": "code",
      "metadata": {
        "colab": {
          "base_uri": "https://localhost:8080/"
        },
        "id": "HDb1r0Rmwy_V",
        "outputId": "55cb7451-528e-49f6-a7dd-aa1127ffd0f2"
      },
      "source": [
        "from sklearn.preprocessing import PolynomialFeatures\r\n",
        "\r\n",
        "pf = PolynomialFeatures(degree=2)\r\n",
        "x1 = df_new.drop(['furnishing','locality','user_type','price_per_sqft','price'], axis=1)\r\n",
        "y1 = df_new['price']\r\n",
        "\r\n",
        "x_trn, x_tst, y_trn, y_tst = train_test_split(x1,y1, test_size=0.25)\r\n",
        "\r\n",
        "x_poly_trn2 = pf.fit_transform(x_trn)\r\n",
        "x_poly_tst2 = pf.fit_transform(x_tst)\r\n",
        "\r\n",
        "lr_poly2 = LinearRegression()\r\n",
        "lr_poly2.fit(x_poly_trn2, y_trn)\r\n",
        "\r\n",
        "y_pred_trn = lr_poly2.predict(x_poly_trn2)\r\n",
        "y_pred_tst = lr_poly2.predict(x_poly_tst2)\r\n",
        "\r\n",
        "print(\"Slope : {}\\n Intercept : {}\".format(lr_poly2.coef_,lr_poly2.intercept_))\r\n",
        "print(\"r2_score : {}\".format(lr_poly2.score(x_poly_tst2,y_tst)))"
      ],
      "execution_count": 117,
      "outputs": [
        {
          "output_type": "stream",
          "text": [
            "Slope : [ 0.00000000e+00 -6.18120651e+05 -6.42925522e+05 -3.58606791e+04\n",
            "  3.83438418e+04  1.11899054e+05  8.34110382e+03 -2.74958880e+04\n",
            " -2.29451532e+04 -8.54271545e+01]\n",
            " Intercept : 2377455.8899912164\n",
            "r2_score : 0.5615560463074131\n"
          ],
          "name": "stdout"
        }
      ]
    },
    {
      "cell_type": "code",
      "metadata": {
        "colab": {
          "base_uri": "https://localhost:8080/"
        },
        "id": "rVuT7wFQwy79",
        "outputId": "c6f9bb0e-9ece-4934-832e-957c33d89432"
      },
      "source": [
        "residuals_poly = y_pred_tst - y_tst\r\n",
        "bias = r2_score(y_trn, y_pred_trn)\r\n",
        "variance = r2_score(y_tst, y_pred_tst)\r\n",
        "print(\"Bias = {}\\n Variance = {}\".format(bias, variance))"
      ],
      "execution_count": 118,
      "outputs": [
        {
          "output_type": "stream",
          "text": [
            "Bias = 0.5968491825228759\n",
            " Variance = 0.5615560463074131\n"
          ],
          "name": "stdout"
        }
      ]
    },
    {
      "cell_type": "code",
      "metadata": {
        "colab": {
          "base_uri": "https://localhost:8080/",
          "height": 784
        },
        "id": "q2KAe4fbwy5g",
        "outputId": "b7b9d119-0864-4ea9-af29-1a352620161d"
      },
      "source": [
        "#Multi-correlation test failed\r\n",
        "#Normal distribution test failed\r\n",
        "#Homoskedatial pass\r\n",
        "fig, axes = plt.subplots(2,2, figsize=(12,12))\r\n",
        "print(\"Skew :\",skew(residuals))\r\n",
        "sns.heatmap(df_new.corr(), annot=True, linewidth=2, linecolor='black', ax=axes[1][0])\r\n",
        "sns.histplot(residuals_poly, ax=axes[0][1])\r\n",
        "sns.scatterplot(residuals_poly, y_tst, ax=axes[0][0])\r\n",
        "plt.show()"
      ],
      "execution_count": 119,
      "outputs": [
        {
          "output_type": "stream",
          "text": [
            "Skew : -4.99106799452853\n"
          ],
          "name": "stdout"
        },
        {
          "output_type": "display_data",
          "data": {
            "image/png": "[encoded data removed]",
            "text/plain": [
              "<Figure size 864x864 with 5 Axes>"
            ]
          },
          "metadata": {
            "tags": [],
            "needs_background": "light"
          }
        }
      ]
    },
    {
      "cell_type": "code",
      "metadata": {
        "id": "vHyUkSDPwyv-"
      },
      "source": [
        "from sklearn.neighbors import KNeighborsRegressor\r\n",
        "from sklearn.tree import DecisionTreeRegressor\r\n",
        "from sklearn import tree\r\n",
        "from sklearn.svm import LinearSVR, SVR"
      ],
      "execution_count": 120,
      "outputs": []
    },
    {
      "cell_type": "markdown",
      "metadata": {
        "id": "VC4pn2Y-xTZ8"
      },
      "source": [
        "**Decision Tree Regressor test**"
      ]
    },
    {
      "cell_type": "code",
      "metadata": {
        "colab": {
          "base_uri": "https://localhost:8080/",
          "height": 426
        },
        "id": "3eSLJ31axRxe",
        "outputId": "c21183c8-2a07-48cd-b255-7162a707c4d2"
      },
      "source": [
        "x_train1, x_test1, y_train1, y_test1 = train_test_split(x1,y1, test_size=0.25)\r\n",
        "\r\n",
        "for i in range(1,10):\r\n",
        "  dtr = DecisionTreeRegressor(max_depth=i)\r\n",
        "  dtr.fit(x_train1, y_train1)\r\n",
        "  print(dtr.score(x_test1, y_test1))\r\n",
        "\r\n",
        "  tree.plot_tree(dtr.fit(x_train1, y_train1), feature_names=list(df), fontsize=10)\r\n",
        "# with max_depth as 6 we are getting the best results."
      ],
      "execution_count": 121,
      "outputs": [
        {
          "output_type": "stream",
          "text": [
            "0.37345423412801493\n",
            "0.563546270643555\n",
            "0.6283153752990658\n",
            "0.6224889043374133\n",
            "0.6390976470668484\n",
            "0.6398163210942498\n",
            "0.6240913078940509\n",
            "0.625538338885971\n",
            "0.6188343249727171\n"
          ],
          "name": "stdout"
        },
        {
          "output_type": "display_data",
          "data": {
            "image/png": "[encoded data removed]",
            "text/plain": [
              "<Figure size 432x288 with 1 Axes>"
            ]
          },
          "metadata": {
            "tags": [],
            "needs_background": "light"
          }
        }
      ]
    },
    {
      "cell_type": "code",
      "metadata": {
        "colab": {
          "base_uri": "https://localhost:8080/",
          "height": 1000
        },
        "id": "84TIHUtZxRvW",
        "outputId": "45e76b7b-7463-4b9b-d6c7-97b8be4433c0"
      },
      "source": [
        "dt = DecisionTreeRegressor(splitter='best', max_depth=6, min_samples_split=2, min_samples_leaf=1)\r\n",
        "dt.fit(x_train1, y_train1)\r\n",
        "dt.score(x_test1, y_test1)\r\n",
        "y_pred = dt.predict(x_test1)\r\n",
        "tree.plot_tree(dtr.fit(x_train1, y_train1), feature_names=list(df), fontsize=10)"
      ],
      "execution_count": 122,
      "outputs": [
        {
          "output_type": "execute_result",
          "data": {
            "text/plain": [
              "[Text(184.46588114754098, 206.56799999999998, 'area <= 7.599\\nmse = 5365783917.374\\nsamples = 12828\\nvalue = 74369.735'),\n",
              " Text(91.38607838114754, 184.824, 'area <= 7.074\\nmse = 1657744936.052\\nsamples = 11277\\nvalue = 57788.503'),\n",
              " Text(45.98783299180328, 163.07999999999998, 'area <= 6.841\\nmse = 595466048.497\\nsamples = 6434\\nvalue = 40165.568'),\n",
              " Text(23.84077868852459, 141.336, 'area <= 6.566\\nmse = 259529325.593\\nsamples = 3513\\nvalue = 31594.142'),\n",
              " Text(9.947950819672132, 119.592, 'bedroom_num <= 3.5\\nmse = 198840928.376\\nsamples = 2297\\nvalue = 28179.635'),\n",
              " Text(9.26188524590164, 97.848, 'bedroom_num <= 1.5\\nmse = 181179622.153\\nsamples = 2296\\nvalue = 28091.734'),\n",
              " Text(5.488524590163935, 76.10399999999998, 'area <= 6.476\\nmse = 160269810.195\\nsamples = 2182\\nvalue = 27535.214'),\n",
              " Text(2.7442622950819673, 54.360000000000014, 'area <= 6.443\\nmse = 147724793.166\\nsamples = 1324\\nvalue = 26019.701'),\n",
              " Text(1.3721311475409836, 32.615999999999985, 'area <= 5.944\\nmse = 139923891.74\\nsamples = 1210\\nvalue = 26702.619'),\n",
              " Text(0.6860655737704918, 10.872000000000014, 'mse = 44547099.349\\nsamples = 69\\nvalue = 19131.884'),\n",
              " Text(2.0581967213114756, 10.872000000000014, 'mse = 142015944.959\\nsamples = 1141\\nvalue = 27160.446'),\n",
              " Text(4.116393442622951, 32.615999999999985, 'bathroom_num <= 1.207\\nmse = 173032697.063\\nsamples = 114\\nvalue = 18771.184'),\n",
              " Text(3.430327868852459, 10.872000000000014, 'mse = 212253345.281\\nsamples = 28\\nvalue = 23836.071'),\n",
              " Text(4.802459016393443, 10.872000000000014, 'mse = 149191707.291\\nsamples = 86\\nvalue = 17122.151'),\n",
              " Text(8.232786885245902, 54.360000000000014, 'bathroom_num <= 1.207\\nmse = 170614938.485\\nsamples = 858\\nvalue = 29873.839'),\n",
              " Text(6.860655737704918, 32.615999999999985, 'area <= 6.549\\nmse = 237214868.752\\nsamples = 218\\nvalue = 33280.009'),\n",
              " Text(6.174590163934426, 10.872000000000014, 'mse = 230428829.735\\nsamples = 185\\nvalue = 32186.724'),\n",
              " Text(7.54672131147541, 10.872000000000014, 'mse = 230992148.817\\nsamples = 33\\nvalue = 39409.03'),\n",
              " Text(9.604918032786886, 32.615999999999985, 'area <= 6.507\\nmse = 142631282.072\\nsamples = 640\\nvalue = 28713.612'),\n",
              " Text(8.918852459016394, 10.872000000000014, 'mse = 111613244.385\\nsamples = 384\\nvalue = 29832.005'),\n",
              " Text(10.290983606557377, 10.872000000000014, 'mse = 184467830.164\\nsamples = 256\\nvalue = 27036.023'),\n",
              " Text(13.035245901639344, 76.10399999999998, 'area <= 3.375\\nmse = 462008121.75\\nsamples = 114\\nvalue = 38743.711'),\n",
              " Text(12.349180327868853, 54.360000000000014, 'mse = 0.0\\nsamples = 1\\nvalue = 120000.0'),\n",
              " Text(13.721311475409836, 54.360000000000014, 'bathroom_num <= 1.207\\nmse = 407149657.95\\nsamples = 113\\nvalue = 38024.628'),\n",
              " Text(12.349180327868853, 32.615999999999985, 'area <= 6.445\\nmse = 100302222.222\\nsamples = 9\\nvalue = 25433.333'),\n",
              " Text(11.66311475409836, 10.872000000000014, 'mse = 92889600.0\\nsamples = 5\\nvalue = 28680.0'),\n",
              " Text(13.035245901639344, 10.872000000000014, 'mse = 79921875.0\\nsamples = 4\\nvalue = 21375.0'),\n",
              " Text(15.09344262295082, 32.615999999999985, 'area <= 4.653\\nmse = 418796597.519\\nsamples = 104\\nvalue = 39114.26'),\n",
              " Text(14.407377049180328, 10.872000000000014, 'mse = 430750000.0\\nsamples = 4\\nvalue = 54500.0'),\n",
              " Text(15.779508196721311, 10.872000000000014, 'mse = 408470867.521\\nsamples = 100\\nvalue = 38498.83'),\n",
              " Text(10.634016393442623, 97.848, 'mse = 0.0\\nsamples = 1\\nvalue = 230000.0'),\n",
              " Text(37.73360655737705, 119.592, 'area <= 6.679\\nmse = 310543478.029\\nsamples = 1216\\nvalue = 38044.078'),\n",
              " Text(27.442622950819672, 97.848, 'bathroom_num <= 1.207\\nmse = 221990142.387\\nsamples = 349\\nvalue = 35654.009'),\n",
              " Text(21.95409836065574, 76.10399999999998, 'area <= 6.592\\nmse = 195205724.161\\nsamples = 84\\nvalue = 41985.702'),\n",
              " Text(19.20983606557377, 54.360000000000014, 'area <= 6.583\\nmse = 172454081.633\\nsamples = 14\\nvalue = 34214.286'),\n",
              " Text(17.837704918032788, 32.615999999999985, 'area <= 6.572\\nmse = 227283950.617\\nsamples = 9\\nvalue = 36222.222'),\n",
              " Text(17.151639344262296, 10.872000000000014, 'mse = 0.0\\nsamples = 1\\nvalue = 43000.0'),\n",
              " Text(18.52377049180328, 10.872000000000014, 'mse = 249234375.0\\nsamples = 8\\nvalue = 35375.0'),\n",
              " Text(20.581967213114755, 32.615999999999985, 'area <= 6.588\\nmse = 53440000.0\\nsamples = 5\\nvalue = 30600.0'),\n",
              " Text(19.895901639344263, 10.872000000000014, 'mse = 2666666.667\\nsamples = 3\\nvalue = 27000.0'),\n",
              " Text(21.268032786885247, 10.872000000000014, 'mse = 81000000.0\\nsamples = 2\\nvalue = 36000.0'),\n",
              " Text(24.698360655737705, 54.360000000000014, 'area <= 6.654\\nmse = 185261272.586\\nsamples = 70\\nvalue = 43539.986'),\n",
              " Text(23.32622950819672, 32.615999999999985, 'area <= 6.627\\nmse = 184272936.436\\nsamples = 62\\nvalue = 44674.177'),\n",
              " Text(22.64016393442623, 10.872000000000014, 'mse = 164232872.613\\nsamples = 55\\nvalue = 42814.527'),\n",
              " Text(24.012295081967213, 10.872000000000014, 'mse = 101061224.49\\nsamples = 7\\nvalue = 59285.714'),\n",
              " Text(26.07049180327869, 32.615999999999985, 'area <= 6.672\\nmse = 105687500.0\\nsamples = 8\\nvalue = 34750.0'),\n",
              " Text(25.384426229508197, 10.872000000000014, 'mse = 94222222.222\\nsamples = 6\\nvalue = 31333.333'),\n",
              " Text(26.75655737704918, 10.872000000000014, 'mse = 0.0\\nsamples = 2\\nvalue = 45000.0'),\n",
              " Text(32.93114754098361, 76.10399999999998, 'bedroom_num <= 1.5\\nmse = 213744255.037\\nsamples = 265\\nvalue = 33646.981'),\n",
              " Text(30.18688524590164, 54.360000000000014, 'area <= 6.583\\nmse = 195927631.91\\nsamples = 141\\nvalue = 31806.738'),\n",
              " Text(28.814754098360655, 32.615999999999985, 'area <= 6.577\\nmse = 107976501.465\\nsamples = 32\\nvalue = 35367.188'),\n",
              " Text(28.128688524590164, 10.872000000000014, 'mse = 85259521.484\\nsamples = 16\\nvalue = 33296.875'),\n",
              " Text(29.500819672131147, 10.872000000000014, 'mse = 122121093.75\\nsamples = 16\\nvalue = 37437.5'),\n",
              " Text(31.559016393442622, 32.615999999999985, 'area <= 6.618\\nmse = 216933928.121\\nsamples = 109\\nvalue = 30761.468'),\n",
              " Text(30.87295081967213, 10.872000000000014, 'mse = 115355831.038\\nsamples = 33\\nvalue = 28151.515'),\n",
              " Text(32.24508196721312, 10.872000000000014, 'mse = 256798130.194\\nsamples = 76\\nvalue = 31894.737'),\n",
              " Text(35.675409836065576, 54.360000000000014, 'area <= 6.623\\nmse = 225774002.992\\nsamples = 124\\nvalue = 35739.516'),\n",
              " Text(34.30327868852459, 32.615999999999985, 'area <= 6.591\\nmse = 221061849.229\\nsamples = 49\\nvalue = 41724.49'),\n",
              " Text(33.6172131147541, 10.872000000000014, 'mse = 230562130.178\\nsamples = 13\\nvalue = 38269.231'),\n",
              " Text(34.989344262295084, 10.872000000000014, 'mse = 211763117.284\\nsamples = 36\\nvalue = 42972.222'),\n",
              " Text(37.04754098360656, 32.615999999999985, 'bedroom_num <= 2.5\\nmse = 190160739.556\\nsamples = 75\\nvalue = 31829.333'),\n",
              " Text(36.36147540983607, 10.872000000000014, 'mse = 185608848.98\\nsamples = 70\\nvalue = 31017.143'),\n",
              " Text(37.73360655737705, 10.872000000000014, 'mse = 115360000.0\\nsamples = 5\\nvalue = 43200.0'),\n",
              " Text(48.02459016393443, 97.848, 'bedroom_num <= 2.5\\nmse = 342964424.813\\nsamples = 867\\nvalue = 39006.171'),\n",
              " Text(43.90819672131148, 76.10399999999998, 'area <= 6.695\\nmse = 341739109.565\\nsamples = 855\\nvalue = 38806.254'),\n",
              " Text(41.16393442622951, 54.360000000000014, 'bathroom_num <= 1.207\\nmse = 431679834.205\\nsamples = 88\\nvalue = 43840.898'),\n",
              " Text(39.791803278688526, 32.615999999999985, 'bedroom_num <= 1.5\\nmse = 386883487.654\\nsamples = 18\\nvalue = 50138.889'),\n",
              " Text(39.105737704918035, 10.872000000000014, 'mse = 384934948.98\\nsamples = 14\\nvalue = 54107.143'),\n",
              " Text(40.47786885245902, 10.872000000000014, 'mse = 145687500.0\\nsamples = 4\\nvalue = 36250.0'),\n",
              " Text(42.53606557377049, 32.615999999999985, 'bedroom_num <= 1.5\\nmse = 430376675.728\\nsamples = 70\\nvalue = 42221.414'),\n",
              " Text(41.85, 10.872000000000014, 'mse = 85551020.408\\nsamples = 7\\nvalue = 34142.857'),\n",
              " Text(43.222131147540985, 10.872000000000014, 'mse = 460633466.38\\nsamples = 63\\nvalue = 43119.032'),\n",
              " Text(46.65245901639344, 54.360000000000014, 'area <= 6.742\\nmse = 328178095.261\\nsamples = 767\\nvalue = 38228.615'),\n",
              " Text(45.28032786885246, 32.615999999999985, 'area <= 6.698\\nmse = 181243603.707\\nsamples = 98\\nvalue = 32880.612'),\n",
              " Text(44.59426229508197, 10.872000000000014, 'mse = 43861058.601\\nsamples = 23\\nvalue = 27326.087'),\n",
              " Text(45.96639344262295, 10.872000000000014, 'mse = 211011210.667\\nsamples = 75\\nvalue = 34584.0'),\n",
              " Text(48.02459016393443, 32.615999999999985, 'area <= 6.755\\nmse = 344898689.835\\nsamples = 669\\nvalue = 39012.03'),\n",
              " Text(47.338524590163935, 10.872000000000014, 'mse = 419816141.493\\nsamples = 192\\nvalue = 42677.083'),\n",
              " Text(48.71065573770492, 10.872000000000014, 'mse = 307160060.284\\nsamples = 477\\nvalue = 37536.788'),\n",
              " Text(52.14098360655738, 76.10399999999998, 'area <= 6.808\\nmse = 224526709.021\\nsamples = 12\\nvalue = 53250.25'),\n",
              " Text(51.454918032786885, 54.360000000000014, 'bathroom_num <= 1.573\\nmse = 173974678.43\\nsamples = 11\\nvalue = 50818.455'),\n",
              " Text(50.768852459016394, 32.615999999999985, 'area <= 6.753\\nmse = 189341556.444\\nsamples = 9\\nvalue = 52667.0'),\n",
              " Text(50.0827868852459, 10.872000000000014, 'mse = 25000000.0\\nsamples = 2\\nvalue = 60000.0'),\n",
              " Text(51.454918032786885, 10.872000000000014, 'mse = 216542980.694\\nsamples = 7\\nvalue = 50571.857'),\n",
              " Text(52.14098360655738, 32.615999999999985, 'mse = 20250000.0\\nsamples = 2\\nvalue = 42500.0'),\n",
              " Text(52.82704918032787, 54.360000000000014, 'mse = 0.0\\nsamples = 1\\nvalue = 80000.0'),\n",
              " Text(68.13488729508197, 141.336, 'area <= 6.941\\nmse = 804860520.081\\nsamples = 2921\\nvalue = 50474.169'),\n",
              " Text(62.26045081967213, 119.592, 'bedroom_num <= 3.5\\nmse = 544471294.159\\nsamples = 1304\\nvalue = 45902.943'),\n",
              " Text(59.687704918032786, 97.848, 'bathroom_num <= 1.573\\nmse = 501999410.44\\nsamples = 1302\\nvalue = 45693.117'),\n",
              " Text(56.60040983606557, 76.10399999999998, 'area <= 6.933\\nmse = 447189135.289\\nsamples = 1272\\nvalue = 45109.949'),\n",
              " Text(54.885245901639344, 54.360000000000014, 'area <= 6.904\\nmse = 452966616.419\\nsamples = 1237\\nvalue = 45446.124'),\n",
              " Text(53.51311475409836, 32.615999999999985, 'bedroom_num <= 2.5\\nmse = 489212144.033\\nsamples = 688\\nvalue = 43380.618'),\n",
              " Text(52.82704918032787, 10.872000000000014, 'mse = 476064224.258\\nsamples = 681\\nvalue = 43052.665'),\n",
              " Text(54.19918032786885, 10.872000000000014, 'mse = 739918367.347\\nsamples = 7\\nvalue = 75285.714'),\n",
              " Text(56.25737704918033, 32.615999999999985, 'area <= 6.908\\nmse = 395497509.101\\nsamples = 549\\nvalue = 48034.592'),\n",
              " Text(55.571311475409836, 10.872000000000014, 'mse = 424491897.414\\nsamples = 431\\nvalue = 49533.842'),\n",
              " Text(56.94344262295082, 10.872000000000014, 'mse = 251396872.589\\nsamples = 118\\nvalue = 42558.517'),\n",
              " Text(58.3155737704918, 54.360000000000014, 'area <= 6.934\\nmse = 97834396.762\\nsamples = 35\\nvalue = 33228.543'),\n",
              " Text(57.62950819672131, 32.615999999999985, 'mse = 44715555.556\\nsamples = 15\\nvalue = 25966.667'),\n",
              " Text(59.001639344262294, 32.615999999999985, 'area <= 6.936\\nmse = 68459042.548\\nsamples = 20\\nvalue = 38674.95'),\n",
              " Text(58.3155737704918, 10.872000000000014, 'mse = 179054937.688\\nsamples = 4\\nvalue = 33124.75'),\n",
              " Text(59.687704918032786, 10.872000000000014, 'mse = 31183593.75\\nsamples = 16\\nvalue = 40062.5'),\n",
              " Text(62.775, 76.10399999999998, 'area <= 6.862\\nmse = 2200144751.979\\nsamples = 30\\nvalue = 70419.433'),\n",
              " Text(61.05983606557377, 54.360000000000014, 'bedroom_num <= 2.5\\nmse = 10177555555.556\\nsamples = 3\\nvalue = 107666.667'),\n",
              " Text(60.37377049180328, 32.615999999999985, 'mse = 0.0\\nsamples = 1\\nvalue = 28000.0'),\n",
              " Text(61.74590163934426, 32.615999999999985, 'mse = 10506250000.0\\nsamples = 2\\nvalue = 147500.0'),\n",
              " Text(64.49016393442623, 54.360000000000014, 'bedroom_num <= 2.5\\nmse = 1142487207.015\\nsamples = 27\\nvalue = 66280.852'),\n",
              " Text(63.118032786885244, 32.615999999999985, 'area <= 6.918\\nmse = 2134377897.076\\nsamples = 12\\nvalue = 77581.917'),\n",
              " Text(62.43196721311475, 10.872000000000014, 'mse = 1877648817.273\\nsamples = 11\\nvalue = 71453.0'),\n",
              " Text(63.804098360655736, 10.872000000000014, 'mse = 0.0\\nsamples = 1\\nvalue = 145000.0'),\n",
              " Text(65.86229508196722, 32.615999999999985, 'area <= 6.932\\nmse = 165066400.0\\nsamples = 15\\nvalue = 57240.0'),\n",
              " Text(65.17622950819673, 10.872000000000014, 'mse = 125130177.515\\nsamples = 13\\nvalue = 54346.154'),\n",
              " Text(66.54836065573771, 10.872000000000014, 'mse = 16402500.0\\nsamples = 2\\nvalue = 76050.0'),\n",
              " Text(64.83319672131148, 97.848, 'area <= 6.882\\nmse = 9506250000.0\\nsamples = 2\\nvalue = 182500.0'),\n",
              " Text(64.14713114754099, 76.10399999999998, 'mse = 0.0\\nsamples = 1\\nvalue = 85000.0'),\n",
              " Text(65.51926229508197, 76.10399999999998, 'mse = 0.0\\nsamples = 1\\nvalue = 280000.0'),\n",
              " Text(74.0093237704918, 119.592, 'area <= 6.942\\nmse = 984405952.845\\nsamples = 1617\\nvalue = 54160.55'),\n",
              " Text(70.66475409836066, 97.848, 'bedroom_num <= 2.5\\nmse = 904878867.633\\nsamples = 7\\nvalue = 101297.286'),\n",
              " Text(69.97868852459017, 76.10399999999998, 'mse = 0.0\\nsamples = 1\\nvalue = 37000.0'),\n",
              " Text(71.35081967213115, 76.10399999999998, 'mse = 251831271.917\\nsamples = 6\\nvalue = 112013.5'),\n",
              " Text(77.35389344262295, 97.848, 'area <= 7.022\\nmse = 975049408.925\\nsamples = 1610\\nvalue = 53955.607'),\n",
              " Text(72.72295081967214, 76.10399999999998, 'area <= 6.954\\nmse = 1063504981.033\\nsamples = 1161\\nvalue = 52155.074'),\n",
              " Text(69.97868852459017, 54.360000000000014, 'area <= 6.948\\nmse = 300373899.913\\nsamples = 76\\nvalue = 45738.184'),\n",
              " Text(68.60655737704919, 32.615999999999985, 'area <= 6.946\\nmse = 309677510.65\\nsamples = 58\\nvalue = 48381.069'),\n",
              " Text(67.9204918032787, 10.872000000000014, 'mse = 262392793.562\\nsamples = 22\\nvalue = 51568.273'),\n",
              " Text(69.29262295081968, 10.872000000000014, 'mse = 328572222.222\\nsamples = 36\\nvalue = 46433.333'),\n",
              " Text(71.35081967213115, 32.615999999999985, 'area <= 6.951\\nmse = 175367283.951\\nsamples = 18\\nvalue = 37222.222'),\n",
              " Text(70.66475409836066, 10.872000000000014, 'mse = 56960000.0\\nsamples = 5\\nvalue = 25200.0'),\n",
              " Text(72.03688524590164, 10.872000000000014, 'mse = 143937869.822\\nsamples = 13\\nvalue = 41846.154'),\n",
              " Text(75.4672131147541, 54.360000000000014, 'area <= 6.96\\nmse = 1113873042.751\\nsamples = 1085\\nvalue = 52604.552'),\n",
              " Text(74.09508196721312, 32.615999999999985, 'area <= 6.959\\nmse = 2160691473.036\\nsamples = 453\\nvalue = 54822.631'),\n",
              " Text(73.40901639344263, 10.872000000000014, 'mse = 410156739.703\\nsamples = 447\\nvalue = 52083.114'),\n",
              " Text(74.78114754098361, 10.872000000000014, 'mse = 90362034722.222\\nsamples = 6\\nvalue = 258916.667'),\n",
              " Text(76.83934426229509, 32.615999999999985, 'area <= 7.002\\nmse = 357488667.241\\nsamples = 632\\nvalue = 51014.695'),\n",
              " Text(76.1532786885246, 10.872000000000014, 'mse = 298640055.517\\nsamples = 178\\nvalue = 43519.129'),\n",
              " Text(77.52540983606558, 10.872000000000014, 'mse = 349897092.148\\nsamples = 454\\nvalue = 53953.485'),\n",
              " Text(81.98483606557377, 76.10399999999998, 'area <= 7.027\\nmse = 716267226.034\\nsamples = 449\\nvalue = 58611.33'),\n",
              " Text(80.26967213114754, 54.360000000000014, 'area <= 7.025\\nmse = 1262214030.916\\nsamples = 29\\nvalue = 71310.345'),\n",
              " Text(79.58360655737705, 32.615999999999985, 'area <= 7.024\\nmse = 332250000.0\\nsamples = 8\\nvalue = 62500.0'),\n",
              " Text(78.89754098360656, 10.872000000000014, 'mse = 374775510.204\\nsamples = 7\\nvalue = 61714.286'),\n",
              " Text(80.26967213114754, 10.872000000000014, 'mse = 0.0\\nsamples = 1\\nvalue = 68000.0'),\n",
              " Text(80.95573770491804, 32.615999999999985, 'mse = 1575650793.651\\nsamples = 21\\nvalue = 74666.667'),\n",
              " Text(83.7, 54.360000000000014, 'area <= 7.054\\nmse = 666667092.917\\nsamples = 420\\nvalue = 57734.493'),\n",
              " Text(82.32786885245902, 32.615999999999985, 'area <= 7.052\\nmse = 771301401.025\\nsamples = 319\\nvalue = 59352.624'),\n",
              " Text(81.64180327868853, 10.872000000000014, 'mse = 753305023.317\\nsamples = 308\\nvalue = 58715.867'),\n",
              " Text(83.01393442622951, 10.872000000000014, 'mse = 945966942.149\\nsamples = 11\\nvalue = 77181.818'),\n",
              " Text(85.07213114754099, 32.615999999999985, 'area <= 7.065\\nmse = 301799039.31\\nsamples = 101\\nvalue = 52623.762'),\n",
              " Text(84.3860655737705, 10.872000000000014, 'mse = 151561231.755\\nsamples = 53\\nvalue = 47009.434'),\n",
              " Text(85.75819672131148, 10.872000000000014, 'mse = 394453016.493\\nsamples = 48\\nvalue = 58822.917'),\n",
              " Text(136.7843237704918, 163.07999999999998, 'area <= 7.376\\nmse = 2108267018.068\\nsamples = 4843\\nvalue = 81200.842'),\n",
              " Text(113.50097336065573, 141.336, 'bathroom_num <= 1.866\\nmse = 1049728403.328\\nsamples = 3260\\nvalue = 71119.708'),\n",
              " Text(100.93739754098361, 119.592, 'area <= 7.166\\nmse = 1000824782.909\\nsamples = 3221\\nvalue = 70509.205'),\n",
              " Text(93.47643442622952, 97.848, 'area <= 7.161\\nmse = 804181606.105\\nsamples = 1189\\nvalue = 63841.547'),\n",
              " Text(90.90368852459017, 76.10399999999998, 'area <= 7.16\\nmse = 827925498.838\\nsamples = 1119\\nvalue = 64549.463'),\n",
              " Text(89.18852459016394, 54.360000000000014, 'area <= 7.078\\nmse = 783481205.108\\nsamples = 1107\\nvalue = 63880.622'),\n",
              " Text(87.81639344262295, 32.615999999999985, 'bedroom_num <= 2.5\\nmse = 2559785123.967\\nsamples = 11\\nvalue = 92818.182'),\n",
              " Text(87.13032786885246, 10.872000000000014, 'mse = 2614090000.0\\nsamples = 10\\nvalue = 97100.0'),\n",
              " Text(88.50245901639344, 10.872000000000014, 'mse = 0.0\\nsamples = 1\\nvalue = 50000.0'),\n",
              " Text(90.56065573770492, 32.615999999999985, 'area <= 7.15\\nmse = 757164601.882\\nsamples = 1096\\nvalue = 63590.191'),\n",
              " Text(89.87459016393443, 10.872000000000014, 'mse = 716139360.668\\nsamples = 1043\\nvalue = 62972.051'),\n",
              " Text(91.24672131147541, 10.872000000000014, 'mse = 1409015307.939\\nsamples = 53\\nvalue = 75754.717'),\n",
              " Text(92.6188524590164, 54.360000000000014, 'area <= 7.16\\nmse = 1079687500.0\\nsamples = 12\\nvalue = 126250.0'),\n",
              " Text(91.9327868852459, 32.615999999999985, 'mse = 965702479.339\\nsamples = 11\\nvalue = 130454.545'),\n",
              " Text(93.30491803278689, 32.615999999999985, 'mse = 0.0\\nsamples = 1\\nvalue = 80000.0'),\n",
              " Text(96.04918032786885, 76.10399999999998, 'bathroom_num <= 1.573\\nmse = 288543125.0\\nsamples = 70\\nvalue = 52525.0'),\n",
              " Text(95.36311475409836, 54.360000000000014, 'area <= 7.162\\nmse = 166694688.361\\nsamples = 66\\nvalue = 50306.818'),\n",
              " Text(94.67704918032787, 32.615999999999985, 'mse = 0.0\\nsamples = 2\\nvalue = 35000.0'),\n",
              " Text(96.04918032786885, 32.615999999999985, 'area <= 7.165\\nmse = 164353256.226\\nsamples = 64\\nvalue = 50785.156'),\n",
              " Text(95.36311475409836, 10.872000000000014, 'mse = 166846857.639\\nsamples = 60\\nvalue = 51504.167'),\n",
              " Text(96.73524590163935, 10.872000000000014, 'mse = 2875000.0\\nsamples = 4\\nvalue = 40000.0'),\n",
              " Text(96.73524590163935, 54.360000000000014, 'mse = 878296875.0\\nsamples = 4\\nvalue = 89125.0'),\n",
              " Text(108.3983606557377, 97.848, 'area <= 7.313\\nmse = 1074652587.717\\nsamples = 2032\\nvalue = 74410.703'),\n",
              " Text(102.90983606557377, 76.10399999999998, 'area <= 7.294\\nmse = 959608279.921\\nsamples = 1508\\nvalue = 72509.704'),\n",
              " Text(100.1655737704918, 54.360000000000014, 'bedroom_num <= 2.5\\nmse = 998656549.237\\nsamples = 1404\\nvalue = 73645.25'),\n",
              " Text(98.79344262295082, 32.615999999999985, 'area <= 7.179\\nmse = 988984652.087\\nsamples = 531\\nvalue = 78276.083'),\n",
              " Text(98.10737704918033, 10.872000000000014, 'mse = 580847970.931\\nsamples = 128\\nvalue = 67545.305'),\n",
              " Text(99.47950819672131, 10.872000000000014, 'mse = 1070426164.144\\nsamples = 403\\nvalue = 81684.37'),\n",
              " Text(101.53770491803279, 32.615999999999985, 'area <= 7.17\\nmse = 983562070.476\\nsamples = 873\\nvalue = 70828.558'),\n",
              " Text(100.8516393442623, 10.872000000000014, 'mse = 749726275.992\\nsamples = 46\\nvalue = 84573.913'),\n",
              " Text(102.22377049180328, 10.872000000000014, 'mse = 985475043.924\\nsamples = 827\\nvalue = 70064.004'),\n",
              " Text(105.65409836065574, 54.360000000000014, 'bedroom_num <= 2.5\\nmse = 180043739.259\\nsamples = 104\\nvalue = 57179.827'),\n",
              " Text(104.28196721311475, 32.615999999999985, 'area <= 7.297\\nmse = 171888340.665\\nsamples = 24\\nvalue = 65295.792'),\n",
              " Text(103.59590163934426, 10.872000000000014, 'mse = 0.0\\nsamples = 1\\nvalue = 110000.0'),\n",
              " Text(104.96803278688525, 10.872000000000014, 'mse = 88694091.157\\nsamples = 23\\nvalue = 63352.13'),\n",
              " Text(107.02622950819672, 32.615999999999985, 'bathroom_num <= 1.573\\nmse = 156801494.186\\nsamples = 80\\nvalue = 54745.038'),\n",
              " Text(106.34016393442623, 10.872000000000014, 'mse = 62062638.408\\nsamples = 34\\nvalue = 50002.941'),\n",
              " Text(107.71229508196721, 10.872000000000014, 'mse = 197919467.496\\nsamples = 46\\nvalue = 58250.065'),\n",
              " Text(113.88688524590164, 76.10399999999998, 'bathroom_num <= 1.573\\nmse = 1365404452.944\\nsamples = 524\\nvalue = 79881.519'),\n",
              " Text(111.14262295081967, 54.360000000000014, 'bedroom_num <= 2.5\\nmse = 719652884.195\\nsamples = 172\\nvalue = 71701.779'),\n",
              " Text(109.77049180327869, 32.615999999999985, 'area <= 7.364\\nmse = 1305945633.058\\nsamples = 55\\nvalue = 77501.818'),\n",
              " Text(109.0844262295082, 10.872000000000014, 'mse = 1247396589.534\\nsamples = 53\\nvalue = 75803.774'),\n",
              " Text(110.45655737704918, 10.872000000000014, 'mse = 756250000.0\\nsamples = 2\\nvalue = 122500.0'),\n",
              " Text(112.51475409836065, 32.615999999999985, 'area <= 7.328\\nmse = 420797414.041\\nsamples = 117\\nvalue = 68975.265'),\n",
              " Text(111.82868852459016, 10.872000000000014, 'mse = 586017309.537\\nsamples = 59\\nvalue = 72288.237'),\n",
              " Text(113.20081967213115, 10.872000000000014, 'mse = 230206352.556\\nsamples = 58\\nvalue = 65605.172'),\n",
              " Text(116.6311475409836, 54.360000000000014, 'bedroom_num <= 2.5\\nmse = 1632273040.985\\nsamples = 352\\nvalue = 83878.438'),\n",
              " Text(115.25901639344262, 32.615999999999985, 'area <= 7.318\\nmse = 4592187500.0\\nsamples = 4\\nvalue = 163750.0'),\n",
              " Text(114.57295081967213, 10.872000000000014, 'mse = 0.0\\nsamples = 1\\nvalue = 60000.0'),\n",
              " Text(115.94508196721311, 10.872000000000014, 'mse = 1338888888.889\\nsamples = 3\\nvalue = 198333.333'),\n",
              " Text(118.00327868852459, 32.615999999999985, 'bedroom_num <= 3.5\\nmse = 1524080993.211\\nsamples = 348\\nvalue = 82960.374'),\n",
              " Text(117.3172131147541, 10.872000000000014, 'mse = 1470061744.609\\nsamples = 346\\nvalue = 82515.058'),\n",
              " Text(118.68934426229508, 10.872000000000014, 'mse = 4900000000.0\\nsamples = 2\\nvalue = 160000.0'),\n",
              " Text(126.06454918032787, 119.592, 'bathroom_num <= 2.118\\nmse = 2515574214.333\\nsamples = 39\\nvalue = 121541.026'),\n",
              " Text(123.83483606557377, 97.848, 'area <= 7.338\\nmse = 2141728531.775\\nsamples = 37\\nvalue = 116489.189'),\n",
              " Text(121.43360655737705, 76.10399999999998, 'bedroom_num <= 2.5\\nmse = 2279602002.743\\nsamples = 27\\nvalue = 127485.185'),\n",
              " Text(120.74754098360656, 54.360000000000014, 'mse = 0.0\\nsamples = 1\\nvalue = 20100.0'),\n",
              " Text(122.11967213114754, 54.360000000000014, 'area <= 7.141\\nmse = 1906698224.852\\nsamples = 26\\nvalue = 131615.385'),\n",
              " Text(120.74754098360656, 32.615999999999985, 'area <= 7.124\\nmse = 306250000.0\\nsamples = 2\\nvalue = 82500.0'),\n",
              " Text(120.06147540983606, 10.872000000000014, 'mse = 0.0\\nsamples = 1\\nvalue = 100000.0'),\n",
              " Text(121.43360655737705, 10.872000000000014, 'mse = 0.0\\nsamples = 1\\nvalue = 65000.0'),\n",
              " Text(123.49180327868852, 32.615999999999985, 'area <= 7.161\\nmse = 1822289930.556\\nsamples = 24\\nvalue = 135708.333'),\n",
              " Text(122.80573770491803, 10.872000000000014, 'mse = 0.0\\nsamples = 1\\nvalue = 185000.0'),\n",
              " Text(124.17786885245901, 10.872000000000014, 'mse = 1791289224.953\\nsamples = 23\\nvalue = 133565.217'),\n",
              " Text(126.23606557377049, 76.10399999999998, 'area <= 7.346\\nmse = 561560000.0\\nsamples = 10\\nvalue = 86800.0'),\n",
              " Text(125.55, 54.360000000000014, 'mse = 6000000.0\\nsamples = 3\\nvalue = 55000.0'),\n",
              " Text(126.92213114754098, 54.360000000000014, 'area <= 7.354\\nmse = 180530612.245\\nsamples = 7\\nvalue = 100428.571'),\n",
              " Text(126.23606557377049, 32.615999999999985, 'area <= 7.349\\nmse = 144583333.333\\nsamples = 6\\nvalue = 103500.0'),\n",
              " Text(125.55, 10.872000000000014, 'mse = 160000000.0\\nsamples = 5\\nvalue = 105000.0'),\n",
              " Text(126.92213114754098, 10.872000000000014, 'mse = 0.0\\nsamples = 1\\nvalue = 96000.0'),\n",
              " Text(127.60819672131147, 32.615999999999985, 'mse = 0.0\\nsamples = 1\\nvalue = 82000.0'),\n",
              " Text(128.29426229508198, 97.848, 'bedroom_num <= 3.5\\nmse = 225000000.0\\nsamples = 2\\nvalue = 215000.0'),\n",
              " Text(127.60819672131147, 76.10399999999998, 'mse = 0.0\\nsamples = 1\\nvalue = 200000.0'),\n",
              " Text(128.98032786885247, 76.10399999999998, 'mse = 0.0\\nsamples = 1\\nvalue = 230000.0'),\n",
              " Text(160.06767418032788, 141.336, 'bathroom_num <= 2.118\\nmse = 3647893084.897\\nsamples = 1583\\nvalue = 101961.738'),\n",
              " Text(147.58985655737706, 119.592, 'area <= 7.491\\nmse = 3538466640.37\\nsamples = 1568\\nvalue = 101012.392'),\n",
              " Text(137.384631147541, 97.848, 'bedroom_num <= 3.5\\nmse = 2552403896.115\\nsamples = 909\\nvalue = 93654.052'),\n",
              " Text(133.09672131147542, 76.10399999999998, 'bathroom_num <= 1.573\\nmse = 2479256509.523\\nsamples = 884\\nvalue = 92556.033'),\n",
              " Text(130.35245901639345, 54.360000000000014, 'bathroom_num <= 1.207\\nmse = 1014508434.026\\nsamples = 115\\nvalue = 78179.13'),\n",
              " Text(128.98032786885247, 32.615999999999985, 'area <= 7.396\\nmse = 2344000000.0\\nsamples = 5\\nvalue = 161000.0'),\n",
              " Text(128.29426229508198, 10.872000000000014, 'mse = 66666666.667\\nsamples = 3\\nvalue = 200000.0'),\n",
              " Text(129.66639344262296, 10.872000000000014, 'mse = 56250000.0\\nsamples = 2\\nvalue = 102500.0'),\n",
              " Text(131.72459016393444, 32.615999999999985, 'area <= 7.421\\nmse = 628118697.521\\nsamples = 110\\nvalue = 74414.545'),\n",
              " Text(131.03852459016395, 10.872000000000014, 'mse = 498972863.322\\nsamples = 68\\nvalue = 70508.824'),\n",
              " Text(132.41065573770493, 10.872000000000014, 'mse = 772526643.991\\nsamples = 42\\nvalue = 80738.095'),\n",
              " Text(135.8409836065574, 54.360000000000014, 'area <= 7.434\\nmse = 2662769371.624\\nsamples = 769\\nvalue = 94706.025'),\n",
              " Text(134.4688524590164, 32.615999999999985, 'area <= 7.425\\nmse = 2333321522.081\\nsamples = 427\\nvalue = 91902.888'),\n",
              " Text(133.7827868852459, 10.872000000000014, 'mse = 2520508164.614\\nsamples = 360\\nvalue = 95354.258'),\n",
              " Text(135.1549180327869, 10.872000000000014, 'mse = 919632880.374\\nsamples = 67\\nvalue = 73358.209'),\n",
              " Text(137.21311475409837, 32.615999999999985, 'area <= 7.436\\nmse = 3052038287.445\\nsamples = 342\\nvalue = 98205.848'),\n",
              " Text(136.52704918032788, 10.872000000000014, 'mse = 2084000000.0\\nsamples = 5\\nvalue = 129000.0'),\n",
              " Text(137.89918032786886, 10.872000000000014, 'mse = 3052122694.773\\nsamples = 337\\nvalue = 97748.961'),\n",
              " Text(141.67254098360655, 76.10399999999998, 'bathroom_num <= 1.866\\nmse = 3588809600.0\\nsamples = 25\\nvalue = 132480.0'),\n",
              " Text(139.27131147540985, 54.360000000000014, 'area <= 7.39\\nmse = 735937500.0\\nsamples = 8\\nvalue = 91250.0'),\n",
              " Text(138.58524590163935, 32.615999999999985, 'mse = 0.0\\nsamples = 1\\nvalue = 150000.0'),\n",
              " Text(139.95737704918034, 32.615999999999985, 'area <= 7.453\\nmse = 277551020.408\\nsamples = 7\\nvalue = 82857.143'),\n",
              " Text(139.27131147540985, 10.872000000000014, 'mse = 266666666.667\\nsamples = 6\\nvalue = 80000.0'),\n",
              " Text(140.64344262295083, 10.872000000000014, 'mse = 0.0\\nsamples = 1\\nvalue = 100000.0'),\n",
              " Text(144.0737704918033, 54.360000000000014, 'area <= 7.45\\nmse = 3754927335.64\\nsamples = 17\\nvalue = 151882.353'),\n",
              " Text(142.7016393442623, 32.615999999999985, 'area <= 7.439\\nmse = 3556915555.556\\nsamples = 15\\nvalue = 160133.333'),\n",
              " Text(142.0155737704918, 10.872000000000014, 'mse = 2908222222.222\\nsamples = 12\\nvalue = 142666.667'),\n",
              " Text(143.3877049180328, 10.872000000000014, 'mse = 50000000.0\\nsamples = 3\\nvalue = 230000.0'),\n",
              " Text(145.44590163934427, 32.615999999999985, 'area <= 7.462\\nmse = 900000000.0\\nsamples = 2\\nvalue = 90000.0'),\n",
              " Text(144.75983606557378, 10.872000000000014, 'mse = 0.0\\nsamples = 1\\nvalue = 60000.0'),\n",
              " Text(146.13196721311476, 10.872000000000014, 'mse = 0.0\\nsamples = 1\\nvalue = 120000.0'),\n",
              " Text(157.79508196721312, 97.848, 'bathroom_num <= 1.866\\nmse = 4720900096.838\\nsamples = 659\\nvalue = 111162.212'),\n",
              " Text(152.3065573770492, 76.10399999999998, 'area <= 7.528\\nmse = 4604169556.347\\nsamples = 569\\nvalue = 108840.594'),\n",
              " Text(149.56229508196722, 54.360000000000014, 'area <= 7.51\\nmse = 2132672499.451\\nsamples = 352\\nvalue = 104505.111'),\n",
              " Text(148.19016393442624, 32.615999999999985, 'area <= 7.494\\nmse = 2006535570.546\\nsamples = 251\\nvalue = 109380.876'),\n",
              " Text(147.50409836065575, 10.872000000000014, 'mse = 0.0\\nsamples = 1\\nvalue = 210000.0'),\n",
              " Text(148.87622950819673, 10.872000000000014, 'mse = 1973902893.44\\nsamples = 250\\nvalue = 108978.4'),\n",
              " Text(150.9344262295082, 32.615999999999985, 'area <= 7.513\\nmse = 2240240104.156\\nsamples = 101\\nvalue = 92388.109'),\n",
              " Text(150.2483606557377, 10.872000000000014, 'mse = 295687500.0\\nsamples = 20\\nvalue = 57750.0'),\n",
              " Text(151.6204918032787, 10.872000000000014, 'mse = 2350982684.42\\nsamples = 81\\nvalue = 100940.728'),\n",
              " Text(155.05081967213115, 54.360000000000014, 'area <= 7.529\\nmse = 8533285376.611\\nsamples = 217\\nvalue = 115873.267'),\n",
              " Text(153.67868852459017, 32.615999999999985, 'bathroom_num <= 1.573\\nmse = 113389506172.84\\nsamples = 9\\nvalue = 197777.778'),\n",
              " Text(152.99262295081968, 10.872000000000014, 'mse = 100000000.0\\nsamples = 2\\nvalue = 75000.0'),\n",
              " Text(154.36475409836066, 10.872000000000014, 'mse = 140220408163.265\\nsamples = 7\\nvalue = 232857.143'),\n",
              " Text(156.42295081967214, 32.615999999999985, 'area <= 7.559\\nmse = 3693412720.026\\nsamples = 208\\nvalue = 112329.322'),\n",
              " Text(155.73688524590165, 10.872000000000014, 'mse = 5251941120.038\\nsamples = 92\\nvalue = 127041.304'),\n",
              " Text(157.10901639344263, 10.872000000000014, 'mse = 2149532127.193\\nsamples = 116\\nvalue = 100661.198'),\n",
              " Text(163.28360655737706, 76.10399999999998, 'area <= 7.59\\nmse = 5209382844.444\\nsamples = 90\\nvalue = 125840.0'),\n",
              " Text(160.5393442622951, 54.360000000000014, 'bedroom_num <= 3.5\\nmse = 5758714933.333\\nsamples = 75\\nvalue = 133780.0'),\n",
              " Text(159.1672131147541, 32.615999999999985, 'area <= 7.57\\nmse = 8064703209.877\\nsamples = 45\\nvalue = 145088.889'),\n",
              " Text(158.4811475409836, 10.872000000000014, 'mse = 8495596785.975\\nsamples = 37\\nvalue = 156432.432'),\n",
              " Text(159.8532786885246, 10.872000000000014, 'mse = 2724234375.0\\nsamples = 8\\nvalue = 92625.0'),\n",
              " Text(161.91147540983607, 32.615999999999985, 'area <= 7.558\\nmse = 1820141388.889\\nsamples = 30\\nvalue = 116816.667'),\n",
              " Text(161.22540983606558, 10.872000000000014, 'mse = 1645498450.413\\nsamples = 22\\nvalue = 105886.364'),\n",
              " Text(162.59754098360656, 10.872000000000014, 'mse = 1068359375.0\\nsamples = 8\\nvalue = 146875.0'),\n",
              " Text(166.02786885245902, 54.360000000000014, 'area <= 7.595\\nmse = 571414400.0\\nsamples = 15\\nvalue = 86140.0'),\n",
              " Text(164.65573770491804, 32.615999999999985, 'area <= 7.593\\nmse = 177276734.694\\nsamples = 7\\nvalue = 77442.857'),\n",
              " Text(163.96967213114755, 10.872000000000014, 'mse = 125562500.0\\nsamples = 6\\nvalue = 80850.0'),\n",
              " Text(165.34180327868853, 10.872000000000014, 'mse = 0.0\\nsamples = 1\\nvalue = 57000.0'),\n",
              " Text(167.4, 32.615999999999985, 'bedroom_num <= 3.5\\nmse = 792187500.0\\nsamples = 8\\nvalue = 93750.0'),\n",
              " Text(166.7139344262295, 10.872000000000014, 'mse = 0.0\\nsamples = 1\\nvalue = 165000.0'),\n",
              " Text(168.0860655737705, 10.872000000000014, 'mse = 76530612.245\\nsamples = 7\\nvalue = 83571.429'),\n",
              " Text(172.54549180327868, 119.592, 'bedroom_num <= 4.5\\nmse = 5144160000.0\\nsamples = 15\\nvalue = 201200.0'),\n",
              " Text(171.8594262295082, 97.848, 'bedroom_num <= 3.5\\nmse = 4648454081.633\\nsamples = 14\\nvalue = 208785.714'),\n",
              " Text(169.45819672131148, 76.10399999999998, 'area <= 7.418\\nmse = 3721000000.0\\nsamples = 2\\nvalue = 139000.0'),\n",
              " Text(168.772131147541, 54.360000000000014, 'mse = 0.0\\nsamples = 1\\nvalue = 78000.0'),\n",
              " Text(170.14426229508197, 54.360000000000014, 'mse = 0.0\\nsamples = 1\\nvalue = 200000.0'),\n",
              " Text(174.26065573770492, 76.10399999999998, 'area <= 7.475\\nmse = 3856076388.889\\nsamples = 12\\nvalue = 220416.667'),\n",
              " Text(171.51639344262296, 54.360000000000014, 'area <= 7.427\\nmse = 4304000000.0\\nsamples = 5\\nvalue = 261000.0'),\n",
              " Text(170.14426229508197, 32.615999999999985, 'area <= 7.393\\nmse = 938888888.889\\nsamples = 3\\nvalue = 211666.667'),\n",
              " Text(169.45819672131148, 10.872000000000014, 'mse = 0.0\\nsamples = 1\\nvalue = 210000.0'),\n",
              " Text(170.83032786885246, 10.872000000000014, 'mse = 1406250000.0\\nsamples = 2\\nvalue = 212500.0'),\n",
              " Text(172.88852459016394, 32.615999999999985, 'area <= 7.449\\nmse = 225000000.0\\nsamples = 2\\nvalue = 335000.0'),\n",
              " Text(172.20245901639345, 10.872000000000014, 'mse = 0.0\\nsamples = 1\\nvalue = 350000.0'),\n",
              " Text(173.57459016393443, 10.872000000000014, 'mse = 0.0\\nsamples = 1\\nvalue = 320000.0'),\n",
              " Text(177.0049180327869, 54.360000000000014, 'area <= 7.555\\nmse = 1519387755.102\\nsamples = 7\\nvalue = 191428.571'),\n",
              " Text(175.6327868852459, 32.615999999999985, 'area <= 7.536\\nmse = 717187500.0\\nsamples = 4\\nvalue = 206250.0'),\n",
              " Text(174.94672131147541, 10.872000000000014, 'mse = 450000000.0\\nsamples = 3\\nvalue = 195000.0'),\n",
              " Text(176.3188524590164, 10.872000000000014, 'mse = 0.0\\nsamples = 1\\nvalue = 240000.0'),\n",
              " Text(178.37704918032787, 32.615999999999985, 'area <= 7.568\\nmse = 1905555555.556\\nsamples = 3\\nvalue = 171666.667'),\n",
              " Text(177.69098360655738, 10.872000000000014, 'mse = 0.0\\nsamples = 1\\nvalue = 160000.0'),\n",
              " Text(179.06311475409836, 10.872000000000014, 'mse = 2756250000.0\\nsamples = 2\\nvalue = 177500.0'),\n",
              " Text(173.23155737704917, 97.848, 'mse = 0.0\\nsamples = 1\\nvalue = 95000.0'),\n",
              " Text(277.54568391393445, 184.824, 'area <= 8.29\\nmse = 15792754091.654\\nsamples = 1551\\nvalue = 194928.442'),\n",
              " Text(242.1811475409836, 163.07999999999998, 'area <= 7.945\\nmse = 8926286512.862\\nsamples = 1458\\nvalue = 177798.364'),\n",
              " Text(212.59456967213114, 141.336, 'area <= 7.733\\nmse = 5875071360.743\\nsamples = 1074\\nvalue = 159534.369'),\n",
              " Text(193.12745901639346, 119.592, 'area <= 7.647\\nmse = 4788348747.66\\nsamples = 583\\nvalue = 145458.684'),\n",
              " Text(184.5516393442623, 97.848, 'area <= 7.637\\nmse = 3488743219.683\\nsamples = 188\\nvalue = 133981.441'),\n",
              " Text(181.80737704918033, 76.10399999999998, 'bedroom_num <= 2.5\\nmse = 3770611791.231\\nsamples = 157\\nvalue = 139659.274'),\n",
              " Text(181.12131147540984, 54.360000000000014, 'mse = 466666666.667\\nsamples = 3\\nvalue = 55000.0'),\n",
              " Text(182.49344262295082, 54.360000000000014, 'area <= 7.627\\nmse = 3692633839.938\\nsamples = 154\\nvalue = 141308.481'),\n",
              " Text(181.12131147540984, 32.615999999999985, 'bathroom_num <= 1.866\\nmse = 3562958371.18\\nsamples = 139\\nvalue = 138025.223'),\n",
              " Text(180.43524590163935, 10.872000000000014, 'mse = 4086693218.034\\nsamples = 97\\nvalue = 143634.082'),\n",
              " Text(181.80737704918033, 10.872000000000014, 'mse = 2112923469.388\\nsamples = 42\\nvalue = 125071.429'),\n",
              " Text(183.8655737704918, 32.615999999999985, 'area <= 7.628\\nmse = 3868728888.889\\nsamples = 15\\nvalue = 171733.333'),\n",
              " Text(183.17950819672132, 10.872000000000014, 'mse = 355555555.556\\nsamples = 3\\nvalue = 236666.667'),\n",
              " Text(184.5516393442623, 10.872000000000014, 'mse = 3429416666.667\\nsamples = 12\\nvalue = 155500.0'),\n",
              " Text(187.29590163934427, 76.10399999999998, 'area <= 7.639\\nmse = 1071069261.967\\nsamples = 31\\nvalue = 105225.968'),\n",
              " Text(186.60983606557377, 54.360000000000014, 'mse = 520475.148\\nsamples = 13\\nvalue = 78308.077'),\n",
              " Text(187.98196721311476, 54.360000000000014, 'area <= 7.642\\nmse = 943000000.0\\nsamples = 18\\nvalue = 124666.667'),\n",
              " Text(186.60983606557377, 32.615999999999985, 'bathroom_num <= 1.866\\nmse = 1178571428.571\\nsamples = 7\\nvalue = 145000.0'),\n",
              " Text(185.92377049180328, 10.872000000000014, 'mse = 1260000000.0\\nsamples = 5\\nvalue = 135000.0'),\n",
              " Text(187.29590163934427, 10.872000000000014, 'mse = 100000000.0\\nsamples = 2\\nvalue = 170000.0'),\n",
              " Text(189.35409836065574, 32.615999999999985, 'bedroom_num <= 3.5\\nmse = 362561983.471\\nsamples = 11\\nvalue = 111727.273'),\n",
              " Text(188.66803278688525, 10.872000000000014, 'mse = 621760000.0\\nsamples = 5\\nvalue = 118800.0'),\n",
              " Text(190.04016393442623, 10.872000000000014, 'mse = 70138888.889\\nsamples = 6\\nvalue = 105833.333'),\n",
              " Text(201.7032786885246, 97.848, 'bedroom_num <= 3.5\\nmse = 5314359892.876\\nsamples = 395\\nvalue = 150921.271'),\n",
              " Text(196.21475409836066, 76.10399999999998, 'area <= 7.684\\nmse = 5550617746.413\\nsamples = 300\\nvalue = 145686.673'),\n",
              " Text(193.4704918032787, 54.360000000000014, 'area <= 7.661\\nmse = 6334952286.144\\nsamples = 134\\nvalue = 156794.776'),\n",
              " Text(192.0983606557377, 32.615999999999985, 'area <= 7.658\\nmse = 6024551494.646\\nsamples = 82\\nvalue = 137481.707'),\n",
              " Text(191.41229508196722, 10.872000000000014, 'mse = 6831762366.864\\nsamples = 65\\nvalue = 148838.462'),\n",
              " Text(192.7844262295082, 10.872000000000014, 'mse = 559467128.028\\nsamples = 17\\nvalue = 94058.824'),\n",
              " Text(194.84262295081967, 32.615999999999985, 'area <= 7.673\\nmse = 5308725961.538\\nsamples = 52\\nvalue = 187250.0'),\n",
              " Text(194.15655737704918, 10.872000000000014, 'mse = 7859605371.901\\nsamples = 22\\nvalue = 214409.091'),\n",
              " Text(195.52868852459017, 10.872000000000014, 'mse = 2500488888.889\\nsamples = 30\\nvalue = 167333.333'),\n",
              " Text(198.95901639344262, 54.360000000000014, 'area <= 7.695\\nmse = 4737473117.603\\nsamples = 166\\nvalue = 136719.892'),\n",
              " Text(197.58688524590164, 32.615999999999985, 'area <= 7.689\\nmse = 1538340270.996\\nsamples = 64\\nvalue = 112914.062'),\n",
              " Text(196.90081967213115, 10.872000000000014, 'mse = 591800567.108\\nsamples = 23\\nvalue = 100282.609'),\n",
              " Text(198.27295081967213, 10.872000000000014, 'mse = 1929609756.098\\nsamples = 41\\nvalue = 120000.0'),\n",
              " Text(200.3311475409836, 32.615999999999985, 'area <= 7.696\\nmse = 6166071015.418\\nsamples = 102\\nvalue = 151656.882'),\n",
              " Text(199.64508196721312, 10.872000000000014, 'mse = 438888888.889\\nsamples = 3\\nvalue = 253333.333'),\n",
              " Text(201.0172131147541, 10.872000000000014, 'mse = 6016853005.244\\nsamples = 99\\nvalue = 148575.778'),\n",
              " Text(207.19180327868852, 76.10399999999998, 'bedroom_num <= 4.5\\nmse = 4208501865.928\\nsamples = 95\\nvalue = 167451.579'),\n",
              " Text(204.44754098360656, 54.360000000000014, 'bathroom_num <= 2.118\\nmse = 4545370217.955\\nsamples = 81\\nvalue = 172987.654'),\n",
              " Text(203.07540983606557, 32.615999999999985, 'area <= 7.723\\nmse = 4070223832.18\\nsamples = 68\\nvalue = 167161.765'),\n",
              " Text(202.38934426229508, 10.872000000000014, 'mse = 4114858585.859\\nsamples = 66\\nvalue = 168666.667'),\n",
              " Text(203.76147540983607, 10.872000000000014, 'mse = 56250000.0\\nsamples = 2\\nvalue = 117500.0'),\n",
              " Text(205.81967213114754, 32.615999999999985, 'area <= 7.698\\nmse = 5924556213.018\\nsamples = 13\\nvalue = 203461.538'),\n",
              " Text(205.13360655737705, 10.872000000000014, 'mse = 6372222222.222\\nsamples = 9\\nvalue = 223333.333'),\n",
              " Text(206.50573770491803, 10.872000000000014, 'mse = 2029687500.0\\nsamples = 4\\nvalue = 158750.0'),\n",
              " Text(209.9360655737705, 54.360000000000014, 'area <= 7.698\\nmse = 1056225969.388\\nsamples = 14\\nvalue = 135421.429'),\n",
              " Text(208.5639344262295, 32.615999999999985, 'area <= 7.678\\nmse = 2673326875.0\\nsamples = 4\\nvalue = 162275.0'),\n",
              " Text(207.87786885245902, 10.872000000000014, 'mse = 0.0\\nsamples = 1\\nvalue = 125100.0'),\n",
              " Text(209.25, 10.872000000000014, 'mse = 2950222222.222\\nsamples = 3\\nvalue = 174666.667'),\n",
              " Text(211.30819672131148, 32.615999999999985, 'bathroom_num <= 2.118\\nmse = 5561600.0\\nsamples = 10\\nvalue = 124680.0'),\n",
              " Text(210.62213114754098, 10.872000000000014, 'mse = 0.0\\nsamples = 1\\nvalue = 130000.0'),\n",
              " Text(211.99426229508197, 10.872000000000014, 'mse = 2685432.099\\nsamples = 9\\nvalue = 124088.889'),\n",
              " Text(232.06168032786886, 119.592, 'bedroom_num <= 3.5\\nmse = 6650840889.641\\nsamples = 491\\nvalue = 176247.452'),\n",
              " Text(223.65737704918033, 97.848, 'area <= 7.894\\nmse = 8238808950.617\\nsamples = 180\\nvalue = 197777.778'),\n",
              " Text(218.1688524590164, 76.10399999999998, 'area <= 7.847\\nmse = 7933181319.197\\nsamples = 146\\nvalue = 191986.301'),\n",
              " Text(215.42459016393443, 54.360000000000014, 'area <= 7.841\\nmse = 9516398943.139\\nsamples = 107\\nvalue = 203752.336'),\n",
              " Text(214.05245901639344, 32.615999999999985, 'area <= 7.828\\nmse = 8258087778.739\\nsamples = 102\\nvalue = 195112.745'),\n",
              " Text(213.36639344262295, 10.872000000000014, 'mse = 8682203774.811\\nsamples = 92\\nvalue = 200505.435'),\n",
              " Text(214.73852459016393, 10.872000000000014, 'mse = 1627250000.0\\nsamples = 10\\nvalue = 145500.0'),\n",
              " Text(216.7967213114754, 32.615999999999985, 'area <= 7.845\\nmse = 2600000000.0\\nsamples = 5\\nvalue = 380000.0'),\n",
              " Text(216.11065573770492, 10.872000000000014, 'mse = 1250000000.0\\nsamples = 4\\nvalue = 400000.0'),\n",
              " Text(217.4827868852459, 10.872000000000014, 'mse = 0.0\\nsamples = 1\\nvalue = 300000.0'),\n",
              " Text(220.91311475409836, 54.360000000000014, 'area <= 7.859\\nmse = 2167586127.548\\nsamples = 39\\nvalue = 159705.128'),\n",
              " Text(219.54098360655738, 32.615999999999985, 'area <= 7.849\\nmse = 290674740.484\\nsamples = 17\\nvalue = 129323.529'),\n",
              " Text(218.85491803278688, 10.872000000000014, 'mse = 0.0\\nsamples = 1\\nvalue = 83000.0'),\n",
              " Text(220.22704918032787, 10.872000000000014, 'mse = 166342773.438\\nsamples = 16\\nvalue = 132218.75'),\n",
              " Text(222.28524590163934, 32.615999999999985, 'area <= 7.889\\nmse = 2353512396.694\\nsamples = 22\\nvalue = 183181.818'),\n",
              " Text(221.59918032786885, 10.872000000000014, 'mse = 2198412698.413\\nsamples = 21\\nvalue = 186666.667'),\n",
              " Text(222.97131147540983, 10.872000000000014, 'mse = 0.0\\nsamples = 1\\nvalue = 110000.0'),\n",
              " Text(229.14590163934426, 76.10399999999998, 'area <= 7.906\\nmse = 8788698961.938\\nsamples = 34\\nvalue = 222647.059'),\n",
              " Text(226.4016393442623, 54.360000000000014, 'area <= 7.905\\nmse = 8559840000.0\\nsamples = 15\\nvalue = 288400.0'),\n",
              " Text(225.0295081967213, 32.615999999999985, 'area <= 7.899\\nmse = 5297876543.21\\nsamples = 9\\nvalue = 230111.111'),\n",
              " Text(224.34344262295082, 10.872000000000014, 'mse = 0.0\\nsamples = 1\\nvalue = 350000.0'),\n",
              " Text(225.7155737704918, 10.872000000000014, 'mse = 3938859375.0\\nsamples = 8\\nvalue = 215125.0'),\n",
              " Text(227.77377049180328, 32.615999999999985, 'bathroom_num <= 1.866\\nmse = 711805555.556\\nsamples = 6\\nvalue = 375833.333'),\n",
              " Text(227.08770491803278, 10.872000000000014, 'mse = 672222222.222\\nsamples = 3\\nvalue = 393333.333'),\n",
              " Text(228.45983606557377, 10.872000000000014, 'mse = 138888888.889\\nsamples = 3\\nvalue = 358333.333'),\n",
              " Text(231.89016393442623, 54.360000000000014, 'area <= 7.93\\nmse = 2861457063.712\\nsamples = 19\\nvalue = 170736.842'),\n",
              " Text(230.51803278688524, 32.615999999999985, 'bathroom_num <= 1.866\\nmse = 1212025510.204\\nsamples = 14\\nvalue = 149785.714'),\n",
              " Text(229.83196721311475, 10.872000000000014, 'mse = 725000000.0\\nsamples = 6\\nvalue = 130000.0'),\n",
              " Text(231.20409836065573, 10.872000000000014, 'mse = 1063484375.0\\nsamples = 8\\nvalue = 164625.0'),\n",
              " Text(233.2622950819672, 32.615999999999985, 'area <= 7.939\\nmse = 2809440000.0\\nsamples = 5\\nvalue = 229400.0'),\n",
              " Text(232.57622950819672, 10.872000000000014, 'mse = 2092187500.0\\nsamples = 4\\nvalue = 246250.0'),\n",
              " Text(233.9483606557377, 10.872000000000014, 'mse = 0.0\\nsamples = 1\\nvalue = 162000.0'),\n",
              " Text(240.4659836065574, 97.848, 'area <= 7.737\\nmse = 5308180701.35\\nsamples = 311\\nvalue = 163786.17'),\n",
              " Text(236.69262295081967, 76.10399999999998, 'bathroom_num <= 1.866\\nmse = 2425000000.0\\nsamples = 6\\nvalue = 275000.0'),\n",
              " Text(235.32049180327868, 54.360000000000014, 'area <= 7.734\\nmse = 2500000000.0\\nsamples = 2\\nvalue = 220000.0'),\n",
              " Text(234.6344262295082, 32.615999999999985, 'mse = 0.0\\nsamples = 1\\nvalue = 270000.0'),\n",
              " Text(236.00655737704918, 32.615999999999985, 'mse = 0.0\\nsamples = 1\\nvalue = 170000.0'),\n",
              " Text(238.06475409836065, 54.360000000000014, 'area <= 7.734\\nmse = 118750000.0\\nsamples = 4\\nvalue = 302500.0'),\n",
              " Text(237.37868852459016, 32.615999999999985, 'mse = 0.0\\nsamples = 2\\nvalue = 300000.0'),\n",
              " Text(238.75081967213114, 32.615999999999985, 'mse = 225000000.0\\nsamples = 2\\nvalue = 305000.0'),\n",
              " Text(244.23934426229508, 76.10399999999998, 'bathroom_num <= 2.118\\nmse = 5116797417.633\\nsamples = 305\\nvalue = 161598.357'),\n",
              " Text(241.4950819672131, 54.360000000000014, 'area <= 7.94\\nmse = 5158225173.228\\nsamples = 229\\nvalue = 154910.476'),\n",
              " Text(240.12295081967213, 32.615999999999985, 'area <= 7.88\\nmse = 5231765464.632\\nsamples = 219\\nvalue = 157509.128'),\n",
              " Text(239.43688524590164, 10.872000000000014, 'mse = 4884765205.504\\nsamples = 156\\nvalue = 148240.378'),\n",
              " Text(240.80901639344262, 10.872000000000014, 'mse = 5351518266.566\\nsamples = 63\\nvalue = 180460.317'),\n",
              " Text(242.8672131147541, 32.615999999999985, 'area <= 7.942\\nmse = 161000000.0\\nsamples = 10\\nvalue = 98000.0'),\n",
              " Text(242.1811475409836, 10.872000000000014, 'mse = 7142857.143\\nsamples = 7\\nvalue = 90000.0'),\n",
              " Text(243.55327868852459, 10.872000000000014, 'mse = 22222222.222\\nsamples = 3\\nvalue = 116666.667'),\n",
              " Text(246.98360655737704, 54.360000000000014, 'area <= 7.896\\nmse = 4451108552.632\\nsamples = 76\\nvalue = 181750.0'),\n",
              " Text(245.61147540983606, 32.615999999999985, 'area <= 7.745\\nmse = 4846080024.623\\nsamples = 57\\nvalue = 195754.386'),\n",
              " Text(244.92540983606557, 10.872000000000014, 'mse = 0.0\\nsamples = 1\\nvalue = 382000.0'),\n",
              " Text(246.29754098360655, 10.872000000000014, 'mse = 4302137755.102\\nsamples = 56\\nvalue = 192428.571'),\n",
              " Text(248.35573770491803, 32.615999999999985, 'area <= 7.932\\nmse = 912720221.607\\nsamples = 19\\nvalue = 139736.842'),\n",
              " Text(247.66967213114754, 10.872000000000014, 'mse = 38888888.889\\nsamples = 3\\nvalue = 116666.667'),\n",
              " Text(249.04180327868852, 10.872000000000014, 'mse = 958058593.75\\nsamples = 16\\nvalue = 144062.5'),\n",
              " Text(271.7677254098361, 141.336, 'area <= 8.133\\nmse = 13917808484.364\\nsamples = 384\\nvalue = 228880.474'),\n",
              " Text(259.6758196721311, 119.592, 'bedroom_num <= 3.5\\nmse = 10953663427.927\\nsamples = 273\\nvalue = 211216.484'),\n",
              " Text(255.21639344262294, 97.848, 'area <= 8.097\\nmse = 7178323721.646\\nsamples = 51\\nvalue = 266901.961'),\n",
              " Text(253.15819672131147, 76.10399999999998, 'area <= 8.09\\nmse = 8197679952.409\\nsamples = 41\\nvalue = 259317.073'),\n",
              " Text(252.47213114754098, 54.360000000000014, 'area <= 7.954\\nmse = 8056299802.761\\nsamples = 39\\nvalue = 264538.462'),\n",
              " Text(251.1, 32.615999999999985, 'area <= 7.95\\nmse = 1679687500.0\\nsamples = 4\\nvalue = 218750.0'),\n",
              " Text(250.4139344262295, 10.872000000000014, 'mse = 0.0\\nsamples = 2\\nvalue = 250000.0'),\n",
              " Text(251.7860655737705, 10.872000000000014, 'mse = 1406250000.0\\nsamples = 2\\nvalue = 187500.0'),\n",
              " Text(253.84426229508196, 32.615999999999985, 'area <= 8.045\\nmse = 8518062040.816\\nsamples = 35\\nvalue = 269771.429'),\n",
              " Text(253.15819672131147, 10.872000000000014, 'mse = 8984430727.023\\nsamples = 27\\nvalue = 278703.704'),\n",
              " Text(254.53032786885245, 10.872000000000014, 'mse = 5765984375.0\\nsamples = 8\\nvalue = 239625.0'),\n",
              " Text(253.84426229508196, 54.360000000000014, 'mse = 56250000.0\\nsamples = 2\\nvalue = 157500.0'),\n",
              " Text(257.2745901639344, 76.10399999999998, 'area <= 8.102\\nmse = 1796000000.0\\nsamples = 10\\nvalue = 298000.0'),\n",
              " Text(255.90245901639344, 54.360000000000014, 'bathroom_num <= 1.866\\nmse = 1726530612.245\\nsamples = 7\\nvalue = 311428.571'),\n",
              " Text(255.21639344262294, 32.615999999999985, 'mse = 156250000.0\\nsamples = 2\\nvalue = 362500.0'),\n",
              " Text(256.58852459016396, 32.615999999999985, 'mse = 894000000.0\\nsamples = 5\\nvalue = 291000.0'),\n",
              " Text(258.6467213114754, 54.360000000000014, 'area <= 8.107\\nmse = 555555555.556\\nsamples = 3\\nvalue = 266666.667'),\n",
              " Text(257.96065573770494, 32.615999999999985, 'mse = 0.0\\nsamples = 2\\nvalue = 250000.0'),\n",
              " Text(259.3327868852459, 32.615999999999985, 'mse = 0.0\\nsamples = 1\\nvalue = 300000.0'),\n",
              " Text(264.13524590163934, 97.848, 'bathroom_num <= 1.366\\nmse = 10944957763.371\\nsamples = 222\\nvalue = 198423.874'),\n",
              " Text(263.4491803278689, 76.10399999999998, 'mse = 0.0\\nsamples = 1\\nvalue = 500000.0'),\n",
              " Text(264.82131147540986, 76.10399999999998, 'bathroom_num <= 2.343\\nmse = 10581090196.761\\nsamples = 221\\nvalue = 197059.276'),\n",
              " Text(262.0770491803279, 54.360000000000014, 'bedroom_num <= 4.5\\nmse = 10848733113.901\\nsamples = 187\\nvalue = 201893.583'),\n",
              " Text(260.7049180327869, 32.615999999999985, 'area <= 7.954\\nmse = 11296183471.549\\nsamples = 173\\nvalue = 205763.584'),\n",
              " Text(260.0188524590164, 10.872000000000014, 'mse = 0.0\\nsamples = 1\\nvalue = 350000.0'),\n",
              " Text(261.39098360655737, 10.872000000000014, 'mse = 11240201409.884\\nsamples = 172\\nvalue = 204925.0'),\n",
              " Text(263.4491803278689, 32.615999999999985, 'area <= 8.079\\nmse = 2847494897.959\\nsamples = 14\\nvalue = 154071.429'),\n",
              " Text(262.76311475409835, 10.872000000000014, 'mse = 3021076388.889\\nsamples = 12\\nvalue = 160583.333'),\n",
              " Text(264.13524590163934, 10.872000000000014, 'mse = 25000000.0\\nsamples = 2\\nvalue = 115000.0'),\n",
              " Text(267.5655737704918, 54.360000000000014, 'area <= 8.076\\nmse = 8273557958.478\\nsamples = 34\\nvalue = 170470.588'),\n",
              " Text(266.19344262295084, 32.615999999999985, 'area <= 8.008\\nmse = 11422772376.543\\nsamples = 18\\nvalue = 136861.111'),\n",
              " Text(265.5073770491803, 10.872000000000014, 'mse = 49088888888.889\\nsamples = 3\\nvalue = 236666.667'),\n",
              " Text(266.8795081967213, 10.872000000000014, 'mse = 1498873333.333\\nsamples = 15\\nvalue = 116900.0'),\n",
              " Text(268.9377049180328, 32.615999999999985, 'area <= 8.094\\nmse = 2030249023.438\\nsamples = 16\\nvalue = 208281.25'),\n",
              " Text(268.2516393442623, 10.872000000000014, 'mse = 2035946745.562\\nsamples = 13\\nvalue = 216730.769'),\n",
              " Text(269.62377049180327, 10.872000000000014, 'mse = 355555555.556\\nsamples = 3\\nvalue = 171666.667'),\n",
              " Text(283.859631147541, 119.592, 'bathroom_num <= 2.343\\nmse = 18553241306.567\\nsamples = 111\\nvalue = 272324.342'),\n",
              " Text(279.5717213114754, 97.848, 'area <= 8.27\\nmse = 18592917440.253\\nsamples = 98\\nvalue = 285214.306'),\n",
              " Text(275.7983606557377, 76.10399999999998, 'area <= 8.208\\nmse = 21091129023.953\\nsamples = 81\\nvalue = 299456.815'),\n",
              " Text(273.05409836065576, 54.360000000000014, 'area <= 8.194\\nmse = 16616166514.654\\nsamples = 57\\nvalue = 273438.632'),\n",
              " Text(271.6819672131148, 32.615999999999985, 'area <= 8.141\\nmse = 16753179779.281\\nsamples = 53\\nvalue = 282094.34'),\n",
              " Text(270.99590163934425, 10.872000000000014, 'mse = 39656000000.0\\nsamples = 5\\nvalue = 358000.0'),\n",
              " Text(272.36803278688524, 10.872000000000014, 'mse = 13704777343.75\\nsamples = 48\\nvalue = 274187.5'),\n",
              " Text(274.42622950819674, 32.615999999999985, 'bathroom_num <= 2.118\\nmse = 654666250.25\\nsamples = 4\\nvalue = 158750.5'),\n",
              " Text(273.7401639344262, 10.872000000000014, 'mse = 872194444.667\\nsamples = 3\\nvalue = 158334.0'),\n",
              " Text(275.1122950819672, 10.872000000000014, 'mse = 0.0\\nsamples = 1\\nvalue = 160000.0'),\n",
              " Text(278.5426229508197, 54.360000000000014, 'bathroom_num <= 2.118\\nmse = 26293020833.333\\nsamples = 24\\nvalue = 361250.0'),\n",
              " Text(277.1704918032787, 32.615999999999985, 'area <= 8.231\\nmse = 4794360000.0\\nsamples = 10\\nvalue = 314200.0'),\n",
              " Text(276.4844262295082, 10.872000000000014, 'mse = 2070250000.0\\nsamples = 2\\nvalue = 254500.0'),\n",
              " Text(277.85655737704917, 10.872000000000014, 'mse = 4361609375.0\\nsamples = 8\\nvalue = 329125.0'),\n",
              " Text(279.9147540983607, 32.615999999999985, 'area <= 8.247\\nmse = 38938551020.408\\nsamples = 14\\nvalue = 394857.143'),\n",
              " Text(279.22868852459015, 10.872000000000014, 'mse = 48070410000.0\\nsamples = 10\\nvalue = 430300.0'),\n",
              " Text(280.60081967213114, 10.872000000000014, 'mse = 5117187500.0\\nsamples = 4\\nvalue = 306250.0'),\n",
              " Text(283.3450819672131, 76.10399999999998, 'area <= 8.281\\nmse = 1117993079.585\\nsamples = 17\\nvalue = 217352.941'),\n",
              " Text(281.9729508196721, 54.360000000000014, 'area <= 8.273\\nmse = 1588775510.204\\nsamples = 7\\nvalue = 239285.714'),\n",
              " Text(281.28688524590166, 32.615999999999985, 'mse = 0.0\\nsamples = 2\\nvalue = 200000.0'),\n",
              " Text(282.65901639344264, 32.615999999999985, 'bathroom_num <= 1.866\\nmse = 1360000000.0\\nsamples = 5\\nvalue = 255000.0'),\n",
              " Text(281.9729508196721, 10.872000000000014, 'mse = 6250000.0\\nsamples = 2\\nvalue = 222500.0'),\n",
              " Text(283.3450819672131, 10.872000000000014, 'mse = 1088888888.889\\nsamples = 3\\nvalue = 276666.667'),\n",
              " Text(284.7172131147541, 54.360000000000014, 'bathroom_num <= 2.118\\nmse = 216000000.0\\nsamples = 10\\nvalue = 202000.0'),\n",
              " Text(284.0311475409836, 32.615999999999985, 'mse = 260937500.0\\nsamples = 8\\nvalue = 201250.0'),\n",
              " Text(285.4032786885246, 32.615999999999985, 'mse = 25000000.0\\nsamples = 2\\nvalue = 205000.0'),\n",
              " Text(288.1475409836066, 97.848, 'area <= 8.196\\nmse = 7559514792.899\\nsamples = 13\\nvalue = 175153.846'),\n",
              " Text(286.7754098360656, 76.10399999999998, 'bathroom_num <= 2.548\\nmse = 241360000.0\\nsamples = 10\\nvalue = 140200.0'),\n",
              " Text(286.08934426229507, 54.360000000000014, 'mse = 267777777.778\\nsamples = 9\\nvalue = 140000.0'),\n",
              " Text(287.46147540983605, 54.360000000000014, 'mse = 0.0\\nsamples = 1\\nvalue = 142000.0'),\n",
              " Text(289.51967213114756, 76.10399999999998, 'area <= 8.246\\nmse = 14305555555.556\\nsamples = 3\\nvalue = 291666.667'),\n",
              " Text(288.83360655737704, 54.360000000000014, 'area <= 8.237\\nmse = 625000000.0\\nsamples = 2\\nvalue = 375000.0'),\n",
              " Text(288.1475409836066, 32.615999999999985, 'mse = 0.0\\nsamples = 1\\nvalue = 400000.0'),\n",
              " Text(289.51967213114756, 32.615999999999985, 'mse = 0.0\\nsamples = 1\\nvalue = 350000.0'),\n",
              " Text(290.205737704918, 54.360000000000014, 'mse = 0.0\\nsamples = 1\\nvalue = 125000.0'),\n",
              " Text(312.91022028688525, 163.07999999999998, 'area <= 8.482\\nmse = 46718851890.392\\nsamples = 93\\nvalue = 463483.871'),\n",
              " Text(299.424743852459, 141.336, 'area <= 8.316\\nmse = 20431408761.086\\nsamples = 61\\nvalue = 366967.213'),\n",
              " Text(294.322131147541, 119.592, 'bathroom_num <= 2.343\\nmse = 28087869822.485\\nsamples = 13\\nvalue = 479230.769'),\n",
              " Text(292.95, 97.848, 'area <= 8.304\\nmse = 23060743801.653\\nsamples = 11\\nvalue = 452727.273'),\n",
              " Text(292.2639344262295, 76.10399999999998, 'bathroom_num <= 2.118\\nmse = 22289000000.0\\nsamples = 10\\nvalue = 436000.0'),\n",
              " Text(291.577868852459, 54.360000000000014, 'bedroom_num <= 4.5\\nmse = 4218750000.0\\nsamples = 4\\nvalue = 387500.0'),\n",
              " Text(290.89180327868854, 32.615999999999985, 'mse = 5000000000.0\\nsamples = 3\\nvalue = 400000.0'),\n",
              " Text(292.2639344262295, 32.615999999999985, 'mse = 0.0\\nsamples = 1\\nvalue = 350000.0'),\n",
              " Text(292.95, 54.360000000000014, 'mse = 31722222222.222\\nsamples = 6\\nvalue = 468333.333'),\n",
              " Text(293.6360655737705, 76.10399999999998, 'mse = 0.0\\nsamples = 1\\nvalue = 620000.0'),\n",
              " Text(295.69426229508196, 97.848, 'bedroom_num <= 4.5\\nmse = 30625000000.0\\nsamples = 2\\nvalue = 625000.0'),\n",
              " Text(295.0081967213115, 76.10399999999998, 'mse = 0.0\\nsamples = 1\\nvalue = 450000.0'),\n",
              " Text(296.3803278688525, 76.10399999999998, 'mse = 0.0\\nsamples = 1\\nvalue = 800000.0'),\n",
              " Text(304.52735655737706, 119.592, 'area <= 8.378\\nmse = 14019996093.75\\nsamples = 48\\nvalue = 336562.5'),\n",
              " Text(299.4676229508197, 97.848, 'area <= 8.337\\nmse = 8034860969.388\\nsamples = 28\\nvalue = 287678.571'),\n",
              " Text(297.75245901639346, 76.10399999999998, 'bathroom_num <= 2.225\\nmse = 162687500.0\\nsamples = 4\\nvalue = 212250.0'),\n",
              " Text(297.06639344262294, 54.360000000000014, 'area <= 8.322\\nmse = 144666666.667\\nsamples = 3\\nvalue = 208000.0'),\n",
              " Text(296.3803278688525, 32.615999999999985, 'mse = 0.0\\nsamples = 1\\nvalue = 200000.0'),\n",
              " Text(297.75245901639346, 32.615999999999985, 'mse = 169000000.0\\nsamples = 2\\nvalue = 212000.0'),\n",
              " Text(298.4385245901639, 54.360000000000014, 'mse = 0.0\\nsamples = 1\\nvalue = 225000.0'),\n",
              " Text(301.1827868852459, 76.10399999999998, 'bathroom_num <= 2.343\\nmse = 8240604166.667\\nsamples = 24\\nvalue = 300250.0'),\n",
              " Text(300.4967213114754, 54.360000000000014, 'area <= 8.355\\nmse = 6788680529.301\\nsamples = 23\\nvalue = 291565.217'),\n",
              " Text(299.12459016393444, 32.615999999999985, 'bathroom_num <= 2.118\\nmse = 6178512396.694\\nsamples = 11\\nvalue = 298181.818'),\n",
              " Text(298.4385245901639, 10.872000000000014, 'mse = 17772222222.222\\nsamples = 3\\nvalue = 311666.667'),\n",
              " Text(299.8106557377049, 10.872000000000014, 'mse = 1737109375.0\\nsamples = 8\\nvalue = 293125.0'),\n",
              " Text(301.8688524590164, 32.615999999999985, 'bathroom_num <= 2.118\\nmse = 7271083333.333\\nsamples = 12\\nvalue = 285500.0'),\n",
              " Text(301.1827868852459, 10.872000000000014, 'mse = 7929090909.091\\nsamples = 11\\nvalue = 286000.0'),\n",
              " Text(302.5549180327869, 10.872000000000014, 'mse = 0.0\\nsamples = 1\\nvalue = 280000.0'),\n",
              " Text(301.8688524590164, 54.360000000000014, 'mse = 0.0\\nsamples = 1\\nvalue = 500000.0'),\n",
              " Text(309.5870901639344, 97.848, 'area <= 8.45\\nmse = 14370000000.0\\nsamples = 20\\nvalue = 405000.0'),\n",
              " Text(307.7004098360656, 76.10399999999998, 'area <= 8.417\\nmse = 17490236686.391\\nsamples = 13\\nvalue = 440384.615'),\n",
              " Text(305.98524590163936, 54.360000000000014, 'area <= 8.411\\nmse = 16662809917.355\\nsamples = 11\\nvalue = 415909.091'),\n",
              " Text(304.6131147540984, 32.615999999999985, 'area <= 8.399\\nmse = 15625000000.0\\nsamples = 2\\nvalue = 525000.0'),\n",
              " Text(303.92704918032786, 10.872000000000014, 'mse = 0.0\\nsamples = 1\\nvalue = 400000.0'),\n",
              " Text(305.29918032786884, 10.872000000000014, 'mse = 0.0\\nsamples = 1\\nvalue = 650000.0'),\n",
              " Text(307.35737704918034, 32.615999999999985, 'bathroom_num <= 2.118\\nmse = 13661111111.111\\nsamples = 9\\nvalue = 391666.667'),\n",
              " Text(306.6713114754098, 10.872000000000014, 'mse = 8862500000.0\\nsamples = 4\\nvalue = 335000.0'),\n",
              " Text(308.0434426229508, 10.872000000000014, 'mse = 12876000000.0\\nsamples = 5\\nvalue = 437000.0'),\n",
              " Text(309.4155737704918, 54.360000000000014, 'bathroom_num <= 2.118\\nmse = 625000000.0\\nsamples = 2\\nvalue = 575000.0'),\n",
              " Text(308.7295081967213, 32.615999999999985, 'mse = 0.0\\nsamples = 1\\nvalue = 600000.0'),\n",
              " Text(310.1016393442623, 32.615999999999985, 'mse = 0.0\\nsamples = 1\\nvalue = 550000.0'),\n",
              " Text(311.4737704918033, 76.10399999999998, 'area <= 8.461\\nmse = 1931632653.061\\nsamples = 7\\nvalue = 339285.714'),\n",
              " Text(310.7877049180328, 54.360000000000014, 'mse = 18750000.0\\nsamples = 4\\nvalue = 302500.0'),\n",
              " Text(312.15983606557376, 54.360000000000014, 'bedroom_num <= 4.5\\nmse = 272222222.222\\nsamples = 3\\nvalue = 388333.333'),\n",
              " Text(311.4737704918033, 32.615999999999985, 'mse = 0.0\\nsamples = 1\\nvalue = 365000.0'),\n",
              " Text(312.8459016393443, 32.615999999999985, 'mse = 0.0\\nsamples = 2\\nvalue = 400000.0'),\n",
              " Text(326.3956967213115, 141.336, 'area <= 8.731\\nmse = 45221249023.438\\nsamples = 32\\nvalue = 647468.75'),\n",
              " Text(321.42172131147544, 119.592, 'bathroom_num <= 1.573\\nmse = 41440373263.889\\nsamples = 24\\nvalue = 590291.667'),\n",
              " Text(320.7356557377049, 97.848, 'mse = 0.0\\nsamples = 1\\nvalue = 175000.0'),\n",
              " Text(322.1077868852459, 97.848, 'area <= 8.657\\nmse = 35417531190.926\\nsamples = 23\\nvalue = 608347.826'),\n",
              " Text(318.3344262295082, 76.10399999999998, 'bathroom_num <= 2.343\\nmse = 40272115555.556\\nsamples = 15\\nvalue = 652866.667'),\n",
              " Text(315.59016393442624, 54.360000000000014, 'area <= 8.622\\nmse = 38314958677.686\\nsamples = 11\\nvalue = 694636.364'),\n",
              " Text(314.21803278688526, 32.615999999999985, 'area <= 8.605\\nmse = 38647959183.674\\nsamples = 7\\nvalue = 653571.429'),\n",
              " Text(313.53196721311474, 10.872000000000014, 'mse = 17222222222.222\\nsamples = 3\\nvalue = 733333.333'),\n",
              " Text(314.9040983606557, 10.872000000000014, 'mse = 46367187500.0\\nsamples = 4\\nvalue = 593750.0'),\n",
              " Text(316.9622950819672, 32.615999999999985, 'bathroom_num <= 2.118\\nmse = 29616750000.0\\nsamples = 4\\nvalue = 766500.0'),\n",
              " Text(316.2762295081967, 10.872000000000014, 'mse = 0.0\\nsamples = 1\\nvalue = 1000000.0'),\n",
              " Text(317.6483606557377, 10.872000000000014, 'mse = 15256888888.889\\nsamples = 3\\nvalue = 688666.667'),\n",
              " Text(321.0786885245902, 54.360000000000014, 'area <= 8.582\\nmse = 27662000000.0\\nsamples = 4\\nvalue = 538000.0'),\n",
              " Text(319.7065573770492, 32.615999999999985, 'area <= 8.534\\nmse = 625000000.0\\nsamples = 2\\nvalue = 675000.0'),\n",
              " Text(319.0204918032787, 10.872000000000014, 'mse = 0.0\\nsamples = 1\\nvalue = 700000.0'),\n",
              " Text(320.39262295081966, 10.872000000000014, 'mse = 0.0\\nsamples = 1\\nvalue = 650000.0'),\n",
              " Text(322.45081967213116, 32.615999999999985, 'bathroom_num <= 2.548\\nmse = 17161000000.0\\nsamples = 2\\nvalue = 401000.0'),\n",
              " Text(321.76475409836064, 10.872000000000014, 'mse = 0.0\\nsamples = 1\\nvalue = 532000.0'),\n",
              " Text(323.1368852459016, 10.872000000000014, 'mse = 0.0\\nsamples = 1\\nvalue = 270000.0'),\n",
              " Text(325.8811475409836, 76.10399999999998, 'area <= 8.677\\nmse = 15631359375.0\\nsamples = 8\\nvalue = 524875.0'),\n",
              " Text(324.5090163934426, 54.360000000000014, 'bedroom_num <= 4.5\\nmse = 555555555.556\\nsamples = 3\\nvalue = 466666.667'),\n",
              " Text(323.82295081967214, 32.615999999999985, 'mse = 0.0\\nsamples = 1\\nvalue = 500000.0'),\n",
              " Text(325.1950819672131, 32.615999999999985, 'mse = 0.0\\nsamples = 2\\nvalue = 450000.0'),\n",
              " Text(327.2532786885246, 54.360000000000014, 'area <= 8.691\\nmse = 21424160000.0\\nsamples = 5\\nvalue = 559800.0'),\n",
              " Text(326.5672131147541, 32.615999999999985, 'mse = 0.0\\nsamples = 1\\nvalue = 800000.0'),\n",
              " Text(327.9393442622951, 32.615999999999985, 'bathroom_num <= 2.118\\nmse = 8750187500.0\\nsamples = 4\\nvalue = 499750.0'),\n",
              " Text(327.2532786885246, 10.872000000000014, 'mse = 1700222222.222\\nsamples = 3\\nvalue = 549666.667'),\n",
              " Text(328.62540983606556, 10.872000000000014, 'mse = 0.0\\nsamples = 1\\nvalue = 350000.0'),\n",
              " Text(331.3696721311475, 119.592, 'area <= 8.798\\nmse = 17333250000.0\\nsamples = 8\\nvalue = 819000.0'),\n",
              " Text(329.99754098360654, 97.848, 'area <= 8.764\\nmse = 5099187500.0\\nsamples = 4\\nvalue = 894250.0'),\n",
              " Text(329.3114754098361, 76.10399999999998, 'bathroom_num <= 2.225\\nmse = 1828666666.667\\nsamples = 3\\nvalue = 859000.0'),\n",
              " Text(328.62540983606556, 54.360000000000014, 'mse = 0.0\\nsamples = 1\\nvalue = 800000.0'),\n",
              " Text(329.99754098360654, 54.360000000000014, 'mse = 132250000.0\\nsamples = 2\\nvalue = 888500.0'),\n",
              " Text(330.68360655737706, 76.10399999999998, 'mse = 0.0\\nsamples = 1\\nvalue = 1000000.0'),\n",
              " Text(332.7418032786885, 97.848, 'bedroom_num <= 4.5\\nmse = 18242187500.0\\nsamples = 4\\nvalue = 743750.0'),\n",
              " Text(332.05573770491804, 76.10399999999998, 'mse = 0.0\\nsamples = 1\\nvalue = 975000.0'),\n",
              " Text(333.427868852459, 76.10399999999998, 'area <= 8.889\\nmse = 555555555.556\\nsamples = 3\\nvalue = 666666.667'),\n",
              " Text(332.7418032786885, 54.360000000000014, 'mse = 0.0\\nsamples = 1\\nvalue = 700000.0'),\n",
              " Text(334.1139344262295, 54.360000000000014, 'mse = 0.0\\nsamples = 2\\nvalue = 650000.0')]"
            ]
          },
          "metadata": {
            "tags": []
          },
          "execution_count": 122
        },
        {
          "output_type": "display_data",
          "data": {
            "image/png": "[encoded data removed]",
            "text/plain": [
              "<Figure size 432x288 with 1 Axes>"
            ]
          },
          "metadata": {
            "tags": [],
            "needs_background": "light"
          }
        }
      ]
    },
    {
      "cell_type": "code",
      "metadata": {
        "colab": {
          "base_uri": "https://localhost:8080/",
          "height": 340
        },
        "id": "NdFuUbbkxRtu",
        "outputId": "53f97f60-93d8-4c6e-cc7f-1b0d19700535"
      },
      "source": [
        "df_dt = pd.DataFrame({'Target original':y_test1,\r\n",
        "                      'Target predicted':y_pred})\r\n",
        "df_dt.head(10)"
      ],
      "execution_count": 123,
      "outputs": [
        {
          "output_type": "execute_result",
          "data": {
            "text/html": [
              "<div>\n",
              "<style scoped>\n",
              "    .dataframe tbody tr th:only-of-type {\n",
              "        vertical-align: middle;\n",
              "    }\n",
              "\n",
              "    .dataframe tbody tr th {\n",
              "        vertical-align: top;\n",
              "    }\n",
              "\n",
              "    .dataframe thead th {\n",
              "        text-align: right;\n",
              "    }\n",
              "</style>\n",
              "<table border=\"1\" class=\"dataframe\">\n",
              "  <thead>\n",
              "    <tr style=\"text-align: right;\">\n",
              "      <th></th>\n",
              "      <th>Target original</th>\n",
              "      <th>Target predicted</th>\n",
              "    </tr>\n",
              "  </thead>\n",
              "  <tbody>\n",
              "    <tr>\n",
              "      <th>5204</th>\n",
              "      <td>22900</td>\n",
              "      <td>27535.214482</td>\n",
              "    </tr>\n",
              "    <tr>\n",
              "      <th>27443</th>\n",
              "      <td>55000</td>\n",
              "      <td>92556.032805</td>\n",
              "    </tr>\n",
              "    <tr>\n",
              "      <th>31869</th>\n",
              "      <td>125000</td>\n",
              "      <td>108840.594025</td>\n",
              "    </tr>\n",
              "    <tr>\n",
              "      <th>9547</th>\n",
              "      <td>38500</td>\n",
              "      <td>27535.214482</td>\n",
              "    </tr>\n",
              "    <tr>\n",
              "      <th>927</th>\n",
              "      <td>115000</td>\n",
              "      <td>167451.578947</td>\n",
              "    </tr>\n",
              "    <tr>\n",
              "      <th>10889</th>\n",
              "      <td>53000</td>\n",
              "      <td>41985.702381</td>\n",
              "    </tr>\n",
              "    <tr>\n",
              "      <th>18447</th>\n",
              "      <td>50000</td>\n",
              "      <td>45109.948899</td>\n",
              "    </tr>\n",
              "    <tr>\n",
              "      <th>32320</th>\n",
              "      <td>130000</td>\n",
              "      <td>72509.703581</td>\n",
              "    </tr>\n",
              "    <tr>\n",
              "      <th>2806</th>\n",
              "      <td>13500</td>\n",
              "      <td>27535.214482</td>\n",
              "    </tr>\n",
              "    <tr>\n",
              "      <th>28268</th>\n",
              "      <td>69000</td>\n",
              "      <td>92556.032805</td>\n",
              "    </tr>\n",
              "  </tbody>\n",
              "</table>\n",
              "</div>"
            ],
            "text/plain": [
              "       Target original  Target predicted\n",
              "5204             22900      27535.214482\n",
              "27443            55000      92556.032805\n",
              "31869           125000     108840.594025\n",
              "9547             38500      27535.214482\n",
              "927             115000     167451.578947\n",
              "10889            53000      41985.702381\n",
              "18447            50000      45109.948899\n",
              "32320           130000      72509.703581\n",
              "2806             13500      27535.214482\n",
              "28268            69000      92556.032805"
            ]
          },
          "metadata": {
            "tags": []
          },
          "execution_count": 123
        }
      ]
    },
    {
      "cell_type": "code",
      "metadata": {
        "colab": {
          "base_uri": "https://localhost:8080/"
        },
        "id": "b8HQTvO8xRry",
        "outputId": "9d0f026d-3f71-4cc6-cd41-3f4e5319e07b"
      },
      "source": [
        "df_dt_ip = pd.DataFrame({'Area_of_flat':input(\"Enter the area of the flat : \"),\r\n",
        "                         'Bedroom_num' : input(\"Enter the number of bedrooms : \"),\r\n",
        "                         'Bathroom_num' : input(\"Enter the number of bathrooms : \")\r\n",
        "                         }, index=range(1))"
      ],
      "execution_count": 124,
      "outputs": [
        {
          "output_type": "stream",
          "text": [
            "Enter the area of the flat : 3000\n",
            "Enter the number of bedrooms : 3\n",
            "Enter the number of bathrooms : 2\n"
          ],
          "name": "stdout"
        }
      ]
    },
    {
      "cell_type": "code",
      "metadata": {
        "colab": {
          "base_uri": "https://localhost:8080/"
        },
        "id": "ruUkATYXxRqa",
        "outputId": "b6c7c220-222a-4870-ab13-858c0272210d"
      },
      "source": [
        "dt.predict(df_dt_ip)\r\n"
      ],
      "execution_count": 125,
      "outputs": [
        {
          "output_type": "execute_result",
          "data": {
            "text/plain": [
              "array([975000.])"
            ]
          },
          "metadata": {
            "tags": []
          },
          "execution_count": 125
        }
      ]
    },
    {
      "cell_type": "code",
      "metadata": {
        "id": "fyyB91UpxRoo"
      },
      "source": [
        ""
      ],
      "execution_count": 125,
      "outputs": []
    },
    {
      "cell_type": "code",
      "metadata": {
        "id": "DnY2jdGWxRmo"
      },
      "source": [
        ""
      ],
      "execution_count": 125,
      "outputs": []
    },
    {
      "cell_type": "code",
      "metadata": {
        "id": "TY6fwgqpxRkv"
      },
      "source": [
        ""
      ],
      "execution_count": 125,
      "outputs": []
    },
    {
      "cell_type": "code",
      "metadata": {
        "id": "sZbR4FSvxRi1"
      },
      "source": [
        ""
      ],
      "execution_count": 125,
      "outputs": []
    },
    {
      "cell_type": "code",
      "metadata": {
        "id": "p_k0OdjbxRg3"
      },
      "source": [
        ""
      ],
      "execution_count": 125,
      "outputs": []
    },
    {
      "cell_type": "code",
      "metadata": {
        "id": "Dt53jLI4xRdZ"
      },
      "source": [
        ""
      ],
      "execution_count": 125,
      "outputs": []
    },
    {
      "cell_type": "code",
      "metadata": {
        "id": "wmT9j76sxRbZ"
      },
      "source": [
        ""
      ],
      "execution_count": 125,
      "outputs": []
    },
    {
      "cell_type": "code",
      "metadata": {
        "id": "GQk4zKyLxRZM"
      },
      "source": [
        ""
      ],
      "execution_count": 125,
      "outputs": []
    },
    {
      "cell_type": "code",
      "metadata": {
        "id": "0rSeCed-xRVX"
      },
      "source": [
        ""
      ],
      "execution_count": 125,
      "outputs": []
    },
    {
      "cell_type": "code",
      "metadata": {
        "id": "8pmik-6oxRS4"
      },
      "source": [
        ""
      ],
      "execution_count": 125,
      "outputs": []
    }
  ]
}