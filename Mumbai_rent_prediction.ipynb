{
  "nbformat": 4,
  "nbformat_minor": 0,
  "metadata": {
    "colab": {
      "name": "Mumbai rent prediction",
      "provenance": [],
      "mount_file_id": "https://github.com/Mrinalkumar1/Mumbai-Rent-prediction/blob/main/Mumbai_rent_prediction.ipynb",
      "authorship_tag": "ABX9TyO3HnF4KEdNGLCNZic0/t2j",
      "include_colab_link": true
    },
    "kernelspec": {
      "name": "python3",
      "display_name": "Python 3"
    }
  },
  "cells": [
    {
      "cell_type": "markdown",
      "metadata": {
        "id": "view-in-github",
        "colab_type": "text"
      },
      "source": [
        "<a href=\"https://colab.research.google.com/github/Mrinalkumar1/Mumbai-Rent-prediction/blob/main/Mumbai_rent_prediction.ipynb\" target=\"_parent\"><img src=\"https://colab.research.google.com/assets/colab-badge.svg\" alt=\"Open In Colab\"/></a>"
      ]
    },
    {
      "cell_type": "markdown",
      "metadata": {
        "id": "zKQnjCjLvgdk"
      },
      "source": [
        "**Here we have a dataset of Mumbai's rental flat and what we are going to do is analyze the dataset and try to come up with a prediction algorithm which will help us to predict the price of the flat when we input all the columns which make a difference to price of the flat. **\r\n",
        "\r\n",
        "https://www.kaggle.com/sufyanpatel/data-science-regression-project"
      ]
    },
    {
      "cell_type": "code",
      "metadata": {
        "id": "vkxU0TJ-0Ib4"
      },
      "source": [
        "import warnings\r\n",
        "warnings.filterwarnings('ignore')"
      ],
      "execution_count": 107,
      "outputs": []
    },
    {
      "cell_type": "code",
      "metadata": {
        "id": "eWhsWa8IvbNl"
      },
      "source": [
        "import numpy as np\r\n",
        "import pandas as pd\r\n",
        "import seaborn as sns\r\n",
        "import matplotlib.pyplot as plt\r\n",
        "import math"
      ],
      "execution_count": 108,
      "outputs": []
    },
    {
      "cell_type": "code",
      "metadata": {
        "id": "_p_-S-n4vsZ9"
      },
      "source": [
        "df = pd.read_csv(\"/content/drive/MyDrive/ML Projects /Mumbai flats rent/prop_data_clean.csv\")"
      ],
      "execution_count": 109,
      "outputs": []
    },
    {
      "cell_type": "code",
      "metadata": {
        "colab": {
          "base_uri": "https://localhost:8080/",
          "height": 568
        },
        "id": "nFdLzde0v6MS",
        "outputId": "8e48b2a9-8c87-42fa-93b1-065c5752d82c"
      },
      "source": [
        "df.head()"
      ],
      "execution_count": 110,
      "outputs": [
        {
          "output_type": "execute_result",
          "data": {
            "text/html": [
              "<div>\n",
              "<style scoped>\n",
              "    .dataframe tbody tr th:only-of-type {\n",
              "        vertical-align: middle;\n",
              "    }\n",
              "\n",
              "    .dataframe tbody tr th {\n",
              "        vertical-align: top;\n",
              "    }\n",
              "\n",
              "    .dataframe thead th {\n",
              "        text-align: right;\n",
              "    }\n",
              "</style>\n",
              "<table border=\"1\" class=\"dataframe\">\n",
              "  <thead>\n",
              "    <tr style=\"text-align: right;\">\n",
              "      <th></th>\n",
              "      <th>area</th>\n",
              "      <th>bathroom_num</th>\n",
              "      <th>bedroom_num</th>\n",
              "      <th>city</th>\n",
              "      <th>desc</th>\n",
              "      <th>dev_name</th>\n",
              "      <th>floor_count</th>\n",
              "      <th>floor_num</th>\n",
              "      <th>furnishing</th>\n",
              "      <th>id</th>\n",
              "      <th>id_string</th>\n",
              "      <th>latitude</th>\n",
              "      <th>locality</th>\n",
              "      <th>longitude</th>\n",
              "      <th>post_date</th>\n",
              "      <th>poster_name</th>\n",
              "      <th>price</th>\n",
              "      <th>project</th>\n",
              "      <th>title</th>\n",
              "      <th>trans</th>\n",
              "      <th>type</th>\n",
              "      <th>url</th>\n",
              "      <th>user_type</th>\n",
              "    </tr>\n",
              "  </thead>\n",
              "  <tbody>\n",
              "    <tr>\n",
              "      <th>0</th>\n",
              "      <td>350.0</td>\n",
              "      <td>2.0</td>\n",
              "      <td>1</td>\n",
              "      <td>Mumbai</td>\n",
              "      <td>2 Bath,Unfurnished,East facing The project has...</td>\n",
              "      <td>NaN</td>\n",
              "      <td>NaN</td>\n",
              "      <td>NaN</td>\n",
              "      <td>Unfurnished</td>\n",
              "      <td>45349857</td>\n",
              "      <td>domcache_srp_45349857</td>\n",
              "      <td>19.201336</td>\n",
              "      <td>Malad West</td>\n",
              "      <td>72.825882</td>\n",
              "      <td>2020-01-11</td>\n",
              "      <td>Saurabh Patil</td>\n",
              "      <td>9000</td>\n",
              "      <td>NaN</td>\n",
              "      <td>1 BHK Apartment for Rent in Malad West</td>\n",
              "      <td>Rent</td>\n",
              "      <td>Apartment</td>\n",
              "      <td>/propertyDetails/1-BHK-350-Sq-ft-Multistorey-A...</td>\n",
              "      <td>Agent</td>\n",
              "    </tr>\n",
              "    <tr>\n",
              "      <th>1</th>\n",
              "      <td>652.0</td>\n",
              "      <td>2.0</td>\n",
              "      <td>1</td>\n",
              "      <td>Mumbai</td>\n",
              "      <td>2 Bath,Semi-Furnished,East facing A 1BHK apart...</td>\n",
              "      <td>Veena Group</td>\n",
              "      <td>NaN</td>\n",
              "      <td>NaN</td>\n",
              "      <td>Semi-Furnished</td>\n",
              "      <td>45960973</td>\n",
              "      <td>domcache_srp_45960973</td>\n",
              "      <td>19.410704</td>\n",
              "      <td>Vasai</td>\n",
              "      <td>72.833592</td>\n",
              "      <td>2020-01-11</td>\n",
              "      <td>Gorakh  Chavan</td>\n",
              "      <td>8060</td>\n",
              "      <td>Veena Dynasty</td>\n",
              "      <td>1 BHK Apartment for Rent in Veena Dynasty, Vasai</td>\n",
              "      <td>Rent</td>\n",
              "      <td>Apartment</td>\n",
              "      <td>/propertyDetails/1-BHK-652-Sq-ft-Multistorey-A...</td>\n",
              "      <td>Agent</td>\n",
              "    </tr>\n",
              "    <tr>\n",
              "      <th>2</th>\n",
              "      <td>635.0</td>\n",
              "      <td>2.0</td>\n",
              "      <td>1</td>\n",
              "      <td>Mumbai</td>\n",
              "      <td>2 Bath,Semi-Furnished,4 floor,West facing A be...</td>\n",
              "      <td>Agarwal Group</td>\n",
              "      <td>7.0</td>\n",
              "      <td>4.0</td>\n",
              "      <td>Semi-Furnished</td>\n",
              "      <td>46688849</td>\n",
              "      <td>domcache_srp_46688849</td>\n",
              "      <td>19.467032</td>\n",
              "      <td>Virar</td>\n",
              "      <td>72.801612</td>\n",
              "      <td>2019-12-13</td>\n",
              "      <td>Lokesh Joshi</td>\n",
              "      <td>8000</td>\n",
              "      <td>Agarwal Lifestyle</td>\n",
              "      <td>1 BHK Apartment for Rent in Agarwal Lifestyle,...</td>\n",
              "      <td>Rent</td>\n",
              "      <td>Apartment</td>\n",
              "      <td>/propertyDetails/1-BHK-635-Sq-ft-Multistorey-A...</td>\n",
              "      <td>Agent</td>\n",
              "    </tr>\n",
              "    <tr>\n",
              "      <th>3</th>\n",
              "      <td>540.0</td>\n",
              "      <td>2.0</td>\n",
              "      <td>1</td>\n",
              "      <td>Mumbai</td>\n",
              "      <td>2 Bath,Semi-Furnished,East facing Essential Se...</td>\n",
              "      <td>NaN</td>\n",
              "      <td>NaN</td>\n",
              "      <td>NaN</td>\n",
              "      <td>Semi-Furnished</td>\n",
              "      <td>44696119</td>\n",
              "      <td>domcache_srp_44696119</td>\n",
              "      <td>19.407257</td>\n",
              "      <td>Vasai East</td>\n",
              "      <td>72.836006</td>\n",
              "      <td>2020-01-13</td>\n",
              "      <td>Sajith  Thomas</td>\n",
              "      <td>8000</td>\n",
              "      <td>NaN</td>\n",
              "      <td>1 BHK Apartment for Rent in Vasai East</td>\n",
              "      <td>Rent</td>\n",
              "      <td>Apartment</td>\n",
              "      <td>/propertyDetails/1-BHK-540-Sq-ft-Multistorey-A...</td>\n",
              "      <td>Agent</td>\n",
              "    </tr>\n",
              "    <tr>\n",
              "      <th>4</th>\n",
              "      <td>625.0</td>\n",
              "      <td>1.0</td>\n",
              "      <td>1</td>\n",
              "      <td>Mumbai</td>\n",
              "      <td>1 Bath,Furnished,2 floor,North facing 24 hours...</td>\n",
              "      <td>Millennium Group</td>\n",
              "      <td>7.0</td>\n",
              "      <td>2.0</td>\n",
              "      <td>Furnished</td>\n",
              "      <td>46742851</td>\n",
              "      <td>domcache_srp_46742851</td>\n",
              "      <td>19.360215</td>\n",
              "      <td>Naigaon East</td>\n",
              "      <td>72.850167</td>\n",
              "      <td>2019-12-17</td>\n",
              "      <td>Charmaine  Gomez</td>\n",
              "      <td>9000</td>\n",
              "      <td>Mittal Enclave</td>\n",
              "      <td>1 BHK Apartment for Rent in Mittal Enclave, Na...</td>\n",
              "      <td>Rent</td>\n",
              "      <td>Apartment</td>\n",
              "      <td>/propertyDetails/1-BHK-625-Sq-ft-Multistorey-A...</td>\n",
              "      <td>Owner</td>\n",
              "    </tr>\n",
              "  </tbody>\n",
              "</table>\n",
              "</div>"
            ],
            "text/plain": [
              "    area  ...  user_type\n",
              "0  350.0  ...      Agent\n",
              "1  652.0  ...      Agent\n",
              "2  635.0  ...      Agent\n",
              "3  540.0  ...      Agent\n",
              "4  625.0  ...      Owner\n",
              "\n",
              "[5 rows x 23 columns]"
            ]
          },
          "metadata": {
            "tags": []
          },
          "execution_count": 110
        }
      ]
    },
    {
      "cell_type": "code",
      "metadata": {
        "colab": {
          "base_uri": "https://localhost:8080/",
          "height": 661
        },
        "id": "cVnKN8fFv77z",
        "outputId": "60b7314e-89d0-41db-cdde-9fce03a519d9"
      },
      "source": [
        "plt.figure(figsize=(10,10))\r\n",
        "sns.heatmap(df.corr(), annot=True)\r\n",
        "plt.show()"
      ],
      "execution_count": 111,
      "outputs": [
        {
          "output_type": "display_data",
          "data": {
            "image/png": "[encoded data removed]",
            "text/plain": [
              "<Figure size 720x720 with 2 Axes>"
            ]
          },
          "metadata": {
            "tags": [],
            "needs_background": "light"
          }
        }
      ]
    },
    {
      "cell_type": "markdown",
      "metadata": {
        "id": "rx6H-37WwD7L"
      },
      "source": [
        "I went with df.corr in the very starting in order to see what columns I am supposed to get rid of. As we can see here \"id\", \"latitude\", \"longitude\" columns have very low correlation so we can just get rid of these columns in the very beginnng. "
      ]
    },
    {
      "cell_type": "code",
      "metadata": {
        "id": "adi8HgrCXXv3",
        "outputId": "73bed28b-2911-4771-9975-e1508bce93fa",
        "colab": {
          "base_uri": "https://localhost:8080/"
        }
      },
      "source": [
        "df.columns"
      ],
      "execution_count": 112,
      "outputs": [
        {
          "output_type": "execute_result",
          "data": {
            "text/plain": [
              "Index(['area', 'bathroom_num', 'bedroom_num', 'city', 'desc', 'dev_name',\n",
              "       'floor_count', 'floor_num', 'furnishing', 'id', 'id_string', 'latitude',\n",
              "       'locality', 'longitude', 'post_date', 'poster_name', 'price', 'project',\n",
              "       'title', 'trans', 'type', 'url', 'user_type'],\n",
              "      dtype='object')"
            ]
          },
          "metadata": {
            "tags": []
          },
          "execution_count": 112
        }
      ]
    },
    {
      "cell_type": "code",
      "metadata": {
        "id": "vnBAWcrCXcI5",
        "outputId": "84425908-7551-4790-8fb3-87c7516db797",
        "colab": {
          "base_uri": "https://localhost:8080/"
        }
      },
      "source": [
        "df.count().sum()"
      ],
      "execution_count": 113,
      "outputs": [
        {
          "output_type": "execute_result",
          "data": {
            "text/plain": [
              "752126"
            ]
          },
          "metadata": {
            "tags": []
          },
          "execution_count": 113
        }
      ]
    },
    {
      "cell_type": "code",
      "metadata": {
        "id": "OPI39FWAXoMZ",
        "outputId": "d1da3d93-b882-44d1-9293-5acadcdd0a6d",
        "colab": {
          "base_uri": "https://localhost:8080/"
        }
      },
      "source": [
        "print(\"total number of rows: \",len(df))\r\n",
        "print(\"\\n\")\r\n",
        "print(\"Number of null rows\\n\",df.isnull().sum())"
      ],
      "execution_count": 114,
      "outputs": [
        {
          "output_type": "stream",
          "text": [
            "total number of rows:  34348\n",
            "\n",
            "\n",
            "Number of null rows\n",
            " area              776\n",
            "bathroom_num       14\n",
            "bedroom_num         0\n",
            "city                0\n",
            "desc               10\n",
            "dev_name        16999\n",
            "floor_count      2860\n",
            "floor_num        2781\n",
            "furnishing         10\n",
            "id                  0\n",
            "id_string           0\n",
            "latitude            0\n",
            "locality          208\n",
            "longitude           0\n",
            "post_date           0\n",
            "poster_name         1\n",
            "price               0\n",
            "project         14169\n",
            "title              10\n",
            "trans              30\n",
            "type                0\n",
            "url                10\n",
            "user_type           0\n",
            "dtype: int64\n"
          ],
          "name": "stdout"
        }
      ]
    },
    {
      "cell_type": "code",
      "metadata": {
        "id": "F-xMftZ5wBHN"
      },
      "source": [
        "df.drop(['city','desc','dev_name','floor_count', 'floor_num', 'id', 'id_string','post_date', 'poster_name','project','title', 'trans', 'type', 'url', 'latitude','longitude'],axis=1,inplace=True)\r\n",
        "#Dropping columns with low corr. "
      ],
      "execution_count": 115,
      "outputs": []
    },
    {
      "cell_type": "code",
      "metadata": {
        "id": "eV4v1LiUcLGO",
        "outputId": "b40869f4-07c5-4d15-c787-7aa828047191",
        "colab": {
          "base_uri": "https://localhost:8080/",
          "height": 194
        }
      },
      "source": [
        "df.head()"
      ],
      "execution_count": 116,
      "outputs": [
        {
          "output_type": "execute_result",
          "data": {
            "text/html": [
              "<div>\n",
              "<style scoped>\n",
              "    .dataframe tbody tr th:only-of-type {\n",
              "        vertical-align: middle;\n",
              "    }\n",
              "\n",
              "    .dataframe tbody tr th {\n",
              "        vertical-align: top;\n",
              "    }\n",
              "\n",
              "    .dataframe thead th {\n",
              "        text-align: right;\n",
              "    }\n",
              "</style>\n",
              "<table border=\"1\" class=\"dataframe\">\n",
              "  <thead>\n",
              "    <tr style=\"text-align: right;\">\n",
              "      <th></th>\n",
              "      <th>area</th>\n",
              "      <th>bathroom_num</th>\n",
              "      <th>bedroom_num</th>\n",
              "      <th>furnishing</th>\n",
              "      <th>locality</th>\n",
              "      <th>price</th>\n",
              "      <th>user_type</th>\n",
              "    </tr>\n",
              "  </thead>\n",
              "  <tbody>\n",
              "    <tr>\n",
              "      <th>0</th>\n",
              "      <td>350.0</td>\n",
              "      <td>2.0</td>\n",
              "      <td>1</td>\n",
              "      <td>Unfurnished</td>\n",
              "      <td>Malad West</td>\n",
              "      <td>9000</td>\n",
              "      <td>Agent</td>\n",
              "    </tr>\n",
              "    <tr>\n",
              "      <th>1</th>\n",
              "      <td>652.0</td>\n",
              "      <td>2.0</td>\n",
              "      <td>1</td>\n",
              "      <td>Semi-Furnished</td>\n",
              "      <td>Vasai</td>\n",
              "      <td>8060</td>\n",
              "      <td>Agent</td>\n",
              "    </tr>\n",
              "    <tr>\n",
              "      <th>2</th>\n",
              "      <td>635.0</td>\n",
              "      <td>2.0</td>\n",
              "      <td>1</td>\n",
              "      <td>Semi-Furnished</td>\n",
              "      <td>Virar</td>\n",
              "      <td>8000</td>\n",
              "      <td>Agent</td>\n",
              "    </tr>\n",
              "    <tr>\n",
              "      <th>3</th>\n",
              "      <td>540.0</td>\n",
              "      <td>2.0</td>\n",
              "      <td>1</td>\n",
              "      <td>Semi-Furnished</td>\n",
              "      <td>Vasai East</td>\n",
              "      <td>8000</td>\n",
              "      <td>Agent</td>\n",
              "    </tr>\n",
              "    <tr>\n",
              "      <th>4</th>\n",
              "      <td>625.0</td>\n",
              "      <td>1.0</td>\n",
              "      <td>1</td>\n",
              "      <td>Furnished</td>\n",
              "      <td>Naigaon East</td>\n",
              "      <td>9000</td>\n",
              "      <td>Owner</td>\n",
              "    </tr>\n",
              "  </tbody>\n",
              "</table>\n",
              "</div>"
            ],
            "text/plain": [
              "    area  bathroom_num  bedroom_num  ...      locality price  user_type\n",
              "0  350.0           2.0            1  ...    Malad West  9000      Agent\n",
              "1  652.0           2.0            1  ...         Vasai  8060      Agent\n",
              "2  635.0           2.0            1  ...         Virar  8000      Agent\n",
              "3  540.0           2.0            1  ...    Vasai East  8000      Agent\n",
              "4  625.0           1.0            1  ...  Naigaon East  9000      Owner\n",
              "\n",
              "[5 rows x 7 columns]"
            ]
          },
          "metadata": {
            "tags": []
          },
          "execution_count": 116
        }
      ]
    },
    {
      "cell_type": "code",
      "metadata": {
        "colab": {
          "base_uri": "https://localhost:8080/"
        },
        "id": "HNeIgnrKwGCr",
        "outputId": "1f6c1685-e0eb-4f59-ae15-d7194708911b"
      },
      "source": [
        "df.shape"
      ],
      "execution_count": 117,
      "outputs": [
        {
          "output_type": "execute_result",
          "data": {
            "text/plain": [
              "(34348, 7)"
            ]
          },
          "metadata": {
            "tags": []
          },
          "execution_count": 117
        }
      ]
    },
    {
      "cell_type": "code",
      "metadata": {
        "colab": {
          "base_uri": "https://localhost:8080/"
        },
        "id": "pHZUEoJmwHxL",
        "outputId": "7465a16a-b997-435e-b7dd-e599160027e9"
      },
      "source": [
        "df.isnull().sum()"
      ],
      "execution_count": 118,
      "outputs": [
        {
          "output_type": "execute_result",
          "data": {
            "text/plain": [
              "area            776\n",
              "bathroom_num     14\n",
              "bedroom_num       0\n",
              "furnishing       10\n",
              "locality        208\n",
              "price             0\n",
              "user_type         0\n",
              "dtype: int64"
            ]
          },
          "metadata": {
            "tags": []
          },
          "execution_count": 118
        }
      ]
    },
    {
      "cell_type": "code",
      "metadata": {
        "colab": {
          "base_uri": "https://localhost:8080/"
        },
        "id": "zBhES6VtwJ8Y",
        "outputId": "eeb3cef0-fc5c-411f-e046-81cd9d20cbc2"
      },
      "source": [
        "for col in df:\r\n",
        "  print(col, df[col].unique())"
      ],
      "execution_count": 119,
      "outputs": [
        {
          "output_type": "stream",
          "text": [
            "area [350. 652. 635. ... 150. 663. 642.]\n",
            "bathroom_num [ 2.  1. nan  3.  4.  5.  6.  7.  8.]\n",
            "bedroom_num [1 4 3 5 2]\n",
            "furnishing ['Unfurnished' 'Semi-Furnished' 'Furnished' nan]\n",
            "locality ['Malad West' 'Vasai' 'Virar' 'Vasai East' 'Naigaon East' 'Virar West'\n",
            " 'Royal Palms Estate' 'Nalasopara' 'Silver Park' 'Vasai West'\n",
            " 'Andheri East' 'Mulund East' 'Malvani' 'Nalasopara East' nan\n",
            " 'Balkum Pada - Majiwada' 'Kalyan' 'Bhayandar East' 'Mira Bhayandar'\n",
            " 'MHADA Colony' 'Chembur Camp' 'Govind Nagar' 'Bhayandar West'\n",
            " 'Beverly Park' 'Worli' 'Nalasopara West' 'Lok Manya Nagar'\n",
            " 'Borivali West' 'Viva College Road' 'Mira Road' 'New Link Road'\n",
            " 'Bhandup Industrial Estate' 'Sakinaka' 'Dongri' 'MMRDA Area'\n",
            " 'Yashavant Nagar' 'Kandivali East' 'Ghatkopar West' 'Ghodbunder'\n",
            " 'Nahur West' 'CAMA Industrial Estate' 'Anushakti Colony' 'Thane'\n",
            " 'Yari Road' 'Virar East' 'Goregaon East' 'Sakinaka Junction' 'Prabhadevi'\n",
            " 'Andheri West' 'Pandurang Wadi' 'Bandra West' 'Khar West' 'Bolinj'\n",
            " 'Virat Nagar' 'Thane-Kalyan-Dombivli' 'Poonam Gardens' 'Ramdev Park'\n",
            " 'Vinay Nagar' 'Unique Garden' 'Tirupati Nagar' 'Charkop Sector 8'\n",
            " 'Bandra Kurla Complex' 'Borivali East' 'Mulund West' 'Aarey Milk Colony'\n",
            " 'Oberoi Splendor' 'Charkop Village' 'Malad East' 'Devi Pada' 'Datta Pada'\n",
            " 'Jankalyan Nagar' 'Magathane' 'Thakur Village, Kandivali East'\n",
            " 'Samata Nagar' 'Bhandup West' 'Ghatkopar East' 'Kanjurmarg East'\n",
            " 'Vile Parle East' 'Mulund Railway Station' 'Madh' 'Upper Govind Nagar'\n",
            " 'Samta Nagar' 'Bhatti Pada' 'Nandiadwala Colony' 'Gokuldham' 'Powai'\n",
            " 'Kandivali West' 'Lokhandwala Twp' 'Film City Road' 'LBS Marg'\n",
            " 'Mindspace' 'Raheja Vihar' 'Sher E Punjab Society' 'Lokhandwala Complex'\n",
            " 'Vikhroli West' 'Mahavir Nagar' 'Ghatkopar' 'Vikhroli East' 'Dongarpada'\n",
            " 'Sheetal Nagar' 'Hatkesh Udyog' 'Thakur Complex' 'Kannamwar Nagar 2'\n",
            " 'Ashok Nagar Western Mumbai' 'Sion Railway Colony' 'Pratiksha Nagar'\n",
            " 'Ekta Nagar' 'Chandivali' 'Mankhurd' 'Santacruz East' 'Marol Naka'\n",
            " 'Ambernath' 'Gavan Pada' 'Christian Gaon' 'IC Colony' 'Dahisar East'\n",
            " 'Elphinstone' 'Poonam Sagar' 'Asha Nagar' 'Poonam Nagar' 'Tata Nagar'\n",
            " 'Veena Nagar' 'Goregaon West' 'Chembur' '4 Bunglows' 'Vallabh Baug'\n",
            " 'VN Purav Marg' 'Juhu' 'Kanch Pada' 'Vikhroli' 'Unnat Nagar' 'JB Nagar'\n",
            " 'Tilak Nagar - Harbour Line' 'Veera Desai Road' 'Juhu Versova Link'\n",
            " 'Shivaji Nagar Malad East' 'BEST Housing Colony' 'Oshiwara'\n",
            " 'Marol Maroshi' 'Borivali' 'Pant Nagar' 'Netaji Subhash Nagar'\n",
            " 'Link Road' 'Sarvodaya Nagar' 'Powai lake' 'Churi Wadi' 'Bimbisar Nagar'\n",
            " 'Shri Swami Samarth Nagar' 'Nahur East' 'Shastri Nagar' 'D.N. Nagar'\n",
            " 'Best Nagar - Goregaon West' 'Swastik Park' 'Marol' 'Four Bungalows'\n",
            " 'Santacruz West' 'Parel' 'Udyog Nagar' 'Chakala' 'Chakala MIDC'\n",
            " 'Matunga West' 'Central Area' 'Premier Colony' 'Sion East'\n",
            " 'Bhavani Nagar' 'Tunga' 'Wadala' 'Byculla' 'Sion Trombay Road'\n",
            " 'Basant Cinema' 'Vasant Vihar Complex' 'Govandi Station Road'\n",
            " 'Central Avenue Road' 'Bhakti Park' 'Wadala East' 'Versova'\n",
            " 'JVLR-Jogeshwari Vikhroli Link Road' 'Ghatla' 'Union Park' 'Joshi Wadi'\n",
            " 'Vile Parle West' 'Subhash Road' 'Dadar West' 'Matunga' 'Dadar East'\n",
            " 'Andheri Link Road' 'Juhu Beach Area' 'Sewri' 'Deonar' 'Andheri'\n",
            " 'Koyambedu' 'Lower Parel' 'Worli Hill' 'JVPD Scheme' 'Yeshodham'\n",
            " 'MIG Colony' 'Shivaji Park' 'Sai Baba Complex' 'Seven Bungalows'\n",
            " 'Bandra East' 'Saki Vihar Road' 'Atur Park Colony Bungalow'\n",
            " 'Mumbai Central' 'Bhoiwada' 'Wadala West' 'MHADA Vanrai Colony' 'Dadar'\n",
            " 'Worli Sea Face' 'Juhu Vile Parle Development Scheme' 'Parsi Colony'\n",
            " 'Dadar TT Circle' 'MHADA Colony 20' 'Mount Mary' 'Cuffe Parade'\n",
            " 'Kala Nagar' 'Girgaon Chowpatty' 'Linking Road' 'Khar' 'Kamala City'\n",
            " 'Dindoshi' 'Turner Road' 'Mahalakshmi' 'Warden Road' 'Pali Hill'\n",
            " 'Haji Ali' 'Mahim West' 'Pali Naka' 'Perry Rd' 'Mahim' 'Gulmohar Road'\n",
            " 'Gamdevi' 'Panchkutir Ganesh Nagar' 'Kulkarni Chowk' 'Matunga East'\n",
            " 'Carmichael Road' 'Mazgaon' 'Bandra' 'Church Gate' 'Babar Shaikh Chowk'\n",
            " 'Gamadia Colony' 'Worli Naka Acharaya Atre Chowk'\n",
            " 'Shree Siddhivinayak Mandir Chowk' 'Bandra Band Stand' 'Napean Sea Road'\n",
            " 'Upper Worli' 'Teen Batti' 'Mahalaxmi Race Course' 'Waterfield Road'\n",
            " 'Mehboob Studio' 'Elphiston Road Marchant Association Chowk' 'BDD Chawl'\n",
            " 'Nepeansea Road' 'Hanuman Nagar' 'Gamdia Colony Chowk'\n",
            " 'Willingdon Colony' 'Walkeshwar' 'Altamount Road' 'Colaba'\n",
            " 'Saraswat Colony' 'Jacob Circle' 'Sayed Wadi' 'Tardeo'\n",
            " 'Union Park Pali Hill' 'World Trade Centre' 'Malabar Hill' 'Marine Drive'\n",
            " 'Markendeshwar' 'Peddar Road' 'Siddharth Nagar South Mumbai'\n",
            " 'Pedder Road' 'Kemps Corner' 'Breach Candy' 'Juhu Versova Link Road'\n",
            " 'PK Kurne Chowk' 'Carter Road' 'Cumbala Hill'\n",
            " 'Colaba Upper Gateway Of India Area' 'Chikalwadi' 'Pleasant Park'\n",
            " 'Patel Nagar' 'Kurar Village' 'Kannamwar Nagar 1' 'Ekta Nagar Charkop'\n",
            " 'Dahisar West' 'Golden Nest' 'Pimpri Pada' 'Yogi Nagar' 'Kaju Pada'\n",
            " 'Versova Village' 'Vakola' 'Saat Rasta' 'Pratiksha Nagar-Sion'\n",
            " 'Chunabhatti' 'Chiku Wadi' 'GTB Nagar' 'Azad Nagar' 'Mulund Colony'\n",
            " 'Jogeshwari West' 'Govandi' 'Hill Road Nagar' 'Poisar' 'SSPCG Society'\n",
            " 'Kondivita Village' 'Guru Teg Bahadur Nagar' 'Sai Baba Nagar' 'Nagpada'\n",
            " 'Antop Hill' 'Dahisar' 'Gorai 2' 'Kurla East' 'Ghodapdeo' 'Juhu Koliwada'\n",
            " 'Kandarpada' 'Park Site Colony' 'Kurla West' 'Yogi Jayraj Nagar'\n",
            " 'Jaganade Chowk' 'Raigarh' 'Evershine Nagar' 'Shantivan' 'Orlem'\n",
            " 'Bhandup East' 'Mahada Colony' 'Ishwar Nagar' 'Shri Krishana Nagar'\n",
            " 'Sion' 'Nansey Colony' 'Charkop Sector 6' 'Charkop' 'Shell Colony'\n",
            " 'Vaishali Nagar' 'Anand Nagar' 'Eksar' 'Cotton Green Zakaria B'\n",
            " 'NL Complex' 'Akurli Nagar' 'Ram Nagar' 'Siddhartha Nagar'\n",
            " 'Jogeshwari East' 'Kharodi' 'Sardar Nagar No 4' 'Vidya Nagari'\n",
            " 'Asalfa Village JJC' 'Mahakali Nagar' 'Balaji Nagar' 'Nirmal Nagar'\n",
            " 'Parsi Wada' 'Meghwadi' 'Gorai 3' 'Garware Chowk' 'Ashok Van'\n",
            " 'Liberty Garden' 'Andheri-Goregaon' 'Amboli' 'Hindustan Chowk'\n",
            " 'LIC Colony' 'Mandapeshwar' 'Kurla Vidya Vihar Belt'\n",
            " 'MIDC Industrial Estate' 'Everard Nagar' 'Chembur Colony' 'Bandivali'\n",
            " 'Nahur' 'Dattani Park' 'Mulund' 'Fort' 'Irla' 'Rawal Pada' 'Gorai 1'\n",
            " 'Grant Road' 'Abhyudaya Nagar' 'Navjeevan Wadi' 'Babrekar Nagar'\n",
            " 'Naupada' 'Dockyard Road' 'Dattu Vaidya Nagar' 'Thakurdwar'\n",
            " 'Somvar Bazar' 'Gondavali Gaothan' 'Charkop Sector 4' 'Satya Nagar'\n",
            " 'Manohar Phalke Chowk' 'LIC Housing Colony' 'Kalina' 'JL Tambe Nagar'\n",
            " 'Nagari Nivara Parishad' 'Valmik Nagar' 'Cheda Nagar' 'Panchsheel Nagar'\n",
            " 'Irani Wada' 'Charkop Sector 2' 'Kherwadi' 'Govandi West' 'Kokan Nagar'\n",
            " 'Government Colony' 'Abhinav Nagar' 'Hari Om Nagar' 'Charkop Sector 3'\n",
            " 'Kannamwar Nagar' 'Hanuman Tekdi' 'Rajan Pada' 'Sher-e-Punjab'\n",
            " 'Charkop Sector 1' 'Amar Nagar' 'Postal Colony' 'Prem Nagar'\n",
            " 'Pestom Sagar' 'Chinch Bunder' 'Mulji Nagar' 'Sai Nagar' 'Pirojsha Nagar'\n",
            " 'Mahatama Gandhi Road' 'Dhanukar Wadi' 'Tilak Nagar – Central Line'\n",
            " 'Alika Nagar' 'Lal Baug' 'Tata Colony' 'Charkop Industrial Estate'\n",
            " 'Nehru Nagar-Kurla' 'Varsha Nagar' 'Piramal Nagar' 'Kulup Wadi'\n",
            " 'Rajendra Nagar' 'Sundar Nagar, Kalina' 'Talmakiwadi' 'Deonar Farm Road'\n",
            " 'Gopal Nagar' 'Natwar Nagar' 'New Tilak Nagar' 'Pillai Chowk'\n",
            " 'Bail Bazar' 'Kurla' 'Satrasta' 'Subhash Nagar' 'Halani Darbar Chowk'\n",
            " 'Vishwakarma Nagar' 'Shimpoli' 'Garodia Nagar' 'Basant Garden'\n",
            " 'Mhatre Wadi' 'Shiv Srishti' 'Khetwadi' 'Marol Maroshi Road'\n",
            " 'Bhandup Village' 'Jagdusha Nagar' 'Chinchpokli' 'P Lokhande Marg'\n",
            " 'Damodar Park' 'Chheda Nagar' 'Girgaum' 'Sunder Nagar' 'Ghartan Pada'\n",
            " 'Van Mali Sabhagruha Chowk' 'Gangawadi' 'Pathanwadi' 'Bhandup'\n",
            " 'Jogeshwari' 'Masjid Bander West' 'Crawford Market' 'P&T Colony'\n",
            " 'Sadanwadi' 'Pahadi Goregaon East' 'Moti Nagar' 'Kalpak Estate'\n",
            " 'Goverdhan Nagar' 'Mitha Nagar' 'Andheri Kurla Road' 'Navjeevan Colony'\n",
            " 'Haridas Nagar' 'Yeshwant Nagar' 'Govandi East' 'Lokmanya Tilak Nagar'\n",
            " 'Shivaji Nagar' 'Film City' 'Bangur Nagar' 'Jawahar Nagar'\n",
            " 'Amar Mahal Junction' 'Rifle Range' 'Gandhi Nagar' 'Mangalwadi'\n",
            " 'Vile Parle' 'Navagaon' 'Yashwant Nagar' 'Tagore Nagar' 'Manish Nagar'\n",
            " 'Kanya Pada' 'Eastern Express Highway' 'Pirojsha Godrej Nagar'\n",
            " 'Pushpa Park' 'Sumer Nagar' 'Babasaheb Worlikar Chowk' 'Gokul Dham'\n",
            " 'Datta Park' 'Bharat Mata Chowk' 'Prem Puriji Chowk' 'Bhim Nagar'\n",
            " 'Collector Colony' 'MHADA Colony Near Yadav Nagar' 'Parle Colony'\n",
            " 'Nadiyawala Colony 2' 'Behram Baug' 'Godrej Hillside Residential Colony'\n",
            " 'Agripada' 'Takshila Nagar' 'Tilak Nagar - Central Mumbai' 'Lakme Road'\n",
            " 'Kamani Junction' 'Amrut Nagar' 'Motilal Nagar 1' 'Western Express Hwy'\n",
            " 'Fine Art Chowk' 'Neelam Nagar' 'Rani Laxmibai Chowk' 'Datar Colony'\n",
            " 'Indira Nagar' 'Veera Desai Chowk' 'Valmiki Nagar' 'Suman Nagar' 'Malad'\n",
            " 'Ratan Nagar' 'Surya Nagar' 'Dr N Pai Marg Chowk' 'Mahul Road'\n",
            " 'Khar East' 'Umershet Pada' 'Jaydev Singh Nagar' 'Motilal Nagar 2'\n",
            " 'Kings Circle' 'Malcom Baug' 'Kandivali' 'Vrindavan' 'Rambaug'\n",
            " 'IIT Colony' 'New Airport Colony' 'Chira Bazaar' 'Santosh Nagar'\n",
            " 'Gogate Wadi' 'Godrej Station Road Colony' 'Motilal Nagar 3'\n",
            " 'Kumud Nagar' 'Null Bazar' 'Swami Vivekanand Chowk' 'King Circle'\n",
            " 'Kamgar Nagar' 'Jijamate Chowk' 'Jeejamata Road'\n",
            " 'Chincholi Pathak-Mallad' 'Azad Nagar 2' 'Gandhi Market' 'Model Town'\n",
            " 'Kanti Nagar' 'Customs Colony' 'Mathuradas Colony' 'Sindhi Colony'\n",
            " 'Golibar' 'Mahim Bay' 'BS Ambedkar Nagar' 'Kothu Wadi' 'Motilal Nagar'\n",
            " 'C Gidwani Marg Chowk' 'R Mehta Chowk' 'Sion Hospital Colony'\n",
            " 'Phase D, Shastri Nagar' 'Charni Road' 'Girgaon' 'Adarsh Nagar'\n",
            " 'Rajawadi' 'Zalwad Nagar' 'Shreyas Colony' 'Vishveshwar Nagar'\n",
            " 'Juhu Tara Road' 'Marine Lines' 'Nai Gaon' 'Five Gardens'\n",
            " 'Gilbert Hill JJC' 'Erangal' 'Shivneri Nagar' 'Chembur Village'\n",
            " 'Lallu Bhai Park' 'Kalina University' 'Paranjape Nagar' 'Mazagaon'\n",
            " 'Jeevan Nagar' 'Marol Naka Junction' 'Police Camp Worli Sea Face'\n",
            " 'Bhawani Shankar' 'Datta Guru Society' 'Nana Chowk' 'Hill Rd'\n",
            " 'Mota Nagar' 'Kabutarkhana Purandare Chowk' 'Millat Nagar' 'Uppar Colaba'\n",
            " 'Hindu Colony' 'S Haralayya Chowk' 'Bharat Nagar' 'Grant Road Area'\n",
            " 'Prabhat Colony' 'Veera Desai Industrial Estate' 'Vaibhav Nagar'\n",
            " 'Thakkar Estate' 'Air India Colony' 'Opera House' 'Hasmukh Nagar'\n",
            " 'Wadia Baug' 'MSES Colony' 'Bandra Reclamation' 'Navy Nagar' 'Gokhale Rd'\n",
            " 'Sasoon Dock' 'Jeet Nagar' 'Kashinath Ghanekar Chowk'\n",
            " 'Narayan Pujari Colony' 'Colaba Upper Apollo Bunder'\n",
            " 'Siddharth Nagar Central Mumbai' 'Holy Family Hospital' 'Hughes Road'\n",
            " 'Nana Chowk Grant Road' 'Carter Rd' \"St Paul's Rd\" 'Dalit Nagar'\n",
            " 'Hanging Garden' 'Chowpatty Area' 'Churchgate station' 'Kanjurmarg'\n",
            " 'Boisar West' 'Bhatwadi' 'Vithal Wadi' 'Kadam Nagar' 'Khanda Colony'\n",
            " 'Tarun Bharat Society' 'Palava' 'Navi Mumbai-Khargar-Panvel' 'Y K Nagar'\n",
            " 'Sambhaji Nagar' 'Indralok' 'Ghodbandar Village' 'Srishti Complex'\n",
            " 'Geeta Nagar' 'Gaikwad Nagar' 'Sane Guruji Nagar' 'Damble Colony'\n",
            " 'Friends Colony' 'Babhai Naka' 'Sahyadri Nagar' 'Mahatre Wadi'\n",
            " 'AAI Residential Complex' 'Vasant Vihar' 'Ganesh Nagar JJC Area'\n",
            " 'Maharashtra Nagar' 'Charkop Sector 7' 'Vazira Naka' 'Ashok Nagar'\n",
            " 'Pratikhsha Nagar' 'Kamgar Colony' 'Charkop Sector 5' 'Dattani Nagar'\n",
            " 'Vini Garden' 'Munjar Nagar' 'Lok Housing Colony' 'Sardar Nagar'\n",
            " 'Vidya Vihar West' 'Sindhu Wadi' 'Christian Colony' 'Taximen Colony'\n",
            " 'Marve' 'Kastur Park' 'Priyadarshini Chowk' 'Nagesh Patliwadi'\n",
            " 'Chikuwadi' 'Jayprakash Nagar' 'Bhandarwada' 'Kasam Baug' 'Vazir Naka'\n",
            " 'Savarkar Chowk' 'Holly Cross Church Chowk' 'Azad Nagar Versova Road'\n",
            " 'Nahur Gaothan' 'Tilak Nagar - Western Suburb'\n",
            " 'Pathanwadi - Kurur Village' 'Kora Kendra' 'Nehru Nagar - Juhu'\n",
            " 'Ganesh Nagar' 'Kanjurmarg West' 'Kokani Pada' 'Crompton Greaves'\n",
            " 'Gundavali' 'Acharya A Maharaj Chowk' 'Eden Gardens' 'Sen Nagar'\n",
            " 'Azad Nagar JJC' 'Ghatla Chowk' 'SV Patel Nagar'\n",
            " 'Hanuman Tekdi - Goregaon East' 'Sahakar Nagar' 'Tanajiwadi'\n",
            " 'Nityanand Nagar' 'Fertiliser Township' 'Bamandaya Pada' 'Deonar Pada'\n",
            " 'VSNL Colony' 'Nadkarni Park' 'Santacruz' 'Sham Nagar'\n",
            " 'Digambar Jain Mandir Chowk' 'New Nagardas Road' 'Laxmi Nagar'\n",
            " 'Shri Nagar' 'Hariyali' 'Ambedkar Garden' 'Indian Oil Nagar'\n",
            " 'PMGP Colony' 'Sainath Nagar' 'Hanuman Road' 'Dr CG Rd'\n",
            " 'Maheshwari Chowk' 'Pirojshah Nagar' 'Banjar Pada, Dindoshi'\n",
            " 'Acharya Nagar' 'Safed Pul' 'RCF Colony' 'Paspoli Dongri Pada'\n",
            " 'RTO Colony' 'Kherwadi Junction' 'MHADA Colony Milat Nagar'\n",
            " 'Sandesh Nagar' 'Kohinoor Compound' 'Acharya Tulsi Chowk'\n",
            " 'BR Ambedkar Chowk' 'Agari Pada' 'Laxmi Industrial Estate' 'Amit Nagar'\n",
            " 'Mukund Nagar' 'Kamala Nagar' 'Sector 86' 'Parmanand Wadi'\n",
            " 'Agarkar Chowk' 'Godrej Colony' 'Teachers Colony' 'Kolivary'\n",
            " 'Pingle Chowk' 'Danda' 'Khar Danda' 'Mazagaon Dock' 'Juhu Tara'\n",
            " 'Vithaldas Nagar' 'Sangeet Mahabharati Chowk' 'BPT Colony' 'Goregaon'\n",
            " 'Worli Tip' 'Police Colony Worli Sea Face' 'S Savarkar Chowk'\n",
            " 'CA Narayan Chowk' 'Dinar Kadekar Chowk' 'Bhagwan Parshwanath Chowk'\n",
            " 'Ambewadi' 'DS Chowk' 'Ranwar' 'Cursow Baug' 'Dr Veersen J Ruparel Chowk'\n",
            " 'Rebello Rd' 'Late Sadashivrao Shirke Chowk' 'Old Khar' 'Kowli Chowk'\n",
            " 'Regal Chowk' 'Babulnath Chowk' 'Advocate Devarshi N Khuman Chowk'\n",
            " 'Nariman Point' 'Water Field Road' 'Bhulabhai Desai Marg' 'Gowalia Tank'\n",
            " 'Marol MIDC Industrial Estate' 'Naigaon West' 'Mahul' 'Liliya Nagar'\n",
            " 'Daulat Nagar' 'Sukar Wadi' 'Aksa Gaon' 'Ambedkar Nagar'\n",
            " 'Lower Govind Nagar' 'MTNL Colony' 'Chinch Pada'\n",
            " 'Nirmal Nagar-Central Line' 'Dhanji Wadi' 'Seepz Area' 'Gautam Nagar'\n",
            " 'Vidya Vihar' 'Vijay Nagar' 'Vivekanand Colony' 'Sai Wadi' 'R K Studio'\n",
            " 'Kirol Village' 'Railway Colony Bandra Terminus' 'R C Marg' 'Ulhasnagar'\n",
            " 'Shiv Shankar Nagar' 'Koladongri' 'L Tilak Colony'\n",
            " 'Air India Staff Colony 2' 'Shirley' 'Fanaswadi' 'Sir Bhalchandra Chowk'\n",
            " 'Metro Cinema Chowk' 'Ahimsa Nagar' 'Vasant Kunj'\n",
            " 'Dr Babasaheb Ambedkar Govt Hos' 'Railway Colony Pali Hill'\n",
            " 'Adv RD Kowte Chowk' 'Lotus Colony' 'Architect Vidyadhar Mhatre Chowk'\n",
            " 'Haji Ali Junction' 'Brhmanwada' 'Zeezamata Nagar'\n",
            " 'Indian Medical Association Chowk' 'Abhishek Nagar' 'Mantralaya'\n",
            " 'Rotary Chowk' 'Barrister Rajni Patel Chowk' 'BD Somani Chowk' 'Koliwadi'\n",
            " 'Rohidas Chowk' 'Shiv Sagar Estate' 'Purandarwadi' 'Priyadarshini Park'\n",
            " 'Teen Batti Chowk' 'Oberoi' 'Ramji Nagar' 'Nimoni Baug']\n",
            "price [   9000    8060    8000    8500   10000    9500    8700   18000   17500\n",
            "   21000   22000   17000   19900   19000   20000   16000   25000   30000\n",
            "   23000   27000   28500   28000   26000   24000   23500   35000   41000\n",
            "   32000   45000   42000   44000   36000   44400   43000   40000   38000\n",
            "   37000   50000   52000   54500   55000   57000   60000   58000   49220\n",
            "   47000   47001   48000   62000   63000   78000   70000   75000   74000\n",
            "   77000   76000   65000   79000   71000   72000   68000   11000   11500\n",
            "   10500   12500   12000   10200   12200   10437   10333   11300   11900\n",
            "   11750   90000  100000   80000   95000   85000   99000   91000   81000\n",
            "   83000   82000   88000   99500   79999   87000   89000   92300   93000\n",
            "   92000  110000  125000  115000  105000  120000  118000  112000  122000\n",
            "  112921  121000  108000  111000  125002  113000  120001  123900  116000\n",
            "  102000  107000  106000  140000  150000  130000  148000  149000  145000\n",
            "  133000  135001  135000  151000  155000  144000  152000  138000  145500\n",
            "  134500  128000  142000  129000  146000  136000  137100  141000  140001\n",
            "  132000  135500  139000  127000  147000  130500  134000  137800  180000\n",
            "  170000  165000  190000  175000  160000  195000  171991  185000  172500\n",
            "  180100  199000  159000  196000  170200  178245  189000  179000  174000\n",
            "  169000  176000  168000  225000  220000  200000  210000  250000  223000\n",
            "  248000  230000  214000  220600  215000  209000  201000  235000  240000\n",
            "  205000  237000  241000  245000  310000  305000  280000  275000  260000\n",
            "  300000  285000  265000  255000  270000  297500  290000  295000  315000\n",
            "  355000  325000  330000  350000  375000  320000  382000  360000  370000\n",
            "  346000  380000  340000  385000  365000  349000  450000  400000  500000\n",
            "  499000  402000  430000  425000  475000  420000  415000  440000  410000\n",
            "  480000  550000  598000  540000  555000  600000  620000  625000  525000\n",
            "  575000  560000  580000  775000  650000  750000  700000  675000  666000\n",
            "   14500   14000   15000   13500   13000   15500   14100   13200   13999\n",
            "   15079   13938   14200   14677   13400   15400   13850   15001   14800\n",
            "   13900   15550   14600   15700   14750   14700   15200   14499   14001\n",
            "   14999  800000  975000 1000000  877000  850000  900000  825000 1150000\n",
            "   18500   16900   16500   17748   19100   19500   19700   19200   16800\n",
            "   16300   17795   19800   18100   17200   19001   16100   15900   17001\n",
            "   22500   24900   24500   20700   21500   20500   23100   20160   22300\n",
            "   24750   20603   24999   23400   20100   21560   20750   24222   23999\n",
            "   22900   22550   20150   24100   24600   21900   20999   24800   20300\n",
            "  125100  124000  123000  125800  143000  390890  505000  532000  720000\n",
            "  875000  950000   29000   31000   27500   25500   28200   29500   26500\n",
            "   26600   31090   30200   27700   27083   25999   30100   30500   25575\n",
            "   25547   25300   29792   29997   29750   28700   27200   31500   27999\n",
            "   29950   26800   29414   29800   29999   28499   31095   29005   31600\n",
            "   26700   29700   26250   27950   28750   28400   29900   29300 1200000\n",
            "   34400   34000   33000   37100   38999   32500   33400   39000   35500\n",
            "   34500   34333   34999   38500   33500   37500   34300   36500   39500\n",
            "   36999   33100   32300   32222   34900   35100   35009   36800   31999\n",
            "   38900   37200   34006   36100   32999   36400   35800   37400   37499\n",
            "   37999   32100   38100   35010   38400   35003   34100   42500   39999\n",
            "   48500   49500   48100   46000   39990   49000   42900   49990   44500\n",
            "   42223   40200   47500   40600   43500   44200   45800   47800   41777\n",
            "   41500   40500   40100   47600   45500   43151   47300   40006   42999\n",
            "   42600   42700   53000   56000   51000   52500   54000   50500   51500\n",
            "   73000   67000   66000   65500   99998   98000    3500    4000    3999\n",
            "    4500    3900    5000    5500    5750    5600    6000    6500    7000\n",
            "    7500    7600    2500    2200    3000    8900    9300    9123    8800\n",
            "    8200   11048   12383   10250   13750   17800   18600   18700   18200\n",
            "   18300   16999   17499   20200   30001   26900   30450   27800   28583\n",
            "   29983   28003   26200   25400   37001   35333   33900   37800   36099\n",
            "   35999   37004   37900   38950   39400   37600   38001   35789   38888\n",
            "   38800   37005   38700   37002   46500   49999   50002   48150   50100\n",
            "   43100   49200   48900   46800   44300   42400   47700   46200   49988\n",
            "   44900   50004   45200   40800   42300   49111   47999   42100   44450\n",
            "   45913   50001   43900   42200   44600   48222   44800   45700   43300\n",
            "   46600   41997   45060   48600   45100   41600   49400   48005   48800\n",
            "   50025   46400   43250   59500   61000   59000   51999   57999   59400\n",
            "   55500   53500   55005   55111   50667   56833   57800   56500   62500\n",
            "   53800   54600   63003   61500   57500   52999   53999   54900   59999\n",
            "   53400   56999   58500   60500   60001   55444   60100   62999   52800\n",
            "   56200   51900   57600   54100   64000   77500   69000   70300   78700\n",
            "   63333   64500   75500   72500   64200   65200   74002   65100   64999\n",
            "   68500   73500   71500   64100   72001   75200   69500   63700   72002\n",
            "   67500   65700   74500   65400   97000   84000   96000   85800   94000\n",
            "   82500   79500   99999   79900   85600   90600   80357   85500   90001\n",
            "   95001   99888   83500   86000   79800   96500   80111   81666   83333\n",
            "  109000  101000  114000  105400  100005  120002  100500  119000  104000\n",
            "  105555  130001  684000    3250    4800    4999    4400    4700   13333\n",
            "   48001   47333   40669   47002   48200   46502   48002   42004   44002\n",
            "   48003   45600   60200   53100   59700   55555   58100   59001   62916\n",
            "   51200   56600   59005   52003   52100   63001   59791   64800   78005\n",
            "   69300   73333   76500   79002   66500   67999   69999   73501   67501\n",
            "   64005   70400   67200   78500   65003   72999   63500   63558   72700\n",
            "   72750   78800   71750   70900   77100   68800   73350   73100   75100\n",
            "    6200    6100    6250    5100    6300   86200   94500   80500   93800\n",
            "   94999   88500   96582   86500   90542   80100   91500   87500   87400\n",
            "   90002   84500   95500   92500   93500   86100   80200   88900   82600\n",
            "   89500  125084  103000  120700  110009  120100  102857  103500  110800\n",
            "  114999  102500  156000  131999  129500  126000  153000  137000  130100\n",
            "  131000  161000  182000  194000  164000  162000  242000  221000  203000\n",
            "  202000  200100  200500  298000  279000  268000  275100  289000  345000\n",
            "  395000  390000  445000  725000    7700    7200    6600    6800    7100\n",
            "    7800    7250    6900    7560]\n",
            "user_type ['Agent' 'Owner' 'Builder']\n"
          ],
          "name": "stdout"
        }
      ]
    },
    {
      "cell_type": "code",
      "metadata": {
        "id": "N5sziselwMya"
      },
      "source": [
        "df.dropna(axis=0,how='any',inplace=True)  # After going through this case study multiple times I realized it's better to just drop all the nan values. "
      ],
      "execution_count": 120,
      "outputs": []
    },
    {
      "cell_type": "code",
      "metadata": {
        "id": "1_zEHQyLwO94"
      },
      "source": [
        "df['price_per_sqft'] = df['price']/df['area']"
      ],
      "execution_count": 121,
      "outputs": []
    },
    {
      "cell_type": "code",
      "metadata": {
        "id": "yGaH7Ho-wQW9",
        "outputId": "664bac5f-4396-4a71-9d16-7404dfaae2f1",
        "colab": {
          "base_uri": "https://localhost:8080/",
          "height": 36
        }
      },
      "source": [
        "'''df_cat = df.select_dtypes('object')\r\n",
        "df_num = df.select_dtypes(['int64','float64'])'''"
      ],
      "execution_count": 122,
      "outputs": [
        {
          "output_type": "execute_result",
          "data": {
            "application/vnd.google.colaboratory.intrinsic+json": {
              "type": "string"
            },
            "text/plain": [
              "\"df_cat = df.select_dtypes('object')\\ndf_num = df.select_dtypes(['int64','float64'])\""
            ]
          },
          "metadata": {
            "tags": []
          },
          "execution_count": 122
        }
      ]
    },
    {
      "cell_type": "code",
      "metadata": {
        "id": "iuX-0ifCwW-u",
        "outputId": "6170eed6-b39d-4de3-b65d-7cb2f8ce614a",
        "colab": {
          "base_uri": "https://localhost:8080/",
          "height": 36
        }
      },
      "source": [
        "'''from sklearn.preprocessing import LabelEncoder\r\n",
        "le = LabelEncoder()\r\n",
        "for col in df_cat:\r\n",
        "  df_cat[col]=le.fit_transform(df_cat[col])'''"
      ],
      "execution_count": 123,
      "outputs": [
        {
          "output_type": "execute_result",
          "data": {
            "application/vnd.google.colaboratory.intrinsic+json": {
              "type": "string"
            },
            "text/plain": [
              "'from sklearn.preprocessing import LabelEncoder\\nle = LabelEncoder()\\nfor col in df_cat:\\n  df_cat[col]=le.fit_transform(df_cat[col])'"
            ]
          },
          "metadata": {
            "tags": []
          },
          "execution_count": 123
        }
      ]
    },
    {
      "cell_type": "code",
      "metadata": {
        "id": "dsu2oqKdev35",
        "outputId": "e331a099-51e8-45ad-caba-3716b80a700a",
        "colab": {
          "base_uri": "https://localhost:8080/"
        }
      },
      "source": [
        "location = df['locality'].value_counts()\r\n",
        "location"
      ],
      "execution_count": 124,
      "outputs": [
        {
          "output_type": "execute_result",
          "data": {
            "text/plain": [
              "Powai                       1453\n",
              "Chembur                     1400\n",
              "Andheri West                1359\n",
              "Andheri East                1092\n",
              "Worli                       1006\n",
              "                            ... \n",
              "Rebello Rd                     1\n",
              "Kashinath Ghanekar Chowk       1\n",
              "Vivekanand Colony              1\n",
              "Nehru Nagar-Kurla              1\n",
              "VSNL Colony                    1\n",
              "Name: locality, Length: 821, dtype: int64"
            ]
          },
          "metadata": {
            "tags": []
          },
          "execution_count": 124
        }
      ]
    },
    {
      "cell_type": "code",
      "metadata": {
        "id": "WCownl0Ze4sN",
        "outputId": "026f3def-79b7-454f-8743-7542aef16025",
        "colab": {
          "base_uri": "https://localhost:8080/"
        }
      },
      "source": [
        "df['price_per_sqft'].describe()"
      ],
      "execution_count": 125,
      "outputs": [
        {
          "output_type": "execute_result",
          "data": {
            "text/plain": [
              "count    33346.000000\n",
              "mean        58.737641\n",
              "std        154.744405\n",
              "min          2.812500\n",
              "25%         38.095238\n",
              "50%         49.404753\n",
              "75%         68.000000\n",
              "max      20000.000000\n",
              "Name: price_per_sqft, dtype: float64"
            ]
          },
          "metadata": {
            "tags": []
          },
          "execution_count": 125
        }
      ]
    },
    {
      "cell_type": "code",
      "metadata": {
        "colab": {
          "base_uri": "https://localhost:8080/"
        },
        "id": "4f3rB2mZwY3c",
        "outputId": "69fdb4ae-ef82-46e5-c490-d82a2988d502"
      },
      "source": [
        "from scipy.stats import skew\r\n",
        "\r\n",
        "print(\"Checking the distribution of data in every column\")\r\n",
        "df1 = df.select_dtypes(['int64','float64'])\r\n",
        "for col in df1:\r\n",
        "  print(col)  \r\n",
        "  print(\"Skew: \",skew(df1[col]))\r\n",
        "  #sns.histplot(df_num[col])\r\n",
        "  print(\"----\"*5)"
      ],
      "execution_count": 126,
      "outputs": [
        {
          "output_type": "stream",
          "text": [
            "Checking the distribution of data in every column\n",
            "area\n",
            "Skew:  2.296937398117015\n",
            "--------------------\n",
            "bathroom_num\n",
            "Skew:  1.0447169167869068\n",
            "--------------------\n",
            "bedroom_num\n",
            "Skew:  0.46325102765155224\n",
            "--------------------\n",
            "price\n",
            "Skew:  4.591733014399967\n",
            "--------------------\n",
            "price_per_sqft\n",
            "Skew:  93.34673822192995\n",
            "--------------------\n"
          ],
          "name": "stdout"
        }
      ]
    },
    {
      "cell_type": "markdown",
      "metadata": {
        "id": "upYtBPT5wdxV"
      },
      "source": [
        "AS we can notice that our skew is pretty high for area, bathroom_num, floor_count, floor_num so we are going to try to work on this. \r\n",
        "\r\n",
        "Skewness should always be in the range of -0.5 to +0.5 "
      ]
    },
    {
      "cell_type": "code",
      "metadata": {
        "id": "a__HDxN5wgf0"
      },
      "source": [
        "#df['area'] = np.log(df['area'])\r\n",
        "#skew(df['area'])"
      ],
      "execution_count": 127,
      "outputs": []
    },
    {
      "cell_type": "code",
      "metadata": {
        "id": "LhQxJltQwibm"
      },
      "source": [
        "#df['bathroom_num'] = np.sqrt(df['bathroom_num'])\r\n",
        "#skew(df['bathroom_num'])"
      ],
      "execution_count": 128,
      "outputs": []
    },
    {
      "cell_type": "code",
      "metadata": {
        "colab": {
          "base_uri": "https://localhost:8080/"
        },
        "id": "qm4DsdPswlh1",
        "outputId": "fe5ffb1e-5294-44c0-af9f-7414bef190a3"
      },
      "source": [
        "df['bedroom_num'].value_counts()"
      ],
      "execution_count": 129,
      "outputs": [
        {
          "output_type": "execute_result",
          "data": {
            "text/plain": [
              "2    13127\n",
              "1     9803\n",
              "3     8351\n",
              "4     1902\n",
              "5      163\n",
              "Name: bedroom_num, dtype: int64"
            ]
          },
          "metadata": {
            "tags": []
          },
          "execution_count": 129
        }
      ]
    },
    {
      "cell_type": "code",
      "metadata": {
        "colab": {
          "base_uri": "https://localhost:8080/",
          "height": 279
        },
        "id": "zWYLgAO-wsQo",
        "outputId": "949d8554-1f2c-47be-da3e-28642a0b7386"
      },
      "source": [
        "plt.hist(df['bedroom_num'])\r\n",
        "plt.xlabel('Number of bedrooms')\r\n",
        "plt.ylabel('count')\r\n",
        "plt.show()"
      ],
      "execution_count": 130,
      "outputs": [
        {
          "output_type": "display_data",
          "data": {
            "image/png": "[encoded data removed]",
            "text/plain": [
              "<Figure size 432x288 with 1 Axes>"
            ]
          },
          "metadata": {
            "tags": [],
            "needs_background": "light"
          }
        }
      ]
    },
    {
      "cell_type": "code",
      "metadata": {
        "colab": {
          "base_uri": "https://localhost:8080/",
          "height": 279
        },
        "id": "50PeIVCDwvDi",
        "outputId": "9544ad5f-f197-4783-e98d-38fafb38826b"
      },
      "source": [
        "plt.hist(df['bathroom_num'], density=False, histtype='stepfilled')\r\n",
        "plt.xlabel('Number of bathrooms')\r\n",
        "plt.ylabel('count')\r\n",
        "plt.show()"
      ],
      "execution_count": 131,
      "outputs": [
        {
          "output_type": "display_data",
          "data": {
            "image/png": "[encoded data removed]",
            "text/plain": [
              "<Figure size 432x288 with 1 Axes>"
            ]
          },
          "metadata": {
            "tags": [],
            "needs_background": "light"
          }
        }
      ]
    },
    {
      "cell_type": "code",
      "metadata": {
        "colab": {
          "base_uri": "https://localhost:8080/",
          "height": 194
        },
        "id": "ymhR6vEiwwTe",
        "outputId": "9a3cb0fc-3fc4-4f3d-d2c4-cfa34583bf1b"
      },
      "source": [
        "df.corr()"
      ],
      "execution_count": 132,
      "outputs": [
        {
          "output_type": "execute_result",
          "data": {
            "text/html": [
              "<div>\n",
              "<style scoped>\n",
              "    .dataframe tbody tr th:only-of-type {\n",
              "        vertical-align: middle;\n",
              "    }\n",
              "\n",
              "    .dataframe tbody tr th {\n",
              "        vertical-align: top;\n",
              "    }\n",
              "\n",
              "    .dataframe thead th {\n",
              "        text-align: right;\n",
              "    }\n",
              "</style>\n",
              "<table border=\"1\" class=\"dataframe\">\n",
              "  <thead>\n",
              "    <tr style=\"text-align: right;\">\n",
              "      <th></th>\n",
              "      <th>area</th>\n",
              "      <th>bathroom_num</th>\n",
              "      <th>bedroom_num</th>\n",
              "      <th>price</th>\n",
              "      <th>price_per_sqft</th>\n",
              "    </tr>\n",
              "  </thead>\n",
              "  <tbody>\n",
              "    <tr>\n",
              "      <th>area</th>\n",
              "      <td>1.000000</td>\n",
              "      <td>0.816317</td>\n",
              "      <td>0.835233</td>\n",
              "      <td>0.765816</td>\n",
              "      <td>0.024444</td>\n",
              "    </tr>\n",
              "    <tr>\n",
              "      <th>bathroom_num</th>\n",
              "      <td>0.816317</td>\n",
              "      <td>1.000000</td>\n",
              "      <td>0.840118</td>\n",
              "      <td>0.614410</td>\n",
              "      <td>0.053673</td>\n",
              "    </tr>\n",
              "    <tr>\n",
              "      <th>bedroom_num</th>\n",
              "      <td>0.835233</td>\n",
              "      <td>0.840118</td>\n",
              "      <td>1.000000</td>\n",
              "      <td>0.590673</td>\n",
              "      <td>0.049941</td>\n",
              "    </tr>\n",
              "    <tr>\n",
              "      <th>price</th>\n",
              "      <td>0.765816</td>\n",
              "      <td>0.614410</td>\n",
              "      <td>0.590673</td>\n",
              "      <td>1.000000</td>\n",
              "      <td>0.162955</td>\n",
              "    </tr>\n",
              "    <tr>\n",
              "      <th>price_per_sqft</th>\n",
              "      <td>0.024444</td>\n",
              "      <td>0.053673</td>\n",
              "      <td>0.049941</td>\n",
              "      <td>0.162955</td>\n",
              "      <td>1.000000</td>\n",
              "    </tr>\n",
              "  </tbody>\n",
              "</table>\n",
              "</div>"
            ],
            "text/plain": [
              "                    area  bathroom_num  bedroom_num     price  price_per_sqft\n",
              "area            1.000000      0.816317     0.835233  0.765816        0.024444\n",
              "bathroom_num    0.816317      1.000000     0.840118  0.614410        0.053673\n",
              "bedroom_num     0.835233      0.840118     1.000000  0.590673        0.049941\n",
              "price           0.765816      0.614410     0.590673  1.000000        0.162955\n",
              "price_per_sqft  0.024444      0.053673     0.049941  0.162955        1.000000"
            ]
          },
          "metadata": {
            "tags": []
          },
          "execution_count": 132
        }
      ]
    },
    {
      "cell_type": "code",
      "metadata": {
        "id": "IPUmaOPCwzZm"
      },
      "source": [
        "#df_new = pd.concat([df_num,df_cat],axis=1)"
      ],
      "execution_count": 133,
      "outputs": []
    },
    {
      "cell_type": "code",
      "metadata": {
        "colab": {
          "base_uri": "https://localhost:8080/",
          "height": 194
        },
        "id": "VczI7Bp3wzXz",
        "outputId": "dc6af340-6209-454f-b618-893f745b3f38"
      },
      "source": [
        "df.head()"
      ],
      "execution_count": 134,
      "outputs": [
        {
          "output_type": "execute_result",
          "data": {
            "text/html": [
              "<div>\n",
              "<style scoped>\n",
              "    .dataframe tbody tr th:only-of-type {\n",
              "        vertical-align: middle;\n",
              "    }\n",
              "\n",
              "    .dataframe tbody tr th {\n",
              "        vertical-align: top;\n",
              "    }\n",
              "\n",
              "    .dataframe thead th {\n",
              "        text-align: right;\n",
              "    }\n",
              "</style>\n",
              "<table border=\"1\" class=\"dataframe\">\n",
              "  <thead>\n",
              "    <tr style=\"text-align: right;\">\n",
              "      <th></th>\n",
              "      <th>area</th>\n",
              "      <th>bathroom_num</th>\n",
              "      <th>bedroom_num</th>\n",
              "      <th>furnishing</th>\n",
              "      <th>locality</th>\n",
              "      <th>price</th>\n",
              "      <th>user_type</th>\n",
              "      <th>price_per_sqft</th>\n",
              "    </tr>\n",
              "  </thead>\n",
              "  <tbody>\n",
              "    <tr>\n",
              "      <th>0</th>\n",
              "      <td>350.0</td>\n",
              "      <td>2.0</td>\n",
              "      <td>1</td>\n",
              "      <td>Unfurnished</td>\n",
              "      <td>Malad West</td>\n",
              "      <td>9000</td>\n",
              "      <td>Agent</td>\n",
              "      <td>25.714286</td>\n",
              "    </tr>\n",
              "    <tr>\n",
              "      <th>1</th>\n",
              "      <td>652.0</td>\n",
              "      <td>2.0</td>\n",
              "      <td>1</td>\n",
              "      <td>Semi-Furnished</td>\n",
              "      <td>Vasai</td>\n",
              "      <td>8060</td>\n",
              "      <td>Agent</td>\n",
              "      <td>12.361963</td>\n",
              "    </tr>\n",
              "    <tr>\n",
              "      <th>2</th>\n",
              "      <td>635.0</td>\n",
              "      <td>2.0</td>\n",
              "      <td>1</td>\n",
              "      <td>Semi-Furnished</td>\n",
              "      <td>Virar</td>\n",
              "      <td>8000</td>\n",
              "      <td>Agent</td>\n",
              "      <td>12.598425</td>\n",
              "    </tr>\n",
              "    <tr>\n",
              "      <th>3</th>\n",
              "      <td>540.0</td>\n",
              "      <td>2.0</td>\n",
              "      <td>1</td>\n",
              "      <td>Semi-Furnished</td>\n",
              "      <td>Vasai East</td>\n",
              "      <td>8000</td>\n",
              "      <td>Agent</td>\n",
              "      <td>14.814815</td>\n",
              "    </tr>\n",
              "    <tr>\n",
              "      <th>4</th>\n",
              "      <td>625.0</td>\n",
              "      <td>1.0</td>\n",
              "      <td>1</td>\n",
              "      <td>Furnished</td>\n",
              "      <td>Naigaon East</td>\n",
              "      <td>9000</td>\n",
              "      <td>Owner</td>\n",
              "      <td>14.400000</td>\n",
              "    </tr>\n",
              "  </tbody>\n",
              "</table>\n",
              "</div>"
            ],
            "text/plain": [
              "    area  bathroom_num  bedroom_num  ... price user_type  price_per_sqft\n",
              "0  350.0           2.0            1  ...  9000     Agent       25.714286\n",
              "1  652.0           2.0            1  ...  8060     Agent       12.361963\n",
              "2  635.0           2.0            1  ...  8000     Agent       12.598425\n",
              "3  540.0           2.0            1  ...  8000     Agent       14.814815\n",
              "4  625.0           1.0            1  ...  9000     Owner       14.400000\n",
              "\n",
              "[5 rows x 8 columns]"
            ]
          },
          "metadata": {
            "tags": []
          },
          "execution_count": 134
        }
      ]
    },
    {
      "cell_type": "code",
      "metadata": {
        "colab": {
          "base_uri": "https://localhost:8080/",
          "height": 552
        },
        "id": "2bRsNlTEwzV4",
        "outputId": "d30d1604-72bf-4aaa-99e1-3765e637503a"
      },
      "source": [
        "plt.figure(figsize=(8,8))\r\n",
        "sns.heatmap(df.corr(),annot=True)\r\n",
        "plt.show()"
      ],
      "execution_count": 135,
      "outputs": [
        {
          "output_type": "display_data",
          "data": {
            "image/png": "[encoded data removed]",
            "text/plain": [
              "<Figure size 576x576 with 2 Axes>"
            ]
          },
          "metadata": {
            "tags": [],
            "needs_background": "light"
          }
        }
      ]
    },
    {
      "cell_type": "code",
      "metadata": {
        "colab": {
          "base_uri": "https://localhost:8080/",
          "height": 563
        },
        "id": "GAWRQ--XwzT9",
        "outputId": "f57c96f1-bc21-48c5-a419-a38998ddbf8a"
      },
      "source": [
        "plt.figure(figsize=(9,9))\r\n",
        "sns.boxplot(data=df, x='bedroom_num',y='price',orient=\"v\")\r\n",
        "plt.show()"
      ],
      "execution_count": 136,
      "outputs": [
        {
          "output_type": "display_data",
          "data": {
            "image/png": "[encoded data removed]",
            "text/plain": [
              "<Figure size 648x648 with 1 Axes>"
            ]
          },
          "metadata": {
            "tags": [],
            "needs_background": "light"
          }
        }
      ]
    },
    {
      "cell_type": "code",
      "metadata": {
        "colab": {
          "base_uri": "https://localhost:8080/",
          "height": 563
        },
        "id": "aD9JsWKFwzSW",
        "outputId": "d466009e-b789-472c-f2ed-4f0fe18fa940"
      },
      "source": [
        "plt.figure(figsize=(9,9))\r\n",
        "sns.boxplot(data=df, x='bathroom_num',y='price',orient=\"v\")\r\n",
        "plt.show()"
      ],
      "execution_count": 137,
      "outputs": [
        {
          "output_type": "display_data",
          "data": {
            "image/png": "[encoded data removed]",
            "text/plain": [
              "<Figure size 648x648 with 1 Axes>"
            ]
          },
          "metadata": {
            "tags": [],
            "needs_background": "light"
          }
        }
      ]
    },
    {
      "cell_type": "code",
      "metadata": {
        "colab": {
          "base_uri": "https://localhost:8080/",
          "height": 551
        },
        "id": "_6NGoLdmwzQh",
        "outputId": "9f1f6247-6ee3-47c6-cac9-b6efcee936b3"
      },
      "source": [
        "plt.figure(figsize=(9,9))\r\n",
        "sns.boxplot(data=df, x='price', linewidth=1.5)\r\n",
        "plt.show()"
      ],
      "execution_count": 138,
      "outputs": [
        {
          "output_type": "display_data",
          "data": {
            "image/png": "[encoded data removed]",
            "text/plain": [
              "<Figure size 648x648 with 1 Axes>"
            ]
          },
          "metadata": {
            "tags": [],
            "needs_background": "light"
          }
        }
      ]
    },
    {
      "cell_type": "code",
      "metadata": {
        "colab": {
          "base_uri": "https://localhost:8080/"
        },
        "id": "s6rULtuswzOv",
        "outputId": "9c449c16-fab9-4743-bd4b-d0dab491c515"
      },
      "source": [
        "# To find outliers\r\n",
        "\r\n",
        "q1 = df['price'].quantile(0.25)\r\n",
        "q3 = df['price'].quantile(0.75)\r\n",
        "IQR = q3-q1\r\n",
        "Upper_range = q3 + IQR*1.5\r\n",
        "print(q1, q3)\r\n",
        "print(Upper_range)\r\n",
        "print(len(df))"
      ],
      "execution_count": 139,
      "outputs": [
        {
          "output_type": "stream",
          "text": [
            "32000.0 80000.0\n",
            "152000.0\n",
            "33346\n"
          ],
          "name": "stdout"
        }
      ]
    },
    {
      "cell_type": "code",
      "metadata": {
        "colab": {
          "base_uri": "https://localhost:8080/",
          "height": 399
        },
        "id": "0iqsLG1jwzMx",
        "outputId": "2249a803-7909-4b20-ddf9-95be04493ffd"
      },
      "source": [
        "df[df['price'] > Upper_range]"
      ],
      "execution_count": 140,
      "outputs": [
        {
          "output_type": "execute_result",
          "data": {
            "text/html": [
              "<div>\n",
              "<style scoped>\n",
              "    .dataframe tbody tr th:only-of-type {\n",
              "        vertical-align: middle;\n",
              "    }\n",
              "\n",
              "    .dataframe tbody tr th {\n",
              "        vertical-align: top;\n",
              "    }\n",
              "\n",
              "    .dataframe thead th {\n",
              "        text-align: right;\n",
              "    }\n",
              "</style>\n",
              "<table border=\"1\" class=\"dataframe\">\n",
              "  <thead>\n",
              "    <tr style=\"text-align: right;\">\n",
              "      <th></th>\n",
              "      <th>area</th>\n",
              "      <th>bathroom_num</th>\n",
              "      <th>bedroom_num</th>\n",
              "      <th>furnishing</th>\n",
              "      <th>locality</th>\n",
              "      <th>price</th>\n",
              "      <th>user_type</th>\n",
              "      <th>price_per_sqft</th>\n",
              "    </tr>\n",
              "  </thead>\n",
              "  <tbody>\n",
              "    <tr>\n",
              "      <th>980</th>\n",
              "      <td>2100.0</td>\n",
              "      <td>4.0</td>\n",
              "      <td>4</td>\n",
              "      <td>Furnished</td>\n",
              "      <td>Andheri West</td>\n",
              "      <td>155000</td>\n",
              "      <td>Agent</td>\n",
              "      <td>73.809524</td>\n",
              "    </tr>\n",
              "    <tr>\n",
              "      <th>1030</th>\n",
              "      <td>2400.0</td>\n",
              "      <td>5.0</td>\n",
              "      <td>4</td>\n",
              "      <td>Semi-Furnished</td>\n",
              "      <td>New Link Road</td>\n",
              "      <td>155000</td>\n",
              "      <td>Agent</td>\n",
              "      <td>64.583333</td>\n",
              "    </tr>\n",
              "    <tr>\n",
              "      <th>1075</th>\n",
              "      <td>3500.0</td>\n",
              "      <td>5.0</td>\n",
              "      <td>4</td>\n",
              "      <td>Unfurnished</td>\n",
              "      <td>Wadala East</td>\n",
              "      <td>155000</td>\n",
              "      <td>Agent</td>\n",
              "      <td>44.285714</td>\n",
              "    </tr>\n",
              "    <tr>\n",
              "      <th>1088</th>\n",
              "      <td>2550.0</td>\n",
              "      <td>4.0</td>\n",
              "      <td>4</td>\n",
              "      <td>Furnished</td>\n",
              "      <td>Andheri West</td>\n",
              "      <td>155000</td>\n",
              "      <td>Agent</td>\n",
              "      <td>60.784314</td>\n",
              "    </tr>\n",
              "    <tr>\n",
              "      <th>1140</th>\n",
              "      <td>2870.0</td>\n",
              "      <td>4.0</td>\n",
              "      <td>4</td>\n",
              "      <td>Semi-Furnished</td>\n",
              "      <td>Vikhroli</td>\n",
              "      <td>155000</td>\n",
              "      <td>Agent</td>\n",
              "      <td>54.006969</td>\n",
              "    </tr>\n",
              "    <tr>\n",
              "      <th>...</th>\n",
              "      <td>...</td>\n",
              "      <td>...</td>\n",
              "      <td>...</td>\n",
              "      <td>...</td>\n",
              "      <td>...</td>\n",
              "      <td>...</td>\n",
              "      <td>...</td>\n",
              "      <td>...</td>\n",
              "    </tr>\n",
              "    <tr>\n",
              "      <th>34098</th>\n",
              "      <td>2500.0</td>\n",
              "      <td>3.0</td>\n",
              "      <td>3</td>\n",
              "      <td>Semi-Furnished</td>\n",
              "      <td>Bandra Band Stand</td>\n",
              "      <td>675000</td>\n",
              "      <td>Agent</td>\n",
              "      <td>270.000000</td>\n",
              "    </tr>\n",
              "    <tr>\n",
              "      <th>34099</th>\n",
              "      <td>4000.0</td>\n",
              "      <td>4.0</td>\n",
              "      <td>3</td>\n",
              "      <td>Semi-Furnished</td>\n",
              "      <td>Bandra West</td>\n",
              "      <td>725000</td>\n",
              "      <td>Agent</td>\n",
              "      <td>181.250000</td>\n",
              "    </tr>\n",
              "    <tr>\n",
              "      <th>34100</th>\n",
              "      <td>5000.0</td>\n",
              "      <td>4.0</td>\n",
              "      <td>3</td>\n",
              "      <td>Furnished</td>\n",
              "      <td>Mount Mary</td>\n",
              "      <td>750000</td>\n",
              "      <td>Agent</td>\n",
              "      <td>150.000000</td>\n",
              "    </tr>\n",
              "    <tr>\n",
              "      <th>34101</th>\n",
              "      <td>5000.0</td>\n",
              "      <td>4.0</td>\n",
              "      <td>3</td>\n",
              "      <td>Furnished</td>\n",
              "      <td>Bandra West</td>\n",
              "      <td>750000</td>\n",
              "      <td>Agent</td>\n",
              "      <td>150.000000</td>\n",
              "    </tr>\n",
              "    <tr>\n",
              "      <th>34347</th>\n",
              "      <td>1100.0</td>\n",
              "      <td>2.0</td>\n",
              "      <td>2</td>\n",
              "      <td>Unfurnished</td>\n",
              "      <td>Bandra West</td>\n",
              "      <td>1200000</td>\n",
              "      <td>Agent</td>\n",
              "      <td>1090.909091</td>\n",
              "    </tr>\n",
              "  </tbody>\n",
              "</table>\n",
              "<p>2752 rows × 8 columns</p>\n",
              "</div>"
            ],
            "text/plain": [
              "         area  bathroom_num  bedroom_num  ...    price user_type  price_per_sqft\n",
              "980    2100.0           4.0            4  ...   155000     Agent       73.809524\n",
              "1030   2400.0           5.0            4  ...   155000     Agent       64.583333\n",
              "1075   3500.0           5.0            4  ...   155000     Agent       44.285714\n",
              "1088   2550.0           4.0            4  ...   155000     Agent       60.784314\n",
              "1140   2870.0           4.0            4  ...   155000     Agent       54.006969\n",
              "...       ...           ...          ...  ...      ...       ...             ...\n",
              "34098  2500.0           3.0            3  ...   675000     Agent      270.000000\n",
              "34099  4000.0           4.0            3  ...   725000     Agent      181.250000\n",
              "34100  5000.0           4.0            3  ...   750000     Agent      150.000000\n",
              "34101  5000.0           4.0            3  ...   750000     Agent      150.000000\n",
              "34347  1100.0           2.0            2  ...  1200000     Agent     1090.909091\n",
              "\n",
              "[2752 rows x 8 columns]"
            ]
          },
          "metadata": {
            "tags": []
          },
          "execution_count": 140
        }
      ]
    },
    {
      "cell_type": "code",
      "metadata": {
        "id": "WdBDEX4Vr64h",
        "outputId": "3fe1a23e-c13a-456b-dc10-9ea6b36af755",
        "colab": {
          "base_uri": "https://localhost:8080/",
          "height": 194
        }
      },
      "source": [
        "df3 = df[df['price'] < Upper_range]\r\n",
        "df3.head()"
      ],
      "execution_count": 141,
      "outputs": [
        {
          "output_type": "execute_result",
          "data": {
            "text/html": [
              "<div>\n",
              "<style scoped>\n",
              "    .dataframe tbody tr th:only-of-type {\n",
              "        vertical-align: middle;\n",
              "    }\n",
              "\n",
              "    .dataframe tbody tr th {\n",
              "        vertical-align: top;\n",
              "    }\n",
              "\n",
              "    .dataframe thead th {\n",
              "        text-align: right;\n",
              "    }\n",
              "</style>\n",
              "<table border=\"1\" class=\"dataframe\">\n",
              "  <thead>\n",
              "    <tr style=\"text-align: right;\">\n",
              "      <th></th>\n",
              "      <th>area</th>\n",
              "      <th>bathroom_num</th>\n",
              "      <th>bedroom_num</th>\n",
              "      <th>furnishing</th>\n",
              "      <th>locality</th>\n",
              "      <th>price</th>\n",
              "      <th>user_type</th>\n",
              "      <th>price_per_sqft</th>\n",
              "    </tr>\n",
              "  </thead>\n",
              "  <tbody>\n",
              "    <tr>\n",
              "      <th>0</th>\n",
              "      <td>350.0</td>\n",
              "      <td>2.0</td>\n",
              "      <td>1</td>\n",
              "      <td>Unfurnished</td>\n",
              "      <td>Malad West</td>\n",
              "      <td>9000</td>\n",
              "      <td>Agent</td>\n",
              "      <td>25.714286</td>\n",
              "    </tr>\n",
              "    <tr>\n",
              "      <th>1</th>\n",
              "      <td>652.0</td>\n",
              "      <td>2.0</td>\n",
              "      <td>1</td>\n",
              "      <td>Semi-Furnished</td>\n",
              "      <td>Vasai</td>\n",
              "      <td>8060</td>\n",
              "      <td>Agent</td>\n",
              "      <td>12.361963</td>\n",
              "    </tr>\n",
              "    <tr>\n",
              "      <th>2</th>\n",
              "      <td>635.0</td>\n",
              "      <td>2.0</td>\n",
              "      <td>1</td>\n",
              "      <td>Semi-Furnished</td>\n",
              "      <td>Virar</td>\n",
              "      <td>8000</td>\n",
              "      <td>Agent</td>\n",
              "      <td>12.598425</td>\n",
              "    </tr>\n",
              "    <tr>\n",
              "      <th>3</th>\n",
              "      <td>540.0</td>\n",
              "      <td>2.0</td>\n",
              "      <td>1</td>\n",
              "      <td>Semi-Furnished</td>\n",
              "      <td>Vasai East</td>\n",
              "      <td>8000</td>\n",
              "      <td>Agent</td>\n",
              "      <td>14.814815</td>\n",
              "    </tr>\n",
              "    <tr>\n",
              "      <th>4</th>\n",
              "      <td>625.0</td>\n",
              "      <td>1.0</td>\n",
              "      <td>1</td>\n",
              "      <td>Furnished</td>\n",
              "      <td>Naigaon East</td>\n",
              "      <td>9000</td>\n",
              "      <td>Owner</td>\n",
              "      <td>14.400000</td>\n",
              "    </tr>\n",
              "  </tbody>\n",
              "</table>\n",
              "</div>"
            ],
            "text/plain": [
              "    area  bathroom_num  bedroom_num  ... price user_type  price_per_sqft\n",
              "0  350.0           2.0            1  ...  9000     Agent       25.714286\n",
              "1  652.0           2.0            1  ...  8060     Agent       12.361963\n",
              "2  635.0           2.0            1  ...  8000     Agent       12.598425\n",
              "3  540.0           2.0            1  ...  8000     Agent       14.814815\n",
              "4  625.0           1.0            1  ...  9000     Owner       14.400000\n",
              "\n",
              "[5 rows x 8 columns]"
            ]
          },
          "metadata": {
            "tags": []
          },
          "execution_count": 141
        }
      ]
    },
    {
      "cell_type": "code",
      "metadata": {
        "id": "BGdGho_jtzDA",
        "outputId": "cff7ac8f-6c2d-4419-f058-9fe33112fdbe",
        "colab": {
          "base_uri": "https://localhost:8080/",
          "height": 194
        }
      },
      "source": [
        "df3.drop(['price_per_sqft','user_type'],axis=1, inplace=True)\r\n",
        "df3.head()"
      ],
      "execution_count": 142,
      "outputs": [
        {
          "output_type": "execute_result",
          "data": {
            "text/html": [
              "<div>\n",
              "<style scoped>\n",
              "    .dataframe tbody tr th:only-of-type {\n",
              "        vertical-align: middle;\n",
              "    }\n",
              "\n",
              "    .dataframe tbody tr th {\n",
              "        vertical-align: top;\n",
              "    }\n",
              "\n",
              "    .dataframe thead th {\n",
              "        text-align: right;\n",
              "    }\n",
              "</style>\n",
              "<table border=\"1\" class=\"dataframe\">\n",
              "  <thead>\n",
              "    <tr style=\"text-align: right;\">\n",
              "      <th></th>\n",
              "      <th>area</th>\n",
              "      <th>bathroom_num</th>\n",
              "      <th>bedroom_num</th>\n",
              "      <th>furnishing</th>\n",
              "      <th>locality</th>\n",
              "      <th>price</th>\n",
              "    </tr>\n",
              "  </thead>\n",
              "  <tbody>\n",
              "    <tr>\n",
              "      <th>0</th>\n",
              "      <td>350.0</td>\n",
              "      <td>2.0</td>\n",
              "      <td>1</td>\n",
              "      <td>Unfurnished</td>\n",
              "      <td>Malad West</td>\n",
              "      <td>9000</td>\n",
              "    </tr>\n",
              "    <tr>\n",
              "      <th>1</th>\n",
              "      <td>652.0</td>\n",
              "      <td>2.0</td>\n",
              "      <td>1</td>\n",
              "      <td>Semi-Furnished</td>\n",
              "      <td>Vasai</td>\n",
              "      <td>8060</td>\n",
              "    </tr>\n",
              "    <tr>\n",
              "      <th>2</th>\n",
              "      <td>635.0</td>\n",
              "      <td>2.0</td>\n",
              "      <td>1</td>\n",
              "      <td>Semi-Furnished</td>\n",
              "      <td>Virar</td>\n",
              "      <td>8000</td>\n",
              "    </tr>\n",
              "    <tr>\n",
              "      <th>3</th>\n",
              "      <td>540.0</td>\n",
              "      <td>2.0</td>\n",
              "      <td>1</td>\n",
              "      <td>Semi-Furnished</td>\n",
              "      <td>Vasai East</td>\n",
              "      <td>8000</td>\n",
              "    </tr>\n",
              "    <tr>\n",
              "      <th>4</th>\n",
              "      <td>625.0</td>\n",
              "      <td>1.0</td>\n",
              "      <td>1</td>\n",
              "      <td>Furnished</td>\n",
              "      <td>Naigaon East</td>\n",
              "      <td>9000</td>\n",
              "    </tr>\n",
              "  </tbody>\n",
              "</table>\n",
              "</div>"
            ],
            "text/plain": [
              "    area  bathroom_num  bedroom_num      furnishing      locality  price\n",
              "0  350.0           2.0            1     Unfurnished    Malad West   9000\n",
              "1  652.0           2.0            1  Semi-Furnished         Vasai   8060\n",
              "2  635.0           2.0            1  Semi-Furnished         Virar   8000\n",
              "3  540.0           2.0            1  Semi-Furnished    Vasai East   8000\n",
              "4  625.0           1.0            1       Furnished  Naigaon East   9000"
            ]
          },
          "metadata": {
            "tags": []
          },
          "execution_count": 142
        }
      ]
    },
    {
      "cell_type": "code",
      "metadata": {
        "id": "lyJeDq9Wwymm",
        "outputId": "d8e3c0c8-df76-474b-cbeb-ec8e8e30828c",
        "colab": {
          "base_uri": "https://localhost:8080/",
          "height": 194
        }
      },
      "source": [
        "from sklearn.preprocessing import LabelEncoder\r\n",
        "le = LabelEncoder()\r\n",
        "df3['furnishing'] = le.fit_transform(df3['furnishing'])\r\n",
        "df3.head()"
      ],
      "execution_count": 143,
      "outputs": [
        {
          "output_type": "execute_result",
          "data": {
            "text/html": [
              "<div>\n",
              "<style scoped>\n",
              "    .dataframe tbody tr th:only-of-type {\n",
              "        vertical-align: middle;\n",
              "    }\n",
              "\n",
              "    .dataframe tbody tr th {\n",
              "        vertical-align: top;\n",
              "    }\n",
              "\n",
              "    .dataframe thead th {\n",
              "        text-align: right;\n",
              "    }\n",
              "</style>\n",
              "<table border=\"1\" class=\"dataframe\">\n",
              "  <thead>\n",
              "    <tr style=\"text-align: right;\">\n",
              "      <th></th>\n",
              "      <th>area</th>\n",
              "      <th>bathroom_num</th>\n",
              "      <th>bedroom_num</th>\n",
              "      <th>furnishing</th>\n",
              "      <th>locality</th>\n",
              "      <th>price</th>\n",
              "    </tr>\n",
              "  </thead>\n",
              "  <tbody>\n",
              "    <tr>\n",
              "      <th>0</th>\n",
              "      <td>350.0</td>\n",
              "      <td>2.0</td>\n",
              "      <td>1</td>\n",
              "      <td>2</td>\n",
              "      <td>Malad West</td>\n",
              "      <td>9000</td>\n",
              "    </tr>\n",
              "    <tr>\n",
              "      <th>1</th>\n",
              "      <td>652.0</td>\n",
              "      <td>2.0</td>\n",
              "      <td>1</td>\n",
              "      <td>1</td>\n",
              "      <td>Vasai</td>\n",
              "      <td>8060</td>\n",
              "    </tr>\n",
              "    <tr>\n",
              "      <th>2</th>\n",
              "      <td>635.0</td>\n",
              "      <td>2.0</td>\n",
              "      <td>1</td>\n",
              "      <td>1</td>\n",
              "      <td>Virar</td>\n",
              "      <td>8000</td>\n",
              "    </tr>\n",
              "    <tr>\n",
              "      <th>3</th>\n",
              "      <td>540.0</td>\n",
              "      <td>2.0</td>\n",
              "      <td>1</td>\n",
              "      <td>1</td>\n",
              "      <td>Vasai East</td>\n",
              "      <td>8000</td>\n",
              "    </tr>\n",
              "    <tr>\n",
              "      <th>4</th>\n",
              "      <td>625.0</td>\n",
              "      <td>1.0</td>\n",
              "      <td>1</td>\n",
              "      <td>0</td>\n",
              "      <td>Naigaon East</td>\n",
              "      <td>9000</td>\n",
              "    </tr>\n",
              "  </tbody>\n",
              "</table>\n",
              "</div>"
            ],
            "text/plain": [
              "    area  bathroom_num  bedroom_num  furnishing      locality  price\n",
              "0  350.0           2.0            1           2    Malad West   9000\n",
              "1  652.0           2.0            1           1         Vasai   8060\n",
              "2  635.0           2.0            1           1         Virar   8000\n",
              "3  540.0           2.0            1           1    Vasai East   8000\n",
              "4  625.0           1.0            1           0  Naigaon East   9000"
            ]
          },
          "metadata": {
            "tags": []
          },
          "execution_count": 143
        }
      ]
    },
    {
      "cell_type": "code",
      "metadata": {
        "id": "k1TCQG6uzzuF",
        "outputId": "ead0c052-ebc3-4ffb-e0e0-1cfc2a4a2aae",
        "colab": {
          "base_uri": "https://localhost:8080/"
        }
      },
      "source": [
        "df3.isnull().sum()"
      ],
      "execution_count": 154,
      "outputs": [
        {
          "output_type": "execute_result",
          "data": {
            "text/plain": [
              "area            0\n",
              "bathroom_num    0\n",
              "bedroom_num     0\n",
              "furnishing      0\n",
              "locality        0\n",
              "price           0\n",
              "dtype: int64"
            ]
          },
          "metadata": {
            "tags": []
          },
          "execution_count": 154
        }
      ]
    },
    {
      "cell_type": "code",
      "metadata": {
        "id": "PFuleQawjpQK",
        "outputId": "bf8e435b-0a8c-41c1-cc47-a72893c67892",
        "colab": {
          "base_uri": "https://localhost:8080/",
          "height": 311
        }
      },
      "source": [
        "dummies = pd.get_dummies(df['locality'])\r\n",
        "dummies.head()"
      ],
      "execution_count": 144,
      "outputs": [
        {
          "output_type": "execute_result",
          "data": {
            "text/html": [
              "<div>\n",
              "<style scoped>\n",
              "    .dataframe tbody tr th:only-of-type {\n",
              "        vertical-align: middle;\n",
              "    }\n",
              "\n",
              "    .dataframe tbody tr th {\n",
              "        vertical-align: top;\n",
              "    }\n",
              "\n",
              "    .dataframe thead th {\n",
              "        text-align: right;\n",
              "    }\n",
              "</style>\n",
              "<table border=\"1\" class=\"dataframe\">\n",
              "  <thead>\n",
              "    <tr style=\"text-align: right;\">\n",
              "      <th></th>\n",
              "      <th>4 Bunglows</th>\n",
              "      <th>AAI Residential Complex</th>\n",
              "      <th>Aarey Milk Colony</th>\n",
              "      <th>Abhinav Nagar</th>\n",
              "      <th>Abhishek Nagar</th>\n",
              "      <th>Abhyudaya Nagar</th>\n",
              "      <th>Acharya A Maharaj Chowk</th>\n",
              "      <th>Acharya Nagar</th>\n",
              "      <th>Acharya Tulsi Chowk</th>\n",
              "      <th>Adarsh Nagar</th>\n",
              "      <th>Adv RD Kowte Chowk</th>\n",
              "      <th>Advocate Devarshi N Khuman Chowk</th>\n",
              "      <th>Agari Pada</th>\n",
              "      <th>Agarkar Chowk</th>\n",
              "      <th>Agripada</th>\n",
              "      <th>Ahimsa Nagar</th>\n",
              "      <th>Air India Colony</th>\n",
              "      <th>Air India Staff Colony 2</th>\n",
              "      <th>Aksa Gaon</th>\n",
              "      <th>Akurli Nagar</th>\n",
              "      <th>Alika Nagar</th>\n",
              "      <th>Altamount Road</th>\n",
              "      <th>Amar Mahal Junction</th>\n",
              "      <th>Amar Nagar</th>\n",
              "      <th>Ambedkar Garden</th>\n",
              "      <th>Ambedkar Nagar</th>\n",
              "      <th>Ambernath</th>\n",
              "      <th>Ambewadi</th>\n",
              "      <th>Amboli</th>\n",
              "      <th>Amit Nagar</th>\n",
              "      <th>Amrut Nagar</th>\n",
              "      <th>Anand Nagar</th>\n",
              "      <th>Andheri</th>\n",
              "      <th>Andheri East</th>\n",
              "      <th>Andheri Kurla Road</th>\n",
              "      <th>Andheri Link Road</th>\n",
              "      <th>Andheri West</th>\n",
              "      <th>Antop Hill</th>\n",
              "      <th>Anushakti Colony</th>\n",
              "      <th>Architect Vidyadhar Mhatre Chowk</th>\n",
              "      <th>...</th>\n",
              "      <th>Vile Parle East</th>\n",
              "      <th>Vile Parle West</th>\n",
              "      <th>Vinay Nagar</th>\n",
              "      <th>Vini Garden</th>\n",
              "      <th>Virar</th>\n",
              "      <th>Virar East</th>\n",
              "      <th>Virar West</th>\n",
              "      <th>Virat Nagar</th>\n",
              "      <th>Vishveshwar Nagar</th>\n",
              "      <th>Vishwakarma Nagar</th>\n",
              "      <th>Vithal Wadi</th>\n",
              "      <th>Vithaldas Nagar</th>\n",
              "      <th>Viva College Road</th>\n",
              "      <th>Vivekanand Colony</th>\n",
              "      <th>Vrindavan</th>\n",
              "      <th>Wadala</th>\n",
              "      <th>Wadala East</th>\n",
              "      <th>Wadala West</th>\n",
              "      <th>Wadia Baug</th>\n",
              "      <th>Walkeshwar</th>\n",
              "      <th>Warden Road</th>\n",
              "      <th>Water Field Road</th>\n",
              "      <th>Waterfield Road</th>\n",
              "      <th>Western Express Hwy</th>\n",
              "      <th>Willingdon Colony</th>\n",
              "      <th>World Trade Centre</th>\n",
              "      <th>Worli</th>\n",
              "      <th>Worli Hill</th>\n",
              "      <th>Worli Naka Acharaya Atre Chowk</th>\n",
              "      <th>Worli Sea Face</th>\n",
              "      <th>Worli Tip</th>\n",
              "      <th>Y K Nagar</th>\n",
              "      <th>Yari Road</th>\n",
              "      <th>Yashavant Nagar</th>\n",
              "      <th>Yashwant Nagar</th>\n",
              "      <th>Yeshodham</th>\n",
              "      <th>Yeshwant Nagar</th>\n",
              "      <th>Yogi Jayraj Nagar</th>\n",
              "      <th>Yogi Nagar</th>\n",
              "      <th>Zeezamata Nagar</th>\n",
              "    </tr>\n",
              "  </thead>\n",
              "  <tbody>\n",
              "    <tr>\n",
              "      <th>0</th>\n",
              "      <td>0</td>\n",
              "      <td>0</td>\n",
              "      <td>0</td>\n",
              "      <td>0</td>\n",
              "      <td>0</td>\n",
              "      <td>0</td>\n",
              "      <td>0</td>\n",
              "      <td>0</td>\n",
              "      <td>0</td>\n",
              "      <td>0</td>\n",
              "      <td>0</td>\n",
              "      <td>0</td>\n",
              "      <td>0</td>\n",
              "      <td>0</td>\n",
              "      <td>0</td>\n",
              "      <td>0</td>\n",
              "      <td>0</td>\n",
              "      <td>0</td>\n",
              "      <td>0</td>\n",
              "      <td>0</td>\n",
              "      <td>0</td>\n",
              "      <td>0</td>\n",
              "      <td>0</td>\n",
              "      <td>0</td>\n",
              "      <td>0</td>\n",
              "      <td>0</td>\n",
              "      <td>0</td>\n",
              "      <td>0</td>\n",
              "      <td>0</td>\n",
              "      <td>0</td>\n",
              "      <td>0</td>\n",
              "      <td>0</td>\n",
              "      <td>0</td>\n",
              "      <td>0</td>\n",
              "      <td>0</td>\n",
              "      <td>0</td>\n",
              "      <td>0</td>\n",
              "      <td>0</td>\n",
              "      <td>0</td>\n",
              "      <td>0</td>\n",
              "      <td>...</td>\n",
              "      <td>0</td>\n",
              "      <td>0</td>\n",
              "      <td>0</td>\n",
              "      <td>0</td>\n",
              "      <td>0</td>\n",
              "      <td>0</td>\n",
              "      <td>0</td>\n",
              "      <td>0</td>\n",
              "      <td>0</td>\n",
              "      <td>0</td>\n",
              "      <td>0</td>\n",
              "      <td>0</td>\n",
              "      <td>0</td>\n",
              "      <td>0</td>\n",
              "      <td>0</td>\n",
              "      <td>0</td>\n",
              "      <td>0</td>\n",
              "      <td>0</td>\n",
              "      <td>0</td>\n",
              "      <td>0</td>\n",
              "      <td>0</td>\n",
              "      <td>0</td>\n",
              "      <td>0</td>\n",
              "      <td>0</td>\n",
              "      <td>0</td>\n",
              "      <td>0</td>\n",
              "      <td>0</td>\n",
              "      <td>0</td>\n",
              "      <td>0</td>\n",
              "      <td>0</td>\n",
              "      <td>0</td>\n",
              "      <td>0</td>\n",
              "      <td>0</td>\n",
              "      <td>0</td>\n",
              "      <td>0</td>\n",
              "      <td>0</td>\n",
              "      <td>0</td>\n",
              "      <td>0</td>\n",
              "      <td>0</td>\n",
              "      <td>0</td>\n",
              "    </tr>\n",
              "    <tr>\n",
              "      <th>1</th>\n",
              "      <td>0</td>\n",
              "      <td>0</td>\n",
              "      <td>0</td>\n",
              "      <td>0</td>\n",
              "      <td>0</td>\n",
              "      <td>0</td>\n",
              "      <td>0</td>\n",
              "      <td>0</td>\n",
              "      <td>0</td>\n",
              "      <td>0</td>\n",
              "      <td>0</td>\n",
              "      <td>0</td>\n",
              "      <td>0</td>\n",
              "      <td>0</td>\n",
              "      <td>0</td>\n",
              "      <td>0</td>\n",
              "      <td>0</td>\n",
              "      <td>0</td>\n",
              "      <td>0</td>\n",
              "      <td>0</td>\n",
              "      <td>0</td>\n",
              "      <td>0</td>\n",
              "      <td>0</td>\n",
              "      <td>0</td>\n",
              "      <td>0</td>\n",
              "      <td>0</td>\n",
              "      <td>0</td>\n",
              "      <td>0</td>\n",
              "      <td>0</td>\n",
              "      <td>0</td>\n",
              "      <td>0</td>\n",
              "      <td>0</td>\n",
              "      <td>0</td>\n",
              "      <td>0</td>\n",
              "      <td>0</td>\n",
              "      <td>0</td>\n",
              "      <td>0</td>\n",
              "      <td>0</td>\n",
              "      <td>0</td>\n",
              "      <td>0</td>\n",
              "      <td>...</td>\n",
              "      <td>0</td>\n",
              "      <td>0</td>\n",
              "      <td>0</td>\n",
              "      <td>0</td>\n",
              "      <td>0</td>\n",
              "      <td>0</td>\n",
              "      <td>0</td>\n",
              "      <td>0</td>\n",
              "      <td>0</td>\n",
              "      <td>0</td>\n",
              "      <td>0</td>\n",
              "      <td>0</td>\n",
              "      <td>0</td>\n",
              "      <td>0</td>\n",
              "      <td>0</td>\n",
              "      <td>0</td>\n",
              "      <td>0</td>\n",
              "      <td>0</td>\n",
              "      <td>0</td>\n",
              "      <td>0</td>\n",
              "      <td>0</td>\n",
              "      <td>0</td>\n",
              "      <td>0</td>\n",
              "      <td>0</td>\n",
              "      <td>0</td>\n",
              "      <td>0</td>\n",
              "      <td>0</td>\n",
              "      <td>0</td>\n",
              "      <td>0</td>\n",
              "      <td>0</td>\n",
              "      <td>0</td>\n",
              "      <td>0</td>\n",
              "      <td>0</td>\n",
              "      <td>0</td>\n",
              "      <td>0</td>\n",
              "      <td>0</td>\n",
              "      <td>0</td>\n",
              "      <td>0</td>\n",
              "      <td>0</td>\n",
              "      <td>0</td>\n",
              "    </tr>\n",
              "    <tr>\n",
              "      <th>2</th>\n",
              "      <td>0</td>\n",
              "      <td>0</td>\n",
              "      <td>0</td>\n",
              "      <td>0</td>\n",
              "      <td>0</td>\n",
              "      <td>0</td>\n",
              "      <td>0</td>\n",
              "      <td>0</td>\n",
              "      <td>0</td>\n",
              "      <td>0</td>\n",
              "      <td>0</td>\n",
              "      <td>0</td>\n",
              "      <td>0</td>\n",
              "      <td>0</td>\n",
              "      <td>0</td>\n",
              "      <td>0</td>\n",
              "      <td>0</td>\n",
              "      <td>0</td>\n",
              "      <td>0</td>\n",
              "      <td>0</td>\n",
              "      <td>0</td>\n",
              "      <td>0</td>\n",
              "      <td>0</td>\n",
              "      <td>0</td>\n",
              "      <td>0</td>\n",
              "      <td>0</td>\n",
              "      <td>0</td>\n",
              "      <td>0</td>\n",
              "      <td>0</td>\n",
              "      <td>0</td>\n",
              "      <td>0</td>\n",
              "      <td>0</td>\n",
              "      <td>0</td>\n",
              "      <td>0</td>\n",
              "      <td>0</td>\n",
              "      <td>0</td>\n",
              "      <td>0</td>\n",
              "      <td>0</td>\n",
              "      <td>0</td>\n",
              "      <td>0</td>\n",
              "      <td>...</td>\n",
              "      <td>0</td>\n",
              "      <td>0</td>\n",
              "      <td>0</td>\n",
              "      <td>0</td>\n",
              "      <td>1</td>\n",
              "      <td>0</td>\n",
              "      <td>0</td>\n",
              "      <td>0</td>\n",
              "      <td>0</td>\n",
              "      <td>0</td>\n",
              "      <td>0</td>\n",
              "      <td>0</td>\n",
              "      <td>0</td>\n",
              "      <td>0</td>\n",
              "      <td>0</td>\n",
              "      <td>0</td>\n",
              "      <td>0</td>\n",
              "      <td>0</td>\n",
              "      <td>0</td>\n",
              "      <td>0</td>\n",
              "      <td>0</td>\n",
              "      <td>0</td>\n",
              "      <td>0</td>\n",
              "      <td>0</td>\n",
              "      <td>0</td>\n",
              "      <td>0</td>\n",
              "      <td>0</td>\n",
              "      <td>0</td>\n",
              "      <td>0</td>\n",
              "      <td>0</td>\n",
              "      <td>0</td>\n",
              "      <td>0</td>\n",
              "      <td>0</td>\n",
              "      <td>0</td>\n",
              "      <td>0</td>\n",
              "      <td>0</td>\n",
              "      <td>0</td>\n",
              "      <td>0</td>\n",
              "      <td>0</td>\n",
              "      <td>0</td>\n",
              "    </tr>\n",
              "    <tr>\n",
              "      <th>3</th>\n",
              "      <td>0</td>\n",
              "      <td>0</td>\n",
              "      <td>0</td>\n",
              "      <td>0</td>\n",
              "      <td>0</td>\n",
              "      <td>0</td>\n",
              "      <td>0</td>\n",
              "      <td>0</td>\n",
              "      <td>0</td>\n",
              "      <td>0</td>\n",
              "      <td>0</td>\n",
              "      <td>0</td>\n",
              "      <td>0</td>\n",
              "      <td>0</td>\n",
              "      <td>0</td>\n",
              "      <td>0</td>\n",
              "      <td>0</td>\n",
              "      <td>0</td>\n",
              "      <td>0</td>\n",
              "      <td>0</td>\n",
              "      <td>0</td>\n",
              "      <td>0</td>\n",
              "      <td>0</td>\n",
              "      <td>0</td>\n",
              "      <td>0</td>\n",
              "      <td>0</td>\n",
              "      <td>0</td>\n",
              "      <td>0</td>\n",
              "      <td>0</td>\n",
              "      <td>0</td>\n",
              "      <td>0</td>\n",
              "      <td>0</td>\n",
              "      <td>0</td>\n",
              "      <td>0</td>\n",
              "      <td>0</td>\n",
              "      <td>0</td>\n",
              "      <td>0</td>\n",
              "      <td>0</td>\n",
              "      <td>0</td>\n",
              "      <td>0</td>\n",
              "      <td>...</td>\n",
              "      <td>0</td>\n",
              "      <td>0</td>\n",
              "      <td>0</td>\n",
              "      <td>0</td>\n",
              "      <td>0</td>\n",
              "      <td>0</td>\n",
              "      <td>0</td>\n",
              "      <td>0</td>\n",
              "      <td>0</td>\n",
              "      <td>0</td>\n",
              "      <td>0</td>\n",
              "      <td>0</td>\n",
              "      <td>0</td>\n",
              "      <td>0</td>\n",
              "      <td>0</td>\n",
              "      <td>0</td>\n",
              "      <td>0</td>\n",
              "      <td>0</td>\n",
              "      <td>0</td>\n",
              "      <td>0</td>\n",
              "      <td>0</td>\n",
              "      <td>0</td>\n",
              "      <td>0</td>\n",
              "      <td>0</td>\n",
              "      <td>0</td>\n",
              "      <td>0</td>\n",
              "      <td>0</td>\n",
              "      <td>0</td>\n",
              "      <td>0</td>\n",
              "      <td>0</td>\n",
              "      <td>0</td>\n",
              "      <td>0</td>\n",
              "      <td>0</td>\n",
              "      <td>0</td>\n",
              "      <td>0</td>\n",
              "      <td>0</td>\n",
              "      <td>0</td>\n",
              "      <td>0</td>\n",
              "      <td>0</td>\n",
              "      <td>0</td>\n",
              "    </tr>\n",
              "    <tr>\n",
              "      <th>4</th>\n",
              "      <td>0</td>\n",
              "      <td>0</td>\n",
              "      <td>0</td>\n",
              "      <td>0</td>\n",
              "      <td>0</td>\n",
              "      <td>0</td>\n",
              "      <td>0</td>\n",
              "      <td>0</td>\n",
              "      <td>0</td>\n",
              "      <td>0</td>\n",
              "      <td>0</td>\n",
              "      <td>0</td>\n",
              "      <td>0</td>\n",
              "      <td>0</td>\n",
              "      <td>0</td>\n",
              "      <td>0</td>\n",
              "      <td>0</td>\n",
              "      <td>0</td>\n",
              "      <td>0</td>\n",
              "      <td>0</td>\n",
              "      <td>0</td>\n",
              "      <td>0</td>\n",
              "      <td>0</td>\n",
              "      <td>0</td>\n",
              "      <td>0</td>\n",
              "      <td>0</td>\n",
              "      <td>0</td>\n",
              "      <td>0</td>\n",
              "      <td>0</td>\n",
              "      <td>0</td>\n",
              "      <td>0</td>\n",
              "      <td>0</td>\n",
              "      <td>0</td>\n",
              "      <td>0</td>\n",
              "      <td>0</td>\n",
              "      <td>0</td>\n",
              "      <td>0</td>\n",
              "      <td>0</td>\n",
              "      <td>0</td>\n",
              "      <td>0</td>\n",
              "      <td>...</td>\n",
              "      <td>0</td>\n",
              "      <td>0</td>\n",
              "      <td>0</td>\n",
              "      <td>0</td>\n",
              "      <td>0</td>\n",
              "      <td>0</td>\n",
              "      <td>0</td>\n",
              "      <td>0</td>\n",
              "      <td>0</td>\n",
              "      <td>0</td>\n",
              "      <td>0</td>\n",
              "      <td>0</td>\n",
              "      <td>0</td>\n",
              "      <td>0</td>\n",
              "      <td>0</td>\n",
              "      <td>0</td>\n",
              "      <td>0</td>\n",
              "      <td>0</td>\n",
              "      <td>0</td>\n",
              "      <td>0</td>\n",
              "      <td>0</td>\n",
              "      <td>0</td>\n",
              "      <td>0</td>\n",
              "      <td>0</td>\n",
              "      <td>0</td>\n",
              "      <td>0</td>\n",
              "      <td>0</td>\n",
              "      <td>0</td>\n",
              "      <td>0</td>\n",
              "      <td>0</td>\n",
              "      <td>0</td>\n",
              "      <td>0</td>\n",
              "      <td>0</td>\n",
              "      <td>0</td>\n",
              "      <td>0</td>\n",
              "      <td>0</td>\n",
              "      <td>0</td>\n",
              "      <td>0</td>\n",
              "      <td>0</td>\n",
              "      <td>0</td>\n",
              "    </tr>\n",
              "  </tbody>\n",
              "</table>\n",
              "<p>5 rows × 821 columns</p>\n",
              "</div>"
            ],
            "text/plain": [
              "   4 Bunglows  AAI Residential Complex  ...  Yogi Nagar  Zeezamata Nagar\n",
              "0           0                        0  ...           0                0\n",
              "1           0                        0  ...           0                0\n",
              "2           0                        0  ...           0                0\n",
              "3           0                        0  ...           0                0\n",
              "4           0                        0  ...           0                0\n",
              "\n",
              "[5 rows x 821 columns]"
            ]
          },
          "metadata": {
            "tags": []
          },
          "execution_count": 144
        }
      ]
    },
    {
      "cell_type": "code",
      "metadata": {
        "id": "Abx_3Xlsj-0Z",
        "outputId": "3f795775-c494-4a8e-ca68-71c2af4fb219",
        "colab": {
          "base_uri": "https://localhost:8080/",
          "height": 194
        }
      },
      "source": [
        "df_new = pd.concat([df3],axis=1)\r\n",
        "df_new.head()"
      ],
      "execution_count": 161,
      "outputs": [
        {
          "output_type": "execute_result",
          "data": {
            "text/html": [
              "<div>\n",
              "<style scoped>\n",
              "    .dataframe tbody tr th:only-of-type {\n",
              "        vertical-align: middle;\n",
              "    }\n",
              "\n",
              "    .dataframe tbody tr th {\n",
              "        vertical-align: top;\n",
              "    }\n",
              "\n",
              "    .dataframe thead th {\n",
              "        text-align: right;\n",
              "    }\n",
              "</style>\n",
              "<table border=\"1\" class=\"dataframe\">\n",
              "  <thead>\n",
              "    <tr style=\"text-align: right;\">\n",
              "      <th></th>\n",
              "      <th>area</th>\n",
              "      <th>bathroom_num</th>\n",
              "      <th>bedroom_num</th>\n",
              "      <th>furnishing</th>\n",
              "      <th>locality</th>\n",
              "      <th>price</th>\n",
              "    </tr>\n",
              "  </thead>\n",
              "  <tbody>\n",
              "    <tr>\n",
              "      <th>0</th>\n",
              "      <td>350.0</td>\n",
              "      <td>2.0</td>\n",
              "      <td>1</td>\n",
              "      <td>2</td>\n",
              "      <td>Malad West</td>\n",
              "      <td>9000</td>\n",
              "    </tr>\n",
              "    <tr>\n",
              "      <th>1</th>\n",
              "      <td>652.0</td>\n",
              "      <td>2.0</td>\n",
              "      <td>1</td>\n",
              "      <td>1</td>\n",
              "      <td>Vasai</td>\n",
              "      <td>8060</td>\n",
              "    </tr>\n",
              "    <tr>\n",
              "      <th>2</th>\n",
              "      <td>635.0</td>\n",
              "      <td>2.0</td>\n",
              "      <td>1</td>\n",
              "      <td>1</td>\n",
              "      <td>Virar</td>\n",
              "      <td>8000</td>\n",
              "    </tr>\n",
              "    <tr>\n",
              "      <th>3</th>\n",
              "      <td>540.0</td>\n",
              "      <td>2.0</td>\n",
              "      <td>1</td>\n",
              "      <td>1</td>\n",
              "      <td>Vasai East</td>\n",
              "      <td>8000</td>\n",
              "    </tr>\n",
              "    <tr>\n",
              "      <th>4</th>\n",
              "      <td>625.0</td>\n",
              "      <td>1.0</td>\n",
              "      <td>1</td>\n",
              "      <td>0</td>\n",
              "      <td>Naigaon East</td>\n",
              "      <td>9000</td>\n",
              "    </tr>\n",
              "  </tbody>\n",
              "</table>\n",
              "</div>"
            ],
            "text/plain": [
              "    area  bathroom_num  bedroom_num  furnishing      locality  price\n",
              "0  350.0           2.0            1           2    Malad West   9000\n",
              "1  652.0           2.0            1           1         Vasai   8060\n",
              "2  635.0           2.0            1           1         Virar   8000\n",
              "3  540.0           2.0            1           1    Vasai East   8000\n",
              "4  625.0           1.0            1           0  Naigaon East   9000"
            ]
          },
          "metadata": {
            "tags": []
          },
          "execution_count": 161
        }
      ]
    },
    {
      "cell_type": "code",
      "metadata": {
        "id": "_9VhvGroypO6",
        "outputId": "de8e855f-02c5-441b-dca5-c24acd0eb44c",
        "colab": {
          "base_uri": "https://localhost:8080/",
          "height": 194
        }
      },
      "source": [
        "df_new['locality'] = le.fit_transform(df_new['locality'])\r\n",
        "df_new.head()"
      ],
      "execution_count": 162,
      "outputs": [
        {
          "output_type": "execute_result",
          "data": {
            "text/html": [
              "<div>\n",
              "<style scoped>\n",
              "    .dataframe tbody tr th:only-of-type {\n",
              "        vertical-align: middle;\n",
              "    }\n",
              "\n",
              "    .dataframe tbody tr th {\n",
              "        vertical-align: top;\n",
              "    }\n",
              "\n",
              "    .dataframe thead th {\n",
              "        text-align: right;\n",
              "    }\n",
              "</style>\n",
              "<table border=\"1\" class=\"dataframe\">\n",
              "  <thead>\n",
              "    <tr style=\"text-align: right;\">\n",
              "      <th></th>\n",
              "      <th>area</th>\n",
              "      <th>bathroom_num</th>\n",
              "      <th>bedroom_num</th>\n",
              "      <th>furnishing</th>\n",
              "      <th>locality</th>\n",
              "      <th>price</th>\n",
              "    </tr>\n",
              "  </thead>\n",
              "  <tbody>\n",
              "    <tr>\n",
              "      <th>0</th>\n",
              "      <td>350.0</td>\n",
              "      <td>2.0</td>\n",
              "      <td>1</td>\n",
              "      <td>2</td>\n",
              "      <td>425</td>\n",
              "      <td>9000</td>\n",
              "    </tr>\n",
              "    <tr>\n",
              "      <th>1</th>\n",
              "      <td>652.0</td>\n",
              "      <td>2.0</td>\n",
              "      <td>1</td>\n",
              "      <td>1</td>\n",
              "      <td>727</td>\n",
              "      <td>8060</td>\n",
              "    </tr>\n",
              "    <tr>\n",
              "      <th>2</th>\n",
              "      <td>635.0</td>\n",
              "      <td>2.0</td>\n",
              "      <td>1</td>\n",
              "      <td>1</td>\n",
              "      <td>753</td>\n",
              "      <td>8000</td>\n",
              "    </tr>\n",
              "    <tr>\n",
              "      <th>3</th>\n",
              "      <td>540.0</td>\n",
              "      <td>2.0</td>\n",
              "      <td>1</td>\n",
              "      <td>1</td>\n",
              "      <td>728</td>\n",
              "      <td>8000</td>\n",
              "    </tr>\n",
              "    <tr>\n",
              "      <th>4</th>\n",
              "      <td>625.0</td>\n",
              "      <td>1.0</td>\n",
              "      <td>1</td>\n",
              "      <td>0</td>\n",
              "      <td>487</td>\n",
              "      <td>9000</td>\n",
              "    </tr>\n",
              "  </tbody>\n",
              "</table>\n",
              "</div>"
            ],
            "text/plain": [
              "    area  bathroom_num  bedroom_num  furnishing  locality  price\n",
              "0  350.0           2.0            1           2       425   9000\n",
              "1  652.0           2.0            1           1       727   8060\n",
              "2  635.0           2.0            1           1       753   8000\n",
              "3  540.0           2.0            1           1       728   8000\n",
              "4  625.0           1.0            1           0       487   9000"
            ]
          },
          "metadata": {
            "tags": []
          },
          "execution_count": 162
        }
      ]
    },
    {
      "cell_type": "code",
      "metadata": {
        "colab": {
          "base_uri": "https://localhost:8080/"
        },
        "id": "COaogxwpwzLH",
        "outputId": "a61d5541-74b8-427a-84de-2069a369c0a5"
      },
      "source": [
        "from sklearn.linear_model import LinearRegression\r\n",
        "from sklearn.model_selection import train_test_split\r\n",
        "from sklearn.metrics import r2_score, mean_squared_error\r\n",
        "\r\n",
        "lr = LinearRegression()\r\n",
        "\r\n",
        "x = df_new.drop(['price'], axis=1)\r\n",
        "y = df_new['price']\r\n",
        "x_train, x_test, y_train, y_test = train_test_split(x,y,test_size=0.25)\r\n",
        "\r\n",
        "lr.fit(x_train,y_train)\r\n",
        "y_predict = lr.predict(x_test)\r\n",
        "\r\n",
        "print(\"MSE = \", mean_squared_error(y_test, y_predict))\r\n",
        "print(\"R2_score: \",r2_score(y_test, y_predict))\r\n",
        "#print(x_test)\r\n",
        "#print(y_predict)"
      ],
      "execution_count": 170,
      "outputs": [
        {
          "output_type": "stream",
          "text": [
            "MSE =  516213201.25579864\n",
            "R2_score:  0.5260452540769894\n"
          ],
          "name": "stdout"
        }
      ]
    },
    {
      "cell_type": "code",
      "metadata": {
        "colab": {
          "base_uri": "https://localhost:8080/",
          "height": 552
        },
        "id": "OvB1j0XfwzJA",
        "outputId": "373f6cd2-3940-40ba-cdb5-433687cb4db2"
      },
      "source": [
        "# Correlation between independent variables test #Fail since dependent variables are correlated with each other. \r\n",
        "plt.figure(figsize=(8,8)) \r\n",
        "sns.heatmap(df_new.corr(), annot=True)\r\n",
        "plt.show()"
      ],
      "execution_count": 171,
      "outputs": [
        {
          "output_type": "display_data",
          "data": {
            "image/png": "[encoded data removed]",
            "text/plain": [
              "<Figure size 576x576 with 2 Axes>"
            ]
          },
          "metadata": {
            "tags": [],
            "needs_background": "light"
          }
        }
      ]
    },
    {
      "cell_type": "code",
      "metadata": {
        "colab": {
          "base_uri": "https://localhost:8080/"
        },
        "id": "wYozJLZXwzGZ",
        "outputId": "3ae62aea-0f92-409f-cd42-9da330d5caae"
      },
      "source": [
        "y_predict = lr.predict(x_test)\r\n",
        "y_predict_train = lr.predict(x_train)\r\n",
        "print(\"Bias = \", r2_score(y_train, y_predict_train))\r\n",
        "print(\"Variance = \", r2_score(y_test, y_predict))\r\n",
        "# Variance should be less than bias if its not then there is need for regularization. "
      ],
      "execution_count": 172,
      "outputs": [
        {
          "output_type": "stream",
          "text": [
            "Bias =  0.5178402587763307\n",
            "Variance =  0.5260452540769894\n"
          ],
          "name": "stdout"
        }
      ]
    },
    {
      "cell_type": "code",
      "metadata": {
        "colab": {
          "base_uri": "https://localhost:8080/",
          "height": 265
        },
        "id": "U6eU2PVDwzET",
        "outputId": "857e50ab-8224-481e-9ce4-c2e9a61b3d76"
      },
      "source": [
        "# The residuals are homoskedastial\r\n",
        "residuals = y_predict - y_test\r\n",
        "plt.scatter(y_test, residuals )\r\n",
        "plt.show()"
      ],
      "execution_count": 173,
      "outputs": [
        {
          "output_type": "display_data",
          "data": {
            "image/png": "[encoded data removed]",
            "text/plain": [
              "<Figure size 432x288 with 1 Axes>"
            ]
          },
          "metadata": {
            "tags": [],
            "needs_background": "light"
          }
        }
      ]
    },
    {
      "cell_type": "code",
      "metadata": {
        "colab": {
          "base_uri": "https://localhost:8080/",
          "height": 387
        },
        "id": "AN_3U6GswzCh",
        "outputId": "13302aef-1a31-4976-9d31-48c7fdea9378"
      },
      "source": [
        "# Checking if residuals are normally distributed\r\n",
        "print(\"Skew of residuals = \",skew(residuals))\r\n",
        "sns.displot(residuals)\r\n",
        "plt.show()\r\n",
        "\r\n",
        "#Since residuals are not normally distributed this test also fails. "
      ],
      "execution_count": 174,
      "outputs": [
        {
          "output_type": "stream",
          "text": [
            "Skew of residuals =  -1.0555524790050317\n"
          ],
          "name": "stdout"
        },
        {
          "output_type": "display_data",
          "data": {
            "image/png": "[encoded data removed]",
            "text/plain": [
              "<Figure size 360x360 with 1 Axes>"
            ]
          },
          "metadata": {
            "tags": [],
            "needs_background": "light"
          }
        }
      ]
    },
    {
      "cell_type": "code",
      "metadata": {
        "colab": {
          "base_uri": "https://localhost:8080/"
        },
        "id": "HDb1r0Rmwy_V",
        "outputId": "25fe8901-fa5b-4e65-8e58-e25dfc740e4d"
      },
      "source": [
        "from sklearn.preprocessing import PolynomialFeatures\r\n",
        "\r\n",
        "pf = PolynomialFeatures(degree=2)\r\n",
        "x1 = df_new.drop(['price'], axis=1)\r\n",
        "y1 = df_new['price']\r\n",
        "\r\n",
        "x_trn, x_tst, y_trn, y_tst = train_test_split(x1,y1, test_size=0.25)\r\n",
        "\r\n",
        "x_poly_trn2 = pf.fit_transform(x_trn)\r\n",
        "x_poly_tst2 = pf.fit_transform(x_tst)\r\n",
        "\r\n",
        "lr_poly2 = LinearRegression()\r\n",
        "lr_poly2.fit(x_poly_trn2, y_trn)\r\n",
        "\r\n",
        "y_pred_trn = lr_poly2.predict(x_poly_trn2)\r\n",
        "y_pred_tst = lr_poly2.predict(x_poly_tst2)\r\n",
        "\r\n",
        "print(\"Slope : {}\\n Intercept : {}\".format(lr_poly2.coef_,lr_poly2.intercept_))\r\n",
        "print(\"r2_score : {}\".format(lr_poly2.score(x_poly_tst2,y_tst)))"
      ],
      "execution_count": 178,
      "outputs": [
        {
          "output_type": "stream",
          "text": [
            "Slope : [ 0.00000000e+00  7.04917422e+01 -6.84488890e+03 -4.63092022e+03\n",
            " -7.54532596e+03 -4.37018876e+01 -3.23801062e-03 -4.61043894e+00\n",
            " -4.29919469e+00 -3.42706728e+00  1.61235651e-02 -4.02378309e+02\n",
            "  7.58543647e+03  8.09529895e+02 -3.99197792e+00 -1.45350807e+03\n",
            " -2.53562175e+02 -1.04187321e+00  1.10403315e+03 -6.58190315e-01\n",
            "  4.98544982e-02]\n",
            " Intercept : 16280.042743140162\n",
            "r2_score : 0.5367622842518136\n"
          ],
          "name": "stdout"
        }
      ]
    },
    {
      "cell_type": "code",
      "metadata": {
        "colab": {
          "base_uri": "https://localhost:8080/"
        },
        "id": "rVuT7wFQwy79",
        "outputId": "d163534a-abcb-4880-a090-31945de82cdf"
      },
      "source": [
        "residuals_poly = y_pred_tst - y_tst\r\n",
        "bias = r2_score(y_trn, y_pred_trn)\r\n",
        "variance = r2_score(y_tst, y_pred_tst)\r\n",
        "print(\"Bias = {}\\n Variance = {}\".format(bias, variance))"
      ],
      "execution_count": 181,
      "outputs": [
        {
          "output_type": "stream",
          "text": [
            "Bias = 0.5397888977186837\n",
            " Variance = 0.5367622842518136\n"
          ],
          "name": "stdout"
        }
      ]
    },
    {
      "cell_type": "code",
      "metadata": {
        "colab": {
          "base_uri": "https://localhost:8080/",
          "height": 784
        },
        "id": "q2KAe4fbwy5g",
        "outputId": "020403b7-ada0-40ad-8a8d-cd2dff95e3e7"
      },
      "source": [
        "#Multi-correlation test failed\r\n",
        "#Normal distribution test failed\r\n",
        "#Homoskedatial pass\r\n",
        "fig, axes = plt.subplots(2,2, figsize=(12,12))\r\n",
        "print(\"Skew :\",skew(residuals))\r\n",
        "sns.heatmap(df_new.corr(), annot=True, linewidth=2, linecolor='black', ax=axes[1][0])\r\n",
        "sns.histplot(residuals_poly, ax=axes[0][1])\r\n",
        "sns.scatterplot(residuals_poly, y_tst, ax=axes[0][0])\r\n",
        "plt.show()"
      ],
      "execution_count": 182,
      "outputs": [
        {
          "output_type": "stream",
          "text": [
            "Skew : -1.0555524790050317\n"
          ],
          "name": "stdout"
        },
        {
          "output_type": "display_data",
          "data": {
            "image/png": "[encoded data removed]",
            "text/plain": [
              "<Figure size 864x864 with 5 Axes>"
            ]
          },
          "metadata": {
            "tags": [],
            "needs_background": "light"
          }
        }
      ]
    },
    {
      "cell_type": "code",
      "metadata": {
        "id": "J7qKZshdpB6b",
        "outputId": "97f1b410-de4b-43ed-a62a-c2351a189668",
        "colab": {
          "base_uri": "https://localhost:8080/"
        }
      },
      "source": [
        "from sklearn.preprocessing import PolynomialFeatures\r\n",
        "\r\n",
        "pf = PolynomialFeatures(degree=3)\r\n",
        "x1 = df_new.drop(['price'], axis=1)\r\n",
        "y1 = df_new['price']\r\n",
        "\r\n",
        "x_trn, x_tst, y_trn, y_tst = train_test_split(x1,y1, test_size=0.25)\r\n",
        "\r\n",
        "x_poly_trn3 = pf.fit_transform(x_trn)\r\n",
        "x_poly_tst3 = pf.fit_transform(x_tst)\r\n",
        "\r\n",
        "lr_poly3 = LinearRegression()\r\n",
        "lr_poly3.fit(x_poly_trn3, y_trn)\r\n",
        "\r\n",
        "y_pred_trn3 = lr_poly3.predict(x_poly_trn3)\r\n",
        "y_pred_tst3 = lr_poly3.predict(x_poly_tst3)\r\n",
        "\r\n",
        "print(\"Slope : {}\\n Intercept : {}\".format(lr_poly3.coef_,lr_poly3.intercept_))\r\n",
        "print(\"r2_score : {}\".format(lr_poly3.score(x_poly_tst3,y_tst)))\r\n",
        "\r\n",
        "residuals_poly3 = y_pred_tst3 - y_tst\r\n",
        "bias_poly_3 = r2_score(y_trn, y_pred_trn3)\r\n",
        "variance_poly_3 = r2_score(y_tst, y_pred_tst3)\r\n",
        "print(\"Bias = {}\\n Variance = {}\".format(bias_poly_3, variance_poly_3))"
      ],
      "execution_count": 202,
      "outputs": [
        {
          "output_type": "stream",
          "text": [
            "Slope : [-4.67940783e-03  3.17163722e+01 -2.81826594e+04  2.99512885e+04\n",
            " -8.65930208e+03  2.58215981e-01 -2.99451670e-03  1.06211675e+01\n",
            "  5.59646927e+00  4.57933519e+00  5.30922475e-02  1.56882690e+03\n",
            "  1.94488079e+04 -4.28538513e+02 -7.72784973e+00 -2.47248893e+04\n",
            " -3.33840931e+03 -2.92143185e+01 -4.57763007e+03  8.19912809e+00\n",
            " -2.94797295e-02 -1.19461683e-05  6.71281817e-03  1.17501838e-02\n",
            "  7.93938934e-03  1.47293169e-05 -4.20455374e+00  2.01191241e+00\n",
            " -6.95246722e+00 -2.83881855e-02 -1.14517043e+01  4.71207749e-01\n",
            "  2.10752143e-03 -4.99816305e+00 -7.09821455e-03 -1.39378517e-06\n",
            " -7.75987767e+02  3.95414827e+03  1.75752498e+03  1.76091478e+00\n",
            " -9.14850479e+03 -5.98040171e+02  1.47936102e+01  1.40660936e+03\n",
            " -3.44823051e+00  1.56075629e-03  9.16675488e+03  1.22348366e+03\n",
            " -9.60670230e+00 -5.68434525e+02  4.31216280e+00  3.43846519e-02\n",
            "  3.58571389e+03 -4.50261193e+00  9.07563303e-03 -3.69399822e-06]\n",
            " Intercept : 19801.46391451743\n",
            "r2_score : -0.19233565861381963\n",
            "Bias = 0.5559935803798339\n",
            " Variance = -0.19233565861381963\n"
          ],
          "name": "stdout"
        }
      ]
    },
    {
      "cell_type": "code",
      "metadata": {
        "id": "vHyUkSDPwyv-"
      },
      "source": [
        "from sklearn.neighbors import KNeighborsRegressor\r\n",
        "from sklearn.tree import DecisionTreeRegressor\r\n",
        "from sklearn import tree\r\n",
        "from sklearn.svm import LinearSVR, SVR"
      ],
      "execution_count": 203,
      "outputs": []
    },
    {
      "cell_type": "markdown",
      "metadata": {
        "id": "VC4pn2Y-xTZ8"
      },
      "source": [
        "**Decision Tree Regressor test**"
      ]
    },
    {
      "cell_type": "code",
      "metadata": {
        "colab": {
          "base_uri": "https://localhost:8080/",
          "height": 522
        },
        "id": "3eSLJ31axRxe",
        "outputId": "f38fa692-73fe-4534-86e8-5d9156a08b1d"
      },
      "source": [
        "x_train1, x_test1, y_train1, y_test1 = train_test_split(x1,y1, test_size=0.25)\r\n",
        "\r\n",
        "for i in range(1,15):\r\n",
        "  dtr = DecisionTreeRegressor(max_depth=i)\r\n",
        "  dtr.fit(x_train1, y_train1)\r\n",
        "  print(i, dtr.score(x_test1, y_test1))\r\n",
        "\r\n",
        "  tree.plot_tree(dtr.fit(x_train1, y_train1), feature_names=list(df), fontsize=10)\r\n",
        "# with max_depth as 6 we are getting the best results."
      ],
      "execution_count": 201,
      "outputs": [
        {
          "output_type": "stream",
          "text": [
            "1 0.34168873047127146\n",
            "2 0.4503768597900357\n",
            "3 0.4862338321165032\n",
            "4 0.5085792995360594\n",
            "5 0.5178453694694884\n",
            "6 0.5221191119383524\n",
            "7 0.5246597150813824\n",
            "8 0.5289119354415219\n",
            "9 0.5294975019366374\n",
            "10 0.5356846995648162\n",
            "11 0.5318925887304959\n",
            "12 0.5321280724383634\n",
            "13 0.5323416215211614\n",
            "14 0.5313637722230597\n"
          ],
          "name": "stdout"
        },
        {
          "output_type": "display_data",
          "data": {
            "image/png": "[encoded data removed]",
            "text/plain": [
              "<Figure size 432x288 with 1 Axes>"
            ]
          },
          "metadata": {
            "tags": [],
            "needs_background": "light"
          }
        }
      ]
    },
    {
      "cell_type": "code",
      "metadata": {
        "colab": {
          "base_uri": "https://localhost:8080/",
          "height": 1000
        },
        "id": "84TIHUtZxRvW",
        "outputId": "8ef2bf9b-f6a5-4ef1-863d-21fd6db04735"
      },
      "source": [
        "dt = DecisionTreeRegressor(splitter='best', max_depth=14, min_samples_split=2, min_samples_leaf=1)\r\n",
        "dt.fit(x_train1, y_train1)\r\n",
        "dt.score(x_test1, y_test1)\r\n",
        "y_pred = dt.predict(x_test1)\r\n",
        "tree.plot_tree(dtr.fit(x_train1, y_train1), feature_names=list(df), fontsize=10)"
      ],
      "execution_count": 204,
      "outputs": [
        {
          "output_type": "execute_result",
          "data": {
            "text/plain": [
              "[Text(172.12478716113952, 210.192, 'area <= 1197.5\\nmse = 1053699491.389\\nsamples = 22941\\nvalue = 54338.598'),\n",
              " Text(76.52354092392036, 195.696, 'area <= 698.0\\nmse = 508187910.721\\nsamples = 15139\\nvalue = 40349.296'),\n",
              " Text(26.902264395264364, 181.2, 'furnishing <= 0.5\\nmse = 230993867.706\\nsamples = 6299\\nvalue = 28790.42'),\n",
              " Text(7.977427519171264, 166.704, 'area <= 468.0\\nmse = 351388240.979\\nsamples = 1350\\nvalue = 38144.396'),\n",
              " Text(1.9781111260594646, 152.208, 'area <= 28.0\\nmse = 203910796.088\\nsamples = 195\\nvalue = 26455.256'),\n",
              " Text(1.005946454997982, 137.712, 'area <= 10.5\\nmse = 625000000.0\\nsamples = 2\\nvalue = 100000.0'),\n",
              " Text(0.8858334454459842, 123.216, 'mse = 0.0\\nsamples = 1\\nvalue = 75000.0'),\n",
              " Text(1.12605946454998, 123.216, 'mse = 0.0\\nsamples = 1\\nvalue = 125000.0'),\n",
              " Text(2.9502757971209475, 137.712, 'area <= 377.5\\nmse = 142916303.256\\nsamples = 193\\nvalue = 25693.135'),\n",
              " Text(1.3662854836539757, 123.216, 'area <= 253.0\\nmse = 81730426.188\\nsamples = 100\\nvalue = 21047.75'),\n",
              " Text(0.6005650477599893, 108.72, 'area <= 112.5\\nmse = 58459833.795\\nsamples = 19\\nvalue = 14973.684'),\n",
              " Text(0.4804520382079914, 94.22399999999999, 'mse = 0.0\\nsamples = 1\\nvalue = 30000.0'),\n",
              " Text(0.7206780573119871, 94.22399999999999, 'area <= 222.5\\nmse = 48466820.988\\nsamples = 18\\nvalue = 14138.889'),\n",
              " Text(0.36033902865599354, 79.72799999999998, 'area <= 210.0\\nmse = 9173469.388\\nsamples = 7\\nvalue = 16071.429'),\n",
              " Text(0.2402260191039957, 65.232, 'area <= 190.0\\nmse = 7701388.889\\nsamples = 6\\nvalue = 15416.667'),\n",
              " Text(0.12011300955199786, 50.73599999999999, 'mse = 6500000.0\\nsamples = 3\\nvalue = 17500.0'),\n",
              " Text(0.36033902865599354, 50.73599999999999, 'bathroom_num <= 2.0\\nmse = 222222.222\\nsamples = 3\\nvalue = 13333.333'),\n",
              " Text(0.2402260191039957, 36.23999999999998, 'mse = 250000.0\\nsamples = 2\\nvalue = 13500.0'),\n",
              " Text(0.4804520382079914, 36.23999999999998, 'mse = 0.0\\nsamples = 1\\nvalue = 13000.0'),\n",
              " Text(0.4804520382079914, 65.232, 'mse = 0.0\\nsamples = 1\\nvalue = 20000.0'),\n",
              " Text(1.0810170859679806, 79.72799999999998, 'area <= 249.5\\nmse = 69582644.628\\nsamples = 11\\nvalue = 12909.091'),\n",
              " Text(0.9609040764159829, 65.232, 'area <= 248.0\\nmse = 16555555.556\\nsamples = 6\\nvalue = 10833.333'),\n",
              " Text(0.840791066863985, 50.73599999999999, 'area <= 236.0\\nmse = 3200000.0\\nsamples = 5\\nvalue = 12500.0'),\n",
              " Text(0.7206780573119871, 36.23999999999998, 'mse = 4666666.667\\nsamples = 3\\nvalue = 13000.0'),\n",
              " Text(0.9609040764159829, 36.23999999999998, 'mse = 62500.0\\nsamples = 2\\nvalue = 11750.0'),\n",
              " Text(1.0810170859679806, 50.73599999999999, 'mse = 0.0\\nsamples = 1\\nvalue = 2500.0'),\n",
              " Text(1.2011300955199786, 65.232, 'mse = 121840000.0\\nsamples = 5\\nvalue = 15400.0'),\n",
              " Text(2.132005919547962, 108.72, 'area <= 305.0\\nmse = 76504746.99\\nsamples = 81\\nvalue = 22472.531'),\n",
              " Text(1.68158213372797, 94.22399999999999, 'area <= 290.0\\nmse = 75756875.0\\nsamples = 20\\nvalue = 26325.0'),\n",
              " Text(1.5614691241759722, 79.72799999999998, 'area <= 263.0\\nmse = 42622500.0\\nsamples = 10\\nvalue = 23550.0'),\n",
              " Text(1.4413561146239742, 65.232, 'mse = 0.0\\nsamples = 1\\nvalue = 35000.0'),\n",
              " Text(1.68158213372797, 65.232, 'area <= 272.5\\nmse = 31172839.506\\nsamples = 9\\nvalue = 22277.778'),\n",
              " Text(1.5614691241759722, 50.73599999999999, 'mse = 8222222.222\\nsamples = 3\\nvalue = 18666.667'),\n",
              " Text(1.801695143279968, 50.73599999999999, 'area <= 277.5\\nmse = 32868055.556\\nsamples = 6\\nvalue = 24083.333'),\n",
              " Text(1.68158213372797, 36.23999999999998, 'mse = 250000.0\\nsamples = 2\\nvalue = 28500.0'),\n",
              " Text(1.9218081528319657, 36.23999999999998, 'mse = 34546875.0\\nsamples = 4\\nvalue = 21875.0'),\n",
              " Text(1.801695143279968, 79.72799999999998, 'mse = 93490000.0\\nsamples = 10\\nvalue = 29100.0'),\n",
              " Text(2.582429705367954, 94.22399999999999, 'bedroom_num <= 1.5\\nmse = 70288445.982\\nsamples = 61\\nvalue = 21209.426'),\n",
              " Text(2.462316695815956, 79.72799999999998, 'area <= 315.0\\nmse = 67540218.576\\nsamples = 60\\nvalue = 21462.917'),\n",
              " Text(2.1620341719359613, 65.232, 'bathroom_num <= 1.5\\nmse = 27727430.556\\nsamples = 12\\nvalue = 18541.667'),\n",
              " Text(2.0419211623839635, 50.73599999999999, 'mse = 31172839.506\\nsamples = 9\\nvalue = 19722.222'),\n",
              " Text(2.2821471814879595, 50.73599999999999, 'mse = 666666.667\\nsamples = 3\\nvalue = 15000.0'),\n",
              " Text(2.7625992196959506, 65.232, 'area <= 372.5\\nmse = 74826633.843\\nsamples = 48\\nvalue = 22193.229'),\n",
              " Text(2.522373200591955, 50.73599999999999, 'bathroom_num <= 1.5\\nmse = 77678372.769\\nsamples = 43\\nvalue = 22634.302'),\n",
              " Text(2.4022601910399572, 36.23999999999998, 'area <= 347.0\\nmse = 78691951.22\\nsamples = 41\\nvalue = 22275.0'),\n",
              " Text(2.1620341719359613, 21.744, 'area <= 341.0\\nmse = 86960519.031\\nsamples = 17\\nvalue = 20210.294'),\n",
              " Text(2.0419211623839635, 7.2479999999999905, 'mse = 100982388.393\\nsamples = 14\\nvalue = 21112.5'),\n",
              " Text(2.2821471814879595, 7.2479999999999905, 'mse = 0.0\\nsamples = 3\\nvalue = 16000.0'),\n",
              " Text(2.642486210143953, 21.744, 'area <= 367.5\\nmse = 67676510.417\\nsamples = 24\\nvalue = 23737.5'),\n",
              " Text(2.522373200591955, 7.2479999999999905, 'mse = 67521701.323\\nsamples = 23\\nvalue = 23378.261'),\n",
              " Text(2.7625992196959506, 7.2479999999999905, 'mse = 0.0\\nsamples = 1\\nvalue = 32000.0'),\n",
              " Text(2.642486210143953, 36.23999999999998, 'mse = 0.0\\nsamples = 2\\nvalue = 30000.0'),\n",
              " Text(3.0028252387999466, 50.73599999999999, 'bathroom_num <= 1.5\\nmse = 34240000.0\\nsamples = 5\\nvalue = 18400.0'),\n",
              " Text(2.8827122292479483, 36.23999999999998, 'mse = 42000000.0\\nsamples = 4\\nvalue = 18000.0'),\n",
              " Text(3.1229382483519443, 36.23999999999998, 'mse = 0.0\\nsamples = 1\\nvalue = 20000.0'),\n",
              " Text(2.702542714919952, 79.72799999999998, 'mse = 0.0\\nsamples = 1\\nvalue = 6000.0'),\n",
              " Text(4.534266110587919, 123.216, 'bathroom_num <= 1.5\\nmse = 160553300.96\\nsamples = 93\\nvalue = 30688.172'),\n",
              " Text(4.173927081931925, 108.72, 'area <= 465.5\\nmse = 137152555.237\\nsamples = 77\\nvalue = 29220.779'),\n",
              " Text(4.053814072379928, 94.22399999999999, 'area <= 457.5\\nmse = 132953947.368\\nsamples = 76\\nvalue = 29500.0'),\n",
              " Text(3.9337010628279296, 79.72799999999998, 'area <= 452.5\\nmse = 135374543.462\\nsamples = 74\\nvalue = 29675.676'),\n",
              " Text(3.813588053275932, 65.232, 'area <= 394.0\\nmse = 135748827.172\\nsamples = 73\\nvalue = 29534.247'),\n",
              " Text(3.4832772770079377, 50.73599999999999, 'area <= 384.0\\nmse = 61346938.776\\nsamples = 7\\nvalue = 26285.714'),\n",
              " Text(3.36316426745594, 36.23999999999998, 'mse = 68000000.0\\nsamples = 6\\nvalue = 27000.0'),\n",
              " Text(3.603390286559936, 36.23999999999998, 'mse = 0.0\\nsamples = 1\\nvalue = 22000.0'),\n",
              " Text(4.143898829543926, 50.73599999999999, 'area <= 415.0\\nmse = 142401974.288\\nsamples = 66\\nvalue = 29878.788'),\n",
              " Text(3.8436163056639314, 36.23999999999998, 'area <= 405.0\\nmse = 88683801.775\\nsamples = 26\\nvalue = 31634.615'),\n",
              " Text(3.7235032961119336, 21.744, 'mse = 92225600.0\\nsamples = 25\\nvalue = 31620.0'),\n",
              " Text(3.963729315215929, 21.744, 'mse = 0.0\\nsamples = 1\\nvalue = 32000.0'),\n",
              " Text(4.444181353423921, 36.23999999999998, 'area <= 432.5\\nmse = 174012343.75\\nsamples = 40\\nvalue = 28737.5'),\n",
              " Text(4.203955334319925, 21.744, 'area <= 427.5\\nmse = 154913580.247\\nsamples = 9\\nvalue = 23944.444'),\n",
              " Text(4.083842324767927, 7.2479999999999905, 'mse = 163027343.75\\nsamples = 8\\nvalue = 25062.5'),\n",
              " Text(4.3240683438719225, 7.2479999999999905, 'mse = 0.0\\nsamples = 1\\nvalue = 15000.0'),\n",
              " Text(4.684407372527916, 21.744, 'area <= 437.5\\nmse = 170951092.612\\nsamples = 31\\nvalue = 30129.032'),\n",
              " Text(4.564294362975919, 7.2479999999999905, 'mse = 156250000.0\\nsamples = 2\\nvalue = 37500.0'),\n",
              " Text(4.8045203820799145, 7.2479999999999905, 'mse = 167959571.938\\nsamples = 29\\nvalue = 29620.69'),\n",
              " Text(4.053814072379928, 65.232, 'mse = 0.0\\nsamples = 1\\nvalue = 40000.0'),\n",
              " Text(4.173927081931925, 79.72799999999998, 'mse = 0.0\\nsamples = 2\\nvalue = 23000.0'),\n",
              " Text(4.294040091483923, 94.22399999999999, 'mse = 0.0\\nsamples = 1\\nvalue = 8000.0'),\n",
              " Text(4.894605139243913, 108.72, 'area <= 432.5\\nmse = 212937500.0\\nsamples = 16\\nvalue = 37750.0'),\n",
              " Text(4.534266110587919, 94.22399999999999, 'area <= 405.0\\nmse = 454240000.0\\nsamples = 5\\nvalue = 47400.0'),\n",
              " Text(4.414153101035922, 79.72799999999998, 'mse = 123555555.556\\nsamples = 3\\nvalue = 34666.667'),\n",
              " Text(4.654379120139917, 79.72799999999998, 'area <= 412.5\\nmse = 342250000.0\\nsamples = 2\\nvalue = 66500.0'),\n",
              " Text(4.534266110587919, 65.232, 'mse = 0.0\\nsamples = 1\\nvalue = 85000.0'),\n",
              " Text(4.7744921296919145, 65.232, 'mse = 0.0\\nsamples = 1\\nvalue = 48000.0'),\n",
              " Text(5.2549441678999065, 94.22399999999999, 'bedroom_num <= 1.5\\nmse = 41685950.413\\nsamples = 11\\nvalue = 33363.636'),\n",
              " Text(5.134831158347908, 79.72799999999998, 'area <= 455.0\\nmse = 19802469.136\\nsamples = 9\\nvalue = 31444.444'),\n",
              " Text(5.014718148795911, 65.232, 'mse = 25040000.0\\nsamples = 5\\nvalue = 32600.0'),\n",
              " Text(5.2549441678999065, 65.232, 'area <= 461.5\\nmse = 9500000.0\\nsamples = 4\\nvalue = 30000.0'),\n",
              " Text(5.134831158347908, 50.73599999999999, 'mse = 250000.0\\nsamples = 2\\nvalue = 27500.0'),\n",
              " Text(5.375057177451904, 50.73599999999999, 'area <= 464.0\\nmse = 6250000.0\\nsamples = 2\\nvalue = 32500.0'),\n",
              " Text(5.2549441678999065, 36.23999999999998, 'mse = 0.0\\nsamples = 1\\nvalue = 35000.0'),\n",
              " Text(5.495170187003902, 36.23999999999998, 'mse = 0.0\\nsamples = 1\\nvalue = 30000.0'),\n",
              " Text(5.375057177451904, 79.72799999999998, 'mse = 49000000.0\\nsamples = 2\\nvalue = 42000.0'),\n",
              " Text(13.976743912283062, 152.208, 'bathroom_num <= 1.5\\nmse = 349323948.947\\nsamples = 1155\\nvalue = 40117.887'),\n",
              " Text(10.428249024619939, 137.712, 'area <= 645.0\\nmse = 431740342.7\\nsamples = 607\\nvalue = 43454.043'),\n",
              " Text(9.250578501278085, 123.216, 'area <= 602.5\\nmse = 389027281.712\\nsamples = 445\\nvalue = 41195.739'),\n",
              " Text(8.171438181084355, 108.72, 'area <= 597.5\\nmse = 405637676.053\\nsamples = 405\\nvalue = 41883.22'),\n",
              " Text(7.604654917260865, 94.22399999999999, 'area <= 552.5\\nmse = 327986219.705\\nsamples = 272\\nvalue = 39492.272'),\n",
              " Text(6.831427418269878, 79.72799999999998, 'area <= 542.5\\nmse = 357054030.154\\nsamples = 196\\nvalue = 41609.173'),\n",
              " Text(6.245876496703889, 65.232, 'area <= 505.0\\nmse = 353248221.756\\nsamples = 93\\nvalue = 37230.086'),\n",
              " Text(5.855509215659896, 50.73599999999999, 'area <= 495.0\\nmse = 440487275.74\\nsamples = 51\\nvalue = 40705.843'),\n",
              " Text(5.735396206107898, 36.23999999999998, 'area <= 479.0\\nmse = 72666666.667\\nsamples = 9\\nvalue = 26500.0'),\n",
              " Text(5.495170187003902, 21.744, 'area <= 476.5\\nmse = 62000000.0\\nsamples = 4\\nvalue = 21000.0'),\n",
              " Text(5.375057177451904, 7.2479999999999905, 'mse = 18666666.667\\nsamples = 3\\nvalue = 25000.0'),\n",
              " Text(5.6152831965559, 7.2479999999999905, 'mse = 0.0\\nsamples = 1\\nvalue = 9000.0'),\n",
              " Text(5.975622225211893, 21.744, 'area <= 482.5\\nmse = 37640000.0\\nsamples = 5\\nvalue = 30900.0'),\n",
              " Text(5.855509215659896, 7.2479999999999905, 'mse = 32888888.889\\nsamples = 3\\nvalue = 32666.667'),\n",
              " Text(6.095735234763891, 7.2479999999999905, 'mse = 33062500.0\\nsamples = 2\\nvalue = 28250.0'),\n",
              " Text(5.975622225211893, 36.23999999999998, 'mse = 466795238.188\\nsamples = 42\\nvalue = 43749.952'),\n",
              " Text(6.6362437777478815, 50.73599999999999, 'area <= 517.5\\nmse = 214832290.249\\nsamples = 42\\nvalue = 33009.524'),\n",
              " Text(6.335961253867887, 36.23999999999998, 'area <= 512.5\\nmse = 42800000.0\\nsamples = 5\\nvalue = 21000.0'),\n",
              " Text(6.215848244315889, 21.744, 'mse = 60666666.667\\nsamples = 3\\nvalue = 20000.0'),\n",
              " Text(6.456074263419885, 21.744, 'mse = 12250000.0\\nsamples = 2\\nvalue = 22500.0'),\n",
              " Text(6.936526301627876, 36.23999999999998, 'area <= 531.0\\nmse = 215955704.894\\nsamples = 37\\nvalue = 34632.432'),\n",
              " Text(6.696300282523881, 21.744, 'area <= 522.5\\nmse = 113438548.753\\nsamples = 21\\nvalue = 37161.905'),\n",
              " Text(6.576187272971882, 7.2479999999999905, 'mse = 38489795.918\\nsamples = 7\\nvalue = 35714.286'),\n",
              " Text(6.816413292075878, 7.2479999999999905, 'mse = 149341224.49\\nsamples = 14\\nvalue = 37885.714'),\n",
              " Text(7.176752320731872, 21.744, 'area <= 537.5\\nmse = 331089843.75\\nsamples = 16\\nvalue = 31312.5'),\n",
              " Text(7.056639311179874, 7.2479999999999905, 'mse = 5918367.347\\nsamples = 7\\nvalue = 27285.714'),\n",
              " Text(7.29686533028387, 7.2479999999999905, 'mse = 561580246.914\\nsamples = 9\\nvalue = 34444.444'),\n",
              " Text(7.416978339835867, 65.232, 'bedroom_num <= 1.5\\nmse = 327542134.037\\nsamples = 103\\nvalue = 45563.107'),\n",
              " Text(7.29686533028387, 50.73599999999999, 'area <= 547.5\\nmse = 328689926.951\\nsamples = 102\\nvalue = 45421.569'),\n",
              " Text(7.176752320731872, 36.23999999999998, 'mse = 36000000.0\\nsamples = 2\\nvalue = 44000.0'),\n",
              " Text(7.416978339835867, 36.23999999999998, 'mse = 334502500.0\\nsamples = 100\\nvalue = 45450.0'),\n",
              " Text(7.5370913493878655, 50.73599999999999, 'mse = 0.0\\nsamples = 1\\nvalue = 60000.0'),\n",
              " Text(8.37788241625185, 79.72799999999998, 'area <= 572.5\\nmse = 211660102.147\\nsamples = 76\\nvalue = 34032.895'),\n",
              " Text(7.897430378043859, 65.232, 'area <= 557.5\\nmse = 123130615.234\\nsamples = 32\\nvalue = 29046.875'),\n",
              " Text(7.777317368491861, 50.73599999999999, 'mse = 10484375.0\\nsamples = 8\\nvalue = 23625.0'),\n",
              " Text(8.017543387595857, 50.73599999999999, 'area <= 562.5\\nmse = 147614149.306\\nsamples = 24\\nvalue = 30854.167'),\n",
              " Text(7.897430378043859, 36.23999999999998, 'mse = 199764648.438\\nsamples = 16\\nvalue = 32968.75'),\n",
              " Text(8.137656397147854, 36.23999999999998, 'area <= 566.0\\nmse = 16484375.0\\nsamples = 8\\nvalue = 26625.0'),\n",
              " Text(8.017543387595857, 21.744, 'mse = 16000000.0\\nsamples = 2\\nvalue = 26000.0'),\n",
              " Text(8.257769406699852, 21.744, 'area <= 568.5\\nmse = 16472222.222\\nsamples = 6\\nvalue = 26833.333'),\n",
              " Text(8.137656397147854, 7.2479999999999905, 'mse = 0.0\\nsamples = 1\\nvalue = 29000.0'),\n",
              " Text(8.37788241625185, 7.2479999999999905, 'mse = 18640000.0\\nsamples = 5\\nvalue = 26400.0'),\n",
              " Text(8.858334454459841, 65.232, 'area <= 578.0\\nmse = 244815599.174\\nsamples = 44\\nvalue = 37659.091'),\n",
              " Text(8.618108435355847, 50.73599999999999, 'area <= 575.5\\nmse = 338233398.438\\nsamples = 16\\nvalue = 45531.25'),\n",
              " Text(8.497995425803849, 36.23999999999998, 'mse = 250006666.667\\nsamples = 15\\nvalue = 42900.0'),\n",
              " Text(8.738221444907843, 36.23999999999998, 'mse = 0.0\\nsamples = 1\\nvalue = 85000.0'),\n",
              " Text(9.098560473563838, 50.73599999999999, 'area <= 592.5\\nmse = 135786670.918\\nsamples = 28\\nvalue = 33160.714'),\n",
              " Text(8.97844746401184, 36.23999999999998, 'area <= 586.0\\nmse = 154807851.24\\nsamples = 22\\nvalue = 34181.818'),\n",
              " Text(8.738221444907843, 21.744, 'area <= 582.5\\nmse = 124126543.21\\nsamples = 18\\nvalue = 32111.111'),\n",
              " Text(8.618108435355847, 7.2479999999999905, 'mse = 200460000.0\\nsamples = 10\\nvalue = 33700.0'),\n",
              " Text(8.858334454459841, 7.2479999999999905, 'mse = 21609375.0\\nsamples = 8\\nvalue = 30125.0'),\n",
              " Text(9.218673483115836, 21.744, 'area <= 588.5\\nmse = 186750000.0\\nsamples = 4\\nvalue = 43500.0'),\n",
              " Text(9.098560473563838, 7.2479999999999905, 'mse = 0.0\\nsamples = 1\\nvalue = 65000.0'),\n",
              " Text(9.338786492667833, 7.2479999999999905, 'mse = 43555555.556\\nsamples = 3\\nvalue = 36333.333'),\n",
              " Text(9.218673483115836, 36.23999999999998, 'mse = 48201388.889\\nsamples = 6\\nvalue = 29416.667'),\n",
              " Text(8.738221444907843, 94.22399999999999, 'bedroom_num <= 1.5\\nmse = 528842776.819\\nsamples = 133\\nvalue = 46772.977'),\n",
              " Text(8.618108435355847, 79.72799999999998, 'mse = 535228580.099\\nsamples = 131\\nvalue = 46723.71'),\n",
              " Text(8.858334454459841, 79.72799999999998, 'mse = 100000000.0\\nsamples = 2\\nvalue = 50000.0'),\n",
              " Text(10.329718821471817, 108.72, 'area <= 627.5\\nmse = 167609775.0\\nsamples = 40\\nvalue = 34235.0'),\n",
              " Text(9.759182026099825, 94.22399999999999, 'area <= 614.5\\nmse = 203311966.701\\nsamples = 31\\nvalue = 35364.516'),\n",
              " Text(9.338786492667833, 79.72799999999998, 'area <= 607.5\\nmse = 195661983.471\\nsamples = 11\\nvalue = 32527.273'),\n",
              " Text(9.218673483115836, 65.232, 'mse = 0.0\\nsamples = 1\\nvalue = 26000.0'),\n",
              " Text(9.45889950221983, 65.232, 'area <= 612.0\\nmse = 210541600.0\\nsamples = 10\\nvalue = 33180.0'),\n",
              " Text(9.338786492667833, 50.73599999999999, 'mse = 233839506.173\\nsamples = 9\\nvalue = 33277.778'),\n",
              " Text(9.579012511771829, 50.73599999999999, 'mse = 0.0\\nsamples = 1\\nvalue = 32300.0'),\n",
              " Text(10.179577559531818, 79.72799999999998, 'area <= 620.5\\nmse = 200656875.0\\nsamples = 20\\nvalue = 36925.0'),\n",
              " Text(9.939351540427822, 65.232, 'area <= 617.5\\nmse = 140946280.992\\nsamples = 11\\nvalue = 38590.909'),\n",
              " Text(9.819238530875825, 50.73599999999999, 'mse = 0.0\\nsamples = 1\\nvalue = 42000.0'),\n",
              " Text(10.05946454997982, 50.73599999999999, 'mse = 153762500.0\\nsamples = 10\\nvalue = 38250.0'),\n",
              " Text(10.419803578635815, 65.232, 'area <= 623.0\\nmse = 266098765.432\\nsamples = 9\\nvalue = 34888.889'),\n",
              " Text(10.299690569083817, 50.73599999999999, 'mse = 0.0\\nsamples = 1\\nvalue = 24000.0'),\n",
              " Text(10.539916588187811, 50.73599999999999, 'mse = 282687500.0\\nsamples = 8\\nvalue = 36250.0'),\n",
              " Text(10.900255616843806, 94.22399999999999, 'area <= 637.5\\nmse = 25104691.358\\nsamples = 9\\nvalue = 30344.444'),\n",
              " Text(10.780142607291808, 79.72799999999998, 'area <= 632.5\\nmse = 8401388.889\\nsamples = 6\\nvalue = 28016.667'),\n",
              " Text(10.66002959773981, 65.232, 'mse = 9555555.556\\nsamples = 3\\nvalue = 28666.667'),\n",
              " Text(10.900255616843806, 65.232, 'mse = 6402222.222\\nsamples = 3\\nvalue = 27366.667'),\n",
              " Text(11.020368626395804, 79.72799999999998, 'mse = 26000000.0\\nsamples = 3\\nvalue = 35000.0'),\n",
              " Text(11.605919547961793, 123.216, 'area <= 652.5\\nmse = 496578617.97\\nsamples = 162\\nvalue = 49657.407'),\n",
              " Text(11.260594645499799, 108.72, 'bedroom_num <= 1.5\\nmse = 512130907.29\\nsamples = 131\\nvalue = 50732.824'),\n",
              " Text(11.1404816359478, 94.22399999999999, 'mse = 501451373.142\\nsamples = 126\\nvalue = 50468.254'),\n",
              " Text(11.380707655051797, 94.22399999999999, 'mse = 735040000.0\\nsamples = 5\\nvalue = 57400.0'),\n",
              " Text(11.951244450423786, 108.72, 'area <= 665.0\\nmse = 405317898.023\\nsamples = 31\\nvalue = 45112.903'),\n",
              " Text(11.620933674155793, 94.22399999999999, 'area <= 657.5\\nmse = 180285714.286\\nsamples = 7\\nvalue = 33000.0'),\n",
              " Text(11.500820664603795, 79.72799999999998, 'mse = 0.0\\nsamples = 3\\nvalue = 35000.0'),\n",
              " Text(11.74104668370779, 79.72799999999998, 'mse = 310250000.0\\nsamples = 4\\nvalue = 31500.0'),\n",
              " Text(12.281555226691781, 94.22399999999999, 'area <= 684.0\\nmse = 415676649.306\\nsamples = 24\\nvalue = 48645.833'),\n",
              " Text(11.981272702811786, 79.72799999999998, 'area <= 672.5\\nmse = 464347500.0\\nsamples = 20\\nvalue = 50550.0'),\n",
              " Text(11.74104668370779, 65.232, 'bedroom_num <= 1.5\\nmse = 348400000.0\\nsamples = 5\\nvalue = 46000.0'),\n",
              " Text(11.620933674155793, 50.73599999999999, 'mse = 427687500.0\\nsamples = 4\\nvalue = 44750.0'),\n",
              " Text(11.861159693259788, 50.73599999999999, 'mse = 0.0\\nsamples = 1\\nvalue = 51000.0'),\n",
              " Text(12.221498721915783, 65.232, 'area <= 677.5\\nmse = 493795555.556\\nsamples = 15\\nvalue = 52066.667'),\n",
              " Text(12.101385712363784, 50.73599999999999, 'mse = 482222222.222\\nsamples = 6\\nvalue = 57666.667'),\n",
              " Text(12.34161173146778, 50.73599999999999, 'mse = 466666666.667\\nsamples = 9\\nvalue = 48333.333'),\n",
              " Text(12.581837750571776, 79.72799999999998, 'area <= 689.0\\nmse = 63546875.0\\nsamples = 4\\nvalue = 39125.0'),\n",
              " Text(12.461724741019777, 65.232, 'mse = 0.0\\nsamples = 1\\nvalue = 30000.0'),\n",
              " Text(12.701950760123774, 65.232, 'area <= 692.5\\nmse = 47722222.222\\nsamples = 3\\nvalue = 42166.667'),\n",
              " Text(12.581837750571776, 50.73599999999999, 'mse = 33062500.0\\nsamples = 2\\nvalue = 45750.0'),\n",
              " Text(12.822063769675772, 50.73599999999999, 'mse = 0.0\\nsamples = 1\\nvalue = 35000.0'),\n",
              " Text(17.525238799946187, 137.712, 'bedroom_num <= 1.5\\nmse = 232050491.153\\nsamples = 548\\nvalue = 36422.547'),\n",
              " Text(15.68225480963272, 123.216, 'area <= 689.5\\nmse = 168739783.604\\nsamples = 481\\nvalue = 34927.351'),\n",
              " Text(14.909027310641735, 108.72, 'area <= 522.5\\nmse = 167727556.951\\nsamples = 476\\nvalue = 35076.798'),\n",
              " Text(13.722911341315756, 94.22399999999999, 'area <= 505.0\\nmse = 112185600.0\\nsamples = 25\\nvalue = 39880.0'),\n",
              " Text(13.422628817435761, 79.72799999999998, 'area <= 477.5\\nmse = 96916099.773\\nsamples = 21\\nvalue = 38523.81'),\n",
              " Text(13.182402798331765, 65.232, 'area <= 473.0\\nmse = 4000000.0\\nsamples = 5\\nvalue = 46000.0'),\n",
              " Text(13.062289788779767, 50.73599999999999, 'mse = 0.0\\nsamples = 2\\nvalue = 45000.0'),\n",
              " Text(13.302515807883763, 50.73599999999999, 'mse = 5555555.556\\nsamples = 3\\nvalue = 46666.667'),\n",
              " Text(13.662854836539756, 65.232, 'area <= 495.0\\nmse = 103027343.75\\nsamples = 16\\nvalue = 36187.5'),\n",
              " Text(13.542741826987758, 50.73599999999999, 'area <= 485.0\\nmse = 28666666.667\\nsamples = 3\\nvalue = 31000.0'),\n",
              " Text(13.422628817435761, 36.23999999999998, 'mse = 0.0\\nsamples = 1\\nvalue = 30000.0'),\n",
              " Text(13.662854836539756, 36.23999999999998, 'mse = 42250000.0\\nsamples = 2\\nvalue = 31500.0'),\n",
              " Text(13.782967846091754, 50.73599999999999, 'mse = 112544378.698\\nsamples = 13\\nvalue = 37384.615'),\n",
              " Text(14.02319386519575, 79.72799999999998, 'area <= 515.0\\nmse = 132000000.0\\nsamples = 4\\nvalue = 47000.0'),\n",
              " Text(13.903080855643752, 65.232, 'mse = 0.0\\nsamples = 1\\nvalue = 65000.0'),\n",
              " Text(14.143306874747747, 65.232, 'mse = 32000000.0\\nsamples = 3\\nvalue = 41000.0'),\n",
              " Text(16.09514327996771, 94.22399999999999, 'area <= 597.5\\nmse = 169456622.603\\nsamples = 451\\nvalue = 34810.545'),\n",
              " Text(14.924041436835735, 79.72799999999998, 'area <= 553.5\\nmse = 104130204.372\\nsamples = 96\\nvalue = 31426.552'),\n",
              " Text(14.383532893851743, 65.232, 'area <= 547.5\\nmse = 166342419.461\\nsamples = 39\\nvalue = 33658.974'),\n",
              " Text(14.143306874747747, 50.73599999999999, 'area <= 527.5\\nmse = 147088085.938\\nsamples = 16\\nvalue = 30793.75'),\n",
              " Text(14.02319386519575, 36.23999999999998, 'mse = 527187500.0\\nsamples = 4\\nvalue = 35250.0'),\n",
              " Text(14.263419884299745, 36.23999999999998, 'area <= 531.0\\nmse = 11562430.556\\nsamples = 12\\nvalue = 29308.333'),\n",
              " Text(14.143306874747747, 21.744, 'mse = 0.0\\nsamples = 1\\nvalue = 24000.0'),\n",
              " Text(14.383532893851743, 21.744, 'area <= 532.5\\nmse = 9819008.264\\nsamples = 11\\nvalue = 29790.909'),\n",
              " Text(14.263419884299745, 7.2479999999999905, 'mse = 6501388.889\\nsamples = 6\\nvalue = 28616.667'),\n",
              " Text(14.503645903403742, 7.2479999999999905, 'mse = 10160000.0\\nsamples = 5\\nvalue = 31200.0'),\n",
              " Text(14.62375891295574, 50.73599999999999, 'area <= 551.0\\nmse = 170052930.057\\nsamples = 23\\nvalue = 35652.174'),\n",
              " Text(14.503645903403742, 36.23999999999998, 'mse = 177520661.157\\nsamples = 22\\nvalue = 35545.455'),\n",
              " Text(14.743871922507736, 36.23999999999998, 'mse = 0.0\\nsamples = 1\\nvalue = 38000.0'),\n",
              " Text(15.464549979819724, 65.232, 'area <= 567.5\\nmse = 55820951.849\\nsamples = 57\\nvalue = 29899.105'),\n",
              " Text(15.104210951163731, 50.73599999999999, 'area <= 557.5\\nmse = 19655273.438\\nsamples = 16\\nvalue = 27418.75'),\n",
              " Text(14.984097941611733, 36.23999999999998, 'mse = 222222.222\\nsamples = 3\\nvalue = 25666.667'),\n",
              " Text(15.22432396071573, 36.23999999999998, 'area <= 562.5\\nmse = 23267928.994\\nsamples = 13\\nvalue = 27823.077'),\n",
              " Text(15.104210951163731, 21.744, 'mse = 26860100.0\\nsamples = 10\\nvalue = 28170.0'),\n",
              " Text(15.344436970267726, 21.744, 'mse = 9555555.556\\nsamples = 3\\nvalue = 26666.667'),\n",
              " Text(15.824889008475717, 50.73599999999999, 'area <= 592.5\\nmse = 66596628.876\\nsamples = 41\\nvalue = 30867.049'),\n",
              " Text(15.70477599892372, 36.23999999999998, 'area <= 572.5\\nmse = 68094773.199\\nsamples = 38\\nvalue = 31382.895'),\n",
              " Text(15.584662989371722, 21.744, 'mse = 210250000.0\\nsamples = 2\\nvalue = 35500.0'),\n",
              " Text(15.824889008475717, 21.744, 'area <= 582.5\\nmse = 59203246.528\\nsamples = 36\\nvalue = 31154.167'),\n",
              " Text(15.70477599892372, 7.2479999999999905, 'mse = 94459933.333\\nsamples = 15\\nvalue = 30370.0'),\n",
              " Text(15.945002018027715, 7.2479999999999905, 'mse = 33266938.776\\nsamples = 21\\nvalue = 31714.286'),\n",
              " Text(15.945002018027715, 36.23999999999998, 'mse = 1555778.0\\nsamples = 3\\nvalue = 24333.0'),\n",
              " Text(17.266245123099694, 79.72799999999998, 'area <= 642.5\\nmse = 183188215.832\\nsamples = 355\\nvalue = 35725.654'),\n",
              " Text(16.545567065787704, 65.232, 'area <= 627.5\\nmse = 165893991.982\\nsamples = 147\\nvalue = 34974.823'),\n",
              " Text(16.305341046683708, 50.73599999999999, 'area <= 624.5\\nmse = 166073049.038\\nsamples = 127\\nvalue = 36054.323'),\n",
              " Text(16.18522803713171, 36.23999999999998, 'area <= 601.0\\nmse = 126814273.032\\nsamples = 112\\nvalue = 35003.562'),\n",
              " Text(16.065115027579715, 21.744, 'mse = 142819330.236\\nsamples = 79\\nvalue = 36669.62'),\n",
              " Text(16.305341046683708, 21.744, 'area <= 623.5\\nmse = 65946498.652\\nsamples = 33\\nvalue = 31015.121'),\n",
              " Text(16.18522803713171, 7.2479999999999905, 'mse = 58677274.444\\nsamples = 32\\nvalue = 31546.844'),\n",
              " Text(16.425454056235708, 7.2479999999999905, 'mse = 0.0\\nsamples = 1\\nvalue = 14000.0'),\n",
              " Text(16.425454056235708, 36.23999999999998, 'mse = 389406666.667\\nsamples = 15\\nvalue = 43900.0'),\n",
              " Text(16.7857930848917, 50.73599999999999, 'area <= 632.5\\nmse = 110368600.0\\nsamples = 20\\nvalue = 28120.0'),\n",
              " Text(16.665680075339704, 36.23999999999998, 'mse = 65846938.776\\nsamples = 7\\nvalue = 25285.714'),\n",
              " Text(16.905906094443697, 36.23999999999998, 'area <= 636.0\\nmse = 127687100.592\\nsamples = 13\\nvalue = 29646.154'),\n",
              " Text(16.7857930848917, 21.744, 'mse = 0.0\\nsamples = 1\\nvalue = 35000.0'),\n",
              " Text(17.026019103995697, 21.744, 'area <= 638.5\\nmse = 135740000.0\\nsamples = 12\\nvalue = 29200.0'),\n",
              " Text(16.905906094443697, 7.2479999999999905, 'mse = 0.0\\nsamples = 1\\nvalue = 30000.0'),\n",
              " Text(17.146132113547694, 7.2479999999999905, 'mse = 148016528.926\\nsamples = 11\\nvalue = 29127.273'),\n",
              " Text(17.98692318041168, 65.232, 'area <= 682.5\\nmse = 194730585.676\\nsamples = 208\\nvalue = 36256.288'),\n",
              " Text(17.746697161307683, 50.73599999999999, 'area <= 677.5\\nmse = 196953335.19\\nsamples = 205\\nvalue = 36173.21'),\n",
              " Text(17.626584151755686, 36.23999999999998, 'area <= 672.5\\nmse = 208531258.915\\nsamples = 182\\nvalue = 36472.571'),\n",
              " Text(17.506471142203686, 21.744, 'area <= 654.5\\nmse = 205121400.845\\nsamples = 173\\nvalue = 36138.775'),\n",
              " Text(17.38635813265169, 7.2479999999999905, 'mse = 213537968.695\\nsamples = 150\\nvalue = 36654.72'),\n",
              " Text(17.626584151755686, 7.2479999999999905, 'mse = 137172362.949\\nsamples = 23\\nvalue = 32773.913'),\n",
              " Text(17.746697161307683, 21.744, 'mse = 230765432.099\\nsamples = 9\\nvalue = 42888.889'),\n",
              " Text(17.866810170859683, 36.23999999999998, 'mse = 99016068.053\\nsamples = 23\\nvalue = 33804.348'),\n",
              " Text(18.227149199515676, 50.73599999999999, 'area <= 688.0\\nmse = 10142222.222\\nsamples = 3\\nvalue = 41933.333'),\n",
              " Text(18.107036189963676, 36.23999999999998, 'area <= 686.0\\nmse = 3610000.0\\nsamples = 2\\nvalue = 43900.0'),\n",
              " Text(17.98692318041168, 21.744, 'mse = 0.0\\nsamples = 1\\nvalue = 45800.0'),\n",
              " Text(18.227149199515676, 21.744, 'mse = 0.0\\nsamples = 1\\nvalue = 42000.0'),\n",
              " Text(18.347262209067672, 36.23999999999998, 'mse = 0.0\\nsamples = 1\\nvalue = 38000.0'),\n",
              " Text(16.455482308623708, 108.72, 'area <= 692.5\\nmse = 60560000.0\\nsamples = 5\\nvalue = 20700.0'),\n",
              " Text(16.335369299071708, 94.22399999999999, 'mse = 75546875.0\\nsamples = 4\\nvalue = 20875.0'),\n",
              " Text(16.575595318175704, 94.22399999999999, 'mse = 0.0\\nsamples = 1\\nvalue = 20000.0'),\n",
              " Text(19.368222790259654, 123.216, 'bathroom_num <= 2.5\\nmse = 555292604.143\\nsamples = 67\\nvalue = 47156.716'),\n",
              " Text(19.248109780707658, 108.72, 'bedroom_num <= 2.5\\nmse = 458145603.765\\nsamples = 66\\nvalue = 45901.515'),\n",
              " Text(18.94782725682766, 94.22399999999999, 'area <= 542.5\\nmse = 430143981.934\\nsamples = 64\\nvalue = 47023.438'),\n",
              " Text(18.707601237723665, 79.72799999999998, 'area <= 533.5\\nmse = 159187500.0\\nsamples = 4\\nvalue = 33750.0'),\n",
              " Text(18.58748822817167, 65.232, 'area <= 516.0\\nmse = 56000000.0\\nsamples = 3\\nvalue = 40000.0'),\n",
              " Text(18.467375218619672, 50.73599999999999, 'mse = 81000000.0\\nsamples = 2\\nvalue = 41000.0'),\n",
              " Text(18.707601237723665, 50.73599999999999, 'mse = 0.0\\nsamples = 1\\nvalue = 38000.0'),\n",
              " Text(18.827714247275665, 65.232, 'mse = 0.0\\nsamples = 1\\nvalue = 15000.0'),\n",
              " Text(19.188053275931658, 79.72799999999998, 'area <= 692.5\\nmse = 435679097.222\\nsamples = 60\\nvalue = 47908.333'),\n",
              " Text(19.06794026637966, 65.232, 'area <= 685.0\\nmse = 429638465.958\\nsamples = 59\\nvalue = 48381.356'),\n",
              " Text(18.94782725682766, 50.73599999999999, 'area <= 562.5\\nmse = 419200175.383\\nsamples = 56\\nvalue = 47401.786'),\n",
              " Text(18.64754473294767, 36.23999999999998, 'area <= 555.0\\nmse = 408960000.0\\nsamples = 5\\nvalue = 58800.0'),\n",
              " Text(18.52743172339567, 21.744, 'mse = 441000000.0\\nsamples = 2\\nvalue = 48000.0'),\n",
              " Text(18.767657742499665, 21.744, 'mse = 258000000.0\\nsamples = 3\\nvalue = 66000.0'),\n",
              " Text(19.248109780707658, 36.23999999999998, 'area <= 615.0\\nmse = 406218185.313\\nsamples = 51\\nvalue = 46284.314'),\n",
              " Text(19.00788376160366, 21.744, 'area <= 602.0\\nmse = 275346938.776\\nsamples = 14\\nvalue = 41285.714'),\n",
              " Text(18.88777075205166, 7.2479999999999905, 'mse = 244561983.471\\nsamples = 11\\nvalue = 43272.727'),\n",
              " Text(19.127996771155658, 7.2479999999999905, 'mse = 320666666.667\\nsamples = 3\\nvalue = 34000.0'),\n",
              " Text(19.48833579981165, 21.744, 'area <= 627.5\\nmse = 442705624.543\\nsamples = 37\\nvalue = 48175.676'),\n",
              " Text(19.368222790259654, 7.2479999999999905, 'mse = 1185500000.0\\nsamples = 4\\nvalue = 66000.0'),\n",
              " Text(19.60844880936365, 7.2479999999999905, 'mse = 309492194.674\\nsamples = 33\\nvalue = 46015.152'),\n",
              " Text(19.188053275931658, 50.73599999999999, 'mse = 272222222.222\\nsamples = 3\\nvalue = 66666.667'),\n",
              " Text(19.308166285483654, 65.232, 'mse = 0.0\\nsamples = 1\\nvalue = 20000.0'),\n",
              " Text(19.54839230458765, 94.22399999999999, 'area <= 547.5\\nmse = 25000000.0\\nsamples = 2\\nvalue = 10000.0'),\n",
              " Text(19.428279295035654, 79.72799999999998, 'mse = 0.0\\nsamples = 1\\nvalue = 5000.0'),\n",
              " Text(19.668505314139647, 79.72799999999998, 'mse = 0.0\\nsamples = 1\\nvalue = 15000.0'),\n",
              " Text(19.48833579981165, 108.72, 'mse = 0.0\\nsamples = 1\\nvalue = 130000.0'),\n",
              " Text(45.82710127135746, 166.704, 'area <= 468.5\\nmse = 167774137.116\\nsamples = 4949\\nvalue = 26238.82'),\n",
              " Text(25.833680882550787, 152.208, 'area <= 105.0\\nmse = 86767874.457\\nsamples = 990\\nvalue = 20138.735'),\n",
              " Text(20.269070361899637, 137.712, 'area <= 36.0\\nmse = 874805555.556\\nsamples = 6\\nvalue = 62166.667'),\n",
              " Text(20.14895735234764, 123.216, 'mse = 0.0\\nsamples = 1\\nvalue = 115000.0'),\n",
              " Text(20.389183371451637, 123.216, 'area <= 82.5\\nmse = 379840000.0\\nsamples = 5\\nvalue = 51600.0'),\n",
              " Text(20.14895735234764, 108.72, 'area <= 64.0\\nmse = 2666666.667\\nsamples = 3\\nvalue = 40000.0'),\n",
              " Text(20.028844342795644, 94.22399999999999, 'area <= 62.0\\nmse = 1000000.0\\nsamples = 2\\nvalue = 41000.0'),\n",
              " Text(19.908731333243644, 79.72799999999998, 'mse = 0.0\\nsamples = 1\\nvalue = 40000.0'),\n",
              " Text(20.14895735234764, 79.72799999999998, 'mse = 0.0\\nsamples = 1\\nvalue = 42000.0'),\n",
              " Text(20.269070361899637, 94.22399999999999, 'mse = 0.0\\nsamples = 1\\nvalue = 38000.0'),\n",
              " Text(20.629409390555633, 108.72, 'bedroom_num <= 2.5\\nmse = 441000000.0\\nsamples = 2\\nvalue = 69000.0'),\n",
              " Text(20.509296381003633, 94.22399999999999, 'mse = 0.0\\nsamples = 1\\nvalue = 90000.0'),\n",
              " Text(20.74952240010763, 94.22399999999999, 'mse = 0.0\\nsamples = 1\\nvalue = 48000.0'),\n",
              " Text(31.398291403201938, 137.712, 'area <= 391.5\\nmse = 71126684.822\\nsamples = 984\\nvalue = 19882.467'),\n",
              " Text(25.572810439930045, 123.216, 'area <= 297.5\\nmse = 42160036.339\\nsamples = 557\\nvalue = 17761.53'),\n",
              " Text(21.38011570025562, 108.72, 'area <= 115.0\\nmse = 37204320.0\\nsamples = 125\\nvalue = 15700.0'),\n",
              " Text(21.260002690703622, 94.22399999999999, 'mse = 0.0\\nsamples = 1\\nvalue = 39000.0'),\n",
              " Text(21.500228709807615, 94.22399999999999, 'area <= 175.0\\nmse = 33090902.055\\nsamples = 124\\nvalue = 15512.097'),\n",
              " Text(20.389183371451637, 79.72799999999998, 'area <= 130.0\\nmse = 2260000.0\\nsamples = 5\\nvalue = 7200.0'),\n",
              " Text(20.269070361899637, 65.232, 'mse = 0.0\\nsamples = 1\\nvalue = 4500.0'),\n",
              " Text(20.509296381003633, 65.232, 'area <= 155.0\\nmse = 546875.0\\nsamples = 4\\nvalue = 7875.0'),\n",
              " Text(20.269070361899637, 50.73599999999999, 'area <= 145.0\\nmse = 62500.0\\nsamples = 2\\nvalue = 7250.0'),\n",
              " Text(20.14895735234764, 36.23999999999998, 'mse = 0.0\\nsamples = 1\\nvalue = 7500.0'),\n",
              " Text(20.389183371451637, 36.23999999999998, 'mse = 0.0\\nsamples = 1\\nvalue = 7000.0'),\n",
              " Text(20.74952240010763, 50.73599999999999, 'area <= 165.0\\nmse = 250000.0\\nsamples = 2\\nvalue = 8500.0'),\n",
              " Text(20.629409390555633, 36.23999999999998, 'mse = 0.0\\nsamples = 1\\nvalue = 9000.0'),\n",
              " Text(20.869635409659626, 36.23999999999998, 'mse = 0.0\\nsamples = 1\\nvalue = 8000.0'),\n",
              " Text(22.611274048163597, 79.72799999999998, 'bathroom_num <= 1.5\\nmse = 31361362.898\\nsamples = 119\\nvalue = 15861.345'),\n",
              " Text(22.070765505179605, 65.232, 'area <= 287.5\\nmse = 28893532.775\\nsamples = 113\\nvalue = 15597.345'),\n",
              " Text(21.590313466971615, 50.73599999999999, 'area <= 277.5\\nmse = 30572706.983\\nsamples = 97\\nvalue = 15913.402'),\n",
              " Text(21.109861428763622, 36.23999999999998, 'area <= 205.0\\nmse = 30513554.943\\nsamples = 83\\nvalue = 15344.578'),\n",
              " Text(20.869635409659626, 21.744, 'furnishing <= 1.5\\nmse = 51013888.889\\nsamples = 12\\nvalue = 17333.333'),\n",
              " Text(20.74952240010763, 7.2479999999999905, 'mse = 42459183.673\\nsamples = 7\\nvalue = 21071.429'),\n",
              " Text(20.989748419211626, 7.2479999999999905, 'mse = 16040000.0\\nsamples = 5\\nvalue = 12100.0'),\n",
              " Text(21.35008744786762, 21.744, 'area <= 232.5\\nmse = 26267252.529\\nsamples = 71\\nvalue = 15008.451'),\n",
              " Text(21.229974438315622, 7.2479999999999905, 'mse = 16462568.371\\nsamples = 29\\nvalue = 14113.793'),\n",
              " Text(21.470200457419615, 7.2479999999999905, 'mse = 32102885.488\\nsamples = 42\\nvalue = 15626.19'),\n",
              " Text(22.070765505179605, 36.23999999999998, 'furnishing <= 1.5\\nmse = 17632653.061\\nsamples = 14\\nvalue = 19285.714'),\n",
              " Text(21.83053948607561, 21.744, 'area <= 282.5\\nmse = 2250000.0\\nsamples = 2\\nvalue = 23500.0'),\n",
              " Text(21.71042647652361, 7.2479999999999905, 'mse = 0.0\\nsamples = 1\\nvalue = 22000.0'),\n",
              " Text(21.950652495627608, 7.2479999999999905, 'mse = 0.0\\nsamples = 1\\nvalue = 25000.0'),\n",
              " Text(22.3109915242836, 21.744, 'area <= 281.0\\nmse = 16743055.556\\nsamples = 12\\nvalue = 18583.333'),\n",
              " Text(22.190878514731605, 7.2479999999999905, 'mse = 13966942.149\\nsamples = 11\\nvalue = 19181.818'),\n",
              " Text(22.4311045338356, 7.2479999999999905, 'mse = 0.0\\nsamples = 1\\nvalue = 12000.0'),\n",
              " Text(22.551217543387597, 50.73599999999999, 'furnishing <= 1.5\\nmse = 14436523.438\\nsamples = 16\\nvalue = 13681.25'),\n",
              " Text(22.4311045338356, 36.23999999999998, 'mse = 0.0\\nsamples = 1\\nvalue = 18000.0'),\n",
              " Text(22.671330552939594, 36.23999999999998, 'area <= 290.5\\nmse = 14072622.222\\nsamples = 15\\nvalue = 13393.333'),\n",
              " Text(22.551217543387597, 21.744, 'mse = 15753541.667\\nsamples = 12\\nvalue = 12825.0'),\n",
              " Text(22.791443562491594, 21.744, 'area <= 293.0\\nmse = 888888.889\\nsamples = 3\\nvalue = 15666.667'),\n",
              " Text(22.671330552939594, 7.2479999999999905, 'mse = 0.0\\nsamples = 1\\nvalue = 17000.0'),\n",
              " Text(22.91155657204359, 7.2479999999999905, 'mse = 0.0\\nsamples = 2\\nvalue = 15000.0'),\n",
              " Text(23.151782591147587, 65.232, 'area <= 254.5\\nmse = 51805555.556\\nsamples = 6\\nvalue = 20833.333'),\n",
              " Text(23.03166958159559, 50.73599999999999, 'mse = 0.0\\nsamples = 1\\nvalue = 9000.0'),\n",
              " Text(23.271895600699583, 50.73599999999999, 'area <= 277.5\\nmse = 28560000.0\\nsamples = 5\\nvalue = 23200.0'),\n",
              " Text(23.151782591147587, 36.23999999999998, 'area <= 269.5\\nmse = 21250000.0\\nsamples = 4\\nvalue = 21500.0'),\n",
              " Text(23.03166958159559, 21.744, 'mse = 0.0\\nsamples = 1\\nvalue = 27000.0'),\n",
              " Text(23.271895600699583, 21.744, 'furnishing <= 1.5\\nmse = 14888888.889\\nsamples = 3\\nvalue = 19666.667'),\n",
              " Text(23.151782591147587, 7.2479999999999905, 'mse = 0.0\\nsamples = 1\\nvalue = 25000.0'),\n",
              " Text(23.392008610251583, 7.2479999999999905, 'mse = 1000000.0\\nsamples = 2\\nvalue = 17000.0'),\n",
              " Text(23.392008610251583, 36.23999999999998, 'mse = 0.0\\nsamples = 1\\nvalue = 30000.0'),\n",
              " Text(29.765505179604467, 108.72, 'area <= 375.5\\nmse = 42008443.239\\nsamples = 432\\nvalue = 18358.037'),\n",
              " Text(27.836189963675505, 94.22399999999999, 'area <= 347.5\\nmse = 42652576.168\\nsamples = 384\\nvalue = 18716.594'),\n",
              " Text(26.154607829947533, 79.72799999999998, 'area <= 332.5\\nmse = 30827988.82\\nsamples = 200\\nvalue = 17663.86'),\n",
              " Text(25.25376025830755, 65.232, 'bathroom_num <= 1.5\\nmse = 30008660.165\\nsamples = 171\\nvalue = 18449.251'),\n",
              " Text(24.473025696219562, 50.73599999999999, 'area <= 312.5\\nmse = 28878935.169\\nsamples = 159\\nvalue = 18217.61'),\n",
              " Text(23.992573658011572, 36.23999999999998, 'area <= 307.0\\nmse = 31149384.757\\nsamples = 99\\nvalue = 18003.03'),\n",
              " Text(23.752347638907576, 21.744, 'area <= 303.0\\nmse = 31737530.796\\nsamples = 85\\nvalue = 18344.706'),\n",
              " Text(23.63223462935558, 7.2479999999999905, 'mse = 32172576.571\\nsamples = 83\\nvalue = 18256.627'),\n",
              " Text(23.872460648459572, 7.2479999999999905, 'mse = 0.0\\nsamples = 2\\nvalue = 22000.0'),\n",
              " Text(24.23279967711557, 21.744, 'furnishing <= 1.5\\nmse = 22566326.531\\nsamples = 14\\nvalue = 15928.571'),\n",
              " Text(24.11268666756357, 7.2479999999999905, 'mse = 70055555.556\\nsamples = 3\\nvalue = 14666.667'),\n",
              " Text(24.352912686667565, 7.2479999999999905, 'mse = 9061983.471\\nsamples = 11\\nvalue = 16272.727'),\n",
              " Text(24.953477734427555, 36.23999999999998, 'area <= 329.0\\nmse = 24931363.889\\nsamples = 60\\nvalue = 18571.667'),\n",
              " Text(24.71325171532356, 21.744, 'area <= 326.5\\nmse = 26640398.37\\nsamples = 47\\nvalue = 18921.277'),\n",
              " Text(24.593138705771562, 7.2479999999999905, 'mse = 26398794.896\\nsamples = 46\\nvalue = 18789.13'),\n",
              " Text(24.83336472487556, 7.2479999999999905, 'mse = 0.0\\nsamples = 1\\nvalue = 25000.0'),\n",
              " Text(25.19370375353155, 21.744, 'furnishing <= 1.5\\nmse = 16713017.751\\nsamples = 13\\nvalue = 17307.692'),\n",
              " Text(25.07359074397955, 7.2479999999999905, 'mse = 19560000.0\\nsamples = 5\\nvalue = 14700.0'),\n",
              " Text(25.313816763083548, 7.2479999999999905, 'mse = 8027343.75\\nsamples = 8\\nvalue = 18937.5'),\n",
              " Text(26.034494820395537, 50.73599999999999, 'furnishing <= 1.5\\nmse = 34846264.75\\nsamples = 12\\nvalue = 21518.5'),\n",
              " Text(25.79426880129154, 36.23999999999998, 'area <= 315.0\\nmse = 39587067.222\\nsamples = 6\\nvalue = 23703.667'),\n",
              " Text(25.67415579173954, 21.744, 'area <= 305.0\\nmse = 43074445.44\\nsamples = 5\\nvalue = 22844.4'),\n",
              " Text(25.554042782187544, 7.2479999999999905, 'mse = 53250000.0\\nsamples = 4\\nvalue = 22500.0'),\n",
              " Text(25.79426880129154, 7.2479999999999905, 'mse = 0.0\\nsamples = 1\\nvalue = 24222.0'),\n",
              " Text(25.914381810843537, 21.744, 'mse = 0.0\\nsamples = 1\\nvalue = 28000.0'),\n",
              " Text(26.27472083949953, 36.23999999999998, 'area <= 323.0\\nmse = 20555555.556\\nsamples = 6\\nvalue = 19333.333'),\n",
              " Text(26.154607829947533, 21.744, 'area <= 310.0\\nmse = 25500000.0\\nsamples = 4\\nvalue = 18000.0'),\n",
              " Text(26.034494820395537, 7.2479999999999905, 'mse = 49000000.0\\nsamples = 2\\nvalue = 19000.0'),\n",
              " Text(26.27472083949953, 7.2479999999999905, 'mse = 0.0\\nsamples = 2\\nvalue = 17000.0'),\n",
              " Text(26.39483384905153, 21.744, 'mse = 0.0\\nsamples = 2\\nvalue = 22000.0'),\n",
              " Text(27.055455401587515, 65.232, 'area <= 339.0\\nmse = 10574875.149\\nsamples = 29\\nvalue = 13032.759'),\n",
              " Text(26.635059868155526, 50.73599999999999, 'furnishing <= 1.5\\nmse = 9500000.0\\nsamples = 5\\nvalue = 14500.0'),\n",
              " Text(26.514946858603526, 36.23999999999998, 'mse = 0.0\\nsamples = 1\\nvalue = 18500.0'),\n",
              " Text(26.755172877707523, 36.23999999999998, 'area <= 336.5\\nmse = 6875000.0\\nsamples = 4\\nvalue = 13500.0'),\n",
              " Text(26.635059868155526, 21.744, 'mse = 0.0\\nsamples = 1\\nvalue = 12000.0'),\n",
              " Text(26.87528588725952, 21.744, 'mse = 8166666.667\\nsamples = 3\\nvalue = 14000.0'),\n",
              " Text(27.47585093501951, 50.73599999999999, 'bathroom_num <= 1.5\\nmse = 10256870.66\\nsamples = 24\\nvalue = 12727.083'),\n",
              " Text(27.355737925467512, 36.23999999999998, 'furnishing <= 1.5\\nmse = 12980686.728\\nsamples = 18\\nvalue = 13052.778'),\n",
              " Text(27.115511906363515, 21.744, 'area <= 342.5\\nmse = 2000000.0\\nsamples = 3\\nvalue = 12000.0'),\n",
              " Text(26.99539889681152, 7.2479999999999905, 'mse = 0.0\\nsamples = 2\\nvalue = 11000.0'),\n",
              " Text(27.235624915915515, 7.2479999999999905, 'mse = 0.0\\nsamples = 1\\nvalue = 14000.0'),\n",
              " Text(27.59596394457151, 21.744, 'area <= 341.0\\nmse = 14910822.222\\nsamples = 15\\nvalue = 13263.333'),\n",
              " Text(27.47585093501951, 7.2479999999999905, 'mse = 15853737.245\\nsamples = 14\\nvalue = 13353.571'),\n",
              " Text(27.716076954123505, 7.2479999999999905, 'mse = 0.0\\nsamples = 1\\nvalue = 12000.0'),\n",
              " Text(27.59596394457151, 36.23999999999998, 'mse = 812500.0\\nsamples = 6\\nvalue = 11750.0'),\n",
              " Text(29.517772097403473, 79.72799999999998, 'area <= 372.5\\nmse = 52991403.592\\nsamples = 184\\nvalue = 19860.87'),\n",
              " Text(28.917207049643483, 65.232, 'area <= 364.0\\nmse = 47570498.002\\nsamples = 159\\nvalue = 19423.899'),\n",
              " Text(28.436755011435494, 50.73599999999999, 'area <= 361.5\\nmse = 49720791.51\\nsamples = 142\\nvalue = 19718.31'),\n",
              " Text(28.316642001883494, 36.23999999999998, 'furnishing <= 1.5\\nmse = 47940265.58\\nsamples = 141\\nvalue = 19595.745'),\n",
              " Text(28.076415982779498, 21.744, 'area <= 355.0\\nmse = 55634217.609\\nsamples = 51\\nvalue = 20609.804'),\n",
              " Text(27.9563029732275, 7.2479999999999905, 'mse = 42172949.38\\nsamples = 44\\nvalue = 19752.273'),\n",
              " Text(28.196528992331498, 7.2479999999999905, 'mse = 106571428.571\\nsamples = 7\\nvalue = 26000.0'),\n",
              " Text(28.55686802098749, 21.744, 'area <= 355.0\\nmse = 42667443.21\\nsamples = 90\\nvalue = 19021.111'),\n",
              " Text(28.436755011435494, 7.2479999999999905, 'mse = 42872044.707\\nsamples = 78\\nvalue = 19364.103'),\n",
              " Text(28.676981030539487, 7.2479999999999905, 'mse = 35602430.556\\nsamples = 12\\nvalue = 16791.667'),\n",
              " Text(28.55686802098749, 36.23999999999998, 'mse = 0.0\\nsamples = 1\\nvalue = 37000.0'),\n",
              " Text(29.397659087851476, 50.73599999999999, 'area <= 369.5\\nmse = 22837577.855\\nsamples = 17\\nvalue = 16964.706'),\n",
              " Text(29.15743306874748, 36.23999999999998, 'bathroom_num <= 1.5\\nmse = 6995041.322\\nsamples = 11\\nvalue = 15536.364'),\n",
              " Text(29.037320059195483, 21.744, 'furnishing <= 1.5\\nmse = 7670900.0\\nsamples = 10\\nvalue = 15490.0'),\n",
              " Text(28.917207049643483, 7.2479999999999905, 'mse = 13101875.0\\nsamples = 4\\nvalue = 15225.0'),\n",
              " Text(29.15743306874748, 7.2479999999999905, 'mse = 3972222.222\\nsamples = 6\\nvalue = 15666.667'),\n",
              " Text(29.277546078299476, 21.744, 'mse = 0.0\\nsamples = 1\\nvalue = 16000.0'),\n",
              " Text(29.637885106955473, 36.23999999999998, 'bathroom_num <= 1.5\\nmse = 41284722.222\\nsamples = 6\\nvalue = 19583.333'),\n",
              " Text(29.517772097403473, 21.744, 'furnishing <= 1.5\\nmse = 47562500.0\\nsamples = 4\\nvalue = 21750.0'),\n",
              " Text(29.397659087851476, 7.2479999999999905, 'mse = 0.0\\nsamples = 1\\nvalue = 24000.0'),\n",
              " Text(29.637885106955473, 7.2479999999999905, 'mse = 61166666.667\\nsamples = 3\\nvalue = 21000.0'),\n",
              " Text(29.75799811650747, 21.744, 'mse = 562500.0\\nsamples = 2\\nvalue = 15250.0'),\n",
              " Text(30.118337145163462, 65.232, 'bathroom_num <= 1.5\\nmse = 78530400.0\\nsamples = 25\\nvalue = 22640.0'),\n",
              " Text(29.998224135611466, 50.73599999999999, 'furnishing <= 1.5\\nmse = 72136363.636\\nsamples = 22\\nvalue = 23500.0'),\n",
              " Text(29.878111126059466, 36.23999999999998, 'mse = 56859375.0\\nsamples = 8\\nvalue = 24125.0'),\n",
              " Text(30.118337145163462, 36.23999999999998, 'mse = 80515306.122\\nsamples = 14\\nvalue = 23142.857'),\n",
              " Text(30.238450154715462, 50.73599999999999, 'mse = 80222222.222\\nsamples = 3\\nvalue = 16333.333'),\n",
              " Text(31.694820395533434, 94.22399999999999, 'area <= 385.5\\nmse = 27598849.826\\nsamples = 48\\nvalue = 15489.583'),\n",
              " Text(30.989156464415448, 79.72799999999998, 'area <= 378.5\\nmse = 24021842.561\\nsamples = 34\\nvalue = 14014.706'),\n",
              " Text(30.598789183371455, 65.232, 'area <= 376.5\\nmse = 1562500.0\\nsamples = 2\\nvalue = 7750.0'),\n",
              " Text(30.478676173819455, 50.73599999999999, 'mse = 0.0\\nsamples = 1\\nvalue = 9000.0'),\n",
              " Text(30.71890219292345, 50.73599999999999, 'mse = 0.0\\nsamples = 1\\nvalue = 6500.0'),\n",
              " Text(31.37952374545944, 65.232, 'bathroom_num <= 1.5\\nmse = 22819335.938\\nsamples = 32\\nvalue = 14406.25'),\n",
              " Text(30.959128212027448, 50.73599999999999, 'furnishing <= 1.5\\nmse = 25020000.0\\nsamples = 25\\nvalue = 14900.0'),\n",
              " Text(30.71890219292345, 36.23999999999998, 'area <= 382.5\\nmse = 28166666.667\\nsamples = 3\\nvalue = 12500.0'),\n",
              " Text(30.598789183371455, 21.744, 'mse = 10562500.0\\nsamples = 2\\nvalue = 9250.0'),\n",
              " Text(30.83901520247545, 21.744, 'mse = 0.0\\nsamples = 1\\nvalue = 19000.0'),\n",
              " Text(31.199354231131444, 36.23999999999998, 'area <= 382.5\\nmse = 23698347.107\\nsamples = 22\\nvalue = 15227.273'),\n",
              " Text(31.079241221579444, 21.744, 'mse = 29678200.692\\nsamples = 17\\nvalue = 15205.882'),\n",
              " Text(31.31946724068344, 21.744, 'mse = 3360000.0\\nsamples = 5\\nvalue = 15300.0'),\n",
              " Text(31.799919278891434, 50.73599999999999, 'area <= 382.5\\nmse = 10979591.837\\nsamples = 7\\nvalue = 12642.857'),\n",
              " Text(31.679806269339434, 36.23999999999998, 'furnishing <= 1.5\\nmse = 8222222.222\\nsamples = 6\\nvalue = 11833.333'),\n",
              " Text(31.559693259787437, 21.744, 'mse = 0.0\\nsamples = 1\\nvalue = 6500.0'),\n",
              " Text(31.799919278891434, 21.744, 'mse = 3040000.0\\nsamples = 5\\nvalue = 12900.0'),\n",
              " Text(31.92003228844343, 36.23999999999998, 'mse = 0.0\\nsamples = 1\\nvalue = 17500.0'),\n",
              " Text(32.40048432665142, 79.72799999999998, 'bathroom_num <= 1.5\\nmse = 18173469.388\\nsamples = 14\\nvalue = 19071.429'),\n",
              " Text(32.16025830754742, 65.232, 'furnishing <= 1.5\\nmse = 9791666.667\\nsamples = 12\\nvalue = 18000.0'),\n",
              " Text(32.04014529799543, 50.73599999999999, 'mse = 15760000.0\\nsamples = 5\\nvalue = 17300.0'),\n",
              " Text(32.28037131709942, 50.73599999999999, 'mse = 4928571.429\\nsamples = 7\\nvalue = 18500.0'),\n",
              " Text(32.640710345755416, 65.232, 'area <= 388.0\\nmse = 20250000.0\\nsamples = 2\\nvalue = 25500.0'),\n",
              " Text(32.52059733620342, 50.73599999999999, 'mse = 0.0\\nsamples = 1\\nvalue = 21000.0'),\n",
              " Text(32.760823355307416, 50.73599999999999, 'mse = 0.0\\nsamples = 1\\nvalue = 30000.0'),\n",
              " Text(37.22377236647384, 123.216, 'furnishing <= 1.5\\nmse = 95389923.476\\nsamples = 427\\nvalue = 22649.124'),\n",
              " Text(35.47838019642137, 108.72, 'area <= 455.0\\nmse = 122191188.484\\nsamples = 128\\nvalue = 26062.492'),\n",
              " Text(34.47243374142339, 94.22399999999999, 'area <= 424.0\\nmse = 117218344.793\\nsamples = 121\\nvalue = 26719.0'),\n",
              " Text(33.5415579173954, 79.72799999999998, 'area <= 402.5\\nmse = 134009985.207\\nsamples = 52\\nvalue = 25596.154'),\n",
              " Text(33.12116238396341, 65.232, 'bathroom_num <= 1.5\\nmse = 155687500.0\\nsamples = 36\\nvalue = 26416.667'),\n",
              " Text(33.00104937441141, 50.73599999999999, 'mse = 169714843.75\\nsamples = 32\\nvalue = 25812.5'),\n",
              " Text(33.24127539351541, 50.73599999999999, 'area <= 396.5\\nmse = 17187500.0\\nsamples = 4\\nvalue = 31250.0'),\n",
              " Text(33.12116238396341, 36.23999999999998, 'mse = 0.0\\nsamples = 1\\nvalue = 25000.0'),\n",
              " Text(33.3613884030674, 36.23999999999998, 'mse = 5555555.556\\nsamples = 3\\nvalue = 33333.333'),\n",
              " Text(33.961953450827394, 65.232, 'area <= 411.0\\nmse = 80312500.0\\nsamples = 16\\nvalue = 23750.0'),\n",
              " Text(33.7217274317234, 50.73599999999999, 'bathroom_num <= 1.5\\nmse = 43142857.143\\nsamples = 7\\nvalue = 22000.0'),\n",
              " Text(33.6016144221714, 36.23999999999998, 'area <= 407.5\\nmse = 30500000.0\\nsamples = 4\\nvalue = 19000.0'),\n",
              " Text(33.4815014126194, 21.744, 'mse = 30250000.0\\nsamples = 2\\nvalue = 22500.0'),\n",
              " Text(33.7217274317234, 21.744, 'mse = 6250000.0\\nsamples = 2\\nvalue = 15500.0'),\n",
              " Text(33.841840441275394, 36.23999999999998, 'mse = 32000000.0\\nsamples = 3\\nvalue = 26000.0'),\n",
              " Text(34.20217946993139, 50.73599999999999, 'area <= 412.5\\nmse = 104987654.321\\nsamples = 9\\nvalue = 25111.111'),\n",
              " Text(34.082066460379394, 36.23999999999998, 'mse = 0.0\\nsamples = 1\\nvalue = 40000.0'),\n",
              " Text(34.32229247948339, 36.23999999999998, 'area <= 415.5\\nmse = 86937500.0\\nsamples = 8\\nvalue = 23250.0'),\n",
              " Text(34.082066460379394, 21.744, 'bathroom_num <= 1.5\\nmse = 4000000.0\\nsamples = 2\\nvalue = 26000.0'),\n",
              " Text(33.961953450827394, 7.2479999999999905, 'mse = 0.0\\nsamples = 1\\nvalue = 24000.0'),\n",
              " Text(34.20217946993139, 7.2479999999999905, 'mse = 0.0\\nsamples = 1\\nvalue = 28000.0'),\n",
              " Text(34.56251849858738, 21.744, 'area <= 421.5\\nmse = 111222222.222\\nsamples = 6\\nvalue = 22333.333'),\n",
              " Text(34.44240548903539, 7.2479999999999905, 'mse = 131760000.0\\nsamples = 5\\nvalue = 21800.0'),\n",
              " Text(34.68263150813938, 7.2479999999999905, 'mse = 0.0\\nsamples = 1\\nvalue = 25000.0'),\n",
              " Text(35.403309565451366, 79.72799999999998, 'area <= 431.5\\nmse = 102897560.191\\nsamples = 69\\nvalue = 27565.203'),\n",
              " Text(34.92285752724338, 65.232, 'bathroom_num <= 1.5\\nmse = 51340000.0\\nsamples = 20\\nvalue = 29600.0'),\n",
              " Text(34.68263150813938, 50.73599999999999, 'area <= 427.5\\nmse = 56525951.557\\nsamples = 17\\nvalue = 28941.176'),\n",
              " Text(34.56251849858738, 36.23999999999998, 'mse = 69504132.231\\nsamples = 11\\nvalue = 28363.636'),\n",
              " Text(34.80274451769138, 36.23999999999998, 'mse = 31000000.0\\nsamples = 6\\nvalue = 30000.0'),\n",
              " Text(35.16308354634737, 50.73599999999999, 'area <= 427.5\\nmse = 5555555.556\\nsamples = 3\\nvalue = 33333.333'),\n",
              " Text(35.04297053679537, 36.23999999999998, 'mse = 0.0\\nsamples = 1\\nvalue = 35000.0'),\n",
              " Text(35.28319655589937, 36.23999999999998, 'mse = 6250000.0\\nsamples = 2\\nvalue = 32500.0'),\n",
              " Text(35.88376160365936, 65.232, 'bathroom_num <= 1.5\\nmse = 121561724.302\\nsamples = 49\\nvalue = 26734.673'),\n",
              " Text(35.76364859410736, 50.73599999999999, 'area <= 437.5\\nmse = 125415101.778\\nsamples = 44\\nvalue = 27352.25'),\n",
              " Text(35.523422575003366, 36.23999999999998, 'area <= 434.0\\nmse = 16000000.0\\nsamples = 2\\nvalue = 21000.0'),\n",
              " Text(35.403309565451366, 21.744, 'mse = 0.0\\nsamples = 1\\nvalue = 25000.0'),\n",
              " Text(35.643535584555366, 21.744, 'mse = 0.0\\nsamples = 1\\nvalue = 17000.0'),\n",
              " Text(36.00387461321136, 36.23999999999998, 'area <= 445.0\\nmse = 128612365.67\\nsamples = 42\\nvalue = 27654.738'),\n",
              " Text(35.88376160365936, 21.744, 'mse = 86664687.688\\nsamples = 4\\nvalue = 25624.75'),\n",
              " Text(36.12398762276336, 21.744, 'mse = 132548476.454\\nsamples = 38\\nvalue = 27868.421'),\n",
              " Text(36.00387461321136, 50.73599999999999, 'mse = 54760000.0\\nsamples = 5\\nvalue = 21300.0'),\n",
              " Text(36.48432665141935, 94.22399999999999, 'area <= 462.5\\nmse = 71918367.347\\nsamples = 7\\nvalue = 14714.286'),\n",
              " Text(36.24410063231535, 79.72799999999998, 'bathroom_num <= 1.5\\nmse = 43250000.0\\nsamples = 4\\nvalue = 11500.0'),\n",
              " Text(36.12398762276336, 65.232, 'mse = 48666666.667\\nsamples = 3\\nvalue = 13000.0'),\n",
              " Text(36.36421364186735, 65.232, 'mse = 0.0\\nsamples = 1\\nvalue = 7000.0'),\n",
              " Text(36.724552670523344, 79.72799999999998, 'area <= 466.5\\nmse = 78000000.0\\nsamples = 3\\nvalue = 19000.0'),\n",
              " Text(36.604439660971344, 65.232, 'bathroom_num <= 1.5\\nmse = 9000000.0\\nsamples = 2\\nvalue = 25000.0'),\n",
              " Text(36.48432665141935, 50.73599999999999, 'mse = 0.0\\nsamples = 1\\nvalue = 28000.0'),\n",
              " Text(36.724552670523344, 50.73599999999999, 'mse = 0.0\\nsamples = 1\\nvalue = 22000.0'),\n",
              " Text(36.844665680075344, 65.232, 'mse = 0.0\\nsamples = 1\\nvalue = 7000.0'),\n",
              " Text(38.96916453652631, 108.72, 'area <= 419.5\\nmse = 76793492.478\\nsamples = 299\\nvalue = 21187.883'),\n",
              " Text(37.80556975649132, 94.22399999999999, 'area <= 410.5\\nmse = 54829016.686\\nsamples = 95\\nvalue = 19275.579'),\n",
              " Text(37.32511771828334, 79.72799999999998, 'area <= 405.0\\nmse = 54556135.478\\nsamples = 91\\nvalue = 19545.923'),\n",
              " Text(37.08489169917934, 65.232, 'bathroom_num <= 1.5\\nmse = 59257282.561\\nsamples = 60\\nvalue = 20159.65'),\n",
              " Text(36.96477868962734, 50.73599999999999, 'area <= 397.5\\nmse = 56971794.778\\nsamples = 53\\nvalue = 19784.509'),\n",
              " Text(36.844665680075344, 36.23999999999998, 'mse = 222222.222\\nsamples = 3\\nvalue = 18833.333'),\n",
              " Text(37.08489169917934, 36.23999999999998, 'mse = 60319227.924\\nsamples = 50\\nvalue = 19841.58'),\n",
              " Text(37.20500470873134, 50.73599999999999, 'mse = 67428571.429\\nsamples = 7\\nvalue = 23000.0'),\n",
              " Text(37.56534373738733, 65.232, 'bathroom_num <= 1.5\\nmse = 43317112.383\\nsamples = 31\\nvalue = 18358.065'),\n",
              " Text(37.44523072783533, 50.73599999999999, 'mse = 52121701.323\\nsamples = 23\\nvalue = 19121.739'),\n",
              " Text(37.68545674693933, 50.73599999999999, 'mse = 11506718.75\\nsamples = 8\\nvalue = 16162.5'),\n",
              " Text(38.286021794699316, 79.72799999999998, 'bathroom_num <= 1.5\\nmse = 21547812.688\\nsamples = 4\\nvalue = 13125.25'),\n",
              " Text(38.04579577559532, 65.232, 'area <= 417.0\\nmse = 4000000.0\\nsamples = 2\\nvalue = 16000.0'),\n",
              " Text(37.92568276604332, 50.73599999999999, 'mse = 0.0\\nsamples = 1\\nvalue = 14000.0'),\n",
              " Text(38.165908785147316, 50.73599999999999, 'mse = 0.0\\nsamples = 1\\nvalue = 18000.0'),\n",
              " Text(38.526247813803316, 65.232, 'area <= 411.5\\nmse = 22567250.25\\nsamples = 2\\nvalue = 10250.5'),\n",
              " Text(38.406134804251316, 50.73599999999999, 'mse = 0.0\\nsamples = 1\\nvalue = 15001.0'),\n",
              " Text(38.64636082335531, 50.73599999999999, 'mse = 0.0\\nsamples = 1\\nvalue = 5500.0'),\n",
              " Text(40.132759316561284, 94.22399999999999, 'bathroom_num <= 1.5\\nmse = 84526025.871\\nsamples = 204\\nvalue = 22078.417'),\n",
              " Text(39.337010628279295, 79.72799999999998, 'area <= 452.5\\nmse = 76184905.445\\nsamples = 151\\nvalue = 22870.841'),\n",
              " Text(39.0066998520113, 65.232, 'area <= 422.5\\nmse = 77619345.816\\nsamples = 137\\nvalue = 23166.036'),\n",
              " Text(38.88658684245931, 50.73599999999999, 'mse = 74687500.0\\nsamples = 4\\nvalue = 27750.0'),\n",
              " Text(39.1268128615633, 50.73599999999999, 'area <= 443.5\\nmse = 77056553.722\\nsamples = 133\\nvalue = 23028.173'),\n",
              " Text(38.82653033768331, 36.23999999999998, 'area <= 438.5\\nmse = 90788896.0\\nsamples = 25\\nvalue = 22148.0'),\n",
              " Text(38.58630431857931, 21.744, 'area <= 437.5\\nmse = 90087936.508\\nsamples = 21\\nvalue = 23033.333'),\n",
              " Text(38.466191309027316, 7.2479999999999905, 'mse = 92044275.0\\nsamples = 20\\nvalue = 22685.0'),\n",
              " Text(38.70641732813131, 7.2479999999999905, 'mse = 0.0\\nsamples = 1\\nvalue = 30000.0'),\n",
              " Text(39.0667563567873, 21.744, 'area <= 439.5\\nmse = 68750000.0\\nsamples = 4\\nvalue = 17500.0'),\n",
              " Text(38.9466433472353, 7.2479999999999905, 'mse = 0.0\\nsamples = 1\\nvalue = 6000.0'),\n",
              " Text(39.1868693663393, 7.2479999999999905, 'mse = 32888888.889\\nsamples = 3\\nvalue = 21333.333'),\n",
              " Text(39.427095385443295, 36.23999999999998, 'area <= 447.5\\nmse = 73656929.558\\nsamples = 108\\nvalue = 23231.917'),\n",
              " Text(39.3069823758913, 21.744, 'mse = 0.0\\nsamples = 1\\nvalue = 28000.0'),\n",
              " Text(39.547208394995295, 21.744, 'mse = 74130853.276\\nsamples = 107\\nvalue = 23187.355'),\n",
              " Text(39.667321404547295, 65.232, 'area <= 457.5\\nmse = 52950573.98\\nsamples = 14\\nvalue = 19982.143'),\n",
              " Text(39.547208394995295, 50.73599999999999, 'mse = 23500000.0\\nsamples = 4\\nvalue = 18000.0'),\n",
              " Text(39.78743441409929, 50.73599999999999, 'area <= 460.5\\nmse = 62530625.0\\nsamples = 10\\nvalue = 20775.0'),\n",
              " Text(39.667321404547295, 36.23999999999998, 'mse = 88717013.889\\nsamples = 6\\nvalue = 21958.333'),\n",
              " Text(39.90754742365129, 36.23999999999998, 'area <= 463.0\\nmse = 18000000.0\\nsamples = 4\\nvalue = 19000.0'),\n",
              " Text(39.78743441409929, 21.744, 'mse = 0.0\\nsamples = 1\\nvalue = 15000.0'),\n",
              " Text(40.02766043320329, 21.744, 'mse = 16888888.889\\nsamples = 3\\nvalue = 20333.333'),\n",
              " Text(40.92850800484327, 79.72799999999998, 'area <= 446.5\\nmse = 101404286.223\\nsamples = 53\\nvalue = 19820.755'),\n",
              " Text(40.62822548096327, 65.232, 'area <= 443.5\\nmse = 168461600.0\\nsamples = 10\\nvalue = 26180.0'),\n",
              " Text(40.50811247141128, 50.73599999999999, 'area <= 441.5\\nmse = 143452098.765\\nsamples = 9\\nvalue = 24088.889'),\n",
              " Text(40.38799946185928, 36.23999999999998, 'area <= 440.5\\nmse = 128578367.347\\nsamples = 7\\nvalue = 26614.286'),\n",
              " Text(40.26788645230728, 21.744, 'area <= 424.0\\nmse = 29654400.0\\nsamples = 5\\nvalue = 20060.0'),\n",
              " Text(40.14777344275528, 7.2479999999999905, 'mse = 25000000.0\\nsamples = 2\\nvalue = 24000.0'),\n",
              " Text(40.38799946185928, 7.2479999999999905, 'mse = 15508888.889\\nsamples = 3\\nvalue = 17433.333'),\n",
              " Text(40.50811247141128, 21.744, 'mse = 0.0\\nsamples = 2\\nvalue = 43000.0'),\n",
              " Text(40.62822548096327, 36.23999999999998, 'mse = 95062500.0\\nsamples = 2\\nvalue = 15250.0'),\n",
              " Text(40.74833849051527, 50.73599999999999, 'mse = 0.0\\nsamples = 1\\nvalue = 45000.0'),\n",
              " Text(41.228790528723266, 65.232, 'area <= 450.5\\nmse = 74217782.585\\nsamples = 43\\nvalue = 18341.86'),\n",
              " Text(40.988564509619266, 50.73599999999999, 'area <= 449.0\\nmse = 60784835.646\\nsamples = 37\\nvalue = 17005.405'),\n",
              " Text(40.86845150006727, 36.23999999999998, 'mse = 0.0\\nsamples = 1\\nvalue = 2200.0'),\n",
              " Text(41.108677519171266, 36.23999999999998, 'mse = 56215277.778\\nsamples = 36\\nvalue = 17416.667'),\n",
              " Text(41.46901654782726, 50.73599999999999, 'area <= 454.5\\nmse = 78118055.556\\nsamples = 6\\nvalue = 26583.333'),\n",
              " Text(41.34890353827526, 36.23999999999998, 'mse = 62500.0\\nsamples = 2\\nvalue = 37250.0'),\n",
              " Text(41.58912955737926, 36.23999999999998, 'area <= 458.5\\nmse = 31812500.0\\nsamples = 4\\nvalue = 21250.0'),\n",
              " Text(41.46901654782726, 21.744, 'mse = 0.0\\nsamples = 1\\nvalue = 25000.0'),\n",
              " Text(41.70924256693126, 21.744, 'area <= 459.5\\nmse = 36166666.667\\nsamples = 3\\nvalue = 20000.0'),\n",
              " Text(41.58912955737926, 7.2479999999999905, 'mse = 0.0\\nsamples = 1\\nvalue = 13500.0'),\n",
              " Text(41.82935557648325, 7.2479999999999905, 'mse = 22562500.0\\nsamples = 2\\nvalue = 23250.0'),\n",
              " Text(65.82052166016413, 152.208, 'area <= 649.5\\nmse = 176398844.945\\nsamples = 3959\\nvalue = 27764.227'),\n",
              " Text(57.4825205166151, 137.712, 'furnishing <= 1.5\\nmse = 167836770.266\\nsamples = 2722\\nvalue = 26396.812'),\n",
              " Text(49.92009282927486, 123.216, 'bathroom_num <= 1.5\\nmse = 197713438.114\\nsamples = 1230\\nvalue = 28082.463'),\n",
              " Text(46.12714919951568, 108.72, 'area <= 587.5\\nmse = 223346074.779\\nsamples = 696\\nvalue = 29790.49'),\n",
              " Text(45.0198573927082, 94.22399999999999, 'area <= 562.5\\nmse = 218064041.612\\nsamples = 424\\nvalue = 28544.625'),\n",
              " Text(44.06646037938921, 79.72799999999998, 'area <= 547.5\\nmse = 239422830.056\\nsamples = 342\\nvalue = 29727.868'),\n",
              " Text(43.30073994349523, 65.232, 'area <= 523.0\\nmse = 217213279.294\\nsamples = 176\\nvalue = 28116.085'),\n",
              " Text(42.61009013857124, 50.73599999999999, 'area <= 489.5\\nmse = 259552738.184\\nsamples = 132\\nvalue = 30041.144'),\n",
              " Text(42.309807614691245, 36.23999999999998, 'bedroom_num <= 1.5\\nmse = 98832248.013\\nsamples = 26\\nvalue = 25695.423'),\n",
              " Text(42.189694605139245, 21.744, 'area <= 482.5\\nmse = 78211899.622\\nsamples = 25\\nvalue = 24723.24'),\n",
              " Text(42.06958159558725, 7.2479999999999905, 'mse = 56406999.14\\nsamples = 22\\nvalue = 25420.364'),\n",
              " Text(42.309807614691245, 7.2479999999999905, 'mse = 208415642.0\\nsamples = 3\\nvalue = 19611.0'),\n",
              " Text(42.429920624243245, 21.744, 'mse = 0.0\\nsamples = 1\\nvalue = 50000.0'),\n",
              " Text(42.91037266245124, 36.23999999999998, 'area <= 507.5\\nmse = 293206294.277\\nsamples = 106\\nvalue = 31107.075'),\n",
              " Text(42.67014664334724, 21.744, 'area <= 497.0\\nmse = 329201976.687\\nsamples = 84\\nvalue = 32079.167'),\n",
              " Text(42.55003363379524, 7.2479999999999905, 'mse = 51990000.0\\nsamples = 5\\nvalue = 34350.0'),\n",
              " Text(42.79025965289924, 7.2479999999999905, 'mse = 346400009.614\\nsamples = 79\\nvalue = 31935.443'),\n",
              " Text(43.15059868155523, 21.744, 'area <= 520.5\\nmse = 138384070.248\\nsamples = 22\\nvalue = 27395.455'),\n",
              " Text(43.03048567200323, 7.2479999999999905, 'mse = 142088888.889\\nsamples = 21\\nvalue = 27033.333'),\n",
              " Text(43.27071169110723, 7.2479999999999905, 'mse = 0.0\\nsamples = 1\\nvalue = 35000.0'),\n",
              " Text(43.991389748419216, 50.73599999999999, 'area <= 533.5\\nmse = 45724690.083\\nsamples = 44\\nvalue = 22340.909'),\n",
              " Text(43.751163729315216, 36.23999999999998, 'area <= 531.0\\nmse = 40465706.447\\nsamples = 27\\nvalue = 23314.815'),\n",
              " Text(43.63105071976322, 21.744, 'area <= 527.5\\nmse = 44276859.504\\nsamples = 22\\nvalue = 22363.636'),\n",
              " Text(43.51093771021122, 7.2479999999999905, 'mse = 28226666.667\\nsamples = 15\\nvalue = 22300.0'),\n",
              " Text(43.751163729315216, 7.2479999999999905, 'mse = 78642857.143\\nsamples = 7\\nvalue = 22500.0'),\n",
              " Text(43.871276738867216, 21.744, 'mse = 2200000.0\\nsamples = 5\\nvalue = 27500.0'),\n",
              " Text(44.23161576752321, 36.23999999999998, 'area <= 537.5\\nmse = 50178200.692\\nsamples = 17\\nvalue = 20794.118'),\n",
              " Text(44.111502757971216, 21.744, 'mse = 4000000.0\\nsamples = 2\\nvalue = 17000.0'),\n",
              " Text(44.35172877707521, 21.744, 'area <= 542.0\\nmse = 54160000.0\\nsamples = 15\\nvalue = 21300.0'),\n",
              " Text(44.23161576752321, 7.2479999999999905, 'mse = 45194214.876\\nsamples = 11\\nvalue = 22181.818'),\n",
              " Text(44.47184178662721, 7.2479999999999905, 'mse = 70796875.0\\nsamples = 4\\nvalue = 18875.0'),\n",
              " Text(44.8321808152832, 65.232, 'area <= 555.5\\nmse = 257295697.852\\nsamples = 166\\nvalue = 31436.747'),\n",
              " Text(44.5919547961792, 50.73599999999999, 'area <= 551.5\\nmse = 178081100.467\\nsamples = 147\\nvalue = 31207.483'),\n",
              " Text(44.47184178662721, 36.23999999999998, 'mse = 179754061.667\\nsamples = 141\\nvalue = 31464.539'),\n",
              " Text(44.7120678057312, 36.23999999999998, 'area <= 554.0\\nmse = 100722222.222\\nsamples = 6\\nvalue = 25166.667'),\n",
              " Text(44.5919547961792, 21.744, 'mse = 0.0\\nsamples = 1\\nvalue = 16000.0'),\n",
              " Text(44.8321808152832, 21.744, 'mse = 100700000.0\\nsamples = 5\\nvalue = 27000.0'),\n",
              " Text(45.072406834387195, 50.73599999999999, 'area <= 558.0\\nmse = 866613573.407\\nsamples = 19\\nvalue = 33210.526'),\n",
              " Text(44.952293824835195, 36.23999999999998, 'mse = 0.0\\nsamples = 1\\nvalue = 50000.0'),\n",
              " Text(45.192519843939195, 36.23999999999998, 'mse = 898228395.062\\nsamples = 18\\nvalue = 32277.778'),\n",
              " Text(45.97325440602718, 79.72799999999998, 'area <= 582.5\\nmse = 98788835.232\\nsamples = 82\\nvalue = 23609.634'),\n",
              " Text(45.85314139647518, 65.232, 'area <= 566.5\\nmse = 91532074.911\\nsamples = 73\\nvalue = 22821.781'),\n",
              " Text(45.55285887259519, 50.73599999999999, 'bedroom_num <= 1.5\\nmse = 20443786.982\\nsamples = 13\\nvalue = 19807.692'),\n",
              " Text(45.43274586304319, 36.23999999999998, 'mse = 19713541.667\\nsamples = 12\\nvalue = 19375.0'),\n",
              " Text(45.67297188214719, 36.23999999999998, 'mse = 0.0\\nsamples = 1\\nvalue = 25000.0'),\n",
              " Text(46.15342392035517, 50.73599999999999, 'area <= 569.5\\nmse = 104539701.639\\nsamples = 60\\nvalue = 23474.833'),\n",
              " Text(45.91319790125118, 36.23999999999998, 'area <= 568.5\\nmse = 25000000.0\\nsamples = 2\\nvalue = 27000.0'),\n",
              " Text(45.79308489169918, 21.744, 'mse = 0.0\\nsamples = 1\\nvalue = 22000.0'),\n",
              " Text(46.03331091080318, 21.744, 'mse = 0.0\\nsamples = 1\\nvalue = 32000.0'),\n",
              " Text(46.39364993945917, 36.23999999999998, 'area <= 577.5\\nmse = 106839163.407\\nsamples = 58\\nvalue = 23353.276'),\n",
              " Text(46.27353692990717, 21.744, 'area <= 572.5\\nmse = 67161814.171\\nsamples = 37\\nvalue = 23134.865'),\n",
              " Text(46.15342392035517, 7.2479999999999905, 'mse = 119250000.0\\nsamples = 4\\nvalue = 22500.0'),\n",
              " Text(46.39364993945917, 7.2479999999999905, 'mse = 60793317.906\\nsamples = 33\\nvalue = 23211.818'),\n",
              " Text(46.51376294901117, 21.744, 'mse = 176514739.229\\nsamples = 21\\nvalue = 23738.095'),\n",
              " Text(46.09336741557918, 65.232, 'mse = 111777777.778\\nsamples = 9\\nvalue = 30000.0'),\n",
              " Text(47.23444100632316, 94.22399999999999, 'area <= 593.0\\nmse = 225388569.848\\nsamples = 272\\nvalue = 31732.574'),\n",
              " Text(46.99421498721916, 79.72799999999998, 'area <= 590.5\\nmse = 360290000.0\\nsamples = 10\\nvalue = 40900.0'),\n",
              " Text(46.874101977667166, 65.232, 'mse = 399777777.778\\nsamples = 9\\nvalue = 40666.667'),\n",
              " Text(47.11432799677116, 65.232, 'mse = 0.0\\nsamples = 1\\nvalue = 43000.0'),\n",
              " Text(47.47466702542715, 79.72799999999998, 'area <= 597.0\\nmse = 216909530.266\\nsamples = 262\\nvalue = 31382.672'),\n",
              " Text(47.35455401587515, 65.232, 'mse = 31989795.918\\nsamples = 7\\nvalue = 18714.286'),\n",
              " Text(47.59478003497915, 65.232, 'area <= 606.0\\nmse = 217459268.441\\nsamples = 255\\nvalue = 31730.431'),\n",
              " Text(47.11432799677116, 50.73599999999999, 'bedroom_num <= 1.5\\nmse = 193836408.651\\nsamples = 170\\nvalue = 32998.235'),\n",
              " Text(46.874101977667166, 36.23999999999998, 'area <= 599.5\\nmse = 193210202.868\\nsamples = 163\\nvalue = 32844.785'),\n",
              " Text(46.753988968115166, 21.744, 'mse = 100000000.0\\nsamples = 2\\nvalue = 29000.0'),\n",
              " Text(46.99421498721916, 21.744, 'area <= 602.5\\nmse = 194182180.471\\nsamples = 161\\nvalue = 32892.547'),\n",
              " Text(46.874101977667166, 7.2479999999999905, 'mse = 196063736.981\\nsamples = 158\\nvalue = 32884.177'),\n",
              " Text(47.11432799677116, 7.2479999999999905, 'mse = 94888888.889\\nsamples = 3\\nvalue = 33333.333'),\n",
              " Text(47.35455401587515, 36.23999999999998, 'area <= 602.5\\nmse = 195102040.816\\nsamples = 7\\nvalue = 36571.429'),\n",
              " Text(47.23444100632316, 21.744, 'mse = 201583333.333\\nsamples = 6\\nvalue = 38500.0'),\n",
              " Text(47.47466702542715, 21.744, 'mse = 0.0\\nsamples = 1\\nvalue = 25000.0'),\n",
              " Text(48.075232073187145, 50.73599999999999, 'area <= 613.0\\nmse = 255061027.322\\nsamples = 85\\nvalue = 29194.824'),\n",
              " Text(47.835006054083145, 36.23999999999998, 'area <= 610.5\\nmse = 84189876.543\\nsamples = 18\\nvalue = 22211.111'),\n",
              " Text(47.71489304453115, 21.744, 'area <= 608.5\\nmse = 84942906.574\\nsamples = 17\\nvalue = 22694.118'),\n",
              " Text(47.59478003497915, 7.2479999999999905, 'mse = 0.0\\nsamples = 1\\nvalue = 18500.0'),\n",
              " Text(47.835006054083145, 7.2479999999999905, 'mse = 89083710.938\\nsamples = 16\\nvalue = 22956.25'),\n",
              " Text(47.955119063635145, 21.744, 'mse = 0.0\\nsamples = 1\\nvalue = 14000.0'),\n",
              " Text(48.31545809229114, 36.23999999999998, 'area <= 642.5\\nmse = 284343513.834\\nsamples = 67\\nvalue = 31071.045'),\n",
              " Text(48.19534508273914, 21.744, 'area <= 627.5\\nmse = 286484220.386\\nsamples = 66\\nvalue = 31250.909'),\n",
              " Text(48.075232073187145, 7.2479999999999905, 'mse = 270557256.236\\nsamples = 42\\nvalue = 32119.048'),\n",
              " Text(48.31545809229114, 7.2479999999999905, 'mse = 310729397.222\\nsamples = 24\\nvalue = 29731.667'),\n",
              " Text(48.43557110184314, 21.744, 'mse = 0.0\\nsamples = 1\\nvalue = 19200.0'),\n",
              " Text(53.71303645903404, 108.72, 'area <= 628.5\\nmse = 155546283.235\\nsamples = 534\\nvalue = 25856.272'),\n",
              " Text(51.96389075743307, 94.22399999999999, 'area <= 597.5\\nmse = 145726408.897\\nsamples = 463\\nvalue = 26899.879'),\n",
              " Text(50.012054352213106, 79.72799999999998, 'area <= 557.5\\nmse = 154446520.058\\nsamples = 238\\nvalue = 24495.773'),\n",
              " Text(49.006107897215124, 65.232, 'area <= 489.0\\nmse = 111110933.809\\nsamples = 117\\nvalue = 26464.949'),\n",
              " Text(48.67579712094713, 50.73599999999999, 'area <= 477.5\\nmse = 39062500.0\\nsamples = 2\\nvalue = 16250.0'),\n",
              " Text(48.55568411139513, 36.23999999999998, 'mse = 0.0\\nsamples = 1\\nvalue = 22500.0'),\n",
              " Text(48.79591013049913, 36.23999999999998, 'mse = 0.0\\nsamples = 1\\nvalue = 10000.0'),\n",
              " Text(49.33641867348312, 50.73599999999999, 'bedroom_num <= 1.5\\nmse = 110517691.336\\nsamples = 115\\nvalue = 26642.6'),\n",
              " Text(49.036136149603124, 36.23999999999998, 'area <= 505.5\\nmse = 104403432.614\\nsamples = 107\\nvalue = 26148.598'),\n",
              " Text(48.79591013049913, 21.744, 'area <= 501.5\\nmse = 193105888.43\\nsamples = 22\\nvalue = 30204.545'),\n",
              " Text(48.67579712094713, 7.2479999999999905, 'mse = 201154195.011\\nsamples = 21\\nvalue = 29976.19'),\n",
              " Text(48.91602314005113, 7.2479999999999905, 'mse = 0.0\\nsamples = 1\\nvalue = 35000.0'),\n",
              " Text(49.276362168707124, 21.744, 'area <= 531.0\\nmse = 76085292.734\\nsamples = 85\\nvalue = 25098.824'),\n",
              " Text(49.156249159155124, 7.2479999999999905, 'mse = 27821329.64\\nsamples = 19\\nvalue = 22184.211'),\n",
              " Text(49.39647517825912, 7.2479999999999905, 'mse = 86829928.834\\nsamples = 66\\nvalue = 25937.879'),\n",
              " Text(49.63670119736312, 36.23999999999998, 'area <= 514.0\\nmse = 145375812.609\\nsamples = 8\\nvalue = 33249.875'),\n",
              " Text(49.51658818781112, 21.744, 'mse = 0.0\\nsamples = 1\\nvalue = 12500.0'),\n",
              " Text(49.75681420691511, 21.744, 'area <= 545.0\\nmse = 95848714.408\\nsamples = 7\\nvalue = 36214.143'),\n",
              " Text(49.63670119736312, 7.2479999999999905, 'mse = 1562500.0\\nsamples = 2\\nvalue = 31250.0'),\n",
              " Text(49.87692721646711, 7.2479999999999905, 'mse = 119763280.16\\nsamples = 5\\nvalue = 38199.8'),\n",
              " Text(51.01800080721109, 65.232, 'area <= 572.5\\nmse = 188974542.791\\nsamples = 121\\nvalue = 22591.694'),\n",
              " Text(50.3573792546751, 50.73599999999999, 'bedroom_num <= 1.5\\nmse = 105723883.18\\nsamples = 43\\nvalue = 15553.488'),\n",
              " Text(50.1171532355711, 36.23999999999998, 'area <= 562.5\\nmse = 97274039.262\\nsamples = 41\\nvalue = 14775.61'),\n",
              " Text(49.99704022601911, 21.744, 'mse = 110695306.122\\nsamples = 28\\nvalue = 13557.143'),\n",
              " Text(50.2372662451231, 21.744, 'area <= 567.5\\nmse = 58281538.462\\nsamples = 13\\nvalue = 17400.0'),\n",
              " Text(50.1171532355711, 7.2479999999999905, 'mse = 9546875.0\\nsamples = 4\\nvalue = 18875.0'),\n",
              " Text(50.3573792546751, 7.2479999999999905, 'mse = 78544691.358\\nsamples = 9\\nvalue = 16744.444'),\n",
              " Text(50.597605273779095, 36.23999999999998, 'area <= 567.5\\nmse = 12250000.0\\nsamples = 2\\nvalue = 31500.0'),\n",
              " Text(50.4774922642271, 21.744, 'mse = 0.0\\nsamples = 1\\nvalue = 28000.0'),\n",
              " Text(50.717718283331095, 21.744, 'mse = 0.0\\nsamples = 1\\nvalue = 35000.0'),\n",
              " Text(51.67862235974708, 50.73599999999999, 'area <= 582.5\\nmse = 192505957.581\\nsamples = 78\\nvalue = 26471.731'),\n",
              " Text(51.19817032153909, 36.23999999999998, 'bedroom_num <= 1.5\\nmse = 182566358.025\\nsamples = 36\\nvalue = 30444.444'),\n",
              " Text(50.95794430243509, 21.744, 'area <= 577.5\\nmse = 188216479.239\\nsamples = 34\\nvalue = 30838.235'),\n",
              " Text(50.837831292883095, 7.2479999999999905, 'mse = 243770400.0\\nsamples = 25\\nvalue = 31140.0'),\n",
              " Text(51.07805731198709, 7.2479999999999905, 'mse = 32944444.444\\nsamples = 9\\nvalue = 30000.0'),\n",
              " Text(51.43839634064308, 21.744, 'area <= 578.5\\nmse = 39062500.0\\nsamples = 2\\nvalue = 23750.0'),\n",
              " Text(51.31828333109108, 7.2479999999999905, 'mse = 0.0\\nsamples = 1\\nvalue = 30000.0'),\n",
              " Text(51.55850935019508, 7.2479999999999905, 'mse = 0.0\\nsamples = 1\\nvalue = 17500.0'),\n",
              " Text(52.15907439795507, 36.23999999999998, 'area <= 588.0\\nmse = 175902524.391\\nsamples = 42\\nvalue = 23066.548'),\n",
              " Text(51.918848378851074, 21.744, 'area <= 585.5\\nmse = 168026466.837\\nsamples = 28\\nvalue = 24732.143'),\n",
              " Text(51.798735369299074, 7.2479999999999905, 'mse = 139061728.395\\nsamples = 27\\nvalue = 23611.111'),\n",
              " Text(52.038961388403074, 7.2479999999999905, 'mse = 0.0\\nsamples = 1\\nvalue = 55000.0'),\n",
              " Text(52.39930041705907, 21.744, 'area <= 592.5\\nmse = 175009394.515\\nsamples = 14\\nvalue = 19735.357'),\n",
              " Text(52.27918740750707, 7.2479999999999905, 'mse = 229056032.25\\nsamples = 10\\nvalue = 17729.5'),\n",
              " Text(52.51941342661106, 7.2479999999999905, 'mse = 4687500.0\\nsamples = 4\\nvalue = 24750.0'),\n",
              " Text(53.915727162653035, 79.72799999999998, 'bedroom_num <= 1.5\\nmse = 123921904.988\\nsamples = 225\\nvalue = 29442.889'),\n",
              " Text(53.15000672675905, 65.232, 'area <= 600.5\\nmse = 117677316.828\\nsamples = 212\\nvalue = 28932.311'),\n",
              " Text(52.63952643616306, 50.73599999999999, 'area <= 599.0\\nmse = 111184841.156\\nsamples = 128\\nvalue = 29583.984'),\n",
              " Text(52.51941342661106, 36.23999999999998, 'mse = 0.0\\nsamples = 1\\nvalue = 37000.0'),\n",
              " Text(52.75963944571506, 36.23999999999998, 'bathroom_num <= 3.5\\nmse = 111623852.998\\nsamples = 127\\nvalue = 29525.591'),\n",
              " Text(52.63952643616306, 21.744, 'mse = 112491138.353\\nsamples = 126\\nvalue = 29537.698'),\n",
              " Text(52.87975245526706, 21.744, 'mse = 0.0\\nsamples = 1\\nvalue = 28000.0'),\n",
              " Text(53.660487017355045, 50.73599999999999, 'area <= 612.5\\nmse = 125937385.204\\nsamples = 84\\nvalue = 27939.286'),\n",
              " Text(53.24009148392305, 36.23999999999998, 'area <= 602.0\\nmse = 75427159.209\\nsamples = 31\\nvalue = 25483.871'),\n",
              " Text(53.11997847437105, 21.744, 'mse = 0.0\\nsamples = 1\\nvalue = 19000.0'),\n",
              " Text(53.360204493475045, 21.744, 'area <= 608.5\\nmse = 76493333.333\\nsamples = 30\\nvalue = 25700.0'),\n",
              " Text(53.24009148392305, 7.2479999999999905, 'mse = 2250000.0\\nsamples = 2\\nvalue = 28500.0'),\n",
              " Text(53.480317503027045, 7.2479999999999905, 'mse = 81196428.571\\nsamples = 28\\nvalue = 25500.0'),\n",
              " Text(54.08088255078704, 36.23999999999998, 'area <= 622.5\\nmse = 149892039.872\\nsamples = 53\\nvalue = 29375.472'),\n",
              " Text(53.84065653168304, 21.744, 'area <= 617.5\\nmse = 74140831.758\\nsamples = 23\\nvalue = 27978.261'),\n",
              " Text(53.72054352213104, 7.2479999999999905, 'mse = 30984375.0\\nsamples = 8\\nvalue = 30625.0'),\n",
              " Text(53.96076954123504, 7.2479999999999905, 'mse = 91428888.889\\nsamples = 15\\nvalue = 26566.667'),\n",
              " Text(54.32110856989103, 21.744, 'area <= 626.0\\nmse = 205323822.222\\nsamples = 30\\nvalue = 30446.667'),\n",
              " Text(54.20099556033903, 7.2479999999999905, 'mse = 211345707.491\\nsamples = 29\\nvalue = 30634.483'),\n",
              " Text(54.44122157944303, 7.2479999999999905, 'mse = 0.0\\nsamples = 1\\nvalue = 25000.0'),\n",
              " Text(54.681447598547024, 65.232, 'area <= 609.5\\nmse = 152177514.793\\nsamples = 13\\nvalue = 37769.231'),\n",
              " Text(54.44122157944303, 50.73599999999999, 'area <= 604.5\\nmse = 164859375.0\\nsamples = 8\\nvalue = 34875.0'),\n",
              " Text(54.32110856989103, 36.23999999999998, 'mse = 188408163.265\\nsamples = 7\\nvalue = 34857.143'),\n",
              " Text(54.561334588995024, 36.23999999999998, 'mse = 0.0\\nsamples = 1\\nvalue = 35000.0'),\n",
              " Text(54.92167361765102, 50.73599999999999, 'area <= 623.5\\nmse = 97040000.0\\nsamples = 5\\nvalue = 42400.0'),\n",
              " Text(54.801560608099024, 36.23999999999998, 'area <= 615.0\\nmse = 119187500.0\\nsamples = 4\\nvalue = 41750.0'),\n",
              " Text(54.681447598547024, 21.744, 'mse = 81000000.0\\nsamples = 2\\nvalue = 41000.0'),\n",
              " Text(54.92167361765102, 21.744, 'mse = 156250000.0\\nsamples = 2\\nvalue = 42500.0'),\n",
              " Text(55.04178662720302, 36.23999999999998, 'mse = 0.0\\nsamples = 1\\nvalue = 45000.0'),\n",
              " Text(55.46218216063501, 94.22399999999999, 'area <= 634.5\\nmse = 166165872.991\\nsamples = 71\\nvalue = 19050.775'),\n",
              " Text(55.16189963675502, 79.72799999999998, 'area <= 632.0\\nmse = 156968610.946\\nsamples = 41\\nvalue = 16722.073'),\n",
              " Text(55.04178662720302, 65.232, 'mse = 162425243.228\\nsamples = 39\\nvalue = 16912.949'),\n",
              " Text(55.28201264630702, 65.232, 'mse = 36000000.0\\nsamples = 2\\nvalue = 13000.0'),\n",
              " Text(55.762464684515, 79.72799999999998, 'bedroom_num <= 1.5\\nmse = 161195555.556\\nsamples = 30\\nvalue = 22233.333'),\n",
              " Text(55.52223866541101, 65.232, 'area <= 644.5\\nmse = 158450255.102\\nsamples = 28\\nvalue = 21321.429'),\n",
              " Text(55.40212565585901, 50.73599999999999, 'area <= 642.0\\nmse = 169332899.306\\nsamples = 24\\nvalue = 22395.833'),\n",
              " Text(55.28201264630702, 36.23999999999998, 'area <= 638.0\\nmse = 146952741.021\\nsamples = 23\\nvalue = 21282.609'),\n",
              " Text(55.16189963675502, 21.744, 'area <= 635.5\\nmse = 187532544.379\\nsamples = 13\\nvalue = 20923.077'),\n",
              " Text(55.04178662720302, 7.2479999999999905, 'mse = 202826388.889\\nsamples = 12\\nvalue = 21083.333'),\n",
              " Text(55.28201264630702, 7.2479999999999905, 'mse = 0.0\\nsamples = 1\\nvalue = 19000.0'),\n",
              " Text(55.40212565585901, 21.744, 'mse = 93812500.0\\nsamples = 10\\nvalue = 21750.0'),\n",
              " Text(55.52223866541101, 36.23999999999998, 'mse = 0.0\\nsamples = 1\\nvalue = 48000.0'),\n",
              " Text(55.64235167496301, 50.73599999999999, 'mse = 44671875.0\\nsamples = 4\\nvalue = 14875.0'),\n",
              " Text(56.002690703619, 65.232, 'bedroom_num <= 2.5\\nmse = 25000000.0\\nsamples = 2\\nvalue = 35000.0'),\n",
              " Text(55.882577694067, 50.73599999999999, 'mse = 0.0\\nsamples = 1\\nvalue = 30000.0'),\n",
              " Text(56.122803713170995, 50.73599999999999, 'mse = 0.0\\nsamples = 1\\nvalue = 40000.0'),\n",
              " Text(65.04494820395534, 123.216, 'bedroom_num <= 1.5\\nmse = 138932966.076\\nsamples = 1492\\nvalue = 25007.166'),\n",
              " Text(62.78907574330688, 108.72, 'area <= 628.5\\nmse = 134348452.24\\nsamples = 1448\\nvalue = 24780.519'),\n",
              " Text(60.05650477599893, 94.22399999999999, 'area <= 596.5\\nmse = 131432765.638\\nsamples = 1365\\nvalue = 25105.818'),\n",
              " Text(57.78937172070497, 79.72799999999998, 'area <= 550.5\\nmse = 128993314.793\\nsamples = 865\\nvalue = 24031.608'),\n",
              " Text(56.78342526570699, 65.232, 'area <= 549.0\\nmse = 150768242.525\\nsamples = 575\\nvalue = 24925.447'),\n",
              " Text(56.363029732274995, 50.73599999999999, 'area <= 537.5\\nmse = 158681764.008\\nsamples = 391\\nvalue = 23532.051'),\n",
              " Text(55.882577694067, 36.23999999999998, 'area <= 523.0\\nmse = 161631957.459\\nsamples = 352\\nvalue = 24204.636'),\n",
              " Text(55.64235167496301, 21.744, 'bathroom_num <= 1.5\\nmse = 179244318.071\\nsamples = 278\\nvalue = 23357.313'),\n",
              " Text(55.52223866541101, 7.2479999999999905, 'mse = 188044564.446\\nsamples = 218\\nvalue = 24333.867'),\n",
              " Text(55.762464684515, 7.2479999999999905, 'mse = 131215791.006\\nsamples = 60\\nvalue = 19809.167'),\n",
              " Text(56.122803713170995, 21.744, 'bathroom_num <= 1.5\\nmse = 82636727.442\\nsamples = 74\\nvalue = 27387.824'),\n",
              " Text(56.002690703619, 7.2479999999999905, 'mse = 86392417.355\\nsamples = 44\\nvalue = 28859.091'),\n",
              " Text(56.242916722722995, 7.2479999999999905, 'mse = 69297248.699\\nsamples = 30\\nvalue = 25229.967'),\n",
              " Text(56.84348177048299, 36.23999999999998, 'bathroom_num <= 1.5\\nmse = 91120315.582\\nsamples = 39\\nvalue = 17461.538'),\n",
              " Text(56.60325575137899, 21.744, 'area <= 545.5\\nmse = 87266435.986\\nsamples = 34\\nvalue = 18794.118'),\n",
              " Text(56.483142741826995, 7.2479999999999905, 'mse = 88824218.75\\nsamples = 32\\nvalue = 19187.5'),\n",
              " Text(56.72336876093099, 7.2479999999999905, 'mse = 20250000.0\\nsamples = 2\\nvalue = 12500.0'),\n",
              " Text(57.08370778958698, 21.744, 'area <= 542.5\\nmse = 23140000.0\\nsamples = 5\\nvalue = 8400.0'),\n",
              " Text(56.96359478003498, 7.2479999999999905, 'mse = 26296875.0\\nsamples = 4\\nvalue = 9125.0'),\n",
              " Text(57.20382079913898, 7.2479999999999905, 'mse = 0.0\\nsamples = 1\\nvalue = 5500.0'),\n",
              " Text(57.20382079913898, 50.73599999999999, 'bathroom_num <= 1.5\\nmse = 121058891.482\\nsamples = 184\\nvalue = 27886.413'),\n",
              " Text(57.08370778958698, 36.23999999999998, 'mse = 127209898.93\\nsamples = 116\\nvalue = 28031.034'),\n",
              " Text(57.323933808690974, 36.23999999999998, 'mse = 110469452.855\\nsamples = 68\\nvalue = 27639.706'),\n",
              " Text(58.79531817570295, 65.232, 'area <= 571.0\\nmse = 81093838.949\\nsamples = 290\\nvalue = 22259.341'),\n",
              " Text(58.10466837077896, 50.73599999999999, 'area <= 569.5\\nmse = 97758959.765\\nsamples = 108\\nvalue = 20855.648'),\n",
              " Text(57.80438584689897, 36.23999999999998, 'bathroom_num <= 1.5\\nmse = 106021356.501\\nsamples = 81\\nvalue = 21411.235'),\n",
              " Text(57.564159827794974, 21.744, 'area <= 561.0\\nmse = 104497632.397\\nsamples = 64\\nvalue = 20223.594'),\n",
              " Text(57.444046818242974, 7.2479999999999905, 'mse = 109719338.998\\nsamples = 44\\nvalue = 18847.955'),\n",
              " Text(57.684272837346974, 7.2479999999999905, 'mse = 79687500.0\\nsamples = 20\\nvalue = 23250.0'),\n",
              " Text(58.04461186600297, 21.744, 'area <= 557.5\\nmse = 86456747.405\\nsamples = 17\\nvalue = 25882.353'),\n",
              " Text(57.92449885645097, 7.2479999999999905, 'mse = 44187500.0\\nsamples = 4\\nvalue = 30250.0'),\n",
              " Text(58.16472487555496, 7.2479999999999905, 'mse = 91786982.249\\nsamples = 13\\nvalue = 24538.462'),\n",
              " Text(58.40495089465896, 36.23999999999998, 'bathroom_num <= 1.5\\nmse = 69267654.321\\nsamples = 27\\nvalue = 19188.889'),\n",
              " Text(58.28483788510696, 21.744, 'mse = 31495288.889\\nsamples = 15\\nvalue = 20893.333'),\n",
              " Text(58.52506390421095, 21.744, 'mse = 108312430.556\\nsamples = 12\\nvalue = 17058.333'),\n",
              " Text(59.48596798062694, 50.73599999999999, 'area <= 579.0\\nmse = 69341601.189\\nsamples = 182\\nvalue = 23092.302'),\n",
              " Text(59.005515942418945, 36.23999999999998, 'area <= 575.5\\nmse = 54858086.757\\nsamples = 59\\nvalue = 25347.458'),\n",
              " Text(58.76528992331495, 21.744, 'area <= 574.0\\nmse = 52960449.369\\nsamples = 57\\nvalue = 24991.228'),\n",
              " Text(58.64517691376295, 7.2479999999999905, 'mse = 47687500.0\\nsamples = 4\\nvalue = 30750.0'),\n",
              " Text(58.88540293286695, 7.2479999999999905, 'mse = 50666607.334\\nsamples = 53\\nvalue = 24556.604'),\n",
              " Text(59.245741961522945, 21.744, 'area <= 577.0\\nmse = 2250000.0\\nsamples = 2\\nvalue = 35500.0'),\n",
              " Text(59.125628951970945, 7.2479999999999905, 'mse = 0.0\\nsamples = 1\\nvalue = 34000.0'),\n",
              " Text(59.36585497107494, 7.2479999999999905, 'mse = 0.0\\nsamples = 1\\nvalue = 37000.0'),\n",
              " Text(59.96642001883493, 36.23999999999998, 'area <= 592.0\\nmse = 72679319.368\\nsamples = 123\\nvalue = 22010.561'),\n",
              " Text(59.72619399973093, 21.744, 'area <= 582.5\\nmse = 71722550.29\\nsamples = 109\\nvalue = 21576.147'),\n",
              " Text(59.60608099017894, 7.2479999999999905, 'mse = 52394097.222\\nsamples = 36\\nvalue = 23091.667'),\n",
              " Text(59.84630700928293, 7.2479999999999905, 'mse = 79563145.055\\nsamples = 73\\nvalue = 20828.767'),\n",
              " Text(60.206646037938924, 21.744, 'bathroom_num <= 1.5\\nmse = 67219719.454\\nsamples = 14\\nvalue = 25392.786'),\n",
              " Text(60.08653302838693, 7.2479999999999905, 'mse = 60555555.556\\nsamples = 6\\nvalue = 29666.667'),\n",
              " Text(60.326759047490924, 7.2479999999999905, 'mse = 48243640.734\\nsamples = 8\\nvalue = 22187.375'),\n",
              " Text(62.323637831292885, 79.72799999999998, 'area <= 608.5\\nmse = 130203138.36\\nsamples = 500\\nvalue = 26964.2'),\n",
              " Text(61.28766312390691, 65.232, 'bathroom_num <= 1.5\\nmse = 146845420.83\\nsamples = 336\\nvalue = 27994.94'),\n",
              " Text(60.80721108569892, 50.73599999999999, 'area <= 602.5\\nmse = 188480903.926\\nsamples = 178\\nvalue = 28976.404'),\n",
              " Text(60.56698506659492, 36.23999999999998, 'area <= 599.5\\nmse = 188591554.895\\nsamples = 172\\nvalue = 28725.581'),\n",
              " Text(60.446872057042924, 21.744, 'mse = 0.0\\nsamples = 1\\nvalue = 23000.0'),\n",
              " Text(60.68709807614692, 21.744, 'mse = 189501599.125\\nsamples = 171\\nvalue = 28759.064'),\n",
              " Text(61.04743710480291, 36.23999999999998, 'area <= 606.5\\nmse = 131805555.556\\nsamples = 6\\nvalue = 36166.667'),\n",
              " Text(60.92732409525091, 21.744, 'mse = 139440000.0\\nsamples = 5\\nvalue = 34400.0'),\n",
              " Text(61.16755011435491, 21.744, 'mse = 0.0\\nsamples = 1\\nvalue = 45000.0'),\n",
              " Text(61.768115162114896, 50.73599999999999, 'area <= 599.5\\nmse = 97631846.259\\nsamples = 158\\nvalue = 26889.241'),\n",
              " Text(61.5278891430109, 36.23999999999998, 'area <= 598.0\\nmse = 250000.0\\nsamples = 2\\nvalue = 35500.0'),\n",
              " Text(61.4077761334589, 21.744, 'mse = 0.0\\nsamples = 1\\nvalue = 35000.0'),\n",
              " Text(61.6480021525629, 21.744, 'mse = 0.0\\nsamples = 1\\nvalue = 36000.0'),\n",
              " Text(62.008341181218896, 36.23999999999998, 'area <= 601.0\\nmse = 97917565.335\\nsamples = 156\\nvalue = 26778.846'),\n",
              " Text(61.888228171666896, 21.744, 'mse = 100562588.889\\nsamples = 150\\nvalue = 26923.333'),\n",
              " Text(62.12845419077089, 21.744, 'area <= 602.5\\nmse = 18222222.222\\nsamples = 6\\nvalue = 23166.667'),\n",
              " Text(62.008341181218896, 7.2479999999999905, 'mse = 0.0\\nsamples = 1\\nvalue = 17500.0'),\n",
              " Text(62.24856720032289, 7.2479999999999905, 'mse = 14160000.0\\nsamples = 5\\nvalue = 24300.0'),\n",
              " Text(63.35961253867887, 65.232, 'area <= 616.5\\nmse = 89470542.832\\nsamples = 164\\nvalue = 24852.439'),\n",
              " Text(62.72901923853088, 50.73599999999999, 'bathroom_num <= 1.5\\nmse = 73691833.496\\nsamples = 64\\nvalue = 23085.938'),\n",
              " Text(62.48879321942689, 36.23999999999998, 'area <= 612.5\\nmse = 109354875.283\\nsamples = 21\\nvalue = 26047.619'),\n",
              " Text(62.36868020987489, 21.744, 'mse = 112143598.616\\nsamples = 17\\nvalue = 27058.824'),\n",
              " Text(62.60890622897888, 21.744, 'mse = 74687500.0\\nsamples = 4\\nvalue = 21750.0'),\n",
              " Text(62.969245257634874, 36.23999999999998, 'area <= 612.5\\nmse = 49899134.667\\nsamples = 43\\nvalue = 21639.535'),\n",
              " Text(62.84913224808288, 21.744, 'area <= 609.5\\nmse = 49386938.776\\nsamples = 35\\nvalue = 21314.286'),\n",
              " Text(62.72901923853088, 7.2479999999999905, 'mse = 0.0\\nsamples = 1\\nvalue = 22000.0'),\n",
              " Text(62.969245257634874, 7.2479999999999905, 'mse = 50825259.516\\nsamples = 34\\nvalue = 21294.118'),\n",
              " Text(63.089358267186874, 21.744, 'mse = 49652343.75\\nsamples = 8\\nvalue = 23062.5'),\n",
              " Text(63.99020583882686, 50.73599999999999, 'bathroom_num <= 1.5\\nmse = 96293611.0\\nsamples = 100\\nvalue = 25983.0'),\n",
              " Text(63.56981030539487, 36.23999999999998, 'area <= 625.5\\nmse = 116707614.515\\nsamples = 41\\nvalue = 24365.854'),\n",
              " Text(63.32958428629087, 21.744, 'area <= 624.5\\nmse = 123687846.26\\nsamples = 38\\nvalue = 24671.053'),\n",
              " Text(63.209471276738874, 7.2479999999999905, 'mse = 109884982.639\\nsamples = 24\\nvalue = 23520.833'),\n",
              " Text(63.44969729584287, 7.2479999999999905, 'mse = 141193877.551\\nsamples = 14\\nvalue = 26642.857'),\n",
              " Text(63.81003632449886, 21.744, 'area <= 626.5\\nmse = 12166666.667\\nsamples = 3\\nvalue = 20500.0'),\n",
              " Text(63.68992331494687, 7.2479999999999905, 'mse = 6250000.0\\nsamples = 2\\nvalue = 18500.0'),\n",
              " Text(63.93014933405086, 7.2479999999999905, 'mse = 0.0\\nsamples = 1\\nvalue = 24500.0'),\n",
              " Text(64.41060137225885, 36.23999999999998, 'area <= 626.0\\nmse = 79027411.663\\nsamples = 59\\nvalue = 27106.78'),\n",
              " Text(64.29048836270685, 21.744, 'area <= 622.5\\nmse = 78660338.566\\nsamples = 57\\nvalue = 26829.825'),\n",
              " Text(64.17037535315485, 7.2479999999999905, 'mse = 86484142.661\\nsamples = 27\\nvalue = 28325.926'),\n",
              " Text(64.41060137225885, 7.2479999999999905, 'mse = 67791388.889\\nsamples = 30\\nvalue = 25483.333'),\n",
              " Text(64.53071438181085, 21.744, 'mse = 25000000.0\\nsamples = 2\\nvalue = 35000.0'),\n",
              " Text(65.52164671061483, 94.22399999999999, 'area <= 644.5\\nmse = 151938604.297\\nsamples = 83\\nvalue = 19430.723'),\n",
              " Text(65.19133593434684, 79.72799999999998, 'area <= 643.5\\nmse = 159673135.442\\nsamples = 67\\nvalue = 20264.925'),\n",
              " Text(65.07122292479484, 65.232, 'area <= 632.5\\nmse = 151905625.0\\nsamples = 66\\nvalue = 19875.0'),\n",
              " Text(64.77094040091484, 50.73599999999999, 'bathroom_num <= 1.5\\nmse = 138957181.122\\nsamples = 28\\nvalue = 21367.857'),\n",
              " Text(64.65082739136285, 36.23999999999998, 'mse = 117801388.889\\nsamples = 6\\nvalue = 26216.667'),\n",
              " Text(64.89105341046684, 36.23999999999998, 'mse = 136566115.702\\nsamples = 22\\nvalue = 20045.455'),\n",
              " Text(65.37150544867484, 50.73599999999999, 'area <= 637.5\\nmse = 158594440.789\\nsamples = 38\\nvalue = 18775.0'),\n",
              " Text(65.13127942957084, 36.23999999999998, 'bathroom_num <= 1.5\\nmse = 79617206.633\\nsamples = 14\\nvalue = 14210.714'),\n",
              " Text(65.01116642001884, 21.744, 'mse = 58570555.556\\nsamples = 3\\nvalue = 16816.667'),\n",
              " Text(65.25139243912284, 21.744, 'mse = 83000000.0\\nsamples = 11\\nvalue = 13500.0'),\n",
              " Text(65.61173146777882, 36.23999999999998, 'bathroom_num <= 1.5\\nmse = 185423177.083\\nsamples = 24\\nvalue = 21437.5'),\n",
              " Text(65.49161845822682, 21.744, 'area <= 641.5\\nmse = 156809917.355\\nsamples = 11\\nvalue = 19409.091'),\n",
              " Text(65.37150544867484, 7.2479999999999905, 'mse = 169272500.0\\nsamples = 10\\nvalue = 19950.0'),\n",
              " Text(65.61173146777882, 7.2479999999999905, 'mse = 0.0\\nsamples = 1\\nvalue = 14000.0'),\n",
              " Text(65.73184447733082, 21.744, 'mse = 203207100.592\\nsamples = 13\\nvalue = 23153.846'),\n",
              " Text(65.31144894389884, 65.232, 'mse = 0.0\\nsamples = 1\\nvalue = 46000.0'),\n",
              " Text(65.85195748688282, 79.72799999999998, 'area <= 647.0\\nmse = 104433593.75\\nsamples = 16\\nvalue = 15937.5'),\n",
              " Text(65.73184447733082, 65.232, 'bathroom_num <= 1.5\\nmse = 105555555.556\\nsamples = 15\\nvalue = 15333.333'),\n",
              " Text(65.61173146777882, 50.73599999999999, 'mse = 1000000.0\\nsamples = 2\\nvalue = 7500.0'),\n",
              " Text(65.85195748688282, 50.73599999999999, 'mse = 110748520.71\\nsamples = 13\\nvalue = 16538.462'),\n",
              " Text(65.97207049643482, 65.232, 'mse = 0.0\\nsamples = 1\\nvalue = 25000.0'),\n",
              " Text(67.3008206646038, 108.72, 'area <= 527.5\\nmse = 232481792.355\\nsamples = 44\\nvalue = 32465.909'),\n",
              " Text(66.57263554419481, 94.22399999999999, 'area <= 514.0\\nmse = 274908163.265\\nsamples = 7\\nvalue = 20357.143'),\n",
              " Text(66.33240952509081, 79.72799999999998, 'bathroom_num <= 1.5\\nmse = 150687500.0\\nsamples = 4\\nvalue = 32250.0'),\n",
              " Text(66.21229651553882, 65.232, 'mse = 0.0\\nsamples = 1\\nvalue = 12000.0'),\n",
              " Text(66.45252253464281, 65.232, 'area <= 502.5\\nmse = 18666666.667\\nsamples = 3\\nvalue = 39000.0'),\n",
              " Text(66.33240952509081, 50.73599999999999, 'mse = 0.0\\nsamples = 1\\nvalue = 45000.0'),\n",
              " Text(66.57263554419481, 50.73599999999999, 'mse = 1000000.0\\nsamples = 2\\nvalue = 36000.0'),\n",
              " Text(66.81286156329881, 79.72799999999998, 'area <= 524.0\\nmse = 500000.0\\nsamples = 3\\nvalue = 4500.0'),\n",
              " Text(66.69274855374681, 65.232, 'mse = 562500.0\\nsamples = 2\\nvalue = 4250.0'),\n",
              " Text(66.93297457285081, 65.232, 'mse = 0.0\\nsamples = 1\\nvalue = 5000.0'),\n",
              " Text(68.02900578501279, 94.22399999999999, 'area <= 618.5\\nmse = 191467859.752\\nsamples = 37\\nvalue = 34756.757'),\n",
              " Text(67.4434548634468, 79.72799999999998, 'bedroom_num <= 2.5\\nmse = 181195600.476\\nsamples = 29\\nvalue = 32551.724'),\n",
              " Text(67.3233418538948, 65.232, 'area <= 561.5\\nmse = 176405612.245\\nsamples = 28\\nvalue = 31928.571'),\n",
              " Text(66.81286156329881, 50.73599999999999, 'bathroom_num <= 1.5\\nmse = 222765306.122\\nsamples = 7\\nvalue = 38357.143'),\n",
              " Text(66.69274855374681, 36.23999999999998, 'mse = 7562500.0\\nsamples = 2\\nvalue = 25750.0'),\n",
              " Text(66.93297457285081, 36.23999999999998, 'area <= 535.0\\nmse = 219840000.0\\nsamples = 5\\nvalue = 43400.0'),\n",
              " Text(66.81286156329881, 21.744, 'mse = 0.0\\nsamples = 1\\nvalue = 32000.0'),\n",
              " Text(67.05308758240281, 21.744, 'area <= 545.0\\nmse = 234187500.0\\nsamples = 4\\nvalue = 46250.0'),\n",
              " Text(66.93297457285081, 7.2479999999999905, 'mse = 0.0\\nsamples = 1\\nvalue = 47000.0'),\n",
              " Text(67.1732005919548, 7.2479999999999905, 'mse = 312000000.0\\nsamples = 3\\nvalue = 46000.0'),\n",
              " Text(67.8338221444908, 50.73599999999999, 'area <= 593.0\\nmse = 142585034.014\\nsamples = 21\\nvalue = 29785.714'),\n",
              " Text(67.4134266110588, 36.23999999999998, 'area <= 574.0\\nmse = 49555555.556\\nsamples = 3\\nvalue = 24333.333'),\n",
              " Text(67.2933136015068, 21.744, 'mse = 0.0\\nsamples = 1\\nvalue = 32000.0'),\n",
              " Text(67.5335396206108, 21.744, 'area <= 580.5\\nmse = 30250000.0\\nsamples = 2\\nvalue = 20500.0'),\n",
              " Text(67.4134266110588, 7.2479999999999905, 'mse = 0.0\\nsamples = 1\\nvalue = 15000.0'),\n",
              " Text(67.6536526301628, 7.2479999999999905, 'mse = 0.0\\nsamples = 1\\nvalue = 26000.0'),\n",
              " Text(68.25421767792278, 36.23999999999998, 'area <= 610.5\\nmse = 152309413.58\\nsamples = 18\\nvalue = 30694.444'),\n",
              " Text(68.01399165881878, 21.744, 'bathroom_num <= 1.5\\nmse = 165077148.438\\nsamples = 16\\nvalue = 29968.75'),\n",
              " Text(67.89387864926678, 7.2479999999999905, 'mse = 216222222.222\\nsamples = 6\\nvalue = 32666.667'),\n",
              " Text(68.13410466837078, 7.2479999999999905, 'mse = 127402500.0\\nsamples = 10\\nvalue = 28350.0'),\n",
              " Text(68.49444369702678, 21.744, 'area <= 614.0\\nmse = 12250000.0\\nsamples = 2\\nvalue = 36500.0'),\n",
              " Text(68.37433068747478, 7.2479999999999905, 'mse = 0.0\\nsamples = 1\\nvalue = 40000.0'),\n",
              " Text(68.61455670657878, 7.2479999999999905, 'mse = 0.0\\nsamples = 1\\nvalue = 33000.0'),\n",
              " Text(67.56356787299879, 65.232, 'mse = 0.0\\nsamples = 1\\nvalue = 50000.0'),\n",
              " Text(68.61455670657878, 79.72799999999998, 'area <= 627.0\\nmse = 147187500.0\\nsamples = 8\\nvalue = 42750.0'),\n",
              " Text(68.37433068747478, 65.232, 'area <= 622.5\\nmse = 43555555.556\\nsamples = 3\\nvalue = 54666.667'),\n",
              " Text(68.25421767792278, 50.73599999999999, 'mse = 49000000.0\\nsamples = 2\\nvalue = 57000.0'),\n",
              " Text(68.49444369702678, 50.73599999999999, 'mse = 0.0\\nsamples = 1\\nvalue = 50000.0'),\n",
              " Text(68.85478272568277, 65.232, 'area <= 632.5\\nmse = 73040000.0\\nsamples = 5\\nvalue = 35600.0'),\n",
              " Text(68.73466971613077, 50.73599999999999, 'bathroom_num <= 1.5\\nmse = 49250000.0\\nsamples = 4\\nvalue = 38500.0'),\n",
              " Text(68.61455670657878, 36.23999999999998, 'mse = 0.0\\nsamples = 1\\nvalue = 30000.0'),\n",
              " Text(68.85478272568277, 36.23999999999998, 'area <= 629.5\\nmse = 33555555.556\\nsamples = 3\\nvalue = 41333.333'),\n",
              " Text(68.73466971613077, 21.744, 'mse = 0.0\\nsamples = 1\\nvalue = 35000.0'),\n",
              " Text(68.97489573523477, 21.744, 'mse = 20250000.0\\nsamples = 2\\nvalue = 44500.0'),\n",
              " Text(68.97489573523477, 50.73599999999999, 'mse = 0.0\\nsamples = 1\\nvalue = 24000.0'),\n",
              " Text(74.15852280371318, 137.712, 'area <= 651.5\\nmse = 182071104.134\\nsamples = 1237\\nvalue = 30773.203'),\n",
              " Text(69.69557379254675, 123.216, 'bathroom_num <= 1.5\\nmse = 184843756.581\\nsamples = 766\\nvalue = 32402.897'),\n",
              " Text(69.21512175433877, 108.72, 'furnishing <= 1.5\\nmse = 273653409.92\\nsamples = 287\\nvalue = 34398.78'),\n",
              " Text(68.97489573523477, 94.22399999999999, 'bedroom_num <= 1.5\\nmse = 280007321.254\\nsamples = 138\\nvalue = 37415.659'),\n",
              " Text(68.85478272568277, 79.72799999999998, 'mse = 264285656.04\\nsamples = 130\\nvalue = 36932.6'),\n",
              " Text(69.09500874478677, 79.72799999999998, 'mse = 470074467.234\\nsamples = 8\\nvalue = 45265.375'),\n",
              " Text(69.45534777344277, 94.22399999999999, 'bedroom_num <= 1.5\\nmse = 251531638.355\\nsamples = 149\\nvalue = 31604.624'),\n",
              " Text(69.33523476389077, 79.72799999999998, 'area <= 650.5\\nmse = 255092481.521\\nsamples = 141\\nvalue = 32088.574'),\n",
              " Text(69.21512175433877, 65.232, 'mse = 256853592.501\\nsamples = 140\\nvalue = 32067.779'),\n",
              " Text(69.45534777344277, 65.232, 'mse = 0.0\\nsamples = 1\\nvalue = 35000.0'),\n",
              " Text(69.57546078299475, 79.72799999999998, 'mse = 111889375.0\\nsamples = 8\\nvalue = 23075.0'),\n",
              " Text(70.17602583075475, 108.72, 'bedroom_num <= 1.5\\nmse = 127815233.402\\nsamples = 479\\nvalue = 31207.033'),\n",
              " Text(69.93579981165075, 94.22399999999999, 'area <= 650.5\\nmse = 118974783.414\\nsamples = 451\\nvalue = 30788.623'),\n",
              " Text(69.81568680209875, 79.72799999999998, 'furnishing <= 1.5\\nmse = 119199671.581\\nsamples = 450\\nvalue = 30779.264'),\n",
              " Text(69.69557379254675, 65.232, 'mse = 142756278.587\\nsamples = 218\\nvalue = 30688.394'),\n",
              " Text(69.93579981165075, 65.232, 'mse = 97049534.063\\nsamples = 232\\nvalue = 30864.651'),\n",
              " Text(70.05591282120275, 79.72799999999998, 'mse = 0.0\\nsamples = 1\\nvalue = 35000.0'),\n",
              " Text(70.41625184985874, 94.22399999999999, 'area <= 650.5\\nmse = 221970344.388\\nsamples = 28\\nvalue = 37946.429'),\n",
              " Text(70.29613884030674, 79.72799999999998, 'furnishing <= 1.5\\nmse = 214745541.838\\nsamples = 27\\nvalue = 37203.704'),\n",
              " Text(70.17602583075475, 65.232, 'mse = 192551020.408\\nsamples = 14\\nvalue = 36857.143'),\n",
              " Text(70.41625184985874, 65.232, 'mse = 238378698.225\\nsamples = 13\\nvalue = 37576.923'),\n",
              " Text(70.53636485941074, 79.72799999999998, 'mse = 0.0\\nsamples = 1\\nvalue = 58000.0'),\n",
              " Text(78.6214718148796, 123.216, 'bedroom_num <= 1.5\\nmse = 166217798.163\\nsamples = 471\\nvalue = 28122.788'),\n",
              " Text(76.01652092022064, 108.72, 'area <= 689.5\\nmse = 129754639.235\\nsamples = 429\\nvalue = 27190.753'),\n",
              " Text(73.95958563164268, 94.22399999999999, 'area <= 685.5\\nmse = 130812802.519\\nsamples = 365\\nvalue = 27900.427'),\n",
              " Text(72.03777747881071, 79.72799999999998, 'area <= 663.5\\nmse = 126032327.765\\nsamples = 357\\nvalue = 27639.092'),\n",
              " Text(70.65647786896274, 65.232, 'area <= 662.5\\nmse = 78220785.722\\nsamples = 86\\nvalue = 24961.628'),\n",
              " Text(70.53636485941074, 50.73599999999999, 'bathroom_num <= 1.5\\nmse = 75084071.557\\nsamples = 85\\nvalue = 25178.824'),\n",
              " Text(70.05591282120275, 36.23999999999998, 'furnishing <= 1.5\\nmse = 67267361.111\\nsamples = 36\\nvalue = 26306.667'),\n",
              " Text(69.81568680209875, 21.744, 'area <= 653.5\\nmse = 61100585.938\\nsamples = 16\\nvalue = 28406.25'),\n",
              " Text(69.69557379254675, 7.2479999999999905, 'mse = 121000000.0\\nsamples = 2\\nvalue = 36000.0'),\n",
              " Text(69.93579981165075, 7.2479999999999905, 'mse = 43128826.531\\nsamples = 14\\nvalue = 27321.429'),\n",
              " Text(70.29613884030674, 21.744, 'area <= 655.5\\nmse = 65852901.0\\nsamples = 20\\nvalue = 24627.0'),\n",
              " Text(70.17602583075475, 7.2479999999999905, 'mse = 51043044.0\\nsamples = 10\\nvalue = 27004.0'),\n",
              " Text(70.41625184985874, 7.2479999999999905, 'mse = 69362500.0\\nsamples = 10\\nvalue = 22250.0'),\n",
              " Text(71.01681689761874, 36.23999999999998, 'furnishing <= 1.5\\nmse = 79205797.918\\nsamples = 49\\nvalue = 24350.204'),\n",
              " Text(70.77659087851474, 21.744, 'area <= 653.0\\nmse = 57089486.981\\nsamples = 19\\nvalue = 22371.579'),\n",
              " Text(70.65647786896274, 7.2479999999999905, 'mse = 0.0\\nsamples = 1\\nvalue = 8060.0'),\n",
              " Text(70.89670388806674, 7.2479999999999905, 'mse = 48250000.0\\nsamples = 18\\nvalue = 23166.667'),\n",
              " Text(71.25704291672272, 21.744, 'area <= 653.0\\nmse = 89162988.889\\nsamples = 30\\nvalue = 25603.333'),\n",
              " Text(71.13692990717072, 7.2479999999999905, 'mse = 0.0\\nsamples = 1\\nvalue = 30000.0'),\n",
              " Text(71.37715592627472, 7.2479999999999905, 'mse = 91548014.269\\nsamples = 29\\nvalue = 25451.724'),\n",
              " Text(70.77659087851474, 50.73599999999999, 'mse = 0.0\\nsamples = 1\\nvalue = 6500.0'),\n",
              " Text(73.4190770886587, 65.232, 'area <= 669.0\\nmse = 138208071.566\\nsamples = 271\\nvalue = 28488.768'),\n",
              " Text(72.45817301224271, 50.73599999999999, 'furnishing <= 1.5\\nmse = 89604611.786\\nsamples = 75\\nvalue = 32469.973'),\n",
              " Text(71.97772097403471, 36.23999999999998, 'area <= 665.5\\nmse = 73962246.864\\nsamples = 38\\nvalue = 34818.368'),\n",
              " Text(71.73749495493072, 21.744, 'bathroom_num <= 1.5\\nmse = 75938748.026\\nsamples = 28\\nvalue = 33717.786'),\n",
              " Text(71.61738194537872, 7.2479999999999905, 'mse = 7687500.0\\nsamples = 4\\nvalue = 27750.0'),\n",
              " Text(71.85760796448272, 7.2479999999999905, 'mse = 80388920.91\\nsamples = 24\\nvalue = 34712.417'),\n",
              " Text(72.21794699313871, 21.744, 'bathroom_num <= 1.5\\nmse = 55540000.0\\nsamples = 10\\nvalue = 37900.0'),\n",
              " Text(72.09783398358671, 7.2479999999999905, 'mse = 2250000.0\\nsamples = 2\\nvalue = 41500.0'),\n",
              " Text(72.33806000269071, 7.2479999999999905, 'mse = 64812500.0\\nsamples = 8\\nvalue = 37000.0'),\n",
              " Text(72.9386250504507, 36.23999999999998, 'area <= 665.5\\nmse = 94188637.015\\nsamples = 37\\nvalue = 30058.108'),\n",
              " Text(72.6983990313467, 21.744, 'bathroom_num <= 1.5\\nmse = 102609099.366\\nsamples = 30\\nvalue = 30989.967'),\n",
              " Text(72.57828602179471, 7.2479999999999905, 'mse = 1562500.0\\nsamples = 2\\nvalue = 24250.0'),\n",
              " Text(72.8185120408987, 7.2479999999999905, 'mse = 106350145.953\\nsamples = 28\\nvalue = 31471.393'),\n",
              " Text(73.1788510695547, 21.744, 'area <= 667.5\\nmse = 38429920.531\\nsamples = 7\\nvalue = 26064.429'),\n",
              " Text(73.0587380600027, 7.2479999999999905, 'mse = 7073766.806\\nsamples = 6\\nvalue = 23741.833'),\n",
              " Text(73.2989640791067, 7.2479999999999905, 'mse = 0.0\\nsamples = 1\\nvalue = 40000.0'),\n",
              " Text(74.37998116507467, 50.73599999999999, 'area <= 670.5\\nmse = 148420473.053\\nsamples = 196\\nvalue = 26965.347'),\n",
              " Text(73.89952912686668, 36.23999999999998, 'furnishing <= 1.5\\nmse = 229541922.332\\nsamples = 41\\nvalue = 24392.902'),\n",
              " Text(73.65930310776268, 21.744, 'bathroom_num <= 1.5\\nmse = 257639319.361\\nsamples = 13\\nvalue = 30539.154'),\n",
              " Text(73.53919009821068, 7.2479999999999905, 'mse = 337437852.96\\nsamples = 5\\nvalue = 35601.8'),\n",
              " Text(73.77941611731468, 7.2479999999999905, 'mse = 181734375.0\\nsamples = 8\\nvalue = 27375.0'),\n",
              " Text(74.13975514597068, 21.744, 'bathroom_num <= 1.5\\nmse = 190814528.061\\nsamples = 28\\nvalue = 21539.286'),\n",
              " Text(74.01964213641868, 7.2479999999999905, 'mse = 186810000.0\\nsamples = 10\\nvalue = 18200.0'),\n",
              " Text(74.25986815552268, 7.2479999999999905, 'mse = 183402746.914\\nsamples = 18\\nvalue = 23394.444'),\n",
              " Text(74.86043320328267, 36.23999999999998, 'area <= 674.5\\nmse = 124749097.205\\nsamples = 155\\nvalue = 27645.8'),\n",
              " Text(74.62020718417867, 21.744, 'bathroom_num <= 1.5\\nmse = 167121093.75\\nsamples = 8\\nvalue = 35812.5'),\n",
              " Text(74.50009417462667, 7.2479999999999905, 'mse = 167840000.0\\nsamples = 5\\nvalue = 41400.0'),\n",
              " Text(74.74032019373067, 7.2479999999999905, 'mse = 27166666.667\\nsamples = 3\\nvalue = 26500.0'),\n",
              " Text(75.10065922238665, 21.744, 'bathroom_num <= 2.5\\nmse = 118615946.474\\nsamples = 147\\nvalue = 27201.354'),\n",
              " Text(74.98054621283467, 7.2479999999999905, 'mse = 118484141.318\\nsamples = 146\\nvalue = 27281.5'),\n",
              " Text(75.22077223193865, 7.2479999999999905, 'mse = 0.0\\nsamples = 1\\nvalue = 15500.0'),\n",
              " Text(75.88139378447464, 79.72799999999998, 'furnishing <= 1.5\\nmse = 205089843.75\\nsamples = 8\\nvalue = 39562.5'),\n",
              " Text(75.46099825104265, 65.232, 'bathroom_num <= 1.5\\nmse = 202160000.0\\nsamples = 5\\nvalue = 46300.0'),\n",
              " Text(75.22077223193865, 50.73599999999999, 'area <= 686.5\\nmse = 177388888.889\\nsamples = 3\\nvalue = 52166.667'),\n",
              " Text(75.10065922238665, 36.23999999999998, 'mse = 0.0\\nsamples = 1\\nvalue = 48500.0'),\n",
              " Text(75.34088524149065, 36.23999999999998, 'mse = 256000000.0\\nsamples = 2\\nvalue = 54000.0'),\n",
              " Text(75.70122427014665, 50.73599999999999, 'area <= 687.5\\nmse = 110250000.0\\nsamples = 2\\nvalue = 37500.0'),\n",
              " Text(75.58111126059465, 36.23999999999998, 'mse = 0.0\\nsamples = 1\\nvalue = 27000.0'),\n",
              " Text(75.82133727969865, 36.23999999999998, 'mse = 0.0\\nsamples = 1\\nvalue = 48000.0'),\n",
              " Text(76.30178931790664, 65.232, 'area <= 688.5\\nmse = 8222222.222\\nsamples = 3\\nvalue = 28333.333'),\n",
              " Text(76.18167630835464, 50.73599999999999, 'area <= 687.0\\nmse = 2250000.0\\nsamples = 2\\nvalue = 26500.0'),\n",
              " Text(76.06156329880264, 36.23999999999998, 'mse = 0.0\\nsamples = 1\\nvalue = 25000.0'),\n",
              " Text(76.30178931790664, 36.23999999999998, 'mse = 0.0\\nsamples = 1\\nvalue = 28000.0'),\n",
              " Text(76.42190232745864, 50.73599999999999, 'mse = 0.0\\nsamples = 1\\nvalue = 32000.0'),\n",
              " Text(78.0734562087986, 94.22399999999999, 'bathroom_num <= 1.5\\nmse = 104466350.519\\nsamples = 64\\nvalue = 23143.391'),\n",
              " Text(77.32274989909862, 79.72799999999998, 'area <= 694.5\\nmse = 150152892.562\\nsamples = 11\\nvalue = 27772.727'),\n",
              " Text(76.90235436566662, 65.232, 'area <= 691.5\\nmse = 157645833.333\\nsamples = 6\\nvalue = 32750.0'),\n",
              " Text(76.66212834656264, 50.73599999999999, 'furnishing <= 1.5\\nmse = 37555555.556\\nsamples = 3\\nvalue = 23333.333'),\n",
              " Text(76.54201533701064, 36.23999999999998, 'mse = 0.0\\nsamples = 1\\nvalue = 19000.0'),\n",
              " Text(76.78224135611462, 36.23999999999998, 'mse = 42250000.0\\nsamples = 2\\nvalue = 25500.0'),\n",
              " Text(77.14258038477062, 50.73599999999999, 'furnishing <= 1.5\\nmse = 100388888.889\\nsamples = 3\\nvalue = 42166.667'),\n",
              " Text(77.02246737521862, 36.23999999999998, 'mse = 62500.0\\nsamples = 2\\nvalue = 49250.0'),\n",
              " Text(77.26269339432262, 36.23999999999998, 'mse = 0.0\\nsamples = 1\\nvalue = 28000.0'),\n",
              " Text(77.74314543253061, 65.232, 'furnishing <= 1.5\\nmse = 75760000.0\\nsamples = 5\\nvalue = 21800.0'),\n",
              " Text(77.62303242297861, 50.73599999999999, 'area <= 696.0\\nmse = 74888888.889\\nsamples = 3\\nvalue = 26333.333'),\n",
              " Text(77.50291941342661, 36.23999999999998, 'mse = 110250000.0\\nsamples = 2\\nvalue = 25500.0'),\n",
              " Text(77.74314543253061, 36.23999999999998, 'mse = 0.0\\nsamples = 1\\nvalue = 28000.0'),\n",
              " Text(77.86325844208261, 50.73599999999999, 'mse = 0.0\\nsamples = 2\\nvalue = 15000.0'),\n",
              " Text(78.8241625184986, 79.72799999999998, 'area <= 694.0\\nmse = 89613197.262\\nsamples = 53\\nvalue = 22182.585'),\n",
              " Text(78.3437104802906, 65.232, 'furnishing <= 1.5\\nmse = 83874852.394\\nsamples = 40\\nvalue = 21429.425'),\n",
              " Text(78.10348446118661, 50.73599999999999, 'area <= 691.5\\nmse = 89981600.0\\nsamples = 15\\nvalue = 20220.0'),\n",
              " Text(77.98337145163461, 36.23999999999998, 'mse = 94914556.213\\nsamples = 13\\nvalue = 19792.308'),\n",
              " Text(78.22359747073861, 36.23999999999998, 'mse = 49000000.0\\nsamples = 2\\nvalue = 23000.0'),\n",
              " Text(78.5839364993946, 50.73599999999999, 'area <= 692.5\\nmse = 78806603.354\\nsamples = 25\\nvalue = 22155.08'),\n",
              " Text(78.4638234898426, 36.23999999999998, 'area <= 691.0\\nmse = 99641600.0\\nsamples = 15\\nvalue = 23880.0'),\n",
              " Text(78.3437104802906, 21.744, 'mse = 102506982.249\\nsamples = 13\\nvalue = 23861.538'),\n",
              " Text(78.5839364993946, 21.744, 'mse = 81000000.0\\nsamples = 2\\nvalue = 24000.0'),\n",
              " ...]"
            ]
          },
          "metadata": {
            "tags": []
          },
          "execution_count": 204
        },
        {
          "output_type": "display_data",
          "data": {
            "image/png": "[encoded data removed]",
            "text/plain": [
              "<Figure size 432x288 with 1 Axes>"
            ]
          },
          "metadata": {
            "tags": [],
            "needs_background": "light"
          }
        }
      ]
    },
    {
      "cell_type": "code",
      "metadata": {
        "colab": {
          "base_uri": "https://localhost:8080/",
          "height": 340
        },
        "id": "NdFuUbbkxRtu",
        "outputId": "b09034ba-a346-4765-929f-30cb9362401c"
      },
      "source": [
        "df_dt = pd.DataFrame({'Target original':y_test1,\r\n",
        "                      'Target predicted':y_pred})\r\n",
        "df_dt.head(10)"
      ],
      "execution_count": 205,
      "outputs": [
        {
          "output_type": "execute_result",
          "data": {
            "text/html": [
              "<div>\n",
              "<style scoped>\n",
              "    .dataframe tbody tr th:only-of-type {\n",
              "        vertical-align: middle;\n",
              "    }\n",
              "\n",
              "    .dataframe tbody tr th {\n",
              "        vertical-align: top;\n",
              "    }\n",
              "\n",
              "    .dataframe thead th {\n",
              "        text-align: right;\n",
              "    }\n",
              "</style>\n",
              "<table border=\"1\" class=\"dataframe\">\n",
              "  <thead>\n",
              "    <tr style=\"text-align: right;\">\n",
              "      <th></th>\n",
              "      <th>Target original</th>\n",
              "      <th>Target predicted</th>\n",
              "    </tr>\n",
              "  </thead>\n",
              "  <tbody>\n",
              "    <tr>\n",
              "      <th>307</th>\n",
              "      <td>75000</td>\n",
              "      <td>75000.000000</td>\n",
              "    </tr>\n",
              "    <tr>\n",
              "      <th>12892</th>\n",
              "      <td>22500</td>\n",
              "      <td>37800.000000</td>\n",
              "    </tr>\n",
              "    <tr>\n",
              "      <th>12933</th>\n",
              "      <td>20000</td>\n",
              "      <td>39580.645161</td>\n",
              "    </tr>\n",
              "    <tr>\n",
              "      <th>3505</th>\n",
              "      <td>18000</td>\n",
              "      <td>14113.793103</td>\n",
              "    </tr>\n",
              "    <tr>\n",
              "      <th>21976</th>\n",
              "      <td>65000</td>\n",
              "      <td>53330.612903</td>\n",
              "    </tr>\n",
              "    <tr>\n",
              "      <th>30980</th>\n",
              "      <td>80000</td>\n",
              "      <td>84745.851562</td>\n",
              "    </tr>\n",
              "    <tr>\n",
              "      <th>15276</th>\n",
              "      <td>37000</td>\n",
              "      <td>40273.093567</td>\n",
              "    </tr>\n",
              "    <tr>\n",
              "      <th>20736</th>\n",
              "      <td>55000</td>\n",
              "      <td>63474.789916</td>\n",
              "    </tr>\n",
              "    <tr>\n",
              "      <th>29910</th>\n",
              "      <td>90000</td>\n",
              "      <td>68631.578947</td>\n",
              "    </tr>\n",
              "    <tr>\n",
              "      <th>5911</th>\n",
              "      <td>24000</td>\n",
              "      <td>30864.650862</td>\n",
              "    </tr>\n",
              "  </tbody>\n",
              "</table>\n",
              "</div>"
            ],
            "text/plain": [
              "       Target original  Target predicted\n",
              "307              75000      75000.000000\n",
              "12892            22500      37800.000000\n",
              "12933            20000      39580.645161\n",
              "3505             18000      14113.793103\n",
              "21976            65000      53330.612903\n",
              "30980            80000      84745.851562\n",
              "15276            37000      40273.093567\n",
              "20736            55000      63474.789916\n",
              "29910            90000      68631.578947\n",
              "5911             24000      30864.650862"
            ]
          },
          "metadata": {
            "tags": []
          },
          "execution_count": 205
        }
      ]
    },
    {
      "cell_type": "code",
      "metadata": {
        "id": "b8HQTvO8xRry"
      },
      "source": [
        ""
      ],
      "execution_count": 205,
      "outputs": []
    },
    {
      "cell_type": "code",
      "metadata": {
        "id": "pGA6jz9Y8eUh",
        "outputId": "1ab4040d-7d88-4921-b4aa-0cd75052a5a0",
        "colab": {
          "base_uri": "https://localhost:8080/",
          "height": 194
        }
      },
      "source": [
        "df_new.head()"
      ],
      "execution_count": 206,
      "outputs": [
        {
          "output_type": "execute_result",
          "data": {
            "text/html": [
              "<div>\n",
              "<style scoped>\n",
              "    .dataframe tbody tr th:only-of-type {\n",
              "        vertical-align: middle;\n",
              "    }\n",
              "\n",
              "    .dataframe tbody tr th {\n",
              "        vertical-align: top;\n",
              "    }\n",
              "\n",
              "    .dataframe thead th {\n",
              "        text-align: right;\n",
              "    }\n",
              "</style>\n",
              "<table border=\"1\" class=\"dataframe\">\n",
              "  <thead>\n",
              "    <tr style=\"text-align: right;\">\n",
              "      <th></th>\n",
              "      <th>area</th>\n",
              "      <th>bathroom_num</th>\n",
              "      <th>bedroom_num</th>\n",
              "      <th>furnishing</th>\n",
              "      <th>locality</th>\n",
              "      <th>price</th>\n",
              "    </tr>\n",
              "  </thead>\n",
              "  <tbody>\n",
              "    <tr>\n",
              "      <th>0</th>\n",
              "      <td>350.0</td>\n",
              "      <td>2.0</td>\n",
              "      <td>1</td>\n",
              "      <td>2</td>\n",
              "      <td>425</td>\n",
              "      <td>9000</td>\n",
              "    </tr>\n",
              "    <tr>\n",
              "      <th>1</th>\n",
              "      <td>652.0</td>\n",
              "      <td>2.0</td>\n",
              "      <td>1</td>\n",
              "      <td>1</td>\n",
              "      <td>727</td>\n",
              "      <td>8060</td>\n",
              "    </tr>\n",
              "    <tr>\n",
              "      <th>2</th>\n",
              "      <td>635.0</td>\n",
              "      <td>2.0</td>\n",
              "      <td>1</td>\n",
              "      <td>1</td>\n",
              "      <td>753</td>\n",
              "      <td>8000</td>\n",
              "    </tr>\n",
              "    <tr>\n",
              "      <th>3</th>\n",
              "      <td>540.0</td>\n",
              "      <td>2.0</td>\n",
              "      <td>1</td>\n",
              "      <td>1</td>\n",
              "      <td>728</td>\n",
              "      <td>8000</td>\n",
              "    </tr>\n",
              "    <tr>\n",
              "      <th>4</th>\n",
              "      <td>625.0</td>\n",
              "      <td>1.0</td>\n",
              "      <td>1</td>\n",
              "      <td>0</td>\n",
              "      <td>487</td>\n",
              "      <td>9000</td>\n",
              "    </tr>\n",
              "  </tbody>\n",
              "</table>\n",
              "</div>"
            ],
            "text/plain": [
              "    area  bathroom_num  bedroom_num  furnishing  locality  price\n",
              "0  350.0           2.0            1           2       425   9000\n",
              "1  652.0           2.0            1           1       727   8060\n",
              "2  635.0           2.0            1           1       753   8000\n",
              "3  540.0           2.0            1           1       728   8000\n",
              "4  625.0           1.0            1           0       487   9000"
            ]
          },
          "metadata": {
            "tags": []
          },
          "execution_count": 206
        }
      ]
    },
    {
      "cell_type": "code",
      "metadata": {
        "id": "5SNwQ3YJ8sIw",
        "outputId": "075782bc-88d7-46bb-f6e0-76caf6b781e6",
        "colab": {
          "base_uri": "https://localhost:8080/"
        }
      },
      "source": [
        "df_dt_ip = pd.DataFrame({'Area_of_flat':input(\"Enter the area of the flat : \"),\r\n",
        "                         'Bedroom_num' : input(\"Enter the number of bedrooms : \"),\r\n",
        "                         'Bathroom_num' : input(\"Enter the number of bathrooms : \"),\r\n",
        "                         'Furnishing' : input(\"Enter the type of furnishing : \"),\r\n",
        "                         'Locality' : input(\"Enter the locality code : \")# 0 : Unfurnished, 1 : Semi-furnished, 2 : Furnished\r\n",
        "                         }, index=range(1))"
      ],
      "execution_count": 207,
      "outputs": [
        {
          "output_type": "stream",
          "text": [
            "Enter the area of the flat : 1200\n",
            "Enter the number of bedrooms : 2\n",
            "Enter the number of bathrooms : 2\n",
            "Enter the type of furnishing : 2\n"
          ],
          "name": "stdout"
        }
      ]
    },
    {
      "cell_type": "code",
      "metadata": {
        "colab": {
          "base_uri": "https://localhost:8080/"
        },
        "id": "ruUkATYXxRqa",
        "outputId": "d3cde6a8-87dd-4beb-b1c6-9a249103e0be"
      },
      "source": [
        "2dt.predict(df_dt_ip)\r\n"
      ],
      "execution_count": 208,
      "outputs": [
        {
          "output_type": "execute_result",
          "data": {
            "text/plain": [
              "array([57416.66666667])"
            ]
          },
          "metadata": {
            "tags": []
          },
          "execution_count": 208
        }
      ]
    },
    {
      "cell_type": "markdown",
      "metadata": {
        "id": "Ztm_-t8m8iXn"
      },
      "source": [
        "**Support Vector Regressor (SVR)**"
      ]
    },
    {
      "cell_type": "code",
      "metadata": {
        "id": "1KXW-RLvlKXi",
        "outputId": "4de5c190-ed17-46b7-c474-3152096fd6a6",
        "colab": {
          "base_uri": "https://localhost:8080/"
        }
      },
      "source": [
        "svr = LinearSVR()  #Kernel - Linear, Hard margin\r\n",
        "svr.fit(x_train1, y_train1)\r\n",
        "print(\"SVR Linear :\", svr.score(x_test1, y_test1))"
      ],
      "execution_count": 191,
      "outputs": [
        {
          "output_type": "stream",
          "text": [
            "SVR Linear : 0.4797677142117802\n"
          ],
          "name": "stdout"
        }
      ]
    },
    {
      "cell_type": "code",
      "metadata": {
        "id": "G5o3KVN_8B3k",
        "outputId": "3d27e5f9-4e79-4d3d-a381-bf5dfd69352d",
        "colab": {
          "base_uri": "https://localhost:8080/"
        }
      },
      "source": [
        "svr = SVR(kernel='poly', degree=3, C=5)  #Kernel - Poly  degree = 3, Soft margin = C\r\n",
        "svr.fit(x_train1, y_train1)\r\n",
        "print(\"SVR Polynomial(3) :\", svr.score(x_test1, y_test1))"
      ],
      "execution_count": 192,
      "outputs": [
        {
          "output_type": "stream",
          "text": [
            "SVR Polynomial(3) : 0.22905340395132356\n"
          ],
          "name": "stdout"
        }
      ]
    },
    {
      "cell_type": "code",
      "metadata": {
        "id": "_3YheqcX8WSm",
        "outputId": "c2b83e51-dd2f-4fca-8e8e-72bc7de46ca4",
        "colab": {
          "base_uri": "https://localhost:8080/"
        }
      },
      "source": [
        "svr = SVR(kernel='poly', degree=2, C=3)  #Kernel - Poly  degree = 2, Soft margin = C\r\n",
        "svr.fit(x_train1, y_train1)\r\n",
        "print(\"SVR Polynomial(3) :\", svr.score(x_test1, y_test1))"
      ],
      "execution_count": 194,
      "outputs": [
        {
          "output_type": "stream",
          "text": [
            "SVR Polynomial(3) : 0.3682034786050066\n"
          ],
          "name": "stdout"
        }
      ]
    },
    {
      "cell_type": "code",
      "metadata": {
        "id": "UnfY7_758HXt",
        "outputId": "43206623-823b-4cdd-ab04-a5f15e53d19d",
        "colab": {
          "base_uri": "https://localhost:8080/"
        }
      },
      "source": [
        "svr = SVR(kernel='rbf', C=6)  #Kernel - Radial, Soft margin\r\n",
        "svr.fit(x_train1, y_train1)\r\n",
        "print(\"SVR Radial :\", svr.score(x_test1, y_test1))"
      ],
      "execution_count": 193,
      "outputs": [
        {
          "output_type": "stream",
          "text": [
            "SVR Radial : 0.2426421935705153\n"
          ],
          "name": "stdout"
        }
      ]
    },
    {
      "cell_type": "code",
      "metadata": {
        "id": "WFQgaFZR8QyI"
      },
      "source": [
        ""
      ],
      "execution_count": null,
      "outputs": []
    }
  ]
}