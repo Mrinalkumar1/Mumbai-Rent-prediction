{
  "nbformat": 4,
  "nbformat_minor": 0,
  "metadata": {
    "colab": {
      "name": "Mumbai rent prediction",
      "provenance": [],
      "mount_file_id": "https://github.com/Mrinalkumar1/Mumbai-Rent-prediction/blob/main/Mumbai_rent_prediction.ipynb",
      "authorship_tag": "ABX9TyPxIcp44VLQqJpqOuulVwix",
      "include_colab_link": true
    },
    "kernelspec": {
      "name": "python3",
      "display_name": "Python 3"
    }
  },
  "cells": [
    {
      "cell_type": "markdown",
      "metadata": {
        "id": "view-in-github",
        "colab_type": "text"
      },
      "source": [
        "<a href=\"https://colab.research.google.com/github/Mrinalkumar1/Mumbai-Rent-prediction/blob/main/Mumbai_rent_prediction.ipynb\" target=\"_parent\"><img src=\"https://colab.research.google.com/assets/colab-badge.svg\" alt=\"Open In Colab\"/></a>"
      ]
    },
    {
      "cell_type": "markdown",
      "metadata": {
        "id": "zKQnjCjLvgdk"
      },
      "source": [
        "**Here we have a dataset of Mumbai's rental flat and what we are going to do is analyze the dataset and try to come up with a prediction algorithm which will help us to predict the price of the flat when we input all the columns which make a difference to price of the flat. **\r\n",
        "\r\n",
        "https://www.kaggle.com/sufyanpatel/data-science-regression-project"
      ]
    },
    {
      "cell_type": "code",
      "metadata": {
        "id": "vkxU0TJ-0Ib4"
      },
      "source": [
        "import warnings\r\n",
        "warnings.filterwarnings('ignore')"
      ],
      "execution_count": 211,
      "outputs": []
    },
    {
      "cell_type": "code",
      "metadata": {
        "id": "eWhsWa8IvbNl"
      },
      "source": [
        "import numpy as np\r\n",
        "import pandas as pd\r\n",
        "import seaborn as sns\r\n",
        "import matplotlib.pyplot as plt\r\n",
        "import math"
      ],
      "execution_count": 212,
      "outputs": []
    },
    {
      "cell_type": "code",
      "metadata": {
        "id": "_p_-S-n4vsZ9"
      },
      "source": [
        "df = pd.read_csv(\"/content/drive/MyDrive/ML Projects /Mumbai flats rent/prop_data_clean.csv\")"
      ],
      "execution_count": 213,
      "outputs": []
    },
    {
      "cell_type": "code",
      "metadata": {
        "colab": {
          "base_uri": "https://localhost:8080/",
          "height": 568
        },
        "id": "nFdLzde0v6MS",
        "outputId": "04da494b-92fd-4434-ab0e-71b88f784a2a"
      },
      "source": [
        "df.head()"
      ],
      "execution_count": 214,
      "outputs": [
        {
          "output_type": "execute_result",
          "data": {
            "text/html": [
              "<div>\n",
              "<style scoped>\n",
              "    .dataframe tbody tr th:only-of-type {\n",
              "        vertical-align: middle;\n",
              "    }\n",
              "\n",
              "    .dataframe tbody tr th {\n",
              "        vertical-align: top;\n",
              "    }\n",
              "\n",
              "    .dataframe thead th {\n",
              "        text-align: right;\n",
              "    }\n",
              "</style>\n",
              "<table border=\"1\" class=\"dataframe\">\n",
              "  <thead>\n",
              "    <tr style=\"text-align: right;\">\n",
              "      <th></th>\n",
              "      <th>area</th>\n",
              "      <th>bathroom_num</th>\n",
              "      <th>bedroom_num</th>\n",
              "      <th>city</th>\n",
              "      <th>desc</th>\n",
              "      <th>dev_name</th>\n",
              "      <th>floor_count</th>\n",
              "      <th>floor_num</th>\n",
              "      <th>furnishing</th>\n",
              "      <th>id</th>\n",
              "      <th>id_string</th>\n",
              "      <th>latitude</th>\n",
              "      <th>locality</th>\n",
              "      <th>longitude</th>\n",
              "      <th>post_date</th>\n",
              "      <th>poster_name</th>\n",
              "      <th>price</th>\n",
              "      <th>project</th>\n",
              "      <th>title</th>\n",
              "      <th>trans</th>\n",
              "      <th>type</th>\n",
              "      <th>url</th>\n",
              "      <th>user_type</th>\n",
              "    </tr>\n",
              "  </thead>\n",
              "  <tbody>\n",
              "    <tr>\n",
              "      <th>0</th>\n",
              "      <td>350.0</td>\n",
              "      <td>2.0</td>\n",
              "      <td>1</td>\n",
              "      <td>Mumbai</td>\n",
              "      <td>2 Bath,Unfurnished,East facing The project has...</td>\n",
              "      <td>NaN</td>\n",
              "      <td>NaN</td>\n",
              "      <td>NaN</td>\n",
              "      <td>Unfurnished</td>\n",
              "      <td>45349857</td>\n",
              "      <td>domcache_srp_45349857</td>\n",
              "      <td>19.201336</td>\n",
              "      <td>Malad West</td>\n",
              "      <td>72.825882</td>\n",
              "      <td>2020-01-11</td>\n",
              "      <td>Saurabh Patil</td>\n",
              "      <td>9000</td>\n",
              "      <td>NaN</td>\n",
              "      <td>1 BHK Apartment for Rent in Malad West</td>\n",
              "      <td>Rent</td>\n",
              "      <td>Apartment</td>\n",
              "      <td>/propertyDetails/1-BHK-350-Sq-ft-Multistorey-A...</td>\n",
              "      <td>Agent</td>\n",
              "    </tr>\n",
              "    <tr>\n",
              "      <th>1</th>\n",
              "      <td>652.0</td>\n",
              "      <td>2.0</td>\n",
              "      <td>1</td>\n",
              "      <td>Mumbai</td>\n",
              "      <td>2 Bath,Semi-Furnished,East facing A 1BHK apart...</td>\n",
              "      <td>Veena Group</td>\n",
              "      <td>NaN</td>\n",
              "      <td>NaN</td>\n",
              "      <td>Semi-Furnished</td>\n",
              "      <td>45960973</td>\n",
              "      <td>domcache_srp_45960973</td>\n",
              "      <td>19.410704</td>\n",
              "      <td>Vasai</td>\n",
              "      <td>72.833592</td>\n",
              "      <td>2020-01-11</td>\n",
              "      <td>Gorakh  Chavan</td>\n",
              "      <td>8060</td>\n",
              "      <td>Veena Dynasty</td>\n",
              "      <td>1 BHK Apartment for Rent in Veena Dynasty, Vasai</td>\n",
              "      <td>Rent</td>\n",
              "      <td>Apartment</td>\n",
              "      <td>/propertyDetails/1-BHK-652-Sq-ft-Multistorey-A...</td>\n",
              "      <td>Agent</td>\n",
              "    </tr>\n",
              "    <tr>\n",
              "      <th>2</th>\n",
              "      <td>635.0</td>\n",
              "      <td>2.0</td>\n",
              "      <td>1</td>\n",
              "      <td>Mumbai</td>\n",
              "      <td>2 Bath,Semi-Furnished,4 floor,West facing A be...</td>\n",
              "      <td>Agarwal Group</td>\n",
              "      <td>7.0</td>\n",
              "      <td>4.0</td>\n",
              "      <td>Semi-Furnished</td>\n",
              "      <td>46688849</td>\n",
              "      <td>domcache_srp_46688849</td>\n",
              "      <td>19.467032</td>\n",
              "      <td>Virar</td>\n",
              "      <td>72.801612</td>\n",
              "      <td>2019-12-13</td>\n",
              "      <td>Lokesh Joshi</td>\n",
              "      <td>8000</td>\n",
              "      <td>Agarwal Lifestyle</td>\n",
              "      <td>1 BHK Apartment for Rent in Agarwal Lifestyle,...</td>\n",
              "      <td>Rent</td>\n",
              "      <td>Apartment</td>\n",
              "      <td>/propertyDetails/1-BHK-635-Sq-ft-Multistorey-A...</td>\n",
              "      <td>Agent</td>\n",
              "    </tr>\n",
              "    <tr>\n",
              "      <th>3</th>\n",
              "      <td>540.0</td>\n",
              "      <td>2.0</td>\n",
              "      <td>1</td>\n",
              "      <td>Mumbai</td>\n",
              "      <td>2 Bath,Semi-Furnished,East facing Essential Se...</td>\n",
              "      <td>NaN</td>\n",
              "      <td>NaN</td>\n",
              "      <td>NaN</td>\n",
              "      <td>Semi-Furnished</td>\n",
              "      <td>44696119</td>\n",
              "      <td>domcache_srp_44696119</td>\n",
              "      <td>19.407257</td>\n",
              "      <td>Vasai East</td>\n",
              "      <td>72.836006</td>\n",
              "      <td>2020-01-13</td>\n",
              "      <td>Sajith  Thomas</td>\n",
              "      <td>8000</td>\n",
              "      <td>NaN</td>\n",
              "      <td>1 BHK Apartment for Rent in Vasai East</td>\n",
              "      <td>Rent</td>\n",
              "      <td>Apartment</td>\n",
              "      <td>/propertyDetails/1-BHK-540-Sq-ft-Multistorey-A...</td>\n",
              "      <td>Agent</td>\n",
              "    </tr>\n",
              "    <tr>\n",
              "      <th>4</th>\n",
              "      <td>625.0</td>\n",
              "      <td>1.0</td>\n",
              "      <td>1</td>\n",
              "      <td>Mumbai</td>\n",
              "      <td>1 Bath,Furnished,2 floor,North facing 24 hours...</td>\n",
              "      <td>Millennium Group</td>\n",
              "      <td>7.0</td>\n",
              "      <td>2.0</td>\n",
              "      <td>Furnished</td>\n",
              "      <td>46742851</td>\n",
              "      <td>domcache_srp_46742851</td>\n",
              "      <td>19.360215</td>\n",
              "      <td>Naigaon East</td>\n",
              "      <td>72.850167</td>\n",
              "      <td>2019-12-17</td>\n",
              "      <td>Charmaine  Gomez</td>\n",
              "      <td>9000</td>\n",
              "      <td>Mittal Enclave</td>\n",
              "      <td>1 BHK Apartment for Rent in Mittal Enclave, Na...</td>\n",
              "      <td>Rent</td>\n",
              "      <td>Apartment</td>\n",
              "      <td>/propertyDetails/1-BHK-625-Sq-ft-Multistorey-A...</td>\n",
              "      <td>Owner</td>\n",
              "    </tr>\n",
              "  </tbody>\n",
              "</table>\n",
              "</div>"
            ],
            "text/plain": [
              "    area  ...  user_type\n",
              "0  350.0  ...      Agent\n",
              "1  652.0  ...      Agent\n",
              "2  635.0  ...      Agent\n",
              "3  540.0  ...      Agent\n",
              "4  625.0  ...      Owner\n",
              "\n",
              "[5 rows x 23 columns]"
            ]
          },
          "metadata": {
            "tags": []
          },
          "execution_count": 214
        }
      ]
    },
    {
      "cell_type": "code",
      "metadata": {
        "colab": {
          "base_uri": "https://localhost:8080/",
          "height": 661
        },
        "id": "cVnKN8fFv77z",
        "outputId": "e6651195-fa33-4323-8d2f-0545b1cf46ed"
      },
      "source": [
        "plt.figure(figsize=(10,10))\r\n",
        "sns.heatmap(df.corr(), annot=True)\r\n",
        "plt.show()"
      ],
      "execution_count": 215,
      "outputs": [
        {
          "output_type": "display_data",
          "data": {
            "image/png": "[encoded data removed]",
            "text/plain": [
              "<Figure size 720x720 with 2 Axes>"
            ]
          },
          "metadata": {
            "tags": [],
            "needs_background": "light"
          }
        }
      ]
    },
    {
      "cell_type": "markdown",
      "metadata": {
        "id": "rx6H-37WwD7L"
      },
      "source": [
        "I went with df.corr in the very starting in order to see what columns I am supposed to get rid of. As we can see here \"id\", \"latitude\", \"longitude\" columns have very low correlation so we can just get rid of these columns in the very beginnng. "
      ]
    },
    {
      "cell_type": "code",
      "metadata": {
        "colab": {
          "base_uri": "https://localhost:8080/"
        },
        "id": "adi8HgrCXXv3",
        "outputId": "8c095606-4024-4138-ac4a-0a4e525db14e"
      },
      "source": [
        "df.columns"
      ],
      "execution_count": 216,
      "outputs": [
        {
          "output_type": "execute_result",
          "data": {
            "text/plain": [
              "Index(['area', 'bathroom_num', 'bedroom_num', 'city', 'desc', 'dev_name',\n",
              "       'floor_count', 'floor_num', 'furnishing', 'id', 'id_string', 'latitude',\n",
              "       'locality', 'longitude', 'post_date', 'poster_name', 'price', 'project',\n",
              "       'title', 'trans', 'type', 'url', 'user_type'],\n",
              "      dtype='object')"
            ]
          },
          "metadata": {
            "tags": []
          },
          "execution_count": 216
        }
      ]
    },
    {
      "cell_type": "code",
      "metadata": {
        "colab": {
          "base_uri": "https://localhost:8080/"
        },
        "id": "vnBAWcrCXcI5",
        "outputId": "47e1adcb-84e0-4e7e-84dc-e3433fca55d9"
      },
      "source": [
        "df.count().sum()"
      ],
      "execution_count": 217,
      "outputs": [
        {
          "output_type": "execute_result",
          "data": {
            "text/plain": [
              "752126"
            ]
          },
          "metadata": {
            "tags": []
          },
          "execution_count": 217
        }
      ]
    },
    {
      "cell_type": "code",
      "metadata": {
        "colab": {
          "base_uri": "https://localhost:8080/"
        },
        "id": "OPI39FWAXoMZ",
        "outputId": "08db2657-3567-4863-f5da-9abf8634f17f"
      },
      "source": [
        "print(\"total number of rows: \",len(df))\r\n",
        "print(\"\\n\")\r\n",
        "print(\"Number of null rows\\n\",df.isnull().sum())"
      ],
      "execution_count": 218,
      "outputs": [
        {
          "output_type": "stream",
          "text": [
            "total number of rows:  34348\n",
            "\n",
            "\n",
            "Number of null rows\n",
            " area              776\n",
            "bathroom_num       14\n",
            "bedroom_num         0\n",
            "city                0\n",
            "desc               10\n",
            "dev_name        16999\n",
            "floor_count      2860\n",
            "floor_num        2781\n",
            "furnishing         10\n",
            "id                  0\n",
            "id_string           0\n",
            "latitude            0\n",
            "locality          208\n",
            "longitude           0\n",
            "post_date           0\n",
            "poster_name         1\n",
            "price               0\n",
            "project         14169\n",
            "title              10\n",
            "trans              30\n",
            "type                0\n",
            "url                10\n",
            "user_type           0\n",
            "dtype: int64\n"
          ],
          "name": "stdout"
        }
      ]
    },
    {
      "cell_type": "code",
      "metadata": {
        "id": "F-xMftZ5wBHN"
      },
      "source": [
        "df.drop(['city','desc','dev_name','floor_count', 'floor_num', 'id', 'id_string','post_date', 'poster_name','project','title', 'trans', 'type', 'url', 'latitude','longitude'],axis=1,inplace=True)\r\n",
        "#Dropping columns with low corr. "
      ],
      "execution_count": 219,
      "outputs": []
    },
    {
      "cell_type": "code",
      "metadata": {
        "colab": {
          "base_uri": "https://localhost:8080/",
          "height": 194
        },
        "id": "eV4v1LiUcLGO",
        "outputId": "c52af8b5-a4d5-4fd2-8797-b8d0d0f5eb40"
      },
      "source": [
        "df.head()"
      ],
      "execution_count": 220,
      "outputs": [
        {
          "output_type": "execute_result",
          "data": {
            "text/html": [
              "<div>\n",
              "<style scoped>\n",
              "    .dataframe tbody tr th:only-of-type {\n",
              "        vertical-align: middle;\n",
              "    }\n",
              "\n",
              "    .dataframe tbody tr th {\n",
              "        vertical-align: top;\n",
              "    }\n",
              "\n",
              "    .dataframe thead th {\n",
              "        text-align: right;\n",
              "    }\n",
              "</style>\n",
              "<table border=\"1\" class=\"dataframe\">\n",
              "  <thead>\n",
              "    <tr style=\"text-align: right;\">\n",
              "      <th></th>\n",
              "      <th>area</th>\n",
              "      <th>bathroom_num</th>\n",
              "      <th>bedroom_num</th>\n",
              "      <th>furnishing</th>\n",
              "      <th>locality</th>\n",
              "      <th>price</th>\n",
              "      <th>user_type</th>\n",
              "    </tr>\n",
              "  </thead>\n",
              "  <tbody>\n",
              "    <tr>\n",
              "      <th>0</th>\n",
              "      <td>350.0</td>\n",
              "      <td>2.0</td>\n",
              "      <td>1</td>\n",
              "      <td>Unfurnished</td>\n",
              "      <td>Malad West</td>\n",
              "      <td>9000</td>\n",
              "      <td>Agent</td>\n",
              "    </tr>\n",
              "    <tr>\n",
              "      <th>1</th>\n",
              "      <td>652.0</td>\n",
              "      <td>2.0</td>\n",
              "      <td>1</td>\n",
              "      <td>Semi-Furnished</td>\n",
              "      <td>Vasai</td>\n",
              "      <td>8060</td>\n",
              "      <td>Agent</td>\n",
              "    </tr>\n",
              "    <tr>\n",
              "      <th>2</th>\n",
              "      <td>635.0</td>\n",
              "      <td>2.0</td>\n",
              "      <td>1</td>\n",
              "      <td>Semi-Furnished</td>\n",
              "      <td>Virar</td>\n",
              "      <td>8000</td>\n",
              "      <td>Agent</td>\n",
              "    </tr>\n",
              "    <tr>\n",
              "      <th>3</th>\n",
              "      <td>540.0</td>\n",
              "      <td>2.0</td>\n",
              "      <td>1</td>\n",
              "      <td>Semi-Furnished</td>\n",
              "      <td>Vasai East</td>\n",
              "      <td>8000</td>\n",
              "      <td>Agent</td>\n",
              "    </tr>\n",
              "    <tr>\n",
              "      <th>4</th>\n",
              "      <td>625.0</td>\n",
              "      <td>1.0</td>\n",
              "      <td>1</td>\n",
              "      <td>Furnished</td>\n",
              "      <td>Naigaon East</td>\n",
              "      <td>9000</td>\n",
              "      <td>Owner</td>\n",
              "    </tr>\n",
              "  </tbody>\n",
              "</table>\n",
              "</div>"
            ],
            "text/plain": [
              "    area  bathroom_num  bedroom_num  ...      locality price  user_type\n",
              "0  350.0           2.0            1  ...    Malad West  9000      Agent\n",
              "1  652.0           2.0            1  ...         Vasai  8060      Agent\n",
              "2  635.0           2.0            1  ...         Virar  8000      Agent\n",
              "3  540.0           2.0            1  ...    Vasai East  8000      Agent\n",
              "4  625.0           1.0            1  ...  Naigaon East  9000      Owner\n",
              "\n",
              "[5 rows x 7 columns]"
            ]
          },
          "metadata": {
            "tags": []
          },
          "execution_count": 220
        }
      ]
    },
    {
      "cell_type": "code",
      "metadata": {
        "colab": {
          "base_uri": "https://localhost:8080/"
        },
        "id": "HNeIgnrKwGCr",
        "outputId": "351f0f60-5ff3-44e3-a3a8-6a8655f08e53"
      },
      "source": [
        "df.shape"
      ],
      "execution_count": 221,
      "outputs": [
        {
          "output_type": "execute_result",
          "data": {
            "text/plain": [
              "(34348, 7)"
            ]
          },
          "metadata": {
            "tags": []
          },
          "execution_count": 221
        }
      ]
    },
    {
      "cell_type": "code",
      "metadata": {
        "colab": {
          "base_uri": "https://localhost:8080/"
        },
        "id": "pHZUEoJmwHxL",
        "outputId": "879eab80-8701-4558-c1f9-cd570a482ac1"
      },
      "source": [
        "df.isnull().sum()"
      ],
      "execution_count": 222,
      "outputs": [
        {
          "output_type": "execute_result",
          "data": {
            "text/plain": [
              "area            776\n",
              "bathroom_num     14\n",
              "bedroom_num       0\n",
              "furnishing       10\n",
              "locality        208\n",
              "price             0\n",
              "user_type         0\n",
              "dtype: int64"
            ]
          },
          "metadata": {
            "tags": []
          },
          "execution_count": 222
        }
      ]
    },
    {
      "cell_type": "code",
      "metadata": {
        "colab": {
          "base_uri": "https://localhost:8080/"
        },
        "id": "zBhES6VtwJ8Y",
        "outputId": "6b043853-2e1f-4a28-b1ad-b418a6be8e66"
      },
      "source": [
        "for col in df:\r\n",
        "  print(col, df[col].unique())"
      ],
      "execution_count": 223,
      "outputs": [
        {
          "output_type": "stream",
          "text": [
            "area [350. 652. 635. ... 150. 663. 642.]\n",
            "bathroom_num [ 2.  1. nan  3.  4.  5.  6.  7.  8.]\n",
            "bedroom_num [1 4 3 5 2]\n",
            "furnishing ['Unfurnished' 'Semi-Furnished' 'Furnished' nan]\n",
            "locality ['Malad West' 'Vasai' 'Virar' 'Vasai East' 'Naigaon East' 'Virar West'\n",
            " 'Royal Palms Estate' 'Nalasopara' 'Silver Park' 'Vasai West'\n",
            " 'Andheri East' 'Mulund East' 'Malvani' 'Nalasopara East' nan\n",
            " 'Balkum Pada - Majiwada' 'Kalyan' 'Bhayandar East' 'Mira Bhayandar'\n",
            " 'MHADA Colony' 'Chembur Camp' 'Govind Nagar' 'Bhayandar West'\n",
            " 'Beverly Park' 'Worli' 'Nalasopara West' 'Lok Manya Nagar'\n",
            " 'Borivali West' 'Viva College Road' 'Mira Road' 'New Link Road'\n",
            " 'Bhandup Industrial Estate' 'Sakinaka' 'Dongri' 'MMRDA Area'\n",
            " 'Yashavant Nagar' 'Kandivali East' 'Ghatkopar West' 'Ghodbunder'\n",
            " 'Nahur West' 'CAMA Industrial Estate' 'Anushakti Colony' 'Thane'\n",
            " 'Yari Road' 'Virar East' 'Goregaon East' 'Sakinaka Junction' 'Prabhadevi'\n",
            " 'Andheri West' 'Pandurang Wadi' 'Bandra West' 'Khar West' 'Bolinj'\n",
            " 'Virat Nagar' 'Thane-Kalyan-Dombivli' 'Poonam Gardens' 'Ramdev Park'\n",
            " 'Vinay Nagar' 'Unique Garden' 'Tirupati Nagar' 'Charkop Sector 8'\n",
            " 'Bandra Kurla Complex' 'Borivali East' 'Mulund West' 'Aarey Milk Colony'\n",
            " 'Oberoi Splendor' 'Charkop Village' 'Malad East' 'Devi Pada' 'Datta Pada'\n",
            " 'Jankalyan Nagar' 'Magathane' 'Thakur Village, Kandivali East'\n",
            " 'Samata Nagar' 'Bhandup West' 'Ghatkopar East' 'Kanjurmarg East'\n",
            " 'Vile Parle East' 'Mulund Railway Station' 'Madh' 'Upper Govind Nagar'\n",
            " 'Samta Nagar' 'Bhatti Pada' 'Nandiadwala Colony' 'Gokuldham' 'Powai'\n",
            " 'Kandivali West' 'Lokhandwala Twp' 'Film City Road' 'LBS Marg'\n",
            " 'Mindspace' 'Raheja Vihar' 'Sher E Punjab Society' 'Lokhandwala Complex'\n",
            " 'Vikhroli West' 'Mahavir Nagar' 'Ghatkopar' 'Vikhroli East' 'Dongarpada'\n",
            " 'Sheetal Nagar' 'Hatkesh Udyog' 'Thakur Complex' 'Kannamwar Nagar 2'\n",
            " 'Ashok Nagar Western Mumbai' 'Sion Railway Colony' 'Pratiksha Nagar'\n",
            " 'Ekta Nagar' 'Chandivali' 'Mankhurd' 'Santacruz East' 'Marol Naka'\n",
            " 'Ambernath' 'Gavan Pada' 'Christian Gaon' 'IC Colony' 'Dahisar East'\n",
            " 'Elphinstone' 'Poonam Sagar' 'Asha Nagar' 'Poonam Nagar' 'Tata Nagar'\n",
            " 'Veena Nagar' 'Goregaon West' 'Chembur' '4 Bunglows' 'Vallabh Baug'\n",
            " 'VN Purav Marg' 'Juhu' 'Kanch Pada' 'Vikhroli' 'Unnat Nagar' 'JB Nagar'\n",
            " 'Tilak Nagar - Harbour Line' 'Veera Desai Road' 'Juhu Versova Link'\n",
            " 'Shivaji Nagar Malad East' 'BEST Housing Colony' 'Oshiwara'\n",
            " 'Marol Maroshi' 'Borivali' 'Pant Nagar' 'Netaji Subhash Nagar'\n",
            " 'Link Road' 'Sarvodaya Nagar' 'Powai lake' 'Churi Wadi' 'Bimbisar Nagar'\n",
            " 'Shri Swami Samarth Nagar' 'Nahur East' 'Shastri Nagar' 'D.N. Nagar'\n",
            " 'Best Nagar - Goregaon West' 'Swastik Park' 'Marol' 'Four Bungalows'\n",
            " 'Santacruz West' 'Parel' 'Udyog Nagar' 'Chakala' 'Chakala MIDC'\n",
            " 'Matunga West' 'Central Area' 'Premier Colony' 'Sion East'\n",
            " 'Bhavani Nagar' 'Tunga' 'Wadala' 'Byculla' 'Sion Trombay Road'\n",
            " 'Basant Cinema' 'Vasant Vihar Complex' 'Govandi Station Road'\n",
            " 'Central Avenue Road' 'Bhakti Park' 'Wadala East' 'Versova'\n",
            " 'JVLR-Jogeshwari Vikhroli Link Road' 'Ghatla' 'Union Park' 'Joshi Wadi'\n",
            " 'Vile Parle West' 'Subhash Road' 'Dadar West' 'Matunga' 'Dadar East'\n",
            " 'Andheri Link Road' 'Juhu Beach Area' 'Sewri' 'Deonar' 'Andheri'\n",
            " 'Koyambedu' 'Lower Parel' 'Worli Hill' 'JVPD Scheme' 'Yeshodham'\n",
            " 'MIG Colony' 'Shivaji Park' 'Sai Baba Complex' 'Seven Bungalows'\n",
            " 'Bandra East' 'Saki Vihar Road' 'Atur Park Colony Bungalow'\n",
            " 'Mumbai Central' 'Bhoiwada' 'Wadala West' 'MHADA Vanrai Colony' 'Dadar'\n",
            " 'Worli Sea Face' 'Juhu Vile Parle Development Scheme' 'Parsi Colony'\n",
            " 'Dadar TT Circle' 'MHADA Colony 20' 'Mount Mary' 'Cuffe Parade'\n",
            " 'Kala Nagar' 'Girgaon Chowpatty' 'Linking Road' 'Khar' 'Kamala City'\n",
            " 'Dindoshi' 'Turner Road' 'Mahalakshmi' 'Warden Road' 'Pali Hill'\n",
            " 'Haji Ali' 'Mahim West' 'Pali Naka' 'Perry Rd' 'Mahim' 'Gulmohar Road'\n",
            " 'Gamdevi' 'Panchkutir Ganesh Nagar' 'Kulkarni Chowk' 'Matunga East'\n",
            " 'Carmichael Road' 'Mazgaon' 'Bandra' 'Church Gate' 'Babar Shaikh Chowk'\n",
            " 'Gamadia Colony' 'Worli Naka Acharaya Atre Chowk'\n",
            " 'Shree Siddhivinayak Mandir Chowk' 'Bandra Band Stand' 'Napean Sea Road'\n",
            " 'Upper Worli' 'Teen Batti' 'Mahalaxmi Race Course' 'Waterfield Road'\n",
            " 'Mehboob Studio' 'Elphiston Road Marchant Association Chowk' 'BDD Chawl'\n",
            " 'Nepeansea Road' 'Hanuman Nagar' 'Gamdia Colony Chowk'\n",
            " 'Willingdon Colony' 'Walkeshwar' 'Altamount Road' 'Colaba'\n",
            " 'Saraswat Colony' 'Jacob Circle' 'Sayed Wadi' 'Tardeo'\n",
            " 'Union Park Pali Hill' 'World Trade Centre' 'Malabar Hill' 'Marine Drive'\n",
            " 'Markendeshwar' 'Peddar Road' 'Siddharth Nagar South Mumbai'\n",
            " 'Pedder Road' 'Kemps Corner' 'Breach Candy' 'Juhu Versova Link Road'\n",
            " 'PK Kurne Chowk' 'Carter Road' 'Cumbala Hill'\n",
            " 'Colaba Upper Gateway Of India Area' 'Chikalwadi' 'Pleasant Park'\n",
            " 'Patel Nagar' 'Kurar Village' 'Kannamwar Nagar 1' 'Ekta Nagar Charkop'\n",
            " 'Dahisar West' 'Golden Nest' 'Pimpri Pada' 'Yogi Nagar' 'Kaju Pada'\n",
            " 'Versova Village' 'Vakola' 'Saat Rasta' 'Pratiksha Nagar-Sion'\n",
            " 'Chunabhatti' 'Chiku Wadi' 'GTB Nagar' 'Azad Nagar' 'Mulund Colony'\n",
            " 'Jogeshwari West' 'Govandi' 'Hill Road Nagar' 'Poisar' 'SSPCG Society'\n",
            " 'Kondivita Village' 'Guru Teg Bahadur Nagar' 'Sai Baba Nagar' 'Nagpada'\n",
            " 'Antop Hill' 'Dahisar' 'Gorai 2' 'Kurla East' 'Ghodapdeo' 'Juhu Koliwada'\n",
            " 'Kandarpada' 'Park Site Colony' 'Kurla West' 'Yogi Jayraj Nagar'\n",
            " 'Jaganade Chowk' 'Raigarh' 'Evershine Nagar' 'Shantivan' 'Orlem'\n",
            " 'Bhandup East' 'Mahada Colony' 'Ishwar Nagar' 'Shri Krishana Nagar'\n",
            " 'Sion' 'Nansey Colony' 'Charkop Sector 6' 'Charkop' 'Shell Colony'\n",
            " 'Vaishali Nagar' 'Anand Nagar' 'Eksar' 'Cotton Green Zakaria B'\n",
            " 'NL Complex' 'Akurli Nagar' 'Ram Nagar' 'Siddhartha Nagar'\n",
            " 'Jogeshwari East' 'Kharodi' 'Sardar Nagar No 4' 'Vidya Nagari'\n",
            " 'Asalfa Village JJC' 'Mahakali Nagar' 'Balaji Nagar' 'Nirmal Nagar'\n",
            " 'Parsi Wada' 'Meghwadi' 'Gorai 3' 'Garware Chowk' 'Ashok Van'\n",
            " 'Liberty Garden' 'Andheri-Goregaon' 'Amboli' 'Hindustan Chowk'\n",
            " 'LIC Colony' 'Mandapeshwar' 'Kurla Vidya Vihar Belt'\n",
            " 'MIDC Industrial Estate' 'Everard Nagar' 'Chembur Colony' 'Bandivali'\n",
            " 'Nahur' 'Dattani Park' 'Mulund' 'Fort' 'Irla' 'Rawal Pada' 'Gorai 1'\n",
            " 'Grant Road' 'Abhyudaya Nagar' 'Navjeevan Wadi' 'Babrekar Nagar'\n",
            " 'Naupada' 'Dockyard Road' 'Dattu Vaidya Nagar' 'Thakurdwar'\n",
            " 'Somvar Bazar' 'Gondavali Gaothan' 'Charkop Sector 4' 'Satya Nagar'\n",
            " 'Manohar Phalke Chowk' 'LIC Housing Colony' 'Kalina' 'JL Tambe Nagar'\n",
            " 'Nagari Nivara Parishad' 'Valmik Nagar' 'Cheda Nagar' 'Panchsheel Nagar'\n",
            " 'Irani Wada' 'Charkop Sector 2' 'Kherwadi' 'Govandi West' 'Kokan Nagar'\n",
            " 'Government Colony' 'Abhinav Nagar' 'Hari Om Nagar' 'Charkop Sector 3'\n",
            " 'Kannamwar Nagar' 'Hanuman Tekdi' 'Rajan Pada' 'Sher-e-Punjab'\n",
            " 'Charkop Sector 1' 'Amar Nagar' 'Postal Colony' 'Prem Nagar'\n",
            " 'Pestom Sagar' 'Chinch Bunder' 'Mulji Nagar' 'Sai Nagar' 'Pirojsha Nagar'\n",
            " 'Mahatama Gandhi Road' 'Dhanukar Wadi' 'Tilak Nagar – Central Line'\n",
            " 'Alika Nagar' 'Lal Baug' 'Tata Colony' 'Charkop Industrial Estate'\n",
            " 'Nehru Nagar-Kurla' 'Varsha Nagar' 'Piramal Nagar' 'Kulup Wadi'\n",
            " 'Rajendra Nagar' 'Sundar Nagar, Kalina' 'Talmakiwadi' 'Deonar Farm Road'\n",
            " 'Gopal Nagar' 'Natwar Nagar' 'New Tilak Nagar' 'Pillai Chowk'\n",
            " 'Bail Bazar' 'Kurla' 'Satrasta' 'Subhash Nagar' 'Halani Darbar Chowk'\n",
            " 'Vishwakarma Nagar' 'Shimpoli' 'Garodia Nagar' 'Basant Garden'\n",
            " 'Mhatre Wadi' 'Shiv Srishti' 'Khetwadi' 'Marol Maroshi Road'\n",
            " 'Bhandup Village' 'Jagdusha Nagar' 'Chinchpokli' 'P Lokhande Marg'\n",
            " 'Damodar Park' 'Chheda Nagar' 'Girgaum' 'Sunder Nagar' 'Ghartan Pada'\n",
            " 'Van Mali Sabhagruha Chowk' 'Gangawadi' 'Pathanwadi' 'Bhandup'\n",
            " 'Jogeshwari' 'Masjid Bander West' 'Crawford Market' 'P&T Colony'\n",
            " 'Sadanwadi' 'Pahadi Goregaon East' 'Moti Nagar' 'Kalpak Estate'\n",
            " 'Goverdhan Nagar' 'Mitha Nagar' 'Andheri Kurla Road' 'Navjeevan Colony'\n",
            " 'Haridas Nagar' 'Yeshwant Nagar' 'Govandi East' 'Lokmanya Tilak Nagar'\n",
            " 'Shivaji Nagar' 'Film City' 'Bangur Nagar' 'Jawahar Nagar'\n",
            " 'Amar Mahal Junction' 'Rifle Range' 'Gandhi Nagar' 'Mangalwadi'\n",
            " 'Vile Parle' 'Navagaon' 'Yashwant Nagar' 'Tagore Nagar' 'Manish Nagar'\n",
            " 'Kanya Pada' 'Eastern Express Highway' 'Pirojsha Godrej Nagar'\n",
            " 'Pushpa Park' 'Sumer Nagar' 'Babasaheb Worlikar Chowk' 'Gokul Dham'\n",
            " 'Datta Park' 'Bharat Mata Chowk' 'Prem Puriji Chowk' 'Bhim Nagar'\n",
            " 'Collector Colony' 'MHADA Colony Near Yadav Nagar' 'Parle Colony'\n",
            " 'Nadiyawala Colony 2' 'Behram Baug' 'Godrej Hillside Residential Colony'\n",
            " 'Agripada' 'Takshila Nagar' 'Tilak Nagar - Central Mumbai' 'Lakme Road'\n",
            " 'Kamani Junction' 'Amrut Nagar' 'Motilal Nagar 1' 'Western Express Hwy'\n",
            " 'Fine Art Chowk' 'Neelam Nagar' 'Rani Laxmibai Chowk' 'Datar Colony'\n",
            " 'Indira Nagar' 'Veera Desai Chowk' 'Valmiki Nagar' 'Suman Nagar' 'Malad'\n",
            " 'Ratan Nagar' 'Surya Nagar' 'Dr N Pai Marg Chowk' 'Mahul Road'\n",
            " 'Khar East' 'Umershet Pada' 'Jaydev Singh Nagar' 'Motilal Nagar 2'\n",
            " 'Kings Circle' 'Malcom Baug' 'Kandivali' 'Vrindavan' 'Rambaug'\n",
            " 'IIT Colony' 'New Airport Colony' 'Chira Bazaar' 'Santosh Nagar'\n",
            " 'Gogate Wadi' 'Godrej Station Road Colony' 'Motilal Nagar 3'\n",
            " 'Kumud Nagar' 'Null Bazar' 'Swami Vivekanand Chowk' 'King Circle'\n",
            " 'Kamgar Nagar' 'Jijamate Chowk' 'Jeejamata Road'\n",
            " 'Chincholi Pathak-Mallad' 'Azad Nagar 2' 'Gandhi Market' 'Model Town'\n",
            " 'Kanti Nagar' 'Customs Colony' 'Mathuradas Colony' 'Sindhi Colony'\n",
            " 'Golibar' 'Mahim Bay' 'BS Ambedkar Nagar' 'Kothu Wadi' 'Motilal Nagar'\n",
            " 'C Gidwani Marg Chowk' 'R Mehta Chowk' 'Sion Hospital Colony'\n",
            " 'Phase D, Shastri Nagar' 'Charni Road' 'Girgaon' 'Adarsh Nagar'\n",
            " 'Rajawadi' 'Zalwad Nagar' 'Shreyas Colony' 'Vishveshwar Nagar'\n",
            " 'Juhu Tara Road' 'Marine Lines' 'Nai Gaon' 'Five Gardens'\n",
            " 'Gilbert Hill JJC' 'Erangal' 'Shivneri Nagar' 'Chembur Village'\n",
            " 'Lallu Bhai Park' 'Kalina University' 'Paranjape Nagar' 'Mazagaon'\n",
            " 'Jeevan Nagar' 'Marol Naka Junction' 'Police Camp Worli Sea Face'\n",
            " 'Bhawani Shankar' 'Datta Guru Society' 'Nana Chowk' 'Hill Rd'\n",
            " 'Mota Nagar' 'Kabutarkhana Purandare Chowk' 'Millat Nagar' 'Uppar Colaba'\n",
            " 'Hindu Colony' 'S Haralayya Chowk' 'Bharat Nagar' 'Grant Road Area'\n",
            " 'Prabhat Colony' 'Veera Desai Industrial Estate' 'Vaibhav Nagar'\n",
            " 'Thakkar Estate' 'Air India Colony' 'Opera House' 'Hasmukh Nagar'\n",
            " 'Wadia Baug' 'MSES Colony' 'Bandra Reclamation' 'Navy Nagar' 'Gokhale Rd'\n",
            " 'Sasoon Dock' 'Jeet Nagar' 'Kashinath Ghanekar Chowk'\n",
            " 'Narayan Pujari Colony' 'Colaba Upper Apollo Bunder'\n",
            " 'Siddharth Nagar Central Mumbai' 'Holy Family Hospital' 'Hughes Road'\n",
            " 'Nana Chowk Grant Road' 'Carter Rd' \"St Paul's Rd\" 'Dalit Nagar'\n",
            " 'Hanging Garden' 'Chowpatty Area' 'Churchgate station' 'Kanjurmarg'\n",
            " 'Boisar West' 'Bhatwadi' 'Vithal Wadi' 'Kadam Nagar' 'Khanda Colony'\n",
            " 'Tarun Bharat Society' 'Palava' 'Navi Mumbai-Khargar-Panvel' 'Y K Nagar'\n",
            " 'Sambhaji Nagar' 'Indralok' 'Ghodbandar Village' 'Srishti Complex'\n",
            " 'Geeta Nagar' 'Gaikwad Nagar' 'Sane Guruji Nagar' 'Damble Colony'\n",
            " 'Friends Colony' 'Babhai Naka' 'Sahyadri Nagar' 'Mahatre Wadi'\n",
            " 'AAI Residential Complex' 'Vasant Vihar' 'Ganesh Nagar JJC Area'\n",
            " 'Maharashtra Nagar' 'Charkop Sector 7' 'Vazira Naka' 'Ashok Nagar'\n",
            " 'Pratikhsha Nagar' 'Kamgar Colony' 'Charkop Sector 5' 'Dattani Nagar'\n",
            " 'Vini Garden' 'Munjar Nagar' 'Lok Housing Colony' 'Sardar Nagar'\n",
            " 'Vidya Vihar West' 'Sindhu Wadi' 'Christian Colony' 'Taximen Colony'\n",
            " 'Marve' 'Kastur Park' 'Priyadarshini Chowk' 'Nagesh Patliwadi'\n",
            " 'Chikuwadi' 'Jayprakash Nagar' 'Bhandarwada' 'Kasam Baug' 'Vazir Naka'\n",
            " 'Savarkar Chowk' 'Holly Cross Church Chowk' 'Azad Nagar Versova Road'\n",
            " 'Nahur Gaothan' 'Tilak Nagar - Western Suburb'\n",
            " 'Pathanwadi - Kurur Village' 'Kora Kendra' 'Nehru Nagar - Juhu'\n",
            " 'Ganesh Nagar' 'Kanjurmarg West' 'Kokani Pada' 'Crompton Greaves'\n",
            " 'Gundavali' 'Acharya A Maharaj Chowk' 'Eden Gardens' 'Sen Nagar'\n",
            " 'Azad Nagar JJC' 'Ghatla Chowk' 'SV Patel Nagar'\n",
            " 'Hanuman Tekdi - Goregaon East' 'Sahakar Nagar' 'Tanajiwadi'\n",
            " 'Nityanand Nagar' 'Fertiliser Township' 'Bamandaya Pada' 'Deonar Pada'\n",
            " 'VSNL Colony' 'Nadkarni Park' 'Santacruz' 'Sham Nagar'\n",
            " 'Digambar Jain Mandir Chowk' 'New Nagardas Road' 'Laxmi Nagar'\n",
            " 'Shri Nagar' 'Hariyali' 'Ambedkar Garden' 'Indian Oil Nagar'\n",
            " 'PMGP Colony' 'Sainath Nagar' 'Hanuman Road' 'Dr CG Rd'\n",
            " 'Maheshwari Chowk' 'Pirojshah Nagar' 'Banjar Pada, Dindoshi'\n",
            " 'Acharya Nagar' 'Safed Pul' 'RCF Colony' 'Paspoli Dongri Pada'\n",
            " 'RTO Colony' 'Kherwadi Junction' 'MHADA Colony Milat Nagar'\n",
            " 'Sandesh Nagar' 'Kohinoor Compound' 'Acharya Tulsi Chowk'\n",
            " 'BR Ambedkar Chowk' 'Agari Pada' 'Laxmi Industrial Estate' 'Amit Nagar'\n",
            " 'Mukund Nagar' 'Kamala Nagar' 'Sector 86' 'Parmanand Wadi'\n",
            " 'Agarkar Chowk' 'Godrej Colony' 'Teachers Colony' 'Kolivary'\n",
            " 'Pingle Chowk' 'Danda' 'Khar Danda' 'Mazagaon Dock' 'Juhu Tara'\n",
            " 'Vithaldas Nagar' 'Sangeet Mahabharati Chowk' 'BPT Colony' 'Goregaon'\n",
            " 'Worli Tip' 'Police Colony Worli Sea Face' 'S Savarkar Chowk'\n",
            " 'CA Narayan Chowk' 'Dinar Kadekar Chowk' 'Bhagwan Parshwanath Chowk'\n",
            " 'Ambewadi' 'DS Chowk' 'Ranwar' 'Cursow Baug' 'Dr Veersen J Ruparel Chowk'\n",
            " 'Rebello Rd' 'Late Sadashivrao Shirke Chowk' 'Old Khar' 'Kowli Chowk'\n",
            " 'Regal Chowk' 'Babulnath Chowk' 'Advocate Devarshi N Khuman Chowk'\n",
            " 'Nariman Point' 'Water Field Road' 'Bhulabhai Desai Marg' 'Gowalia Tank'\n",
            " 'Marol MIDC Industrial Estate' 'Naigaon West' 'Mahul' 'Liliya Nagar'\n",
            " 'Daulat Nagar' 'Sukar Wadi' 'Aksa Gaon' 'Ambedkar Nagar'\n",
            " 'Lower Govind Nagar' 'MTNL Colony' 'Chinch Pada'\n",
            " 'Nirmal Nagar-Central Line' 'Dhanji Wadi' 'Seepz Area' 'Gautam Nagar'\n",
            " 'Vidya Vihar' 'Vijay Nagar' 'Vivekanand Colony' 'Sai Wadi' 'R K Studio'\n",
            " 'Kirol Village' 'Railway Colony Bandra Terminus' 'R C Marg' 'Ulhasnagar'\n",
            " 'Shiv Shankar Nagar' 'Koladongri' 'L Tilak Colony'\n",
            " 'Air India Staff Colony 2' 'Shirley' 'Fanaswadi' 'Sir Bhalchandra Chowk'\n",
            " 'Metro Cinema Chowk' 'Ahimsa Nagar' 'Vasant Kunj'\n",
            " 'Dr Babasaheb Ambedkar Govt Hos' 'Railway Colony Pali Hill'\n",
            " 'Adv RD Kowte Chowk' 'Lotus Colony' 'Architect Vidyadhar Mhatre Chowk'\n",
            " 'Haji Ali Junction' 'Brhmanwada' 'Zeezamata Nagar'\n",
            " 'Indian Medical Association Chowk' 'Abhishek Nagar' 'Mantralaya'\n",
            " 'Rotary Chowk' 'Barrister Rajni Patel Chowk' 'BD Somani Chowk' 'Koliwadi'\n",
            " 'Rohidas Chowk' 'Shiv Sagar Estate' 'Purandarwadi' 'Priyadarshini Park'\n",
            " 'Teen Batti Chowk' 'Oberoi' 'Ramji Nagar' 'Nimoni Baug']\n",
            "price [   9000    8060    8000    8500   10000    9500    8700   18000   17500\n",
            "   21000   22000   17000   19900   19000   20000   16000   25000   30000\n",
            "   23000   27000   28500   28000   26000   24000   23500   35000   41000\n",
            "   32000   45000   42000   44000   36000   44400   43000   40000   38000\n",
            "   37000   50000   52000   54500   55000   57000   60000   58000   49220\n",
            "   47000   47001   48000   62000   63000   78000   70000   75000   74000\n",
            "   77000   76000   65000   79000   71000   72000   68000   11000   11500\n",
            "   10500   12500   12000   10200   12200   10437   10333   11300   11900\n",
            "   11750   90000  100000   80000   95000   85000   99000   91000   81000\n",
            "   83000   82000   88000   99500   79999   87000   89000   92300   93000\n",
            "   92000  110000  125000  115000  105000  120000  118000  112000  122000\n",
            "  112921  121000  108000  111000  125002  113000  120001  123900  116000\n",
            "  102000  107000  106000  140000  150000  130000  148000  149000  145000\n",
            "  133000  135001  135000  151000  155000  144000  152000  138000  145500\n",
            "  134500  128000  142000  129000  146000  136000  137100  141000  140001\n",
            "  132000  135500  139000  127000  147000  130500  134000  137800  180000\n",
            "  170000  165000  190000  175000  160000  195000  171991  185000  172500\n",
            "  180100  199000  159000  196000  170200  178245  189000  179000  174000\n",
            "  169000  176000  168000  225000  220000  200000  210000  250000  223000\n",
            "  248000  230000  214000  220600  215000  209000  201000  235000  240000\n",
            "  205000  237000  241000  245000  310000  305000  280000  275000  260000\n",
            "  300000  285000  265000  255000  270000  297500  290000  295000  315000\n",
            "  355000  325000  330000  350000  375000  320000  382000  360000  370000\n",
            "  346000  380000  340000  385000  365000  349000  450000  400000  500000\n",
            "  499000  402000  430000  425000  475000  420000  415000  440000  410000\n",
            "  480000  550000  598000  540000  555000  600000  620000  625000  525000\n",
            "  575000  560000  580000  775000  650000  750000  700000  675000  666000\n",
            "   14500   14000   15000   13500   13000   15500   14100   13200   13999\n",
            "   15079   13938   14200   14677   13400   15400   13850   15001   14800\n",
            "   13900   15550   14600   15700   14750   14700   15200   14499   14001\n",
            "   14999  800000  975000 1000000  877000  850000  900000  825000 1150000\n",
            "   18500   16900   16500   17748   19100   19500   19700   19200   16800\n",
            "   16300   17795   19800   18100   17200   19001   16100   15900   17001\n",
            "   22500   24900   24500   20700   21500   20500   23100   20160   22300\n",
            "   24750   20603   24999   23400   20100   21560   20750   24222   23999\n",
            "   22900   22550   20150   24100   24600   21900   20999   24800   20300\n",
            "  125100  124000  123000  125800  143000  390890  505000  532000  720000\n",
            "  875000  950000   29000   31000   27500   25500   28200   29500   26500\n",
            "   26600   31090   30200   27700   27083   25999   30100   30500   25575\n",
            "   25547   25300   29792   29997   29750   28700   27200   31500   27999\n",
            "   29950   26800   29414   29800   29999   28499   31095   29005   31600\n",
            "   26700   29700   26250   27950   28750   28400   29900   29300 1200000\n",
            "   34400   34000   33000   37100   38999   32500   33400   39000   35500\n",
            "   34500   34333   34999   38500   33500   37500   34300   36500   39500\n",
            "   36999   33100   32300   32222   34900   35100   35009   36800   31999\n",
            "   38900   37200   34006   36100   32999   36400   35800   37400   37499\n",
            "   37999   32100   38100   35010   38400   35003   34100   42500   39999\n",
            "   48500   49500   48100   46000   39990   49000   42900   49990   44500\n",
            "   42223   40200   47500   40600   43500   44200   45800   47800   41777\n",
            "   41500   40500   40100   47600   45500   43151   47300   40006   42999\n",
            "   42600   42700   53000   56000   51000   52500   54000   50500   51500\n",
            "   73000   67000   66000   65500   99998   98000    3500    4000    3999\n",
            "    4500    3900    5000    5500    5750    5600    6000    6500    7000\n",
            "    7500    7600    2500    2200    3000    8900    9300    9123    8800\n",
            "    8200   11048   12383   10250   13750   17800   18600   18700   18200\n",
            "   18300   16999   17499   20200   30001   26900   30450   27800   28583\n",
            "   29983   28003   26200   25400   37001   35333   33900   37800   36099\n",
            "   35999   37004   37900   38950   39400   37600   38001   35789   38888\n",
            "   38800   37005   38700   37002   46500   49999   50002   48150   50100\n",
            "   43100   49200   48900   46800   44300   42400   47700   46200   49988\n",
            "   44900   50004   45200   40800   42300   49111   47999   42100   44450\n",
            "   45913   50001   43900   42200   44600   48222   44800   45700   43300\n",
            "   46600   41997   45060   48600   45100   41600   49400   48005   48800\n",
            "   50025   46400   43250   59500   61000   59000   51999   57999   59400\n",
            "   55500   53500   55005   55111   50667   56833   57800   56500   62500\n",
            "   53800   54600   63003   61500   57500   52999   53999   54900   59999\n",
            "   53400   56999   58500   60500   60001   55444   60100   62999   52800\n",
            "   56200   51900   57600   54100   64000   77500   69000   70300   78700\n",
            "   63333   64500   75500   72500   64200   65200   74002   65100   64999\n",
            "   68500   73500   71500   64100   72001   75200   69500   63700   72002\n",
            "   67500   65700   74500   65400   97000   84000   96000   85800   94000\n",
            "   82500   79500   99999   79900   85600   90600   80357   85500   90001\n",
            "   95001   99888   83500   86000   79800   96500   80111   81666   83333\n",
            "  109000  101000  114000  105400  100005  120002  100500  119000  104000\n",
            "  105555  130001  684000    3250    4800    4999    4400    4700   13333\n",
            "   48001   47333   40669   47002   48200   46502   48002   42004   44002\n",
            "   48003   45600   60200   53100   59700   55555   58100   59001   62916\n",
            "   51200   56600   59005   52003   52100   63001   59791   64800   78005\n",
            "   69300   73333   76500   79002   66500   67999   69999   73501   67501\n",
            "   64005   70400   67200   78500   65003   72999   63500   63558   72700\n",
            "   72750   78800   71750   70900   77100   68800   73350   73100   75100\n",
            "    6200    6100    6250    5100    6300   86200   94500   80500   93800\n",
            "   94999   88500   96582   86500   90542   80100   91500   87500   87400\n",
            "   90002   84500   95500   92500   93500   86100   80200   88900   82600\n",
            "   89500  125084  103000  120700  110009  120100  102857  103500  110800\n",
            "  114999  102500  156000  131999  129500  126000  153000  137000  130100\n",
            "  131000  161000  182000  194000  164000  162000  242000  221000  203000\n",
            "  202000  200100  200500  298000  279000  268000  275100  289000  345000\n",
            "  395000  390000  445000  725000    7700    7200    6600    6800    7100\n",
            "    7800    7250    6900    7560]\n",
            "user_type ['Agent' 'Owner' 'Builder']\n"
          ],
          "name": "stdout"
        }
      ]
    },
    {
      "cell_type": "code",
      "metadata": {
        "id": "N5sziselwMya"
      },
      "source": [
        "df.dropna(axis=0,how='any',inplace=True)  # After going through this case study multiple times I realized it's better to just drop all the nan values. "
      ],
      "execution_count": 224,
      "outputs": []
    },
    {
      "cell_type": "code",
      "metadata": {
        "id": "1_zEHQyLwO94"
      },
      "source": [
        "df['price_per_sqft'] = df['price']/df['area']"
      ],
      "execution_count": 225,
      "outputs": []
    },
    {
      "cell_type": "code",
      "metadata": {
        "colab": {
          "base_uri": "https://localhost:8080/"
        },
        "id": "dsu2oqKdev35",
        "outputId": "c34fdf7d-3a91-4df7-8750-e593b1dca925"
      },
      "source": [
        "location = df['locality'].value_counts()\r\n",
        "location"
      ],
      "execution_count": 226,
      "outputs": [
        {
          "output_type": "execute_result",
          "data": {
            "text/plain": [
              "Powai                       1453\n",
              "Chembur                     1400\n",
              "Andheri West                1359\n",
              "Andheri East                1092\n",
              "Worli                       1006\n",
              "                            ... \n",
              "Rebello Rd                     1\n",
              "Kashinath Ghanekar Chowk       1\n",
              "Vivekanand Colony              1\n",
              "Nehru Nagar-Kurla              1\n",
              "VSNL Colony                    1\n",
              "Name: locality, Length: 821, dtype: int64"
            ]
          },
          "metadata": {
            "tags": []
          },
          "execution_count": 226
        }
      ]
    },
    {
      "cell_type": "code",
      "metadata": {
        "colab": {
          "base_uri": "https://localhost:8080/"
        },
        "id": "WCownl0Ze4sN",
        "outputId": "309d875b-5575-4863-e780-873c85eaec57"
      },
      "source": [
        "df['price_per_sqft'].describe()"
      ],
      "execution_count": 227,
      "outputs": [
        {
          "output_type": "execute_result",
          "data": {
            "text/plain": [
              "count    33346.000000\n",
              "mean        58.737641\n",
              "std        154.744405\n",
              "min          2.812500\n",
              "25%         38.095238\n",
              "50%         49.404753\n",
              "75%         68.000000\n",
              "max      20000.000000\n",
              "Name: price_per_sqft, dtype: float64"
            ]
          },
          "metadata": {
            "tags": []
          },
          "execution_count": 227
        }
      ]
    },
    {
      "cell_type": "code",
      "metadata": {
        "colab": {
          "base_uri": "https://localhost:8080/"
        },
        "id": "4f3rB2mZwY3c",
        "outputId": "75f1a11f-1235-440d-bb25-32bc55c748b4"
      },
      "source": [
        "from scipy.stats import skew\r\n",
        "\r\n",
        "print(\"Checking the distribution of data in every column\")\r\n",
        "df1 = df.select_dtypes(['int64','float64'])\r\n",
        "for col in df1:\r\n",
        "  print(col)  \r\n",
        "  print(\"Skew: \",skew(df1[col]))\r\n",
        "  #sns.histplot(df_num[col])\r\n",
        "  print(\"----\"*5)"
      ],
      "execution_count": 228,
      "outputs": [
        {
          "output_type": "stream",
          "text": [
            "Checking the distribution of data in every column\n",
            "area\n",
            "Skew:  2.296937398117015\n",
            "--------------------\n",
            "bathroom_num\n",
            "Skew:  1.0447169167869068\n",
            "--------------------\n",
            "bedroom_num\n",
            "Skew:  0.46325102765155224\n",
            "--------------------\n",
            "price\n",
            "Skew:  4.591733014399967\n",
            "--------------------\n",
            "price_per_sqft\n",
            "Skew:  93.34673822192995\n",
            "--------------------\n"
          ],
          "name": "stdout"
        }
      ]
    },
    {
      "cell_type": "markdown",
      "metadata": {
        "id": "upYtBPT5wdxV"
      },
      "source": [
        "AS we can notice that our skew is pretty high for area, bathroom_num, floor_count, floor_num so we are going to try to work on this. \r\n",
        "\r\n",
        "Skewness should always be in the range of -0.5 to +0.5 "
      ]
    },
    {
      "cell_type": "code",
      "metadata": {
        "colab": {
          "base_uri": "https://localhost:8080/"
        },
        "id": "a__HDxN5wgf0",
        "outputId": "1bf395b6-3073-4218-f4e4-2a48f3a282ac"
      },
      "source": [
        "df['area'] = np.log(df['area'])\r\n",
        "skew(df['area'])"
      ],
      "execution_count": 229,
      "outputs": [
        {
          "output_type": "execute_result",
          "data": {
            "text/plain": [
              "0.018269342126933787"
            ]
          },
          "metadata": {
            "tags": []
          },
          "execution_count": 229
        }
      ]
    },
    {
      "cell_type": "code",
      "metadata": {
        "colab": {
          "base_uri": "https://localhost:8080/"
        },
        "id": "LhQxJltQwibm",
        "outputId": "1701fa0f-4fb6-4f0c-e4c9-a79122b4cbf3"
      },
      "source": [
        "df['bathroom_num'] = np.sqrt(df['bathroom_num'])\r\n",
        "skew(df['bathroom_num'])"
      ],
      "execution_count": 230,
      "outputs": [
        {
          "output_type": "execute_result",
          "data": {
            "text/plain": [
              "0.3564901975363653"
            ]
          },
          "metadata": {
            "tags": []
          },
          "execution_count": 230
        }
      ]
    },
    {
      "cell_type": "code",
      "metadata": {
        "colab": {
          "base_uri": "https://localhost:8080/"
        },
        "id": "qm4DsdPswlh1",
        "outputId": "d695f979-44ad-4cfb-b083-a3b9c533cddc"
      },
      "source": [
        "df['bedroom_num'].value_counts()"
      ],
      "execution_count": 231,
      "outputs": [
        {
          "output_type": "execute_result",
          "data": {
            "text/plain": [
              "2    13127\n",
              "1     9803\n",
              "3     8351\n",
              "4     1902\n",
              "5      163\n",
              "Name: bedroom_num, dtype: int64"
            ]
          },
          "metadata": {
            "tags": []
          },
          "execution_count": 231
        }
      ]
    },
    {
      "cell_type": "code",
      "metadata": {
        "colab": {
          "base_uri": "https://localhost:8080/",
          "height": 279
        },
        "id": "zWYLgAO-wsQo",
        "outputId": "ede3175d-68ee-4471-a1c2-eb4280134f93"
      },
      "source": [
        "plt.hist(df['bedroom_num'])\r\n",
        "plt.xlabel('Number of bedrooms')\r\n",
        "plt.ylabel('count')\r\n",
        "plt.show()"
      ],
      "execution_count": 232,
      "outputs": [
        {
          "output_type": "display_data",
          "data": {
            "image/png": "[encoded data removed]",
            "text/plain": [
              "<Figure size 432x288 with 1 Axes>"
            ]
          },
          "metadata": {
            "tags": [],
            "needs_background": "light"
          }
        }
      ]
    },
    {
      "cell_type": "code",
      "metadata": {
        "colab": {
          "base_uri": "https://localhost:8080/",
          "height": 279
        },
        "id": "50PeIVCDwvDi",
        "outputId": "492ca42b-d209-4d2b-bcc5-4c1fc66c287e"
      },
      "source": [
        "plt.hist(df['bathroom_num'], density=False, histtype='stepfilled')\r\n",
        "plt.xlabel('Number of bathrooms')\r\n",
        "plt.ylabel('count')\r\n",
        "plt.show()"
      ],
      "execution_count": 233,
      "outputs": [
        {
          "output_type": "display_data",
          "data": {
            "image/png": "[encoded data removed]",
            "text/plain": [
              "<Figure size 432x288 with 1 Axes>"
            ]
          },
          "metadata": {
            "tags": [],
            "needs_background": "light"
          }
        }
      ]
    },
    {
      "cell_type": "code",
      "metadata": {
        "colab": {
          "base_uri": "https://localhost:8080/",
          "height": 194
        },
        "id": "ymhR6vEiwwTe",
        "outputId": "d576bc1e-dff4-4312-ecb8-2cb590ad2f76"
      },
      "source": [
        "df.corr()"
      ],
      "execution_count": 234,
      "outputs": [
        {
          "output_type": "execute_result",
          "data": {
            "text/html": [
              "<div>\n",
              "<style scoped>\n",
              "    .dataframe tbody tr th:only-of-type {\n",
              "        vertical-align: middle;\n",
              "    }\n",
              "\n",
              "    .dataframe tbody tr th {\n",
              "        vertical-align: top;\n",
              "    }\n",
              "\n",
              "    .dataframe thead th {\n",
              "        text-align: right;\n",
              "    }\n",
              "</style>\n",
              "<table border=\"1\" class=\"dataframe\">\n",
              "  <thead>\n",
              "    <tr style=\"text-align: right;\">\n",
              "      <th></th>\n",
              "      <th>area</th>\n",
              "      <th>bathroom_num</th>\n",
              "      <th>bedroom_num</th>\n",
              "      <th>price</th>\n",
              "      <th>price_per_sqft</th>\n",
              "    </tr>\n",
              "  </thead>\n",
              "  <tbody>\n",
              "    <tr>\n",
              "      <th>area</th>\n",
              "      <td>1.000000</td>\n",
              "      <td>0.813823</td>\n",
              "      <td>0.881032</td>\n",
              "      <td>0.648539</td>\n",
              "      <td>-0.062136</td>\n",
              "    </tr>\n",
              "    <tr>\n",
              "      <th>bathroom_num</th>\n",
              "      <td>0.813823</td>\n",
              "      <td>1.000000</td>\n",
              "      <td>0.838404</td>\n",
              "      <td>0.579338</td>\n",
              "      <td>0.048114</td>\n",
              "    </tr>\n",
              "    <tr>\n",
              "      <th>bedroom_num</th>\n",
              "      <td>0.881032</td>\n",
              "      <td>0.838404</td>\n",
              "      <td>1.000000</td>\n",
              "      <td>0.590673</td>\n",
              "      <td>0.049941</td>\n",
              "    </tr>\n",
              "    <tr>\n",
              "      <th>price</th>\n",
              "      <td>0.648539</td>\n",
              "      <td>0.579338</td>\n",
              "      <td>0.590673</td>\n",
              "      <td>1.000000</td>\n",
              "      <td>0.162955</td>\n",
              "    </tr>\n",
              "    <tr>\n",
              "      <th>price_per_sqft</th>\n",
              "      <td>-0.062136</td>\n",
              "      <td>0.048114</td>\n",
              "      <td>0.049941</td>\n",
              "      <td>0.162955</td>\n",
              "      <td>1.000000</td>\n",
              "    </tr>\n",
              "  </tbody>\n",
              "</table>\n",
              "</div>"
            ],
            "text/plain": [
              "                    area  bathroom_num  bedroom_num     price  price_per_sqft\n",
              "area            1.000000      0.813823     0.881032  0.648539       -0.062136\n",
              "bathroom_num    0.813823      1.000000     0.838404  0.579338        0.048114\n",
              "bedroom_num     0.881032      0.838404     1.000000  0.590673        0.049941\n",
              "price           0.648539      0.579338     0.590673  1.000000        0.162955\n",
              "price_per_sqft -0.062136      0.048114     0.049941  0.162955        1.000000"
            ]
          },
          "metadata": {
            "tags": []
          },
          "execution_count": 234
        }
      ]
    },
    {
      "cell_type": "code",
      "metadata": {
        "id": "IPUmaOPCwzZm"
      },
      "source": [
        "#df_new = pd.concat([df_num,df_cat],axis=1)"
      ],
      "execution_count": 235,
      "outputs": []
    },
    {
      "cell_type": "code",
      "metadata": {
        "colab": {
          "base_uri": "https://localhost:8080/",
          "height": 194
        },
        "id": "VczI7Bp3wzXz",
        "outputId": "29d862a7-8762-4b71-9098-9768ec98e66f"
      },
      "source": [
        "df.head()"
      ],
      "execution_count": 236,
      "outputs": [
        {
          "output_type": "execute_result",
          "data": {
            "text/html": [
              "<div>\n",
              "<style scoped>\n",
              "    .dataframe tbody tr th:only-of-type {\n",
              "        vertical-align: middle;\n",
              "    }\n",
              "\n",
              "    .dataframe tbody tr th {\n",
              "        vertical-align: top;\n",
              "    }\n",
              "\n",
              "    .dataframe thead th {\n",
              "        text-align: right;\n",
              "    }\n",
              "</style>\n",
              "<table border=\"1\" class=\"dataframe\">\n",
              "  <thead>\n",
              "    <tr style=\"text-align: right;\">\n",
              "      <th></th>\n",
              "      <th>area</th>\n",
              "      <th>bathroom_num</th>\n",
              "      <th>bedroom_num</th>\n",
              "      <th>furnishing</th>\n",
              "      <th>locality</th>\n",
              "      <th>price</th>\n",
              "      <th>user_type</th>\n",
              "      <th>price_per_sqft</th>\n",
              "    </tr>\n",
              "  </thead>\n",
              "  <tbody>\n",
              "    <tr>\n",
              "      <th>0</th>\n",
              "      <td>5.857933</td>\n",
              "      <td>1.414214</td>\n",
              "      <td>1</td>\n",
              "      <td>Unfurnished</td>\n",
              "      <td>Malad West</td>\n",
              "      <td>9000</td>\n",
              "      <td>Agent</td>\n",
              "      <td>25.714286</td>\n",
              "    </tr>\n",
              "    <tr>\n",
              "      <th>1</th>\n",
              "      <td>6.480045</td>\n",
              "      <td>1.414214</td>\n",
              "      <td>1</td>\n",
              "      <td>Semi-Furnished</td>\n",
              "      <td>Vasai</td>\n",
              "      <td>8060</td>\n",
              "      <td>Agent</td>\n",
              "      <td>12.361963</td>\n",
              "    </tr>\n",
              "    <tr>\n",
              "      <th>2</th>\n",
              "      <td>6.453625</td>\n",
              "      <td>1.414214</td>\n",
              "      <td>1</td>\n",
              "      <td>Semi-Furnished</td>\n",
              "      <td>Virar</td>\n",
              "      <td>8000</td>\n",
              "      <td>Agent</td>\n",
              "      <td>12.598425</td>\n",
              "    </tr>\n",
              "    <tr>\n",
              "      <th>3</th>\n",
              "      <td>6.291569</td>\n",
              "      <td>1.414214</td>\n",
              "      <td>1</td>\n",
              "      <td>Semi-Furnished</td>\n",
              "      <td>Vasai East</td>\n",
              "      <td>8000</td>\n",
              "      <td>Agent</td>\n",
              "      <td>14.814815</td>\n",
              "    </tr>\n",
              "    <tr>\n",
              "      <th>4</th>\n",
              "      <td>6.437752</td>\n",
              "      <td>1.000000</td>\n",
              "      <td>1</td>\n",
              "      <td>Furnished</td>\n",
              "      <td>Naigaon East</td>\n",
              "      <td>9000</td>\n",
              "      <td>Owner</td>\n",
              "      <td>14.400000</td>\n",
              "    </tr>\n",
              "  </tbody>\n",
              "</table>\n",
              "</div>"
            ],
            "text/plain": [
              "       area  bathroom_num  bedroom_num  ... price user_type  price_per_sqft\n",
              "0  5.857933      1.414214            1  ...  9000     Agent       25.714286\n",
              "1  6.480045      1.414214            1  ...  8060     Agent       12.361963\n",
              "2  6.453625      1.414214            1  ...  8000     Agent       12.598425\n",
              "3  6.291569      1.414214            1  ...  8000     Agent       14.814815\n",
              "4  6.437752      1.000000            1  ...  9000     Owner       14.400000\n",
              "\n",
              "[5 rows x 8 columns]"
            ]
          },
          "metadata": {
            "tags": []
          },
          "execution_count": 236
        }
      ]
    },
    {
      "cell_type": "code",
      "metadata": {
        "colab": {
          "base_uri": "https://localhost:8080/",
          "height": 552
        },
        "id": "2bRsNlTEwzV4",
        "outputId": "cefc9f92-617e-4a28-8dc5-a42977e3c89b"
      },
      "source": [
        "plt.figure(figsize=(8,8))\r\n",
        "sns.heatmap(df.corr(),annot=True)\r\n",
        "plt.show()"
      ],
      "execution_count": 237,
      "outputs": [
        {
          "output_type": "display_data",
          "data": {
            "image/png": "[encoded data removed]",
            "text/plain": [
              "<Figure size 576x576 with 2 Axes>"
            ]
          },
          "metadata": {
            "tags": [],
            "needs_background": "light"
          }
        }
      ]
    },
    {
      "cell_type": "code",
      "metadata": {
        "colab": {
          "base_uri": "https://localhost:8080/",
          "height": 563
        },
        "id": "GAWRQ--XwzT9",
        "outputId": "2b3ab9fd-16a8-49df-e67b-298c2e0ffa1b"
      },
      "source": [
        "plt.figure(figsize=(9,9))\r\n",
        "sns.boxplot(data=df, x='bedroom_num',y='price',orient=\"v\")\r\n",
        "plt.show()"
      ],
      "execution_count": 238,
      "outputs": [
        {
          "output_type": "display_data",
          "data": {
            "image/png": "[encoded data removed]",
            "text/plain": [
              "<Figure size 648x648 with 1 Axes>"
            ]
          },
          "metadata": {
            "tags": [],
            "needs_background": "light"
          }
        }
      ]
    },
    {
      "cell_type": "code",
      "metadata": {
        "colab": {
          "base_uri": "https://localhost:8080/",
          "height": 563
        },
        "id": "aD9JsWKFwzSW",
        "outputId": "25fee880-5a68-499b-b037-382621f19862"
      },
      "source": [
        "plt.figure(figsize=(9,9))\r\n",
        "sns.boxplot(data=df, x='bathroom_num',y='price',orient=\"v\")\r\n",
        "plt.show()"
      ],
      "execution_count": 239,
      "outputs": [
        {
          "output_type": "display_data",
          "data": {
            "image/png": "[encoded data removed]",
            "text/plain": [
              "<Figure size 648x648 with 1 Axes>"
            ]
          },
          "metadata": {
            "tags": [],
            "needs_background": "light"
          }
        }
      ]
    },
    {
      "cell_type": "code",
      "metadata": {
        "colab": {
          "base_uri": "https://localhost:8080/",
          "height": 551
        },
        "id": "_6NGoLdmwzQh",
        "outputId": "76a2d533-7d2a-4653-e2b7-a3c02680ea0c"
      },
      "source": [
        "plt.figure(figsize=(9,9))\r\n",
        "sns.boxplot(data=df, x='price', linewidth=1.5)\r\n",
        "plt.show()"
      ],
      "execution_count": 240,
      "outputs": [
        {
          "output_type": "display_data",
          "data": {
            "image/png": "[encoded data removed]",
            "text/plain": [
              "<Figure size 648x648 with 1 Axes>"
            ]
          },
          "metadata": {
            "tags": [],
            "needs_background": "light"
          }
        }
      ]
    },
    {
      "cell_type": "code",
      "metadata": {
        "colab": {
          "base_uri": "https://localhost:8080/"
        },
        "id": "s6rULtuswzOv",
        "outputId": "722f256e-9a80-4f83-8a21-a2f405124f0d"
      },
      "source": [
        "# To find outliers\r\n",
        "\r\n",
        "q1 = df['price'].quantile(0.25)\r\n",
        "q3 = df['price'].quantile(0.75)\r\n",
        "IQR = q3-q1\r\n",
        "Upper_range = q3 + IQR*1.5\r\n",
        "print(q1, q3)\r\n",
        "print(Upper_range)\r\n",
        "print(len(df))"
      ],
      "execution_count": 241,
      "outputs": [
        {
          "output_type": "stream",
          "text": [
            "32000.0 80000.0\n",
            "152000.0\n",
            "33346\n"
          ],
          "name": "stdout"
        }
      ]
    },
    {
      "cell_type": "code",
      "metadata": {
        "colab": {
          "base_uri": "https://localhost:8080/",
          "height": 399
        },
        "id": "0iqsLG1jwzMx",
        "outputId": "8f9919cb-81f4-4d09-8621-69e88f201275"
      },
      "source": [
        "df[df['price'] > Upper_range]"
      ],
      "execution_count": 242,
      "outputs": [
        {
          "output_type": "execute_result",
          "data": {
            "text/html": [
              "<div>\n",
              "<style scoped>\n",
              "    .dataframe tbody tr th:only-of-type {\n",
              "        vertical-align: middle;\n",
              "    }\n",
              "\n",
              "    .dataframe tbody tr th {\n",
              "        vertical-align: top;\n",
              "    }\n",
              "\n",
              "    .dataframe thead th {\n",
              "        text-align: right;\n",
              "    }\n",
              "</style>\n",
              "<table border=\"1\" class=\"dataframe\">\n",
              "  <thead>\n",
              "    <tr style=\"text-align: right;\">\n",
              "      <th></th>\n",
              "      <th>area</th>\n",
              "      <th>bathroom_num</th>\n",
              "      <th>bedroom_num</th>\n",
              "      <th>furnishing</th>\n",
              "      <th>locality</th>\n",
              "      <th>price</th>\n",
              "      <th>user_type</th>\n",
              "      <th>price_per_sqft</th>\n",
              "    </tr>\n",
              "  </thead>\n",
              "  <tbody>\n",
              "    <tr>\n",
              "      <th>980</th>\n",
              "      <td>7.649693</td>\n",
              "      <td>2.000000</td>\n",
              "      <td>4</td>\n",
              "      <td>Furnished</td>\n",
              "      <td>Andheri West</td>\n",
              "      <td>155000</td>\n",
              "      <td>Agent</td>\n",
              "      <td>73.809524</td>\n",
              "    </tr>\n",
              "    <tr>\n",
              "      <th>1030</th>\n",
              "      <td>7.783224</td>\n",
              "      <td>2.236068</td>\n",
              "      <td>4</td>\n",
              "      <td>Semi-Furnished</td>\n",
              "      <td>New Link Road</td>\n",
              "      <td>155000</td>\n",
              "      <td>Agent</td>\n",
              "      <td>64.583333</td>\n",
              "    </tr>\n",
              "    <tr>\n",
              "      <th>1075</th>\n",
              "      <td>8.160518</td>\n",
              "      <td>2.236068</td>\n",
              "      <td>4</td>\n",
              "      <td>Unfurnished</td>\n",
              "      <td>Wadala East</td>\n",
              "      <td>155000</td>\n",
              "      <td>Agent</td>\n",
              "      <td>44.285714</td>\n",
              "    </tr>\n",
              "    <tr>\n",
              "      <th>1088</th>\n",
              "      <td>7.843849</td>\n",
              "      <td>2.000000</td>\n",
              "      <td>4</td>\n",
              "      <td>Furnished</td>\n",
              "      <td>Andheri West</td>\n",
              "      <td>155000</td>\n",
              "      <td>Agent</td>\n",
              "      <td>60.784314</td>\n",
              "    </tr>\n",
              "    <tr>\n",
              "      <th>1140</th>\n",
              "      <td>7.962067</td>\n",
              "      <td>2.000000</td>\n",
              "      <td>4</td>\n",
              "      <td>Semi-Furnished</td>\n",
              "      <td>Vikhroli</td>\n",
              "      <td>155000</td>\n",
              "      <td>Agent</td>\n",
              "      <td>54.006969</td>\n",
              "    </tr>\n",
              "    <tr>\n",
              "      <th>...</th>\n",
              "      <td>...</td>\n",
              "      <td>...</td>\n",
              "      <td>...</td>\n",
              "      <td>...</td>\n",
              "      <td>...</td>\n",
              "      <td>...</td>\n",
              "      <td>...</td>\n",
              "      <td>...</td>\n",
              "    </tr>\n",
              "    <tr>\n",
              "      <th>34098</th>\n",
              "      <td>7.824046</td>\n",
              "      <td>1.732051</td>\n",
              "      <td>3</td>\n",
              "      <td>Semi-Furnished</td>\n",
              "      <td>Bandra Band Stand</td>\n",
              "      <td>675000</td>\n",
              "      <td>Agent</td>\n",
              "      <td>270.000000</td>\n",
              "    </tr>\n",
              "    <tr>\n",
              "      <th>34099</th>\n",
              "      <td>8.294050</td>\n",
              "      <td>2.000000</td>\n",
              "      <td>3</td>\n",
              "      <td>Semi-Furnished</td>\n",
              "      <td>Bandra West</td>\n",
              "      <td>725000</td>\n",
              "      <td>Agent</td>\n",
              "      <td>181.250000</td>\n",
              "    </tr>\n",
              "    <tr>\n",
              "      <th>34100</th>\n",
              "      <td>8.517193</td>\n",
              "      <td>2.000000</td>\n",
              "      <td>3</td>\n",
              "      <td>Furnished</td>\n",
              "      <td>Mount Mary</td>\n",
              "      <td>750000</td>\n",
              "      <td>Agent</td>\n",
              "      <td>150.000000</td>\n",
              "    </tr>\n",
              "    <tr>\n",
              "      <th>34101</th>\n",
              "      <td>8.517193</td>\n",
              "      <td>2.000000</td>\n",
              "      <td>3</td>\n",
              "      <td>Furnished</td>\n",
              "      <td>Bandra West</td>\n",
              "      <td>750000</td>\n",
              "      <td>Agent</td>\n",
              "      <td>150.000000</td>\n",
              "    </tr>\n",
              "    <tr>\n",
              "      <th>34347</th>\n",
              "      <td>7.003065</td>\n",
              "      <td>1.414214</td>\n",
              "      <td>2</td>\n",
              "      <td>Unfurnished</td>\n",
              "      <td>Bandra West</td>\n",
              "      <td>1200000</td>\n",
              "      <td>Agent</td>\n",
              "      <td>1090.909091</td>\n",
              "    </tr>\n",
              "  </tbody>\n",
              "</table>\n",
              "<p>2752 rows × 8 columns</p>\n",
              "</div>"
            ],
            "text/plain": [
              "           area  bathroom_num  bedroom_num  ...    price user_type  price_per_sqft\n",
              "980    7.649693      2.000000            4  ...   155000     Agent       73.809524\n",
              "1030   7.783224      2.236068            4  ...   155000     Agent       64.583333\n",
              "1075   8.160518      2.236068            4  ...   155000     Agent       44.285714\n",
              "1088   7.843849      2.000000            4  ...   155000     Agent       60.784314\n",
              "1140   7.962067      2.000000            4  ...   155000     Agent       54.006969\n",
              "...         ...           ...          ...  ...      ...       ...             ...\n",
              "34098  7.824046      1.732051            3  ...   675000     Agent      270.000000\n",
              "34099  8.294050      2.000000            3  ...   725000     Agent      181.250000\n",
              "34100  8.517193      2.000000            3  ...   750000     Agent      150.000000\n",
              "34101  8.517193      2.000000            3  ...   750000     Agent      150.000000\n",
              "34347  7.003065      1.414214            2  ...  1200000     Agent     1090.909091\n",
              "\n",
              "[2752 rows x 8 columns]"
            ]
          },
          "metadata": {
            "tags": []
          },
          "execution_count": 242
        }
      ]
    },
    {
      "cell_type": "code",
      "metadata": {
        "colab": {
          "base_uri": "https://localhost:8080/",
          "height": 194
        },
        "id": "WdBDEX4Vr64h",
        "outputId": "45773533-b06e-4dc2-8068-37bf9b43a527"
      },
      "source": [
        "df3 = df[df['price'] < Upper_range]\r\n",
        "df3.head()"
      ],
      "execution_count": 243,
      "outputs": [
        {
          "output_type": "execute_result",
          "data": {
            "text/html": [
              "<div>\n",
              "<style scoped>\n",
              "    .dataframe tbody tr th:only-of-type {\n",
              "        vertical-align: middle;\n",
              "    }\n",
              "\n",
              "    .dataframe tbody tr th {\n",
              "        vertical-align: top;\n",
              "    }\n",
              "\n",
              "    .dataframe thead th {\n",
              "        text-align: right;\n",
              "    }\n",
              "</style>\n",
              "<table border=\"1\" class=\"dataframe\">\n",
              "  <thead>\n",
              "    <tr style=\"text-align: right;\">\n",
              "      <th></th>\n",
              "      <th>area</th>\n",
              "      <th>bathroom_num</th>\n",
              "      <th>bedroom_num</th>\n",
              "      <th>furnishing</th>\n",
              "      <th>locality</th>\n",
              "      <th>price</th>\n",
              "      <th>user_type</th>\n",
              "      <th>price_per_sqft</th>\n",
              "    </tr>\n",
              "  </thead>\n",
              "  <tbody>\n",
              "    <tr>\n",
              "      <th>0</th>\n",
              "      <td>5.857933</td>\n",
              "      <td>1.414214</td>\n",
              "      <td>1</td>\n",
              "      <td>Unfurnished</td>\n",
              "      <td>Malad West</td>\n",
              "      <td>9000</td>\n",
              "      <td>Agent</td>\n",
              "      <td>25.714286</td>\n",
              "    </tr>\n",
              "    <tr>\n",
              "      <th>1</th>\n",
              "      <td>6.480045</td>\n",
              "      <td>1.414214</td>\n",
              "      <td>1</td>\n",
              "      <td>Semi-Furnished</td>\n",
              "      <td>Vasai</td>\n",
              "      <td>8060</td>\n",
              "      <td>Agent</td>\n",
              "      <td>12.361963</td>\n",
              "    </tr>\n",
              "    <tr>\n",
              "      <th>2</th>\n",
              "      <td>6.453625</td>\n",
              "      <td>1.414214</td>\n",
              "      <td>1</td>\n",
              "      <td>Semi-Furnished</td>\n",
              "      <td>Virar</td>\n",
              "      <td>8000</td>\n",
              "      <td>Agent</td>\n",
              "      <td>12.598425</td>\n",
              "    </tr>\n",
              "    <tr>\n",
              "      <th>3</th>\n",
              "      <td>6.291569</td>\n",
              "      <td>1.414214</td>\n",
              "      <td>1</td>\n",
              "      <td>Semi-Furnished</td>\n",
              "      <td>Vasai East</td>\n",
              "      <td>8000</td>\n",
              "      <td>Agent</td>\n",
              "      <td>14.814815</td>\n",
              "    </tr>\n",
              "    <tr>\n",
              "      <th>4</th>\n",
              "      <td>6.437752</td>\n",
              "      <td>1.000000</td>\n",
              "      <td>1</td>\n",
              "      <td>Furnished</td>\n",
              "      <td>Naigaon East</td>\n",
              "      <td>9000</td>\n",
              "      <td>Owner</td>\n",
              "      <td>14.400000</td>\n",
              "    </tr>\n",
              "  </tbody>\n",
              "</table>\n",
              "</div>"
            ],
            "text/plain": [
              "       area  bathroom_num  bedroom_num  ... price user_type  price_per_sqft\n",
              "0  5.857933      1.414214            1  ...  9000     Agent       25.714286\n",
              "1  6.480045      1.414214            1  ...  8060     Agent       12.361963\n",
              "2  6.453625      1.414214            1  ...  8000     Agent       12.598425\n",
              "3  6.291569      1.414214            1  ...  8000     Agent       14.814815\n",
              "4  6.437752      1.000000            1  ...  9000     Owner       14.400000\n",
              "\n",
              "[5 rows x 8 columns]"
            ]
          },
          "metadata": {
            "tags": []
          },
          "execution_count": 243
        }
      ]
    },
    {
      "cell_type": "code",
      "metadata": {
        "colab": {
          "base_uri": "https://localhost:8080/",
          "height": 194
        },
        "id": "BGdGho_jtzDA",
        "outputId": "5413516b-7740-45ae-8eff-adf3df7880a1"
      },
      "source": [
        "df3.drop(['price_per_sqft','user_type'],axis=1, inplace=True)\r\n",
        "df3.head()"
      ],
      "execution_count": 244,
      "outputs": [
        {
          "output_type": "execute_result",
          "data": {
            "text/html": [
              "<div>\n",
              "<style scoped>\n",
              "    .dataframe tbody tr th:only-of-type {\n",
              "        vertical-align: middle;\n",
              "    }\n",
              "\n",
              "    .dataframe tbody tr th {\n",
              "        vertical-align: top;\n",
              "    }\n",
              "\n",
              "    .dataframe thead th {\n",
              "        text-align: right;\n",
              "    }\n",
              "</style>\n",
              "<table border=\"1\" class=\"dataframe\">\n",
              "  <thead>\n",
              "    <tr style=\"text-align: right;\">\n",
              "      <th></th>\n",
              "      <th>area</th>\n",
              "      <th>bathroom_num</th>\n",
              "      <th>bedroom_num</th>\n",
              "      <th>furnishing</th>\n",
              "      <th>locality</th>\n",
              "      <th>price</th>\n",
              "    </tr>\n",
              "  </thead>\n",
              "  <tbody>\n",
              "    <tr>\n",
              "      <th>0</th>\n",
              "      <td>5.857933</td>\n",
              "      <td>1.414214</td>\n",
              "      <td>1</td>\n",
              "      <td>Unfurnished</td>\n",
              "      <td>Malad West</td>\n",
              "      <td>9000</td>\n",
              "    </tr>\n",
              "    <tr>\n",
              "      <th>1</th>\n",
              "      <td>6.480045</td>\n",
              "      <td>1.414214</td>\n",
              "      <td>1</td>\n",
              "      <td>Semi-Furnished</td>\n",
              "      <td>Vasai</td>\n",
              "      <td>8060</td>\n",
              "    </tr>\n",
              "    <tr>\n",
              "      <th>2</th>\n",
              "      <td>6.453625</td>\n",
              "      <td>1.414214</td>\n",
              "      <td>1</td>\n",
              "      <td>Semi-Furnished</td>\n",
              "      <td>Virar</td>\n",
              "      <td>8000</td>\n",
              "    </tr>\n",
              "    <tr>\n",
              "      <th>3</th>\n",
              "      <td>6.291569</td>\n",
              "      <td>1.414214</td>\n",
              "      <td>1</td>\n",
              "      <td>Semi-Furnished</td>\n",
              "      <td>Vasai East</td>\n",
              "      <td>8000</td>\n",
              "    </tr>\n",
              "    <tr>\n",
              "      <th>4</th>\n",
              "      <td>6.437752</td>\n",
              "      <td>1.000000</td>\n",
              "      <td>1</td>\n",
              "      <td>Furnished</td>\n",
              "      <td>Naigaon East</td>\n",
              "      <td>9000</td>\n",
              "    </tr>\n",
              "  </tbody>\n",
              "</table>\n",
              "</div>"
            ],
            "text/plain": [
              "       area  bathroom_num  bedroom_num      furnishing      locality  price\n",
              "0  5.857933      1.414214            1     Unfurnished    Malad West   9000\n",
              "1  6.480045      1.414214            1  Semi-Furnished         Vasai   8060\n",
              "2  6.453625      1.414214            1  Semi-Furnished         Virar   8000\n",
              "3  6.291569      1.414214            1  Semi-Furnished    Vasai East   8000\n",
              "4  6.437752      1.000000            1       Furnished  Naigaon East   9000"
            ]
          },
          "metadata": {
            "tags": []
          },
          "execution_count": 244
        }
      ]
    },
    {
      "cell_type": "code",
      "metadata": {
        "colab": {
          "base_uri": "https://localhost:8080/",
          "height": 194
        },
        "id": "lyJeDq9Wwymm",
        "outputId": "9ce3f76f-f991-4dea-ba25-d1a7f3980ad9"
      },
      "source": [
        "from sklearn.preprocessing import LabelEncoder\r\n",
        "le = LabelEncoder()\r\n",
        "df3['furnishing'] = le.fit_transform(df3['furnishing'])\r\n",
        "df3.head()"
      ],
      "execution_count": 245,
      "outputs": [
        {
          "output_type": "execute_result",
          "data": {
            "text/html": [
              "<div>\n",
              "<style scoped>\n",
              "    .dataframe tbody tr th:only-of-type {\n",
              "        vertical-align: middle;\n",
              "    }\n",
              "\n",
              "    .dataframe tbody tr th {\n",
              "        vertical-align: top;\n",
              "    }\n",
              "\n",
              "    .dataframe thead th {\n",
              "        text-align: right;\n",
              "    }\n",
              "</style>\n",
              "<table border=\"1\" class=\"dataframe\">\n",
              "  <thead>\n",
              "    <tr style=\"text-align: right;\">\n",
              "      <th></th>\n",
              "      <th>area</th>\n",
              "      <th>bathroom_num</th>\n",
              "      <th>bedroom_num</th>\n",
              "      <th>furnishing</th>\n",
              "      <th>locality</th>\n",
              "      <th>price</th>\n",
              "    </tr>\n",
              "  </thead>\n",
              "  <tbody>\n",
              "    <tr>\n",
              "      <th>0</th>\n",
              "      <td>5.857933</td>\n",
              "      <td>1.414214</td>\n",
              "      <td>1</td>\n",
              "      <td>2</td>\n",
              "      <td>Malad West</td>\n",
              "      <td>9000</td>\n",
              "    </tr>\n",
              "    <tr>\n",
              "      <th>1</th>\n",
              "      <td>6.480045</td>\n",
              "      <td>1.414214</td>\n",
              "      <td>1</td>\n",
              "      <td>1</td>\n",
              "      <td>Vasai</td>\n",
              "      <td>8060</td>\n",
              "    </tr>\n",
              "    <tr>\n",
              "      <th>2</th>\n",
              "      <td>6.453625</td>\n",
              "      <td>1.414214</td>\n",
              "      <td>1</td>\n",
              "      <td>1</td>\n",
              "      <td>Virar</td>\n",
              "      <td>8000</td>\n",
              "    </tr>\n",
              "    <tr>\n",
              "      <th>3</th>\n",
              "      <td>6.291569</td>\n",
              "      <td>1.414214</td>\n",
              "      <td>1</td>\n",
              "      <td>1</td>\n",
              "      <td>Vasai East</td>\n",
              "      <td>8000</td>\n",
              "    </tr>\n",
              "    <tr>\n",
              "      <th>4</th>\n",
              "      <td>6.437752</td>\n",
              "      <td>1.000000</td>\n",
              "      <td>1</td>\n",
              "      <td>0</td>\n",
              "      <td>Naigaon East</td>\n",
              "      <td>9000</td>\n",
              "    </tr>\n",
              "  </tbody>\n",
              "</table>\n",
              "</div>"
            ],
            "text/plain": [
              "       area  bathroom_num  bedroom_num  furnishing      locality  price\n",
              "0  5.857933      1.414214            1           2    Malad West   9000\n",
              "1  6.480045      1.414214            1           1         Vasai   8060\n",
              "2  6.453625      1.414214            1           1         Virar   8000\n",
              "3  6.291569      1.414214            1           1    Vasai East   8000\n",
              "4  6.437752      1.000000            1           0  Naigaon East   9000"
            ]
          },
          "metadata": {
            "tags": []
          },
          "execution_count": 245
        }
      ]
    },
    {
      "cell_type": "code",
      "metadata": {
        "colab": {
          "base_uri": "https://localhost:8080/"
        },
        "id": "k1TCQG6uzzuF",
        "outputId": "b6ef40ad-b8e6-4172-93e1-8437421b7fe2"
      },
      "source": [
        "df3.isnull().sum()"
      ],
      "execution_count": 246,
      "outputs": [
        {
          "output_type": "execute_result",
          "data": {
            "text/plain": [
              "area            0\n",
              "bathroom_num    0\n",
              "bedroom_num     0\n",
              "furnishing      0\n",
              "locality        0\n",
              "price           0\n",
              "dtype: int64"
            ]
          },
          "metadata": {
            "tags": []
          },
          "execution_count": 246
        }
      ]
    },
    {
      "cell_type": "code",
      "metadata": {
        "colab": {
          "base_uri": "https://localhost:8080/",
          "height": 311
        },
        "id": "PFuleQawjpQK",
        "outputId": "64cf58a2-ec79-438a-d28d-38f9ffcb13df"
      },
      "source": [
        "dummies = pd.get_dummies(df['locality'])\r\n",
        "dummies.head()"
      ],
      "execution_count": 247,
      "outputs": [
        {
          "output_type": "execute_result",
          "data": {
            "text/html": [
              "<div>\n",
              "<style scoped>\n",
              "    .dataframe tbody tr th:only-of-type {\n",
              "        vertical-align: middle;\n",
              "    }\n",
              "\n",
              "    .dataframe tbody tr th {\n",
              "        vertical-align: top;\n",
              "    }\n",
              "\n",
              "    .dataframe thead th {\n",
              "        text-align: right;\n",
              "    }\n",
              "</style>\n",
              "<table border=\"1\" class=\"dataframe\">\n",
              "  <thead>\n",
              "    <tr style=\"text-align: right;\">\n",
              "      <th></th>\n",
              "      <th>4 Bunglows</th>\n",
              "      <th>AAI Residential Complex</th>\n",
              "      <th>Aarey Milk Colony</th>\n",
              "      <th>Abhinav Nagar</th>\n",
              "      <th>Abhishek Nagar</th>\n",
              "      <th>Abhyudaya Nagar</th>\n",
              "      <th>Acharya A Maharaj Chowk</th>\n",
              "      <th>Acharya Nagar</th>\n",
              "      <th>Acharya Tulsi Chowk</th>\n",
              "      <th>Adarsh Nagar</th>\n",
              "      <th>Adv RD Kowte Chowk</th>\n",
              "      <th>Advocate Devarshi N Khuman Chowk</th>\n",
              "      <th>Agari Pada</th>\n",
              "      <th>Agarkar Chowk</th>\n",
              "      <th>Agripada</th>\n",
              "      <th>Ahimsa Nagar</th>\n",
              "      <th>Air India Colony</th>\n",
              "      <th>Air India Staff Colony 2</th>\n",
              "      <th>Aksa Gaon</th>\n",
              "      <th>Akurli Nagar</th>\n",
              "      <th>Alika Nagar</th>\n",
              "      <th>Altamount Road</th>\n",
              "      <th>Amar Mahal Junction</th>\n",
              "      <th>Amar Nagar</th>\n",
              "      <th>Ambedkar Garden</th>\n",
              "      <th>Ambedkar Nagar</th>\n",
              "      <th>Ambernath</th>\n",
              "      <th>Ambewadi</th>\n",
              "      <th>Amboli</th>\n",
              "      <th>Amit Nagar</th>\n",
              "      <th>Amrut Nagar</th>\n",
              "      <th>Anand Nagar</th>\n",
              "      <th>Andheri</th>\n",
              "      <th>Andheri East</th>\n",
              "      <th>Andheri Kurla Road</th>\n",
              "      <th>Andheri Link Road</th>\n",
              "      <th>Andheri West</th>\n",
              "      <th>Antop Hill</th>\n",
              "      <th>Anushakti Colony</th>\n",
              "      <th>Architect Vidyadhar Mhatre Chowk</th>\n",
              "      <th>...</th>\n",
              "      <th>Vile Parle East</th>\n",
              "      <th>Vile Parle West</th>\n",
              "      <th>Vinay Nagar</th>\n",
              "      <th>Vini Garden</th>\n",
              "      <th>Virar</th>\n",
              "      <th>Virar East</th>\n",
              "      <th>Virar West</th>\n",
              "      <th>Virat Nagar</th>\n",
              "      <th>Vishveshwar Nagar</th>\n",
              "      <th>Vishwakarma Nagar</th>\n",
              "      <th>Vithal Wadi</th>\n",
              "      <th>Vithaldas Nagar</th>\n",
              "      <th>Viva College Road</th>\n",
              "      <th>Vivekanand Colony</th>\n",
              "      <th>Vrindavan</th>\n",
              "      <th>Wadala</th>\n",
              "      <th>Wadala East</th>\n",
              "      <th>Wadala West</th>\n",
              "      <th>Wadia Baug</th>\n",
              "      <th>Walkeshwar</th>\n",
              "      <th>Warden Road</th>\n",
              "      <th>Water Field Road</th>\n",
              "      <th>Waterfield Road</th>\n",
              "      <th>Western Express Hwy</th>\n",
              "      <th>Willingdon Colony</th>\n",
              "      <th>World Trade Centre</th>\n",
              "      <th>Worli</th>\n",
              "      <th>Worli Hill</th>\n",
              "      <th>Worli Naka Acharaya Atre Chowk</th>\n",
              "      <th>Worli Sea Face</th>\n",
              "      <th>Worli Tip</th>\n",
              "      <th>Y K Nagar</th>\n",
              "      <th>Yari Road</th>\n",
              "      <th>Yashavant Nagar</th>\n",
              "      <th>Yashwant Nagar</th>\n",
              "      <th>Yeshodham</th>\n",
              "      <th>Yeshwant Nagar</th>\n",
              "      <th>Yogi Jayraj Nagar</th>\n",
              "      <th>Yogi Nagar</th>\n",
              "      <th>Zeezamata Nagar</th>\n",
              "    </tr>\n",
              "  </thead>\n",
              "  <tbody>\n",
              "    <tr>\n",
              "      <th>0</th>\n",
              "      <td>0</td>\n",
              "      <td>0</td>\n",
              "      <td>0</td>\n",
              "      <td>0</td>\n",
              "      <td>0</td>\n",
              "      <td>0</td>\n",
              "      <td>0</td>\n",
              "      <td>0</td>\n",
              "      <td>0</td>\n",
              "      <td>0</td>\n",
              "      <td>0</td>\n",
              "      <td>0</td>\n",
              "      <td>0</td>\n",
              "      <td>0</td>\n",
              "      <td>0</td>\n",
              "      <td>0</td>\n",
              "      <td>0</td>\n",
              "      <td>0</td>\n",
              "      <td>0</td>\n",
              "      <td>0</td>\n",
              "      <td>0</td>\n",
              "      <td>0</td>\n",
              "      <td>0</td>\n",
              "      <td>0</td>\n",
              "      <td>0</td>\n",
              "      <td>0</td>\n",
              "      <td>0</td>\n",
              "      <td>0</td>\n",
              "      <td>0</td>\n",
              "      <td>0</td>\n",
              "      <td>0</td>\n",
              "      <td>0</td>\n",
              "      <td>0</td>\n",
              "      <td>0</td>\n",
              "      <td>0</td>\n",
              "      <td>0</td>\n",
              "      <td>0</td>\n",
              "      <td>0</td>\n",
              "      <td>0</td>\n",
              "      <td>0</td>\n",
              "      <td>...</td>\n",
              "      <td>0</td>\n",
              "      <td>0</td>\n",
              "      <td>0</td>\n",
              "      <td>0</td>\n",
              "      <td>0</td>\n",
              "      <td>0</td>\n",
              "      <td>0</td>\n",
              "      <td>0</td>\n",
              "      <td>0</td>\n",
              "      <td>0</td>\n",
              "      <td>0</td>\n",
              "      <td>0</td>\n",
              "      <td>0</td>\n",
              "      <td>0</td>\n",
              "      <td>0</td>\n",
              "      <td>0</td>\n",
              "      <td>0</td>\n",
              "      <td>0</td>\n",
              "      <td>0</td>\n",
              "      <td>0</td>\n",
              "      <td>0</td>\n",
              "      <td>0</td>\n",
              "      <td>0</td>\n",
              "      <td>0</td>\n",
              "      <td>0</td>\n",
              "      <td>0</td>\n",
              "      <td>0</td>\n",
              "      <td>0</td>\n",
              "      <td>0</td>\n",
              "      <td>0</td>\n",
              "      <td>0</td>\n",
              "      <td>0</td>\n",
              "      <td>0</td>\n",
              "      <td>0</td>\n",
              "      <td>0</td>\n",
              "      <td>0</td>\n",
              "      <td>0</td>\n",
              "      <td>0</td>\n",
              "      <td>0</td>\n",
              "      <td>0</td>\n",
              "    </tr>\n",
              "    <tr>\n",
              "      <th>1</th>\n",
              "      <td>0</td>\n",
              "      <td>0</td>\n",
              "      <td>0</td>\n",
              "      <td>0</td>\n",
              "      <td>0</td>\n",
              "      <td>0</td>\n",
              "      <td>0</td>\n",
              "      <td>0</td>\n",
              "      <td>0</td>\n",
              "      <td>0</td>\n",
              "      <td>0</td>\n",
              "      <td>0</td>\n",
              "      <td>0</td>\n",
              "      <td>0</td>\n",
              "      <td>0</td>\n",
              "      <td>0</td>\n",
              "      <td>0</td>\n",
              "      <td>0</td>\n",
              "      <td>0</td>\n",
              "      <td>0</td>\n",
              "      <td>0</td>\n",
              "      <td>0</td>\n",
              "      <td>0</td>\n",
              "      <td>0</td>\n",
              "      <td>0</td>\n",
              "      <td>0</td>\n",
              "      <td>0</td>\n",
              "      <td>0</td>\n",
              "      <td>0</td>\n",
              "      <td>0</td>\n",
              "      <td>0</td>\n",
              "      <td>0</td>\n",
              "      <td>0</td>\n",
              "      <td>0</td>\n",
              "      <td>0</td>\n",
              "      <td>0</td>\n",
              "      <td>0</td>\n",
              "      <td>0</td>\n",
              "      <td>0</td>\n",
              "      <td>0</td>\n",
              "      <td>...</td>\n",
              "      <td>0</td>\n",
              "      <td>0</td>\n",
              "      <td>0</td>\n",
              "      <td>0</td>\n",
              "      <td>0</td>\n",
              "      <td>0</td>\n",
              "      <td>0</td>\n",
              "      <td>0</td>\n",
              "      <td>0</td>\n",
              "      <td>0</td>\n",
              "      <td>0</td>\n",
              "      <td>0</td>\n",
              "      <td>0</td>\n",
              "      <td>0</td>\n",
              "      <td>0</td>\n",
              "      <td>0</td>\n",
              "      <td>0</td>\n",
              "      <td>0</td>\n",
              "      <td>0</td>\n",
              "      <td>0</td>\n",
              "      <td>0</td>\n",
              "      <td>0</td>\n",
              "      <td>0</td>\n",
              "      <td>0</td>\n",
              "      <td>0</td>\n",
              "      <td>0</td>\n",
              "      <td>0</td>\n",
              "      <td>0</td>\n",
              "      <td>0</td>\n",
              "      <td>0</td>\n",
              "      <td>0</td>\n",
              "      <td>0</td>\n",
              "      <td>0</td>\n",
              "      <td>0</td>\n",
              "      <td>0</td>\n",
              "      <td>0</td>\n",
              "      <td>0</td>\n",
              "      <td>0</td>\n",
              "      <td>0</td>\n",
              "      <td>0</td>\n",
              "    </tr>\n",
              "    <tr>\n",
              "      <th>2</th>\n",
              "      <td>0</td>\n",
              "      <td>0</td>\n",
              "      <td>0</td>\n",
              "      <td>0</td>\n",
              "      <td>0</td>\n",
              "      <td>0</td>\n",
              "      <td>0</td>\n",
              "      <td>0</td>\n",
              "      <td>0</td>\n",
              "      <td>0</td>\n",
              "      <td>0</td>\n",
              "      <td>0</td>\n",
              "      <td>0</td>\n",
              "      <td>0</td>\n",
              "      <td>0</td>\n",
              "      <td>0</td>\n",
              "      <td>0</td>\n",
              "      <td>0</td>\n",
              "      <td>0</td>\n",
              "      <td>0</td>\n",
              "      <td>0</td>\n",
              "      <td>0</td>\n",
              "      <td>0</td>\n",
              "      <td>0</td>\n",
              "      <td>0</td>\n",
              "      <td>0</td>\n",
              "      <td>0</td>\n",
              "      <td>0</td>\n",
              "      <td>0</td>\n",
              "      <td>0</td>\n",
              "      <td>0</td>\n",
              "      <td>0</td>\n",
              "      <td>0</td>\n",
              "      <td>0</td>\n",
              "      <td>0</td>\n",
              "      <td>0</td>\n",
              "      <td>0</td>\n",
              "      <td>0</td>\n",
              "      <td>0</td>\n",
              "      <td>0</td>\n",
              "      <td>...</td>\n",
              "      <td>0</td>\n",
              "      <td>0</td>\n",
              "      <td>0</td>\n",
              "      <td>0</td>\n",
              "      <td>1</td>\n",
              "      <td>0</td>\n",
              "      <td>0</td>\n",
              "      <td>0</td>\n",
              "      <td>0</td>\n",
              "      <td>0</td>\n",
              "      <td>0</td>\n",
              "      <td>0</td>\n",
              "      <td>0</td>\n",
              "      <td>0</td>\n",
              "      <td>0</td>\n",
              "      <td>0</td>\n",
              "      <td>0</td>\n",
              "      <td>0</td>\n",
              "      <td>0</td>\n",
              "      <td>0</td>\n",
              "      <td>0</td>\n",
              "      <td>0</td>\n",
              "      <td>0</td>\n",
              "      <td>0</td>\n",
              "      <td>0</td>\n",
              "      <td>0</td>\n",
              "      <td>0</td>\n",
              "      <td>0</td>\n",
              "      <td>0</td>\n",
              "      <td>0</td>\n",
              "      <td>0</td>\n",
              "      <td>0</td>\n",
              "      <td>0</td>\n",
              "      <td>0</td>\n",
              "      <td>0</td>\n",
              "      <td>0</td>\n",
              "      <td>0</td>\n",
              "      <td>0</td>\n",
              "      <td>0</td>\n",
              "      <td>0</td>\n",
              "    </tr>\n",
              "    <tr>\n",
              "      <th>3</th>\n",
              "      <td>0</td>\n",
              "      <td>0</td>\n",
              "      <td>0</td>\n",
              "      <td>0</td>\n",
              "      <td>0</td>\n",
              "      <td>0</td>\n",
              "      <td>0</td>\n",
              "      <td>0</td>\n",
              "      <td>0</td>\n",
              "      <td>0</td>\n",
              "      <td>0</td>\n",
              "      <td>0</td>\n",
              "      <td>0</td>\n",
              "      <td>0</td>\n",
              "      <td>0</td>\n",
              "      <td>0</td>\n",
              "      <td>0</td>\n",
              "      <td>0</td>\n",
              "      <td>0</td>\n",
              "      <td>0</td>\n",
              "      <td>0</td>\n",
              "      <td>0</td>\n",
              "      <td>0</td>\n",
              "      <td>0</td>\n",
              "      <td>0</td>\n",
              "      <td>0</td>\n",
              "      <td>0</td>\n",
              "      <td>0</td>\n",
              "      <td>0</td>\n",
              "      <td>0</td>\n",
              "      <td>0</td>\n",
              "      <td>0</td>\n",
              "      <td>0</td>\n",
              "      <td>0</td>\n",
              "      <td>0</td>\n",
              "      <td>0</td>\n",
              "      <td>0</td>\n",
              "      <td>0</td>\n",
              "      <td>0</td>\n",
              "      <td>0</td>\n",
              "      <td>...</td>\n",
              "      <td>0</td>\n",
              "      <td>0</td>\n",
              "      <td>0</td>\n",
              "      <td>0</td>\n",
              "      <td>0</td>\n",
              "      <td>0</td>\n",
              "      <td>0</td>\n",
              "      <td>0</td>\n",
              "      <td>0</td>\n",
              "      <td>0</td>\n",
              "      <td>0</td>\n",
              "      <td>0</td>\n",
              "      <td>0</td>\n",
              "      <td>0</td>\n",
              "      <td>0</td>\n",
              "      <td>0</td>\n",
              "      <td>0</td>\n",
              "      <td>0</td>\n",
              "      <td>0</td>\n",
              "      <td>0</td>\n",
              "      <td>0</td>\n",
              "      <td>0</td>\n",
              "      <td>0</td>\n",
              "      <td>0</td>\n",
              "      <td>0</td>\n",
              "      <td>0</td>\n",
              "      <td>0</td>\n",
              "      <td>0</td>\n",
              "      <td>0</td>\n",
              "      <td>0</td>\n",
              "      <td>0</td>\n",
              "      <td>0</td>\n",
              "      <td>0</td>\n",
              "      <td>0</td>\n",
              "      <td>0</td>\n",
              "      <td>0</td>\n",
              "      <td>0</td>\n",
              "      <td>0</td>\n",
              "      <td>0</td>\n",
              "      <td>0</td>\n",
              "    </tr>\n",
              "    <tr>\n",
              "      <th>4</th>\n",
              "      <td>0</td>\n",
              "      <td>0</td>\n",
              "      <td>0</td>\n",
              "      <td>0</td>\n",
              "      <td>0</td>\n",
              "      <td>0</td>\n",
              "      <td>0</td>\n",
              "      <td>0</td>\n",
              "      <td>0</td>\n",
              "      <td>0</td>\n",
              "      <td>0</td>\n",
              "      <td>0</td>\n",
              "      <td>0</td>\n",
              "      <td>0</td>\n",
              "      <td>0</td>\n",
              "      <td>0</td>\n",
              "      <td>0</td>\n",
              "      <td>0</td>\n",
              "      <td>0</td>\n",
              "      <td>0</td>\n",
              "      <td>0</td>\n",
              "      <td>0</td>\n",
              "      <td>0</td>\n",
              "      <td>0</td>\n",
              "      <td>0</td>\n",
              "      <td>0</td>\n",
              "      <td>0</td>\n",
              "      <td>0</td>\n",
              "      <td>0</td>\n",
              "      <td>0</td>\n",
              "      <td>0</td>\n",
              "      <td>0</td>\n",
              "      <td>0</td>\n",
              "      <td>0</td>\n",
              "      <td>0</td>\n",
              "      <td>0</td>\n",
              "      <td>0</td>\n",
              "      <td>0</td>\n",
              "      <td>0</td>\n",
              "      <td>0</td>\n",
              "      <td>...</td>\n",
              "      <td>0</td>\n",
              "      <td>0</td>\n",
              "      <td>0</td>\n",
              "      <td>0</td>\n",
              "      <td>0</td>\n",
              "      <td>0</td>\n",
              "      <td>0</td>\n",
              "      <td>0</td>\n",
              "      <td>0</td>\n",
              "      <td>0</td>\n",
              "      <td>0</td>\n",
              "      <td>0</td>\n",
              "      <td>0</td>\n",
              "      <td>0</td>\n",
              "      <td>0</td>\n",
              "      <td>0</td>\n",
              "      <td>0</td>\n",
              "      <td>0</td>\n",
              "      <td>0</td>\n",
              "      <td>0</td>\n",
              "      <td>0</td>\n",
              "      <td>0</td>\n",
              "      <td>0</td>\n",
              "      <td>0</td>\n",
              "      <td>0</td>\n",
              "      <td>0</td>\n",
              "      <td>0</td>\n",
              "      <td>0</td>\n",
              "      <td>0</td>\n",
              "      <td>0</td>\n",
              "      <td>0</td>\n",
              "      <td>0</td>\n",
              "      <td>0</td>\n",
              "      <td>0</td>\n",
              "      <td>0</td>\n",
              "      <td>0</td>\n",
              "      <td>0</td>\n",
              "      <td>0</td>\n",
              "      <td>0</td>\n",
              "      <td>0</td>\n",
              "    </tr>\n",
              "  </tbody>\n",
              "</table>\n",
              "<p>5 rows × 821 columns</p>\n",
              "</div>"
            ],
            "text/plain": [
              "   4 Bunglows  AAI Residential Complex  ...  Yogi Nagar  Zeezamata Nagar\n",
              "0           0                        0  ...           0                0\n",
              "1           0                        0  ...           0                0\n",
              "2           0                        0  ...           0                0\n",
              "3           0                        0  ...           0                0\n",
              "4           0                        0  ...           0                0\n",
              "\n",
              "[5 rows x 821 columns]"
            ]
          },
          "metadata": {
            "tags": []
          },
          "execution_count": 247
        }
      ]
    },
    {
      "cell_type": "code",
      "metadata": {
        "colab": {
          "base_uri": "https://localhost:8080/",
          "height": 194
        },
        "id": "Abx_3Xlsj-0Z",
        "outputId": "fc09e086-6c69-4b8b-bcf1-63ac3bb74a67"
      },
      "source": [
        "df_new = pd.concat([df3],axis=1)\r\n",
        "df_new.head()"
      ],
      "execution_count": 248,
      "outputs": [
        {
          "output_type": "execute_result",
          "data": {
            "text/html": [
              "<div>\n",
              "<style scoped>\n",
              "    .dataframe tbody tr th:only-of-type {\n",
              "        vertical-align: middle;\n",
              "    }\n",
              "\n",
              "    .dataframe tbody tr th {\n",
              "        vertical-align: top;\n",
              "    }\n",
              "\n",
              "    .dataframe thead th {\n",
              "        text-align: right;\n",
              "    }\n",
              "</style>\n",
              "<table border=\"1\" class=\"dataframe\">\n",
              "  <thead>\n",
              "    <tr style=\"text-align: right;\">\n",
              "      <th></th>\n",
              "      <th>area</th>\n",
              "      <th>bathroom_num</th>\n",
              "      <th>bedroom_num</th>\n",
              "      <th>furnishing</th>\n",
              "      <th>locality</th>\n",
              "      <th>price</th>\n",
              "    </tr>\n",
              "  </thead>\n",
              "  <tbody>\n",
              "    <tr>\n",
              "      <th>0</th>\n",
              "      <td>5.857933</td>\n",
              "      <td>1.414214</td>\n",
              "      <td>1</td>\n",
              "      <td>2</td>\n",
              "      <td>Malad West</td>\n",
              "      <td>9000</td>\n",
              "    </tr>\n",
              "    <tr>\n",
              "      <th>1</th>\n",
              "      <td>6.480045</td>\n",
              "      <td>1.414214</td>\n",
              "      <td>1</td>\n",
              "      <td>1</td>\n",
              "      <td>Vasai</td>\n",
              "      <td>8060</td>\n",
              "    </tr>\n",
              "    <tr>\n",
              "      <th>2</th>\n",
              "      <td>6.453625</td>\n",
              "      <td>1.414214</td>\n",
              "      <td>1</td>\n",
              "      <td>1</td>\n",
              "      <td>Virar</td>\n",
              "      <td>8000</td>\n",
              "    </tr>\n",
              "    <tr>\n",
              "      <th>3</th>\n",
              "      <td>6.291569</td>\n",
              "      <td>1.414214</td>\n",
              "      <td>1</td>\n",
              "      <td>1</td>\n",
              "      <td>Vasai East</td>\n",
              "      <td>8000</td>\n",
              "    </tr>\n",
              "    <tr>\n",
              "      <th>4</th>\n",
              "      <td>6.437752</td>\n",
              "      <td>1.000000</td>\n",
              "      <td>1</td>\n",
              "      <td>0</td>\n",
              "      <td>Naigaon East</td>\n",
              "      <td>9000</td>\n",
              "    </tr>\n",
              "  </tbody>\n",
              "</table>\n",
              "</div>"
            ],
            "text/plain": [
              "       area  bathroom_num  bedroom_num  furnishing      locality  price\n",
              "0  5.857933      1.414214            1           2    Malad West   9000\n",
              "1  6.480045      1.414214            1           1         Vasai   8060\n",
              "2  6.453625      1.414214            1           1         Virar   8000\n",
              "3  6.291569      1.414214            1           1    Vasai East   8000\n",
              "4  6.437752      1.000000            1           0  Naigaon East   9000"
            ]
          },
          "metadata": {
            "tags": []
          },
          "execution_count": 248
        }
      ]
    },
    {
      "cell_type": "code",
      "metadata": {
        "colab": {
          "base_uri": "https://localhost:8080/",
          "height": 194
        },
        "id": "_9VhvGroypO6",
        "outputId": "b4f14f69-2b23-4559-dbbb-578398009f0a"
      },
      "source": [
        "df_new['locality'] = le.fit_transform(df_new['locality'])\r\n",
        "df_new.head()"
      ],
      "execution_count": 249,
      "outputs": [
        {
          "output_type": "execute_result",
          "data": {
            "text/html": [
              "<div>\n",
              "<style scoped>\n",
              "    .dataframe tbody tr th:only-of-type {\n",
              "        vertical-align: middle;\n",
              "    }\n",
              "\n",
              "    .dataframe tbody tr th {\n",
              "        vertical-align: top;\n",
              "    }\n",
              "\n",
              "    .dataframe thead th {\n",
              "        text-align: right;\n",
              "    }\n",
              "</style>\n",
              "<table border=\"1\" class=\"dataframe\">\n",
              "  <thead>\n",
              "    <tr style=\"text-align: right;\">\n",
              "      <th></th>\n",
              "      <th>area</th>\n",
              "      <th>bathroom_num</th>\n",
              "      <th>bedroom_num</th>\n",
              "      <th>furnishing</th>\n",
              "      <th>locality</th>\n",
              "      <th>price</th>\n",
              "    </tr>\n",
              "  </thead>\n",
              "  <tbody>\n",
              "    <tr>\n",
              "      <th>0</th>\n",
              "      <td>5.857933</td>\n",
              "      <td>1.414214</td>\n",
              "      <td>1</td>\n",
              "      <td>2</td>\n",
              "      <td>425</td>\n",
              "      <td>9000</td>\n",
              "    </tr>\n",
              "    <tr>\n",
              "      <th>1</th>\n",
              "      <td>6.480045</td>\n",
              "      <td>1.414214</td>\n",
              "      <td>1</td>\n",
              "      <td>1</td>\n",
              "      <td>727</td>\n",
              "      <td>8060</td>\n",
              "    </tr>\n",
              "    <tr>\n",
              "      <th>2</th>\n",
              "      <td>6.453625</td>\n",
              "      <td>1.414214</td>\n",
              "      <td>1</td>\n",
              "      <td>1</td>\n",
              "      <td>753</td>\n",
              "      <td>8000</td>\n",
              "    </tr>\n",
              "    <tr>\n",
              "      <th>3</th>\n",
              "      <td>6.291569</td>\n",
              "      <td>1.414214</td>\n",
              "      <td>1</td>\n",
              "      <td>1</td>\n",
              "      <td>728</td>\n",
              "      <td>8000</td>\n",
              "    </tr>\n",
              "    <tr>\n",
              "      <th>4</th>\n",
              "      <td>6.437752</td>\n",
              "      <td>1.000000</td>\n",
              "      <td>1</td>\n",
              "      <td>0</td>\n",
              "      <td>487</td>\n",
              "      <td>9000</td>\n",
              "    </tr>\n",
              "  </tbody>\n",
              "</table>\n",
              "</div>"
            ],
            "text/plain": [
              "       area  bathroom_num  bedroom_num  furnishing  locality  price\n",
              "0  5.857933      1.414214            1           2       425   9000\n",
              "1  6.480045      1.414214            1           1       727   8060\n",
              "2  6.453625      1.414214            1           1       753   8000\n",
              "3  6.291569      1.414214            1           1       728   8000\n",
              "4  6.437752      1.000000            1           0       487   9000"
            ]
          },
          "metadata": {
            "tags": []
          },
          "execution_count": 249
        }
      ]
    },
    {
      "cell_type": "code",
      "metadata": {
        "colab": {
          "base_uri": "https://localhost:8080/"
        },
        "id": "COaogxwpwzLH",
        "outputId": "a55508f7-4239-4933-f4ee-4d3dba2f3d4b"
      },
      "source": [
        "from sklearn.linear_model import LinearRegression\r\n",
        "from sklearn.model_selection import train_test_split\r\n",
        "from sklearn.metrics import r2_score, mean_squared_error\r\n",
        "\r\n",
        "lr = LinearRegression()\r\n",
        "\r\n",
        "x = df_new.drop(['price'], axis=1)\r\n",
        "y = df_new['price']\r\n",
        "x_train, x_test, y_train, y_test = train_test_split(x,y,test_size=0.25)\r\n",
        "\r\n",
        "lr.fit(x_train,y_train)\r\n",
        "y_predict = lr.predict(x_test)\r\n",
        "\r\n",
        "print(\"MSE = \", mean_squared_error(y_test, y_predict))\r\n",
        "print(\"R2_score: \",r2_score(y_test, y_predict))\r\n",
        "#print(x_test)\r\n",
        "#print(y_predict)"
      ],
      "execution_count": 250,
      "outputs": [
        {
          "output_type": "stream",
          "text": [
            "MSE =  527224118.0857544\n",
            "R2_score:  0.4949434156542656\n"
          ],
          "name": "stdout"
        }
      ]
    },
    {
      "cell_type": "code",
      "metadata": {
        "colab": {
          "base_uri": "https://localhost:8080/",
          "height": 552
        },
        "id": "OvB1j0XfwzJA",
        "outputId": "d4286b4b-efb7-43d6-be97-0a3245804213"
      },
      "source": [
        "# Correlation between independent variables test #Fail since dependent variables are correlated with each other. \r\n",
        "plt.figure(figsize=(8,8)) \r\n",
        "sns.heatmap(df_new.corr(), annot=True)\r\n",
        "plt.show()"
      ],
      "execution_count": 251,
      "outputs": [
        {
          "output_type": "display_data",
          "data": {
            "image/png": "[encoded data removed]",
            "text/plain": [
              "<Figure size 576x576 with 2 Axes>"
            ]
          },
          "metadata": {
            "tags": [],
            "needs_background": "light"
          }
        }
      ]
    },
    {
      "cell_type": "code",
      "metadata": {
        "colab": {
          "base_uri": "https://localhost:8080/"
        },
        "id": "wYozJLZXwzGZ",
        "outputId": "c52edc4f-c8be-49c9-ef6d-c56903138eb5"
      },
      "source": [
        "y_predict = lr.predict(x_test)\r\n",
        "y_predict_train = lr.predict(x_train)\r\n",
        "print(\"Bias = \", r2_score(y_train, y_predict_train))\r\n",
        "print(\"Variance = \", r2_score(y_test, y_predict))\r\n",
        "# Variance should be less than bias if its not then there is need for regularization. "
      ],
      "execution_count": 252,
      "outputs": [
        {
          "output_type": "stream",
          "text": [
            "Bias =  0.4977198454787046\n",
            "Variance =  0.4949434156542656\n"
          ],
          "name": "stdout"
        }
      ]
    },
    {
      "cell_type": "code",
      "metadata": {
        "colab": {
          "base_uri": "https://localhost:8080/",
          "height": 265
        },
        "id": "U6eU2PVDwzET",
        "outputId": "c78f4da8-c6e1-43c2-c2e8-c3c3dd1e4a79"
      },
      "source": [
        "# The residuals are homoskedastial\r\n",
        "residuals = y_predict - y_test\r\n",
        "plt.scatter(y_test, residuals )\r\n",
        "plt.show()"
      ],
      "execution_count": 253,
      "outputs": [
        {
          "output_type": "display_data",
          "data": {
            "image/png": "[encoded data removed]",
            "text/plain": [
              "<Figure size 432x288 with 1 Axes>"
            ]
          },
          "metadata": {
            "tags": [],
            "needs_background": "light"
          }
        }
      ]
    },
    {
      "cell_type": "code",
      "metadata": {
        "colab": {
          "base_uri": "https://localhost:8080/",
          "height": 387
        },
        "id": "AN_3U6GswzCh",
        "outputId": "08c274de-805b-4829-bd0a-b02da3e643fd"
      },
      "source": [
        "# Checking if residuals are normally distributed\r\n",
        "print(\"Skew of residuals = \",skew(residuals))\r\n",
        "sns.displot(residuals)\r\n",
        "plt.show()\r\n",
        "\r\n",
        "#Since residuals are not normally distributed this test also fails. "
      ],
      "execution_count": 254,
      "outputs": [
        {
          "output_type": "stream",
          "text": [
            "Skew of residuals =  -1.0487342787375256\n"
          ],
          "name": "stdout"
        },
        {
          "output_type": "display_data",
          "data": {
            "image/png": "[encoded data removed]",
            "text/plain": [
              "<Figure size 360x360 with 1 Axes>"
            ]
          },
          "metadata": {
            "tags": [],
            "needs_background": "light"
          }
        }
      ]
    },
    {
      "cell_type": "code",
      "metadata": {
        "colab": {
          "base_uri": "https://localhost:8080/"
        },
        "id": "HDb1r0Rmwy_V",
        "outputId": "b752ab10-8740-49ed-fc31-014e15347819"
      },
      "source": [
        "from sklearn.preprocessing import PolynomialFeatures\r\n",
        "\r\n",
        "pf = PolynomialFeatures(degree=2)\r\n",
        "x1 = df_new.drop(['price'], axis=1)\r\n",
        "y1 = df_new['price']\r\n",
        "\r\n",
        "x_trn, x_tst, y_trn, y_tst = train_test_split(x1,y1, test_size=0.25)\r\n",
        "\r\n",
        "x_poly_trn2 = pf.fit_transform(x_trn)\r\n",
        "x_poly_tst2 = pf.fit_transform(x_tst)\r\n",
        "\r\n",
        "lr_poly2 = LinearRegression()\r\n",
        "lr_poly2.fit(x_poly_trn2, y_trn)\r\n",
        "\r\n",
        "y_pred_trn = lr_poly2.predict(x_poly_trn2)\r\n",
        "y_pred_tst = lr_poly2.predict(x_poly_tst2)\r\n",
        "\r\n",
        "print(\"Slope : {}\\n Intercept : {}\".format(lr_poly2.coef_,lr_poly2.intercept_))\r\n",
        "print(\"r2_score : {}\".format(lr_poly2.score(x_poly_tst2,y_tst)))"
      ],
      "execution_count": 255,
      "outputs": [
        {
          "output_type": "stream",
          "text": [
            "Slope : [ 0.00000000e+00 -1.78995887e+05 -8.83402155e+04  3.87066561e+04\n",
            "  2.71539460e+04 -1.49462794e+02  1.63186341e+04  1.10815129e+04\n",
            " -7.49154943e+03 -6.74849620e+03  1.89534973e+01 -1.02438615e+03\n",
            "  9.14481099e+03  4.37305940e+03 -8.34079685e+00  1.12577393e+02\n",
            "  9.91592663e+02 -2.98080713e+00  1.55325885e+03 -8.27380285e-02\n",
            "  4.92532529e-02]\n",
            " Intercept : 542591.7923864833\n",
            "r2_score : 0.5403478540370463\n"
          ],
          "name": "stdout"
        }
      ]
    },
    {
      "cell_type": "code",
      "metadata": {
        "colab": {
          "base_uri": "https://localhost:8080/"
        },
        "id": "rVuT7wFQwy79",
        "outputId": "aff49a86-1a39-4fc2-8b41-52882a3bfa36"
      },
      "source": [
        "residuals_poly = y_pred_tst - y_tst\r\n",
        "bias = r2_score(y_trn, y_pred_trn)\r\n",
        "variance = r2_score(y_tst, y_pred_tst)\r\n",
        "print(\"Bias = {}\\n Variance = {}\".format(bias, variance))"
      ],
      "execution_count": 256,
      "outputs": [
        {
          "output_type": "stream",
          "text": [
            "Bias = 0.540056434667225\n",
            " Variance = 0.5403478540370463\n"
          ],
          "name": "stdout"
        }
      ]
    },
    {
      "cell_type": "code",
      "metadata": {
        "colab": {
          "base_uri": "https://localhost:8080/",
          "height": 784
        },
        "id": "q2KAe4fbwy5g",
        "outputId": "b84a63cf-5f38-4275-8da0-a94cb3f2893d"
      },
      "source": [
        "#Multi-correlation test failed\r\n",
        "#Normal distribution test failed\r\n",
        "#Homoskedatial pass\r\n",
        "fig, axes = plt.subplots(2,2, figsize=(12,12))\r\n",
        "print(\"Skew :\",skew(residuals))\r\n",
        "sns.heatmap(df_new.corr(), annot=True, linewidth=2, linecolor='black', ax=axes[1][0])\r\n",
        "sns.histplot(residuals_poly, ax=axes[0][1])\r\n",
        "sns.scatterplot(residuals_poly, y_tst, ax=axes[0][0])\r\n",
        "plt.show()"
      ],
      "execution_count": 257,
      "outputs": [
        {
          "output_type": "stream",
          "text": [
            "Skew : -1.0487342787375256\n"
          ],
          "name": "stdout"
        },
        {
          "output_type": "display_data",
          "data": {
            "image/png": "[encoded data removed]",
            "text/plain": [
              "<Figure size 864x864 with 5 Axes>"
            ]
          },
          "metadata": {
            "tags": [],
            "needs_background": "light"
          }
        }
      ]
    },
    {
      "cell_type": "code",
      "metadata": {
        "colab": {
          "base_uri": "https://localhost:8080/"
        },
        "id": "J7qKZshdpB6b",
        "outputId": "d0bf3a34-b1df-4233-903a-ed74ebea7729"
      },
      "source": [
        "from sklearn.preprocessing import PolynomialFeatures\r\n",
        "\r\n",
        "pf = PolynomialFeatures(degree=3)\r\n",
        "x1 = df_new.drop(['price'], axis=1)\r\n",
        "y1 = df_new['price']\r\n",
        "\r\n",
        "x_trn, x_tst, y_trn, y_tst = train_test_split(x1,y1, test_size=0.25)\r\n",
        "\r\n",
        "x_poly_trn3 = pf.fit_transform(x_trn)\r\n",
        "x_poly_tst3 = pf.fit_transform(x_tst)\r\n",
        "\r\n",
        "lr_poly3 = LinearRegression()\r\n",
        "lr_poly3.fit(x_poly_trn3, y_trn)\r\n",
        "\r\n",
        "y_pred_trn3 = lr_poly3.predict(x_poly_trn3)\r\n",
        "y_pred_tst3 = lr_poly3.predict(x_poly_tst3)\r\n",
        "\r\n",
        "print(\"Slope : {}\\n Intercept : {}\".format(lr_poly3.coef_,lr_poly3.intercept_))\r\n",
        "print(\"r2_score : {}\".format(lr_poly3.score(x_poly_tst3,y_tst)))\r\n",
        "\r\n",
        "residuals_poly3 = y_pred_tst3 - y_tst\r\n",
        "bias_poly_3 = r2_score(y_trn, y_pred_trn3)\r\n",
        "variance_poly_3 = r2_score(y_tst, y_pred_tst3)\r\n",
        "print(\"Bias = {}\\n Variance = {}\".format(bias_poly_3, variance_poly_3))"
      ],
      "execution_count": 258,
      "outputs": [
        {
          "output_type": "stream",
          "text": [
            "Slope : [ 3.31686227e-01 -1.03742757e+03 -1.12126169e+06  9.22471643e+04\n",
            "  7.30654833e+04  7.64868798e+02 -1.69851987e+04  1.91839070e+05\n",
            " -3.17766634e+04 -4.89952739e+04 -2.64822823e+02  3.48186674e+05\n",
            " -1.31795815e+05  7.93985015e+04  1.99760560e+02  6.79436386e+04\n",
            " -6.83520521e+03 -2.60290034e+01  4.77531575e+04  2.77573320e+00\n",
            " -1.04021531e-01  1.57985760e+03 -9.26796997e+03  2.72254398e+03\n",
            "  5.75840882e+03  2.25000082e+01 -2.86981030e+04  2.10964223e+04\n",
            " -1.74522540e+04 -2.35369250e+01 -1.13488662e+04  1.43124386e+03\n",
            " -1.56787541e+00 -6.04865179e+03  8.09159152e-01  1.17042044e-02\n",
            " -4.48900972e+04  3.21442019e+04  1.62735716e+04 -2.80567515e+01\n",
            " -2.46443504e+04 -4.65051490e+03  2.55704906e+01  3.37458157e+03\n",
            " -6.81644615e+00 -1.41353574e-02  7.56505873e+03  9.99224896e+02\n",
            " -7.57006521e+00  3.06479690e+02  1.46941498e-01  3.63300514e-02\n",
            " -2.87102301e+03 -4.35502517e+00  1.22385134e-02  5.97395046e-06]\n",
            " Intercept : 474138.1516490876\n",
            "r2_score : 0.538791760084711\n",
            "Bias = 0.5567951456312633\n",
            " Variance = 0.538791760084711\n"
          ],
          "name": "stdout"
        }
      ]
    },
    {
      "cell_type": "markdown",
      "metadata": {
        "id": "VC4pn2Y-xTZ8"
      },
      "source": [
        "**Decision Tree Regressor test**"
      ]
    },
    {
      "cell_type": "code",
      "metadata": {
        "id": "cmmm7_ICgeFJ"
      },
      "source": [
        "from sklearn.neighbors import KNeighborsRegressor\r\n",
        "from sklearn.tree import DecisionTreeRegressor\r\n",
        "from sklearn import tree\r\n",
        "from sklearn.svm import LinearSVR, SVR"
      ],
      "execution_count": 259,
      "outputs": []
    },
    {
      "cell_type": "code",
      "metadata": {
        "colab": {
          "base_uri": "https://localhost:8080/",
          "height": 522
        },
        "id": "3eSLJ31axRxe",
        "outputId": "f9a87a3d-7712-4938-a1ed-3a1cf52a7fdd"
      },
      "source": [
        "x_train1, x_test1, y_train1, y_test1 = train_test_split(x1,y1, test_size=0.25)\r\n",
        "\r\n",
        "for i in range(1,15):\r\n",
        "  dtr = DecisionTreeRegressor(max_depth=i)\r\n",
        "  dtr.fit(x_train1, y_train1)\r\n",
        "  print(i, dtr.score(x_test1, y_test1))\r\n",
        "\r\n",
        "  tree.plot_tree(dtr.fit(x_train1, y_train1), feature_names=list(df), fontsize=10)\r\n",
        "# with max_depth as 6 we are getting the best results."
      ],
      "execution_count": 260,
      "outputs": [
        {
          "output_type": "stream",
          "text": [
            "1 0.34888803057196394\n",
            "2 0.45403498555001165\n",
            "3 0.5118180695498634\n",
            "4 0.5390809420022643\n",
            "5 0.5606654649025987\n",
            "6 0.5875242326014023\n",
            "7 0.6080278712429492\n",
            "8 0.6281224489159799\n",
            "9 0.64295021844789\n",
            "10 0.6582174758214392\n",
            "11 0.6831636935527109\n",
            "12 0.6919420817479842\n",
            "13 0.7076701658544975\n",
            "14 0.7086319868645398\n"
          ],
          "name": "stdout"
        },
        {
          "output_type": "display_data",
          "data": {
            "image/png": "[encoded data removed]",
            "text/plain": [
              "<Figure size 432x288 with 1 Axes>"
            ]
          },
          "metadata": {
            "tags": [],
            "needs_background": "light"
          }
        }
      ]
    },
    {
      "cell_type": "code",
      "metadata": {
        "colab": {
          "base_uri": "https://localhost:8080/",
          "height": 1000
        },
        "id": "84TIHUtZxRvW",
        "outputId": "097fe5e1-debf-4781-f34b-5c47f5f2d78d"
      },
      "source": [
        "dt = DecisionTreeRegressor(splitter='best', max_depth=14, min_samples_split=2, min_samples_leaf=1)\r\n",
        "dt.fit(x_train1, y_train1)\r\n",
        "dt.score(x_test1, y_test1)\r\n",
        "y_pred = dt.predict(x_test1)\r\n",
        "tree.plot_tree(dtr.fit(x_train1, y_train1), feature_names=list(df), fontsize=10)"
      ],
      "execution_count": 261,
      "outputs": [
        {
          "output_type": "execute_result",
          "data": {
            "text/plain": [
              "[Text(184.2293057762754, 210.192, 'area <= 7.088\\nmse = 1043760375.641\\nsamples = 22941\\nvalue = 54353.1'),\n",
              " Text(94.41105694122717, 195.696, 'area <= 6.615\\nmse = 507564113.238\\nsamples = 15217\\nvalue = 40578.38'),\n",
              " Text(45.24983342199537, 181.2, 'furnishing <= 0.5\\nmse = 240332422.426\\nsamples = 7124\\nvalue = 30107.745'),\n",
              " Text(16.713058907504177, 166.704, 'area <= 6.148\\nmse = 342067113.737\\nsamples = 1648\\nvalue = 39830.61'),\n",
              " Text(3.391308651618812, 152.208, 'area <= 3.223\\nmse = 203589558.515\\nsamples = 194\\nvalue = 26283.031'),\n",
              " Text(1.5003595862737704, 137.712, 'bedroom_num <= 2.5\\nmse = 506250000.0\\nsamples = 2\\nvalue = 97500.0'),\n",
              " Text(1.4282160749878792, 123.216, 'mse = 0.0\\nsamples = 1\\nvalue = 75000.0'),\n",
              " Text(1.5725030975596617, 123.216, 'mse = 0.0\\nsamples = 1\\nvalue = 120000.0'),\n",
              " Text(5.282257716963853, 137.712, 'area <= 5.934\\nmse = 147054673.454\\nsamples = 192\\nvalue = 25541.188'),\n",
              " Text(1.7167901201314444, 123.216, 'area <= 5.533\\nmse = 90266135.507\\nsamples = 98\\nvalue = 21700.592'),\n",
              " Text(0.613219845930076, 108.72, 'area <= 4.5\\nmse = 58098765.432\\nsamples = 18\\nvalue = 15111.111'),\n",
              " Text(0.5410763346441847, 94.22399999999999, 'mse = 0.0\\nsamples = 1\\nvalue = 30000.0'),\n",
              " Text(0.6853633572159673, 94.22399999999999, 'locality <= 78.5\\nmse = 47709342.561\\nsamples = 17\\nvalue = 14235.294'),\n",
              " Text(0.36071755642945647, 79.72799999999998, 'locality <= 64.0\\nmse = 61333333.333\\nsamples = 6\\nvalue = 18000.0'),\n",
              " Text(0.21643053385767386, 65.232, 'locality <= 49.0\\nmse = 5250000.0\\nsamples = 4\\nvalue = 14500.0'),\n",
              " Text(0.14428702257178258, 50.73599999999999, 'area <= 5.246\\nmse = 1555555.556\\nsamples = 3\\nvalue = 13333.333'),\n",
              " Text(0.07214351128589129, 36.23999999999998, 'mse = 0.0\\nsamples = 1\\nvalue = 15000.0'),\n",
              " Text(0.21643053385767386, 36.23999999999998, 'area <= 5.41\\nmse = 250000.0\\nsamples = 2\\nvalue = 12500.0'),\n",
              " Text(0.14428702257178258, 21.744, 'mse = 0.0\\nsamples = 1\\nvalue = 13000.0'),\n",
              " Text(0.28857404514356516, 21.744, 'mse = 0.0\\nsamples = 1\\nvalue = 12000.0'),\n",
              " Text(0.28857404514356516, 50.73599999999999, 'mse = 0.0\\nsamples = 1\\nvalue = 18000.0'),\n",
              " Text(0.5050045790012391, 65.232, 'area <= 5.469\\nmse = 100000000.0\\nsamples = 2\\nvalue = 25000.0'),\n",
              " Text(0.4328610677153477, 50.73599999999999, 'mse = 0.0\\nsamples = 1\\nvalue = 15000.0'),\n",
              " Text(0.5771480902871303, 50.73599999999999, 'mse = 0.0\\nsamples = 1\\nvalue = 35000.0'),\n",
              " Text(1.0100091580024781, 79.72799999999998, 'area <= 5.393\\nmse = 28330578.512\\nsamples = 11\\nvalue = 12181.818'),\n",
              " Text(0.7935786241448042, 65.232, 'locality <= 252.5\\nmse = 17388888.889\\nsamples = 6\\nvalue = 15166.667'),\n",
              " Text(0.7214351128589129, 50.73599999999999, 'mse = 0.0\\nsamples = 1\\nvalue = 21000.0'),\n",
              " Text(0.8657221354306954, 50.73599999999999, 'locality <= 373.0\\nmse = 12700000.0\\nsamples = 5\\nvalue = 14000.0'),\n",
              " Text(0.7935786241448042, 36.23999999999998, 'mse = 0.0\\nsamples = 1\\nvalue = 8000.0'),\n",
              " Text(0.9378656467165868, 36.23999999999998, 'locality <= 614.0\\nmse = 4625000.0\\nsamples = 4\\nvalue = 15500.0'),\n",
              " Text(0.8657221354306954, 21.744, 'area <= 5.246\\nmse = 2166666.667\\nsamples = 3\\nvalue = 14500.0'),\n",
              " Text(0.7935786241448042, 7.2479999999999905, 'mse = 0.0\\nsamples = 1\\nvalue = 16500.0'),\n",
              " Text(0.9378656467165868, 7.2479999999999905, 'mse = 250000.0\\nsamples = 2\\nvalue = 13500.0'),\n",
              " Text(1.0100091580024781, 21.744, 'mse = 0.0\\nsamples = 1\\nvalue = 18500.0'),\n",
              " Text(1.226439691860152, 65.232, 'locality <= 281.5\\nmse = 17940000.0\\nsamples = 5\\nvalue = 8600.0'),\n",
              " Text(1.1542961805742606, 50.73599999999999, 'mse = 0.0\\nsamples = 1\\nvalue = 2500.0'),\n",
              " Text(1.2985832031460431, 50.73599999999999, 'locality <= 651.5\\nmse = 10796875.0\\nsamples = 4\\nvalue = 10125.0'),\n",
              " Text(1.226439691860152, 36.23999999999998, 'area <= 5.515\\nmse = 2722222.222\\nsamples = 3\\nvalue = 11833.333'),\n",
              " Text(1.1542961805742606, 21.744, 'area <= 5.463\\nmse = 562500.0\\nsamples = 2\\nvalue = 10750.0'),\n",
              " Text(1.0821526692883694, 7.2479999999999905, 'mse = 0.0\\nsamples = 1\\nvalue = 10000.0'),\n",
              " Text(1.226439691860152, 7.2479999999999905, 'mse = 0.0\\nsamples = 1\\nvalue = 11500.0'),\n",
              " Text(1.2985832031460431, 21.744, 'mse = 0.0\\nsamples = 1\\nvalue = 14000.0'),\n",
              " Text(1.3707267144319346, 36.23999999999998, 'mse = 0.0\\nsamples = 1\\nvalue = 5000.0'),\n",
              " Text(2.8203603943328126, 108.72, 'area <= 5.72\\nmse = 85535810.024\\nsamples = 80\\nvalue = 23183.225'),\n",
              " Text(2.001982438183483, 94.22399999999999, 'area <= 5.669\\nmse = 79284132.263\\nsamples = 17\\nvalue = 28857.824'),\n",
              " Text(1.6953725152184453, 79.72799999999998, 'area <= 5.572\\nmse = 27108770.01\\nsamples = 10\\nvalue = 25758.3'),\n",
              " Text(1.623229003932554, 65.232, 'mse = 0.0\\nsamples = 1\\nvalue = 35000.0'),\n",
              " Text(1.7675160265043366, 65.232, 'locality <= 219.5\\nmse = 19576532.247\\nsamples = 9\\nvalue = 24731.444'),\n",
              " Text(1.5871572482896084, 50.73599999999999, 'locality <= 106.5\\nmse = 2250000.0\\nsamples = 2\\nvalue = 20500.0'),\n",
              " Text(1.515013737003717, 36.23999999999998, 'mse = 0.0\\nsamples = 1\\nvalue = 22000.0'),\n",
              " Text(1.6593007595754996, 36.23999999999998, 'mse = 0.0\\nsamples = 1\\nvalue = 19000.0'),\n",
              " Text(1.9478748047190648, 50.73599999999999, 'area <= 5.626\\nmse = 17949578.245\\nsamples = 7\\nvalue = 25940.429'),\n",
              " Text(1.8035877821472823, 36.23999999999998, 'locality <= 441.5\\nmse = 250000.0\\nsamples = 2\\nvalue = 28500.0'),\n",
              " Text(1.7314442708613909, 21.744, 'mse = 0.0\\nsamples = 1\\nvalue = 29000.0'),\n",
              " Text(1.8757312934331736, 21.744, 'mse = 0.0\\nsamples = 1\\nvalue = 28000.0'),\n",
              " Text(2.0921618272908473, 36.23999999999998, 'locality <= 350.5\\nmse = 21360622.24\\nsamples = 5\\nvalue = 24916.6'),\n",
              " Text(2.0200183160049563, 21.744, 'mse = 0.0\\nsamples = 1\\nvalue = 20000.0'),\n",
              " Text(2.164305338576739, 21.744, 'locality <= 491.0\\nmse = 19146729.188\\nsamples = 4\\nvalue = 26145.75'),\n",
              " Text(2.0921618272908473, 7.2479999999999905, 'mse = 0.0\\nsamples = 1\\nvalue = 32000.0'),\n",
              " Text(2.23644884986263, 7.2479999999999905, 'mse = 10296864.222\\nsamples = 3\\nvalue = 24194.333'),\n",
              " Text(2.3085923611485213, 79.72799999999998, 'locality <= 732.0\\nmse = 120489795.918\\nsamples = 7\\nvalue = 33285.714'),\n",
              " Text(2.23644884986263, 65.232, 'locality <= 139.0\\nmse = 101040000.0\\nsamples = 5\\nvalue = 37600.0'),\n",
              " Text(2.164305338576739, 50.73599999999999, 'mse = 0.0\\nsamples = 1\\nvalue = 18000.0'),\n",
              " Text(2.3085923611485213, 50.73599999999999, 'locality <= 449.0\\nmse = 6250000.0\\nsamples = 4\\nvalue = 42500.0'),\n",
              " Text(2.23644884986263, 36.23999999999998, 'mse = 0.0\\nsamples = 2\\nvalue = 40000.0'),\n",
              " Text(2.3807358724344128, 36.23999999999998, 'mse = 0.0\\nsamples = 2\\nvalue = 45000.0'),\n",
              " Text(2.3807358724344128, 65.232, 'mse = 6250000.0\\nsamples = 2\\nvalue = 22500.0'),\n",
              " Text(3.638738350482142, 94.22399999999999, 'area <= 5.849\\nmse = 76188894.873\\nsamples = 63\\nvalue = 21651.984'),\n",
              " Text(2.9218122070785975, 79.72799999999998, 'locality <= 747.5\\nmse = 62745538.106\\nsamples = 28\\nvalue = 19466.964'),\n",
              " Text(2.849668695792706, 65.232, 'locality <= 442.5\\nmse = 60808191.015\\nsamples = 27\\nvalue = 19076.852'),\n",
              " Text(2.5971664062920863, 50.73599999999999, 'locality <= 18.0\\nmse = 76909275.148\\nsamples = 13\\nvalue = 21351.923'),\n",
              " Text(2.5250228950061953, 36.23999999999998, 'mse = 1687500.0\\nsamples = 4\\nvalue = 16750.0'),\n",
              " Text(2.6693099175779778, 36.23999999999998, 'locality <= 49.5\\nmse = 96745617.284\\nsamples = 9\\nvalue = 23397.222'),\n",
              " Text(2.5971664062920863, 21.744, 'mse = 0.0\\nsamples = 1\\nvalue = 40000.0'),\n",
              " Text(2.7414534288638692, 21.744, 'locality <= 110.0\\nmse = 70075224.609\\nsamples = 8\\nvalue = 21321.875'),\n",
              " Text(2.6693099175779778, 7.2479999999999905, 'mse = 0.0\\nsamples = 1\\nvalue = 10000.0'),\n",
              " Text(2.8135969401497603, 7.2479999999999905, 'mse = 59157831.633\\nsamples = 7\\nvalue = 22939.286'),\n",
              " Text(3.1021709852933257, 50.73599999999999, 'locality <= 497.0\\nmse = 36588010.204\\nsamples = 14\\nvalue = 16964.286'),\n",
              " Text(3.030027474007434, 36.23999999999998, 'mse = 0.0\\nsamples = 1\\nvalue = 5000.0'),\n",
              " Text(3.1743144965792167, 36.23999999999998, 'locality <= 627.5\\nmse = 27544378.698\\nsamples = 13\\nvalue = 17884.615'),\n",
              " Text(3.030027474007434, 21.744, 'locality <= 534.0\\nmse = 1152343.75\\nsamples = 8\\nvalue = 15937.5'),\n",
              " Text(2.9578839627215427, 7.2479999999999905, 'mse = 0.0\\nsamples = 1\\nvalue = 18000.0'),\n",
              " Text(3.1021709852933257, 7.2479999999999905, 'mse = 622448.98\\nsamples = 7\\nvalue = 15642.857'),\n",
              " Text(3.318601519150999, 21.744, 'locality <= 667.0\\nmse = 54000000.0\\nsamples = 5\\nvalue = 21000.0'),\n",
              " Text(3.246458007865108, 7.2479999999999905, 'mse = 0.0\\nsamples = 1\\nvalue = 35000.0'),\n",
              " Text(3.3907450304368907, 7.2479999999999905, 'mse = 6250000.0\\nsamples = 4\\nvalue = 17500.0'),\n",
              " Text(2.9939557183644885, 65.232, 'mse = 0.0\\nsamples = 1\\nvalue = 30000.0'),\n",
              " Text(4.355664493885687, 79.72799999999998, 'area <= 5.859\\nmse = 80068571.429\\nsamples = 35\\nvalue = 23400.0'),\n",
              " Text(3.8416419759737113, 65.232, 'locality <= 167.5\\nmse = 88441600.0\\nsamples = 25\\nvalue = 25280.0'),\n",
              " Text(3.6071755642945647, 50.73599999999999, 'locality <= 139.0\\nmse = 130888888.889\\nsamples = 3\\nvalue = 35666.667'),\n",
              " Text(3.535032053008673, 36.23999999999998, 'locality <= 85.5\\nmse = 42250000.0\\nsamples = 2\\nvalue = 28500.0'),\n",
              " Text(3.4628885417227817, 21.744, 'mse = 0.0\\nsamples = 1\\nvalue = 22000.0'),\n",
              " Text(3.6071755642945647, 21.744, 'mse = 0.0\\nsamples = 1\\nvalue = 35000.0'),\n",
              " Text(3.6793190755804557, 36.23999999999998, 'mse = 0.0\\nsamples = 1\\nvalue = 50000.0'),\n",
              " Text(4.076108387652858, 50.73599999999999, 'locality <= 677.5\\nmse = 65935950.413\\nsamples = 22\\nvalue = 23863.636'),\n",
              " Text(3.8957496094381296, 36.23999999999998, 'locality <= 505.0\\nmse = 24428571.429\\nsamples = 14\\nvalue = 22000.0'),\n",
              " Text(3.751462586866347, 21.744, 'locality <= 286.0\\nmse = 27111111.111\\nsamples = 9\\nvalue = 23333.333'),\n",
              " Text(3.6793190755804557, 7.2479999999999905, 'mse = 32250000.0\\nsamples = 4\\nvalue = 20500.0'),\n",
              " Text(3.823606098152238, 7.2479999999999905, 'mse = 11440000.0\\nsamples = 5\\nvalue = 25600.0'),\n",
              " Text(4.040036632009913, 21.744, 'locality <= 566.5\\nmse = 10640000.0\\nsamples = 5\\nvalue = 19600.0'),\n",
              " Text(3.967893120724021, 7.2479999999999905, 'mse = 0.0\\nsamples = 1\\nvalue = 15000.0'),\n",
              " Text(4.112180143295803, 7.2479999999999905, 'mse = 6687500.0\\nsamples = 4\\nvalue = 20750.0'),\n",
              " Text(4.256467165867586, 36.23999999999998, 'locality <= 692.0\\nmse = 121859375.0\\nsamples = 8\\nvalue = 27125.0'),\n",
              " Text(4.184323654581695, 21.744, 'mse = 56250000.0\\nsamples = 2\\nvalue = 42500.0'),\n",
              " Text(4.328610677153478, 21.744, 'locality <= 735.5\\nmse = 38666666.667\\nsamples = 6\\nvalue = 22000.0'),\n",
              " Text(4.256467165867586, 7.2479999999999905, 'mse = 250000.0\\nsamples = 2\\nvalue = 14500.0'),\n",
              " Text(4.400754188439369, 7.2479999999999905, 'mse = 15687500.0\\nsamples = 4\\nvalue = 25750.0'),\n",
              " Text(4.869687011797662, 65.232, 'locality <= 382.0\\nmse = 28210000.0\\nsamples = 10\\nvalue = 18700.0'),\n",
              " Text(4.689328233582934, 50.73599999999999, 'locality <= 104.5\\nmse = 11250000.0\\nsamples = 6\\nvalue = 16500.0'),\n",
              " Text(4.545041211011151, 36.23999999999998, 'locality <= 44.5\\nmse = 12250000.0\\nsamples = 2\\nvalue = 13500.0'),\n",
              " Text(4.47289769972526, 21.744, 'mse = 0.0\\nsamples = 1\\nvalue = 17000.0'),\n",
              " Text(4.617184722297043, 21.744, 'mse = 0.0\\nsamples = 1\\nvalue = 10000.0'),\n",
              " Text(4.833615256154716, 36.23999999999998, 'locality <= 140.5\\nmse = 4000000.0\\nsamples = 4\\nvalue = 18000.0'),\n",
              " Text(4.7614717448688255, 21.744, 'mse = 0.0\\nsamples = 1\\nvalue = 20000.0'),\n",
              " Text(4.905758767440608, 21.744, 'area <= 5.88\\nmse = 3555555.556\\nsamples = 3\\nvalue = 17333.333'),\n",
              " Text(4.833615256154716, 7.2479999999999905, 'mse = 0.0\\nsamples = 1\\nvalue = 16000.0'),\n",
              " Text(4.977902278726499, 7.2479999999999905, 'mse = 4000000.0\\nsamples = 2\\nvalue = 18000.0'),\n",
              " Text(5.0500457900123905, 50.73599999999999, 'area <= 5.92\\nmse = 35500000.0\\nsamples = 4\\nvalue = 22000.0'),\n",
              " Text(4.977902278726499, 36.23999999999998, 'mse = 0.0\\nsamples = 1\\nvalue = 32000.0'),\n",
              " Text(5.122189301298282, 36.23999999999998, 'locality <= 558.5\\nmse = 2888888.889\\nsamples = 3\\nvalue = 18666.667'),\n",
              " Text(5.0500457900123905, 21.744, 'mse = 0.0\\nsamples = 1\\nvalue = 21000.0'),\n",
              " Text(5.194332812584173, 21.744, 'locality <= 694.0\\nmse = 250000.0\\nsamples = 2\\nvalue = 17500.0'),\n",
              " Text(5.122189301298282, 7.2479999999999905, 'mse = 0.0\\nsamples = 1\\nvalue = 18000.0'),\n",
              " Text(5.266476323870064, 7.2479999999999905, 'mse = 0.0\\nsamples = 1\\nvalue = 17000.0'),\n",
              " Text(8.847725313796262, 123.216, 'locality <= 748.0\\nmse = 174849684.529\\nsamples = 94\\nvalue = 29545.213'),\n",
              " Text(7.811789581425416, 108.72, 'bathroom_num <= 1.207\\nmse = 151356932.884\\nsamples = 87\\nvalue = 28221.264'),\n",
              " Text(6.849124602704304, 94.22399999999999, 'locality <= 298.5\\nmse = 122519167.824\\nsamples = 71\\nvalue = 26764.085'),\n",
              " Text(6.159252276032969, 79.72799999999998, 'locality <= 202.5\\nmse = 91670360.111\\nsamples = 38\\nvalue = 23026.316'),\n",
              " Text(5.609158002478048, 65.232, 'locality <= 32.5\\nmse = 82818668.252\\nsamples = 29\\nvalue = 25482.759'),\n",
              " Text(5.3386198351559555, 50.73599999999999, 'area <= 6.05\\nmse = 65805555.556\\nsamples = 6\\nvalue = 18833.333'),\n",
              " Text(5.266476323870064, 36.23999999999998, 'mse = 49000000.0\\nsamples = 2\\nvalue = 25000.0'),\n",
              " Text(5.410763346441847, 36.23999999999998, 'locality <= 16.5\\nmse = 45687500.0\\nsamples = 4\\nvalue = 15750.0'),\n",
              " Text(5.3386198351559555, 21.744, 'mse = 1000000.0\\nsamples = 2\\nvalue = 16000.0'),\n",
              " Text(5.4829068577277384, 21.744, 'mse = 90250000.0\\nsamples = 2\\nvalue = 15500.0'),\n",
              " Text(5.87969616980014, 50.73599999999999, 'locality <= 71.0\\nmse = 72713610.586\\nsamples = 23\\nvalue = 27217.391'),\n",
              " Text(5.699337391585412, 36.23999999999998, 'area <= 6.115\\nmse = 16160000.0\\nsamples = 5\\nvalue = 35800.0'),\n",
              " Text(5.6271938802995205, 21.744, 'locality <= 49.5\\nmse = 14687500.0\\nsamples = 4\\nvalue = 34750.0'),\n",
              " Text(5.555050369013629, 7.2479999999999905, 'mse = 9555555.556\\nsamples = 3\\nvalue = 36333.333'),\n",
              " Text(5.699337391585412, 7.2479999999999905, 'mse = 0.0\\nsamples = 1\\nvalue = 30000.0'),\n",
              " Text(5.771480902871303, 21.744, 'mse = 0.0\\nsamples = 1\\nvalue = 40000.0'),\n",
              " Text(6.060054948014868, 36.23999999999998, 'locality <= 91.0\\nmse = 62277777.778\\nsamples = 18\\nvalue = 24833.333'),\n",
              " Text(5.9157679254430855, 21.744, 'area <= 6.075\\nmse = 3062500.0\\nsamples = 2\\nvalue = 7750.0'),\n",
              " Text(5.843624414157195, 7.2479999999999905, 'mse = 0.0\\nsamples = 1\\nvalue = 9500.0'),\n",
              " Text(5.987911436728977, 7.2479999999999905, 'mse = 0.0\\nsamples = 1\\nvalue = 6000.0'),\n",
              " Text(6.204341970586651, 21.744, 'locality <= 147.0\\nmse = 28639648.438\\nsamples = 16\\nvalue = 26968.75'),\n",
              " Text(6.13219845930076, 7.2479999999999905, 'mse = 14482222.222\\nsamples = 15\\nvalue = 25966.667'),\n",
              " Text(6.276485481872542, 7.2479999999999905, 'mse = 0.0\\nsamples = 1\\nvalue = 42000.0'),\n",
              " Text(6.70934654958789, 65.232, 'area <= 6.127\\nmse = 38098765.432\\nsamples = 9\\nvalue = 15111.111'),\n",
              " Text(6.637203038301998, 50.73599999999999, 'locality <= 268.5\\nmse = 35750000.0\\nsamples = 8\\nvalue = 16000.0'),\n",
              " Text(6.565059527016108, 36.23999999999998, 'area <= 6.058\\nmse = 38244897.959\\nsamples = 7\\nvalue = 15428.571'),\n",
              " Text(6.492916015730216, 21.744, 'area <= 6.022\\nmse = 66687500.0\\nsamples = 4\\nvalue = 15750.0'),\n",
              " Text(6.420772504444325, 7.2479999999999905, 'mse = 1000000.0\\nsamples = 2\\nvalue = 16000.0'),\n",
              " Text(6.565059527016108, 7.2479999999999905, 'mse = 132250000.0\\nsamples = 2\\nvalue = 15500.0'),\n",
              " Text(6.637203038301998, 21.744, 'mse = 0.0\\nsamples = 3\\nvalue = 15000.0'),\n",
              " Text(6.70934654958789, 36.23999999999998, 'mse = 0.0\\nsamples = 1\\nvalue = 20000.0'),\n",
              " Text(6.781490060873781, 50.73599999999999, 'mse = 0.0\\nsamples = 1\\nvalue = 8000.0'),\n",
              " Text(7.53899692937564, 79.72799999999998, 'locality <= 316.5\\nmse = 123429063.361\\nsamples = 33\\nvalue = 31068.182'),\n",
              " Text(7.466853418089748, 65.232, 'mse = 0.0\\nsamples = 2\\nvalue = 50000.0'),\n",
              " Text(7.611140440661531, 65.232, 'area <= 6.058\\nmse = 106776925.078\\nsamples = 31\\nvalue = 29846.774'),\n",
              " Text(7.214351128589129, 50.73599999999999, 'area <= 5.976\\nmse = 34528546.713\\nsamples = 17\\nvalue = 26720.588'),\n",
              " Text(6.925777083445563, 36.23999999999998, 'locality <= 475.5\\nmse = 23187500.0\\nsamples = 4\\nvalue = 22250.0'),\n",
              " Text(6.781490060873781, 21.744, 'locality <= 341.5\\nmse = 25000000.0\\nsamples = 2\\nvalue = 25000.0'),\n",
              " Text(6.70934654958789, 7.2479999999999905, 'mse = 0.0\\nsamples = 1\\nvalue = 20000.0'),\n",
              " Text(6.853633572159673, 7.2479999999999905, 'mse = 0.0\\nsamples = 1\\nvalue = 30000.0'),\n",
              " Text(7.070064106017346, 21.744, 'locality <= 663.0\\nmse = 6250000.0\\nsamples = 2\\nvalue = 19500.0'),\n",
              " Text(6.997920594731455, 7.2479999999999905, 'mse = 0.0\\nsamples = 1\\nvalue = 17000.0'),\n",
              " Text(7.142207617303238, 7.2479999999999905, 'mse = 0.0\\nsamples = 1\\nvalue = 22000.0'),\n",
              " Text(7.502925173732694, 36.23999999999998, 'locality <= 582.0\\nmse = 29976331.361\\nsamples = 13\\nvalue = 28096.154'),\n",
              " Text(7.358638151160911, 21.744, 'locality <= 435.0\\nmse = 22316326.531\\nsamples = 7\\nvalue = 25928.571'),\n",
              " Text(7.28649463987502, 7.2479999999999905, 'mse = 22840000.0\\nsamples = 5\\nvalue = 27100.0'),\n",
              " Text(7.430781662446803, 7.2479999999999905, 'mse = 9000000.0\\nsamples = 2\\nvalue = 23000.0'),\n",
              " Text(7.647212196304476, 21.744, 'area <= 6.004\\nmse = 27036458.333\\nsamples = 6\\nvalue = 30625.0'),\n",
              " Text(7.575068685018586, 7.2479999999999905, 'mse = 9040000.0\\nsamples = 5\\nvalue = 32600.0'),\n",
              " Text(7.719355707590368, 7.2479999999999905, 'mse = 0.0\\nsamples = 1\\nvalue = 20750.0'),\n",
              " Text(8.007929752733933, 50.73599999999999, 'locality <= 456.0\\nmse = 168229591.837\\nsamples = 14\\nvalue = 33642.857'),\n",
              " Text(7.863642730162151, 36.23999999999998, 'area <= 6.087\\nmse = 24250000.0\\nsamples = 8\\nvalue = 28500.0'),\n",
              " Text(7.791499218876259, 21.744, 'mse = 0.0\\nsamples = 1\\nvalue = 19000.0'),\n",
              " Text(7.935786241448042, 21.744, 'area <= 6.137\\nmse = 12979591.837\\nsamples = 7\\nvalue = 29857.143'),\n",
              " Text(7.863642730162151, 7.2479999999999905, 'mse = 10555555.556\\nsamples = 6\\nvalue = 30666.667'),\n",
              " Text(8.007929752733933, 7.2479999999999905, 'mse = 0.0\\nsamples = 1\\nvalue = 25000.0'),\n",
              " Text(8.152216775305716, 36.23999999999998, 'area <= 6.07\\nmse = 277916666.667\\nsamples = 6\\nvalue = 40500.0'),\n",
              " Text(8.080073264019825, 21.744, 'mse = 0.0\\nsamples = 1\\nvalue = 75000.0'),\n",
              " Text(8.224360286591606, 21.744, 'locality <= 600.5\\nmse = 47840000.0\\nsamples = 5\\nvalue = 33600.0'),\n",
              " Text(8.152216775305716, 7.2479999999999905, 'mse = 19187500.0\\nsamples = 4\\nvalue = 30750.0'),\n",
              " Text(8.296503797877499, 7.2479999999999905, 'mse = 0.0\\nsamples = 1\\nvalue = 45000.0'),\n",
              " Text(8.774454560146529, 94.22399999999999, 'area <= 6.046\\nmse = 228089843.75\\nsamples = 16\\nvalue = 34687.5'),\n",
              " Text(8.36864730916339, 79.72799999999998, 'locality <= 64.0\\nmse = 396687500.0\\nsamples = 4\\nvalue = 53250.0'),\n",
              " Text(8.224360286591606, 65.232, 'area <= 6.01\\nmse = 81000000.0\\nsamples = 2\\nvalue = 39000.0'),\n",
              " Text(8.152216775305716, 50.73599999999999, 'mse = 0.0\\nsamples = 1\\nvalue = 30000.0'),\n",
              " Text(8.296503797877499, 50.73599999999999, 'mse = 0.0\\nsamples = 1\\nvalue = 48000.0'),\n",
              " Text(8.512934331735172, 65.232, 'area <= 6.004\\nmse = 306250000.0\\nsamples = 2\\nvalue = 67500.0'),\n",
              " Text(8.440790820449282, 50.73599999999999, 'mse = 0.0\\nsamples = 1\\nvalue = 50000.0'),\n",
              " Text(8.585077843021063, 50.73599999999999, 'mse = 0.0\\nsamples = 1\\nvalue = 85000.0'),\n",
              " Text(9.180261811129666, 79.72799999999998, 'locality <= 301.0\\nmse = 18750000.0\\nsamples = 12\\nvalue = 28500.0'),\n",
              " Text(8.909723643807574, 65.232, 'locality <= 152.5\\nmse = 14489795.918\\nsamples = 7\\nvalue = 26285.714'),\n",
              " Text(8.729364865592846, 50.73599999999999, 'locality <= 64.0\\nmse = 13687500.0\\nsamples = 4\\nvalue = 28250.0'),\n",
              " Text(8.585077843021063, 36.23999999999998, 'locality <= 34.5\\nmse = 4000000.0\\nsamples = 2\\nvalue = 25000.0'),\n",
              " Text(8.512934331735172, 21.744, 'mse = 0.0\\nsamples = 1\\nvalue = 27000.0'),\n",
              " Text(8.657221354306955, 21.744, 'mse = 0.0\\nsamples = 1\\nvalue = 23000.0'),\n",
              " Text(8.873651888164629, 36.23999999999998, 'locality <= 108.5\\nmse = 2250000.0\\nsamples = 2\\nvalue = 31500.0'),\n",
              " Text(8.801508376878738, 21.744, 'mse = 0.0\\nsamples = 1\\nvalue = 30000.0'),\n",
              " Text(8.94579539945052, 21.744, 'mse = 0.0\\nsamples = 1\\nvalue = 33000.0'),\n",
              " Text(9.090082422022302, 50.73599999999999, 'locality <= 283.0\\nmse = 3555555.556\\nsamples = 3\\nvalue = 23666.667'),\n",
              " Text(9.017938910736412, 36.23999999999998, 'mse = 0.0\\nsamples = 2\\nvalue = 25000.0'),\n",
              " Text(9.162225933308195, 36.23999999999998, 'mse = 0.0\\nsamples = 1\\nvalue = 21000.0'),\n",
              " Text(9.450799978451759, 65.232, 'locality <= 734.0\\nmse = 8240000.0\\nsamples = 5\\nvalue = 31600.0'),\n",
              " Text(9.378656467165868, 50.73599999999999, 'locality <= 329.0\\nmse = 6250000.0\\nsamples = 4\\nvalue = 32500.0'),\n",
              " Text(9.306512955879976, 36.23999999999998, 'mse = 0.0\\nsamples = 1\\nvalue = 35000.0'),\n",
              " Text(9.450799978451759, 36.23999999999998, 'bedroom_num <= 1.5\\nmse = 5555555.556\\nsamples = 3\\nvalue = 31666.667'),\n",
              " Text(9.378656467165868, 21.744, 'mse = 0.0\\nsamples = 2\\nvalue = 30000.0'),\n",
              " Text(9.522943489737651, 21.744, 'mse = 0.0\\nsamples = 1\\nvalue = 35000.0'),\n",
              " Text(9.522943489737651, 50.73599999999999, 'mse = 0.0\\nsamples = 1\\nvalue = 28000.0'),\n",
              " Text(9.883661046167108, 108.72, 'bathroom_num <= 1.207\\nmse = 174285714.286\\nsamples = 7\\nvalue = 46000.0'),\n",
              " Text(9.739374023595325, 94.22399999999999, 'locality <= 762.0\\nmse = 150640000.0\\nsamples = 5\\nvalue = 41600.0'),\n",
              " Text(9.667230512309432, 79.72799999999998, 'mse = 0.0\\nsamples = 1\\nvalue = 32000.0'),\n",
              " Text(9.811517534881215, 79.72799999999998, 'locality <= 776.0\\nmse = 159500000.0\\nsamples = 4\\nvalue = 44000.0'),\n",
              " Text(9.739374023595325, 65.232, 'area <= 6.025\\nmse = 190888888.889\\nsamples = 3\\nvalue = 46333.333'),\n",
              " Text(9.667230512309432, 50.73599999999999, 'mse = 0.0\\nsamples = 1\\nvalue = 42000.0'),\n",
              " Text(9.811517534881215, 50.73599999999999, 'mse = 272250000.0\\nsamples = 2\\nvalue = 48500.0'),\n",
              " Text(9.883661046167108, 65.232, 'mse = 0.0\\nsamples = 1\\nvalue = 37000.0'),\n",
              " Text(10.027948068738889, 94.22399999999999, 'area <= 6.05\\nmse = 64000000.0\\nsamples = 2\\nvalue = 57000.0'),\n",
              " Text(9.955804557452998, 79.72799999999998, 'mse = 0.0\\nsamples = 1\\nvalue = 65000.0'),\n",
              " Text(10.100091580024781, 79.72799999999998, 'mse = 0.0\\nsamples = 1\\nvalue = 49000.0'),\n",
              " Text(30.03480916338954, 152.208, 'area <= 6.55\\nmse = 332787702.094\\nsamples = 1454\\nvalue = 41638.196'),\n",
              " Text(23.867102569627754, 137.712, 'bathroom_num <= 1.207\\nmse = 320541155.627\\nsamples = 1181\\nvalue = 39768.12'),\n",
              " Text(17.11604805257771, 123.216, 'area <= 6.393\\nmse = 388956302.971\\nsamples = 620\\nvalue = 43046.942'),\n",
              " Text(13.87409901416797, 108.72, 'area <= 6.314\\nmse = 290559410.757\\nsamples = 292\\nvalue = 39073.281'),\n",
              " Text(12.06149329310995, 94.22399999999999, 'area <= 6.3\\nmse = 315502350.477\\nsamples = 214\\nvalue = 41018.215'),\n",
              " Text(10.90268814308032, 79.72799999999998, 'locality <= 527.0\\nmse = 290023062.683\\nsamples = 103\\nvalue = 36290.272'),\n",
              " Text(10.406701502989819, 65.232, 'locality <= 451.0\\nmse = 263117689.345\\nsamples = 62\\nvalue = 33216.097'),\n",
              " Text(10.064019824381836, 50.73599999999999, 'area <= 6.275\\nmse = 253292166.348\\nsamples = 52\\nvalue = 35853.808'),\n",
              " Text(9.811517534881215, 36.23999999999998, 'locality <= 143.0\\nmse = 294596337.286\\nsamples = 37\\nvalue = 39362.108'),\n",
              " Text(9.667230512309432, 21.744, 'locality <= 63.5\\nmse = 425758651.172\\nsamples = 13\\nvalue = 46384.462'),\n",
              " Text(9.595087001023542, 7.2479999999999905, 'mse = 30888888.889\\nsamples = 3\\nvalue = 32333.333'),\n",
              " Text(9.739374023595325, 7.2479999999999905, 'mse = 467220240.36\\nsamples = 10\\nvalue = 50599.8'),\n",
              " Text(9.955804557452998, 21.744, 'locality <= 339.0\\nmse = 182369930.556\\nsamples = 24\\nvalue = 35558.333'),\n",
              " Text(9.883661046167108, 7.2479999999999905, 'mse = 100300826.446\\nsamples = 11\\nvalue = 28490.909'),\n",
              " Text(10.027948068738889, 7.2479999999999905, 'mse = 173786982.249\\nsamples = 13\\nvalue = 41538.462'),\n",
              " Text(10.316522113882455, 36.23999999999998, 'area <= 6.292\\nmse = 46160000.0\\nsamples = 15\\nvalue = 27200.0'),\n",
              " Text(10.244378602596564, 21.744, 'locality <= 16.0\\nmse = 31775510.204\\nsamples = 14\\nvalue = 28285.714'),\n",
              " Text(10.172235091310672, 7.2479999999999905, 'mse = 666666.667\\nsamples = 3\\nvalue = 22000.0'),\n",
              " Text(10.316522113882455, 7.2479999999999905, 'mse = 26545454.545\\nsamples = 11\\nvalue = 30000.0'),\n",
              " Text(10.388665625168345, 21.744, 'mse = 0.0\\nsamples = 1\\nvalue = 12000.0'),\n",
              " Text(10.749383181597802, 50.73599999999999, 'locality <= 518.0\\nmse = 89900000.0\\nsamples = 10\\nvalue = 19500.0'),\n",
              " Text(10.677239670311911, 36.23999999999998, 'locality <= 469.5\\nmse = 62080246.914\\nsamples = 9\\nvalue = 17555.556'),\n",
              " Text(10.532952647740128, 21.744, 'locality <= 462.5\\nmse = 10562500.0\\nsamples = 2\\nvalue = 8750.0'),\n",
              " Text(10.460809136454237, 7.2479999999999905, 'mse = 0.0\\nsamples = 1\\nvalue = 12000.0'),\n",
              " Text(10.60509615902602, 7.2479999999999905, 'mse = 0.0\\nsamples = 1\\nvalue = 5500.0'),\n",
              " Text(10.821526692883694, 21.744, 'locality <= 480.0\\nmse = 48316326.531\\nsamples = 7\\nvalue = 20071.429'),\n",
              " Text(10.749383181597802, 7.2479999999999905, 'mse = 4960000.0\\nsamples = 5\\nvalue = 24300.0'),\n",
              " Text(10.893670204169585, 7.2479999999999905, 'mse = 250000.0\\nsamples = 2\\nvalue = 9500.0'),\n",
              " Text(10.821526692883694, 36.23999999999998, 'mse = 0.0\\nsamples = 1\\nvalue = 37000.0'),\n",
              " Text(11.398674783170824, 65.232, 'locality <= 555.5\\nmse = 294807257.585\\nsamples = 41\\nvalue = 40939.024'),\n",
              " Text(11.110100738027258, 50.73599999999999, 'locality <= 542.0\\nmse = 376296875.0\\nsamples = 4\\nvalue = 68875.0'),\n",
              " Text(11.037957226741367, 36.23999999999998, 'area <= 6.244\\nmse = 71166666.667\\nsamples = 3\\nvalue = 58500.0'),\n",
              " Text(10.965813715455477, 21.744, 'mse = 39062500.0\\nsamples = 2\\nvalue = 53750.0'),\n",
              " Text(11.110100738027258, 21.744, 'mse = 0.0\\nsamples = 1\\nvalue = 68000.0'),\n",
              " Text(11.18224424931315, 36.23999999999998, 'mse = 0.0\\nsamples = 1\\nvalue = 100000.0'),\n",
              " Text(11.68724882831439, 50.73599999999999, 'locality <= 613.5\\nmse = 192506939.372\\nsamples = 37\\nvalue = 37918.919'),\n",
              " Text(11.398674783170824, 36.23999999999998, 'locality <= 580.5\\nmse = 17609375.0\\nsamples = 8\\nvalue = 25875.0'),\n",
              " Text(11.254387760599041, 21.744, 'area <= 6.244\\nmse = 7040000.0\\nsamples = 5\\nvalue = 28400.0'),\n",
              " Text(11.18224424931315, 7.2479999999999905, 'mse = 4000000.0\\nsamples = 2\\nvalue = 26000.0'),\n",
              " Text(11.326531271884933, 7.2479999999999905, 'mse = 2666666.667\\nsamples = 3\\nvalue = 30000.0'),\n",
              " Text(11.542961805742607, 21.744, 'area <= 6.277\\nmse = 6888888.889\\nsamples = 3\\nvalue = 21666.667'),\n",
              " Text(11.470818294456715, 7.2479999999999905, 'mse = 0.0\\nsamples = 1\\nvalue = 18000.0'),\n",
              " Text(11.615105317028497, 7.2479999999999905, 'mse = 250000.0\\nsamples = 2\\nvalue = 23500.0'),\n",
              " Text(11.975822873457954, 36.23999999999998, 'area <= 6.205\\nmse = 189700356.718\\nsamples = 29\\nvalue = 41241.379'),\n",
              " Text(11.831535850886171, 21.744, 'area <= 6.172\\nmse = 99888888.889\\nsamples = 6\\nvalue = 30666.667'),\n",
              " Text(11.75939233960028, 7.2479999999999905, 'mse = 156250000.0\\nsamples = 2\\nvalue = 21500.0'),\n",
              " Text(11.903679362172063, 7.2479999999999905, 'mse = 8687500.0\\nsamples = 4\\nvalue = 35250.0'),\n",
              " Text(12.120109896029737, 21.744, 'area <= 6.268\\nmse = 176347826.087\\nsamples = 23\\nvalue = 44000.0'),\n",
              " Text(12.047966384743846, 7.2479999999999905, 'mse = 173990929.705\\nsamples = 21\\nvalue = 45238.095'),\n",
              " Text(12.192253407315627, 7.2479999999999905, 'mse = 16000000.0\\nsamples = 2\\nvalue = 31000.0'),\n",
              " Text(13.22029844313958, 79.72799999999998, 'locality <= 550.5\\nmse = 299155466.277\\nsamples = 111\\nvalue = 45405.405'),\n",
              " Text(12.805473253245705, 65.232, 'locality <= 484.5\\nmse = 324259724.251\\nsamples = 74\\nvalue = 47979.73'),\n",
              " Text(12.625114475030976, 50.73599999999999, 'locality <= 466.0\\nmse = 318851711.825\\nsamples = 69\\nvalue = 46775.362'),\n",
              " Text(12.552970963745084, 36.23999999999998, 'locality <= 339.0\\nmse = 306330251.726\\nsamples = 67\\nvalue = 47574.627'),\n",
              " Text(12.408683941173303, 21.744, 'locality <= 165.0\\nmse = 269998024.691\\nsamples = 45\\nvalue = 44544.444'),\n",
              " Text(12.33654042988741, 7.2479999999999905, 'mse = 271819166.667\\nsamples = 30\\nvalue = 49650.0'),\n",
              " Text(12.480827452459193, 7.2479999999999905, 'mse = 109955555.556\\nsamples = 15\\nvalue = 34333.333'),\n",
              " Text(12.697257986316867, 21.744, 'locality <= 361.0\\nmse = 323448347.107\\nsamples = 22\\nvalue = 53772.727'),\n",
              " Text(12.625114475030976, 7.2479999999999905, 'mse = 165209876.543\\nsamples = 9\\nvalue = 64111.111'),\n",
              " Text(12.76940149760276, 7.2479999999999905, 'mse = 307775147.929\\nsamples = 13\\nvalue = 46615.385'),\n",
              " Text(12.697257986316867, 36.23999999999998, 'mse = 0.0\\nsamples = 2\\nvalue = 20000.0'),\n",
              " Text(12.985832031460433, 50.73599999999999, 'locality <= 533.5\\nmse = 102640000.0\\nsamples = 5\\nvalue = 64600.0'),\n",
              " Text(12.91368852017454, 36.23999999999998, 'locality <= 513.0\\nmse = 116666666.667\\nsamples = 3\\nvalue = 60000.0'),\n",
              " Text(12.84154500888865, 21.744, 'mse = 0.0\\nsamples = 1\\nvalue = 65000.0'),\n",
              " Text(12.985832031460433, 21.744, 'mse = 156250000.0\\nsamples = 2\\nvalue = 57500.0'),\n",
              " Text(13.057975542746323, 36.23999999999998, 'mse = 2250000.0\\nsamples = 2\\nvalue = 71500.0'),\n",
              " Text(13.635123633033453, 65.232, 'locality <= 766.0\\nmse = 209184075.968\\nsamples = 37\\nvalue = 40256.757'),\n",
              " Text(13.34654958788989, 50.73599999999999, 'locality <= 715.0\\nmse = 147957589.286\\nsamples = 28\\nvalue = 35875.0'),\n",
              " Text(13.202262565318106, 36.23999999999998, 'locality <= 704.5\\nmse = 128526465.028\\nsamples = 23\\nvalue = 38369.565'),\n",
              " Text(13.130119054032216, 21.744, 'locality <= 666.5\\nmse = 100667871.901\\nsamples = 22\\nvalue = 37159.091'),\n",
              " Text(13.057975542746323, 7.2479999999999905, 'mse = 95351800.554\\nsamples = 19\\nvalue = 38736.842'),\n",
              " Text(13.202262565318106, 7.2479999999999905, 'mse = 18722222.222\\nsamples = 3\\nvalue = 27166.667'),\n",
              " Text(13.274406076603997, 21.744, 'mse = 0.0\\nsamples = 1\\nvalue = 65000.0'),\n",
              " Text(13.490836610461672, 36.23999999999998, 'locality <= 758.5\\nmse = 77040000.0\\nsamples = 5\\nvalue = 24400.0'),\n",
              " Text(13.41869309917578, 21.744, 'locality <= 744.0\\nmse = 67500000.0\\nsamples = 4\\nvalue = 22000.0'),\n",
              " Text(13.34654958788989, 7.2479999999999905, 'mse = 14888888.889\\nsamples = 3\\nvalue = 26333.333'),\n",
              " Text(13.490836610461672, 7.2479999999999905, 'mse = 0.0\\nsamples = 1\\nvalue = 9000.0'),\n",
              " Text(13.562980121747563, 21.744, 'mse = 0.0\\nsamples = 1\\nvalue = 34000.0'),\n",
              " Text(13.92369767817702, 50.73599999999999, 'locality <= 772.0\\nmse = 154098765.432\\nsamples = 9\\nvalue = 53888.889'),\n",
              " Text(13.779410655605236, 36.23999999999998, 'locality <= 768.5\\nmse = 16666666.667\\nsamples = 3\\nvalue = 65000.0'),\n",
              " Text(13.707267144319346, 21.744, 'mse = 0.0\\nsamples = 1\\nvalue = 70000.0'),\n",
              " Text(13.851554166891127, 21.744, 'mse = 6250000.0\\nsamples = 2\\nvalue = 62500.0'),\n",
              " Text(14.067984700748802, 36.23999999999998, 'locality <= 778.0\\nmse = 130222222.222\\nsamples = 6\\nvalue = 48333.333'),\n",
              " Text(13.99584118946291, 21.744, 'mse = 154687500.0\\nsamples = 4\\nvalue = 51250.0'),\n",
              " Text(14.140128212034693, 21.744, 'mse = 30250000.0\\nsamples = 2\\nvalue = 42500.0'),\n",
              " Text(15.686704735225987, 94.22399999999999, 'area <= 6.35\\nmse = 183273874.096\\nsamples = 78\\nvalue = 33737.179'),\n",
              " Text(14.843527447072132, 79.72799999999998, 'locality <= 18.0\\nmse = 104585858.586\\nsamples = 33\\nvalue = 29333.333'),\n",
              " Text(14.771383935786242, 65.232, 'mse = 489795.918\\nsamples = 7\\nvalue = 22285.714'),\n",
              " Text(14.915670958358024, 65.232, 'locality <= 408.0\\nmse = 115639053.254\\nsamples = 26\\nvalue = 31230.769'),\n",
              " Text(14.609061035392987, 50.73599999999999, 'locality <= 308.0\\nmse = 77010000.0\\nsamples = 10\\nvalue = 37300.0'),\n",
              " Text(14.428702257178259, 36.23999999999998, 'locality <= 197.5\\nmse = 124160000.0\\nsamples = 5\\nvalue = 34200.0'),\n",
              " Text(14.284415234606476, 21.744, 'locality <= 89.0\\nmse = 34888888.889\\nsamples = 3\\nvalue = 41666.667'),\n",
              " Text(14.212271723320583, 7.2479999999999905, 'mse = 250000.0\\nsamples = 2\\nvalue = 37500.0'),\n",
              " Text(14.356558745892366, 7.2479999999999905, 'mse = 0.0\\nsamples = 1\\nvalue = 50000.0'),\n",
              " Text(14.57298927975004, 21.744, 'area <= 6.337\\nmse = 49000000.0\\nsamples = 2\\nvalue = 23000.0'),\n",
              " Text(14.50084576846415, 7.2479999999999905, 'mse = 0.0\\nsamples = 1\\nvalue = 16000.0'),\n",
              " Text(14.645132791035932, 7.2479999999999905, 'mse = 0.0\\nsamples = 1\\nvalue = 30000.0'),\n",
              " Text(14.789419813607715, 36.23999999999998, 'area <= 6.323\\nmse = 10640000.0\\nsamples = 5\\nvalue = 40400.0'),\n",
              " Text(14.717276302321823, 21.744, 'mse = 6250000.0\\nsamples = 2\\nvalue = 42500.0'),\n",
              " Text(14.861563324893606, 21.744, 'locality <= 355.5\\nmse = 8666666.667\\nsamples = 3\\nvalue = 39000.0'),\n",
              " Text(14.789419813607715, 7.2479999999999905, 'mse = 0.0\\nsamples = 1\\nvalue = 42000.0'),\n",
              " Text(14.933706836179496, 7.2479999999999905, 'mse = 6250000.0\\nsamples = 2\\nvalue = 37500.0'),\n",
              " Text(15.222280881323062, 50.73599999999999, 'locality <= 705.0\\nmse = 102371093.75\\nsamples = 16\\nvalue = 27437.5'),\n",
              " Text(15.07799385875128, 36.23999999999998, 'area <= 6.323\\nmse = 75743055.556\\nsamples = 12\\nvalue = 23583.333'),\n",
              " Text(15.005850347465389, 21.744, 'mse = 0.0\\nsamples = 2\\nvalue = 32000.0'),\n",
              " Text(15.150137370037172, 21.744, 'area <= 6.332\\nmse = 73890000.0\\nsamples = 10\\nvalue = 21900.0'),\n",
              " Text(15.07799385875128, 7.2479999999999905, 'mse = 121360000.0\\nsamples = 5\\nvalue = 18800.0'),\n",
              " Text(15.222280881323062, 7.2479999999999905, 'mse = 7200000.0\\nsamples = 5\\nvalue = 25000.0'),\n",
              " Text(15.366567903894845, 36.23999999999998, 'locality <= 739.0\\nmse = 4000000.0\\nsamples = 4\\nvalue = 39000.0'),\n",
              " Text(15.294424392608953, 21.744, 'mse = 0.0\\nsamples = 1\\nvalue = 41000.0'),\n",
              " Text(15.438711415180736, 21.744, 'area <= 6.323\\nmse = 3555555.556\\nsamples = 3\\nvalue = 38333.333'),\n",
              " Text(15.366567903894845, 7.2479999999999905, 'mse = 0.0\\nsamples = 1\\nvalue = 41000.0'),\n",
              " Text(15.510854926466628, 7.2479999999999905, 'mse = 0.0\\nsamples = 2\\nvalue = 37000.0'),\n",
              " Text(16.52988202337984, 79.72799999999998, 'area <= 6.384\\nmse = 216326666.667\\nsamples = 45\\nvalue = 36966.667'),\n",
              " Text(16.178182405861122, 65.232, 'area <= 6.373\\nmse = 226550624.589\\nsamples = 39\\nvalue = 38641.026'),\n",
              " Text(15.90764423853903, 50.73599999999999, 'locality <= 69.5\\nmse = 215945714.286\\nsamples = 35\\nvalue = 37200.0'),\n",
              " Text(15.65514194903841, 36.23999999999998, 'area <= 6.36\\nmse = 386000000.0\\nsamples = 5\\nvalue = 48000.0'),\n",
              " Text(15.582998437752519, 21.744, 'mse = 0.0\\nsamples = 1\\nvalue = 85000.0'),\n",
              " Text(15.727285460324302, 21.744, 'locality <= 48.0\\nmse = 54687500.0\\nsamples = 4\\nvalue = 38750.0'),\n",
              " Text(15.65514194903841, 7.2479999999999905, 'mse = 6250000.0\\nsamples = 2\\nvalue = 32500.0'),\n",
              " Text(15.799428971610192, 7.2479999999999905, 'mse = 25000000.0\\nsamples = 2\\nvalue = 45000.0'),\n",
              " Text(16.16014652803965, 36.23999999999998, 'locality <= 504.0\\nmse = 164923333.333\\nsamples = 30\\nvalue = 35400.0'),\n",
              " Text(16.015859505467866, 21.744, 'area <= 6.359\\nmse = 101761245.675\\nsamples = 17\\nvalue = 32558.824'),\n",
              " Text(15.943715994181975, 7.2479999999999905, 'mse = 118360000.0\\nsamples = 10\\nvalue = 36200.0'),\n",
              " Text(16.088003016753756, 7.2479999999999905, 'mse = 32051020.408\\nsamples = 7\\nvalue = 27357.143'),\n",
              " Text(16.30443355061143, 21.744, 'locality <= 576.0\\nmse = 223159763.314\\nsamples = 13\\nvalue = 39115.385'),\n",
              " Text(16.23229003932554, 7.2479999999999905, 'mse = 127250000.0\\nsamples = 4\\nvalue = 54500.0'),\n",
              " Text(16.376577061897322, 7.2479999999999905, 'mse = 113839506.173\\nsamples = 9\\nvalue = 32277.778'),\n",
              " Text(16.448720573183213, 50.73599999999999, 'locality <= 112.0\\nmse = 142187500.0\\nsamples = 4\\nvalue = 51250.0'),\n",
              " Text(16.376577061897322, 36.23999999999998, 'mse = 0.0\\nsamples = 1\\nvalue = 35000.0'),\n",
              " Text(16.520864084469107, 36.23999999999998, 'locality <= 343.5\\nmse = 72222222.222\\nsamples = 3\\nvalue = 56666.667'),\n",
              " Text(16.448720573183213, 21.744, 'mse = 0.0\\nsamples = 1\\nvalue = 65000.0'),\n",
              " Text(16.593007595754997, 21.744, 'locality <= 640.5\\nmse = 56250000.0\\nsamples = 2\\nvalue = 52500.0'),\n",
              " Text(16.520864084469107, 7.2479999999999905, 'mse = 0.0\\nsamples = 1\\nvalue = 45000.0'),\n",
              " Text(16.665151107040888, 7.2479999999999905, 'mse = 0.0\\nsamples = 1\\nvalue = 60000.0'),\n",
              " Text(16.881581640898563, 65.232, 'locality <= 144.5\\nmse = 13201388.889\\nsamples = 6\\nvalue = 26083.333'),\n",
              " Text(16.80943812961267, 50.73599999999999, 'mse = 0.0\\nsamples = 2\\nvalue = 23000.0'),\n",
              " Text(16.953725152184454, 50.73599999999999, 'locality <= 505.5\\nmse = 12671875.0\\nsamples = 4\\nvalue = 27625.0'),\n",
              " Text(16.80943812961267, 36.23999999999998, 'locality <= 298.5\\nmse = 1000000.0\\nsamples = 2\\nvalue = 31000.0'),\n",
              " Text(16.73729461832678, 21.744, 'mse = 0.0\\nsamples = 1\\nvalue = 32000.0'),\n",
              " Text(16.881581640898563, 21.744, 'mse = 0.0\\nsamples = 1\\nvalue = 30000.0'),\n",
              " Text(17.098012174756235, 36.23999999999998, 'locality <= 679.0\\nmse = 1562500.0\\nsamples = 2\\nvalue = 24250.0'),\n",
              " Text(17.025868663470344, 21.744, 'mse = 0.0\\nsamples = 1\\nvalue = 23000.0'),\n",
              " Text(17.170155686042126, 21.744, 'mse = 0.0\\nsamples = 1\\nvalue = 25500.0'),\n",
              " Text(20.35799709098745, 108.72, 'locality <= 423.0\\nmse = 449982499.158\\nsamples = 328\\nvalue = 46584.47'),\n",
              " Text(18.761821903787105, 94.22399999999999, 'locality <= 420.5\\nmse = 520271984.119\\nsamples = 202\\nvalue = 50419.802'),\n",
              " Text(18.044895760383557, 79.72799999999998, 'locality <= 20.0\\nmse = 486189671.532\\nsamples = 195\\nvalue = 49127.179'),\n",
              " Text(17.45872973118569, 65.232, 'locality <= 10.5\\nmse = 1108472222.222\\nsamples = 6\\nvalue = 72833.333'),\n",
              " Text(17.31444270861391, 50.73599999999999, 'area <= 6.421\\nmse = 2250000.0\\nsamples = 2\\nvalue = 28500.0'),\n",
              " Text(17.24229919732802, 36.23999999999998, 'mse = 0.0\\nsamples = 1\\nvalue = 30000.0'),\n",
              " Text(17.3865862198998, 36.23999999999998, 'mse = 0.0\\nsamples = 1\\nvalue = 27000.0'),\n",
              " Text(17.603016753757476, 50.73599999999999, 'area <= 6.437\\nmse = 187500000.0\\nsamples = 4\\nvalue = 95000.0'),\n",
              " Text(17.530873242471582, 36.23999999999998, 'mse = 0.0\\nsamples = 1\\nvalue = 115000.0'),\n",
              " Text(17.675160265043367, 36.23999999999998, 'mse = 72222222.222\\nsamples = 3\\nvalue = 88333.333'),\n",
              " Text(18.631061789581427, 65.232, 'locality <= 49.0\\nmse = 448027608.97\\nsamples = 189\\nvalue = 48374.603'),\n",
              " Text(18.071949577115767, 50.73599999999999, 'locality <= 32.5\\nmse = 39450872.36\\nsamples = 33\\nvalue = 36393.939'),\n",
              " Text(17.819447287615148, 36.23999999999998, 'locality <= 25.5\\nmse = 30743801.653\\nsamples = 11\\nvalue = 32727.273'),\n",
              " Text(17.747303776329257, 21.744, 'mse = 0.0\\nsamples = 1\\nvalue = 22000.0'),\n",
              " Text(17.89159079890104, 21.744, 'area <= 6.496\\nmse = 21160000.0\\nsamples = 10\\nvalue = 33800.0'),\n",
              " Text(17.819447287615148, 7.2479999999999905, 'mse = 19937500.0\\nsamples = 8\\nvalue = 32750.0'),\n",
              " Text(17.963734310186933, 7.2479999999999905, 'mse = 4000000.0\\nsamples = 2\\nvalue = 38000.0'),\n",
              " Text(18.32445186661639, 36.23999999999998, 'area <= 6.417\\nmse = 33721074.38\\nsamples = 22\\nvalue = 38227.273'),\n",
              " Text(18.180164844044604, 21.744, 'bedroom_num <= 1.5\\nmse = 36839506.173\\nsamples = 9\\nvalue = 36777.778'),\n",
              " Text(18.108021332758714, 7.2479999999999905, 'mse = 40359375.0\\nsamples = 8\\nvalue = 37125.0'),\n",
              " Text(18.252308355330495, 7.2479999999999905, 'mse = 0.0\\nsamples = 1\\nvalue = 34000.0'),\n",
              " Text(18.46873888918817, 21.744, 'bedroom_num <= 1.5\\nmse = 29100591.716\\nsamples = 13\\nvalue = 39230.769'),\n",
              " Text(18.39659537790228, 7.2479999999999905, 'mse = 21055555.556\\nsamples = 12\\nvalue = 38333.333'),\n",
              " Text(18.54088240047406, 7.2479999999999905, 'mse = 0.0\\nsamples = 1\\nvalue = 50000.0'),\n",
              " Text(19.190174002047083, 50.73599999999999, 'locality <= 150.0\\nmse = 497670816.897\\nsamples = 156\\nvalue = 50908.974'),\n",
              " Text(18.901599956903517, 36.23999999999998, 'locality <= 137.5\\nmse = 531371406.798\\nsamples = 81\\nvalue = 56991.358'),\n",
              " Text(18.757312934331736, 21.744, 'locality <= 66.5\\nmse = 544183516.231\\nsamples = 59\\nvalue = 51649.153'),\n",
              " Text(18.685169423045846, 7.2479999999999905, 'mse = 97689981.096\\nsamples = 23\\nvalue = 64304.348'),\n",
              " Text(18.829456445617627, 7.2479999999999905, 'mse = 661751195.988\\nsamples = 36\\nvalue = 43563.889'),\n",
              " Text(19.045886979475302, 21.744, 'area <= 6.496\\nmse = 215216942.149\\nsamples = 22\\nvalue = 71318.182'),\n",
              " Text(18.973743468189408, 7.2479999999999905, 'mse = 167357340.72\\nsamples = 19\\nvalue = 68105.263'),\n",
              " Text(19.118030490761193, 7.2479999999999905, 'mse = 38888888.889\\nsamples = 3\\nvalue = 91666.667'),\n",
              " Text(19.47874804719065, 36.23999999999998, 'locality <= 261.0\\nmse = 378167733.333\\nsamples = 75\\nvalue = 44340.0'),\n",
              " Text(19.334461024618864, 21.744, 'locality <= 165.0\\nmse = 142140589.569\\nsamples = 21\\nvalue = 33952.381'),\n",
              " Text(19.262317513332974, 7.2479999999999905, 'mse = 115840000.0\\nsamples = 5\\nvalue = 48600.0'),\n",
              " Text(19.40660453590476, 7.2479999999999905, 'mse = 62359375.0\\nsamples = 16\\nvalue = 29375.0'),\n",
              " Text(19.62303506976243, 21.744, 'locality <= 380.5\\nmse = 411675325.789\\nsamples = 54\\nvalue = 48379.63'),\n",
              " Text(19.55089155847654, 7.2479999999999905, 'mse = 564219166.667\\nsamples = 30\\nvalue = 53150.0'),\n",
              " Text(19.69517858104832, 7.2479999999999905, 'mse = 156993055.556\\nsamples = 24\\nvalue = 42416.667'),\n",
              " Text(19.47874804719065, 79.72799999999998, 'bedroom_num <= 1.5\\nmse = 126530612.245\\nsamples = 7\\nvalue = 86428.571'),\n",
              " Text(19.40660453590476, 65.232, 'area <= 6.437\\nmse = 39583333.333\\nsamples = 6\\nvalue = 82500.0'),\n",
              " Text(19.334461024618864, 50.73599999999999, 'mse = 38888888.889\\nsamples = 3\\nvalue = 81666.667'),\n",
              " Text(19.47874804719065, 50.73599999999999, 'mse = 38888888.889\\nsamples = 3\\nvalue = 83333.333'),\n",
              " Text(19.55089155847654, 65.232, 'mse = 0.0\\nsamples = 1\\nvalue = 110000.0'),\n",
              " Text(21.954172278187794, 94.22399999999999, 'locality <= 495.5\\nmse = 275907238.832\\nsamples = 126\\nvalue = 40435.762'),\n",
              " Text(20.85849270053332, 79.72799999999998, 'locality <= 452.5\\nmse = 207576599.287\\nsamples = 29\\nvalue = 30317.241'),\n",
              " Text(20.38054193826429, 65.232, 'locality <= 441.0\\nmse = 35189043.21\\nsamples = 18\\nvalue = 35638.889'),\n",
              " Text(20.12803964876367, 50.73599999999999, 'locality <= 435.0\\nmse = 17021683.673\\nsamples = 14\\nvalue = 33321.429'),\n",
              " Text(19.983752626191887, 36.23999999999998, 'locality <= 429.5\\nmse = 14362500.0\\nsamples = 10\\nvalue = 34750.0'),\n",
              " Text(19.911609114905996, 21.744, 'area <= 6.488\\nmse = 12555555.556\\nsamples = 9\\nvalue = 34166.667'),\n",
              " Text(19.839465603620106, 7.2479999999999905, 'mse = 13805555.556\\nsamples = 6\\nvalue = 34833.333'),\n",
              " Text(19.983752626191887, 7.2479999999999905, 'mse = 7388888.889\\nsamples = 3\\nvalue = 32833.333'),\n",
              " Text(20.055896137477777, 21.744, 'mse = 0.0\\nsamples = 1\\nvalue = 40000.0'),\n",
              " Text(20.272326671335453, 36.23999999999998, 'area <= 6.417\\nmse = 5812500.0\\nsamples = 4\\nvalue = 29750.0'),\n",
              " Text(20.200183160049562, 21.744, 'mse = 0.0\\nsamples = 1\\nvalue = 33500.0'),\n",
              " Text(20.344470182621343, 21.744, 'area <= 6.457\\nmse = 1500000.0\\nsamples = 3\\nvalue = 28500.0'),\n",
              " Text(20.272326671335453, 7.2479999999999905, 'mse = 0.0\\nsamples = 1\\nvalue = 27000.0'),\n",
              " Text(20.416613693907234, 7.2479999999999905, 'mse = 562500.0\\nsamples = 2\\nvalue = 29250.0'),\n",
              " Text(20.63304422776491, 50.73599999999999, 'locality <= 447.5\\nmse = 14187500.0\\nsamples = 4\\nvalue = 43750.0'),\n",
              " Text(20.56090071647902, 36.23999999999998, 'area <= 6.437\\nmse = 12666666.667\\nsamples = 3\\nvalue = 45000.0'),\n",
              " Text(20.488757205193128, 21.744, 'mse = 12250000.0\\nsamples = 2\\nvalue = 46500.0'),\n",
              " Text(20.63304422776491, 21.744, 'mse = 0.0\\nsamples = 1\\nvalue = 42000.0'),\n",
              " Text(20.7051877390508, 36.23999999999998, 'mse = 0.0\\nsamples = 1\\nvalue = 40000.0'),\n",
              " Text(21.33644346280235, 65.232, 'area <= 6.473\\nmse = 367491735.537\\nsamples = 11\\nvalue = 21609.091'),\n",
              " Text(21.029833539837313, 50.73599999999999, 'area <= 6.405\\nmse = 19584843.75\\nsamples = 8\\nvalue = 12962.5'),\n",
              " Text(20.849474761622584, 36.23999999999998, 'locality <= 474.0\\nmse = 15775555.556\\nsamples = 3\\nvalue = 9566.667'),\n",
              " Text(20.77733125033669, 21.744, 'mse = 23522500.0\\nsamples = 2\\nvalue = 9350.0'),\n",
              " Text(20.921618272908475, 21.744, 'mse = 0.0\\nsamples = 1\\nvalue = 10000.0'),\n",
              " Text(21.21019231805204, 36.23999999999998, 'area <= 6.434\\nmse = 10800000.0\\nsamples = 5\\nvalue = 15000.0'),\n",
              " Text(21.065905295480256, 21.744, 'locality <= 476.0\\nmse = 2888888.889\\nsamples = 3\\nvalue = 16666.667'),\n",
              " Text(20.993761784194366, 7.2479999999999905, 'mse = 250000.0\\nsamples = 2\\nvalue = 15500.0'),\n",
              " Text(21.138048806766147, 7.2479999999999905, 'mse = 0.0\\nsamples = 1\\nvalue = 19000.0'),\n",
              " Text(21.354479340623822, 21.744, 'locality <= 472.0\\nmse = 12250000.0\\nsamples = 2\\nvalue = 12500.0'),\n",
              " Text(21.28233582933793, 7.2479999999999905, 'mse = 0.0\\nsamples = 1\\nvalue = 16000.0'),\n",
              " Text(21.426622851909713, 7.2479999999999905, 'mse = 0.0\\nsamples = 1\\nvalue = 9000.0'),\n",
              " Text(21.643053385767388, 50.73599999999999, 'locality <= 462.5\\nmse = 564222222.222\\nsamples = 3\\nvalue = 44666.667'),\n",
              " Text(21.570909874481497, 36.23999999999998, 'locality <= 458.0\\nmse = 156250000.0\\nsamples = 2\\nvalue = 29500.0'),\n",
              " Text(21.498766363195603, 21.744, 'mse = 0.0\\nsamples = 1\\nvalue = 17000.0'),\n",
              " Text(21.643053385767388, 21.744, 'mse = 0.0\\nsamples = 1\\nvalue = 42000.0'),\n",
              " Text(21.71519689705328, 36.23999999999998, 'mse = 0.0\\nsamples = 1\\nvalue = 75000.0'),\n",
              " Text(23.049851855842267, 79.72799999999998, 'area <= 6.465\\nmse = 256574821.028\\nsamples = 97\\nvalue = 43460.887'),\n",
              " Text(22.274309109518935, 65.232, 'locality <= 533.5\\nmse = 214696006.038\\nsamples = 57\\nvalue = 40108.877'),\n",
              " Text(21.931627430910954, 50.73599999999999, 'locality <= 503.5\\nmse = 368250000.0\\nsamples = 4\\nvalue = 59500.0'),\n",
              " Text(21.85948391962506, 36.23999999999998, 'mse = 0.0\\nsamples = 1\\nvalue = 75000.0'),\n",
              " Text(22.003770942196844, 36.23999999999998, 'locality <= 520.5\\nmse = 384222222.222\\nsamples = 3\\nvalue = 54333.333'),\n",
              " Text(21.931627430910954, 21.744, 'mse = 0.0\\nsamples = 1\\nvalue = 28000.0'),\n",
              " Text(22.075914453482735, 21.744, 'mse = 56250000.0\\nsamples = 2\\nvalue = 67500.0'),\n",
              " Text(22.61699078812692, 50.73599999999999, 'locality <= 738.5\\nmse = 172586709.673\\nsamples = 53\\nvalue = 38645.396'),\n",
              " Text(22.3644884986263, 36.23999999999998, 'locality <= 585.0\\nmse = 148065088.403\\nsamples = 44\\nvalue = 36709.227'),\n",
              " Text(22.220201476054516, 21.744, 'locality <= 568.0\\nmse = 155728505.234\\nsamples = 16\\nvalue = 40787.875'),\n",
              " Text(22.148057964768626, 7.2479999999999905, 'mse = 124423152.462\\nsamples = 15\\nvalue = 39173.733'),\n",
              " Text(22.29234498734041, 7.2479999999999905, 'mse = 0.0\\nsamples = 1\\nvalue = 65000.0'),\n",
              " Text(22.508775521198082, 21.744, 'locality <= 729.0\\nmse = 128748112.245\\nsamples = 28\\nvalue = 34378.571'),\n",
              " Text(22.43663200991219, 7.2479999999999905, 'mse = 145211568.998\\nsamples = 23\\nvalue = 33113.043'),\n",
              " Text(22.580919032483973, 7.2479999999999905, 'mse = 11760000.0\\nsamples = 5\\nvalue = 40200.0'),\n",
              " Text(22.86949307762754, 36.23999999999998, 'locality <= 781.0\\nmse = 184543209.877\\nsamples = 9\\nvalue = 48111.111'),\n",
              " Text(22.797349566341648, 21.744, 'locality <= 770.5\\nmse = 104250000.0\\nsamples = 8\\nvalue = 51500.0'),\n",
              " Text(22.725206055055757, 7.2479999999999905, 'mse = 6888888.889\\nsamples = 3\\nvalue = 45666.667'),\n",
              " Text(22.86949307762754, 7.2479999999999905, 'mse = 130000000.0\\nsamples = 5\\nvalue = 55000.0'),\n",
              " Text(22.94163658891343, 21.744, 'mse = 0.0\\nsamples = 1\\nvalue = 21000.0'),\n",
              " Text(23.8253946021656, 65.232, 'locality <= 692.0\\nmse = 277424843.75\\nsamples = 40\\nvalue = 48237.5'),\n",
              " Text(23.410569412271723, 50.73599999999999, 'locality <= 664.0\\nmse = 225463137.996\\nsamples = 23\\nvalue = 53434.783'),\n",
              " Text(23.230210634056995, 36.23999999999998, 'locality <= 590.5\\nmse = 157360000.0\\nsamples = 20\\nvalue = 49800.0'),\n",
              " Text(23.085923611485214, 21.744, 'locality <= 536.0\\nmse = 115400000.0\\nsamples = 10\\nvalue = 55000.0'),\n",
              " Text(23.013780100199323, 7.2479999999999905, 'mse = 210250000.0\\nsamples = 2\\nvalue = 43500.0'),\n",
              " Text(23.158067122771104, 7.2479999999999905, 'mse = 50359375.0\\nsamples = 8\\nvalue = 57875.0'),\n",
              " Text(23.37449765662878, 21.744, 'locality <= 626.5\\nmse = 145240000.0\\nsamples = 10\\nvalue = 44600.0'),\n",
              " Text(23.302354145342886, 7.2479999999999905, 'mse = 49840000.0\\nsamples = 5\\nvalue = 36400.0'),\n",
              " Text(23.44664116791467, 7.2479999999999905, 'mse = 106160000.0\\nsamples = 5\\nvalue = 52800.0'),\n",
              " Text(23.59092819048645, 36.23999999999998, 'locality <= 681.5\\nmse = 4222222.222\\nsamples = 3\\nvalue = 77666.667'),\n",
              " Text(23.51878467920056, 21.744, 'mse = 0.0\\nsamples = 1\\nvalue = 78000.0'),\n",
              " Text(23.663071701772342, 21.744, 'mse = 6250000.0\\nsamples = 2\\nvalue = 77500.0'),\n",
              " Text(24.240219792059474, 50.73599999999999, 'locality <= 756.0\\nmse = 261737024.221\\nsamples = 17\\nvalue = 41205.882'),\n",
              " Text(23.951645746915908, 36.23999999999998, 'locality <= 700.5\\nmse = 50308593.75\\nsamples = 8\\nvalue = 27312.5'),\n",
              " Text(23.807358724344127, 21.744, 'locality <= 696.5\\nmse = 2960000.0\\nsamples = 5\\nvalue = 22300.0'),\n",
              " Text(23.735215213058236, 7.2479999999999905, 'mse = 2046875.0\\nsamples = 4\\nvalue = 22875.0'),\n",
              " Text(23.879502235630017, 7.2479999999999905, 'mse = 0.0\\nsamples = 1\\nvalue = 20000.0'),\n",
              " Text(24.095932769487693, 21.744, 'locality <= 720.5\\nmse = 17555555.556\\nsamples = 3\\nvalue = 35666.667'),\n",
              " Text(24.0237892582018, 7.2479999999999905, 'mse = 0.0\\nsamples = 1\\nvalue = 30000.0'),\n",
              " Text(24.168076280773583, 7.2479999999999905, 'mse = 2250000.0\\nsamples = 2\\nvalue = 38500.0'),\n",
              " Text(24.52879383720304, 36.23999999999998, 'area <= 6.492\\nmse = 125580246.914\\nsamples = 9\\nvalue = 53555.556'),\n",
              " Text(24.384506814631255, 21.744, 'locality <= 766.5\\nmse = 130285714.286\\nsamples = 7\\nvalue = 51000.0'),\n",
              " Text(24.312363303345364, 7.2479999999999905, 'mse = 2250000.0\\nsamples = 2\\nvalue = 38500.0'),\n",
              " Text(24.45665032591715, 7.2479999999999905, 'mse = 94000000.0\\nsamples = 5\\nvalue = 56000.0'),\n",
              " Text(24.67308085977482, 21.744, 'locality <= 770.0\\nmse = 6250000.0\\nsamples = 2\\nvalue = 62500.0'),\n",
              " Text(24.60093734848893, 7.2479999999999905, 'mse = 0.0\\nsamples = 1\\nvalue = 65000.0'),\n",
              " Text(24.74522437106071, 7.2479999999999905, 'mse = 0.0\\nsamples = 1\\nvalue = 60000.0'),\n",
              " Text(30.6181570866778, 123.216, 'bathroom_num <= 1.573\\nmse = 219918656.958\\nsamples = 561\\nvalue = 36144.467'),\n",
              " Text(30.54601357539191, 108.72, 'locality <= 770.0\\nmse = 204553170.311\\nsamples = 560\\nvalue = 35976.868'),\n",
              " Text(28.77173409470452, 94.22399999999999, 'bedroom_num <= 1.5\\nmse = 194800897.468\\nsamples = 548\\nvalue = 35452.639'),\n",
              " Text(26.89149383181598, 79.72799999999998, 'locality <= 68.5\\nmse = 151232697.963\\nsamples = 492\\nvalue = 34345.622'),\n",
              " Text(25.845412918170556, 65.232, 'locality <= 50.0\\nmse = 177530470.522\\nsamples = 84\\nvalue = 39869.048'),\n",
              " Text(25.394515972633734, 50.73599999999999, 'area <= 6.457\\nmse = 52494319.448\\nsamples = 67\\nvalue = 34597.015'),\n",
              " Text(25.105941927490168, 36.23999999999998, 'locality <= 32.5\\nmse = 30649795.918\\nsamples = 35\\nvalue = 31414.286'),\n",
              " Text(24.961654904918387, 21.744, 'area <= 6.363\\nmse = 11804528.061\\nsamples = 28\\nvalue = 29910.714'),\n",
              " Text(24.889511393632496, 7.2479999999999905, 'mse = 7649234.694\\nsamples = 14\\nvalue = 28607.143'),\n",
              " Text(25.033798416204277, 7.2479999999999905, 'mse = 12561224.49\\nsamples = 14\\nvalue = 31214.286'),\n",
              " Text(25.250228950061953, 21.744, 'area <= 6.323\\nmse = 60816326.531\\nsamples = 7\\nvalue = 37428.571'),\n",
              " Text(25.178085438776062, 7.2479999999999905, 'mse = 0.0\\nsamples = 1\\nvalue = 28000.0'),\n",
              " Text(25.322372461347843, 7.2479999999999905, 'mse = 53666666.667\\nsamples = 6\\nvalue = 39000.0'),\n",
              " Text(25.6830900177773, 36.23999999999998, 'locality <= 25.0\\nmse = 53189208.984\\nsamples = 32\\nvalue = 38078.125'),\n",
              " Text(25.53880299520552, 21.744, 'locality <= 9.5\\nmse = 156250000.0\\nsamples = 2\\nvalue = 52500.0'),\n",
              " Text(25.466659483919624, 7.2479999999999905, 'mse = 0.0\\nsamples = 1\\nvalue = 40000.0'),\n",
              " Text(25.61094650649141, 7.2479999999999905, 'mse = 0.0\\nsamples = 1\\nvalue = 65000.0'),\n",
              " Text(25.82737704034908, 21.744, 'locality <= 32.5\\nmse = 31528055.556\\nsamples = 30\\nvalue = 37116.667'),\n",
              " Text(25.75523352906319, 7.2479999999999905, 'mse = 20284722.222\\nsamples = 18\\nvalue = 35416.667'),\n",
              " Text(25.899520551634975, 7.2479999999999905, 'mse = 37555555.556\\nsamples = 12\\nvalue = 39666.667'),\n",
              " Text(26.296309863707375, 50.73599999999999, 'area <= 6.376\\nmse = 129051903.114\\nsamples = 17\\nvalue = 60647.059'),\n",
              " Text(26.043807574206756, 36.23999999999998, 'locality <= 64.5\\nmse = 15600000.0\\nsamples = 5\\nvalue = 53000.0'),\n",
              " Text(25.971664062920865, 21.744, 'mse = 0.0\\nsamples = 1\\nvalue = 55000.0'),\n",
              " Text(26.115951085492647, 21.744, 'area <= 6.262\\nmse = 18250000.0\\nsamples = 4\\nvalue = 52500.0'),\n",
              " Text(26.043807574206756, 7.2479999999999905, 'mse = 6250000.0\\nsamples = 2\\nvalue = 52500.0'),\n",
              " Text(26.188094596778537, 7.2479999999999905, 'mse = 30250000.0\\nsamples = 2\\nvalue = 52500.0'),\n",
              " Text(26.548812153207994, 36.23999999999998, 'area <= 6.48\\nmse = 141805555.556\\nsamples = 12\\nvalue = 63833.333'),\n",
              " Text(26.404525130636213, 21.744, 'locality <= 63.5\\nmse = 175437500.0\\nsamples = 8\\nvalue = 67250.0'),\n",
              " Text(26.332381619350322, 7.2479999999999905, 'mse = 0.0\\nsamples = 1\\nvalue = 50000.0'),\n",
              " Text(26.476668641922103, 7.2479999999999905, 'mse = 151918367.347\\nsamples = 7\\nvalue = 69714.286'),\n",
              " Text(26.69309917577978, 21.744, 'area <= 6.499\\nmse = 4500000.0\\nsamples = 4\\nvalue = 57000.0'),\n",
              " Text(26.620955664493888, 7.2479999999999905, 'mse = 0.0\\nsamples = 1\\nvalue = 55000.0'),\n",
              " Text(26.76524268706567, 7.2479999999999905, 'mse = 4222222.222\\nsamples = 3\\nvalue = 57666.667'),\n",
              " Text(27.9375747454614, 65.232, 'locality <= 693.5\\nmse = 138244175.301\\nsamples = 408\\nvalue = 33208.446'),\n",
              " Text(27.41453428863869, 50.73599999999999, 'locality <= 527.0\\nmse = 136844073.334\\nsamples = 332\\nvalue = 34144.015'),\n",
              " Text(27.125960243495125, 36.23999999999998, 'locality <= 455.5\\nmse = 126521074.331\\nsamples = 255\\nvalue = 32488.616'),\n",
              " Text(26.981673220923344, 21.744, 'locality <= 99.5\\nmse = 129939694.726\\nsamples = 231\\nvalue = 33180.074'),\n",
              " Text(26.90952970963745, 7.2479999999999905, 'mse = 12860879.905\\nsamples = 29\\nvalue = 27034.483'),\n",
              " Text(27.053816732209235, 7.2479999999999905, 'mse = 140547427.904\\nsamples = 202\\nvalue = 34062.361'),\n",
              " Text(27.270247266066907, 21.744, 'locality <= 459.0\\nmse = 44722222.222\\nsamples = 24\\nvalue = 25833.333'),\n",
              " Text(27.198103754781016, 7.2479999999999905, 'mse = 640000.0\\nsamples = 5\\nvalue = 15600.0'),\n",
              " Text(27.3423907773528, 7.2479999999999905, 'mse = 21512465.374\\nsamples = 19\\nvalue = 28526.316'),\n",
              " Text(27.703108333782254, 36.23999999999998, 'locality <= 550.5\\nmse = 131901300.694\\nsamples = 77\\nvalue = 39626.182'),\n",
              " Text(27.558821311210473, 21.744, 'area <= 6.482\\nmse = 121840000.0\\nsamples = 5\\nvalue = 61400.0'),\n",
              " Text(27.486677799924582, 7.2479999999999905, 'mse = 87500000.0\\nsamples = 4\\nvalue = 65000.0'),\n",
              " Text(27.630964822496363, 7.2479999999999905, 'mse = 0.0\\nsamples = 1\\nvalue = 47000.0'),\n",
              " Text(27.84739535635404, 21.744, 'area <= 6.393\\nmse = 97390091.654\\nsamples = 72\\nvalue = 38114.111'),\n",
              " Text(27.775251845068148, 7.2479999999999905, 'mse = 100860000.0\\nsamples = 15\\nvalue = 31300.0'),\n",
              " Text(27.91953886763993, 7.2479999999999905, 'mse = 81042461.402\\nsamples = 57\\nvalue = 39907.298'),\n",
              " Text(28.460615202284114, 50.73599999999999, 'area <= 6.488\\nmse = 123833542.118\\nsamples = 76\\nvalue = 29121.487'),\n",
              " Text(28.280256424069385, 36.23999999999998, 'locality <= 698.5\\nmse = 108016273.248\\nsamples = 72\\nvalue = 30200.458'),\n",
              " Text(28.135969401497604, 21.744, 'locality <= 695.5\\nmse = 3217720.964\\nsamples = 37\\nvalue = 24710.811'),\n",
              " Text(28.06382589021171, 7.2479999999999905, 'mse = 5645833.333\\nsamples = 6\\nvalue = 22750.0'),\n",
              " Text(28.208112912783495, 7.2479999999999905, 'mse = 1859583.767\\nsamples = 31\\nvalue = 25090.323'),\n",
              " Text(28.424543446641167, 21.744, 'locality <= 751.5\\nmse = 153266239.531\\nsamples = 35\\nvalue = 36003.8'),\n",
              " Text(28.352399935355276, 7.2479999999999905, 'mse = 107916897.507\\nsamples = 19\\nvalue = 40368.421'),\n",
              " Text(28.49668695792706, 7.2479999999999905, 'mse = 157633447.402\\nsamples = 16\\nvalue = 30820.812'),\n",
              " Text(28.640973980498842, 36.23999999999998, 'area <= 6.5\\nmse = 10395000.0\\nsamples = 4\\nvalue = 9700.0'),\n",
              " Text(28.56883046921295, 21.744, 'mse = 0.0\\nsamples = 1\\nvalue = 15000.0'),\n",
              " Text(28.713117491784732, 21.744, 'locality <= 754.0\\nmse = 1375555.556\\nsamples = 3\\nvalue = 7933.333'),\n",
              " Text(28.640973980498842, 7.2479999999999905, 'mse = 62500.0\\nsamples = 2\\nvalue = 8750.0'),\n",
              " Text(28.785261003070623, 7.2479999999999905, 'mse = 0.0\\nsamples = 1\\nvalue = 6300.0'),\n",
              " Text(30.651974357593062, 79.72799999999998, 'locality <= 646.0\\nmse = 472218112.245\\nsamples = 56\\nvalue = 45178.571'),\n",
              " Text(29.92152130582341, 65.232, 'locality <= 298.0\\nmse = 472363965.595\\nsamples = 47\\nvalue = 48617.021'),\n",
              " Text(29.434552604643645, 50.73599999999999, 'locality <= 68.5\\nmse = 221710000.0\\nsamples = 20\\nvalue = 42300.0'),\n",
              " Text(29.14597855950008, 36.23999999999998, 'locality <= 51.5\\nmse = 336359375.0\\nsamples = 8\\nvalue = 51875.0'),\n",
              " Text(29.0016915369283, 21.744, 'area <= 6.465\\nmse = 150160000.0\\nsamples = 5\\nvalue = 41200.0'),\n",
              " Text(28.929548025642408, 7.2479999999999905, 'mse = 124222222.222\\nsamples = 3\\nvalue = 34333.333'),\n",
              " Text(29.07383504821419, 7.2479999999999905, 'mse = 12250000.0\\nsamples = 2\\nvalue = 51500.0'),\n",
              " Text(29.290265582071864, 21.744, 'area <= 6.507\\nmse = 140222222.222\\nsamples = 3\\nvalue = 69666.667'),\n",
              " Text(29.218122070785974, 7.2479999999999905, 'mse = 49000000.0\\nsamples = 2\\nvalue = 77000.0'),\n",
              " Text(29.362409093357755, 7.2479999999999905, 'mse = 0.0\\nsamples = 1\\nvalue = 55000.0'),\n",
              " Text(29.72312664978721, 36.23999999999998, 'locality <= 94.0\\nmse = 43409722.222\\nsamples = 12\\nvalue = 35916.667'),\n",
              " Text(29.57883962721543, 21.744, 'locality <= 76.0\\nmse = 25000000.0\\nsamples = 2\\nvalue = 25000.0'),\n",
              " Text(29.506696115929536, 7.2479999999999905, 'mse = 0.0\\nsamples = 1\\nvalue = 20000.0'),\n",
              " Text(29.65098313850132, 7.2479999999999905, 'mse = 0.0\\nsamples = 1\\nvalue = 30000.0'),\n",
              " Text(29.867413672358992, 21.744, 'area <= 6.276\\nmse = 18490000.0\\nsamples = 10\\nvalue = 38100.0'),\n",
              " Text(29.795270161073102, 7.2479999999999905, 'mse = 0.0\\nsamples = 1\\nvalue = 32000.0'),\n",
              " Text(29.939557183644887, 7.2479999999999905, 'mse = 15950617.284\\nsamples = 9\\nvalue = 38777.778'),\n",
              " Text(30.408490007003177, 50.73599999999999, 'locality <= 362.0\\nmse = 606578875.171\\nsamples = 27\\nvalue = 53296.296'),\n",
              " Text(30.22813122878845, 36.23999999999998, 'locality <= 335.0\\nmse = 776750000.0\\nsamples = 4\\nvalue = 88500.0'),\n",
              " Text(30.15598771750256, 21.744, 'area <= 6.4\\nmse = 64000000.0\\nsamples = 2\\nvalue = 77000.0'),\n",
              " Text(30.083844206216668, 7.2479999999999905, 'mse = 0.0\\nsamples = 1\\nvalue = 69000.0'),\n",
              " Text(30.22813122878845, 7.2479999999999905, 'mse = 0.0\\nsamples = 1\\nvalue = 85000.0'),\n",
              " Text(30.300274740074343, 21.744, 'mse = 1225000000.0\\nsamples = 2\\nvalue = 100000.0'),\n",
              " Text(30.588848785217905, 36.23999999999998, 'locality <= 565.5\\nmse = 323969754.253\\nsamples = 23\\nvalue = 47173.913'),\n",
              " Text(30.444561762646124, 21.744, 'area <= 6.328\\nmse = 225940828.402\\nsamples = 13\\nvalue = 38538.462'),\n",
              " Text(30.372418251360234, 7.2479999999999905, 'mse = 88222222.222\\nsamples = 3\\nvalue = 26666.667'),\n",
              " Text(30.516705273932015, 7.2479999999999905, 'mse = 212290000.0\\nsamples = 10\\nvalue = 42100.0'),\n",
              " Text(30.73313580778969, 21.744, 'area <= 6.529\\nmse = 228440000.0\\nsamples = 10\\nvalue = 58400.0'),\n",
              " Text(30.6609922965038, 7.2479999999999905, 'mse = 130543209.877\\nsamples = 9\\nvalue = 54888.889'),\n",
              " Text(30.80527931907558, 7.2479999999999905, 'mse = 0.0\\nsamples = 1\\nvalue = 90000.0'),\n",
              " Text(31.382427409362712, 65.232, 'area <= 6.44\\nmse = 87283950.617\\nsamples = 9\\nvalue = 27222.222'),\n",
              " Text(31.093853364219147, 50.73599999999999, 'locality <= 722.5\\nmse = 50187500.0\\nsamples = 4\\nvalue = 18750.0'),\n",
              " Text(30.949566341647362, 36.23999999999998, 'locality <= 695.5\\nmse = 250000.0\\nsamples = 2\\nvalue = 25500.0'),\n",
              " Text(30.87742283036147, 21.744, 'mse = 0.0\\nsamples = 1\\nvalue = 26000.0'),\n",
              " Text(31.021709852933256, 21.744, 'mse = 0.0\\nsamples = 1\\nvalue = 25000.0'),\n",
              " Text(31.238140386790928, 36.23999999999998, 'area <= 6.379\\nmse = 9000000.0\\nsamples = 2\\nvalue = 12000.0'),\n",
              " Text(31.165996875505037, 21.744, 'mse = 0.0\\nsamples = 1\\nvalue = 15000.0'),\n",
              " Text(31.31028389807682, 21.744, 'mse = 0.0\\nsamples = 1\\nvalue = 9000.0'),\n",
              " Text(31.671001454506275, 50.73599999999999, 'locality <= 689.5\\nmse = 13600000.0\\nsamples = 5\\nvalue = 34000.0'),\n",
              " Text(31.526714431934494, 36.23999999999998, 'locality <= 674.5\\nmse = 2250000.0\\nsamples = 2\\nvalue = 36500.0'),\n",
              " Text(31.454570920648603, 21.744, 'mse = 0.0\\nsamples = 1\\nvalue = 35000.0'),\n",
              " Text(31.598857943220384, 21.744, 'mse = 0.0\\nsamples = 1\\nvalue = 38000.0'),\n",
              " Text(31.81528847707806, 36.23999999999998, 'locality <= 730.0\\nmse = 14222222.222\\nsamples = 3\\nvalue = 32333.333'),\n",
              " Text(31.74314496579217, 21.744, 'mse = 16000000.0\\nsamples = 2\\nvalue = 31000.0'),\n",
              " Text(31.88743198836395, 21.744, 'mse = 0.0\\nsamples = 1\\nvalue = 35000.0'),\n",
              " Text(32.3202930560793, 94.22399999999999, 'area <= 6.353\\nmse = 64243055.556\\nsamples = 12\\nvalue = 59916.667'),\n",
              " Text(32.24814954479341, 79.72799999999998, 'mse = 0.0\\nsamples = 1\\nvalue = 45000.0'),\n",
              " Text(32.39243656736519, 79.72799999999998, 'bedroom_num <= 1.5\\nmse = 48016528.926\\nsamples = 11\\nvalue = 61272.727'),\n",
              " Text(32.3202930560793, 65.232, 'locality <= 776.5\\nmse = 51135802.469\\nsamples = 9\\nvalue = 62444.444'),\n",
              " Text(32.24814954479341, 50.73599999999999, 'area <= 6.457\\nmse = 27734375.0\\nsamples = 8\\nvalue = 60625.0'),\n",
              " Text(32.103862522221625, 36.23999999999998, 'area <= 6.413\\nmse = 14000000.0\\nsamples = 5\\nvalue = 59000.0'),\n",
              " Text(32.03171901093573, 21.744, 'mse = 0.0\\nsamples = 2\\nvalue = 60000.0'),\n",
              " Text(32.17600603350751, 21.744, 'area <= 6.434\\nmse = 22222222.222\\nsamples = 3\\nvalue = 58333.333'),\n",
              " Text(32.103862522221625, 7.2479999999999905, 'mse = 0.0\\nsamples = 1\\nvalue = 55000.0'),\n",
              " Text(32.24814954479341, 7.2479999999999905, 'mse = 25000000.0\\nsamples = 2\\nvalue = 60000.0'),\n",
              " Text(32.39243656736519, 36.23999999999998, 'area <= 6.496\\nmse = 38888888.889\\nsamples = 3\\nvalue = 63333.333'),\n",
              " Text(32.3202930560793, 21.744, 'mse = 0.0\\nsamples = 1\\nvalue = 65000.0'),\n",
              " Text(32.46458007865108, 21.744, 'mse = 56250000.0\\nsamples = 2\\nvalue = 62500.0'),\n",
              " Text(32.39243656736519, 50.73599999999999, 'mse = 0.0\\nsamples = 1\\nvalue = 77000.0'),\n",
              " Text(32.46458007865108, 65.232, 'mse = 0.0\\nsamples = 2\\nvalue = 56000.0'),\n",
              " Text(30.69030059796369, 108.72, 'mse = 0.0\\nsamples = 1\\nvalue = 130000.0'),\n",
              " Text(36.202515757151325, 137.712, 'area <= 6.583\\nmse = 305190033.781\\nsamples = 273\\nvalue = 49728.158'),\n",
              " Text(34.86786079836234, 123.216, 'locality <= 773.0\\nmse = 301752800.11\\nsamples = 250\\nvalue = 50989.148'),\n",
              " Text(33.2130690082422, 108.72, 'locality <= 34.5\\nmse = 294463396.95\\nsamples = 234\\nvalue = 50039.688'),\n",
              " Text(32.60886710122286, 94.22399999999999, 'locality <= 20.0\\nmse = 385688019.391\\nsamples = 19\\nvalue = 38697.368'),\n",
              " Text(32.53672358993697, 79.72799999999998, 'mse = 0.0\\nsamples = 1\\nvalue = 100000.0'),\n",
              " Text(32.68101061250876, 79.72799999999998, 'bathroom_num <= 1.207\\nmse = 186737847.222\\nsamples = 18\\nvalue = 35291.667'),\n",
              " Text(32.60886710122286, 65.232, 'mse = 343388888.889\\nsamples = 3\\nvalue = 18833.333'),\n",
              " Text(32.753154123794644, 65.232, 'locality <= 26.0\\nmse = 90397222.222\\nsamples = 15\\nvalue = 38583.333'),\n",
              " Text(32.68101061250876, 50.73599999999999, 'mse = 0.0\\nsamples = 1\\nvalue = 25000.0'),\n",
              " Text(32.82529763508054, 50.73599999999999, 'bedroom_num <= 1.5\\nmse = 82733737.245\\nsamples = 14\\nvalue = 39553.571'),\n",
              " Text(32.753154123794644, 36.23999999999998, 'area <= 6.572\\nmse = 30305555.556\\nsamples = 12\\nvalue = 40833.333'),\n",
              " Text(32.68101061250876, 21.744, 'locality <= 32.5\\nmse = 31338842.975\\nsamples = 11\\nvalue = 40454.545'),\n",
              " Text(32.60886710122286, 7.2479999999999905, 'mse = 11840000.0\\nsamples = 5\\nvalue = 39400.0'),\n",
              " Text(32.753154123794644, 7.2479999999999905, 'mse = 45888888.889\\nsamples = 6\\nvalue = 41333.333'),\n",
              " Text(32.82529763508054, 21.744, 'mse = 0.0\\nsamples = 1\\nvalue = 45000.0'),\n",
              " Text(32.897441146366425, 36.23999999999998, 'mse = 328515625.0\\nsamples = 2\\nvalue = 31875.0'),\n",
              " Text(33.817270915261545, 94.22399999999999, 'locality <= 72.5\\nmse = 274028079.631\\nsamples = 215\\nvalue = 51042.033'),\n",
              " Text(33.330302214081776, 79.72799999999998, 'bathroom_num <= 1.207\\nmse = 99085192.153\\nsamples = 61\\nvalue = 58114.754'),\n",
              " Text(33.186015191509995, 65.232, 'bedroom_num <= 1.5\\nmse = 100353580.247\\nsamples = 45\\nvalue = 56844.444'),\n",
              " Text(33.1138716802241, 50.73599999999999, 'area <= 6.56\\nmse = 98179235.537\\nsamples = 44\\nvalue = 57159.091'),\n",
              " Text(33.041728168938214, 36.23999999999998, 'locality <= 64.5\\nmse = 99242833.964\\nsamples = 43\\nvalue = 57325.581'),\n",
              " Text(32.96958465765232, 21.744, 'mse = 4000000.0\\nsamples = 5\\nvalue = 56000.0'),\n",
              " Text(33.1138716802241, 21.744, 'mse = 111513157.895\\nsamples = 38\\nvalue = 57500.0'),\n",
              " Text(33.186015191509995, 36.23999999999998, 'mse = 0.0\\nsamples = 1\\nvalue = 50000.0'),\n",
              " Text(33.25815870279588, 50.73599999999999, 'mse = 0.0\\nsamples = 1\\nvalue = 43000.0'),\n",
              " Text(33.47458923665356, 65.232, 'area <= 6.558\\nmse = 78214843.75\\nsamples = 16\\nvalue = 61687.5'),\n",
              " Text(33.40244572536767, 50.73599999999999, 'bedroom_num <= 1.5\\nmse = 82648888.889\\nsamples = 15\\nvalue = 61466.667'),\n",
              " Text(33.330302214081776, 36.23999999999998, 'mse = 88387755.102\\nsamples = 14\\nvalue = 61571.429'),\n",
              " Text(33.47458923665356, 36.23999999999998, 'mse = 0.0\\nsamples = 1\\nvalue = 60000.0'),\n",
              " Text(33.54673274793945, 50.73599999999999, 'mse = 0.0\\nsamples = 1\\nvalue = 65000.0'),\n",
              " Text(34.30423961644131, 79.72799999999998, 'locality <= 92.5\\nmse = 315660594.614\\nsamples = 154\\nvalue = 48240.5'),\n",
              " Text(33.76316328179713, 65.232, 'locality <= 87.0\\nmse = 90687500.0\\nsamples = 4\\nvalue = 30750.0'),\n",
              " Text(33.69101977051123, 50.73599999999999, 'locality <= 83.0\\nmse = 24222222.222\\nsamples = 3\\nvalue = 35666.667'),\n",
              " Text(33.61887625922534, 36.23999999999998, 'bedroom_num <= 1.5\\nmse = 6250000.0\\nsamples = 2\\nvalue = 32500.0'),\n",
              " Text(33.54673274793945, 21.744, 'mse = 0.0\\nsamples = 1\\nvalue = 35000.0'),\n",
              " Text(33.69101977051123, 21.744, 'mse = 0.0\\nsamples = 1\\nvalue = 30000.0'),\n",
              " Text(33.76316328179713, 36.23999999999998, 'mse = 0.0\\nsamples = 1\\nvalue = 42000.0'),\n",
              " Text(33.835306793083014, 50.73599999999999, 'mse = 0.0\\nsamples = 1\\nvalue = 16000.0'),\n",
              " Text(34.845315951085496, 65.232, 'bathroom_num <= 1.207\\nmse = 313284533.332\\nsamples = 150\\nvalue = 48706.913'),\n",
              " Text(34.268167860798364, 50.73599999999999, 'locality <= 324.5\\nmse = 238871210.938\\nsamples = 64\\nvalue = 52181.25'),\n",
              " Text(33.979593815654795, 36.23999999999998, 'locality <= 179.0\\nmse = 248610726.644\\nsamples = 17\\nvalue = 44647.059'),\n",
              " Text(33.835306793083014, 21.744, 'locality <= 105.5\\nmse = 107519097.222\\nsamples = 12\\nvalue = 52291.667'),\n",
              " Text(33.76316328179713, 7.2479999999999905, 'mse = 13888888.889\\nsamples = 6\\nvalue = 58333.333'),\n",
              " Text(33.90745030436891, 7.2479999999999905, 'mse = 128145833.333\\nsamples = 6\\nvalue = 46250.0'),\n",
              " Text(34.12388083822658, 21.744, 'locality <= 235.5\\nmse = 110360000.0\\nsamples = 5\\nvalue = 26300.0'),\n",
              " Text(34.05173732694069, 7.2479999999999905, 'mse = 175562500.0\\nsamples = 2\\nvalue = 18750.0'),\n",
              " Text(34.19602434951247, 7.2479999999999905, 'mse = 3555555.556\\nsamples = 3\\nvalue = 31333.333'),\n",
              " Text(34.55674190594193, 36.23999999999998, 'locality <= 389.5\\nmse = 207390384.789\\nsamples = 47\\nvalue = 54906.383'),\n",
              " Text(34.412454883370145, 21.744, 'locality <= 369.0\\nmse = 35348765.432\\nsamples = 18\\nvalue = 60388.889'),\n",
              " Text(34.34031137208425, 7.2479999999999905, 'mse = 39472222.222\\nsamples = 12\\nvalue = 61833.333'),\n",
              " Text(34.48459839465604, 7.2479999999999905, 'mse = 14583333.333\\nsamples = 6\\nvalue = 57500.0'),\n",
              " Text(34.70102892851371, 21.744, 'locality <= 429.5\\nmse = 283938263.971\\nsamples = 29\\nvalue = 51503.448'),\n",
              " Text(34.62888541722782, 7.2479999999999905, 'mse = 153717500.0\\nsamples = 8\\nvalue = 39950.0'),\n",
              " Text(34.7731724397996, 7.2479999999999905, 'mse = 263324263.039\\nsamples = 21\\nvalue = 55904.762'),\n",
              " Text(35.42246404137262, 50.73599999999999, 'locality <= 187.0\\nmse = 352993724.765\\nsamples = 86\\nvalue = 46121.36'),\n",
              " Text(35.13388999622906, 36.23999999999998, 'locality <= 132.5\\nmse = 492913580.247\\nsamples = 18\\nvalue = 54444.444'),\n",
              " Text(34.98960297365728, 21.744, 'locality <= 101.5\\nmse = 204198347.107\\nsamples = 11\\nvalue = 42727.273'),\n",
              " Text(34.91745946237138, 7.2479999999999905, 'mse = 0.0\\nsamples = 1\\nvalue = 85000.0'),\n",
              " Text(35.061746484943164, 7.2479999999999905, 'mse = 28050000.0\\nsamples = 10\\nvalue = 38500.0'),\n",
              " Text(35.27817701880084, 21.744, 'locality <= 146.5\\nmse = 391836734.694\\nsamples = 7\\nvalue = 72857.143'),\n",
              " Text(35.20603350751495, 7.2479999999999905, 'mse = 168750000.0\\nsamples = 4\\nvalue = 87500.0'),\n",
              " Text(35.350320530086734, 7.2479999999999905, 'mse = 22222222.222\\nsamples = 3\\nvalue = 53333.333'),\n",
              " Text(35.71103808651619, 36.23999999999998, 'locality <= 341.5\\nmse = 292764998.037\\nsamples = 68\\nvalue = 43918.191'),\n",
              " Text(35.56675106394441, 21.744, 'area <= 6.572\\nmse = 150552129.576\\nsamples = 12\\nvalue = 33453.083'),\n",
              " Text(35.494607552658515, 7.2479999999999905, 'mse = 111702479.339\\nsamples = 11\\nvalue = 35545.455'),\n",
              " Text(35.638894575230296, 7.2479999999999905, 'mse = 0.0\\nsamples = 1\\nvalue = 10437.0'),\n",
              " Text(35.85532510908797, 21.744, 'locality <= 423.5\\nmse = 294742028.061\\nsamples = 56\\nvalue = 46160.714'),\n",
              " Text(35.78318159780208, 7.2479999999999905, 'mse = 459890000.0\\nsamples = 10\\nvalue = 53900.0'),\n",
              " Text(35.927468620373865, 7.2479999999999905, 'mse = 242988657.845\\nsamples = 46\\nvalue = 44478.261'),\n",
              " Text(36.522652588482465, 108.72, 'bedroom_num <= 1.5\\nmse = 202359375.0\\nsamples = 16\\nvalue = 64875.0'),\n",
              " Text(36.324257932446265, 94.22399999999999, 'locality <= 776.5\\nmse = 174500000.0\\nsamples = 12\\nvalue = 60000.0'),\n",
              " Text(36.14389915423153, 79.72799999999998, 'area <= 6.558\\nmse = 162160000.0\\nsamples = 10\\nvalue = 62800.0'),\n",
              " Text(35.99961213165975, 65.232, 'bathroom_num <= 1.207\\nmse = 40222222.222\\nsamples = 6\\nvalue = 68333.333'),\n",
              " Text(35.927468620373865, 50.73599999999999, 'locality <= 775.5\\nmse = 52000000.0\\nsamples = 4\\nvalue = 70000.0'),\n",
              " Text(35.85532510908797, 36.23999999999998, 'mse = 0.0\\nsamples = 1\\nvalue = 72000.0'),\n",
              " Text(35.99961213165975, 36.23999999999998, 'mse = 67555555.556\\nsamples = 3\\nvalue = 69333.333'),\n",
              " Text(36.07175564294565, 50.73599999999999, 'mse = 0.0\\nsamples = 2\\nvalue = 65000.0'),\n",
              " Text(36.28818617680332, 65.232, 'area <= 6.572\\nmse = 230250000.0\\nsamples = 4\\nvalue = 54500.0'),\n",
              " Text(36.21604266551743, 50.73599999999999, 'mse = 342250000.0\\nsamples = 2\\nvalue = 56500.0'),\n",
              " Text(36.36032968808921, 50.73599999999999, 'mse = 110250000.0\\nsamples = 2\\nvalue = 52500.0'),\n",
              " Text(36.50461671066099, 79.72799999999998, 'locality <= 779.0\\nmse = 1000000.0\\nsamples = 2\\nvalue = 46000.0'),\n",
              " Text(36.4324731993751, 65.232, 'mse = 0.0\\nsamples = 1\\nvalue = 45000.0'),\n",
              " Text(36.576760221946884, 65.232, 'mse = 0.0\\nsamples = 1\\nvalue = 47000.0'),\n",
              " Text(36.721047244518665, 94.22399999999999, 'area <= 6.565\\nmse = 750000.0\\nsamples = 4\\nvalue = 79500.0'),\n",
              " Text(36.64890373323278, 79.72799999999998, 'mse = 0.0\\nsamples = 2\\nvalue = 80000.0'),\n",
              " Text(36.79319075580456, 79.72799999999998, 'mse = 1000000.0\\nsamples = 2\\nvalue = 79000.0'),\n",
              " Text(37.53717071594031, 123.216, 'locality <= 72.5\\nmse = 137401701.323\\nsamples = 23\\nvalue = 36021.739'),\n",
              " Text(37.08176480094812, 108.72, 'locality <= 49.5\\nmse = 98000000.0\\nsamples = 3\\nvalue = 57000.0'),\n",
              " Text(37.009621289662235, 94.22399999999999, 'area <= 6.593\\nmse = 20250000.0\\nsamples = 2\\nvalue = 50500.0'),\n",
              " Text(36.93747777837634, 79.72799999999998, 'mse = 0.0\\nsamples = 1\\nvalue = 46000.0'),\n",
              " Text(37.08176480094812, 79.72799999999998, 'mse = 0.0\\nsamples = 1\\nvalue = 55000.0'),\n",
              " Text(37.153908312234016, 94.22399999999999, 'mse = 0.0\\nsamples = 1\\nvalue = 70000.0'),\n",
              " Text(37.992576630932504, 108.72, 'locality <= 652.5\\nmse = 67396875.0\\nsamples = 20\\nvalue = 32875.0'),\n",
              " Text(37.53266174648494, 94.22399999999999, 'area <= 6.592\\nmse = 51850585.938\\nsamples = 16\\nvalue = 30406.25'),\n",
              " Text(37.2260518235199, 79.72799999999998, 'locality <= 248.5\\nmse = 38960000.0\\nsamples = 5\\nvalue = 36800.0'),\n",
              " Text(37.08176480094812, 65.232, 'locality <= 154.5\\nmse = 6888888.889\\nsamples = 3\\nvalue = 32333.333'),\n",
              " Text(37.009621289662235, 50.73599999999999, 'locality <= 94.0\\nmse = 6250000.0\\nsamples = 2\\nvalue = 33500.0'),\n",
              " Text(36.93747777837634, 36.23999999999998, 'mse = 0.0\\nsamples = 1\\nvalue = 31000.0'),\n",
              " Text(37.08176480094812, 36.23999999999998, 'mse = 0.0\\nsamples = 1\\nvalue = 36000.0'),\n",
              " Text(37.153908312234016, 50.73599999999999, 'mse = 0.0\\nsamples = 1\\nvalue = 30000.0'),\n",
              " Text(37.37033884609169, 65.232, 'area <= 6.588\\nmse = 12250000.0\\nsamples = 2\\nvalue = 43500.0'),\n",
              " Text(37.2981953348058, 50.73599999999999, 'mse = 0.0\\nsamples = 1\\nvalue = 47000.0'),\n",
              " Text(37.44248235737758, 50.73599999999999, 'mse = 0.0\\nsamples = 1\\nvalue = 40000.0'),\n",
              " Text(37.83927166944998, 79.72799999999998, 'bedroom_num <= 1.5\\nmse = 30681818.182\\nsamples = 11\\nvalue = 27500.0'),\n",
              " Text(37.65891289123525, 65.232, 'locality <= 623.0\\nmse = 18496093.75\\nsamples = 8\\nvalue = 25187.5'),\n",
              " Text(37.58676937994936, 50.73599999999999, 'area <= 6.601\\nmse = 8816326.531\\nsamples = 7\\nvalue = 26428.571'),\n",
              " Text(37.44248235737758, 36.23999999999998, 'locality <= 424.5\\nmse = 3600000.0\\nsamples = 5\\nvalue = 25000.0'),\n",
              " Text(37.37033884609169, 21.744, 'bathroom_num <= 1.207\\nmse = 888888.889\\nsamples = 3\\nvalue = 23666.667'),\n",
              " Text(37.2981953348058, 7.2479999999999905, 'mse = 0.0\\nsamples = 1\\nvalue = 25000.0'),\n",
              " Text(37.44248235737758, 7.2479999999999905, 'mse = 0.0\\nsamples = 2\\nvalue = 23000.0'),\n",
              " Text(37.51462586866347, 21.744, 'mse = 1000000.0\\nsamples = 2\\nvalue = 27000.0'),\n",
              " Text(37.73105640252115, 36.23999999999998, 'locality <= 243.5\\nmse = 4000000.0\\nsamples = 2\\nvalue = 30000.0'),\n",
              " Text(37.65891289123525, 21.744, 'mse = 0.0\\nsamples = 1\\nvalue = 28000.0'),\n",
              " Text(37.803199913807035, 21.744, 'mse = 0.0\\nsamples = 1\\nvalue = 32000.0'),\n",
              " Text(37.73105640252115, 50.73599999999999, 'mse = 0.0\\nsamples = 1\\nvalue = 16500.0'),\n",
              " Text(38.01963044766471, 65.232, 'locality <= 418.0\\nmse = 10888888.889\\nsamples = 3\\nvalue = 33666.667'),\n",
              " Text(37.947486936378816, 50.73599999999999, 'area <= 6.603\\nmse = 2250000.0\\nsamples = 2\\nvalue = 31500.0'),\n",
              " Text(37.87534342509293, 36.23999999999998, 'mse = 0.0\\nsamples = 1\\nvalue = 30000.0'),\n",
              " Text(38.01963044766471, 36.23999999999998, 'mse = 0.0\\nsamples = 1\\nvalue = 33000.0'),\n",
              " Text(38.091773958950604, 50.73599999999999, 'mse = 0.0\\nsamples = 1\\nvalue = 38000.0'),\n",
              " Text(38.45249151538006, 94.22399999999999, 'bedroom_num <= 1.5\\nmse = 7687500.0\\nsamples = 4\\nvalue = 42750.0'),\n",
              " Text(38.38034800409417, 79.72799999999998, 'bathroom_num <= 1.207\\nmse = 5555555.556\\nsamples = 3\\nvalue = 41666.667'),\n",
              " Text(38.30820449280827, 65.232, 'area <= 6.592\\nmse = 6250000.0\\nsamples = 2\\nvalue = 42500.0'),\n",
              " Text(38.236060981522385, 50.73599999999999, 'mse = 0.0\\nsamples = 1\\nvalue = 45000.0'),\n",
              " Text(38.38034800409417, 50.73599999999999, 'mse = 0.0\\nsamples = 1\\nvalue = 40000.0'),\n",
              " Text(38.45249151538006, 65.232, 'mse = 0.0\\nsamples = 1\\nvalue = 40000.0'),\n",
              " Text(38.52463502666595, 79.72799999999998, 'mse = 0.0\\nsamples = 1\\nvalue = 46000.0'),\n",
              " Text(73.78660793648656, 166.704, 'area <= 6.39\\nmse = 172703395.241\\nsamples = 5476\\nvalue = 27181.653'),\n",
              " Text(55.92756626084146, 152.208, 'area <= 6.047\\nmse = 131773810.096\\nsamples = 2523\\nvalue = 23621.931'),\n",
              " Text(46.666706620697084, 137.712, 'bedroom_num <= 1.5\\nmse = 67383694.88\\nsamples = 691\\nvalue = 19092.766'),\n",
              " Text(43.951179766201584, 123.216, 'area <= 5.851\\nmse = 56796779.847\\nsamples = 684\\nvalue = 18820.323'),\n",
              " Text(40.89184399073426, 108.72, 'area <= 5.819\\nmse = 33020878.572\\nsamples = 307\\nvalue = 17007.564'),\n",
              " Text(40.02161288584819, 94.22399999999999, 'locality <= 761.5\\nmse = 32503985.627\\nsamples = 281\\nvalue = 17458.441'),\n",
              " Text(39.462500673382536, 79.72799999999998, 'locality <= 752.0\\nmse = 31690732.053\\nsamples = 259\\nvalue = 17103.56'),\n",
              " Text(38.99356785002424, 65.232, 'area <= 5.449\\nmse = 30440159.378\\nsamples = 256\\nvalue = 17231.727'),\n",
              " Text(38.52463502666595, 50.73599999999999, 'area <= 5.027\\nmse = 21113096.647\\nsamples = 39\\nvalue = 14315.385'),\n",
              " Text(38.34427624845122, 36.23999999999998, 'area <= 4.899\\nmse = 1562500.0\\nsamples = 2\\nvalue = 5750.0'),\n",
              " Text(38.27213273716533, 21.744, 'mse = 0.0\\nsamples = 1\\nvalue = 4500.0'),\n",
              " Text(38.41641975973711, 21.744, 'mse = 0.0\\nsamples = 1\\nvalue = 7000.0'),\n",
              " Text(38.70499380488068, 36.23999999999998, 'locality <= 603.5\\nmse = 17989802.776\\nsamples = 37\\nvalue = 14778.378'),\n",
              " Text(38.56070678230889, 21.744, 'locality <= 222.5\\nmse = 17882352.941\\nsamples = 34\\nvalue = 14500.0'),\n",
              " Text(38.488563271023004, 7.2479999999999905, 'mse = 14790895.062\\nsamples = 18\\nvalue = 15527.778'),\n",
              " Text(38.632850293594785, 7.2479999999999905, 'mse = 18834960.938\\nsamples = 16\\nvalue = 13343.75'),\n",
              " Text(38.84928082745246, 21.744, 'furnishing <= 1.5\\nmse = 8375555.556\\nsamples = 3\\nvalue = 17933.333'),\n",
              " Text(38.77713731616657, 7.2479999999999905, 'mse = 160000.0\\nsamples = 2\\nvalue = 15900.0'),\n",
              " Text(38.92142433873835, 7.2479999999999905, 'mse = 0.0\\nsamples = 1\\nvalue = 22000.0'),\n",
              " Text(39.462500673382536, 50.73599999999999, 'bathroom_num <= 1.207\\nmse = 30313176.626\\nsamples = 217\\nvalue = 17755.862'),\n",
              " Text(39.282141895167804, 36.23999999999998, 'locality <= 419.5\\nmse = 28544204.49\\nsamples = 202\\nvalue = 17484.158'),\n",
              " Text(39.13785487259602, 21.744, 'locality <= 344.5\\nmse = 34845400.377\\nsamples = 108\\nvalue = 18384.259'),\n",
              " Text(39.065711361310136, 7.2479999999999905, 'mse = 36348939.764\\nsamples = 73\\nvalue = 16938.356'),\n",
              " Text(39.20999838388192, 7.2479999999999905, 'mse = 18254285.714\\nsamples = 35\\nvalue = 21400.0'),\n",
              " Text(39.42642891773959, 21.744, 'furnishing <= 1.5\\nmse = 19304202.128\\nsamples = 94\\nvalue = 16450.0'),\n",
              " Text(39.3542854064537, 7.2479999999999905, 'mse = 12500256.0\\nsamples = 25\\nvalue = 18812.0'),\n",
              " Text(39.49857242902548, 7.2479999999999905, 'mse = 19015618.568\\nsamples = 69\\nvalue = 15594.203'),\n",
              " Text(39.64285945159726, 36.23999999999998, 'locality <= 37.0\\nmse = 39753359.893\\nsamples = 15\\nvalue = 21414.8'),\n",
              " Text(39.57071594031137, 21.744, 'mse = 0.0\\nsamples = 1\\nvalue = 35000.0'),\n",
              " Text(39.715002962883155, 21.744, 'area <= 5.669\\nmse = 28468574.959\\nsamples = 14\\nvalue = 20444.429'),\n",
              " Text(39.64285945159726, 7.2479999999999905, 'mse = 27250000.0\\nsamples = 4\\nvalue = 24500.0'),\n",
              " Text(39.78714647416905, 7.2479999999999905, 'mse = 19745315.56\\nsamples = 10\\nvalue = 18822.2'),\n",
              " Text(39.93143349674083, 65.232, 'area <= 5.751\\nmse = 17388888.889\\nsamples = 3\\nvalue = 6166.667'),\n",
              " Text(39.859289985454936, 50.73599999999999, 'locality <= 757.0\\nmse = 562500.0\\nsamples = 2\\nvalue = 3250.0'),\n",
              " Text(39.78714647416905, 36.23999999999998, 'mse = 0.0\\nsamples = 1\\nvalue = 2500.0'),\n",
              " Text(39.93143349674083, 36.23999999999998, 'mse = 0.0\\nsamples = 1\\nvalue = 4000.0'),\n",
              " Text(40.00357700802672, 50.73599999999999, 'mse = 0.0\\nsamples = 1\\nvalue = 12000.0'),\n",
              " Text(40.58072509831385, 79.72799999999998, 'furnishing <= 1.5\\nmse = 23140495.868\\nsamples = 22\\nvalue = 21636.364'),\n",
              " Text(40.292151053170286, 65.232, 'area <= 5.669\\nmse = 14489795.918\\nsamples = 7\\nvalue = 25285.714'),\n",
              " Text(40.147864030598505, 50.73599999999999, 'area <= 5.448\\nmse = 2000000.0\\nsamples = 3\\nvalue = 23000.0'),\n",
              " Text(40.07572051931261, 36.23999999999998, 'mse = 0.0\\nsamples = 1\\nvalue = 21000.0'),\n",
              " Text(40.22000754188439, 36.23999999999998, 'mse = 0.0\\nsamples = 2\\nvalue = 24000.0'),\n",
              " Text(40.43643807574207, 50.73599999999999, 'locality <= 776.5\\nmse = 17000000.0\\nsamples = 4\\nvalue = 27000.0'),\n",
              " Text(40.36429456445617, 36.23999999999998, 'mse = 18666666.667\\nsamples = 3\\nvalue = 26000.0'),\n",
              " Text(40.50858158702796, 36.23999999999998, 'mse = 0.0\\nsamples = 1\\nvalue = 30000.0'),\n",
              " Text(40.86929914345742, 65.232, 'area <= 5.501\\nmse = 18062222.222\\nsamples = 15\\nvalue = 19933.333'),\n",
              " Text(40.72501212088563, 50.73599999999999, 'area <= 5.448\\nmse = 42250000.0\\nsamples = 2\\nvalue = 23500.0'),\n",
              " Text(40.65286860959974, 36.23999999999998, 'mse = 0.0\\nsamples = 1\\nvalue = 17000.0'),\n",
              " Text(40.797155632171524, 36.23999999999998, 'mse = 0.0\\nsamples = 1\\nvalue = 30000.0'),\n",
              " Text(41.0135861660292, 50.73599999999999, 'locality <= 765.0\\nmse = 12082840.237\\nsamples = 13\\nvalue = 19384.615'),\n",
              " Text(40.941442654743305, 36.23999999999998, 'mse = 0.0\\nsamples = 1\\nvalue = 25000.0'),\n",
              " Text(41.085729677315086, 36.23999999999998, 'area <= 5.569\\nmse = 10243055.556\\nsamples = 12\\nvalue = 18916.667'),\n",
              " Text(41.0135861660292, 21.744, 'mse = 0.0\\nsamples = 1\\nvalue = 14000.0'),\n",
              " Text(41.15787318860098, 21.744, 'area <= 5.652\\nmse = 8776859.504\\nsamples = 11\\nvalue = 19363.636'),\n",
              " Text(41.085729677315086, 7.2479999999999905, 'mse = 12250000.0\\nsamples = 2\\nvalue = 21500.0'),\n",
              " Text(41.230016699886875, 7.2479999999999905, 'mse = 6765432.099\\nsamples = 9\\nvalue = 18888.889'),\n",
              " Text(41.76207509562032, 94.22399999999999, 'locality <= 141.0\\nmse = 12664571.006\\nsamples = 26\\nvalue = 12134.615'),\n",
              " Text(41.44644723374454, 79.72799999999998, 'locality <= 46.0\\nmse = 9805555.556\\nsamples = 6\\nvalue = 15666.667'),\n",
              " Text(41.374303722458656, 65.232, 'furnishing <= 1.5\\nmse = 625000.0\\nsamples = 4\\nvalue = 13500.0'),\n",
              " Text(41.30216021117276, 50.73599999999999, 'area <= 5.836\\nmse = 62500.0\\nsamples = 2\\nvalue = 14250.0'),\n",
              " Text(41.230016699886875, 36.23999999999998, 'mse = 0.0\\nsamples = 1\\nvalue = 14500.0'),\n",
              " Text(41.374303722458656, 36.23999999999998, 'mse = 0.0\\nsamples = 1\\nvalue = 14000.0'),\n",
              " Text(41.44644723374454, 50.73599999999999, 'mse = 62500.0\\nsamples = 2\\nvalue = 12750.0'),\n",
              " Text(41.51859074503044, 65.232, 'mse = 0.0\\nsamples = 2\\nvalue = 20000.0'),\n",
              " Text(42.07770295749609, 79.72799999999998, 'locality <= 664.5\\nmse = 8656875.0\\nsamples = 20\\nvalue = 11075.0'),\n",
              " Text(41.84323654581695, 65.232, 'locality <= 410.5\\nmse = 5753858.025\\nsamples = 18\\nvalue = 11694.444'),\n",
              " Text(41.59073425631633, 50.73599999999999, 'locality <= 364.5\\nmse = 3049586.777\\nsamples = 11\\nvalue = 10863.636'),\n",
              " Text(41.51859074503044, 36.23999999999998, 'locality <= 314.5\\nmse = 190000.0\\nsamples = 10\\nvalue = 11400.0'),\n",
              " Text(41.44644723374454, 21.744, 'mse = 0.0\\nsamples = 2\\nvalue = 11000.0'),\n",
              " Text(41.59073425631633, 21.744, 'bathroom_num <= 1.207\\nmse = 187500.0\\nsamples = 8\\nvalue = 11500.0'),\n",
              " Text(41.51859074503044, 7.2479999999999905, 'mse = 62500.0\\nsamples = 4\\nvalue = 11750.0'),\n",
              " Text(41.66287776760222, 7.2479999999999905, 'mse = 187500.0\\nsamples = 4\\nvalue = 11250.0'),\n",
              " Text(41.66287776760222, 36.23999999999998, 'mse = 0.0\\nsamples = 1\\nvalue = 5500.0'),\n",
              " Text(42.09573883531757, 50.73599999999999, 'locality <= 585.0\\nmse = 7214285.714\\nsamples = 7\\nvalue = 13000.0'),\n",
              " Text(41.95145181274579, 36.23999999999998, 'locality <= 497.0\\nmse = 7940000.0\\nsamples = 5\\nvalue = 13600.0'),\n",
              " Text(41.87930830145989, 21.744, 'area <= 5.826\\nmse = 5171875.0\\nsamples = 4\\nvalue = 12625.0'),\n",
              " Text(41.807164790174, 7.2479999999999905, 'mse = 0.0\\nsamples = 1\\nvalue = 16500.0'),\n",
              " Text(41.95145181274579, 7.2479999999999905, 'mse = 222222.222\\nsamples = 3\\nvalue = 11333.333'),\n",
              " Text(42.023595324031675, 21.744, 'mse = 0.0\\nsamples = 1\\nvalue = 17500.0'),\n",
              " Text(42.24002585788935, 36.23999999999998, 'area <= 5.826\\nmse = 2250000.0\\nsamples = 2\\nvalue = 11500.0'),\n",
              " Text(42.167882346603456, 21.744, 'mse = 0.0\\nsamples = 1\\nvalue = 10000.0'),\n",
              " Text(42.312169369175244, 21.744, 'mse = 0.0\\nsamples = 1\\nvalue = 13000.0'),\n",
              " Text(42.312169369175244, 65.232, 'bathroom_num <= 1.207\\nmse = 250000.0\\nsamples = 2\\nvalue = 5500.0'),\n",
              " Text(42.24002585788935, 50.73599999999999, 'mse = 0.0\\nsamples = 1\\nvalue = 5000.0'),\n",
              " Text(42.38431288046113, 50.73599999999999, 'mse = 0.0\\nsamples = 1\\nvalue = 6000.0'),\n",
              " Text(47.01051554166891, 108.72, 'locality <= 761.5\\nmse = 71303024.441\\nsamples = 377\\nvalue = 20296.496'),\n",
              " Text(45.85621936109465, 94.22399999999999, 'furnishing <= 1.5\\nmse = 67939702.349\\nsamples = 359\\nvalue = 19946.46'),\n",
              " Text(44.512546463394926, 79.72799999999998, 'area <= 5.97\\nmse = 88617604.6\\nsamples = 123\\nvalue = 21436.585'),\n",
              " Text(43.4664655497495, 65.232, 'locality <= 447.5\\nmse = 61382398.656\\nsamples = 69\\nvalue = 19314.493'),\n",
              " Text(42.88931745946237, 50.73599999999999, 'locality <= 404.5\\nmse = 72785743.645\\nsamples = 43\\nvalue = 20946.512'),\n",
              " Text(42.600743414318806, 36.23999999999998, 'area <= 5.893\\nmse = 47946450.617\\nsamples = 36\\nvalue = 19427.778'),\n",
              " Text(42.456456391747025, 21.744, 'area <= 5.872\\nmse = 58762396.694\\nsamples = 22\\nvalue = 21181.818'),\n",
              " Text(42.38431288046113, 7.2479999999999905, 'mse = 44178200.692\\nsamples = 17\\nvalue = 19294.118'),\n",
              " Text(42.52859990303291, 7.2479999999999905, 'mse = 55040000.0\\nsamples = 5\\nvalue = 27600.0'),\n",
              " Text(42.74503043689059, 21.744, 'locality <= 76.5\\nmse = 18517755.102\\nsamples = 14\\nvalue = 16671.429'),\n",
              " Text(42.6728869256047, 7.2479999999999905, 'mse = 11555555.556\\nsamples = 3\\nvalue = 20333.333'),\n",
              " Text(42.81717394817648, 7.2479999999999905, 'mse = 15761983.471\\nsamples = 11\\nvalue = 15672.727'),\n",
              " Text(43.17789150460594, 36.23999999999998, 'locality <= 423.5\\nmse = 127662448.98\\nsamples = 7\\nvalue = 28757.143'),\n",
              " Text(43.03360448203416, 21.744, 'area <= 5.913\\nmse = 25000000.0\\nsamples = 2\\nvalue = 45000.0'),\n",
              " Text(42.96146097074826, 7.2479999999999905, 'mse = 0.0\\nsamples = 1\\nvalue = 40000.0'),\n",
              " Text(43.105747993320044, 7.2479999999999905, 'mse = 0.0\\nsamples = 1\\nvalue = 50000.0'),\n",
              " Text(43.32217852717772, 21.744, 'locality <= 435.0\\nmse = 20982400.0\\nsamples = 5\\nvalue = 22260.0'),\n",
              " Text(43.250035015891825, 7.2479999999999905, 'mse = 7506875.0\\nsamples = 4\\nvalue = 20325.0'),\n",
              " Text(43.39432203846361, 7.2479999999999905, 'mse = 0.0\\nsamples = 1\\nvalue = 30000.0'),\n",
              " Text(44.04361364003663, 50.73599999999999, 'locality <= 502.5\\nmse = 30832840.237\\nsamples = 26\\nvalue = 16615.385'),\n",
              " Text(43.75503959489307, 36.23999999999998, 'locality <= 480.0\\nmse = 30729166.667\\nsamples = 6\\nvalue = 11250.0'),\n",
              " Text(43.61075257232128, 21.744, 'area <= 5.912\\nmse = 9921875.0\\nsamples = 4\\nvalue = 14625.0'),\n",
              " Text(43.538609061035395, 7.2479999999999905, 'mse = 1555555.556\\nsamples = 3\\nvalue = 16333.333'),\n",
              " Text(43.682896083607176, 7.2479999999999905, 'mse = 0.0\\nsamples = 1\\nvalue = 9500.0'),\n",
              " Text(43.89932661746485, 21.744, 'bathroom_num <= 1.207\\nmse = 4000000.0\\nsamples = 2\\nvalue = 4500.0'),\n",
              " Text(43.82718310617896, 7.2479999999999905, 'mse = 0.0\\nsamples = 1\\nvalue = 2500.0'),\n",
              " Text(43.97147012875074, 7.2479999999999905, 'mse = 0.0\\nsamples = 1\\nvalue = 6500.0'),\n",
              " Text(44.332187685180195, 36.23999999999998, 'locality <= 693.5\\nmse = 19636875.0\\nsamples = 20\\nvalue = 18225.0'),\n",
              " Text(44.18790066260841, 21.744, 'area <= 5.947\\nmse = 14307692.308\\nsamples = 13\\nvalue = 20000.0'),\n",
              " Text(44.115757151322526, 7.2479999999999905, 'mse = 11076388.889\\nsamples = 12\\nvalue = 19416.667'),\n",
              " Text(44.26004417389431, 7.2479999999999905, 'mse = 0.0\\nsamples = 1\\nvalue = 27000.0'),\n",
              " Text(44.47647470775198, 21.744, 'area <= 5.953\\nmse = 12816326.531\\nsamples = 7\\nvalue = 14928.571'),\n",
              " Text(44.40433119646609, 7.2479999999999905, 'mse = 8260000.0\\nsamples = 5\\nvalue = 13300.0'),\n",
              " Text(44.54861821903787, 7.2479999999999905, 'mse = 1000000.0\\nsamples = 2\\nvalue = 19000.0'),\n",
              " Text(45.55862737704035, 65.232, 'locality <= 551.5\\nmse = 110311385.46\\nsamples = 54\\nvalue = 24148.148'),\n",
              " Text(45.197909820610896, 50.73599999999999, 'locality <= 233.0\\nmse = 92768395.062\\nsamples = 45\\nvalue = 22377.778'),\n",
              " Text(44.909335775467326, 36.23999999999998, 'locality <= 135.0\\nmse = 128725623.583\\nsamples = 21\\nvalue = 26190.476'),\n",
              " Text(44.765048752895545, 21.744, 'locality <= 76.0\\nmse = 116739795.918\\nsamples = 14\\nvalue = 22785.714'),\n",
              " Text(44.69290524160965, 7.2479999999999905, 'mse = 146666666.667\\nsamples = 6\\nvalue = 29000.0'),\n",
              " Text(44.83719226418144, 7.2479999999999905, 'mse = 43609375.0\\nsamples = 8\\nvalue = 18125.0'),\n",
              " Text(45.05362279803911, 21.744, 'locality <= 174.5\\nmse = 83142857.143\\nsamples = 7\\nvalue = 33000.0'),\n",
              " Text(44.98147928675322, 7.2479999999999905, 'mse = 80888888.889\\nsamples = 3\\nvalue = 40666.667'),\n",
              " Text(45.125766309325, 7.2479999999999905, 'mse = 7687500.0\\nsamples = 4\\nvalue = 27250.0'),\n",
              " Text(45.48648386575446, 36.23999999999998, 'bathroom_num <= 1.207\\nmse = 37456597.222\\nsamples = 24\\nvalue = 19041.667'),\n",
              " Text(45.34219684318268, 21.744, 'locality <= 344.5\\nmse = 32797783.934\\nsamples = 19\\nvalue = 17789.474'),\n",
              " Text(45.27005333189678, 7.2479999999999905, 'mse = 30760000.0\\nsamples = 10\\nvalue = 15700.0'),\n",
              " Text(45.414340354468564, 7.2479999999999905, 'mse = 24820987.654\\nsamples = 9\\nvalue = 20111.111'),\n",
              " Text(45.63077088832624, 21.744, 'area <= 6.032\\nmse = 26560000.0\\nsamples = 5\\nvalue = 23800.0'),\n",
              " Text(45.55862737704035, 7.2479999999999905, 'mse = 28687500.0\\nsamples = 4\\nvalue = 24750.0'),\n",
              " Text(45.70291439961213, 7.2479999999999905, 'mse = 0.0\\nsamples = 1\\nvalue = 20000.0'),\n",
              " Text(45.91934493346981, 50.73599999999999, 'locality <= 568.5\\nmse = 104000000.0\\nsamples = 9\\nvalue = 33000.0'),\n",
              " Text(45.847201422183915, 36.23999999999998, 'mse = 0.0\\nsamples = 1\\nvalue = 55000.0'),\n",
              " Text(45.991488444755696, 36.23999999999998, 'bathroom_num <= 1.207\\nmse = 48937500.0\\nsamples = 8\\nvalue = 30250.0'),\n",
              " Text(45.91934493346981, 21.744, 'locality <= 619.0\\nmse = 55222222.222\\nsamples = 6\\nvalue = 28666.667'),\n",
              " Text(45.847201422183915, 7.2479999999999905, 'mse = 48222222.222\\nsamples = 3\\nvalue = 26666.667'),\n",
              " Text(45.991488444755696, 7.2479999999999905, 'mse = 54222222.222\\nsamples = 3\\nvalue = 30666.667'),\n",
              " Text(46.06363195604159, 21.744, 'mse = 0.0\\nsamples = 2\\nvalue = 35000.0'),\n",
              " Text(47.19989225879438, 79.72799999999998, 'locality <= 751.5\\nmse = 55402219.389\\nsamples = 236\\nvalue = 19169.826'),\n",
              " Text(47.127748747508484, 65.232, 'locality <= 530.0\\nmse = 54779937.87\\nsamples = 235\\nvalue = 19230.123'),\n",
              " Text(46.64078004632872, 50.73599999999999, 'locality <= 292.5\\nmse = 51583592.755\\nsamples = 167\\nvalue = 18683.108'),\n",
              " Text(46.35220600118515, 36.23999999999998, 'locality <= 256.5\\nmse = 62759146.529\\nsamples = 64\\nvalue = 20575.453'),\n",
              " Text(46.20791897861337, 21.744, 'area <= 5.998\\nmse = 55582061.944\\nsamples = 56\\nvalue = 19514.804'),\n",
              " Text(46.13577546732748, 7.2479999999999905, 'mse = 35090466.805\\nsamples = 43\\nvalue = 18385.558'),\n",
              " Text(46.280062489899265, 7.2479999999999905, 'mse = 105192307.692\\nsamples = 13\\nvalue = 23250.0'),\n",
              " Text(46.49649302375693, 21.744, 'locality <= 260.0\\nmse = 50000000.0\\nsamples = 8\\nvalue = 28000.0'),\n",
              " Text(46.424349512471046, 7.2479999999999905, 'mse = 17555555.556\\nsamples = 3\\nvalue = 35666.667'),\n",
              " Text(46.56863653504283, 7.2479999999999905, 'mse = 13040000.0\\nsamples = 5\\nvalue = 23400.0'),\n",
              " Text(46.929354091472284, 36.23999999999998, 'locality <= 344.5\\nmse = 41031922.727\\nsamples = 103\\nvalue = 17507.282'),\n",
              " Text(46.7850670689005, 21.744, 'locality <= 319.0\\nmse = 16427977.839\\nsamples = 38\\nvalue = 15421.053'),\n",
              " Text(46.71292355761461, 7.2479999999999905, 'mse = 27490000.0\\nsamples = 10\\nvalue = 18100.0'),\n",
              " Text(46.85721058018639, 7.2479999999999905, 'mse = 8998724.49\\nsamples = 28\\nvalue = 14464.286'),\n",
              " Text(47.073641114044065, 21.744, 'locality <= 352.0\\nmse = 51383790.563\\nsamples = 65\\nvalue = 18726.923'),\n",
              " Text(47.00149760275818, 7.2479999999999905, 'mse = 0.0\\nsamples = 1\\nvalue = 45000.0'),\n",
              " Text(47.14578462532996, 7.2479999999999905, 'mse = 41232598.054\\nsamples = 64\\nvalue = 18316.406'),\n",
              " Text(47.61471744868825, 50.73599999999999, 'locality <= 568.5\\nmse = 60090181.661\\nsamples = 68\\nvalue = 20573.529'),\n",
              " Text(47.43435867047352, 36.23999999999998, 'bathroom_num <= 1.207\\nmse = 10560000.0\\nsamples = 5\\nvalue = 30800.0'),\n",
              " Text(47.362215159187635, 21.744, 'locality <= 552.5\\nmse = 4750000.0\\nsamples = 4\\nvalue = 29500.0'),\n",
              " Text(47.29007164790174, 7.2479999999999905, 'mse = 888888.889\\nsamples = 3\\nvalue = 30666.667'),\n",
              " Text(47.43435867047352, 7.2479999999999905, 'mse = 0.0\\nsamples = 1\\nvalue = 26000.0'),\n",
              " Text(47.506502181759416, 21.744, 'mse = 0.0\\nsamples = 1\\nvalue = 36000.0'),\n",
              " Text(47.79507622690298, 36.23999999999998, 'area <= 5.872\\nmse = 55062358.277\\nsamples = 63\\nvalue = 19761.905'),\n",
              " Text(47.6507892043312, 21.744, 'locality <= 692.0\\nmse = 18265432.099\\nsamples = 27\\nvalue = 17944.444'),\n",
              " Text(47.5786456930453, 7.2479999999999905, 'mse = 10520710.059\\nsamples = 13\\nvalue = 19692.308'),\n",
              " Text(47.72293271561709, 7.2479999999999905, 'mse = 19985969.388\\nsamples = 14\\nvalue = 16321.429'),\n",
              " Text(47.93936324947476, 21.744, 'area <= 5.934\\nmse = 78324652.778\\nsamples = 36\\nvalue = 21125.0'),\n",
              " Text(47.86721973818887, 7.2479999999999905, 'mse = 134055555.556\\nsamples = 6\\nvalue = 27833.333'),\n",
              " Text(48.01150676076065, 7.2479999999999905, 'mse = 56378055.556\\nsamples = 30\\nvalue = 19783.333'),\n",
              " Text(47.272035770080265, 65.232, 'mse = 0.0\\nsamples = 1\\nvalue = 5000.0'),\n",
              " Text(48.16481172224317, 94.22399999999999, 'locality <= 773.0\\nmse = 87200617.284\\nsamples = 18\\nvalue = 27277.778'),\n",
              " Text(47.93936324947476, 79.72799999999998, 'locality <= 769.5\\nmse = 6250000.0\\nsamples = 2\\nvalue = 47500.0'),\n",
              " Text(47.86721973818887, 65.232, 'mse = 0.0\\nsamples = 1\\nvalue = 45000.0'),\n",
              " Text(48.01150676076065, 65.232, 'mse = 0.0\\nsamples = 1\\nvalue = 50000.0'),\n",
              " Text(48.390260195011585, 79.72799999999998, 'furnishing <= 1.5\\nmse = 39812500.0\\nsamples = 16\\nvalue = 24750.0'),\n",
              " Text(48.155793783332435, 65.232, 'area <= 5.998\\nmse = 15440000.0\\nsamples = 5\\nvalue = 31600.0'),\n",
              " Text(48.08365027204655, 50.73599999999999, 'area <= 5.925\\nmse = 15250000.0\\nsamples = 4\\nvalue = 32500.0'),\n",
              " Text(48.01150676076065, 36.23999999999998, 'mse = 0.0\\nsamples = 1\\nvalue = 33000.0'),\n",
              " Text(48.155793783332435, 36.23999999999998, 'mse = 20222222.222\\nsamples = 3\\nvalue = 32333.333'),\n",
              " Text(48.22793729461833, 50.73599999999999, 'mse = 0.0\\nsamples = 1\\nvalue = 28000.0'),\n",
              " Text(48.62472660669073, 65.232, 'locality <= 785.0\\nmse = 19867768.595\\nsamples = 11\\nvalue = 21636.364'),\n",
              " Text(48.444367828476004, 50.73599999999999, 'area <= 5.899\\nmse = 14859375.0\\nsamples = 8\\nvalue = 23125.0'),\n",
              " Text(48.300080805904216, 36.23999999999998, 'locality <= 780.5\\nmse = 6222222.222\\nsamples = 3\\nvalue = 25333.333'),\n",
              " Text(48.22793729461833, 21.744, 'bathroom_num <= 1.207\\nmse = 1000000.0\\nsamples = 2\\nvalue = 27000.0'),\n",
              " Text(48.155793783332435, 7.2479999999999905, 'mse = 0.0\\nsamples = 1\\nvalue = 28000.0'),\n",
              " Text(48.300080805904216, 7.2479999999999905, 'mse = 0.0\\nsamples = 1\\nvalue = 26000.0'),\n",
              " Text(48.37222431719011, 21.744, 'mse = 0.0\\nsamples = 1\\nvalue = 22000.0'),\n",
              " Text(48.588654851047785, 36.23999999999998, 'locality <= 776.0\\nmse = 15360000.0\\nsamples = 5\\nvalue = 21800.0'),\n",
              " Text(48.51651133976189, 21.744, 'mse = 0.0\\nsamples = 2\\nvalue = 18000.0'),\n",
              " Text(48.66079836233367, 21.744, 'area <= 5.966\\nmse = 9555555.556\\nsamples = 3\\nvalue = 24333.333'),\n",
              " Text(48.588654851047785, 7.2479999999999905, 'mse = 0.0\\nsamples = 1\\nvalue = 20000.0'),\n",
              " Text(48.732941873619566, 7.2479999999999905, 'mse = 250000.0\\nsamples = 2\\nvalue = 26500.0'),\n",
              " Text(48.80508538490546, 50.73599999999999, 'bathroom_num <= 1.207\\nmse = 11555555.556\\nsamples = 3\\nvalue = 17666.667'),\n",
              " Text(48.732941873619566, 36.23999999999998, 'mse = 0.0\\nsamples = 1\\nvalue = 13000.0'),\n",
              " Text(48.87722889619135, 36.23999999999998, 'area <= 5.982\\nmse = 1000000.0\\nsamples = 2\\nvalue = 20000.0'),\n",
              " Text(48.80508538490546, 21.744, 'mse = 0.0\\nsamples = 1\\nvalue = 21000.0'),\n",
              " Text(48.94937240747724, 21.744, 'mse = 0.0\\nsamples = 1\\nvalue = 19000.0'),\n",
              " Text(49.382233475192585, 123.216, 'locality <= 505.0\\nmse = 385918367.347\\nsamples = 7\\nvalue = 45714.286'),\n",
              " Text(49.3100899639067, 108.72, 'bathroom_num <= 1.573\\nmse = 68888888.889\\nsamples = 6\\nvalue = 38333.333'),\n",
              " Text(49.237946452620804, 94.22399999999999, 'bedroom_num <= 2.5\\nmse = 10560000.0\\nsamples = 5\\nvalue = 41800.0'),\n",
              " Text(49.16580294133492, 79.72799999999998, 'area <= 4.422\\nmse = 1187500.0\\nsamples = 4\\nvalue = 40250.0'),\n",
              " Text(49.02151591876313, 65.232, 'locality <= 471.0\\nmse = 1000000.0\\nsamples = 2\\nvalue = 41000.0'),\n",
              " Text(48.94937240747724, 50.73599999999999, 'mse = 0.0\\nsamples = 1\\nvalue = 42000.0'),\n",
              " Text(49.09365943004902, 50.73599999999999, 'mse = 0.0\\nsamples = 1\\nvalue = 40000.0'),\n",
              " Text(49.3100899639067, 65.232, 'area <= 5.111\\nmse = 250000.0\\nsamples = 2\\nvalue = 39500.0'),\n",
              " Text(49.237946452620804, 50.73599999999999, 'mse = 0.0\\nsamples = 1\\nvalue = 39000.0'),\n",
              " Text(49.382233475192585, 50.73599999999999, 'mse = 0.0\\nsamples = 1\\nvalue = 40000.0'),\n",
              " Text(49.3100899639067, 79.72799999999998, 'mse = 0.0\\nsamples = 1\\nvalue = 48000.0'),\n",
              " Text(49.382233475192585, 94.22399999999999, 'mse = 0.0\\nsamples = 1\\nvalue = 21000.0'),\n",
              " Text(49.45437698647848, 108.72, 'mse = 0.0\\nsamples = 1\\nvalue = 90000.0'),\n",
              " Text(65.18842590098583, 137.712, 'locality <= 763.5\\nmse = 145405023.718\\nsamples = 1832\\nvalue = 25330.257'),\n",
              " Text(59.38538221192695, 123.216, 'locality <= 452.5\\nmse = 137559177.343\\nsamples = 1731\\nvalue = 24742.941'),\n",
              " Text(55.124406076604, 108.72, 'locality <= 441.0\\nmse = 121365000.022\\nsamples = 1012\\nvalue = 26740.944'),\n",
              " Text(52.84061304746, 94.22399999999999, 'furnishing <= 1.5\\nmse = 117715408.101\\nsamples = 987\\nvalue = 26369.64'),\n",
              " Text(51.0685880515003, 79.72799999999998, 'locality <= 158.0\\nmse = 159784617.387\\nsamples = 388\\nvalue = 28780.649'),\n",
              " Text(50.013489198944136, 65.232, 'locality <= 136.5\\nmse = 212051756.679\\nsamples = 172\\nvalue = 31182.256'),\n",
              " Text(49.52652049776437, 50.73599999999999, 'locality <= 58.5\\nmse = 151149984.546\\nsamples = 148\\nvalue = 27941.541'),\n",
              " Text(49.237946452620804, 36.23999999999998, 'locality <= 35.5\\nmse = 56168228.3\\nsamples = 58\\nvalue = 25006.897'),\n",
              " Text(49.09365943004902, 21.744, 'area <= 6.296\\nmse = 49844636.678\\nsamples = 51\\nvalue = 26164.706'),\n",
              " Text(49.02151591876313, 7.2479999999999905, 'mse = 45975446.429\\nsamples = 28\\nvalue = 23875.0'),\n",
              " Text(49.16580294133492, 7.2479999999999905, 'mse = 40402495.274\\nsamples = 23\\nvalue = 28952.174'),\n",
              " Text(49.382233475192585, 21.744, 'locality <= 49.5\\nmse = 21316326.531\\nsamples = 7\\nvalue = 16571.429'),\n",
              " Text(49.3100899639067, 7.2479999999999905, 'mse = 5660000.0\\nsamples = 5\\nvalue = 19200.0'),\n",
              " Text(49.45437698647848, 7.2479999999999905, 'mse = 0.0\\nsamples = 2\\nvalue = 10000.0'),\n",
              " Text(49.815094542907936, 36.23999999999998, 'locality <= 65.5\\nmse = 203233712.674\\nsamples = 90\\nvalue = 29832.756'),\n",
              " Text(49.670807520336155, 21.744, 'locality <= 63.5\\nmse = 273909722.222\\nsamples = 12\\nvalue = 49416.667'),\n",
              " Text(49.59866400905026, 7.2479999999999905, 'mse = 126000000.0\\nsamples = 3\\nvalue = 33000.0'),\n",
              " Text(49.74295103162204, 7.2479999999999905, 'mse = 203432098.765\\nsamples = 9\\nvalue = 54888.889'),\n",
              " Text(49.95938156547972, 21.744, 'locality <= 96.5\\nmse = 124278307.464\\nsamples = 78\\nvalue = 26819.846'),\n",
              " Text(49.88723805419383, 7.2479999999999905, 'mse = 53349348.998\\nsamples = 46\\nvalue = 24324.957'),\n",
              " Text(50.03152507676561, 7.2479999999999905, 'mse = 204428710.938\\nsamples = 32\\nvalue = 30406.25'),\n",
              " Text(50.500457900123905, 50.73599999999999, 'locality <= 142.5\\nmse = 123472222.222\\nsamples = 24\\nvalue = 51166.667'),\n",
              " Text(50.32009912190917, 36.23999999999998, 'area <= 6.372\\nmse = 36520833.333\\nsamples = 12\\nvalue = 60250.0'),\n",
              " Text(50.247955610623286, 21.744, 'area <= 6.21\\nmse = 16010000.0\\nsamples = 10\\nvalue = 58300.0'),\n",
              " Text(50.17581209933739, 7.2479999999999905, 'mse = 16000000.0\\nsamples = 2\\nvalue = 64000.0'),\n",
              " Text(50.32009912190917, 7.2479999999999905, 'mse = 5859375.0\\nsamples = 8\\nvalue = 56875.0'),\n",
              " Text(50.39224263319507, 21.744, 'mse = 25000000.0\\nsamples = 2\\nvalue = 70000.0'),\n",
              " Text(50.68081667833863, 36.23999999999998, 'area <= 6.341\\nmse = 45409722.222\\nsamples = 12\\nvalue = 42083.333'),\n",
              " Text(50.53652965576685, 21.744, 'locality <= 155.5\\nmse = 22760000.0\\nsamples = 10\\nvalue = 39800.0'),\n",
              " Text(50.464386144480954, 7.2479999999999905, 'mse = 2250000.0\\nsamples = 2\\nvalue = 33500.0'),\n",
              " Text(50.60867316705274, 7.2479999999999905, 'mse = 15484375.0\\nsamples = 8\\nvalue = 41375.0'),\n",
              " Text(50.82510370091041, 21.744, 'area <= 6.367\\nmse = 2250000.0\\nsamples = 2\\nvalue = 53500.0'),\n",
              " Text(50.752960189624524, 7.2479999999999905, 'mse = 0.0\\nsamples = 1\\nvalue = 55000.0'),\n",
              " Text(50.897247212196305, 7.2479999999999905, 'mse = 0.0\\nsamples = 1\\nvalue = 52000.0'),\n",
              " Text(52.123686904056456, 65.232, 'locality <= 393.5\\nmse = 109914443.109\\nsamples = 216\\nvalue = 26868.259'),\n",
              " Text(51.546538813769324, 50.73599999999999, 'locality <= 327.0\\nmse = 66398928.282\\nsamples = 164\\nvalue = 24728.933'),\n",
              " Text(51.25796476862576, 36.23999999999998, 'locality <= 300.5\\nmse = 77683468.803\\nsamples = 104\\nvalue = 26490.817'),\n",
              " Text(51.11367774605398, 21.744, 'locality <= 174.0\\nmse = 73316691.668\\nsamples = 97\\nvalue = 25747.887'),\n",
              " Text(51.041534234768086, 7.2479999999999905, 'mse = 10995291.322\\nsamples = 11\\nvalue = 18981.364'),\n",
              " Text(51.18582125733987, 7.2479999999999905, 'mse = 74682640.955\\nsamples = 86\\nvalue = 26613.372'),\n",
              " Text(51.40225179119754, 21.744, 'area <= 6.151\\nmse = 24561224.49\\nsamples = 7\\nvalue = 36785.714'),\n",
              " Text(51.330108279911656, 7.2479999999999905, 'mse = 0.0\\nsamples = 1\\nvalue = 27500.0'),\n",
              " Text(51.47439530248344, 7.2479999999999905, 'mse = 11888888.889\\nsamples = 6\\nvalue = 38333.333'),\n",
              " ...]"
            ]
          },
          "metadata": {
            "tags": []
          },
          "execution_count": 261
        },
        {
          "output_type": "display_data",
          "data": {
            "image/png": "[encoded data removed]",
            "text/plain": [
              "<Figure size 432x288 with 1 Axes>"
            ]
          },
          "metadata": {
            "tags": [],
            "needs_background": "light"
          }
        }
      ]
    },
    {
      "cell_type": "code",
      "metadata": {
        "colab": {
          "base_uri": "https://localhost:8080/",
          "height": 340
        },
        "id": "NdFuUbbkxRtu",
        "outputId": "64e53de0-10be-4941-ec66-63766f1009a8"
      },
      "source": [
        "df_dt = pd.DataFrame({'Target original':y_test1,\r\n",
        "                      'Target predicted':y_pred})\r\n",
        "df_dt.head(10)"
      ],
      "execution_count": 262,
      "outputs": [
        {
          "output_type": "execute_result",
          "data": {
            "text/html": [
              "<div>\n",
              "<style scoped>\n",
              "    .dataframe tbody tr th:only-of-type {\n",
              "        vertical-align: middle;\n",
              "    }\n",
              "\n",
              "    .dataframe tbody tr th {\n",
              "        vertical-align: top;\n",
              "    }\n",
              "\n",
              "    .dataframe thead th {\n",
              "        text-align: right;\n",
              "    }\n",
              "</style>\n",
              "<table border=\"1\" class=\"dataframe\">\n",
              "  <thead>\n",
              "    <tr style=\"text-align: right;\">\n",
              "      <th></th>\n",
              "      <th>Target original</th>\n",
              "      <th>Target predicted</th>\n",
              "    </tr>\n",
              "  </thead>\n",
              "  <tbody>\n",
              "    <tr>\n",
              "      <th>9336</th>\n",
              "      <td>39000</td>\n",
              "      <td>37714.285714</td>\n",
              "    </tr>\n",
              "    <tr>\n",
              "      <th>11016</th>\n",
              "      <td>55000</td>\n",
              "      <td>55904.761905</td>\n",
              "    </tr>\n",
              "    <tr>\n",
              "      <th>11481</th>\n",
              "      <td>65000</td>\n",
              "      <td>55000.000000</td>\n",
              "    </tr>\n",
              "    <tr>\n",
              "      <th>6840</th>\n",
              "      <td>26000</td>\n",
              "      <td>24324.956522</td>\n",
              "    </tr>\n",
              "    <tr>\n",
              "      <th>27456</th>\n",
              "      <td>55000</td>\n",
              "      <td>75000.000000</td>\n",
              "    </tr>\n",
              "    <tr>\n",
              "      <th>24530</th>\n",
              "      <td>120000</td>\n",
              "      <td>93333.333333</td>\n",
              "    </tr>\n",
              "    <tr>\n",
              "      <th>23090</th>\n",
              "      <td>83000</td>\n",
              "      <td>55361.975460</td>\n",
              "    </tr>\n",
              "    <tr>\n",
              "      <th>22702</th>\n",
              "      <td>70000</td>\n",
              "      <td>62998.148148</td>\n",
              "    </tr>\n",
              "    <tr>\n",
              "      <th>10271</th>\n",
              "      <td>45000</td>\n",
              "      <td>36500.000000</td>\n",
              "    </tr>\n",
              "    <tr>\n",
              "      <th>20604</th>\n",
              "      <td>55000</td>\n",
              "      <td>52500.000000</td>\n",
              "    </tr>\n",
              "  </tbody>\n",
              "</table>\n",
              "</div>"
            ],
            "text/plain": [
              "       Target original  Target predicted\n",
              "9336             39000      37714.285714\n",
              "11016            55000      55904.761905\n",
              "11481            65000      55000.000000\n",
              "6840             26000      24324.956522\n",
              "27456            55000      75000.000000\n",
              "24530           120000      93333.333333\n",
              "23090            83000      55361.975460\n",
              "22702            70000      62998.148148\n",
              "10271            45000      36500.000000\n",
              "20604            55000      52500.000000"
            ]
          },
          "metadata": {
            "tags": []
          },
          "execution_count": 262
        }
      ]
    },
    {
      "cell_type": "code",
      "metadata": {
        "colab": {
          "base_uri": "https://localhost:8080/",
          "height": 194
        },
        "id": "pGA6jz9Y8eUh",
        "outputId": "4e111d97-58de-4ca0-e8f4-26d00fd9e489"
      },
      "source": [
        "df_new.head()"
      ],
      "execution_count": 263,
      "outputs": [
        {
          "output_type": "execute_result",
          "data": {
            "text/html": [
              "<div>\n",
              "<style scoped>\n",
              "    .dataframe tbody tr th:only-of-type {\n",
              "        vertical-align: middle;\n",
              "    }\n",
              "\n",
              "    .dataframe tbody tr th {\n",
              "        vertical-align: top;\n",
              "    }\n",
              "\n",
              "    .dataframe thead th {\n",
              "        text-align: right;\n",
              "    }\n",
              "</style>\n",
              "<table border=\"1\" class=\"dataframe\">\n",
              "  <thead>\n",
              "    <tr style=\"text-align: right;\">\n",
              "      <th></th>\n",
              "      <th>area</th>\n",
              "      <th>bathroom_num</th>\n",
              "      <th>bedroom_num</th>\n",
              "      <th>furnishing</th>\n",
              "      <th>locality</th>\n",
              "      <th>price</th>\n",
              "    </tr>\n",
              "  </thead>\n",
              "  <tbody>\n",
              "    <tr>\n",
              "      <th>0</th>\n",
              "      <td>5.857933</td>\n",
              "      <td>1.414214</td>\n",
              "      <td>1</td>\n",
              "      <td>2</td>\n",
              "      <td>425</td>\n",
              "      <td>9000</td>\n",
              "    </tr>\n",
              "    <tr>\n",
              "      <th>1</th>\n",
              "      <td>6.480045</td>\n",
              "      <td>1.414214</td>\n",
              "      <td>1</td>\n",
              "      <td>1</td>\n",
              "      <td>727</td>\n",
              "      <td>8060</td>\n",
              "    </tr>\n",
              "    <tr>\n",
              "      <th>2</th>\n",
              "      <td>6.453625</td>\n",
              "      <td>1.414214</td>\n",
              "      <td>1</td>\n",
              "      <td>1</td>\n",
              "      <td>753</td>\n",
              "      <td>8000</td>\n",
              "    </tr>\n",
              "    <tr>\n",
              "      <th>3</th>\n",
              "      <td>6.291569</td>\n",
              "      <td>1.414214</td>\n",
              "      <td>1</td>\n",
              "      <td>1</td>\n",
              "      <td>728</td>\n",
              "      <td>8000</td>\n",
              "    </tr>\n",
              "    <tr>\n",
              "      <th>4</th>\n",
              "      <td>6.437752</td>\n",
              "      <td>1.000000</td>\n",
              "      <td>1</td>\n",
              "      <td>0</td>\n",
              "      <td>487</td>\n",
              "      <td>9000</td>\n",
              "    </tr>\n",
              "  </tbody>\n",
              "</table>\n",
              "</div>"
            ],
            "text/plain": [
              "       area  bathroom_num  bedroom_num  furnishing  locality  price\n",
              "0  5.857933      1.414214            1           2       425   9000\n",
              "1  6.480045      1.414214            1           1       727   8060\n",
              "2  6.453625      1.414214            1           1       753   8000\n",
              "3  6.291569      1.414214            1           1       728   8000\n",
              "4  6.437752      1.000000            1           0       487   9000"
            ]
          },
          "metadata": {
            "tags": []
          },
          "execution_count": 263
        }
      ]
    },
    {
      "cell_type": "code",
      "metadata": {
        "colab": {
          "base_uri": "https://localhost:8080/"
        },
        "id": "5SNwQ3YJ8sIw",
        "outputId": "9f82198f-b1b1-4075-a153-6f948962f250"
      },
      "source": [
        "df_dt_ip = pd.DataFrame({'Area_of_flat':input(\"Enter the area of the flat : \"),\r\n",
        "                         'Bedroom_num' : input(\"Enter the number of bedrooms : \"),\r\n",
        "                         'Bathroom_num' : input(\"Enter the number of bathrooms : \"),\r\n",
        "                         'Furnishing' : input(\"Enter the type of furnishing : \"),\r\n",
        "                         'Locality' : input(\"Enter the locality code : \")# 0 : Unfurnished, 1 : Semi-furnished, 2 : Furnished\r\n",
        "                         }, index=range(1))"
      ],
      "execution_count": 264,
      "outputs": [
        {
          "output_type": "stream",
          "text": [
            "Enter the area of the flat : 1250\n",
            "Enter the number of bedrooms : 2\n",
            "Enter the number of bathrooms : 2\n",
            "Enter the type of furnishing : 1\n",
            "Enter the locality code : 487\n"
          ],
          "name": "stdout"
        }
      ]
    },
    {
      "cell_type": "code",
      "metadata": {
        "colab": {
          "base_uri": "https://localhost:8080/"
        },
        "id": "ruUkATYXxRqa",
        "outputId": "75bffb4b-a469-4d01-b8ea-dc92b4ba8d8b"
      },
      "source": [
        "dt.predict(df_dt_ip)\r\n",
        "# This shall be our final model since it is giving us the most accurate prediction. "
      ],
      "execution_count": 274,
      "outputs": [
        {
          "output_type": "execute_result",
          "data": {
            "text/plain": [
              "array([80000.])"
            ]
          },
          "metadata": {
            "tags": []
          },
          "execution_count": 274
        }
      ]
    },
    {
      "cell_type": "markdown",
      "metadata": {
        "id": "Ztm_-t8m8iXn"
      },
      "source": [
        "**Support Vector Regressor (SVR)**"
      ]
    },
    {
      "cell_type": "code",
      "metadata": {
        "colab": {
          "base_uri": "https://localhost:8080/"
        },
        "id": "1KXW-RLvlKXi",
        "outputId": "2a280c0c-f829-4933-fdfe-61ad5678315f"
      },
      "source": [
        "svr = LinearSVR()  #Kernel - Linear, Hard margin\r\n",
        "svr.fit(x_train1, y_train1)\r\n",
        "print(\"SVR Linear :\", svr.score(x_test1, y_test1))"
      ],
      "execution_count": 266,
      "outputs": [
        {
          "output_type": "stream",
          "text": [
            "SVR Linear : 0.2546182192022345\n"
          ],
          "name": "stdout"
        }
      ]
    },
    {
      "cell_type": "code",
      "metadata": {
        "colab": {
          "base_uri": "https://localhost:8080/"
        },
        "id": "G5o3KVN_8B3k",
        "outputId": "aa45ccab-35e7-4384-cca1-a2c05ad34e34"
      },
      "source": [
        "svr = SVR(kernel='poly', degree=3, C=5)  #Kernel - Poly  degree = 3, Soft margin = C\r\n",
        "svr.fit(x_train1, y_train1)\r\n",
        "print(\"SVR Polynomial(3) :\", svr.score(x_test1, y_test1))"
      ],
      "execution_count": 267,
      "outputs": [
        {
          "output_type": "stream",
          "text": [
            "SVR Polynomial(3) : -0.05690242211422003\n"
          ],
          "name": "stdout"
        }
      ]
    },
    {
      "cell_type": "code",
      "metadata": {
        "colab": {
          "base_uri": "https://localhost:8080/"
        },
        "id": "_3YheqcX8WSm",
        "outputId": "94bda0f4-a86f-4ee6-8540-465498714d6f"
      },
      "source": [
        "svr = SVR(kernel='poly', degree=2, C=3)  #Kernel - Poly  degree = 2, Soft margin = C\r\n",
        "svr.fit(x_train1, y_train1)\r\n",
        "print(\"SVR Polynomial(3) :\", svr.score(x_test1, y_test1))"
      ],
      "execution_count": 268,
      "outputs": [
        {
          "output_type": "stream",
          "text": [
            "SVR Polynomial(3) : -0.05658103408353754\n"
          ],
          "name": "stdout"
        }
      ]
    },
    {
      "cell_type": "code",
      "metadata": {
        "colab": {
          "base_uri": "https://localhost:8080/"
        },
        "id": "UnfY7_758HXt",
        "outputId": "433c7c8e-f860-4b6c-f4b6-a8458d2bcd15"
      },
      "source": [
        "svr = SVR(kernel='rbf', C=6)  #Kernel - Radial, Soft margin\r\n",
        "svr.fit(x_train1, y_train1)\r\n",
        "print(\"SVR Radial :\", svr.score(x_test1, y_test1))"
      ],
      "execution_count": 269,
      "outputs": [
        {
          "output_type": "stream",
          "text": [
            "SVR Radial : -0.05052247657744946\n"
          ],
          "name": "stdout"
        }
      ]
    }
  ]
}